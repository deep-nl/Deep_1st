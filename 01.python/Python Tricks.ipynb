{
 "cells": [
  {
   "cell_type": "markdown",
   "metadata": {},
   "source": [
    "# 10 TRICKS"
   ]
  },
  {
   "cell_type": "code",
   "execution_count": 6,
   "metadata": {
    "execution": {
     "iopub.execute_input": "2020-06-10T05:57:16.921019Z",
     "iopub.status.busy": "2020-06-10T05:57:16.921019Z",
     "iopub.status.idle": "2020-06-10T05:57:16.935849Z",
     "shell.execute_reply": "2020-06-10T05:57:16.933094Z",
     "shell.execute_reply.started": "2020-06-10T05:57:16.921019Z"
    }
   },
   "outputs": [],
   "source": [
    "import this   #Python之禅"
   ]
  },
  {
   "cell_type": "markdown",
   "metadata": {},
   "source": [
    "### 1.SWAP  变量互换"
   ]
  },
  {
   "cell_type": "code",
   "execution_count": 8,
   "metadata": {
    "execution": {
     "iopub.execute_input": "2020-06-10T06:00:45.011122Z",
     "iopub.status.busy": "2020-06-10T06:00:45.010123Z",
     "iopub.status.idle": "2020-06-10T06:00:45.022146Z",
     "shell.execute_reply": "2020-06-10T06:00:45.019645Z",
     "shell.execute_reply.started": "2020-06-10T06:00:45.010123Z"
    }
   },
   "outputs": [
    {
     "name": "stdout",
     "output_type": "stream",
     "text": [
      "2 1\n"
     ]
    }
   ],
   "source": [
    "a=1\n",
    "b=2\n",
    "a,b=b,a\n",
    "print(a,b)"
   ]
  },
  {
   "cell_type": "code",
   "execution_count": 10,
   "metadata": {
    "execution": {
     "iopub.execute_input": "2020-06-10T06:02:47.368185Z",
     "iopub.status.busy": "2020-06-10T06:02:47.368185Z",
     "iopub.status.idle": "2020-06-10T06:02:47.381004Z",
     "shell.execute_reply": "2020-06-10T06:02:47.379008Z",
     "shell.execute_reply.started": "2020-06-10T06:02:47.368185Z"
    }
   },
   "outputs": [
    {
     "name": "stdout",
     "output_type": "stream",
     "text": [
      "a=2,b=1\n"
     ]
    }
   ],
   "source": [
    "print('a=%d,b=%d'%(a,b))   #写法一"
   ]
  },
  {
   "cell_type": "code",
   "execution_count": 11,
   "metadata": {
    "execution": {
     "iopub.execute_input": "2020-06-10T06:04:46.877236Z",
     "iopub.status.busy": "2020-06-10T06:04:46.876238Z",
     "iopub.status.idle": "2020-06-10T06:04:46.890141Z",
     "shell.execute_reply": "2020-06-10T06:04:46.888139Z",
     "shell.execute_reply.started": "2020-06-10T06:04:46.877236Z"
    }
   },
   "outputs": [
    {
     "name": "stdout",
     "output_type": "stream",
     "text": [
      "a=2,b=1\n"
     ]
    }
   ],
   "source": [
    "print('a={},b={}'.format(a,b))  #写法二，利用format"
   ]
  },
  {
   "cell_type": "code",
   "execution_count": 17,
   "metadata": {
    "execution": {
     "iopub.execute_input": "2020-06-10T06:10:57.018756Z",
     "iopub.status.busy": "2020-06-10T06:10:57.017512Z",
     "iopub.status.idle": "2020-06-10T06:10:57.034132Z",
     "shell.execute_reply": "2020-06-10T06:10:57.032081Z",
     "shell.execute_reply.started": "2020-06-10T06:10:57.018756Z"
    }
   },
   "outputs": [
    {
     "name": "stdout",
     "output_type": "stream",
     "text": [
      "a:2,a=2,b:1,b=1\n",
      "-----------------------------------\n"
     ]
    }
   ],
   "source": [
    "print('a:{0},a={0},b:{1},b={1}'.format(a,b))   #format的好处，是可以重复输入\n",
    "print('-----------------------------------')"
   ]
  },
  {
   "cell_type": "code",
   "execution_count": 24,
   "metadata": {
    "execution": {
     "iopub.execute_input": "2020-06-10T06:32:06.726608Z",
     "iopub.status.busy": "2020-06-10T06:32:06.726608Z",
     "iopub.status.idle": "2020-06-10T06:32:06.754179Z",
     "shell.execute_reply": "2020-06-10T06:32:06.754179Z",
     "shell.execute_reply.started": "2020-06-10T06:32:06.726608Z"
    }
   },
   "outputs": [
    {
     "ename": "SyntaxError",
     "evalue": "unexpected EOF while parsing (<fstring>, line 1)",
     "output_type": "error",
     "traceback": [
      "\u001b[1;36m  File \u001b[1;32m\"<fstring>\"\u001b[1;36m, line \u001b[1;32m1\u001b[0m\n\u001b[1;33m    (lambda a,b )\u001b[0m\n\u001b[1;37m                ^\u001b[0m\n\u001b[1;31mSyntaxError\u001b[0m\u001b[1;31m:\u001b[0m unexpected EOF while parsing\n"
     ]
    }
   ],
   "source": [
    "print(f'a:{a},a={a+1},b:{b},b={b+1}')     #写法三，fstring的用法，必须是3.63以上的版本；\n",
    "print(f'a:{lambda a:a*2}')                #注意花括号里面的是表达式，甚至可以换成函数，使用lambda表达式"
   ]
  },
  {
   "cell_type": "markdown",
   "metadata": {},
   "source": [
    "### 2.yield函数"
   ]
  },
  {
   "cell_type": "code",
   "execution_count": 25,
   "metadata": {
    "execution": {
     "iopub.execute_input": "2020-06-10T06:37:43.930113Z",
     "iopub.status.busy": "2020-06-10T06:37:43.930113Z",
     "iopub.status.idle": "2020-06-10T06:37:43.935079Z",
     "shell.execute_reply": "2020-06-10T06:37:43.935079Z",
     "shell.execute_reply.started": "2020-06-10T06:37:43.930113Z"
    }
   },
   "outputs": [],
   "source": [
    "def fibonacci(n):\n",
    "    a=0\n",
    "    b=1\n",
    "    num=[]\n",
    "    for _ in range(n):     #     _为占位符 表示不在意变量的值 只是用于循环遍历n次，无法打印变量值。\n",
    "        num.append(a)\n",
    "        a,b=b,a+b\n",
    "    return num"
   ]
  },
  {
   "cell_type": "code",
   "execution_count": 30,
   "metadata": {
    "execution": {
     "iopub.execute_input": "2020-06-10T07:02:49.642778Z",
     "iopub.status.busy": "2020-06-10T07:02:49.641782Z",
     "iopub.status.idle": "2020-06-10T07:02:49.648802Z",
     "shell.execute_reply": "2020-06-10T07:02:49.648802Z",
     "shell.execute_reply.started": "2020-06-10T07:02:49.642778Z"
    }
   },
   "outputs": [
    {
     "name": "stdout",
     "output_type": "stream",
     "text": [
      "0\t1\t1\t2\t3\t\n",
      "5\t8\t13\t21\t34\t\n"
     ]
    }
   ],
   "source": [
    "count=0\n",
    "for i in fibonacci(10):\n",
    "    print(i,end='\\t')\n",
    "    count+=1\n",
    "    if count%5==0:\n",
    "        print(end='\\n')"
   ]
  },
  {
   "cell_type": "code",
   "execution_count": 32,
   "metadata": {
    "execution": {
     "iopub.execute_input": "2020-06-10T07:31:41.197021Z",
     "iopub.status.busy": "2020-06-10T07:31:41.196024Z",
     "iopub.status.idle": "2020-06-10T07:31:41.207990Z",
     "shell.execute_reply": "2020-06-10T07:31:41.207990Z",
     "shell.execute_reply.started": "2020-06-10T07:31:41.197021Z"
    }
   },
   "outputs": [
    {
     "data": {
      "text/plain": [
       "[0, 1, 1, 2, 3, 5, 8, 13, 21, 34]"
      ]
     },
     "execution_count": 32,
     "metadata": {},
     "output_type": "execute_result"
    }
   ],
   "source": [
    "def fibonacci_1(n):\n",
    "    a=0\n",
    "    b=1\n",
    "    num=[]\n",
    "    for _ in range(n):     # _为占位符 表示不在意变量的值 只是用于循环遍历n次，无法打印变量值。\n",
    "        yield a            # yield的意义在哪里，每计算出一个元素，就将该元素给送给出去\n",
    "        a,b=b,a+b\n",
    "fibonacci(10)\n",
    "#yield的好处在于我们没必要等所有列表的元素都生成后再去循环"
   ]
  },
  {
   "cell_type": "markdown",
   "metadata": {},
   "source": [
    "### 3.列表解析式  List Comprehension"
   ]
  },
  {
   "cell_type": "code",
   "execution_count": 35,
   "metadata": {
    "execution": {
     "iopub.execute_input": "2020-06-10T08:00:50.396811Z",
     "iopub.status.busy": "2020-06-10T08:00:50.396811Z",
     "iopub.status.idle": "2020-06-10T08:00:50.401800Z",
     "shell.execute_reply": "2020-06-10T08:00:50.400801Z",
     "shell.execute_reply.started": "2020-06-10T08:00:50.396811Z"
    }
   },
   "outputs": [],
   "source": [
    "fruit=['apple','orange','banana','pear']\n",
    "#将水果的名字都改成大写"
   ]
  },
  {
   "cell_type": "code",
   "execution_count": 36,
   "metadata": {
    "execution": {
     "iopub.execute_input": "2020-06-10T08:00:51.047165Z",
     "iopub.status.busy": "2020-06-10T08:00:51.046167Z",
     "iopub.status.idle": "2020-06-10T08:00:51.055114Z",
     "shell.execute_reply": "2020-06-10T08:00:51.054118Z",
     "shell.execute_reply.started": "2020-06-10T08:00:51.047165Z"
    }
   },
   "outputs": [
    {
     "data": {
      "text/plain": [
       "['APPLE', 'ORANGE', 'BANANA', 'PEAR']"
      ]
     },
     "execution_count": 36,
     "metadata": {},
     "output_type": "execute_result"
    }
   ],
   "source": [
    "#Method 1\n",
    "for i in range(len(fruit)):\n",
    "    fruit[i]=fruit[i].upper()\n",
    "fruit"
   ]
  },
  {
   "cell_type": "code",
   "execution_count": 37,
   "metadata": {
    "execution": {
     "iopub.execute_input": "2020-06-10T08:02:10.190228Z",
     "iopub.status.busy": "2020-06-10T08:02:10.190228Z",
     "iopub.status.idle": "2020-06-10T08:02:10.198717Z",
     "shell.execute_reply": "2020-06-10T08:02:10.197209Z",
     "shell.execute_reply.started": "2020-06-10T08:02:10.190228Z"
    }
   },
   "outputs": [
    {
     "data": {
      "text/plain": [
       "['APPLE', 'ORANGE', 'BANANA', 'PEAR']"
      ]
     },
     "execution_count": 37,
     "metadata": {},
     "output_type": "execute_result"
    }
   ],
   "source": [
    "#methon 2\n",
    "fruit=[x.upper() for x in fruit]\n",
    "fruit"
   ]
  },
  {
   "cell_type": "code",
   "execution_count": 40,
   "metadata": {
    "execution": {
     "iopub.execute_input": "2020-06-10T08:10:20.211959Z",
     "iopub.status.busy": "2020-06-10T08:10:20.211959Z",
     "iopub.status.idle": "2020-06-10T08:10:20.217943Z",
     "shell.execute_reply": "2020-06-10T08:10:20.217943Z",
     "shell.execute_reply.started": "2020-06-10T08:10:20.211959Z"
    }
   },
   "outputs": [
    {
     "data": {
      "text/plain": [
       "['apple']"
      ]
     },
     "execution_count": 40,
     "metadata": {},
     "output_type": "execute_result"
    }
   ],
   "source": [
    "fruit=['apple','orange','banana','pear']\n",
    "#挑选出以a开头的水果\n",
    "#method 1\n",
    "fruit_filter=[]\n",
    "for f in fruit:\n",
    "    if f.startswith('a'):\n",
    "        fruit_filter.append(f)\n",
    "fruit_filter"
   ]
  },
  {
   "cell_type": "code",
   "execution_count": 42,
   "metadata": {
    "execution": {
     "iopub.execute_input": "2020-06-10T08:13:22.334456Z",
     "iopub.status.busy": "2020-06-10T08:13:22.333426Z",
     "iopub.status.idle": "2020-06-10T08:13:22.340407Z",
     "shell.execute_reply": "2020-06-10T08:13:22.340407Z",
     "shell.execute_reply.started": "2020-06-10T08:13:22.334456Z"
    }
   },
   "outputs": [
    {
     "data": {
      "text/plain": [
       "['orange']"
      ]
     },
     "execution_count": 42,
     "metadata": {},
     "output_type": "execute_result"
    }
   ],
   "source": [
    "#method 2\n",
    "fruit=['apple','orange','banana','pear']\n",
    "fruit_filter_1=[x for x in fruit if x.startswith('o')]\n",
    "fruit_filter_1"
   ]
  },
  {
   "cell_type": "markdown",
   "metadata": {},
   "source": [
    "### 4.三元运算符  Ternary Operator"
   ]
  },
  {
   "cell_type": "code",
   "execution_count": 43,
   "metadata": {
    "execution": {
     "iopub.execute_input": "2020-06-10T08:17:56.866724Z",
     "iopub.status.busy": "2020-06-10T08:17:56.865729Z",
     "iopub.status.idle": "2020-06-10T08:17:56.874703Z",
     "shell.execute_reply": "2020-06-10T08:17:56.873463Z",
     "shell.execute_reply.started": "2020-06-10T08:17:56.866724Z"
    }
   },
   "outputs": [],
   "source": [
    "def k(score):\n",
    "    if score>60:\n",
    "        s='pass'\n",
    "    else:\n",
    "        s='fail'\n",
    "    return s"
   ]
  },
  {
   "cell_type": "code",
   "execution_count": 44,
   "metadata": {
    "execution": {
     "iopub.execute_input": "2020-06-10T08:18:10.920931Z",
     "iopub.status.busy": "2020-06-10T08:18:10.920931Z",
     "iopub.status.idle": "2020-06-10T08:18:10.926915Z",
     "shell.execute_reply": "2020-06-10T08:18:10.925917Z",
     "shell.execute_reply.started": "2020-06-10T08:18:10.920931Z"
    }
   },
   "outputs": [
    {
     "name": "stdout",
     "output_type": "stream",
     "text": [
      "pass\n"
     ]
    }
   ],
   "source": [
    "print(k(70))"
   ]
  },
  {
   "cell_type": "code",
   "execution_count": 49,
   "metadata": {
    "execution": {
     "iopub.execute_input": "2020-06-10T08:26:24.802532Z",
     "iopub.status.busy": "2020-06-10T08:26:24.801535Z",
     "iopub.status.idle": "2020-06-10T08:26:24.809062Z",
     "shell.execute_reply": "2020-06-10T08:26:24.808552Z",
     "shell.execute_reply.started": "2020-06-10T08:26:24.802532Z"
    }
   },
   "outputs": [
    {
     "data": {
      "text/plain": [
       "'fail'"
      ]
     },
     "execution_count": 49,
     "metadata": {},
     "output_type": "execute_result"
    }
   ],
   "source": [
    "#利用三目运算符改写\n",
    "score=56\n",
    "s='pass' if score>60 else 'fail'\n",
    "s"
   ]
  },
  {
   "cell_type": "markdown",
   "metadata": {},
   "source": [
    "### 5.序列解包 Sequence Unpacking"
   ]
  },
  {
   "cell_type": "code",
   "execution_count": 51,
   "metadata": {
    "execution": {
     "iopub.execute_input": "2020-06-10T08:29:29.646620Z",
     "iopub.status.busy": "2020-06-10T08:29:29.645621Z",
     "iopub.status.idle": "2020-06-10T08:29:29.651607Z",
     "shell.execute_reply": "2020-06-10T08:29:29.650673Z",
     "shell.execute_reply.started": "2020-06-10T08:29:29.646620Z"
    }
   },
   "outputs": [],
   "source": [
    "name_1='Ni Lei'\n",
    "name_2='Chen YuMing'\n",
    "#分离出名和姓"
   ]
  },
  {
   "cell_type": "code",
   "execution_count": 53,
   "metadata": {
    "execution": {
     "iopub.execute_input": "2020-06-10T08:30:56.023875Z",
     "iopub.status.busy": "2020-06-10T08:30:56.023875Z",
     "iopub.status.idle": "2020-06-10T08:30:56.027865Z",
     "shell.execute_reply": "2020-06-10T08:30:56.027561Z",
     "shell.execute_reply.started": "2020-06-10T08:30:56.023875Z"
    }
   },
   "outputs": [
    {
     "name": "stdout",
     "output_type": "stream",
     "text": [
      "姓：Ni\n"
     ]
    }
   ],
   "source": [
    "str_split=name_1.split()\n",
    "print('姓：'+str_split[0])\n"
   ]
  },
  {
   "cell_type": "code",
   "execution_count": 54,
   "metadata": {
    "execution": {
     "iopub.execute_input": "2020-06-10T08:31:53.934990Z",
     "iopub.status.busy": "2020-06-10T08:31:53.933990Z",
     "iopub.status.idle": "2020-06-10T08:31:53.941967Z",
     "shell.execute_reply": "2020-06-10T08:31:53.941022Z",
     "shell.execute_reply.started": "2020-06-10T08:31:53.934990Z"
    }
   },
   "outputs": [
    {
     "name": "stdout",
     "output_type": "stream",
     "text": [
      "Chen\n"
     ]
    }
   ],
   "source": [
    "#利用序列解包\n",
    "first_name,last_name=name_2.split()\n",
    "print(first_name)"
   ]
  },
  {
   "cell_type": "markdown",
   "metadata": {},
   "source": [
    "### 6.with语句"
   ]
  },
  {
   "cell_type": "code",
   "execution_count": 55,
   "metadata": {
    "execution": {
     "iopub.execute_input": "2020-06-10T08:35:08.344901Z",
     "iopub.status.busy": "2020-06-10T08:35:08.344901Z",
     "iopub.status.idle": "2020-06-10T08:35:08.357461Z",
     "shell.execute_reply": "2020-06-10T08:35:08.354875Z",
     "shell.execute_reply.started": "2020-06-10T08:35:08.344901Z"
    }
   },
   "outputs": [
    {
     "ename": "FileNotFoundError",
     "evalue": "[Errno 2] No such file or directory: 'D:/example.txt'",
     "output_type": "error",
     "traceback": [
      "\u001b[1;31m---------------------------------------------------------------------------\u001b[0m",
      "\u001b[1;31mFileNotFoundError\u001b[0m                         Traceback (most recent call last)",
      "\u001b[1;32m<ipython-input-55-497c08c36054>\u001b[0m in \u001b[0;36m<module>\u001b[1;34m\u001b[0m\n\u001b[1;32m----> 1\u001b[1;33m \u001b[1;32mwith\u001b[0m \u001b[0mopen\u001b[0m\u001b[1;33m(\u001b[0m\u001b[1;34m'D:/example.txt'\u001b[0m\u001b[1;33m,\u001b[0m\u001b[1;34m'r'\u001b[0m\u001b[1;33m)\u001b[0m \u001b[1;32mas\u001b[0m \u001b[0mf\u001b[0m\u001b[1;33m:\u001b[0m\u001b[1;33m\u001b[0m\u001b[1;33m\u001b[0m\u001b[0m\n\u001b[0m\u001b[0;32m      2\u001b[0m     \u001b[0mf\u001b[0m\u001b[1;33m.\u001b[0m\u001b[0mread\u001b[0m\u001b[1;33m(\u001b[0m\u001b[1;33m)\u001b[0m\u001b[1;33m\u001b[0m\u001b[1;33m\u001b[0m\u001b[0m\n",
      "\u001b[1;31mFileNotFoundError\u001b[0m: [Errno 2] No such file or directory: 'D:/example.txt'"
     ]
    }
   ],
   "source": [
    "with open('D:/example.txt','r') as f:\n",
    "    f.read()"
   ]
  },
  {
   "cell_type": "markdown",
   "metadata": {},
   "source": [
    "### 7.os.path的骚操作"
   ]
  },
  {
   "cell_type": "code",
   "execution_count": 1,
   "metadata": {
    "execution": {
     "iopub.execute_input": "2020-06-15T07:59:37.728459Z",
     "iopub.status.busy": "2020-06-15T07:59:37.728459Z",
     "iopub.status.idle": "2020-06-15T07:59:37.737409Z",
     "shell.execute_reply": "2020-06-15T07:59:37.736499Z",
     "shell.execute_reply.started": "2020-06-15T07:59:37.728459Z"
    }
   },
   "outputs": [
    {
     "name": "stdout",
     "output_type": "stream",
     "text": [
      "D:\\Deep\\Deep_1st\\01.python\n",
      "D:\\Deep\\Deep_1st\n"
     ]
    }
   ],
   "source": [
    "import os\n",
    "print(os.path.abspath('.'))  #获取当前程序运行的绝对路径\n",
    "print(os.path.abspath(r'..'))  #获取上级目录的绝对路径"
   ]
  },
  {
   "cell_type": "code",
   "execution_count": 2,
   "metadata": {
    "execution": {
     "iopub.execute_input": "2020-06-15T08:01:13.336633Z",
     "iopub.status.busy": "2020-06-15T08:01:13.335617Z",
     "iopub.status.idle": "2020-06-15T08:01:13.340622Z",
     "shell.execute_reply": "2020-06-15T08:01:13.340351Z",
     "shell.execute_reply.started": "2020-06-15T08:01:13.336633Z"
    }
   },
   "outputs": [
    {
     "name": "stdout",
     "output_type": "stream",
     "text": [
      "D:\\Deep\\Deep_1st\n"
     ]
    }
   ],
   "source": [
    "a=os.path.dirname(os.path.abspath('.')) #去掉文件名，返回目录路径，效果和上一个相同\n",
    "print(a)"
   ]
  },
  {
   "cell_type": "code",
   "execution_count": null,
   "metadata": {},
   "outputs": [],
   "source": [
    "#os.path.join(path1[,path2[,...]]) 将分离的各部分组合成一个路径名\n"
   ]
  }
 ],
 "metadata": {
  "kernelspec": {
   "display_name": "Python 3",
   "language": "python",
   "name": "python3"
  },
  "language_info": {
   "codemirror_mode": {
    "name": "ipython",
    "version": 3
   },
   "file_extension": ".py",
   "mimetype": "text/x-python",
   "name": "python",
   "nbconvert_exporter": "python",
   "pygments_lexer": "ipython3",
   "version": "3.7.7"
  }
 },
 "nbformat": 4,
 "nbformat_minor": 4
}
