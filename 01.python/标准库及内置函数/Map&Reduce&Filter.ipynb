{
 "cells": [
  {
   "cell_type": "markdown",
   "metadata": {},
   "source": [
    "# Map && Reuce && Filter"
   ]
  },
  {
   "cell_type": "markdown",
   "metadata": {},
   "source": [
    "## 1.Map"
   ]
  },
  {
   "cell_type": "markdown",
   "metadata": {},
   "source": [
    "#### map函数特点：对可迭代对象中的每个元素进行相同的操作（例如每个元素+1等等）"
   ]
  },
  {
   "cell_type": "code",
   "execution_count": 1,
   "metadata": {
    "ExecuteTime": {
     "end_time": "2020-07-14T07:10:36.552323Z",
     "start_time": "2020-07-14T07:10:36.549979Z"
    },
    "execution": {
     "iopub.execute_input": "2020-06-10T11:24:54.751483Z",
     "iopub.status.busy": "2020-06-10T11:24:54.751483Z",
     "iopub.status.idle": "2020-06-10T11:24:54.756495Z",
     "shell.execute_reply": "2020-06-10T11:24:54.755796Z",
     "shell.execute_reply.started": "2020-06-10T11:24:54.751483Z"
    }
   },
   "outputs": [],
   "source": [
    "#对列表的各个元素实现加一功能\n",
    "li=[1,2,3]\n",
    "#定义一个加一函数\n",
    "def func1(x):\n",
    "    return x+1"
   ]
  },
  {
   "cell_type": "code",
   "execution_count": 2,
   "metadata": {
    "ExecuteTime": {
     "end_time": "2020-07-14T07:10:36.556570Z",
     "start_time": "2020-07-14T07:10:36.554232Z"
    },
    "execution": {
     "iopub.execute_input": "2020-06-10T11:24:55.892310Z",
     "iopub.status.busy": "2020-06-10T11:24:55.891340Z",
     "iopub.status.idle": "2020-06-10T11:24:55.899263Z",
     "shell.execute_reply": "2020-06-10T11:24:55.898294Z",
     "shell.execute_reply.started": "2020-06-10T11:24:55.892310Z"
    }
   },
   "outputs": [
    {
     "name": "stdout",
     "output_type": "stream",
     "text": [
      "[2, 3, 4]\n"
     ]
    }
   ],
   "source": [
    "#第一种map函数使用方式---lambda\n",
    "res1=map(lambda x:x+1,li)\n",
    "print(list(res1))"
   ]
  },
  {
   "cell_type": "code",
   "execution_count": 3,
   "metadata": {
    "ExecuteTime": {
     "end_time": "2020-07-14T07:10:36.561315Z",
     "start_time": "2020-07-14T07:10:36.558810Z"
    },
    "execution": {
     "iopub.execute_input": "2020-06-10T11:25:07.994215Z",
     "iopub.status.busy": "2020-06-10T11:25:07.994215Z",
     "iopub.status.idle": "2020-06-10T11:25:07.998204Z",
     "shell.execute_reply": "2020-06-10T11:25:07.997929Z",
     "shell.execute_reply.started": "2020-06-10T11:25:07.994215Z"
    }
   },
   "outputs": [
    {
     "name": "stdout",
     "output_type": "stream",
     "text": [
      "[2, 3, 4]\n"
     ]
    }
   ],
   "source": [
    "#第二种map函数使用方式---普通函数\n",
    "res2=map(func1,li)\n",
    "print(list(res2))\n",
    "#map函数两种实现方式"
   ]
  },
  {
   "cell_type": "markdown",
   "metadata": {},
   "source": [
    "## 2.Reduce"
   ]
  },
  {
   "cell_type": "markdown",
   "metadata": {},
   "source": [
    "#### reduce函数特点：从左到右对一个序列的项累计地应用有两个参数的函数，以此合并序列到一个单一值。（例如累加或累乘列表元素等等）"
   ]
  },
  {
   "cell_type": "code",
   "execution_count": 4,
   "metadata": {
    "ExecuteTime": {
     "end_time": "2020-07-14T07:10:36.565972Z",
     "start_time": "2020-07-14T07:10:36.563027Z"
    },
    "execution": {
     "iopub.execute_input": "2020-06-10T11:43:30.651276Z",
     "iopub.status.busy": "2020-06-10T11:43:30.651276Z",
     "iopub.status.idle": "2020-06-10T11:43:30.660251Z",
     "shell.execute_reply": "2020-06-10T11:43:30.659285Z",
     "shell.execute_reply.started": "2020-06-10T11:43:30.651276Z"
    }
   },
   "outputs": [
    {
     "name": "stdout",
     "output_type": "stream",
     "text": [
      "24\n"
     ]
    }
   ],
   "source": [
    "#python3在使用reduce函数时需要导入模块\n",
    "from functools import reduce\n",
    "nums=[1,2,3,4]\n",
    "\n",
    "#实现乘法的普通函数\n",
    "def func2(x,y):\n",
    "    return x*y\n",
    "\n",
    "#第一种使用reduce函数的方式---lambda\n",
    "res3=reduce(lambda x,y:x*y,nums)\n",
    "print(res3)"
   ]
  },
  {
   "cell_type": "code",
   "execution_count": 5,
   "metadata": {
    "ExecuteTime": {
     "end_time": "2020-07-14T07:10:36.569735Z",
     "start_time": "2020-07-14T07:10:36.567545Z"
    },
    "execution": {
     "iopub.execute_input": "2020-06-10T11:43:43.807083Z",
     "iopub.status.busy": "2020-06-10T11:43:43.807083Z",
     "iopub.status.idle": "2020-06-10T11:43:43.812036Z",
     "shell.execute_reply": "2020-06-10T11:43:43.811443Z",
     "shell.execute_reply.started": "2020-06-10T11:43:43.807083Z"
    }
   },
   "outputs": [
    {
     "name": "stdout",
     "output_type": "stream",
     "text": [
      "24\n"
     ]
    }
   ],
   "source": [
    "#第二种使用reduce函数的方式---普通函数\n",
    "res4=reduce(func2,nums)\n",
    "print(res4)"
   ]
  },
  {
   "cell_type": "markdown",
   "metadata": {},
   "source": [
    "## 3.Filter"
   ]
  },
  {
   "cell_type": "markdown",
   "metadata": {},
   "source": [
    "#### filter函数特点：对可迭代对象中的元素按照特定的条件进行筛选。（例如筛选列表中所有的偶数等等）"
   ]
  },
  {
   "cell_type": "code",
   "execution_count": 6,
   "metadata": {
    "ExecuteTime": {
     "end_time": "2020-07-14T07:10:36.572746Z",
     "start_time": "2020-07-14T07:10:36.570952Z"
    },
    "execution": {
     "iopub.execute_input": "2020-06-10T11:55:24.576876Z",
     "iopub.status.busy": "2020-06-10T11:55:24.576876Z",
     "iopub.status.idle": "2020-06-10T11:55:24.581862Z",
     "shell.execute_reply": "2020-06-10T11:55:24.581236Z",
     "shell.execute_reply.started": "2020-06-10T11:55:24.576876Z"
    }
   },
   "outputs": [],
   "source": [
    "lis=[0,1,2,3,4,5,6]"
   ]
  },
  {
   "cell_type": "code",
   "execution_count": 7,
   "metadata": {
    "ExecuteTime": {
     "end_time": "2020-07-14T07:10:36.576044Z",
     "start_time": "2020-07-14T07:10:36.574120Z"
    },
    "execution": {
     "iopub.execute_input": "2020-06-10T11:55:25.512598Z",
     "iopub.status.busy": "2020-06-10T11:55:25.511602Z",
     "iopub.status.idle": "2020-06-10T11:55:25.516588Z",
     "shell.execute_reply": "2020-06-10T11:55:25.516588Z",
     "shell.execute_reply.started": "2020-06-10T11:55:25.512598Z"
    }
   },
   "outputs": [],
   "source": [
    "#定义筛选偶数的普通函数一\n",
    "def func3(x):\n",
    "    if x%2==0:\n",
    "        return x"
   ]
  },
  {
   "cell_type": "code",
   "execution_count": 8,
   "metadata": {
    "ExecuteTime": {
     "end_time": "2020-07-14T07:10:36.580745Z",
     "start_time": "2020-07-14T07:10:36.578332Z"
    },
    "execution": {
     "iopub.execute_input": "2020-06-10T11:55:25.973366Z",
     "iopub.status.busy": "2020-06-10T11:55:25.972369Z",
     "iopub.status.idle": "2020-06-10T11:55:25.978356Z",
     "shell.execute_reply": "2020-06-10T11:55:25.977356Z",
     "shell.execute_reply.started": "2020-06-10T11:55:25.973366Z"
    }
   },
   "outputs": [],
   "source": [
    "#定义筛选偶数的普通函数二\n",
    "def func4(x):\n",
    "    return x%2==0"
   ]
  },
  {
   "cell_type": "code",
   "execution_count": 9,
   "metadata": {
    "ExecuteTime": {
     "end_time": "2020-07-14T07:10:36.585705Z",
     "start_time": "2020-07-14T07:10:36.583223Z"
    },
    "execution": {
     "iopub.execute_input": "2020-06-10T11:55:26.538883Z",
     "iopub.status.busy": "2020-06-10T11:55:26.538883Z",
     "iopub.status.idle": "2020-06-10T11:55:26.544867Z",
     "shell.execute_reply": "2020-06-10T11:55:26.543870Z",
     "shell.execute_reply.started": "2020-06-10T11:55:26.538883Z"
    }
   },
   "outputs": [
    {
     "name": "stdout",
     "output_type": "stream",
     "text": [
      "[0, 2, 4, 6]\n"
     ]
    }
   ],
   "source": [
    "#第一种使用filter函数的方式---lambda\n",
    "res5=filter(lambda x:x%2==0,lis)\n",
    "print(list(res5))"
   ]
  },
  {
   "cell_type": "code",
   "execution_count": 10,
   "metadata": {
    "ExecuteTime": {
     "end_time": "2020-07-14T07:10:36.589241Z",
     "start_time": "2020-07-14T07:10:36.587028Z"
    },
    "execution": {
     "iopub.execute_input": "2020-06-10T11:55:38.381831Z",
     "iopub.status.busy": "2020-06-10T11:55:38.380791Z",
     "iopub.status.idle": "2020-06-10T11:55:38.390768Z",
     "shell.execute_reply": "2020-06-10T11:55:38.388774Z",
     "shell.execute_reply.started": "2020-06-10T11:55:38.381831Z"
    }
   },
   "outputs": [
    {
     "name": "stdout",
     "output_type": "stream",
     "text": [
      "[2, 4, 6]\n"
     ]
    }
   ],
   "source": [
    "#在使用两个普通函数时使用时会有一些差异，第一种return 0被当做返回False，因此列表中没有获取到0这个元素，第二种则不会有这种情况。\n",
    "\n",
    "#第二种使用filter函数的方式---普通函数一\n",
    "res6=filter(func3,lis)\n",
    "print(list(res6))"
   ]
  },
  {
   "cell_type": "code",
   "execution_count": 11,
   "metadata": {
    "ExecuteTime": {
     "end_time": "2020-07-14T07:10:36.593227Z",
     "start_time": "2020-07-14T07:10:36.590520Z"
    }
   },
   "outputs": [
    {
     "name": "stdout",
     "output_type": "stream",
     "text": [
      "[0, 2, 4, 6]\n"
     ]
    }
   ],
   "source": [
    "#第二种使用filter函数的方式---普通函数二\n",
    "res7=filter(func4,lis)\n",
    "print(list(res7))"
   ]
  }
 ],
 "metadata": {
  "kernelspec": {
   "display_name": "Python 3",
   "language": "python",
   "name": "python3"
  },
  "language_info": {
   "codemirror_mode": {
    "name": "ipython",
    "version": 3
   },
   "file_extension": ".py",
   "mimetype": "text/x-python",
   "name": "python",
   "nbconvert_exporter": "python",
   "pygments_lexer": "ipython3",
   "version": "3.7.7"
  },
  "toc": {
   "base_numbering": 1,
   "nav_menu": {},
   "number_sections": true,
   "sideBar": true,
   "skip_h1_title": false,
   "title_cell": "Table of Contents",
   "title_sidebar": "Contents",
   "toc_cell": false,
   "toc_position": {},
   "toc_section_display": true,
   "toc_window_display": false
  }
 },
 "nbformat": 4,
 "nbformat_minor": 4
}
