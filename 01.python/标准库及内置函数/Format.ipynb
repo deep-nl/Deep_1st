{
 "cells": [
  {
   "cell_type": "code",
   "execution_count": 20,
   "metadata": {},
   "outputs": [],
   "source": [
    "import pandas as pd\n",
    "import numpy as np"
   ]
  },
  {
   "cell_type": "markdown",
   "metadata": {},
   "source": [
    "使用方法由两种：b.format(a)和format(a,b)"
   ]
  },
  {
   "cell_type": "markdown",
   "metadata": {},
   "source": [
    "## 基本用法"
   ]
  },
  {
   "cell_type": "markdown",
   "metadata": {},
   "source": [
    "（1）不带编号，即“{}”  \n",
    "（2）带数字编号，可调换顺序，即“{1}”、“{2}”  \n",
    "（3）带关键字，即“{a}”、“{tom}”  "
   ]
  },
  {
   "cell_type": "code",
   "execution_count": 1,
   "metadata": {},
   "outputs": [
    {
     "name": "stdout",
     "output_type": "stream",
     "text": [
      "hello world\n",
      "hello world\n"
     ]
    }
   ],
   "source": [
    "print('{} {}'.format('hello','world'))  # 不带字段\n",
    "print('{0} {1}'.format('hello','world'))  # 带数字编号"
   ]
  },
  {
   "cell_type": "code",
   "execution_count": 2,
   "metadata": {},
   "outputs": [
    {
     "name": "stdout",
     "output_type": "stream",
     "text": [
      "hello world hello\n",
      "world world hello\n"
     ]
    }
   ],
   "source": [
    "print('{0} {1} {0}'.format('hello','world'))  # 打乱顺序\n",
    "print('{1} {1} {0}'.format('hello','world'))"
   ]
  },
  {
   "cell_type": "code",
   "execution_count": 3,
   "metadata": {},
   "outputs": [
    {
     "name": "stdout",
     "output_type": "stream",
     "text": [
      "world hello world\n"
     ]
    }
   ],
   "source": [
    "print('{a} {tom} {a}'.format(tom='hello',a='world'))  # 带关键字"
   ]
  },
  {
   "cell_type": "code",
   "execution_count": null,
   "metadata": {},
   "outputs": [],
   "source": []
  },
  {
   "cell_type": "markdown",
   "metadata": {},
   "source": [
    "## 进阶用法"
   ]
  },
  {
   "cell_type": "markdown",
   "metadata": {},
   "source": [
    "（1）< （默认）左对齐、> 右对齐、^ 中间对齐、= （只用于数字）在小数点后进行补齐  \n",
    "（2）取位数“{:4s}”、\"{:.2f}\"等"
   ]
  },
  {
   "cell_type": "code",
   "execution_count": 4,
   "metadata": {},
   "outputs": [
    {
     "name": "stdout",
     "output_type": "stream",
     "text": [
      "hello and world\n"
     ]
    }
   ],
   "source": [
    "print('{} and {}'.format('hello','world'))  # 默认左对齐"
   ]
  },
  {
   "cell_type": "code",
   "execution_count": 5,
   "metadata": {},
   "outputs": [
    {
     "name": "stdout",
     "output_type": "stream",
     "text": [
      "hello      and      world\n"
     ]
    }
   ],
   "source": [
    "print('{:10s} and {:>10s}'.format('hello','world'))  # 取10位左对齐，取10位右对齐"
   ]
  },
  {
   "cell_type": "code",
   "execution_count": 6,
   "metadata": {},
   "outputs": [
    {
     "name": "stdout",
     "output_type": "stream",
     "text": [
      "  hello    and   world   \n"
     ]
    }
   ],
   "source": [
    "print('{:^10s} and {:^10s}'.format('hello','world'))  # 取10位中间对齐"
   ]
  },
  {
   "cell_type": "code",
   "execution_count": 7,
   "metadata": {},
   "outputs": [
    {
     "name": "stdout",
     "output_type": "stream",
     "text": [
      "1.123 is 1.12\n"
     ]
    }
   ],
   "source": [
    "print('{} is {:.2f}'.format(1.123,1.123))  # 取2位小数"
   ]
  },
  {
   "cell_type": "code",
   "execution_count": 8,
   "metadata": {},
   "outputs": [
    {
     "name": "stdout",
     "output_type": "stream",
     "text": [
      "1.123 is       1.12\n"
     ]
    }
   ],
   "source": [
    "print('{0} is {0:>10.2f}'.format(1.123))  # 取2位小数，右对齐，取10位"
   ]
  },
  {
   "cell_type": "markdown",
   "metadata": {},
   "source": [
    "## 进阶用法"
   ]
  },
  {
   "cell_type": "markdown",
   "metadata": {},
   "source": [
    "'b' - 二进制。将数字以2为基数进行输出。  \n",
    "'c' - 字符。在打印之前将整数转换成对应的Unicode字符串。  \n",
    "'d' - 十进制整数。将数字以10为基数进行输出。  \n",
    "'o' - 八进制。将数字以8为基数进行输出。  \n",
    "'x' - 十六进制。将数字以16为基数进行输出，9以上的位数用小写字母。  \n",
    "'e' - 幂符号。用科学计数法打印数字。用'e'表示幂。  \n",
    "'g' - 一般格式。将数值以fixed-point格式输出。当数值特别大的时候，用幂形式打印。  \n",
    "'n' - 数字。当值为整数时和'd'相同，值为浮点数时和'g'相同。不同的是它会根据区域设置插入数字分隔符。  \n",
    "'%' - 百分数。将数值乘以100然后以fixed-point('f')格式打印，值后面会有一个百分号。"
   ]
  },
  {
   "cell_type": "code",
   "execution_count": 9,
   "metadata": {},
   "outputs": [
    {
     "name": "stdout",
     "output_type": "stream",
     "text": [
      "11\n",
      "\u0014\n",
      "20\n",
      "24\n",
      "14\n",
      "2.000000e+01\n",
      "20.1\n",
      "20.000000\n",
      "20\n",
      "2000.000000%\n"
     ]
    }
   ],
   "source": [
    "print('{0:b}'.format(3))\n",
    "print('{:c}'.format(20))\n",
    "print('{:d}'.format(20))\n",
    "print('{:o}'.format(20))\n",
    "print('{:x}'.format(20))\n",
    "print('{:e}'.format(20))\n",
    "print('{:g}'.format(20.1))\n",
    "print('{:f}'.format(20))\n",
    "print('{:n}'.format(20))\n",
    "print('{:%}'.format(20))"
   ]
  },
  {
   "cell_type": "markdown",
   "metadata": {},
   "source": [
    "## 通过位置参数匹配"
   ]
  },
  {
   "cell_type": "code",
   "execution_count": null,
   "metadata": {},
   "outputs": [],
   "source": []
  },
  {
   "cell_type": "code",
   "execution_count": null,
   "metadata": {},
   "outputs": [],
   "source": []
  },
  {
   "cell_type": "code",
   "execution_count": null,
   "metadata": {},
   "outputs": [],
   "source": []
  },
  {
   "cell_type": "markdown",
   "metadata": {},
   "source": [
    "## 通过字典key数匹配"
   ]
  },
  {
   "cell_type": "code",
   "execution_count": 15,
   "metadata": {},
   "outputs": [
    {
     "name": "stdout",
     "output_type": "stream",
     "text": [
      "Hello deep,I am depth\n"
     ]
    }
   ],
   "source": [
    "names={'name1':'deep','name2':'depth'}\n",
    "print(\"Hello {names[name1]},I am {names[name2]}\".format(names=names))"
   ]
  },
  {
   "cell_type": "markdown",
   "metadata": {},
   "source": [
    "## 通过对象属性匹配"
   ]
  },
  {
   "cell_type": "code",
   "execution_count": 19,
   "metadata": {},
   "outputs": [
    {
     "name": "stdout",
     "output_type": "stream",
     "text": [
      "Hello deep,I am depth\n"
     ]
    }
   ],
   "source": [
    "class Names:\n",
    "    name1='deep'\n",
    "    name2='depth'\n",
    "print(\"Hello {names.name1},I am {names.name2}\".format(names=Names) )"
   ]
  },
  {
   "cell_type": "markdown",
   "metadata": {},
   "source": [
    "## 数字的格式化"
   ]
  },
  {
   "cell_type": "code",
   "execution_count": 23,
   "metadata": {},
   "outputs": [
    {
     "name": "stdout",
     "output_type": "stream",
     "text": [
      "3.15\n",
      "+3.14\n",
      "3\n"
     ]
    }
   ],
   "source": [
    "print(\"{:.2f}\".format(3.1465926)) #保留小数点后两位\n",
    "print(\"{:+.2f}\".format(3.1415926))#带符号保留小数点后两位\n",
    "print(\"{:.0f}\".format(3.1415926))#不带小数点"
   ]
  },
  {
   "cell_type": "code",
   "execution_count": 27,
   "metadata": {},
   "outputs": [
    {
     "name": "stdout",
     "output_type": "stream",
     "text": [
      "04\n",
      "4XXX\n",
      "XXX4\n"
     ]
    }
   ],
   "source": [
    "print(\"{:0>2d}\".format(4))#数字补零 (填充左边, 宽度为2)\n",
    "print(\"{:X<4d}\".format(4))#数字补x (填充右边, 宽度为4)\n",
    "print(\"{:X>4d}\".format(4))#数字补x (填充右边, 宽度为4)"
   ]
  },
  {
   "cell_type": "code",
   "execution_count": 33,
   "metadata": {},
   "outputs": [
    {
     "name": "stdout",
     "output_type": "stream",
     "text": [
      "         4\n",
      "4         \n",
      "    4     \n"
     ]
    }
   ],
   "source": [
    "print(\"{:>10d}\".format(4))#右对齐 (默认, 宽度为10)\n",
    "print(\"{:<10d}\".format(4))#左对齐 (宽度为10)\n",
    "print(\"{:^10d}\".format(4))#中间对齐 (宽度为10)"
   ]
  },
  {
   "cell_type": "code",
   "execution_count": 34,
   "metadata": {},
   "outputs": [
    {
     "name": "stdout",
     "output_type": "stream",
     "text": [
      "1,000,000\n"
     ]
    }
   ],
   "source": [
    "print(\"{:,}\".format(1000000))#千分位"
   ]
  },
  {
   "cell_type": "code",
   "execution_count": 35,
   "metadata": {},
   "outputs": [
    {
     "name": "stdout",
     "output_type": "stream",
     "text": [
      "21.00%\n"
     ]
    }
   ],
   "source": [
    "print(\"{:.2%}\".format(0.21))#百分数（保留两位）"
   ]
  },
  {
   "cell_type": "markdown",
   "metadata": {},
   "source": [
    "^, <, > 分别是居中、左对齐、右对齐，后面带宽度， : 号后面带填充的字符，只能是一个字符，不指定则默认是用空格填充。  \n",
    "+ 表示在正数前显示 +，负数前显示 -；  （空格）表示在正数前加空格  \n",
    "此外我们可以使用大括号 {} 来转义大括号，如下实例："
   ]
  },
  {
   "cell_type": "code",
   "execution_count": 36,
   "metadata": {},
   "outputs": [
    {
     "name": "stdout",
     "output_type": "stream",
     "text": [
      "runoob 对应的位置是 {0}\n"
     ]
    }
   ],
   "source": [
    "print (\"{} 对应的位置是 {{0}}\".format(\"runoob\"))"
   ]
  },
  {
   "cell_type": "markdown",
   "metadata": {},
   "source": [
    "## 魔法参数"
   ]
  },
  {
   "cell_type": "code",
   "execution_count": 5,
   "metadata": {},
   "outputs": [
    {
     "ename": "KeyError",
     "evalue": "'w'",
     "output_type": "error",
     "traceback": [
      "\u001b[1;31m---------------------------------------------------------------------------\u001b[0m",
      "\u001b[1;31mKeyError\u001b[0m                                  Traceback (most recent call last)",
      "\u001b[1;32m<ipython-input-5-485963c7a79d>\u001b[0m in \u001b[0;36m<module>\u001b[1;34m\u001b[0m\n\u001b[0;32m      1\u001b[0m \u001b[0ma\u001b[0m\u001b[1;33m=\u001b[0m\u001b[1;33m[\u001b[0m\u001b[1;34m'nilei'\u001b[0m\u001b[1;33m,\u001b[0m\u001b[1;34m'hanmeimei'\u001b[0m\u001b[1;33m]\u001b[0m\u001b[1;33m\u001b[0m\u001b[1;33m\u001b[0m\u001b[0m\n\u001b[0;32m      2\u001b[0m \u001b[0mb\u001b[0m\u001b[1;33m=\u001b[0m\u001b[1;33m{\u001b[0m\u001b[1;34m'w'\u001b[0m\u001b[1;33m:\u001b[0m\u001b[1;34m'Shanghai'\u001b[0m\u001b[1;33m,\u001b[0m\u001b[1;34m'v'\u001b[0m\u001b[1;33m:\u001b[0m\u001b[1;34m'Beijin'\u001b[0m\u001b[1;33m}\u001b[0m\u001b[1;33m\u001b[0m\u001b[1;33m\u001b[0m\u001b[0m\n\u001b[1;32m----> 3\u001b[1;33m \u001b[0mprint\u001b[0m\u001b[1;33m(\u001b[0m\u001b[1;34m'My name is {},i am from {w}{v}'\u001b[0m\u001b[1;33m.\u001b[0m\u001b[0mformat\u001b[0m\u001b[1;33m(\u001b[0m\u001b[1;33m*\u001b[0m\u001b[0ma\u001b[0m\u001b[1;33m,\u001b[0m\u001b[1;33m*\u001b[0m\u001b[0mb\u001b[0m\u001b[1;33m)\u001b[0m\u001b[1;33m)\u001b[0m\u001b[1;33m\u001b[0m\u001b[1;33m\u001b[0m\u001b[0m\n\u001b[0m",
      "\u001b[1;31mKeyError\u001b[0m: 'w'"
     ]
    }
   ],
   "source": [
    "a=['nilei','hanmeimei']\n",
    "b={'w':'Shanghai','v':'Beijin'}\n",
    "print('My name is {},i am from {w}{v}'.format(*a,*b))"
   ]
  },
  {
   "cell_type": "markdown",
   "metadata": {},
   "source": [
    "## 时间函数"
   ]
  },
  {
   "cell_type": "code",
   "execution_count": 17,
   "metadata": {},
   "outputs": [
    {
     "name": "stdout",
     "output_type": "stream",
     "text": [
      "2020-04-22 02:44:17.888082\n"
     ]
    }
   ],
   "source": [
    "import datetime\n",
    "now=datetime.datetime.now()\n",
    "print(now)"
   ]
  },
  {
   "cell_type": "code",
   "execution_count": 18,
   "metadata": {},
   "outputs": [
    {
     "name": "stdout",
     "output_type": "stream",
     "text": [
      "%Y-%M%-d\n"
     ]
    }
   ],
   "source": [
    "print('%Y-%M%-d'.format(now))"
   ]
  },
  {
   "cell_type": "code",
   "execution_count": 23,
   "metadata": {},
   "outputs": [
    {
     "name": "stdout",
     "output_type": "stream",
     "text": [
      "20-04-22\n"
     ]
    }
   ],
   "source": [
    "print('{:%y-%m-%d}'.format(now))"
   ]
  },
  {
   "cell_type": "code",
   "execution_count": null,
   "metadata": {},
   "outputs": [],
   "source": []
  }
 ],
 "metadata": {
  "kernelspec": {
   "display_name": "Python 3",
   "language": "python",
   "name": "python3"
  },
  "language_info": {
   "codemirror_mode": {
    "name": "ipython",
    "version": 3
   },
   "file_extension": ".py",
   "mimetype": "text/x-python",
   "name": "python",
   "nbconvert_exporter": "python",
   "pygments_lexer": "ipython3",
   "version": "3.7.7"
  },
  "toc-autonumbering": true
 },
 "nbformat": 4,
 "nbformat_minor": 4
}
