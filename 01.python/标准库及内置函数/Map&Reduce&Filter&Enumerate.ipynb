{
 "cells": [
  {
   "cell_type": "markdown",
   "metadata": {},
   "source": [
    "## MAP函数"
   ]
  },
  {
   "cell_type": "markdown",
   "metadata": {},
   "source": [
    "map(function,sequence) :对sequence中的item依次进行function(item)，将执行结果返回为list，类似于列表解析；"
   ]
  },
  {
   "cell_type": "code",
   "execution_count": 1,
   "metadata": {
    "execution": {
     "iopub.execute_input": "2020-05-09T07:41:03.872822Z",
     "iopub.status.busy": "2020-05-09T07:41:03.872822Z",
     "iopub.status.idle": "2020-05-09T07:41:03.877806Z",
     "shell.execute_reply": "2020-05-09T07:41:03.876841Z",
     "shell.execute_reply.started": "2020-05-09T07:41:03.872822Z"
    }
   },
   "outputs": [],
   "source": [
    "#建立一个函数，来判断一个数是否是偶数\n",
    "def even(x):\n",
    "    return x%2==0"
   ]
  },
  {
   "cell_type": "code",
   "execution_count": 2,
   "metadata": {
    "execution": {
     "iopub.execute_input": "2020-05-09T07:42:17.786287Z",
     "iopub.status.busy": "2020-05-09T07:42:17.786287Z",
     "iopub.status.idle": "2020-05-09T07:42:17.800249Z",
     "shell.execute_reply": "2020-05-09T07:42:17.797257Z",
     "shell.execute_reply.started": "2020-05-09T07:42:17.786287Z"
    }
   },
   "outputs": [
    {
     "data": {
      "text/plain": [
       "True"
      ]
     },
     "execution_count": 2,
     "metadata": {},
     "output_type": "execute_result"
    }
   ],
   "source": [
    "even(4)"
   ]
  },
  {
   "cell_type": "code",
   "execution_count": 3,
   "metadata": {
    "execution": {
     "iopub.execute_input": "2020-05-09T07:42:39.017503Z",
     "iopub.status.busy": "2020-05-09T07:42:39.016505Z",
     "iopub.status.idle": "2020-05-09T07:42:39.022528Z",
     "shell.execute_reply": "2020-05-09T07:42:39.022528Z",
     "shell.execute_reply.started": "2020-05-09T07:42:39.017503Z"
    }
   },
   "outputs": [
    {
     "data": {
      "text/plain": [
       "<map at 0x53f0bb0>"
      ]
     },
     "execution_count": 3,
     "metadata": {},
     "output_type": "execute_result"
    }
   ],
   "source": [
    "map(even,range(10))"
   ]
  },
  {
   "cell_type": "code",
   "execution_count": 4,
   "metadata": {
    "execution": {
     "iopub.execute_input": "2020-05-09T07:42:53.147536Z",
     "iopub.status.busy": "2020-05-09T07:42:53.147536Z",
     "iopub.status.idle": "2020-05-09T07:42:53.152526Z",
     "shell.execute_reply": "2020-05-09T07:42:53.152526Z",
     "shell.execute_reply.started": "2020-05-09T07:42:53.147536Z"
    }
   },
   "outputs": [
    {
     "data": {
      "text/plain": [
       "[True, False, True, False, True, False, True, False, True, False]"
      ]
     },
     "execution_count": 4,
     "metadata": {},
     "output_type": "execute_result"
    }
   ],
   "source": [
    "list(map(even,range(10)))   #显示结果，方法一"
   ]
  },
  {
   "cell_type": "code",
   "execution_count": 5,
   "metadata": {
    "execution": {
     "iopub.execute_input": "2020-05-09T07:43:30.254149Z",
     "iopub.status.busy": "2020-05-09T07:43:30.254149Z",
     "iopub.status.idle": "2020-05-09T07:43:30.262631Z",
     "shell.execute_reply": "2020-05-09T07:43:30.262126Z",
     "shell.execute_reply.started": "2020-05-09T07:43:30.254149Z"
    }
   },
   "outputs": [
    {
     "name": "stdout",
     "output_type": "stream",
     "text": [
      "True\n",
      "False\n",
      "True\n",
      "False\n",
      "True\n",
      "False\n",
      "True\n",
      "False\n",
      "True\n",
      "False\n"
     ]
    }
   ],
   "source": [
    "for i in map(even,range(10)):    #显示结果，方法二，for循环\n",
    "    print(i)"
   ]
  },
  {
   "cell_type": "code",
   "execution_count": 6,
   "metadata": {
    "execution": {
     "iopub.execute_input": "2020-05-09T07:45:46.267940Z",
     "iopub.status.busy": "2020-05-09T07:45:46.267940Z",
     "iopub.status.idle": "2020-05-09T07:45:46.297090Z",
     "shell.execute_reply": "2020-05-09T07:45:46.296091Z",
     "shell.execute_reply.started": "2020-05-09T07:45:46.267940Z"
    }
   },
   "outputs": [
    {
     "data": {
      "text/plain": [
       "[True, False, True, False, True, False, True, False, True, False]"
      ]
     },
     "execution_count": 6,
     "metadata": {},
     "output_type": "execute_result"
    }
   ],
   "source": [
    "a=[even(x) for x in range(10)]  ##显示结果，方法三，列表解析，但是你要注意下运行时间是很长，所以尽量不要在python层面使用循环\n",
    "a"
   ]
  },
  {
   "cell_type": "code",
   "execution_count": 9,
   "metadata": {
    "execution": {
     "iopub.execute_input": "2020-05-09T07:52:06.417318Z",
     "iopub.status.busy": "2020-05-09T07:52:06.416320Z",
     "iopub.status.idle": "2020-05-09T07:52:06.423301Z",
     "shell.execute_reply": "2020-05-09T07:52:06.422304Z",
     "shell.execute_reply.started": "2020-05-09T07:52:06.417318Z"
    }
   },
   "outputs": [
    {
     "name": "stdout",
     "output_type": "stream",
     "text": [
      "0\n",
      "1\n",
      "4\n",
      "9\n",
      "16\n",
      "25\n",
      "36\n",
      "49\n",
      "64\n",
      "81\n"
     ]
    }
   ],
   "source": [
    "for i in map(lambda x:x**2,range(10)):\n",
    "    print(i)"
   ]
  },
  {
   "cell_type": "code",
   "execution_count": 13,
   "metadata": {
    "execution": {
     "iopub.execute_input": "2020-05-09T07:57:49.451354Z",
     "iopub.status.busy": "2020-05-09T07:57:49.451354Z",
     "iopub.status.idle": "2020-05-09T07:57:49.457336Z",
     "shell.execute_reply": "2020-05-09T07:57:49.456884Z",
     "shell.execute_reply.started": "2020-05-09T07:57:49.451354Z"
    }
   },
   "outputs": [
    {
     "data": {
      "text/plain": [
       "['Nilei', 'Chenyuming', 'Hushi']"
      ]
     },
     "execution_count": 13,
     "metadata": {},
     "output_type": "execute_result"
    }
   ],
   "source": [
    "#通过map实现字符串的格式化\n",
    "list_1=['nilei','chenyuming','hushi']\n",
    "list_2=map(lambda x: x.title(),list_1)\n",
    "list(list_2)"
   ]
  },
  {
   "cell_type": "markdown",
   "metadata": {},
   "source": [
    "## REDUCE函数"
   ]
  },
  {
   "cell_type": "markdown",
   "metadata": {},
   "source": [
    "reduce(function,sequence,starting_value):对sequence中的item顺序迭代调用function，如果有starting_value，还可以做完初始值调用，例如可以用来对List求和："
   ]
  },
  {
   "cell_type": "code",
   "execution_count": 14,
   "metadata": {
    "execution": {
     "iopub.execute_input": "2020-05-09T13:38:07.035147Z",
     "iopub.status.busy": "2020-05-09T13:38:07.035147Z",
     "iopub.status.idle": "2020-05-09T13:38:07.040108Z",
     "shell.execute_reply": "2020-05-09T13:38:07.039109Z",
     "shell.execute_reply.started": "2020-05-09T13:38:07.035147Z"
    }
   },
   "outputs": [],
   "source": [
    "def add(x,y):\n",
    "    return x+y"
   ]
  },
  {
   "cell_type": "code",
   "execution_count": 16,
   "metadata": {
    "execution": {
     "iopub.execute_input": "2020-05-09T13:38:57.741705Z",
     "iopub.status.busy": "2020-05-09T13:38:57.740707Z",
     "iopub.status.idle": "2020-05-09T13:38:57.746689Z",
     "shell.execute_reply": "2020-05-09T13:38:57.746689Z",
     "shell.execute_reply.started": "2020-05-09T13:38:57.741705Z"
    }
   },
   "outputs": [
    {
     "data": {
      "text/plain": [
       "55"
      ]
     },
     "execution_count": 16,
     "metadata": {},
     "output_type": "execute_result"
    }
   ],
   "source": [
    "from functools import reduce\n",
    "reduce(add,range(1,11))"
   ]
  },
  {
   "cell_type": "code",
   "execution_count": 17,
   "metadata": {
    "execution": {
     "iopub.execute_input": "2020-05-09T13:39:24.762951Z",
     "iopub.status.busy": "2020-05-09T13:39:24.762951Z",
     "iopub.status.idle": "2020-05-09T13:39:24.767940Z",
     "shell.execute_reply": "2020-05-09T13:39:24.767562Z",
     "shell.execute_reply.started": "2020-05-09T13:39:24.762951Z"
    }
   },
   "outputs": [
    {
     "data": {
      "text/plain": [
       "75"
      ]
     },
     "execution_count": 17,
     "metadata": {},
     "output_type": "execute_result"
    }
   ],
   "source": [
    "reduce(add,range(1,11),20)  #20作为函数计算的初始值"
   ]
  },
  {
   "cell_type": "code",
   "execution_count": 18,
   "metadata": {
    "execution": {
     "iopub.execute_input": "2020-05-09T13:46:42.970084Z",
     "iopub.status.busy": "2020-05-09T13:46:42.970084Z",
     "iopub.status.idle": "2020-05-09T13:46:42.985705Z",
     "shell.execute_reply": "2020-05-09T13:46:42.985705Z",
     "shell.execute_reply.started": "2020-05-09T13:46:42.970084Z"
    }
   },
   "outputs": [
    {
     "data": {
      "text/plain": [
       "15"
      ]
     },
     "execution_count": 18,
     "metadata": {},
     "output_type": "execute_result"
    }
   ],
   "source": [
    "list_2=[1,2,3,4,5]   \n",
    "reduce(lambda x,y:x+y,list_2)   #也可以使用匿名函数"
   ]
  },
  {
   "cell_type": "markdown",
   "metadata": {},
   "source": [
    "## Filter函数"
   ]
  },
  {
   "cell_type": "markdown",
   "metadata": {},
   "source": [
    "filter(fuction,sequence):对sequence中的item依次执行function(item)，将执行结果为true的item组成一个List/String/Tuple（取决于sequence的类型），把sequence里面满足条件的元素一次性挑选出来"
   ]
  },
  {
   "cell_type": "code",
   "execution_count": 1,
   "metadata": {
    "ExecuteTime": {
     "end_time": "2020-07-25T16:55:54.421103Z",
     "start_time": "2020-07-25T16:55:54.418727Z"
    },
    "execution": {
     "iopub.execute_input": "2020-05-09T13:51:35.710489Z",
     "iopub.status.busy": "2020-05-09T13:51:35.710489Z",
     "iopub.status.idle": "2020-05-09T13:51:35.715475Z",
     "shell.execute_reply": "2020-05-09T13:51:35.714830Z",
     "shell.execute_reply.started": "2020-05-09T13:51:35.710489Z"
    }
   },
   "outputs": [],
   "source": [
    "a=filter(lambda x:x<0,range(-5,5))  #挑选出小于0的数字"
   ]
  },
  {
   "cell_type": "code",
   "execution_count": 2,
   "metadata": {
    "ExecuteTime": {
     "end_time": "2020-07-25T16:56:01.596027Z",
     "start_time": "2020-07-25T16:56:01.589743Z"
    }
   },
   "outputs": [
    {
     "data": {
      "text/plain": [
       "filter"
      ]
     },
     "execution_count": 2,
     "metadata": {},
     "output_type": "execute_result"
    }
   ],
   "source": [
    "type(a)   #类型是filter"
   ]
  },
  {
   "cell_type": "code",
   "execution_count": 23,
   "metadata": {
    "execution": {
     "iopub.execute_input": "2020-05-09T13:51:35.710489Z",
     "iopub.status.busy": "2020-05-09T13:51:35.710489Z",
     "iopub.status.idle": "2020-05-09T13:51:35.715475Z",
     "shell.execute_reply": "2020-05-09T13:51:35.714830Z",
     "shell.execute_reply.started": "2020-05-09T13:51:35.710489Z"
    }
   },
   "outputs": [
    {
     "data": {
      "text/plain": [
       "[-5, -4, -3, -2, -1]"
      ]
     },
     "execution_count": 23,
     "metadata": {},
     "output_type": "execute_result"
    }
   ],
   "source": [
    "list(a)"
   ]
  },
  {
   "cell_type": "markdown",
   "metadata": {},
   "source": [
    "## Enumerate函数"
   ]
  },
  {
   "cell_type": "markdown",
   "metadata": {},
   "source": [
    "enumerate()用于将一个可遍历的数据对象(如列表、元组或字符串等)组合为一个索引序列，同时列出数据和数据下标；\n",
    "\n",
    "语法：\n",
    "    enumerate(a,start)\n",
    "    a是可迭代对象，start是计数起始数字"
   ]
  },
  {
   "cell_type": "code",
   "execution_count": 3,
   "metadata": {
    "ExecuteTime": {
     "end_time": "2020-07-25T16:58:30.918831Z",
     "start_time": "2020-07-25T16:58:30.915518Z"
    },
    "execution": {
     "iopub.execute_input": "2020-05-09T13:57:12.559168Z",
     "iopub.status.busy": "2020-05-09T13:57:12.558135Z",
     "iopub.status.idle": "2020-05-09T13:57:12.566150Z",
     "shell.execute_reply": "2020-05-09T13:57:12.565153Z",
     "shell.execute_reply.started": "2020-05-09T13:57:12.558135Z"
    }
   },
   "outputs": [
    {
     "name": "stdout",
     "output_type": "stream",
     "text": [
      "0 left\n",
      "1 right\n",
      "2 up\n",
      "3 down\n"
     ]
    }
   ],
   "source": [
    "example=['left','right','up','down']\n",
    "for i in range(len(example)):\n",
    "    print(i,example[i])"
   ]
  },
  {
   "cell_type": "code",
   "execution_count": 5,
   "metadata": {
    "ExecuteTime": {
     "end_time": "2020-07-25T16:59:11.413522Z",
     "start_time": "2020-07-25T16:59:11.411216Z"
    }
   },
   "outputs": [
    {
     "name": "stdout",
     "output_type": "stream",
     "text": [
      "0 left\n",
      "1 right\n",
      "2 up\n",
      "3 down\n"
     ]
    }
   ],
   "source": [
    "for i,j in enumerate(example):\n",
    "    print(i,j)"
   ]
  },
  {
   "cell_type": "code",
   "execution_count": 4,
   "metadata": {
    "ExecuteTime": {
     "end_time": "2020-07-25T16:58:37.167003Z",
     "start_time": "2020-07-25T16:58:37.164652Z"
    },
    "execution": {
     "iopub.execute_input": "2020-05-09T13:57:37.380011Z",
     "iopub.status.busy": "2020-05-09T13:57:37.380011Z",
     "iopub.status.idle": "2020-05-09T13:57:37.384003Z",
     "shell.execute_reply": "2020-05-09T13:57:37.383671Z",
     "shell.execute_reply.started": "2020-05-09T13:57:37.380011Z"
    }
   },
   "outputs": [
    {
     "name": "stdout",
     "output_type": "stream",
     "text": [
      "(0, 'left')\n",
      "(1, 'right')\n",
      "(2, 'up')\n",
      "(3, 'down')\n"
     ]
    }
   ],
   "source": [
    "for i in enumerate(example):\n",
    "    print(i)"
   ]
  },
  {
   "cell_type": "code",
   "execution_count": 6,
   "metadata": {
    "ExecuteTime": {
     "end_time": "2020-07-25T17:00:35.586510Z",
     "start_time": "2020-07-25T17:00:35.584055Z"
    }
   },
   "outputs": [
    {
     "name": "stdout",
     "output_type": "stream",
     "text": [
      "(1, 'left')\n",
      "(2, 'right')\n",
      "(3, 'up')\n",
      "(4, 'down')\n"
     ]
    }
   ],
   "source": [
    "#设置下标\n",
    "for i in enumerate(example,1):\n",
    "    print(i)"
   ]
  },
  {
   "cell_type": "code",
   "execution_count": null,
   "metadata": {},
   "outputs": [],
   "source": []
  }
 ],
 "metadata": {
  "kernelspec": {
   "display_name": "Python 3",
   "language": "python",
   "name": "python3"
  },
  "language_info": {
   "codemirror_mode": {
    "name": "ipython",
    "version": 3
   },
   "file_extension": ".py",
   "mimetype": "text/x-python",
   "name": "python",
   "nbconvert_exporter": "python",
   "pygments_lexer": "ipython3",
   "version": "3.7.7"
  },
  "toc": {
   "base_numbering": 1,
   "nav_menu": {},
   "number_sections": true,
   "sideBar": true,
   "skip_h1_title": false,
   "title_cell": "Table of Contents",
   "title_sidebar": "Contents",
   "toc_cell": false,
   "toc_position": {},
   "toc_section_display": true,
   "toc_window_display": false
  }
 },
 "nbformat": 4,
 "nbformat_minor": 4
}
