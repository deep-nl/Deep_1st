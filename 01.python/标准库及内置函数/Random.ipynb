{
 "cells": [
  {
   "cell_type": "code",
   "execution_count": 1,
   "metadata": {
    "execution": {
     "iopub.execute_input": "2020-04-26T08:28:53.439559Z",
     "iopub.status.busy": "2020-04-26T08:28:53.439559Z",
     "iopub.status.idle": "2020-04-26T08:28:53.444544Z",
     "shell.execute_reply": "2020-04-26T08:28:53.443544Z",
     "shell.execute_reply.started": "2020-04-26T08:28:53.439559Z"
    }
   },
   "outputs": [],
   "source": [
    "import random"
   ]
  },
  {
   "cell_type": "markdown",
   "metadata": {},
   "source": [
    "print( random.randint(1,10) )        # 产生 1 到 10 的一个整数型随机数   \n",
    "print( random.random() )             # 产生 0 到 1 之间的随机浮点数  \n",
    "print( random.uniform(1.1,5.4) )     # 产生  1.1 到 5.4 之间的随机浮点数，区间可以不是整数  \n",
    "print( random.choice('tomorrow') )   # 从序列中随机选取一个元素  \n",
    "print( random.randrange(1,100,2) )   # 生成从1到100的间隔为2的随机整数  "
   ]
  },
  {
   "cell_type": "code",
   "execution_count": 4,
   "metadata": {
    "execution": {
     "iopub.execute_input": "2020-04-26T08:29:52.350292Z",
     "iopub.status.busy": "2020-04-26T08:29:52.350292Z",
     "iopub.status.idle": "2020-04-26T08:29:52.357239Z",
     "shell.execute_reply": "2020-04-26T08:29:52.356771Z",
     "shell.execute_reply.started": "2020-04-26T08:29:52.350292Z"
    }
   },
   "outputs": [
    {
     "name": "stdout",
     "output_type": "stream",
     "text": [
      "0\n"
     ]
    }
   ],
   "source": [
    "print(random.randint(0,1))"
   ]
  },
  {
   "cell_type": "code",
   "execution_count": 4,
   "metadata": {},
   "outputs": [
    {
     "name": "stdout",
     "output_type": "stream",
     "text": [
      "6\n"
     ]
    }
   ],
   "source": [
    "print(random.randint(1,10))    # 产生 1 到 10 的一个整数型随机数  "
   ]
  },
  {
   "cell_type": "code",
   "execution_count": 5,
   "metadata": {},
   "outputs": [
    {
     "name": "stdout",
     "output_type": "stream",
     "text": [
      "[6, 7, 3, 1, 5]\n"
     ]
    }
   ],
   "source": [
    "a=[1,3,5,6,7]                # 将序列a中的元素顺序打乱  \n",
    "random.shuffle(a)  \n",
    "print(a)  "
   ]
  },
  {
   "cell_type": "code",
   "execution_count": 11,
   "metadata": {},
   "outputs": [
    {
     "name": "stdout",
     "output_type": "stream",
     "text": [
      "3\n"
     ]
    }
   ],
   "source": [
    "a=random.randrange(5)\n",
    "print(a)"
   ]
  },
  {
   "cell_type": "code",
   "execution_count": 9,
   "metadata": {},
   "outputs": [
    {
     "data": {
      "text/plain": [
       "array([0, 1, 2, 3, 4])"
      ]
     },
     "execution_count": 9,
     "metadata": {},
     "output_type": "execute_result"
    }
   ],
   "source": [
    "import numpy as np\n",
    "np.arange(5)"
   ]
  },
  {
   "cell_type": "code",
   "execution_count": null,
   "metadata": {},
   "outputs": [],
   "source": []
  }
 ],
 "metadata": {
  "kernelspec": {
   "display_name": "Python 3",
   "language": "python",
   "name": "python3"
  },
  "language_info": {
   "codemirror_mode": {
    "name": "ipython",
    "version": 3
   },
   "file_extension": ".py",
   "mimetype": "text/x-python",
   "name": "python",
   "nbconvert_exporter": "python",
   "pygments_lexer": "ipython3",
   "version": "3.7.7"
  }
 },
 "nbformat": 4,
 "nbformat_minor": 4
}
