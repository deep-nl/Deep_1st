{
 "cells": [
  {
   "cell_type": "markdown",
   "metadata": {},
   "source": [
    "### 怎么使用with open"
   ]
  },
  {
   "cell_type": "code",
   "execution_count": 5,
   "metadata": {},
   "outputs": [
    {
     "name": "stdout",
     "output_type": "stream",
     "text": [
      "absbxscac   b\\nsdsda  \\rkdadde123\n",
      "\\tdedeadada \n",
      "-------------------------\n",
      "[' ', ' ', ' ', ' ', ' ', '\\n', ' ']\n",
      "-------------------------\n",
      "[]\n"
     ]
    }
   ],
   "source": [
    "import re\n",
    "data=''\n",
    "with open('/Users/nilei/Nutstore/Data/string.txt') as str:\n",
    "    for line in str.readlines():\n",
    "        #line=line.strip()  #这行表示删除\\n，\n",
    "        data+=line\n",
    "print(data)\n",
    "print('-------------------------')\n",
    "r=re.findall('\\s',data)\n",
    "t=re.findall('\\t',data)\n",
    "print(r)\n",
    "print('-------------------------')\n",
    "print(t)"
   ]
  },
  {
   "cell_type": "markdown",
   "metadata": {},
   "source": [
    "### 数量词   贪婪与非贪婪"
   ]
  },
  {
   "cell_type": "code",
   "execution_count": 7,
   "metadata": {},
   "outputs": [
    {
     "name": "stdout",
     "output_type": "stream",
     "text": [
      "['python', 'java', 'php']\n"
     ]
    }
   ],
   "source": [
    "a='python123java###$php'\n",
    "r=re.findall('[a-z]{3,6}',a)\n",
    "print(r)"
   ]
  },
  {
   "cell_type": "code",
   "execution_count": 9,
   "metadata": {},
   "outputs": [
    {
     "name": "stdout",
     "output_type": "stream",
     "text": [
      "['pyt', 'hon', 'jav', 'php']\n"
     ]
    }
   ],
   "source": [
    "r_0=re.findall('[a-z]{3,6}?',a)   #非贪婪\n",
    "print(r_0)"
   ]
  },
  {
   "cell_type": "markdown",
   "metadata": {},
   "source": [
    "### 边界匹配"
   ]
  },
  {
   "cell_type": "code",
   "execution_count": null,
   "metadata": {},
   "outputs": [],
   "source": []
  }
 ],
 "metadata": {
  "kernelspec": {
   "display_name": "Python 3",
   "language": "python",
   "name": "python3"
  },
  "language_info": {
   "codemirror_mode": {
    "name": "ipython",
    "version": 3
   },
   "file_extension": ".py",
   "mimetype": "text/x-python",
   "name": "python",
   "nbconvert_exporter": "python",
   "pygments_lexer": "ipython3",
   "version": "3.7.7"
  }
 },
 "nbformat": 4,
 "nbformat_minor": 4
}
