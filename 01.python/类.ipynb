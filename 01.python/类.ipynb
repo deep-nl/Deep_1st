{
 "cells": [
  {
   "cell_type": "markdown",
   "metadata": {},
   "source": [
    "## 变量：类变量、实例变量"
   ]
  },
  {
   "cell_type": "code",
   "execution_count": 17,
   "metadata": {},
   "outputs": [],
   "source": [
    "class Student():\n",
    "    sum1=0\n",
    "    def __init__(self,name,age):\n",
    "        self.name=name\n",
    "        self.age=age\n",
    "        print(Student.sum1)   #访问类变量方法一\n",
    "        print(self.__class__.sum1)  #访问类变量方法二"
   ]
  },
  {
   "cell_type": "code",
   "execution_count": 19,
   "metadata": {},
   "outputs": [
    {
     "name": "stdout",
     "output_type": "stream",
     "text": [
      "Nilei\n"
     ]
    }
   ],
   "source": [
    "print(student_1.name)"
   ]
  },
  {
   "cell_type": "code",
   "execution_count": 18,
   "metadata": {},
   "outputs": [
    {
     "name": "stdout",
     "output_type": "stream",
     "text": [
      "0\n",
      "0\n"
     ]
    }
   ],
   "source": [
    "student_1=Student('Nilei',18)"
   ]
  },
  {
   "cell_type": "markdown",
   "metadata": {},
   "source": [
    "### 实例方法如何访问类变量"
   ]
  },
  {
   "cell_type": "markdown",
   "metadata": {},
   "source": [
    "方法一：print(Student.sum)\n",
    "方法二：print(self.__class__.sum)"
   ]
  },
  {
   "cell_type": "code",
   "execution_count": null,
   "metadata": {},
   "outputs": [],
   "source": []
  },
  {
   "cell_type": "markdown",
   "metadata": {},
   "source": [
    "## 方法：实例方法、类方法、静态方法"
   ]
  },
  {
   "cell_type": "code",
   "execution_count": 24,
   "metadata": {},
   "outputs": [],
   "source": [
    "class Student2():\n",
    "    sum1=0\n",
    "    def __init__(self,name,age):\n",
    "        self.name=name\n",
    "        self.age=age\n",
    "        self.__class__.sum1+=1\n",
    "        print(self.__class__.sum1)   "
   ]
  },
  {
   "cell_type": "code",
   "execution_count": 25,
   "metadata": {},
   "outputs": [
    {
     "name": "stdout",
     "output_type": "stream",
     "text": [
      "1\n",
      "2\n"
     ]
    }
   ],
   "source": [
    "student_1=Student2('ni',19)\n",
    "student_2=Student2('deep',19)"
   ]
  },
  {
   "cell_type": "code",
   "execution_count": 28,
   "metadata": {},
   "outputs": [],
   "source": [
    "class Student3():\n",
    "    sum=0\n",
    "    def __init__(self,name,age):   #这是一个实例方法\n",
    "        self.name=name\n",
    "        self.age=age\n",
    "    @classmethod\n",
    "    def plus_sum(cls): #这是一个类方法\n",
    "        cls.sum+=1\n",
    "        print(cls.sum)"
   ]
  },
  {
   "cell_type": "code",
   "execution_count": 29,
   "metadata": {},
   "outputs": [
    {
     "name": "stdout",
     "output_type": "stream",
     "text": [
      "1\n",
      "2\n"
     ]
    }
   ],
   "source": [
    "#如何调用类方法\n",
    "student_1=Student3('ni',19)\n",
    "Student3.plus_sum()\n",
    "student_2=Student3('deep',19)\n",
    "Student3.plus_sum()"
   ]
  },
  {
   "cell_type": "markdown",
   "metadata": {},
   "source": [
    "### 类方法与静态方法"
   ]
  },
  {
   "cell_type": "markdown",
   "metadata": {},
   "source": [
    "@classmethod"
   ]
  },
  {
   "cell_type": "code",
   "execution_count": 35,
   "metadata": {},
   "outputs": [],
   "source": [
    "class Student_4():\n",
    "    sum=0\n",
    "    def __init__(self,name,age):   #这是一个实例方法\n",
    "        self.name=name\n",
    "        self.age=age\n",
    "    @classmethod\n",
    "    def plus_sum(cls): #这是一个类方法\n",
    "        cls.sum+=1\n",
    "        print(cls.sum)\n",
    "    @staticmethod\n",
    "    def add(x,y):\n",
    "        print('This is a staticmethod')"
   ]
  },
  {
   "cell_type": "code",
   "execution_count": 39,
   "metadata": {},
   "outputs": [],
   "source": [
    "student_5=Student_4('Chen',28)"
   ]
  },
  {
   "cell_type": "code",
   "execution_count": 40,
   "metadata": {},
   "outputs": [
    {
     "name": "stdout",
     "output_type": "stream",
     "text": [
      "This is a staticmethod\n"
     ]
    }
   ],
   "source": [
    "Student_4.add(1,2)"
   ]
  },
  {
   "cell_type": "code",
   "execution_count": null,
   "metadata": {},
   "outputs": [],
   "source": []
  },
  {
   "cell_type": "markdown",
   "metadata": {},
   "source": [
    "## 构造函数"
   ]
  },
  {
   "cell_type": "markdown",
   "metadata": {},
   "source": [
    "构造函数与实例方法的区别，实例方法是用来定义对象的行为，构造函数的作用是用来初始化类的特征"
   ]
  },
  {
   "cell_type": "markdown",
   "metadata": {},
   "source": [
    "## 成员的可见性"
   ]
  },
  {
   "cell_type": "markdown",
   "metadata": {},
   "source": [
    "双下划线：python内置变量  \n",
    "前面双下划线：私有变量private"
   ]
  },
  {
   "cell_type": "markdown",
   "metadata": {},
   "source": [
    "## 面向对象的3大特性"
   ]
  },
  {
   "cell_type": "code",
   "execution_count": null,
   "metadata": {},
   "outputs": [],
   "source": []
  }
 ],
 "metadata": {
  "kernelspec": {
   "display_name": "Python 3",
   "language": "python",
   "name": "python3"
  },
  "language_info": {
   "codemirror_mode": {
    "name": "ipython",
    "version": 3
   },
   "file_extension": ".py",
   "mimetype": "text/x-python",
   "name": "python",
   "nbconvert_exporter": "python",
   "pygments_lexer": "ipython3",
   "version": "3.7.7"
  },
  "toc-autonumbering": true
 },
 "nbformat": 4,
 "nbformat_minor": 4
}
