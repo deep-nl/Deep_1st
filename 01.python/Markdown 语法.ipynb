{
 "cells": [
  {
   "cell_type": "markdown",
   "metadata": {},
   "source": [
    "# 常用快捷键\n",
    "## 编辑模式"
   ]
  },
  {
   "cell_type": "markdown",
   "metadata": {},
   "source": [
    "| TH1 | TH2 | \n",
    "|----| ----|\n",
    "| TH1|  TH2 | "
   ]
  },
  {
   "cell_type": "markdown",
   "metadata": {},
   "source": [
    "这是在  \n",
    "干什么"
   ]
  },
  {
   "cell_type": "markdown",
   "metadata": {},
   "source": [
    "## 如何制作表格  \n",
    "使用“-”和“|”来制作表格"
   ]
  },
  {
   "cell_type": "markdown",
   "metadata": {},
   "source": [
    "## <font color=#0099ff size=7 face=\"黑体\">如何改变大小和颜色</font>\n",
    "---\n",
    "如下代码加以学习"
   ]
  },
  {
   "cell_type": "markdown",
   "metadata": {},
   "source": [
    "<font face=\"黑体\">我是黑体字</font>  \n",
    "<font face=\"微软雅黑\">我是微软雅黑</font>  \n",
    "<font face=\"STCAIYUN\">我是华文彩云</font>  \n",
    "<font color=#0099ff size=7 face=\"黑体\">color=#0099ff size=72 face=\"黑体\"</font>  \n",
    "<font color=#00ffff size=72>color=#00ffff</font>  \n",
    "<font color=gray size=72>color=gray</font>  \n"
   ]
  },
  {
   "cell_type": "markdown",
   "metadata": {},
   "source": [
    "<table><tr><td bgcolor=orange>背景色是：orange</td></tr></table>"
   ]
  },
  {
   "cell_type": "markdown",
   "metadata": {},
   "source": [
    "如何"
   ]
  },
  {
   "cell_type": "markdown",
   "metadata": {},
   "source": [
    "# 表格设置"
   ]
  },
  {
   "cell_type": "markdown",
   "metadata": {},
   "source": [
    "<table><tbody>\n",
    "    <tr>\n",
    "        <th>方法说明</th><th>颜色名称</th><th>颜色</th>\n",
    "    </tr>\n",
    "    <tr>\n",
    "        <td><font color=\"Hotpink\">此处实现方法利用 CSDN-markdown 内嵌 html 语言的优势</font></td><td><font color=\"Hotpink\">Hotpink</font></td><td bgcolor=\"Hotpink\">rgb(240, 248, 255)</td>\n",
    "    </tr>\n",
    "    <tr>\n",
    "        <td><font color=\"Pink\">借助 table, tr, td 等表格标签的 bgcolor 属性实现背景色设置</font></td><td><font color=\"pink\">AntiqueWhite</font></td><td bgcolor=\"Pink\">rgb(255, 192, 203)</td>\n",
    "    </tr>\n",
    "</table>"
   ]
  },
  {
   "cell_type": "markdown",
   "metadata": {},
   "source": [
    "<table><tbody>\n",
    "    <tr>\n",
    "        <th rowspan=\"3\">我占了三行</th>\n",
    "        <th>第一列</th>\n",
    "        <th>第二列</th>\n",
    "        <th>第三列</th>\n",
    "    </tr>\n",
    "    <tr>\n",
    "        <td>第一列</td>\n",
    "        <td>第二列</td>\n",
    "        <td>第三列</td>\n",
    "    </tr>\n",
    "    <tr>\n",
    "        <td>第一列</td>\n",
    "        <td>第二列</td>\n",
    "        <td>第三列</td>\n",
    "    </tr>\n",
    "</table>  "
   ]
  },
  {
   "cell_type": "markdown",
   "metadata": {},
   "source": [
    "<!DOCTYPE html>\n",
    "<html>\n",
    "<head>\n",
    "<meta charset=\"utf-8\">\n",
    "<title>菜鸟教程(runoob.com)</title>\n",
    "</head>\n",
    "<body>\n",
    "    <h1>我的第一个标题</h1>\n",
    "    <p>我的第一个段落。</p>\n",
    "</body>\n",
    "</html>"
   ]
  },
  {
   "cell_type": "markdown",
   "metadata": {},
   "source": [
    "1.标题\n",
    "\n",
    "    # 一级标题   ## 二级   ### 三级  ####  四级 ##### 五级 ###### 六级\n",
    "\n",
    "2.列表\n",
    "\n",
    "    - 列1\n",
    "\n",
    "    - 列2\n",
    "\n",
    "    -列3\n",
    "\n",
    "    有序列表（1. 列1     2. 列2 ）\n",
    "\n",
    "    ！注意-、1. 与文本之间保留一个字符的空格\n",
    "\n",
    "3.换行---单个段落<p>,多好<br />      ! br 与 /之间有空格\n",
    "\n",
    "4.分割---使用三个---\n",
    "\n",
    "5.缩进---tab\n",
    "\n",
    "6.链接---[显示文本](链接地址) \n",
    "7.显示网络图片---[图片上传失败...(image-e5487e-1532944546573)]\n",
    "\n",
    "[](http://upload-images.jianshu.io/upload_images/1801379-f49e84b8e0abb9ab.jpg?imageMogr2/auto-orient/strip%7CimageView2/2/w/1240)    \n",
    "\n",
    "8.引用---在开头加 >和一个空格，表示代码的引用， >>即时进行嵌套。\n",
    "\n",
    "9.代码区域---<code> 和</code>之间即是代码区域or 在'''和'''之间添加对应的代码。\n",
    "\n",
    "10.特殊显示---在'和'之间显示内容\n",
    "\n",
    "11.特殊符号---用\\来转义，表示文本中的markdown符号\n",
    "\n",
    "12.文本强调---*斜体*   **加粗**    ***粗斜体***  或者 _强调_   __加粗__    ___粗斜体___\n",
    "\n",
    "13.分割线---******"
   ]
  }
 ],
 "metadata": {
  "kernelspec": {
   "display_name": "Python 3",
   "language": "python",
   "name": "python3"
  },
  "language_info": {
   "codemirror_mode": {
    "name": "ipython",
    "version": 3
   },
   "file_extension": ".py",
   "mimetype": "text/x-python",
   "name": "python",
   "nbconvert_exporter": "python",
   "pygments_lexer": "ipython3",
   "version": "3.7.4"
  },
  "toc": {
   "base_numbering": 1,
   "nav_menu": {},
   "number_sections": true,
   "sideBar": true,
   "skip_h1_title": false,
   "title_cell": "Table of Contents",
   "title_sidebar": "Contents",
   "toc_cell": false,
   "toc_position": {},
   "toc_section_display": true,
   "toc_window_display": false
  }
 },
 "nbformat": 4,
 "nbformat_minor": 4
}
