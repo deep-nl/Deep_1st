{
 "cells": [
  {
   "cell_type": "markdown",
   "metadata": {},
   "source": [
    "# 正则表达的标准方式\n"
   ]
  },
  {
   "cell_type": "markdown",
   "metadata": {},
   "source": [
    "<font color=red size=4 face=\"黑体\">正则表达式是一个特殊的字符序列，一个字符串是否与我们所设定的这样的字符序列相匹配</font> "
   ]
  },
  {
   "cell_type": "code",
   "execution_count": 43,
   "metadata": {},
   "outputs": [],
   "source": [
    "import re\n"
   ]
  },
  {
   "cell_type": "code",
   "execution_count": 3,
   "metadata": {},
   "outputs": [
    {
     "name": "stdout",
     "output_type": "stream",
     "text": [
      "True\n"
     ]
    }
   ],
   "source": [
    "a='C|C++|Java|C#|Python|Javascript'\n",
    "print('Python' in a)"
   ]
  },
  {
   "cell_type": "code",
   "execution_count": null,
   "metadata": {},
   "outputs": [],
   "source": []
  },
  {
   "cell_type": "code",
   "execution_count": 4,
   "metadata": {},
   "outputs": [
    {
     "data": {
      "text/plain": [
       "['Python']"
      ]
     },
     "execution_count": 4,
     "metadata": {},
     "output_type": "execute_result"
    }
   ],
   "source": [
    "re.findall('Python',a)"
   ]
  },
  {
   "cell_type": "code",
   "execution_count": 5,
   "metadata": {},
   "outputs": [
    {
     "name": "stdout",
     "output_type": "stream",
     "text": [
      "Python\n"
     ]
    }
   ],
   "source": [
    "r=re.findall('Python',a)\n",
    "if len(r)>0:\n",
    "    print('Python')\n",
    "else:\n",
    "    print('No')"
   ]
  },
  {
   "cell_type": "markdown",
   "metadata": {},
   "source": [
    "\n",
    "<font color=#0099ff size=4 face=\"黑体\">看似没有什么意义的正则表达式</font> "
   ]
  },
  {
   "cell_type": "markdown",
   "metadata": {},
   "source": [
    "# 如何利用正则表达式的规则"
   ]
  },
  {
   "cell_type": "code",
   "execution_count": 6,
   "metadata": {},
   "outputs": [],
   "source": [
    "b='sdada89jdadjakdjkadjkadj887dadnd9~'   #如何提取数字"
   ]
  },
  {
   "cell_type": "code",
   "execution_count": 7,
   "metadata": {},
   "outputs": [
    {
     "data": {
      "text/plain": [
       "['8', '9', '8', '8', '7', '9']"
      ]
     },
     "execution_count": 7,
     "metadata": {},
     "output_type": "execute_result"
    }
   ],
   "source": [
    "re.findall('\\d',b)"
   ]
  },
  {
   "cell_type": "markdown",
   "metadata": {},
   "source": [
    "'Python' 普通字符  \n",
    "'\\d'   元字符"
   ]
  },
  {
   "cell_type": "code",
   "execution_count": 8,
   "metadata": {},
   "outputs": [],
   "source": [
    "import numpy as np\n",
    "import pandas as pd\n",
    "from pandas import Series,DataFrame"
   ]
  },
  {
   "cell_type": "code",
   "execution_count": 9,
   "metadata": {},
   "outputs": [
    {
     "data": {
      "text/plain": [
       "True"
      ]
     },
     "execution_count": 9,
     "metadata": {},
     "output_type": "execute_result"
    }
   ],
   "source": [
    "import webbrowser\n",
    "link='https://zh.wikipedia.org/wiki/%E6%AD%A3%E5%88%99%E8%A1%A8%E8%BE%BE%E5%BC%8F'\n",
    "webbrowser.open(link)"
   ]
  },
  {
   "cell_type": "code",
   "execution_count": 10,
   "metadata": {},
   "outputs": [],
   "source": [
    "pd=pd.read_clipboard()"
   ]
  },
  {
   "cell_type": "code",
   "execution_count": 11,
   "metadata": {},
   "outputs": [
    {
     "name": "stdout",
     "output_type": "stream",
     "text": [
      "              字符                                                 描述\n",
      "0              \\  将下一个字符标记为一个特殊字符（File Format Escape，清单见本表）、或一个原...\n",
      "1              ^  匹配输入字符串的开始位置。如果设置了RegExp对象的Multiline属性，^也匹配“\\n...\n",
      "2              $  匹配输入字符串的结束位置。如果设置了RegExp对象的Multiline属性，$也匹配“\\n...\n",
      "3              *  匹配前面的子表达式零次或多次。例如，zo*能匹配“z”、“zo”以及“zoo”。*等价于{0,}。\n",
      "4              +  匹配前面的子表达式一次或多次。例如，“zo+”能匹配“zo”以及“zoo”，但不能匹配“z”...\n",
      "5              ?  匹配前面的子表达式零次或一次。例如，“do(es)?”可以匹配“do”或“does”中的“d...\n",
      "6            {n}  n是一个非负整数。匹配确定的n次。例如，“o{2}”不能匹配“Bob”中的“o”，但是能匹配...\n",
      "7           {n,}  n是一个非负整数。至少匹配n次。例如，“o{2,}”不能匹配“Bob”中的“o”，但能匹配“...\n",
      "8          {n,m}  m和n均为非负整数，其中n<=m。最少匹配n次且最多匹配m次。例如，“o{1,3}”将匹配“...\n",
      "9              ?  非贪心量化（Non-greedy quantifiers）：当该字符紧跟在任何一个其他重复修...\n",
      "10             .  匹配除“\\r”“\\n”之外的任何单个字符。要匹配包括“\\r”“\\n”在内的任何字符，请使用像...\n",
      "11     (pattern)  匹配pattern并获取这一匹配的子字符串。该子字符串用于向后引用。所获取的匹配可以从产生的...\n",
      "12   (?:pattern)  匹配pattern但不获取匹配的子字符串（shy groups），也就是说这是一个非获取匹配...\n",
      "13   (?=pattern)  正向肯定预查（look ahead positive assert），在任何匹配patter...\n",
      "14   (?!pattern)  正向否定预查（negative assert），在任何不匹配pattern的字符串开始处匹配...\n",
      "15  (?<=pattern)  反向（look behind）肯定预查，与正向肯定预查类似，只是方向相反。例如，“(?<=9...\n",
      "16  (?<!pattern)  反向否定预查，与正向否定预查类似，只是方向相反。例如“(?<!95|98|NT|2000)W...\n",
      "17           x|y  没有包围在()里，其范围是整个正则表达式。例如，“z|food”能匹配“z”或“food”。...\n",
      "18         [xyz]  字符集合（character class）。匹配所包含的任意一个字符。例如，“[abc]”可...\n",
      "19        [^xyz]  排除型字符集合（negated character classes）。匹配未列出的任意字符。...\n",
      "20         [a-z]  字符范围。匹配指定范围内的任意字符。例如，“[a-z]”可以匹配“a”到“z”范围内的任意小...\n",
      "21        [^a-z]  排除型的字符范围。匹配任何不在指定范围内的任意字符。例如，“[^a-z]”可以匹配任何不在“...\n",
      "22      [:name:]  增加命名字符类（named character class）[注 1]中的字符到表达式。只能...\n",
      "23       [=elt=]  增加当前locale下排序（collate）等价于字符“elt”的元素。例如，[=a=]可能...\n",
      "24       [.elt.]  增加排序元素（collation element）elt到表达式中。这是因为某些排序元素由多...\n",
      "25            \\b  匹配一个单词边界，也就是指单词和空格间的位置。例如，“er\\b”可以匹配“never”中的“...\n",
      "26            \\B  匹配非单词边界。“er\\B”能匹配“verb”中的“er”，但不能匹配“never”中的“er”。\n",
      "27           \\cx  匹配由x指明的控制字符。x的值必须为A-Z或a-z之一。否则，将c视为一个原义的“c”字符。...\n",
      "28            \\d         匹配一个数字字符。等价于[0-9]。注意Unicode正则表达式会匹配全角数字字符。\n",
      "29            \\D                               匹配一个非数字字符。等价于[^0-9]。\n",
      "30            \\f                               匹配一个换页符。等价于\\x0c和\\cL。\n",
      "31            \\n                               匹配一个换行符。等价于\\x0a和\\cJ。\n",
      "32            \\r                               匹配一个回车符。等价于\\x0d和\\cM。\n",
      "33            \\s  匹配任何空白字符，包括空格、制表符、换页符等等。等价于[ \\f\\n\\r\\t\\v]。注意Uni...\n",
      "34            \\S                       匹配任何非空白字符。等价于[^ \\f\\n\\r\\t\\v]。\n",
      "35            \\t                               匹配一个制表符。等价于\\x09和\\cI。\n",
      "36            \\v                             匹配一个垂直制表符。等价于\\x0b和\\cK。\n",
      "37            \\w  匹配包括下划线的任何单词字符。等价于“[A-Za-z0-9_]”。注意Unicode正则表达...\n",
      "38            \\W                      匹配任何非单词字符。等价于“[^A-Za-z0-9_]”。\n",
      "39          \\xnn  十六进制转义字符序列。匹配两个十六进制数字nn表示的字符。例如，“\\x41”匹配“A”。“\\...\n",
      "40          \\num  向后引用（back-reference）一个子字符串（substring），该子字符串与正则...\n",
      "41            \\n  标识一个八进制转义值或一个向后引用。如果\\n之前至少n个获取的子表达式，则n为向后引用。否则...\n",
      "42           \\nm  3位八进制数字，标识一个八进制转义值或一个向后引用。如果\\nm之前至少有nm个获得子表达式，...\n",
      "43          \\nml      如果n为八进制数字（0-3），且m和l均为八进制数字（0-7），则匹配八进制转义值nml。\n",
      "44           \\un  Unicode转义字符序列。其中n是一个用四个十六进制数字表示的Unicode字符。例如，\\...\n"
     ]
    }
   ],
   "source": [
    "print(pd)"
   ]
  },
  {
   "cell_type": "markdown",
   "metadata": {},
   "source": [
    "# 应用"
   ]
  },
  {
   "cell_type": "markdown",
   "metadata": {},
   "source": [
    "## 例子（1）"
   ]
  },
  {
   "cell_type": "code",
   "execution_count": 10,
   "metadata": {},
   "outputs": [],
   "source": [
    "a='abc, acc, aec, akc, afc, acc'    #列出三个字母中间为C的组合,以及中间不包含C的字母组合"
   ]
  },
  {
   "cell_type": "code",
   "execution_count": 11,
   "metadata": {},
   "outputs": [
    {
     "name": "stdout",
     "output_type": "stream",
     "text": [
      "['acc', 'afc', 'acc']\n"
     ]
    }
   ],
   "source": [
    "r_1=re.findall('a[cf]c',a)\n",
    "print(r_1)"
   ]
  },
  {
   "cell_type": "code",
   "execution_count": 12,
   "metadata": {},
   "outputs": [
    {
     "name": "stdout",
     "output_type": "stream",
     "text": [
      "['abc', 'aec', 'akc']\n"
     ]
    }
   ],
   "source": [
    "r_1=re.findall('a[^cf]c',a)\n",
    "print(r_1)"
   ]
  },
  {
   "cell_type": "markdown",
   "metadata": {},
   "source": [
    "## 例子（2）"
   ]
  },
  {
   "cell_type": "code",
   "execution_count": null,
   "metadata": {},
   "outputs": [],
   "source": [
    "#概况字符集，例如\\D,\\d,\\w    \\d=0-9   \\D=^0-9    \\w=\\d & \\D\n",
    "#\\w只能匹配元字符，即大写字母、小写字母、数字\n",
    "#\\w=[A-Z a-z 0-9 _]\n",
    "#\\W   空格 \\t \\n \\r\n",
    "# \\s  匹配任何空白字符，包括空格、制表符、换页符等等。等价于[ \\f\\n\\r\\t\\v]。\n",
    "#\\S   匹配任何非空白字符。等价于[^ \\f\\n\\r\\t\\v]"
   ]
  },
  {
   "cell_type": "markdown",
   "metadata": {},
   "source": [
    "## 例子：如何匹配字母"
   ]
  },
  {
   "cell_type": "code",
   "execution_count": 13,
   "metadata": {},
   "outputs": [],
   "source": [
    "b='python 123 java456 php'"
   ]
  },
  {
   "cell_type": "code",
   "execution_count": 18,
   "metadata": {},
   "outputs": [
    {
     "name": "stdout",
     "output_type": "stream",
     "text": [
      "['pyt', 'hon', 'jav', 'php']\n"
     ]
    }
   ],
   "source": [
    "r=re.findall('[a-z][a-z][a-z]',b)\n",
    "print(r)"
   ]
  },
  {
   "cell_type": "code",
   "execution_count": 19,
   "metadata": {},
   "outputs": [
    {
     "name": "stdout",
     "output_type": "stream",
     "text": [
      "['pyt', 'hon', 'jav', 'php']\n"
     ]
    }
   ],
   "source": [
    "r_2=re.findall('[a-z]{3}',b)\n",
    "print(r_2)"
   ]
  },
  {
   "cell_type": "code",
   "execution_count": 21,
   "metadata": {},
   "outputs": [
    {
     "name": "stdout",
     "output_type": "stream",
     "text": [
      "['python']\n"
     ]
    }
   ],
   "source": [
    "r_2=re.findall('[a-z]{6}',b)   #\n",
    "print(r_2)"
   ]
  },
  {
   "cell_type": "code",
   "execution_count": 20,
   "metadata": {},
   "outputs": [
    {
     "name": "stdout",
     "output_type": "stream",
     "text": [
      "['python', 'java', 'php']\n"
     ]
    }
   ],
   "source": [
    "r_2=re.findall('[a-z]{3,6}',b)   #\n",
    "print(r_2)"
   ]
  },
  {
   "cell_type": "code",
   "execution_count": 22,
   "metadata": {},
   "outputs": [
    {
     "name": "stdout",
     "output_type": "stream",
     "text": [
      "['python', 'java', 'php']\n"
     ]
    }
   ],
   "source": [
    "c='python 123 java456 php676qe'\n",
    "r_3=re.findall('[a-z]{3,6}',c)   #请注意  qe打不出来\n",
    "print(r_3)"
   ]
  },
  {
   "cell_type": "code",
   "execution_count": null,
   "metadata": {},
   "outputs": [],
   "source": [
    "# 正则表达式的贪婪（上面的例子，取3）与非贪婪（取6）  ，视频50分钟### 例子：如何匹配字母\n",
    "# ？会导致非贪婪"
   ]
  },
  {
   "cell_type": "markdown",
   "metadata": {},
   "source": [
    "## 其他常用    *"
   ]
  },
  {
   "cell_type": "markdown",
   "metadata": {},
   "source": [
    "<font color=#0099ff size=4 face=\"黑体\">\n",
    "*的作用：匹配前面的子表达式零次或多次。例如，zo*能匹配“z”、“zo”以及“zoo”。*等价于{0,}  \n",
    "+的作用：匹配前面的子表达式一次或多次。例如，“zo+”能匹配“zo”以及“zoo”，但不能匹配“z”.  \n",
    "?的作用：匹配前面的子表达式零次或一次。例如，“do(es)?”可以匹配“do”或“does”中的“d.  \n",
    ".的作用：匹配除“\\r”“\\n”之外的任何单个字符。要匹配包括“\\r”“\\n”在内的任何字符请使用像“(.|\\r|\\n)”的模式。\n",
    "</font> "
   ]
  },
  {
   "cell_type": "code",
   "execution_count": 29,
   "metadata": {},
   "outputs": [],
   "source": [
    "d='pytho1python2pythonn3'"
   ]
  },
  {
   "cell_type": "code",
   "execution_count": 26,
   "metadata": {},
   "outputs": [
    {
     "name": "stdout",
     "output_type": "stream",
     "text": [
      "['pytho', 'python', 'python']\n"
     ]
    }
   ],
   "source": [
    "r=re.findall('python?',d)       \n",
    "print(r)"
   ]
  },
  {
   "cell_type": "code",
   "execution_count": 34,
   "metadata": {},
   "outputs": [
    {
     "name": "stdout",
     "output_type": "stream",
     "text": [
      "['python', 'pythonn']\n"
     ]
    }
   ],
   "source": [
    "r=re.findall('python{1,2}',d)  #贪婪模式，努力寻找更多的n\n",
    "print(r)"
   ]
  },
  {
   "cell_type": "code",
   "execution_count": 35,
   "metadata": {},
   "outputs": [
    {
     "name": "stdout",
     "output_type": "stream",
     "text": [
      "[]\n"
     ]
    }
   ],
   "source": [
    "r_5=re.findall('python{1,2}？',d)  #贪婪模式\n",
    "print(r_5)"
   ]
  },
  {
   "cell_type": "markdown",
   "metadata": {},
   "source": [
    "## 边界匹配"
   ]
  },
  {
   "cell_type": "code",
   "execution_count": 49,
   "metadata": {},
   "outputs": [],
   "source": [
    "qq='100000001'   #判断这是不是一个QQ号，QQ号一般是4到8位"
   ]
  },
  {
   "cell_type": "code",
   "execution_count": 54,
   "metadata": {},
   "outputs": [
    {
     "name": "stdout",
     "output_type": "stream",
     "text": [
      "['10000000']\n"
     ]
    }
   ],
   "source": [
    "r=re.findall('\\d{4,8}',qq)\n",
    "print(r)"
   ]
  },
  {
   "cell_type": "code",
   "execution_count": 46,
   "metadata": {},
   "outputs": [
    {
     "name": "stdout",
     "output_type": "stream",
     "text": [
      "[]\n"
     ]
    }
   ],
   "source": [
    "print(r)"
   ]
  },
  {
   "cell_type": "markdown",
   "metadata": {},
   "source": [
    "## 组的概念，用（）方法，例如python{3}为pythonnn， (python){3}为pythonpythonpython"
   ]
  },
  {
   "cell_type": "code",
   "execution_count": 55,
   "metadata": {},
   "outputs": [],
   "source": [
    "e='pythonpythonpythonpythonpythonpythonpythonpython'    #确定这个字符串里面是否包含三个python"
   ]
  },
  {
   "cell_type": "code",
   "execution_count": 57,
   "metadata": {},
   "outputs": [
    {
     "name": "stdout",
     "output_type": "stream",
     "text": [
      "['pythonpythonpython', 'pythonpythonpython']\n"
     ]
    }
   ],
   "source": [
    "r=re.findall('pythonpythonpython',e) #方法一\n",
    "print(r)"
   ]
  },
  {
   "cell_type": "code",
   "execution_count": 61,
   "metadata": {},
   "outputs": [
    {
     "name": "stdout",
     "output_type": "stream",
     "text": [
      "['python', 'python']\n"
     ]
    }
   ],
   "source": [
    "r=re.findall('(python){3}',e) #方法二\n",
    "print(r)"
   ]
  },
  {
   "cell_type": "code",
   "execution_count": 64,
   "metadata": {},
   "outputs": [],
   "source": [
    "s='life is short,i use python'  #提取life和python之间的字母"
   ]
  },
  {
   "cell_type": "code",
   "execution_count": 65,
   "metadata": {},
   "outputs": [
    {
     "name": "stdout",
     "output_type": "stream",
     "text": [
      "life is short,i use python\n"
     ]
    }
   ],
   "source": [
    "r=re.search('life.*python',s)\n",
    "print(r.group())"
   ]
  },
  {
   "cell_type": "code",
   "execution_count": 66,
   "metadata": {},
   "outputs": [
    {
     "name": "stdout",
     "output_type": "stream",
     "text": [
      "life is short,i use python\n"
     ]
    }
   ],
   "source": [
    "r=re.search('(life.*python)',s)  #组的概念\n",
    "print(r.group())"
   ]
  },
  {
   "cell_type": "code",
   "execution_count": 67,
   "metadata": {},
   "outputs": [
    {
     "name": "stdout",
     "output_type": "stream",
     "text": [
      "life is short,i use python\n"
     ]
    }
   ],
   "source": [
    "r=re.search('life(.*)python',s)  #group (0)是完整匹配结果\n",
    "print(r.group(0))"
   ]
  },
  {
   "cell_type": "code",
   "execution_count": 68,
   "metadata": {},
   "outputs": [
    {
     "name": "stdout",
     "output_type": "stream",
     "text": [
      " is short,i use \n"
     ]
    }
   ],
   "source": [
    "r=re.search('life(.*)python',s)  #group (0)是完整匹配结果\n",
    "print(r.group(1))"
   ]
  },
  {
   "cell_type": "code",
   "execution_count": 70,
   "metadata": {},
   "outputs": [
    {
     "name": "stdout",
     "output_type": "stream",
     "text": [
      "[' is short,i use ']\n"
     ]
    }
   ],
   "source": [
    "r=re.findall('life(.*)python',s)  #用findall更简单\n",
    "print(r)"
   ]
  },
  {
   "cell_type": "code",
   "execution_count": null,
   "metadata": {},
   "outputs": [],
   "source": []
  }
 ],
 "metadata": {
  "kernelspec": {
   "display_name": "Python 3",
   "language": "python",
   "name": "python3"
  },
  "language_info": {
   "codemirror_mode": {
    "name": "ipython",
    "version": 3
   },
   "file_extension": ".py",
   "mimetype": "text/x-python",
   "name": "python",
   "nbconvert_exporter": "python",
   "pygments_lexer": "ipython3",
   "version": "3.7.3"
  },
  "toc": {
   "base_numbering": "1",
   "nav_menu": {},
   "number_sections": false,
   "sideBar": true,
   "skip_h1_title": false,
   "title_cell": "Table of Contents",
   "title_sidebar": "Contents",
   "toc_cell": false,
   "toc_position": {
    "height": "calc(100% - 180px)",
    "left": "10px",
    "top": "150px",
    "width": "315.833px"
   },
   "toc_section_display": true,
   "toc_window_display": true
  }
 },
 "nbformat": 4,
 "nbformat_minor": 2
}
