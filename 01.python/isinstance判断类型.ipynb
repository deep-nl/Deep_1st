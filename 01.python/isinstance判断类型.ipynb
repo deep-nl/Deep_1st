{
 "cells": [
  {
   "cell_type": "code",
   "execution_count": 1,
   "metadata": {
    "execution": {
     "iopub.execute_input": "2020-06-09T05:44:51.429444Z",
     "iopub.status.busy": "2020-06-09T05:44:51.429444Z",
     "iopub.status.idle": "2020-06-09T05:44:51.439570Z",
     "shell.execute_reply": "2020-06-09T05:44:51.438570Z",
     "shell.execute_reply.started": "2020-06-09T05:44:51.429444Z"
    }
   },
   "outputs": [
    {
     "name": "stdout",
     "output_type": "stream",
     "text": [
      "a is int\n",
      "b is list\n",
      "c is tuple\n",
      "d is dict\n",
      "d is str\n"
     ]
    }
   ],
   "source": [
    "a = 1\n",
    "b = [1,2,3,4]\n",
    "c = (1,2,3,4)\n",
    "d = {'a':1,'b':2,'c':3}\n",
    "e = \"abc\"\n",
    "if isinstance(a,int):\n",
    "    print(\"a is int\")\n",
    "else:\n",
    "    print(\"a is not int\")\n",
    "if isinstance(b,list):\n",
    "    print(\"b is list\")\n",
    "else:\n",
    "    print(\"b is not list\")\n",
    "if isinstance(c,tuple):\n",
    "    print (\"c is tuple\")\n",
    "else:\n",
    "    print(\"c is not tuple\")\n",
    "if isinstance(d,dict):\n",
    "    print(\"d is dict\")\n",
    "else:\n",
    "    print(\"d is not dict\")\n",
    "if isinstance(e,str):\n",
    "    print(\"d is str\")\n",
    "else:\n",
    "    print(\"d is not str\")"
   ]
  },
  {
   "cell_type": "code",
   "execution_count": null,
   "metadata": {},
   "outputs": [],
   "source": []
  }
 ],
 "metadata": {
  "kernelspec": {
   "display_name": "Python 3",
   "language": "python",
   "name": "python3"
  },
  "language_info": {
   "codemirror_mode": {
    "name": "ipython",
    "version": 3
   },
   "file_extension": ".py",
   "mimetype": "text/x-python",
   "name": "python",
   "nbconvert_exporter": "python",
   "pygments_lexer": "ipython3",
   "version": "3.7.7"
  }
 },
 "nbformat": 4,
 "nbformat_minor": 4
}
