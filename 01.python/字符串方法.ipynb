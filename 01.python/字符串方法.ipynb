{
 "cells": [
  {
   "cell_type": "markdown",
   "metadata": {},
   "source": [
    "## 字符串与数字的拼接，str()与repr()"
   ]
  },
  {
   "cell_type": "code",
   "execution_count": 1,
   "metadata": {},
   "outputs": [],
   "source": [
    "age=30\n",
    "study=12\n",
    "sentence='我的年龄是'+str(age)+'，一共学习了'+repr(study)+'年'"
   ]
  },
  {
   "cell_type": "code",
   "execution_count": 2,
   "metadata": {},
   "outputs": [
    {
     "name": "stdout",
     "output_type": "stream",
     "text": [
      "我的年龄是30，一共学习了12年\n"
     ]
    }
   ],
   "source": [
    "print(sentence)"
   ]
  },
  {
   "cell_type": "markdown",
   "metadata": {},
   "source": [
    "str() 和 repr() 的区别  \n",
    "str() 和 repr() 函数虽然都可以将数字转换成字符串，但它们之间是有区别的：  \n",
    "str() 用于将数据转换成适合人类阅读的字符串形式。  \n",
    "repr() 用于将数据转换成适合解释器阅读的字符串形式（Python 表达式的形式），适合在开发和调试阶段使用；如果没有等价的语法，则会发生 SyntaxError 异常。"
   ]
  },
  {
   "cell_type": "code",
   "execution_count": 3,
   "metadata": {},
   "outputs": [
    {
     "name": "stdout",
     "output_type": "stream",
     "text": [
      "123\n",
      "123\n",
      "'123'\n",
      "123\n"
     ]
    }
   ],
   "source": [
    "print(str('123'))                                \n",
    "print(str(123))         \n",
    "print(repr('123'))      \n",
    "print(repr(123))        "
   ]
  },
  {
   "cell_type": "markdown",
   "metadata": {},
   "source": [
    "## 字符串的截取url = 'http://c.biancheng.net/java/'\n",
    "#获取从索引5开始，直到末尾的子串\n",
    "print(url[7: ])\n",
    "#获取从索引-21开始，直到末尾的子串\n",
    "print(url[-21: ])\n",
    "#从开头截取字符串，直到索引22为止\n",
    "print(url[: 22])\n",
    "#每隔3个字符取出一个字符\n",
    "print(url[:: 3])"
   ]
  },
  {
   "cell_type": "markdown",
   "metadata": {},
   "source": [
    "### strname[index]"
   ]
  },
  {
   "cell_type": "markdown",
   "metadata": {},
   "source": [
    "**strname[start : end : step]**  \n",
    "strname：要截取的字符串；  \n",
    "start：表示要截取的第一个字符所在的索引（截取时包含该字符）。如果不指定，默认为 0，也就是从字符串的开头截取； \n",
    "end：表示要截取的最后一个字符所在的索引（截取时不包含该字符）。如果不指定，默认为字符串的长度；  \n",
    "step：指的是从 start 索引处的字符开始，每 step 个距离获取一个字符，直至 end 索引出的字符。step 默认值为 1，当省略该值时，最后一个冒号也可以省略。"
   ]
  },
  {
   "cell_type": "code",
   "execution_count": 5,
   "metadata": {},
   "outputs": [
    {
     "name": "stdout",
     "output_type": "stream",
     "text": [
      "c.biancheng.net\n",
      "c.biancheng.net\n",
      "c.biancheng.net\n",
      "pcaen\n"
     ]
    }
   ],
   "source": [
    "url = 'http://c.biancheng.net/java/'\n",
    "#获取索引从3处22（不包含22）的子串\n",
    "print(url[7: 22]) # 输出 zy\n",
    "#获取索引从7处到-6的子串\n",
    "print(url[7: -6]) # 输出 zyit.org is very\n",
    "#获取索引从-7到6的子串\n",
    "print(url[-21: -6])\n",
    "#从索引3开始，每隔4个字符取出一个字符，直到索引22为止\n",
    "print(url[3: 22: 4])"
   ]
  },
  {
   "cell_type": "code",
   "execution_count": 6,
   "metadata": {},
   "outputs": [
    {
     "name": "stdout",
     "output_type": "stream",
     "text": [
      "c.biancheng.net/java/\n",
      "c.biancheng.net/java/\n",
      "http://c.biancheng.net\n",
      "hp/bne.ta/\n"
     ]
    }
   ],
   "source": [
    "url = 'http://c.biancheng.net/java/'\n",
    "#获取从索引5开始，直到末尾的子串\n",
    "print(url[7: ])\n",
    "#获取从索引-21开始，直到末尾的子串\n",
    "print(url[-21: ])\n",
    "#从开头截取字符串，直到索引22为止\n",
    "print(url[: 22])\n",
    "#每隔3个字符取出一个字符\n",
    "print(url[:: 3])"
   ]
  },
  {
   "cell_type": "markdown",
   "metadata": {},
   "source": [
    "## encode与decode "
   ]
  },
  {
   "cell_type": "markdown",
   "metadata": {},
   "source": [
    "**encode() 方法的语法格式如下：**  \n",
    "str.encode([encoding=\"utf-8\"],[errors=\"strict\"])   \n",
    "[encoding=\"utf-8\"]，指定进行编码时采用的字符编码，该选项默认采用 utf-8 编码。例如，如果想使用简体中文，可以设置 gb2312。当方法中只使用这一个参数时，可以省略前边的“encoding=”，直接写编码格式，例如 str.encode(\"UTF-8\")。  \n",
    "[errors=\"strict\"]指定错误处理方式，其可选择值可以是:  \n",
    "strict：遇到非法字符就抛出异常。  \n",
    "ignore：忽略非法字符。  \n",
    "replace：用“？”替换非法字符。  \n",
    "xmlcharrefreplace：使用 xml 的字符引用。  \n",
    "该参数的默认值为 strict。"
   ]
  },
  {
   "cell_type": "markdown",
   "metadata": {},
   "source": [
    "**decode() 方法的语法格式如下：**  \n",
    "bytes.decode([encoding=\"utf-8\"],[errors=\"strict\"])  \n",
    "bytes表示要进行转换的二进制数据。  \n",
    "[encoding=\"utf-8\"]指定解码时采用的字符编码，默认采用 utf-8 格式。当方法中只使用这一个参数时，可以省略“encoding=”，直接写编码方式即可。注意，对 bytes 类型数据解码，要选择和当初编码时一样的格式。  \n",
    "[errors=\"strict\"]指定错误处理方式，其可选择值可以是：  \n",
    "strict：遇到非法字符就抛出异常。  \n",
    "ignore：忽略非法字符。  \n",
    "replace：用“？”替换非法字符。  \n",
    "xmlcharrefreplace：使用 xml 的字符引用。  \n",
    "该参数的默认值为 strict。  "
   ]
  },
  {
   "cell_type": "markdown",
   "metadata": {},
   "source": [
    "## split()分割字符串 "
   ]
  },
  {
   "cell_type": "markdown",
   "metadata": {},
   "source": [
    "基本语法格式如下：\n",
    "**str.split(sep,maxsplit)**  \n",
    "str：表示要进行分割的字符串；  \n",
    "sep：用于指定分隔符，可以包含多个字符。此参数默认为 None，表示所有空字符，包括空格、换行符“\\n”、制表符“\\t”等。  \n",
    "maxsplit：可选参数，用于指定分割的次数，最后列表中子串的个数最多为 maxsplit+1。如果不指定或者指定为 -1，则表示分割次数没有限制。"
   ]
  },
  {
   "cell_type": "code",
   "execution_count": 14,
   "metadata": {},
   "outputs": [
    {
     "name": "stdout",
     "output_type": "stream",
     "text": [
      "['Google', 'Runoob#Taobao#Facebook']\n",
      "['Google', 'Runoob', 'Taobao#Facebook']\n",
      "['Google', 'Runoob', 'Taobao', 'Facebook']\n"
     ]
    }
   ],
   "source": [
    "txt = \"Google#Runoob#Taobao#Facebook\"\n",
    "# 第二个参数为 1，返回两个参数列表\n",
    "print(txt.split('#',1))\n",
    "print(txt.split('#',2))\n",
    "print(txt.split('#',3))"
   ]
  },
  {
   "cell_type": "markdown",
   "metadata": {},
   "source": [
    "## join()合并字符串"
   ]
  },
  {
   "cell_type": "markdown",
   "metadata": {},
   "source": [
    "**newstr = str.join(iterable)**  \n",
    "此方法中各参数的含义如下：  \n",
    "newstr：表示合并后生成的新字符串；  \n",
    "str：用于指定合并时的分隔符；  \n",
    "iterable：做合并操作的源字符串数据，允许以列表、元组等形式提供。"
   ]
  },
  {
   "cell_type": "code",
   "execution_count": 17,
   "metadata": {},
   "outputs": [],
   "source": [
    "dir = '','usr','bin','env'"
   ]
  },
  {
   "cell_type": "code",
   "execution_count": 19,
   "metadata": {},
   "outputs": [
    {
     "data": {
      "text/plain": [
       "tuple"
      ]
     },
     "execution_count": 19,
     "metadata": {},
     "output_type": "execute_result"
    }
   ],
   "source": [
    "#元组\n",
    "type(dir)"
   ]
  },
  {
   "cell_type": "code",
   "execution_count": 16,
   "metadata": {},
   "outputs": [
    {
     "data": {
      "text/plain": [
       "'/usr/bin/env'"
      ]
     },
     "execution_count": 16,
     "metadata": {},
     "output_type": "execute_result"
    }
   ],
   "source": [
    "'/'.join(dir)"
   ]
  },
  {
   "cell_type": "code",
   "execution_count": 21,
   "metadata": {},
   "outputs": [
    {
     "data": {
      "text/plain": [
       "'/usr/bin/env'"
      ]
     },
     "execution_count": 21,
     "metadata": {},
     "output_type": "execute_result"
    }
   ],
   "source": [
    "#列表\n",
    "'/'.join(list(dir))"
   ]
  },
  {
   "cell_type": "markdown",
   "metadata": {},
   "source": [
    "## count()"
   ]
  },
  {
   "cell_type": "markdown",
   "metadata": {},
   "source": [
    "方法的语法格式如下：\n",
    "str.count(sub,start,end)  \n",
    "此方法中，各参数的具体含义如下：  \n",
    "str：表示原字符串；  \n",
    "sub：表示要检索的字符串；  \n",
    "start：指定检索的起始位置，也就是从什么位置开始检测。如果不指定，默认从头开始检索；  \n",
    "end：指定检索的终止位置，如果不指定，则表示一直检索到结尾。"
   ]
  },
  {
   "cell_type": "code",
   "execution_count": 24,
   "metadata": {},
   "outputs": [
    {
     "data": {
      "text/plain": [
       "2"
      ]
     },
     "execution_count": 24,
     "metadata": {},
     "output_type": "execute_result"
    }
   ],
   "source": [
    "str = \"c.biancheng.net\"\n",
    "str.count('.')"
   ]
  },
  {
   "cell_type": "code",
   "execution_count": 25,
   "metadata": {},
   "outputs": [
    {
     "data": {
      "text/plain": [
       "2"
      ]
     },
     "execution_count": 25,
     "metadata": {},
     "output_type": "execute_result"
    }
   ],
   "source": [
    "str.count('.',1)"
   ]
  },
  {
   "cell_type": "code",
   "execution_count": 23,
   "metadata": {},
   "outputs": [
    {
     "data": {
      "text/plain": [
       "1"
      ]
     },
     "execution_count": 23,
     "metadata": {},
     "output_type": "execute_result"
    }
   ],
   "source": [
    "str.count('.',2)"
   ]
  },
  {
   "cell_type": "markdown",
   "metadata": {},
   "source": [
    "## find()"
   ]
  },
  {
   "cell_type": "markdown",
   "metadata": {},
   "source": [
    "**str.find(sub,start,end)**  \n",
    "此格式中各参数的含义如下：  \n",
    "str：表示原字符串；  \n",
    "sub：表示要检索的目标字符串；  \n",
    "start：表示开始检索的起始位置。如果不指定，则默认从头开始检索；  \n",
    "end：表示结束检索的结束位置。如果不指定，则默认一直检索到结尾。"
   ]
  },
  {
   "cell_type": "code",
   "execution_count": 26,
   "metadata": {},
   "outputs": [
    {
     "data": {
      "text/plain": [
       "1"
      ]
     },
     "execution_count": 26,
     "metadata": {},
     "output_type": "execute_result"
    }
   ],
   "source": [
    "str.find('.',1)"
   ]
  },
  {
   "cell_type": "code",
   "execution_count": 27,
   "metadata": {},
   "outputs": [
    {
     "data": {
      "text/plain": [
       "6"
      ]
     },
     "execution_count": 27,
     "metadata": {},
     "output_type": "execute_result"
    }
   ],
   "source": [
    "str.find('c',1)"
   ]
  },
  {
   "cell_type": "markdown",
   "metadata": {},
   "source": [
    "## index()"
   ]
  },
  {
   "cell_type": "markdown",
   "metadata": {},
   "source": [
    "同 find() 方法类似，index() 方法也可以用于检索是否包含指定的字符串，不同之处在于，当指定的字符串不存在时，index() 方法会抛出异常。"
   ]
  },
  {
   "cell_type": "markdown",
   "metadata": {},
   "source": [
    "## ljust()  rjust()"
   ]
  },
  {
   "cell_type": "markdown",
   "metadata": {},
   "source": [
    "ljust() 方法的功能是向指定字符串的右侧填充指定字符，从而达到左对齐文本的目的。  \n",
    "S.ljust(width[, fillchar])  \n",
    "其中各个参数的含义如下：  \n",
    "S：表示要进行填充的字符串；  \n",
    "width：表示包括 S 本身长度在内，字符串要占的总长度；  \n",
    "fillchar：作为可选参数，用来指定填充字符串时所用的字符，默认情况使用空格。  \n",
    "\n",
    "rjust()与ljust()相反   \n",
    "center() 让文本居中"
   ]
  },
  {
   "cell_type": "code",
   "execution_count": 4,
   "metadata": {},
   "outputs": [
    {
     "name": "stdout",
     "output_type": "stream",
     "text": [
      "http://c.biancheng.net/python/-----\n",
      "http://c.biancheng.net-------------\n",
      "-----http://c.biancheng.net/python/\n",
      "-------------http://c.biancheng.net\n",
      "---http://c.biancheng.net/python/--\n",
      "-------http://c.biancheng.net------\n"
     ]
    }
   ],
   "source": [
    "S = 'http://c.biancheng.net/python/'\n",
    "addr = 'http://c.biancheng.net'\n",
    "print(S.ljust(35,'-'))\n",
    "print(addr.ljust(35,'-'))\n",
    "print(S.rjust(35,'-'))\n",
    "print(addr.rjust(35,'-'))\n",
    "print(S.center(35,'-'))\n",
    "print(addr.center(35,'-'))"
   ]
  },
  {
   "cell_type": "markdown",
   "metadata": {},
   "source": [
    "## startswith()和endswith()方"
   ]
  },
  {
   "cell_type": "markdown",
   "metadata": {},
   "source": [
    "startswith() 方法用于检索字符串是否以指定字符串开头，如果是返回 True；反之返回 False。此方法的语法格式如下：  \n",
    "**str.startswith(sub,start,end)**  \n",
    "str：表示原字符串；\n",
    "sub：要检索的子串；  \n",
    "start：指定检索开始的起始位置索引，如果不指定，则默认从头开始检索；  \n",
    "end：指定检索的结束位置索引，如果不指定，则默认一直检索在结束。"
   ]
  },
  {
   "cell_type": "code",
   "execution_count": 28,
   "metadata": {},
   "outputs": [
    {
     "data": {
      "text/plain": [
       "True"
      ]
     },
     "execution_count": 28,
     "metadata": {},
     "output_type": "execute_result"
    }
   ],
   "source": [
    "str = \"c.biancheng.net\"\n",
    "str.startswith(\"c\")"
   ]
  },
  {
   "cell_type": "markdown",
   "metadata": {},
   "source": [
    "endswith() 方法用于检索字符串是否以指定字符串结尾，如果是则返回 True；反之则返回 False。该方法的语法格式如下：  \n",
    "**str.endswith(sub,start,end)**  \n",
    "此格式中各参数的含义如下：  \n",
    "str：表示原字符串；  \n",
    "sub：表示要检索的字符串；  \n",
    "start：指定检索开始时的起始位置索引（字符串第一个字符对应的索引值为 0），如果不指定，默认从头开始检索。  \n",
    "end：指定检索的结束位置索引，如果不指定，默认一直检索到结束。"
   ]
  },
  {
   "cell_type": "markdown",
   "metadata": {},
   "source": [
    "## 检验"
   ]
  },
  {
   "cell_type": "markdown",
   "metadata": {},
   "source": [
    "string.isalnum() #检验字符串是否包含0-9A-Za-z  \n",
    "string.isalpha() #检验字符串是否包含A-Za-z  \n",
    "string.isdigit() #检验字符串是否包含数字  \n",
    "string.islower() #检验字符串是否均为小写字母  \n",
    "string.isspace() #检验字符串是否均为空白字符  \n",
    "string.istitle() #检验字符串中的单词是否为首字母大写  \n",
    "string.isupper() #检验字符串是否均为大写字母  "
   ]
  },
  {
   "cell_type": "markdown",
   "metadata": {},
   "source": [
    "## 转换"
   ]
  },
  {
   "cell_type": "markdown",
   "metadata": {},
   "source": [
    "string.lower()    #将字符串全部转换为小写  \n",
    "string.upper()    #将字符串全部转换为大写  \n",
    "string.title()    #将字符串中的单词首字母大写  \n",
    "string.swapcase() #将字符串中大写字母转换为小写，小写字母转换为大写"
   ]
  },
  {
   "cell_type": "code",
   "execution_count": null,
   "metadata": {},
   "outputs": [],
   "source": []
  }
 ],
 "metadata": {
  "kernelspec": {
   "display_name": "Python 3",
   "language": "python",
   "name": "python3"
  },
  "language_info": {
   "codemirror_mode": {
    "name": "ipython",
    "version": 3
   },
   "file_extension": ".py",
   "mimetype": "text/x-python",
   "name": "python",
   "nbconvert_exporter": "python",
   "pygments_lexer": "ipython3",
   "version": "3.7.7"
  },
  "toc-showtags": false
 },
 "nbformat": 4,
 "nbformat_minor": 4
}
