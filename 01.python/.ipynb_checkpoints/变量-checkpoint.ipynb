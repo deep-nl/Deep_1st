{
 "cells": [
  {
   "cell_type": "code",
   "execution_count": 1,
   "metadata": {},
   "outputs": [
    {
     "name": "stdout",
     "output_type": "stream",
     "text": [
      "hello hello\n"
     ]
    }
   ],
   "source": [
    "a=\"hello\"   #a为全局变量\n",
    "def test():\n",
    "    global a #调用全局变量a，此处可不加该行，函数只是引用全局变量，无需声明\n",
    "    b=a     #test 方法里之后再调用a时，都是全局变量a\n",
    "    print(b,a)\n",
    "test()"
   ]
  },
  {
   "cell_type": "code",
   "execution_count": 3,
   "metadata": {},
   "outputs": [
    {
     "name": "stdout",
     "output_type": "stream",
     "text": [
      "hello man hello man\n"
     ]
    }
   ],
   "source": [
    "a=\"hello\"   #a为全局变量\n",
    "def test_1():\n",
    "    global a\n",
    "    a='hello man' #先声明用的是全局的a，然后对a进行修改，等于修改全局变量a的值\n",
    "    b=a    \n",
    "    print(b,a)\n",
    "test_1()"
   ]
  },
  {
   "cell_type": "code",
   "execution_count": null,
   "metadata": {},
   "outputs": [],
   "source": []
  }
 ],
 "metadata": {
  "kernelspec": {
   "display_name": "Python 3",
   "language": "python",
   "name": "python3"
  },
  "language_info": {
   "codemirror_mode": {
    "name": "ipython",
    "version": 3
   },
   "file_extension": ".py",
   "mimetype": "text/x-python",
   "name": "python",
   "nbconvert_exporter": "python",
   "pygments_lexer": "ipython3",
   "version": "3.7.3"
  }
 },
 "nbformat": 4,
 "nbformat_minor": 2
}
