{
 "cells": [
  {
   "cell_type": "markdown",
   "metadata": {},
   "source": [
    "## 想知道有哪些关键字,并且以每行5个的形式输出"
   ]
  },
  {
   "cell_type": "code",
   "execution_count": 2,
   "metadata": {
    "execution": {
     "iopub.execute_input": "2020-06-08T06:15:02.355971Z",
     "iopub.status.busy": "2020-06-08T06:15:02.354975Z",
     "iopub.status.idle": "2020-06-08T06:15:02.359961Z",
     "shell.execute_reply": "2020-06-08T06:15:02.359271Z",
     "shell.execute_reply.started": "2020-06-08T06:15:02.355971Z"
    }
   },
   "outputs": [
    {
     "data": {
      "text/plain": [
       "list"
      ]
     },
     "execution_count": 2,
     "metadata": {},
     "output_type": "execute_result"
    }
   ],
   "source": [
    "import keyword\n",
    "type(keyword.kwlist)\n"
   ]
  },
  {
   "cell_type": "code",
   "execution_count": 3,
   "metadata": {
    "execution": {
     "iopub.execute_input": "2020-06-08T06:17:05.069227Z",
     "iopub.status.busy": "2020-06-08T06:17:05.069227Z",
     "iopub.status.idle": "2020-06-08T06:17:05.073215Z",
     "shell.execute_reply": "2020-06-08T06:17:05.072218Z",
     "shell.execute_reply.started": "2020-06-08T06:17:05.069227Z"
    }
   },
   "outputs": [],
   "source": [
    "keywords=keyword.kwlist  #列表"
   ]
  },
  {
   "cell_type": "code",
   "execution_count": 12,
   "metadata": {
    "execution": {
     "iopub.execute_input": "2020-06-08T06:40:17.829085Z",
     "iopub.status.busy": "2020-06-08T06:40:17.828086Z",
     "iopub.status.idle": "2020-06-08T06:40:17.838062Z",
     "shell.execute_reply": "2020-06-08T06:40:17.837065Z",
     "shell.execute_reply.started": "2020-06-08T06:40:17.829085Z"
    }
   },
   "outputs": [
    {
     "data": {
      "text/plain": [
       "35"
      ]
     },
     "execution_count": 12,
     "metadata": {},
     "output_type": "execute_result"
    }
   ],
   "source": [
    "len(keywords)"
   ]
  },
  {
   "cell_type": "code",
   "execution_count": 15,
   "metadata": {
    "execution": {
     "iopub.execute_input": "2020-06-08T06:44:27.418548Z",
     "iopub.status.busy": "2020-06-08T06:44:27.417551Z",
     "iopub.status.idle": "2020-06-08T06:44:27.424558Z",
     "shell.execute_reply": "2020-06-08T06:44:27.424558Z",
     "shell.execute_reply.started": "2020-06-08T06:44:27.418548Z"
    }
   },
   "outputs": [
    {
     "data": {
      "text/plain": [
       "str"
      ]
     },
     "execution_count": 15,
     "metadata": {},
     "output_type": "execute_result"
    }
   ],
   "source": [
    "type(keywords[0])"
   ]
  },
  {
   "cell_type": "code",
   "execution_count": 16,
   "metadata": {
    "execution": {
     "iopub.execute_input": "2020-06-08T06:47:32.093754Z",
     "iopub.status.busy": "2020-06-08T06:47:32.093754Z",
     "iopub.status.idle": "2020-06-08T06:47:32.098739Z",
     "shell.execute_reply": "2020-06-08T06:47:32.098739Z",
     "shell.execute_reply.started": "2020-06-08T06:47:32.093754Z"
    }
   },
   "outputs": [
    {
     "name": "stdout",
     "output_type": "stream",
     "text": [
      "False\n"
     ]
    }
   ],
   "source": [
    "print(keywords[0])"
   ]
  },
  {
   "cell_type": "code",
   "execution_count": 8,
   "metadata": {
    "collapsed": true,
    "execution": {
     "iopub.execute_input": "2020-06-08T06:22:47.262797Z",
     "iopub.status.busy": "2020-06-08T06:22:47.262797Z",
     "iopub.status.idle": "2020-06-08T06:22:47.270774Z",
     "shell.execute_reply": "2020-06-08T06:22:47.269776Z",
     "shell.execute_reply.started": "2020-06-08T06:22:47.262797Z"
    },
    "jupyter": {
     "outputs_hidden": true
    }
   },
   "outputs": [
    {
     "name": "stdout",
     "output_type": "stream",
     "text": [
      "False\n",
      "None\n",
      "True\n",
      "and\n",
      "as\n",
      "assert\n",
      "async\n",
      "await\n",
      "break\n",
      "class\n",
      "continue\n",
      "def\n",
      "del\n",
      "elif\n",
      "else\n",
      "except\n",
      "finally\n",
      "for\n",
      "from\n",
      "global\n",
      "if\n",
      "import\n",
      "in\n",
      "is\n",
      "lambda\n",
      "nonlocal\n",
      "not\n",
      "or\n",
      "pass\n",
      "raise\n",
      "return\n",
      "try\n",
      "while\n",
      "with\n",
      "yield\n"
     ]
    }
   ],
   "source": [
    "## 失败案例\n",
    "count=0\n",
    "for i in keywords:\n",
    "    print(i,end='')   #end 表示输出i 之后一个空间的表示,如当i= 5 ,end 定义为end = \",\" 时，输出为\" 5,\"(实际输出没有\"\")\n",
    "    count+1\n",
    "    if count%10==0:\n",
    "        print(end=\"\\n\")"
   ]
  },
  {
   "cell_type": "code",
   "execution_count": 33,
   "metadata": {
    "execution": {
     "iopub.execute_input": "2020-06-08T07:19:55.823782Z",
     "iopub.status.busy": "2020-06-08T07:19:55.823782Z",
     "iopub.status.idle": "2020-06-08T07:19:55.833266Z",
     "shell.execute_reply": "2020-06-08T07:19:55.833266Z",
     "shell.execute_reply.started": "2020-06-08T07:19:55.823782Z"
    }
   },
   "outputs": [
    {
     "name": "stdout",
     "output_type": "stream",
     "text": [
      "False    \tNone    \tTrue    \tand    \tas    \t\n",
      "assert    \tasync    \tawait    \tbreak    \tclass    \t\n",
      "continue    \tdef    \tdel    \telif    \telse    \t\n",
      "except    \tfinally    \tfor    \tfrom    \tglobal    \t\n",
      "if    \timport    \tin    \tis    \tlambda    \t\n",
      "nonlocal    \tnot    \tor    \tpass    \traise    \t\n",
      "return    \ttry    \twhile    \twith    \tyield    \t\n"
     ]
    }
   ],
   "source": [
    "## 失败案例\n",
    "count=0\n",
    "for i in range(len(keywords)):\n",
    "    print(keywords[i],end=\"    \\t\")   #end 表示输出i 之后一个空间的表示,如当i= 5 ,end 定义为end = \",\" 时，输出为\" 5,\"(实际输出没有\"\")\n",
    "    count+=1\n",
    "    if count%5==0:\n",
    "                print(end=\"\\n\")"
   ]
  },
  {
   "cell_type": "code",
   "execution_count": 28,
   "metadata": {
    "collapsed": true,
    "execution": {
     "iopub.execute_input": "2020-06-08T07:09:19.461416Z",
     "iopub.status.busy": "2020-06-08T07:09:19.461416Z",
     "iopub.status.idle": "2020-06-08T07:09:19.492039Z",
     "shell.execute_reply": "2020-06-08T07:09:19.491041Z",
     "shell.execute_reply.started": "2020-06-08T07:09:19.461416Z"
    },
    "jupyter": {
     "outputs_hidden": true
    }
   },
   "outputs": [
    {
     "name": "stdout",
     "output_type": "stream",
     "text": [
      "0 \n",
      "1 \n",
      "2 \n",
      "3 \n",
      "4 \n",
      "5 \n",
      "6 \n",
      "7 \n",
      "8 \n",
      "9 \n",
      "10 \n",
      "11 \n",
      "12 \n",
      "13 \n",
      "14 \n",
      "15 \n",
      "16 \n",
      "17 \n",
      "18 \n",
      "19 \n",
      "20 \n",
      "21 \n",
      "22 \n",
      "23 \n",
      "24 \n",
      "25 \n",
      "26 \n",
      "27 \n",
      "28 \n",
      "29 \n",
      "30 \n",
      "31 \n",
      "32 \n",
      "33 \n",
      "34 \n",
      "35 \n",
      "36 \n",
      "37 \n",
      "38 \n",
      "39 \n",
      "40 \n",
      "41 \n",
      "42 \n",
      "43 \n",
      "44 \n",
      "45 \n",
      "46 \n",
      "47 \n",
      "48 \n",
      "49 \n",
      "50 \n",
      "51 \n",
      "52 \n",
      "53 \n",
      "54 \n",
      "55 \n",
      "56 \n",
      "57 \n",
      "58 \n",
      "59 \n",
      "60 \n",
      "61 \n",
      "62 \n",
      "63 \n",
      "64 \n",
      "65 \n",
      "66 \n",
      "67 \n",
      "68 \n",
      "69 \n",
      "70 \n",
      "71 \n",
      "72 \n",
      "73 \n",
      "74 \n",
      "75 \n",
      "76 \n",
      "77 \n",
      "78 \n",
      "79 \n",
      "80 \n",
      "81 \n",
      "82 \n",
      "83 \n",
      "84 \n",
      "85 \n",
      "86 \n",
      "87 \n",
      "88 \n",
      "89 \n",
      "90 \n",
      "91 \n",
      "92 \n",
      "93 \n",
      "94 \n",
      "95 \n",
      "96 \n",
      "97 \n",
      "98 \n",
      "99 \n"
     ]
    }
   ],
   "source": [
    "## 失败案例\n",
    "count=0\n",
    "for i in range(0,100):\n",
    "        print(i,end=\" \")   #end 表示输出i 之后一个空间的表示,如当i= 5 ,end 定义为end = \",\" 时，输出为\" 5,\"(实际输出没有\"\")\n",
    "        count+=1\n",
    "        if(count%10==0):\n",
    "             print(end=\"\\n\")"
   ]
  },
  {
   "cell_type": "code",
   "execution_count": null,
   "metadata": {},
   "outputs": [],
   "source": []
  }
 ],
 "metadata": {
  "kernelspec": {
   "display_name": "Python 3",
   "language": "python",
   "name": "python3"
  },
  "language_info": {
   "codemirror_mode": {
    "name": "ipython",
    "version": 3
   },
   "file_extension": ".py",
   "mimetype": "text/x-python",
   "name": "python",
   "nbconvert_exporter": "python",
   "pygments_lexer": "ipython3",
   "version": "3.7.7"
  }
 },
 "nbformat": 4,
 "nbformat_minor": 4
}
