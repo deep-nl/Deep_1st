{
 "cells": [
  {
   "cell_type": "markdown",
   "metadata": {},
   "source": [
    "# 迭代与迭代器"
   ]
  },
  {
   "cell_type": "markdown",
   "metadata": {},
   "source": [
    "## 1.迭代"
   ]
  },
  {
   "cell_type": "markdown",
   "metadata": {},
   "source": [
    "任何可迭代对象都可以作用于for循环，包括我们自定义的数据类型，只要符合迭代条件，就可以使用for循环"
   ]
  },
  {
   "cell_type": "code",
   "execution_count": 1,
   "metadata": {
    "execution": {
     "iopub.execute_input": "2020-06-09T06:27:03.052112Z",
     "iopub.status.busy": "2020-06-09T06:27:03.052112Z",
     "iopub.status.idle": "2020-06-09T06:27:03.060092Z",
     "shell.execute_reply": "2020-06-09T06:27:03.060092Z",
     "shell.execute_reply.started": "2020-06-09T06:27:03.052112Z"
    }
   },
   "outputs": [
    {
     "name": "stdout",
     "output_type": "stream",
     "text": [
      "a 1\n",
      "b 2\n",
      "c 3\n"
     ]
    }
   ],
   "source": [
    "d = {'a': 1, 'b': 2, 'c': 3}          #对dict迭代\n",
    "for k,v in d.items():                 #如果要同时迭代key和value，可以用for k, v in d.items()\n",
    "    print(k,v)"
   ]
  },
  {
   "cell_type": "code",
   "execution_count": 3,
   "metadata": {
    "execution": {
     "iopub.execute_input": "2020-06-09T06:28:46.295970Z",
     "iopub.status.busy": "2020-06-09T06:28:46.295970Z",
     "iopub.status.idle": "2020-06-09T06:28:46.299640Z",
     "shell.execute_reply": "2020-06-09T06:28:46.299001Z",
     "shell.execute_reply.started": "2020-06-09T06:28:46.295970Z"
    }
   },
   "outputs": [
    {
     "name": "stdout",
     "output_type": "stream",
     "text": [
      "a\n",
      "b\n",
      "c\n"
     ]
    }
   ],
   "source": [
    "for k in d.keys():                 #只迭代key\n",
    "    print(k)"
   ]
  },
  {
   "cell_type": "code",
   "execution_count": 4,
   "metadata": {
    "execution": {
     "iopub.execute_input": "2020-06-09T06:29:26.024408Z",
     "iopub.status.busy": "2020-06-09T06:29:26.024408Z",
     "iopub.status.idle": "2020-06-09T06:29:26.029384Z",
     "shell.execute_reply": "2020-06-09T06:29:26.029167Z",
     "shell.execute_reply.started": "2020-06-09T06:29:26.024408Z"
    }
   },
   "outputs": [
    {
     "name": "stdout",
     "output_type": "stream",
     "text": [
      "1\n",
      "2\n",
      "3\n"
     ]
    }
   ],
   "source": [
    "for v in d.values():                 #只迭代value\n",
    "    print(v)"
   ]
  },
  {
   "cell_type": "code",
   "execution_count": 5,
   "metadata": {
    "execution": {
     "iopub.execute_input": "2020-06-09T06:32:04.867846Z",
     "iopub.status.busy": "2020-06-09T06:32:04.867846Z",
     "iopub.status.idle": "2020-06-09T06:32:04.874337Z",
     "shell.execute_reply": "2020-06-09T06:32:04.873832Z",
     "shell.execute_reply.started": "2020-06-09T06:32:04.867846Z"
    }
   },
   "outputs": [
    {
     "name": "stdout",
     "output_type": "stream",
     "text": [
      "True\n"
     ]
    },
    {
     "name": "stderr",
     "output_type": "stream",
     "text": [
      "D:\\Anaconda\\lib\\site-packages\\ipykernel_launcher.py:2: DeprecationWarning: Using or importing the ABCs from 'collections' instead of from 'collections.abc' is deprecated since Python 3.3,and in 3.9 it will stop working\n",
      "  \n"
     ]
    }
   ],
   "source": [
    "#如何判断一个对象是可迭代对象呢？方法是通过collections模块的Iterable类型判断\n",
    "from collections import Iterable #导入collections模块的Iterable类型\n",
    "n=isinstance(d,Iterable)\n",
    "print(n) #结果为True，可迭代"
   ]
  },
  {
   "cell_type": "markdown",
   "metadata": {},
   "source": [
    "Python内置的enumerate函数可以把一个list变成索引-元素对，这样就可以在for循环中同时迭代索引和元素本身"
   ]
  },
  {
   "cell_type": "code",
   "execution_count": 7,
   "metadata": {
    "execution": {
     "iopub.execute_input": "2020-06-09T06:34:31.591996Z",
     "iopub.status.busy": "2020-06-09T06:34:31.590998Z",
     "iopub.status.idle": "2020-06-09T06:34:31.597978Z",
     "shell.execute_reply": "2020-06-09T06:34:31.597467Z",
     "shell.execute_reply.started": "2020-06-09T06:34:31.591996Z"
    }
   },
   "outputs": [
    {
     "name": "stdout",
     "output_type": "stream",
     "text": [
      "0 a\n",
      "1 b\n",
      "2 c\n",
      "3 d\n",
      "----------\n",
      "1 2\n",
      "3 5\n",
      "5 6\n"
     ]
    }
   ],
   "source": [
    "names=['a','b','c','d']\n",
    "for i,value in enumerate(names): #for循环同时引用两个变量\n",
    "    print(i,value)\n",
    "print('----------')\n",
    "for x,y in [(1,2),(3,5),(5,6)]: ##for循环同时引用两个变量\n",
    "    print(x,y)"
   ]
  },
  {
   "cell_type": "markdown",
   "metadata": {},
   "source": [
    "## 2.迭代"
   ]
  },
  {
   "cell_type": "markdown",
   "metadata": {},
   "source": [
    "可以直接作用于for循环的数据类型有以下几种：  \n",
    "\n",
    ">一类是集合数据类型，如list、tuple、dict、set、str等；  \n",
    ">一类是generator，包括生成器和带yield的generator function。  \n",
    "\n",
    "这些可以直接作用于for循环的对象统称为可迭代对象：Iterable  "
   ]
  },
  {
   "cell_type": "code",
   "execution_count": 9,
   "metadata": {
    "execution": {
     "iopub.execute_input": "2020-06-09T06:37:57.234774Z",
     "iopub.status.busy": "2020-06-09T06:37:57.234774Z",
     "iopub.status.idle": "2020-06-09T06:37:57.239759Z",
     "shell.execute_reply": "2020-06-09T06:37:57.239759Z",
     "shell.execute_reply.started": "2020-06-09T06:37:57.234774Z"
    }
   },
   "outputs": [
    {
     "name": "stdout",
     "output_type": "stream",
     "text": [
      "True\n"
     ]
    }
   ],
   "source": [
    "#可以使用isinstance()判断一个对象是否是Iterable对象\n",
    "from collections import Iterable\n",
    "m=isinstance([],Iterable) #True\n",
    "print(m)"
   ]
  },
  {
   "cell_type": "code",
   "execution_count": null,
   "metadata": {},
   "outputs": [],
   "source": [
    "#而生成器不但可以作用于for循环，还可以被next()函数不断调用并返回下一个值，\n",
    "# 直到最后抛出StopIteration错误表示无法继续返回下一个值了。\n",
    "#可以被next()函数调用并不断返回下一个值的对象称为迭代器：Iterator\n",
    "#生成器都是Iterator对象，但list、dict、str虽然是Iterable，却不是Iterator。\n",
    "#把list、dict、str等Iterable变成Iterator可以使用iter()函数\n",
    "from collections import Iterator\n",
    "m=isinstance(iter('abc'),Iterator) #True\n",
    "凡是可作用于for循环的对象都是Iterable类型；"
   ]
  },
  {
   "cell_type": "code",
   "execution_count": 10,
   "metadata": {
    "execution": {
     "iopub.execute_input": "2020-06-09T06:42:09.111996Z",
     "iopub.status.busy": "2020-06-09T06:42:09.111996Z",
     "iopub.status.idle": "2020-06-09T06:42:09.121044Z",
     "shell.execute_reply": "2020-06-09T06:42:09.119373Z",
     "shell.execute_reply.started": "2020-06-09T06:42:09.111996Z"
    }
   },
   "outputs": [],
   "source": [
    "#凡是可作用于next()函数的对象都是Iterator类型，它们表示一个惰性计算的序列；\n",
    "#集合数据类型如list、dict、str等是Iterable但不是Iterator，不过可以通过iter()函数获得一个Iterator对象。\n",
    "#Python的for循环本质上就是通过不断调用next()函数实现的"
   ]
  },
  {
   "cell_type": "code",
   "execution_count": null,
   "metadata": {},
   "outputs": [],
   "source": []
  }
 ],
 "metadata": {
  "kernelspec": {
   "display_name": "Python 3",
   "language": "python",
   "name": "python3"
  },
  "language_info": {
   "codemirror_mode": {
    "name": "ipython",
    "version": 3
   },
   "file_extension": ".py",
   "mimetype": "text/x-python",
   "name": "python",
   "nbconvert_exporter": "python",
   "pygments_lexer": "ipython3",
   "version": "3.7.7"
  }
 },
 "nbformat": 4,
 "nbformat_minor": 4
}
