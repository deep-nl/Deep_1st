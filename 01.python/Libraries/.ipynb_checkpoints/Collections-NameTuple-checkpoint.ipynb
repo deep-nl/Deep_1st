{
 "cells": [
  {
   "cell_type": "markdown",
   "metadata": {},
   "source": [
    "## OrderedDict"
   ]
  },
  {
   "cell_type": "code",
   "execution_count": 1,
   "metadata": {
    "ExecuteTime": {
     "end_time": "2020-07-25T19:45:17.645110Z",
     "start_time": "2020-07-25T19:45:17.643063Z"
    },
    "execution": {
     "iopub.execute_input": "2020-07-03T07:32:35.391126Z",
     "iopub.status.busy": "2020-07-03T07:32:35.390126Z",
     "iopub.status.idle": "2020-07-03T07:32:35.396109Z",
     "shell.execute_reply": "2020-07-03T07:32:35.395112Z",
     "shell.execute_reply.started": "2020-07-03T07:32:35.391126Z"
    }
   },
   "outputs": [],
   "source": [
    "from collections import *"
   ]
  },
  {
   "cell_type": "code",
   "execution_count": 14,
   "metadata": {
    "ExecuteTime": {
     "end_time": "2020-07-25T20:03:57.021625Z",
     "start_time": "2020-07-25T20:03:57.018735Z"
    }
   },
   "outputs": [
    {
     "name": "stdout",
     "output_type": "stream",
     "text": [
      "a A\n",
      "b B\n",
      "c C\n"
     ]
    }
   ],
   "source": [
    "#Regular dictionary\n",
    "d={}\n",
    "d['a']='A'\n",
    "d['b']='B'\n",
    "d['c']='C'\n",
    "for k,v in d.items():\n",
    "    print(k,v) "
   ]
  },
  {
   "cell_type": "code",
   "execution_count": 16,
   "metadata": {
    "ExecuteTime": {
     "end_time": "2020-07-25T20:05:52.163881Z",
     "start_time": "2020-07-25T20:05:52.160003Z"
    }
   },
   "outputs": [
    {
     "name": "stdout",
     "output_type": "stream",
     "text": [
      "a A\n",
      "b B\n",
      "c C\n",
      "1 1\n",
      "2 2\n"
     ]
    }
   ],
   "source": [
    "#Order dictionary\n",
    "d1 = OrderedDict()\n",
    "d1['a'] = 'A'\n",
    "d1['b'] = 'B'\n",
    "d1['c'] = 'C'\n",
    "d1['1'] = '1'\n",
    "d1['2'] = '2'\n",
    "for k,v in d1.items():\n",
    "    print(k,v)"
   ]
  },
  {
   "cell_type": "markdown",
   "metadata": {},
   "source": [
    "OrderedDict类似于正常的词典，只是它记住了元素插入的顺序，当在有序的词典上迭代时，返回的元素就是它们第一次添加的顺序\n",
    "\n",
    "class collections.OrderedDict，返回已给dict的子类，支持常规的dict的方法，OrderedDict是一个记住元素首次插入顺序的词典，如果一个元素重写已经存在的元素，那么原始的插入位置保持不变，如果删除一个元素再重新插入，那么它就在末尾。\n",
    "\n",
    "OrderedDict.popitem(last=True)，popitem方法返回和删除一个(key,value)对，如果last=True，就以LIFO方式执行，否则以FIFO方式执行。\n",
    "\n",
    "OrderedDict也支持反向迭代，例如reversed()。\n",
    "\n",
    "OrderedDict对象之间的相等测试，例如，list(od1.items()) == list(od2.items())，是对顺序敏感的；OrderedDict和其他的映射对象（例如常规的词典）之间的相等测试是顺序不敏感的，这就允许OrderedDict对象可以在使用常规词典的地方替换掉常规词典。\n",
    "\n",
    "OrderedDict构造器和update()方法可以接受关键字变量，但是它们丢失了顺序，因为Python的函数调用机制是将一个无序的词典传入关键字变量。\n",
    "\n",
    "一个有序的词典记住它的成员插入的顺序，可以使用排序函数，将其变为排序的词典，"
   ]
  },
  {
   "cell_type": "code",
   "execution_count": 20,
   "metadata": {
    "ExecuteTime": {
     "end_time": "2020-07-25T20:13:32.160589Z",
     "start_time": "2020-07-25T20:13:32.158473Z"
    },
    "execution": {
     "iopub.execute_input": "2020-07-03T07:32:36.329027Z",
     "iopub.status.busy": "2020-07-03T07:32:36.328026Z",
     "iopub.status.idle": "2020-07-03T07:32:36.333013Z",
     "shell.execute_reply": "2020-07-03T07:32:36.332016Z",
     "shell.execute_reply.started": "2020-07-03T07:32:36.329027Z"
    }
   },
   "outputs": [],
   "source": [
    "d = {\"banana\":3,\"apple\":2,\"pear\":1,\"orange\":4}"
   ]
  },
  {
   "cell_type": "code",
   "execution_count": 21,
   "metadata": {
    "ExecuteTime": {
     "end_time": "2020-07-25T20:13:32.881149Z",
     "start_time": "2020-07-25T20:13:32.877726Z"
    },
    "execution": {
     "iopub.execute_input": "2020-07-03T07:32:36.810511Z",
     "iopub.status.busy": "2020-07-03T07:32:36.809524Z",
     "iopub.status.idle": "2020-07-03T07:32:36.824943Z",
     "shell.execute_reply": "2020-07-03T07:32:36.824436Z",
     "shell.execute_reply.started": "2020-07-03T07:32:36.810511Z"
    }
   },
   "outputs": [
    {
     "data": {
      "text/plain": [
       "OrderedDict([('apple', 2),\n",
       "             ('banana', 3),\n",
       "             ('orange', 4),\n",
       "             ('pear', 1),\n",
       "             ('key', <function __main__.<lambda>(t)>)])"
      ]
     },
     "execution_count": 21,
     "metadata": {},
     "output_type": "execute_result"
    }
   ],
   "source": [
    "OrderedDict(sorted(d.items()),key = lambda t:t[0])   # dict sorted by key"
   ]
  },
  {
   "cell_type": "code",
   "execution_count": 22,
   "metadata": {
    "ExecuteTime": {
     "end_time": "2020-07-25T20:13:34.062241Z",
     "start_time": "2020-07-25T20:13:34.058689Z"
    },
    "execution": {
     "iopub.execute_input": "2020-07-03T07:32:58.054767Z",
     "iopub.status.busy": "2020-07-03T07:32:58.054767Z",
     "iopub.status.idle": "2020-07-03T07:32:58.061745Z",
     "shell.execute_reply": "2020-07-03T07:32:58.061745Z",
     "shell.execute_reply.started": "2020-07-03T07:32:58.054767Z"
    }
   },
   "outputs": [
    {
     "data": {
      "text/plain": [
       "OrderedDict([('pear', 1), ('apple', 2), ('banana', 3), ('orange', 4)])"
      ]
     },
     "execution_count": 22,
     "metadata": {},
     "output_type": "execute_result"
    }
   ],
   "source": [
    " OrderedDict(sorted(d.items(),key = lambda t:t[1])) # dict sorted by value"
   ]
  },
  {
   "cell_type": "code",
   "execution_count": 23,
   "metadata": {
    "ExecuteTime": {
     "end_time": "2020-07-25T20:13:34.750785Z",
     "start_time": "2020-07-25T20:13:34.748522Z"
    },
    "execution": {
     "iopub.execute_input": "2020-07-03T07:39:00.054567Z",
     "iopub.status.busy": "2020-07-03T07:39:00.054567Z",
     "iopub.status.idle": "2020-07-03T07:39:00.059548Z",
     "shell.execute_reply": "2020-07-03T07:39:00.058549Z",
     "shell.execute_reply.started": "2020-07-03T07:39:00.054567Z"
    }
   },
   "outputs": [],
   "source": [
    "a =  OrderedDict(sorted(d.items(),key = lambda t:len(t[0])))  # dict sorted by length of key string"
   ]
  },
  {
   "cell_type": "code",
   "execution_count": 24,
   "metadata": {
    "ExecuteTime": {
     "end_time": "2020-07-25T20:13:35.691257Z",
     "start_time": "2020-07-25T20:13:35.688193Z"
    },
    "execution": {
     "iopub.execute_input": "2020-07-03T07:39:05.358820Z",
     "iopub.status.busy": "2020-07-03T07:39:05.357796Z",
     "iopub.status.idle": "2020-07-03T07:39:05.363779Z",
     "shell.execute_reply": "2020-07-03T07:39:05.363779Z",
     "shell.execute_reply.started": "2020-07-03T07:39:05.358820Z"
    }
   },
   "outputs": [
    {
     "data": {
      "text/plain": [
       "OrderedDict([('pear', 1), ('apple', 2), ('banana', 3), ('orange', 4)])"
      ]
     },
     "execution_count": 24,
     "metadata": {},
     "output_type": "execute_result"
    }
   ],
   "source": [
    "a"
   ]
  },
  {
   "cell_type": "code",
   "execution_count": 25,
   "metadata": {
    "ExecuteTime": {
     "end_time": "2020-07-25T20:13:37.100478Z",
     "start_time": "2020-07-25T20:13:37.098452Z"
    },
    "execution": {
     "iopub.execute_input": "2020-07-03T07:39:31.524286Z",
     "iopub.status.busy": "2020-07-03T07:39:31.522293Z",
     "iopub.status.idle": "2020-07-03T07:39:31.528276Z",
     "shell.execute_reply": "2020-07-03T07:39:31.527686Z",
     "shell.execute_reply.started": "2020-07-03T07:39:31.524286Z"
    }
   },
   "outputs": [],
   "source": [
    "del a['apple']"
   ]
  },
  {
   "cell_type": "code",
   "execution_count": 26,
   "metadata": {
    "ExecuteTime": {
     "end_time": "2020-07-25T20:13:37.951538Z",
     "start_time": "2020-07-25T20:13:37.948377Z"
    },
    "execution": {
     "iopub.execute_input": "2020-07-03T07:39:34.306553Z",
     "iopub.status.busy": "2020-07-03T07:39:34.305556Z",
     "iopub.status.idle": "2020-07-03T07:39:34.313536Z",
     "shell.execute_reply": "2020-07-03T07:39:34.312571Z",
     "shell.execute_reply.started": "2020-07-03T07:39:34.306553Z"
    }
   },
   "outputs": [
    {
     "data": {
      "text/plain": [
       "OrderedDict([('pear', 1), ('banana', 3), ('orange', 4)])"
      ]
     },
     "execution_count": 26,
     "metadata": {},
     "output_type": "execute_result"
    }
   ],
   "source": [
    "a"
   ]
  },
  {
   "cell_type": "code",
   "execution_count": 29,
   "metadata": {
    "ExecuteTime": {
     "end_time": "2020-07-25T20:14:05.078094Z",
     "start_time": "2020-07-25T20:14:05.075528Z"
    }
   },
   "outputs": [
    {
     "data": {
      "text/plain": [
       "odict_items([('pear', 1), ('banana', 3), ('orange', 4)])"
      ]
     },
     "execution_count": 29,
     "metadata": {},
     "output_type": "execute_result"
    }
   ],
   "source": [
    "a.items()"
   ]
  },
  {
   "cell_type": "code",
   "execution_count": 30,
   "metadata": {
    "ExecuteTime": {
     "end_time": "2020-07-25T20:28:12.425601Z",
     "start_time": "2020-07-25T20:28:12.418670Z"
    }
   },
   "outputs": [
    {
     "name": "stdout",
     "output_type": "stream",
     "text": [
      "Help on class dict in module builtins:\n",
      "\n",
      "class dict(object)\n",
      " |  dict() -> new empty dictionary\n",
      " |  dict(mapping) -> new dictionary initialized from a mapping object's\n",
      " |      (key, value) pairs\n",
      " |  dict(iterable) -> new dictionary initialized as if via:\n",
      " |      d = {}\n",
      " |      for k, v in iterable:\n",
      " |          d[k] = v\n",
      " |  dict(**kwargs) -> new dictionary initialized with the name=value pairs\n",
      " |      in the keyword argument list.  For example:  dict(one=1, two=2)\n",
      " |  \n",
      " |  Methods defined here:\n",
      " |  \n",
      " |  __contains__(self, key, /)\n",
      " |      True if the dictionary has the specified key, else False.\n",
      " |  \n",
      " |  __delitem__(self, key, /)\n",
      " |      Delete self[key].\n",
      " |  \n",
      " |  __eq__(self, value, /)\n",
      " |      Return self==value.\n",
      " |  \n",
      " |  __ge__(self, value, /)\n",
      " |      Return self>=value.\n",
      " |  \n",
      " |  __getattribute__(self, name, /)\n",
      " |      Return getattr(self, name).\n",
      " |  \n",
      " |  __getitem__(...)\n",
      " |      x.__getitem__(y) <==> x[y]\n",
      " |  \n",
      " |  __gt__(self, value, /)\n",
      " |      Return self>value.\n",
      " |  \n",
      " |  __init__(self, /, *args, **kwargs)\n",
      " |      Initialize self.  See help(type(self)) for accurate signature.\n",
      " |  \n",
      " |  __iter__(self, /)\n",
      " |      Implement iter(self).\n",
      " |  \n",
      " |  __le__(self, value, /)\n",
      " |      Return self<=value.\n",
      " |  \n",
      " |  __len__(self, /)\n",
      " |      Return len(self).\n",
      " |  \n",
      " |  __lt__(self, value, /)\n",
      " |      Return self<value.\n",
      " |  \n",
      " |  __ne__(self, value, /)\n",
      " |      Return self!=value.\n",
      " |  \n",
      " |  __repr__(self, /)\n",
      " |      Return repr(self).\n",
      " |  \n",
      " |  __setitem__(self, key, value, /)\n",
      " |      Set self[key] to value.\n",
      " |  \n",
      " |  __sizeof__(...)\n",
      " |      D.__sizeof__() -> size of D in memory, in bytes\n",
      " |  \n",
      " |  clear(...)\n",
      " |      D.clear() -> None.  Remove all items from D.\n",
      " |  \n",
      " |  copy(...)\n",
      " |      D.copy() -> a shallow copy of D\n",
      " |  \n",
      " |  get(self, key, default=None, /)\n",
      " |      Return the value for key if key is in the dictionary, else default.\n",
      " |  \n",
      " |  items(...)\n",
      " |      D.items() -> a set-like object providing a view on D's items\n",
      " |  \n",
      " |  keys(...)\n",
      " |      D.keys() -> a set-like object providing a view on D's keys\n",
      " |  \n",
      " |  pop(...)\n",
      " |      D.pop(k[,d]) -> v, remove specified key and return the corresponding value.\n",
      " |      If key is not found, d is returned if given, otherwise KeyError is raised\n",
      " |  \n",
      " |  popitem(...)\n",
      " |      D.popitem() -> (k, v), remove and return some (key, value) pair as a\n",
      " |      2-tuple; but raise KeyError if D is empty.\n",
      " |  \n",
      " |  setdefault(self, key, default=None, /)\n",
      " |      Insert key with a value of default if key is not in the dictionary.\n",
      " |      \n",
      " |      Return the value for key if key is in the dictionary, else default.\n",
      " |  \n",
      " |  update(...)\n",
      " |      D.update([E, ]**F) -> None.  Update D from dict/iterable E and F.\n",
      " |      If E is present and has a .keys() method, then does:  for k in E: D[k] = E[k]\n",
      " |      If E is present and lacks a .keys() method, then does:  for k, v in E: D[k] = v\n",
      " |      In either case, this is followed by: for k in F:  D[k] = F[k]\n",
      " |  \n",
      " |  values(...)\n",
      " |      D.values() -> an object providing a view on D's values\n",
      " |  \n",
      " |  ----------------------------------------------------------------------\n",
      " |  Class methods defined here:\n",
      " |  \n",
      " |  fromkeys(iterable, value=None, /) from builtins.type\n",
      " |      Create a new dictionary with keys from iterable and values set to value.\n",
      " |  \n",
      " |  ----------------------------------------------------------------------\n",
      " |  Static methods defined here:\n",
      " |  \n",
      " |  __new__(*args, **kwargs) from builtins.type\n",
      " |      Create and return a new object.  See help(type) for accurate signature.\n",
      " |  \n",
      " |  ----------------------------------------------------------------------\n",
      " |  Data and other attributes defined here:\n",
      " |  \n",
      " |  __hash__ = None\n",
      "\n"
     ]
    }
   ],
   "source": [
    "help(dict)"
   ]
  },
  {
   "cell_type": "code",
   "execution_count": 17,
   "metadata": {
    "ExecuteTime": {
     "end_time": "2020-07-25T20:12:40.710289Z",
     "start_time": "2020-07-25T20:12:40.703448Z"
    },
    "execution": {
     "iopub.execute_input": "2020-07-03T07:44:51.979097Z",
     "iopub.status.busy": "2020-07-03T07:44:51.979097Z",
     "iopub.status.idle": "2020-07-03T07:44:51.995393Z",
     "shell.execute_reply": "2020-07-03T07:44:51.994395Z",
     "shell.execute_reply.started": "2020-07-03T07:44:51.979097Z"
    }
   },
   "outputs": [
    {
     "name": "stdout",
     "output_type": "stream",
     "text": [
      "Help on class OrderedDict in module collections:\n",
      "\n",
      "class OrderedDict(builtins.dict)\n",
      " |  Dictionary that remembers insertion order\n",
      " |  \n",
      " |  Method resolution order:\n",
      " |      OrderedDict\n",
      " |      builtins.dict\n",
      " |      builtins.object\n",
      " |  \n",
      " |  Methods defined here:\n",
      " |  \n",
      " |  __delitem__(self, key, /)\n",
      " |      Delete self[key].\n",
      " |  \n",
      " |  __eq__(self, value, /)\n",
      " |      Return self==value.\n",
      " |  \n",
      " |  __ge__(self, value, /)\n",
      " |      Return self>=value.\n",
      " |  \n",
      " |  __gt__(self, value, /)\n",
      " |      Return self>value.\n",
      " |  \n",
      " |  __init__(self, /, *args, **kwargs)\n",
      " |      Initialize self.  See help(type(self)) for accurate signature.\n",
      " |  \n",
      " |  __iter__(self, /)\n",
      " |      Implement iter(self).\n",
      " |  \n",
      " |  __le__(self, value, /)\n",
      " |      Return self<=value.\n",
      " |  \n",
      " |  __lt__(self, value, /)\n",
      " |      Return self<value.\n",
      " |  \n",
      " |  __ne__(self, value, /)\n",
      " |      Return self!=value.\n",
      " |  \n",
      " |  __reduce__(...)\n",
      " |      Return state information for pickling\n",
      " |  \n",
      " |  __repr__(self, /)\n",
      " |      Return repr(self).\n",
      " |  \n",
      " |  __reversed__(...)\n",
      " |      od.__reversed__() <==> reversed(od)\n",
      " |  \n",
      " |  __setitem__(self, key, value, /)\n",
      " |      Set self[key] to value.\n",
      " |  \n",
      " |  __sizeof__(...)\n",
      " |      D.__sizeof__() -> size of D in memory, in bytes\n",
      " |  \n",
      " |  clear(...)\n",
      " |      od.clear() -> None.  Remove all items from od.\n",
      " |  \n",
      " |  copy(...)\n",
      " |      od.copy() -> a shallow copy of od\n",
      " |  \n",
      " |  items(...)\n",
      " |      D.items() -> a set-like object providing a view on D's items\n",
      " |  \n",
      " |  keys(...)\n",
      " |      D.keys() -> a set-like object providing a view on D's keys\n",
      " |  \n",
      " |  move_to_end(self, /, key, last=True)\n",
      " |      Move an existing element to the end (or beginning if last is false).\n",
      " |      \n",
      " |      Raise KeyError if the element does not exist.\n",
      " |  \n",
      " |  pop(...)\n",
      " |      od.pop(k[,d]) -> v, remove specified key and return the corresponding\n",
      " |      value.  If key is not found, d is returned if given, otherwise KeyError\n",
      " |      is raised.\n",
      " |  \n",
      " |  popitem(self, /, last=True)\n",
      " |      Remove and return a (key, value) pair from the dictionary.\n",
      " |      \n",
      " |      Pairs are returned in LIFO order if last is true or FIFO order if false.\n",
      " |  \n",
      " |  setdefault(self, /, key, default=None)\n",
      " |      Insert key with a value of default if key is not in the dictionary.\n",
      " |      \n",
      " |      Return the value for key if key is in the dictionary, else default.\n",
      " |  \n",
      " |  update(...)\n",
      " |      D.update([E, ]**F) -> None.  Update D from dict/iterable E and F.\n",
      " |      If E is present and has a .keys() method, then does:  for k in E: D[k] = E[k]\n",
      " |      If E is present and lacks a .keys() method, then does:  for k, v in E: D[k] = v\n",
      " |      In either case, this is followed by: for k in F:  D[k] = F[k]\n",
      " |  \n",
      " |  values(...)\n",
      " |      D.values() -> an object providing a view on D's values\n",
      " |  \n",
      " |  ----------------------------------------------------------------------\n",
      " |  Class methods defined here:\n",
      " |  \n",
      " |  fromkeys(iterable, value=None) from builtins.type\n",
      " |      Create a new ordered dictionary with keys from iterable and values set to value.\n",
      " |  \n",
      " |  ----------------------------------------------------------------------\n",
      " |  Data descriptors defined here:\n",
      " |  \n",
      " |  __dict__\n",
      " |  \n",
      " |  ----------------------------------------------------------------------\n",
      " |  Data and other attributes defined here:\n",
      " |  \n",
      " |  __hash__ = None\n",
      " |  \n",
      " |  ----------------------------------------------------------------------\n",
      " |  Methods inherited from builtins.dict:\n",
      " |  \n",
      " |  __contains__(self, key, /)\n",
      " |      True if the dictionary has the specified key, else False.\n",
      " |  \n",
      " |  __getattribute__(self, name, /)\n",
      " |      Return getattr(self, name).\n",
      " |  \n",
      " |  __getitem__(...)\n",
      " |      x.__getitem__(y) <==> x[y]\n",
      " |  \n",
      " |  __len__(self, /)\n",
      " |      Return len(self).\n",
      " |  \n",
      " |  get(self, key, default=None, /)\n",
      " |      Return the value for key if key is in the dictionary, else default.\n",
      " |  \n",
      " |  ----------------------------------------------------------------------\n",
      " |  Static methods inherited from builtins.dict:\n",
      " |  \n",
      " |  __new__(*args, **kwargs) from builtins.type\n",
      " |      Create and return a new object.  See help(type) for accurate signature.\n",
      "\n"
     ]
    }
   ],
   "source": [
    "help(OrderedDict)"
   ]
  },
  {
   "cell_type": "markdown",
   "metadata": {},
   "source": [
    "当元素删除时，排好序的词典保持着排序的顺序；但是当新元素添加时，就会被添加到末尾，就不能保持已排序。\n",
    "\n",
    "创建一个有序的词典，可以记住最后插入的key的顺序，如果一个新的元素要重写已经存在的元素，那么原始的插入位置就会改变成末尾，"
   ]
  },
  {
   "cell_type": "code",
   "execution_count": 6,
   "metadata": {
    "ExecuteTime": {
     "end_time": "2020-07-25T19:59:49.530147Z",
     "start_time": "2020-07-25T19:59:49.527750Z"
    }
   },
   "outputs": [],
   "source": [
    "class LastUpdatedOrderedDict(OrderedDict):\n",
    "    def __setitem__(self,key,value):\n",
    "        if key in self:\n",
    "            del self[key]\n",
    "        OrderedDict.__setitem__(self, key, value)"
   ]
  },
  {
   "cell_type": "code",
   "execution_count": 7,
   "metadata": {
    "ExecuteTime": {
     "end_time": "2020-07-25T19:59:51.418975Z",
     "start_time": "2020-07-25T19:59:51.417284Z"
    }
   },
   "outputs": [],
   "source": [
    "obj = LastUpdatedOrderedDict()"
   ]
  },
  {
   "cell_type": "code",
   "execution_count": 8,
   "metadata": {
    "ExecuteTime": {
     "end_time": "2020-07-25T20:00:09.530821Z",
     "start_time": "2020-07-25T20:00:09.527629Z"
    }
   },
   "outputs": [
    {
     "data": {
      "text/plain": [
       "LastUpdatedOrderedDict([('apple', 2), ('windows', 3)])"
      ]
     },
     "execution_count": 8,
     "metadata": {},
     "output_type": "execute_result"
    }
   ],
   "source": [
    "obj[\"apple\"] = 2\n",
    "obj[\"windows\"] = 3\n",
    "obj"
   ]
  },
  {
   "cell_type": "code",
   "execution_count": 9,
   "metadata": {
    "ExecuteTime": {
     "end_time": "2020-07-25T20:00:22.592560Z",
     "start_time": "2020-07-25T20:00:22.589718Z"
    }
   },
   "outputs": [
    {
     "data": {
      "text/plain": [
       "LastUpdatedOrderedDict([('windows', 3), ('apple', 1)])"
      ]
     },
     "execution_count": 9,
     "metadata": {},
     "output_type": "execute_result"
    }
   ],
   "source": [
    "obj[\"apple\"] = 1\n",
    "obj"
   ]
  },
  {
   "cell_type": "code",
   "execution_count": 10,
   "metadata": {
    "ExecuteTime": {
     "end_time": "2020-07-25T20:02:15.305747Z",
     "start_time": "2020-07-25T20:02:15.303051Z"
    }
   },
   "outputs": [],
   "source": [
    "#一个有序的词典可以和Counter类一起使用，counter对象就可以记住元素首次出现的顺序；\n",
    "class OrderedCounter(Counter,OrderedDict):\n",
    "    def __repr__(self):\n",
    "        return \"%s(%r)\"%(self.__class__.__name__,OrderedDict(self))\n",
    "\n",
    "    def __reduce__(self):\n",
    "        return self.__class__,(OrderedDict(self))"
   ]
  },
  {
   "cell_type": "code",
   "execution_count": 11,
   "metadata": {
    "ExecuteTime": {
     "end_time": "2020-07-25T20:02:31.737587Z",
     "start_time": "2020-07-25T20:02:31.734647Z"
    }
   },
   "outputs": [
    {
     "name": "stdout",
     "output_type": "stream",
     "text": [
      "OrderedCounter(OrderedDict([('b', 1), ('a', 3), ('c', 2)]))\n"
     ]
    }
   ],
   "source": [
    "#和OrderDict一起使用的Counter对象\n",
    "obj = OrderedCounter()\n",
    "wordList = [\"b\",\"a\",\"c\",\"a\",\"c\",\"a\"]\n",
    "for word in wordList:\n",
    "    obj[word] += 1\n",
    "print (obj)"
   ]
  },
  {
   "cell_type": "code",
   "execution_count": 12,
   "metadata": {
    "ExecuteTime": {
     "end_time": "2020-07-25T20:02:33.250146Z",
     "start_time": "2020-07-25T20:02:33.247029Z"
    }
   },
   "outputs": [
    {
     "name": "stdout",
     "output_type": "stream",
     "text": [
      "Counter({'a': 3, 'c': 2, 'b': 1})\n"
     ]
    }
   ],
   "source": [
    "# 普通的Counter对象\n",
    "cnt = Counter()\n",
    "wordList = [\"b\",\"a\",\"c\",\"a\",\"c\",\"a\"]\n",
    "for word in wordList:\n",
    "    cnt[word] += 1\n",
    "print (cnt)"
   ]
  },
  {
   "cell_type": "code",
   "execution_count": 35,
   "metadata": {
    "ExecuteTime": {
     "end_time": "2020-07-25T20:52:54.813766Z",
     "start_time": "2020-07-25T20:52:54.810204Z"
    }
   },
   "outputs": [
    {
     "name": "stdout",
     "output_type": "stream",
     "text": [
      "key:1\n",
      "value:{'a': 'b'}\n",
      "key:2\n",
      "value:{'c': 'd'}\n",
      "{'a': 'b'}\n",
      "None\n"
     ]
    }
   ],
   "source": [
    "d = OrderedDict([(1,{\"a\":\"b\"}),(2,{\"c\":\"d\"})])\n",
    "for i in d:\n",
    "    print (\"key:{0}\".format(i))\n",
    "    print (\"value:{0}\".format(d[i]))\n",
    "print(d.get(1))\n",
    "print(d.get(3))"
   ]
  },
  {
   "cell_type": "code",
   "execution_count": 36,
   "metadata": {
    "ExecuteTime": {
     "end_time": "2020-07-25T20:53:20.488496Z",
     "start_time": "2020-07-25T20:53:20.486412Z"
    }
   },
   "outputs": [],
   "source": [
    "f = OrderedDict()\n",
    "f.update({1:\"h\"})"
   ]
  },
  {
   "cell_type": "code",
   "execution_count": 37,
   "metadata": {
    "ExecuteTime": {
     "end_time": "2020-07-25T20:53:22.827746Z",
     "start_time": "2020-07-25T20:53:22.825152Z"
    }
   },
   "outputs": [
    {
     "data": {
      "text/plain": [
       "OrderedDict([(1, 'h')])"
      ]
     },
     "execution_count": 37,
     "metadata": {},
     "output_type": "execute_result"
    }
   ],
   "source": [
    "f"
   ]
  },
  {
   "cell_type": "code",
   "execution_count": null,
   "metadata": {},
   "outputs": [],
   "source": []
  }
 ],
 "metadata": {
  "kernelspec": {
   "display_name": "Python 3",
   "language": "python",
   "name": "python3"
  },
  "language_info": {
   "codemirror_mode": {
    "name": "ipython",
    "version": 3
   },
   "file_extension": ".py",
   "mimetype": "text/x-python",
   "name": "python",
   "nbconvert_exporter": "python",
   "pygments_lexer": "ipython3",
   "version": "3.7.7"
  },
  "toc": {
   "base_numbering": 1,
   "nav_menu": {},
   "number_sections": true,
   "sideBar": true,
   "skip_h1_title": false,
   "title_cell": "Table of Contents",
   "title_sidebar": "Contents",
   "toc_cell": false,
   "toc_position": {},
   "toc_section_display": true,
   "toc_window_display": false
  }
 },
 "nbformat": 4,
 "nbformat_minor": 4
}
