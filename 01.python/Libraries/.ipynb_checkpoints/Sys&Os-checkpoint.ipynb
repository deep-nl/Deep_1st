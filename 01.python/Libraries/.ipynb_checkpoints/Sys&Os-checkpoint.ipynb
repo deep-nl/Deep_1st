{
 "cells": [
  {
   "cell_type": "code",
   "execution_count": 1,
   "metadata": {
    "execution": {
     "iopub.execute_input": "2020-06-08T07:14:55.135066Z",
     "iopub.status.busy": "2020-06-08T07:14:55.133066Z",
     "iopub.status.idle": "2020-06-08T07:14:55.147003Z",
     "shell.execute_reply": "2020-06-08T07:14:55.146004Z",
     "shell.execute_reply.started": "2020-06-08T07:14:55.135066Z"
    }
   },
   "outputs": [],
   "source": [
    "import os\n",
    "import sys"
   ]
  },
  {
   "cell_type": "code",
   "execution_count": 5,
   "metadata": {
    "execution": {
     "iopub.execute_input": "2020-04-26T05:00:10.410570Z",
     "iopub.status.busy": "2020-04-26T05:00:10.410570Z",
     "iopub.status.idle": "2020-04-26T05:00:10.426401Z",
     "shell.execute_reply": "2020-04-26T05:00:10.425171Z",
     "shell.execute_reply.started": "2020-04-26T05:00:10.410570Z"
    }
   },
   "outputs": [
    {
     "name": "stdout",
     "output_type": "stream",
     "text": [
      "D:\\jupyter\\策略\\RSRS研报及源码\n"
     ]
    }
   ],
   "source": [
    "#os.remove(‘path/filename’) 删除文件\n",
    "#os.rename(oldname, newname) 重命名文件\n",
    "#os.walk() 生成目录树下的所有文件名\n",
    "#os.chdir('dirname') 改变目录\n",
    "#os.mkdir/makedirs('dirname')创建目录/多层目录\n",
    "#os.rmdir/removedirs('dirname') 删除目录/多层目录\n",
    "#os.listdir('dirname') 列出指定目录的文件\n",
    "#print(os.getcwd())  #取得当前工作目录\n",
    "#os.chmod() 改变目录权限\n",
    "#os.path.basename(‘path/filename’) 去掉目录路径，返回文件名\n",
    "#os.path.dirname(‘path/filename’) 去掉文件名，返回目录路径\n",
    "#os.path.join(path1[,path2[,...]]) 将分离的各部分组合成一个路径名\n",
    "#os.path.split('path') 返回( dirname(), basename())元组\n",
    "#os.path.splitext() 返回 (filename, extension) 元组\n",
    "#os.path.getatime\\ctime\\mtime 分别返回最近访问、创建、修改时间\n",
    "#os.path.getsize() 返回文件大小\n",
    "#os.path.exists() 是否存在\n",
    "#os.path.isabs() 是否为绝对路径\n",
    "#os.path.isdir() 是否为目录\n",
    "#os.path.isfile() 是否为文件"
   ]
  },
  {
   "cell_type": "code",
   "execution_count": null,
   "metadata": {},
   "outputs": [],
   "source": [
    "#sys.argv 命令行参数List，第一个元素是程序本身路径\n",
    "#sys.modules.keys() 返回所有已经导入的模块列表\n",
    "#sys.exc_info() 获取当前正在处理的异常类,exc_type、exc_value、exc_traceback当前处理的异常详细信\n",
    "#sys.exit(n) 退出程序，正常退出时exit(0)\n",
    "#sys.hexversion 获取Python解释程序的版本值，16进制格式如：0x020403F0\n",
    "#sys.version 获取Python解释程序的版本信息\n",
    "#sys.maxint 最大的Int值\n",
    "#sys.maxunicode 最大的Unicode值\n",
    "#sys.modules 返回系统导入的模块字段，key是模块名，value是模块\n",
    "#sys.path 返回模块的搜索路径，初始化时使用PYTHONPATH环境变量的值\n",
    "#sys.platform 返回操作系统平台名称\n",
    "#sys.stdout 标准输出\n",
    "#sys.stdin 标准输入\n",
    "#sys.stderr 错误输出\n",
    "#sys.exc_clear() 用来清除当前线程所出现的当前的或最近的错误信息\n",
    "#sys.exec_prefix 返回平台独立的python文件安装的位置\n",
    "#sys.byteorder 本地字节规则的指示器，bi-endian平台的值是'big',little-endian平台的值是'little'\n",
    "#sys.copyright 记录python版权相关的东西\n",
    "#sys.api_version 解释器的C的API版本\n",
    "#sys.version_info 元组则提供一个更简单的方法来使你的程序具备Python版本要求功能"
   ]
  },
  {
   "cell_type": "markdown",
   "metadata": {},
   "source": [
    "### 系统操做"
   ]
  },
  {
   "cell_type": "code",
   "execution_count": 2,
   "metadata": {
    "execution": {
     "iopub.execute_input": "2020-06-08T07:15:05.978263Z",
     "iopub.status.busy": "2020-06-08T07:15:05.977266Z",
     "iopub.status.idle": "2020-06-08T07:15:05.987236Z",
     "shell.execute_reply": "2020-06-08T07:15:05.986238Z",
     "shell.execute_reply.started": "2020-06-08T07:15:05.978263Z"
    }
   },
   "outputs": [
    {
     "name": "stdout",
     "output_type": "stream",
     "text": [
      "\\\n",
      "nt\n",
      "D:\\Anaconda;D:\\Anaconda\\Library\\mingw-w64\\bin;D:\\Anaconda\\Library\\usr\\bin;D:\\Anaconda\\Library\\bin;D:\\Anaconda\\Scripts;D:\\Anaconda\\bin;D:\\Anaconda\\condabin;D:\\Anaconda\\Library\\mingw-w64\\bin;C:\\Users\\鍊\\scoop\\shims;D:\\Anaconda;D:\\Anaconda\\Library\\usr\\bin;D:\\Anaconda\\Library\\bin;D:\\Anaconda\\Scripts;C:\\Users\\鍊\\AppData\\Local\\Microsoft\\WindowsApps;C:\\Users\\鍊\\AppData\\Roaming\\npm;C:\\Users\\鍊\\AppData\\Local\\Microsoft\\WindowsApps;C:\\Users\\鍊\\AppData\\Local\\Programs\\Microsoft VS Code\\bin;C:\\Users\\鍊\\AppData\\Local\\GitHubDesktop\\bin;D:\\mingw64\\bin;C:\\Program Files\\Git\\cmd;.\n",
      "D:\\Deep_learning\\01.python\\Libraries\n"
     ]
    }
   ],
   "source": [
    "import os\n",
    "print (os.sep)   #系统路径分隔符\n",
    "print (os.name)   #工作台名称，Windows是nt，linux是posix\n",
    "print (os.getenv('path'))   #读取环境变量\n",
    "print (os.getcwd())    #获取当前工作路径"
   ]
  },
  {
   "cell_type": "markdown",
   "metadata": {},
   "source": [
    "### 目录增删改查"
   ]
  },
  {
   "cell_type": "code",
   "execution_count": 4,
   "metadata": {
    "execution": {
     "iopub.execute_input": "2020-06-08T07:24:51.809930Z",
     "iopub.status.busy": "2020-06-08T07:24:51.809930Z",
     "iopub.status.idle": "2020-06-08T07:24:51.822094Z",
     "shell.execute_reply": "2020-06-08T07:24:51.821092Z",
     "shell.execute_reply.started": "2020-06-08T07:24:51.809930Z"
    }
   },
   "outputs": [
    {
     "data": {
      "text/plain": [
       "'D:\\\\Deep_learning\\\\01.python\\\\Libraries'"
      ]
     },
     "execution_count": 4,
     "metadata": {},
     "output_type": "execute_result"
    }
   ],
   "source": [
    "dir=os.getcwd()\n",
    "dir"
   ]
  },
  {
   "cell_type": "code",
   "execution_count": 5,
   "metadata": {
    "execution": {
     "iopub.execute_input": "2020-06-08T07:25:27.648364Z",
     "iopub.status.busy": "2020-06-08T07:25:27.648364Z",
     "iopub.status.idle": "2020-06-08T07:25:27.654853Z",
     "shell.execute_reply": "2020-06-08T07:25:27.654349Z",
     "shell.execute_reply.started": "2020-06-08T07:25:27.648364Z"
    }
   },
   "outputs": [
    {
     "data": {
      "text/plain": [
       "['.ipynb_checkpoints', 'Datetime.ipynb', 'Enumerate.ipynb', 'sys&os模块.ipynb']"
      ]
     },
     "execution_count": 5,
     "metadata": {},
     "output_type": "execute_result"
    }
   ],
   "source": [
    "os.listdir(dir)  # "
   ]
  },
  {
   "cell_type": "code",
   "execution_count": null,
   "metadata": {},
   "outputs": [],
   "source": []
  }
 ],
 "metadata": {
  "kernelspec": {
   "display_name": "Python 3",
   "language": "python",
   "name": "python3"
  },
  "language_info": {
   "codemirror_mode": {
    "name": "ipython",
    "version": 3
   },
   "file_extension": ".py",
   "mimetype": "text/x-python",
   "name": "python",
   "nbconvert_exporter": "python",
   "pygments_lexer": "ipython3",
   "version": "3.7.7"
  }
 },
 "nbformat": 4,
 "nbformat_minor": 4
}
