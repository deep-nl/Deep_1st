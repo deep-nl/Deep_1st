{
 "cells": [
  {
   "cell_type": "markdown",
   "metadata": {},
   "source": [
    "## 美化输出"
   ]
  },
  {
   "cell_type": "markdown",
   "metadata": {},
   "source": [
    "**class pprint.PrettyPrinter（indent = 1，width = 80，depth = None，stream = None，*，compact = False ）**  \n",
    "1.indent 缩进  \n",
    "2.width 宽度  \n",
    "3.depth 打印深度  \n",
    "4.stream 指输出流对象，stream = None输出流对象默认是sys.stdout  \n",
    "5.compact 如果compact为false（默认值），则长序列中的每个项目将在单独的行上进行格式化。如果compact为true，则将在每个输出行上格式化适合宽度的项目。"
   ]
  },
  {
   "cell_type": "code",
   "execution_count": 1,
   "metadata": {
    "ExecuteTime": {
     "end_time": "2020-07-07T13:07:47.251082Z",
     "start_time": "2020-07-07T13:07:47.247091Z"
    }
   },
   "outputs": [],
   "source": [
    "import pprint"
   ]
  },
  {
   "cell_type": "code",
   "execution_count": 2,
   "metadata": {
    "ExecuteTime": {
     "end_time": "2020-07-07T13:08:09.346301Z",
     "start_time": "2020-07-07T13:08:09.342158Z"
    }
   },
   "outputs": [],
   "source": [
    "L = [str(i)*20 for i in range(10)]\n",
    "pp = pprint.PrettyPrinter(indent=4)"
   ]
  },
  {
   "cell_type": "code",
   "execution_count": 3,
   "metadata": {
    "ExecuteTime": {
     "end_time": "2020-07-07T13:08:10.853683Z",
     "start_time": "2020-07-07T13:08:10.848083Z"
    }
   },
   "outputs": [
    {
     "name": "stdout",
     "output_type": "stream",
     "text": [
      "['00000000000000000000', '11111111111111111111', '22222222222222222222', '33333333333333333333', '44444444444444444444', '55555555555555555555', '66666666666666666666', '77777777777777777777', '88888888888888888888', '99999999999999999999']\n"
     ]
    }
   ],
   "source": [
    "print(L)"
   ]
  },
  {
   "cell_type": "code",
   "execution_count": 4,
   "metadata": {
    "ExecuteTime": {
     "end_time": "2020-07-07T13:08:12.529856Z",
     "start_time": "2020-07-07T13:08:12.524867Z"
    }
   },
   "outputs": [
    {
     "name": "stdout",
     "output_type": "stream",
     "text": [
      "[   '00000000000000000000',\n",
      "    '11111111111111111111',\n",
      "    '22222222222222222222',\n",
      "    '33333333333333333333',\n",
      "    '44444444444444444444',\n",
      "    '55555555555555555555',\n",
      "    '66666666666666666666',\n",
      "    '77777777777777777777',\n",
      "    '88888888888888888888',\n",
      "    '99999999999999999999']\n"
     ]
    }
   ],
   "source": [
    "pp.pprint(L)"
   ]
  },
  {
   "cell_type": "code",
   "execution_count": null,
   "metadata": {},
   "outputs": [],
   "source": []
  }
 ],
 "metadata": {
  "kernelspec": {
   "display_name": "Python 3",
   "language": "python",
   "name": "python3"
  },
  "language_info": {
   "codemirror_mode": {
    "name": "ipython",
    "version": 3
   },
   "file_extension": ".py",
   "mimetype": "text/x-python",
   "name": "python",
   "nbconvert_exporter": "python",
   "pygments_lexer": "ipython3",
   "version": "3.7.7"
  },
  "toc": {
   "base_numbering": 1,
   "nav_menu": {},
   "number_sections": true,
   "sideBar": true,
   "skip_h1_title": false,
   "title_cell": "Table of Contents",
   "title_sidebar": "Contents",
   "toc_cell": false,
   "toc_position": {},
   "toc_section_display": true,
   "toc_window_display": false
  }
 },
 "nbformat": 4,
 "nbformat_minor": 4
}
