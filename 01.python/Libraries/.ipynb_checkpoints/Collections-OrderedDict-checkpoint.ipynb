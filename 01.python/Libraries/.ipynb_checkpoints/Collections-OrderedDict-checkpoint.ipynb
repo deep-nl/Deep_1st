{
 "cells": [
  {
   "cell_type": "markdown",
   "metadata": {},
   "source": [
    "# collections模块"
   ]
  },
  {
   "cell_type": "markdown",
   "metadata": {},
   "source": [
    "namedtuple，可以创建包含名称的tuple；  \n",
    "\n",
    "deque，类似于list的容器，可以快速的在队列头部和尾部添加、删除元素；  \n",
    "\n",
    "Counter，dict的子类，计算可hash的对象；  \n",
    "\n",
    "OrderedDict，dict的子类，可以记住元素的添加顺序；  \n",
    "\n",
    "defaultdict，dict的子类，可以调用提供默认值的函数；  "
   ]
  },
  {
   "cell_type": "markdown",
   "metadata": {},
   "source": [
    "## Counter"
   ]
  },
  {
   "cell_type": "markdown",
   "metadata": {
    "ExecuteTime": {
     "end_time": "2020-07-25T18:12:16.380434Z",
     "start_time": "2020-07-25T18:12:16.376783Z"
    },
    "execution": {
     "iopub.execute_input": "2020-07-03T07:47:31.572809Z",
     "iopub.status.busy": "2020-07-03T07:47:31.571812Z",
     "iopub.status.idle": "2020-07-03T07:47:31.580784Z",
     "shell.execute_reply": "2020-07-03T07:47:31.580784Z",
     "shell.execute_reply.started": "2020-07-03T07:47:31.572809Z"
    }
   },
   "source": [
    "counter可以支持方便、快速的计数"
   ]
  },
  {
   "cell_type": "code",
   "execution_count": null,
   "metadata": {
    "ExecuteTime": {
     "end_time": "2020-07-25T18:12:16.380434Z",
     "start_time": "2020-07-25T18:12:16.376783Z"
    },
    "execution": {
     "iopub.execute_input": "2020-07-03T07:47:31.572809Z",
     "iopub.status.busy": "2020-07-03T07:47:31.571812Z",
     "iopub.status.idle": "2020-07-03T07:47:31.580784Z",
     "shell.execute_reply": "2020-07-03T07:47:31.580784Z",
     "shell.execute_reply.started": "2020-07-03T07:47:31.572809Z"
    }
   },
   "outputs": [],
   "source": [
    "from collections import *\n",
    "\n",
    "cnt = Counter()\n",
    "wordList = [\"a\",\"b\",\"c\",\"c\",\"a\",\"a\"]"
   ]
  },
  {
   "cell_type": "code",
   "execution_count": 1,
   "metadata": {
    "ExecuteTime": {
     "end_time": "2020-07-25T18:12:16.380434Z",
     "start_time": "2020-07-25T18:12:16.376783Z"
    },
    "execution": {
     "iopub.execute_input": "2020-07-03T07:47:31.572809Z",
     "iopub.status.busy": "2020-07-03T07:47:31.571812Z",
     "iopub.status.idle": "2020-07-03T07:47:31.580784Z",
     "shell.execute_reply": "2020-07-03T07:47:31.580784Z",
     "shell.execute_reply.started": "2020-07-03T07:47:31.572809Z"
    }
   },
   "outputs": [
    {
     "name": "stdout",
     "output_type": "stream",
     "text": [
      "Counter({'a': 3, 'c': 2, 'b': 1})\n"
     ]
    }
   ],
   "source": [
    "#传统方法\n",
    "for word in wordList:\n",
    "    cnt[word] += 1\n",
    "print(cnt)"
   ]
  },
  {
   "cell_type": "code",
   "execution_count": 3,
   "metadata": {
    "ExecuteTime": {
     "end_time": "2020-07-25T18:13:19.427301Z",
     "start_time": "2020-07-25T18:13:19.420916Z"
    }
   },
   "outputs": [
    {
     "data": {
      "text/plain": [
       "Counter({'a': 3, 'b': 1, 'c': 2})"
      ]
     },
     "execution_count": 3,
     "metadata": {},
     "output_type": "execute_result"
    }
   ],
   "source": [
    "#利用Counter\n",
    "c=Counter(wordList)\n",
    "c"
   ]
  },
  {
   "cell_type": "code",
   "execution_count": 12,
   "metadata": {
    "execution": {
     "iopub.execute_input": "2020-07-03T08:05:23.868251Z",
     "iopub.status.busy": "2020-07-03T08:05:23.867254Z",
     "iopub.status.idle": "2020-07-03T08:05:23.871634Z",
     "shell.execute_reply": "2020-07-03T08:05:23.871244Z",
     "shell.execute_reply.started": "2020-07-03T08:05:23.867254Z"
    }
   },
   "outputs": [],
   "source": [
    "#对可迭代的对象进行计数或者从另一个映射（counter）进行初始化\n",
    "c = Counter()#一个新的，空的counter"
   ]
  },
  {
   "cell_type": "code",
   "execution_count": 15,
   "metadata": {
    "execution": {
     "iopub.execute_input": "2020-07-03T08:05:44.293400Z",
     "iopub.status.busy": "2020-07-03T08:05:44.293400Z",
     "iopub.status.idle": "2020-07-03T08:05:44.299383Z",
     "shell.execute_reply": "2020-07-03T08:05:44.299383Z",
     "shell.execute_reply.started": "2020-07-03T08:05:44.293400Z"
    }
   },
   "outputs": [
    {
     "data": {
      "text/plain": [
       "Counter({'g': 1, 'a': 3, 'l': 2, 'h': 1, 'd': 1})"
      ]
     },
     "execution_count": 15,
     "metadata": {},
     "output_type": "execute_result"
    }
   ],
   "source": [
    "c = Counter(\"gallahad\")#从可迭代的字符串初始化counter\n",
    "c"
   ]
  },
  {
   "cell_type": "code",
   "execution_count": 16,
   "metadata": {
    "execution": {
     "iopub.execute_input": "2020-07-03T08:08:04.620990Z",
     "iopub.status.busy": "2020-07-03T08:08:04.620990Z",
     "iopub.status.idle": "2020-07-03T08:08:04.627972Z",
     "shell.execute_reply": "2020-07-03T08:08:04.626974Z",
     "shell.execute_reply.started": "2020-07-03T08:08:04.620990Z"
    }
   },
   "outputs": [
    {
     "data": {
      "text/plain": [
       "0"
      ]
     },
     "execution_count": 16,
     "metadata": {},
     "output_type": "execute_result"
    }
   ],
   "source": [
    "#Counter对象类似于字典，如果某个项缺失，会返回0，而不是报出KeyError；\n",
    "c = Counter(['eggs','ham'])\n",
    "c['bacon']#没有'bacon'"
   ]
  },
  {
   "cell_type": "code",
   "execution_count": 4,
   "metadata": {
    "ExecuteTime": {
     "end_time": "2020-07-25T18:31:17.813085Z",
     "start_time": "2020-07-25T18:31:17.810715Z"
    }
   },
   "outputs": [],
   "source": [
    "#将一个元素的数目设置为0，并不能将它从counter中删除，使用del可以将这个元素删除\n",
    "c=Counter({'eggs': 1, 'ham': 1})\n",
    "c['eggs'] = 0"
   ]
  },
  {
   "cell_type": "code",
   "execution_count": 5,
   "metadata": {
    "ExecuteTime": {
     "end_time": "2020-07-25T18:31:25.610959Z",
     "start_time": "2020-07-25T18:31:25.608386Z"
    }
   },
   "outputs": [
    {
     "data": {
      "text/plain": [
       "Counter({'eggs': 0, 'ham': 1})"
      ]
     },
     "execution_count": 5,
     "metadata": {},
     "output_type": "execute_result"
    }
   ],
   "source": [
    "c"
   ]
  },
  {
   "cell_type": "code",
   "execution_count": 6,
   "metadata": {
    "ExecuteTime": {
     "end_time": "2020-07-25T18:32:18.836242Z",
     "start_time": "2020-07-25T18:32:18.833330Z"
    }
   },
   "outputs": [
    {
     "data": {
      "text/plain": [
       "Counter({'ham': 1})"
      ]
     },
     "execution_count": 6,
     "metadata": {},
     "output_type": "execute_result"
    }
   ],
   "source": [
    "del c['eggs']\n",
    "c"
   ]
  },
  {
   "cell_type": "markdown",
   "metadata": {},
   "source": [
    "### Counter对象支持以下三个字典不支持的方法，elements()，most_common()，subtract()；"
   ]
  },
  {
   "cell_type": "code",
   "execution_count": 18,
   "metadata": {
    "execution": {
     "iopub.execute_input": "2020-07-03T08:11:18.157853Z",
     "iopub.status.busy": "2020-07-03T08:11:18.157853Z",
     "iopub.status.idle": "2020-07-03T08:11:18.163839Z",
     "shell.execute_reply": "2020-07-03T08:11:18.163839Z",
     "shell.execute_reply.started": "2020-07-03T08:11:18.157853Z"
    }
   },
   "outputs": [
    {
     "data": {
      "text/plain": [
       "['a', 'a', 'b', 'b', 'b', 'b', 'e']"
      ]
     },
     "execution_count": 18,
     "metadata": {},
     "output_type": "execute_result"
    }
   ],
   "source": [
    "#element()，返回一个迭代器，每个元素重复的次数为它的数目，顺序是任意的顺序，如果一个元素的数目少于1，那么elements()就会忽略它；\n",
    "c = Counter(a=2,b=4,c=0,d=-2,e = 1)\n",
    "list(c.elements())"
   ]
  },
  {
   "cell_type": "code",
   "execution_count": 20,
   "metadata": {
    "execution": {
     "iopub.execute_input": "2020-07-03T08:17:06.118432Z",
     "iopub.status.busy": "2020-07-03T08:17:06.118432Z",
     "iopub.status.idle": "2020-07-03T08:17:06.125371Z",
     "shell.execute_reply": "2020-07-03T08:17:06.124404Z",
     "shell.execute_reply.started": "2020-07-03T08:17:06.118432Z"
    }
   },
   "outputs": [
    {
     "data": {
      "text/plain": [
       "[('a', 5), ('b', 2), ('r', 2)]"
      ]
     },
     "execution_count": 20,
     "metadata": {},
     "output_type": "execute_result"
    }
   ],
   "source": [
    "#most_common()，返回一个列表，包含counter中n个最大数目的元素，如果忽略n或者为None;\n",
    "#most_common()将会返回counter中的所有元素，元素有着相同数目的将会以任意顺序排列；\n",
    "Counter('abracadabra').most_common(3)"
   ]
  },
  {
   "cell_type": "code",
   "execution_count": 21,
   "metadata": {
    "execution": {
     "iopub.execute_input": "2020-07-03T08:17:06.920138Z",
     "iopub.status.busy": "2020-07-03T08:17:06.920138Z",
     "iopub.status.idle": "2020-07-03T08:17:06.929416Z",
     "shell.execute_reply": "2020-07-03T08:17:06.928450Z",
     "shell.execute_reply.started": "2020-07-03T08:17:06.920138Z"
    }
   },
   "outputs": [
    {
     "data": {
      "text/plain": [
       "[('a', 5), ('b', 2), ('r', 2), ('c', 1), ('d', 1)]"
      ]
     },
     "execution_count": 21,
     "metadata": {},
     "output_type": "execute_result"
    }
   ],
   "source": [
    "Counter('abracadabra').most_common()"
   ]
  },
  {
   "cell_type": "code",
   "execution_count": 22,
   "metadata": {
    "execution": {
     "iopub.execute_input": "2020-07-03T08:17:09.571631Z",
     "iopub.status.busy": "2020-07-03T08:17:09.571631Z",
     "iopub.status.idle": "2020-07-03T08:17:09.579461Z",
     "shell.execute_reply": "2020-07-03T08:17:09.579461Z",
     "shell.execute_reply.started": "2020-07-03T08:17:09.571631Z"
    }
   },
   "outputs": [
    {
     "data": {
      "text/plain": [
       "[('a', 5), ('b', 2), ('r', 2), ('c', 1), ('d', 1)]"
      ]
     },
     "execution_count": 22,
     "metadata": {},
     "output_type": "execute_result"
    }
   ],
   "source": [
    "Counter('abracadabra').most_common(None)"
   ]
  },
  {
   "cell_type": "markdown",
   "metadata": {},
   "source": [
    "subtract()，从一个可迭代对象中或者另一个映射（或counter）中，元素相减，类似于dict.update();  \n",
    "但是subtracts 数目而不是替换它们，输入和输出都有可能为0或者为负；"
   ]
  },
  {
   "cell_type": "code",
   "execution_count": 23,
   "metadata": {
    "execution": {
     "iopub.execute_input": "2020-07-03T08:20:03.718177Z",
     "iopub.status.busy": "2020-07-03T08:20:03.717689Z",
     "iopub.status.idle": "2020-07-03T08:20:03.725191Z",
     "shell.execute_reply": "2020-07-03T08:20:03.725191Z",
     "shell.execute_reply.started": "2020-07-03T08:20:03.718177Z"
    }
   },
   "outputs": [
    {
     "data": {
      "text/plain": [
       "Counter({'a': 3, 'b': 0, 'c': 3, 'd': -6})"
      ]
     },
     "execution_count": 23,
     "metadata": {},
     "output_type": "execute_result"
    }
   ],
   "source": [
    "c = Counter(a=4,b=2,c=0,d=-2)\n",
    "d = Counter(a=1,b=2,c=-3,d=4)\n",
    "c.subtract(d)\n",
    "c"
   ]
  },
  {
   "cell_type": "markdown",
   "metadata": {},
   "source": [
    "update()，从一个可迭代对象中或者另一个映射（或counter）中所有元素相加，类似于dict.upodate，是数目相加而非替换它们  \n",
    "另外，可迭代对象是一个元素序列，而非(key,value)对构成的序列；"
   ]
  },
  {
   "cell_type": "code",
   "execution_count": 24,
   "metadata": {
    "execution": {
     "iopub.execute_input": "2020-07-03T08:21:58.899030Z",
     "iopub.status.busy": "2020-07-03T08:21:58.898035Z",
     "iopub.status.idle": "2020-07-03T08:21:58.905015Z",
     "shell.execute_reply": "2020-07-03T08:21:58.905015Z",
     "shell.execute_reply.started": "2020-07-03T08:21:58.899030Z"
    }
   },
   "outputs": [
    {
     "data": {
      "text/plain": [
       "Counter({'a': 4, 'b': 2, 'c': 0, 'd': -2})"
      ]
     },
     "execution_count": 24,
     "metadata": {},
     "output_type": "execute_result"
    }
   ],
   "source": [
    "Counter({'a': 4, 'b': 2, 'c': 0, 'd': -2})\n",
    "Counter({'d': 4, 'b': 2, 'a': 1, 'c': -3})\n",
    "c.update(d)\n",
    "c"
   ]
  },
  {
   "cell_type": "markdown",
   "metadata": {},
   "source": [
    "### OrderedDict"
   ]
  },
  {
   "cell_type": "code",
   "execution_count": 1,
   "metadata": {
    "execution": {
     "iopub.execute_input": "2020-07-03T07:32:35.391126Z",
     "iopub.status.busy": "2020-07-03T07:32:35.390126Z",
     "iopub.status.idle": "2020-07-03T07:32:35.396109Z",
     "shell.execute_reply": "2020-07-03T07:32:35.395112Z",
     "shell.execute_reply.started": "2020-07-03T07:32:35.391126Z"
    }
   },
   "outputs": [],
   "source": [
    "from collections import *"
   ]
  },
  {
   "cell_type": "markdown",
   "metadata": {},
   "source": [
    "OrderedDict类似于正常的词典，只是它记住了元素插入的顺序，当在有序的词典上迭代时，返回的元素就是它们第一次添加的顺序。"
   ]
  },
  {
   "cell_type": "code",
   "execution_count": 2,
   "metadata": {
    "execution": {
     "iopub.execute_input": "2020-07-03T07:32:36.329027Z",
     "iopub.status.busy": "2020-07-03T07:32:36.328026Z",
     "iopub.status.idle": "2020-07-03T07:32:36.333013Z",
     "shell.execute_reply": "2020-07-03T07:32:36.332016Z",
     "shell.execute_reply.started": "2020-07-03T07:32:36.329027Z"
    }
   },
   "outputs": [],
   "source": [
    "d = {\"banana\":3,\"apple\":2,\"pear\":1,\"orange\":4}"
   ]
  },
  {
   "cell_type": "code",
   "execution_count": 3,
   "metadata": {
    "execution": {
     "iopub.execute_input": "2020-07-03T07:32:36.810511Z",
     "iopub.status.busy": "2020-07-03T07:32:36.809524Z",
     "iopub.status.idle": "2020-07-03T07:32:36.824943Z",
     "shell.execute_reply": "2020-07-03T07:32:36.824436Z",
     "shell.execute_reply.started": "2020-07-03T07:32:36.810511Z"
    }
   },
   "outputs": [
    {
     "data": {
      "text/plain": [
       "OrderedDict([('apple', 2),\n",
       "             ('banana', 3),\n",
       "             ('orange', 4),\n",
       "             ('pear', 1),\n",
       "             ('key', <function __main__.<lambda>(t)>)])"
      ]
     },
     "execution_count": 3,
     "metadata": {},
     "output_type": "execute_result"
    }
   ],
   "source": [
    "OrderedDict(sorted(d.items()),key = lambda t:t[0])   # dict sorted by key"
   ]
  },
  {
   "cell_type": "code",
   "execution_count": 4,
   "metadata": {
    "execution": {
     "iopub.execute_input": "2020-07-03T07:32:58.054767Z",
     "iopub.status.busy": "2020-07-03T07:32:58.054767Z",
     "iopub.status.idle": "2020-07-03T07:32:58.061745Z",
     "shell.execute_reply": "2020-07-03T07:32:58.061745Z",
     "shell.execute_reply.started": "2020-07-03T07:32:58.054767Z"
    }
   },
   "outputs": [
    {
     "data": {
      "text/plain": [
       "OrderedDict([('pear', 1), ('apple', 2), ('banana', 3), ('orange', 4)])"
      ]
     },
     "execution_count": 4,
     "metadata": {},
     "output_type": "execute_result"
    }
   ],
   "source": [
    " OrderedDict(sorted(d.items(),key = lambda t:t[1])) # dict sorted by value"
   ]
  },
  {
   "cell_type": "code",
   "execution_count": 5,
   "metadata": {
    "execution": {
     "iopub.execute_input": "2020-07-03T07:39:00.054567Z",
     "iopub.status.busy": "2020-07-03T07:39:00.054567Z",
     "iopub.status.idle": "2020-07-03T07:39:00.059548Z",
     "shell.execute_reply": "2020-07-03T07:39:00.058549Z",
     "shell.execute_reply.started": "2020-07-03T07:39:00.054567Z"
    }
   },
   "outputs": [],
   "source": [
    "a =  OrderedDict(sorted(d.items(),key = lambda t:len(t[0])))  # dict sorted by length of key string"
   ]
  },
  {
   "cell_type": "code",
   "execution_count": 6,
   "metadata": {
    "execution": {
     "iopub.execute_input": "2020-07-03T07:39:05.358820Z",
     "iopub.status.busy": "2020-07-03T07:39:05.357796Z",
     "iopub.status.idle": "2020-07-03T07:39:05.363779Z",
     "shell.execute_reply": "2020-07-03T07:39:05.363779Z",
     "shell.execute_reply.started": "2020-07-03T07:39:05.358820Z"
    }
   },
   "outputs": [
    {
     "data": {
      "text/plain": [
       "OrderedDict([('pear', 1), ('apple', 2), ('banana', 3), ('orange', 4)])"
      ]
     },
     "execution_count": 6,
     "metadata": {},
     "output_type": "execute_result"
    }
   ],
   "source": [
    "a"
   ]
  },
  {
   "cell_type": "code",
   "execution_count": 7,
   "metadata": {
    "execution": {
     "iopub.execute_input": "2020-07-03T07:39:31.524286Z",
     "iopub.status.busy": "2020-07-03T07:39:31.522293Z",
     "iopub.status.idle": "2020-07-03T07:39:31.528276Z",
     "shell.execute_reply": "2020-07-03T07:39:31.527686Z",
     "shell.execute_reply.started": "2020-07-03T07:39:31.524286Z"
    }
   },
   "outputs": [],
   "source": [
    "del a['apple']"
   ]
  },
  {
   "cell_type": "code",
   "execution_count": 8,
   "metadata": {
    "execution": {
     "iopub.execute_input": "2020-07-03T07:39:34.306553Z",
     "iopub.status.busy": "2020-07-03T07:39:34.305556Z",
     "iopub.status.idle": "2020-07-03T07:39:34.313536Z",
     "shell.execute_reply": "2020-07-03T07:39:34.312571Z",
     "shell.execute_reply.started": "2020-07-03T07:39:34.306553Z"
    }
   },
   "outputs": [
    {
     "data": {
      "text/plain": [
       "OrderedDict([('pear', 1), ('banana', 3), ('orange', 4)])"
      ]
     },
     "execution_count": 8,
     "metadata": {},
     "output_type": "execute_result"
    }
   ],
   "source": [
    "a"
   ]
  },
  {
   "cell_type": "code",
   "execution_count": 10,
   "metadata": {
    "execution": {
     "iopub.execute_input": "2020-07-03T07:44:51.979097Z",
     "iopub.status.busy": "2020-07-03T07:44:51.979097Z",
     "iopub.status.idle": "2020-07-03T07:44:51.995393Z",
     "shell.execute_reply": "2020-07-03T07:44:51.994395Z",
     "shell.execute_reply.started": "2020-07-03T07:44:51.979097Z"
    }
   },
   "outputs": [
    {
     "data": {
      "text/plain": [
       "mappingproxy({'__repr__': <slot wrapper '__repr__' of 'collections.OrderedDict' objects>,\n",
       "              '__lt__': <slot wrapper '__lt__' of 'collections.OrderedDict' objects>,\n",
       "              '__le__': <slot wrapper '__le__' of 'collections.OrderedDict' objects>,\n",
       "              '__eq__': <slot wrapper '__eq__' of 'collections.OrderedDict' objects>,\n",
       "              '__ne__': <slot wrapper '__ne__' of 'collections.OrderedDict' objects>,\n",
       "              '__gt__': <slot wrapper '__gt__' of 'collections.OrderedDict' objects>,\n",
       "              '__ge__': <slot wrapper '__ge__' of 'collections.OrderedDict' objects>,\n",
       "              '__iter__': <slot wrapper '__iter__' of 'collections.OrderedDict' objects>,\n",
       "              '__init__': <slot wrapper '__init__' of 'collections.OrderedDict' objects>,\n",
       "              '__setitem__': <slot wrapper '__setitem__' of 'collections.OrderedDict' objects>,\n",
       "              '__delitem__': <slot wrapper '__delitem__' of 'collections.OrderedDict' objects>,\n",
       "              'fromkeys': <method 'fromkeys' of 'collections.OrderedDict' objects>,\n",
       "              '__sizeof__': <method '__sizeof__' of 'collections.OrderedDict' objects>,\n",
       "              '__reduce__': <method '__reduce__' of 'collections.OrderedDict' objects>,\n",
       "              'setdefault': <method 'setdefault' of 'collections.OrderedDict' objects>,\n",
       "              'pop': <method 'pop' of 'collections.OrderedDict' objects>,\n",
       "              'popitem': <method 'popitem' of 'collections.OrderedDict' objects>,\n",
       "              'keys': <method 'keys' of 'collections.OrderedDict' objects>,\n",
       "              'values': <method 'values' of 'collections.OrderedDict' objects>,\n",
       "              'items': <method 'items' of 'collections.OrderedDict' objects>,\n",
       "              'update': <method 'update' of 'collections.OrderedDict' objects>,\n",
       "              'clear': <method 'clear' of 'collections.OrderedDict' objects>,\n",
       "              'copy': <method 'copy' of 'collections.OrderedDict' objects>,\n",
       "              '__reversed__': <method '__reversed__' of 'collections.OrderedDict' objects>,\n",
       "              'move_to_end': <method 'move_to_end' of 'collections.OrderedDict' objects>,\n",
       "              '__dict__': <attribute '__dict__' of 'collections.OrderedDict' objects>,\n",
       "              '__doc__': 'Dictionary that remembers insertion order',\n",
       "              '__hash__': None})"
      ]
     },
     "execution_count": 10,
     "metadata": {},
     "output_type": "execute_result"
    }
   ],
   "source": [
    "OrderedDict.__dict__"
   ]
  },
  {
   "cell_type": "code",
   "execution_count": null,
   "metadata": {},
   "outputs": [],
   "source": []
  }
 ],
 "metadata": {
  "kernelspec": {
   "display_name": "Python 3",
   "language": "python",
   "name": "python3"
  },
  "language_info": {
   "codemirror_mode": {
    "name": "ipython",
    "version": 3
   },
   "file_extension": ".py",
   "mimetype": "text/x-python",
   "name": "python",
   "nbconvert_exporter": "python",
   "pygments_lexer": "ipython3",
   "version": "3.7.7"
  },
  "toc": {
   "base_numbering": 1,
   "nav_menu": {},
   "number_sections": true,
   "sideBar": true,
   "skip_h1_title": false,
   "title_cell": "Table of Contents",
   "title_sidebar": "Contents",
   "toc_cell": false,
   "toc_position": {},
   "toc_section_display": true,
   "toc_window_display": false
  }
 },
 "nbformat": 4,
 "nbformat_minor": 4
}
