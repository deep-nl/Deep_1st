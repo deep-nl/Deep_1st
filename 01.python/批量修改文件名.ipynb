{
 "cells": [
  {
   "cell_type": "markdown",
   "metadata": {},
   "source": [
    "## 批量将某文件夹下所有json名称从1.json改为840.json为例"
   ]
  },
  {
   "cell_type": "markdown",
   "metadata": {},
   "source": [
    "### 思路（一）"
   ]
  },
  {
   "cell_type": "code",
   "execution_count": 1,
   "metadata": {
    "execution": {
     "iopub.execute_input": "2020-07-03T08:51:04.356099Z",
     "iopub.status.busy": "2020-07-03T08:51:04.356099Z",
     "iopub.status.idle": "2020-07-03T08:51:04.361086Z",
     "shell.execute_reply": "2020-07-03T08:51:04.360242Z",
     "shell.execute_reply.started": "2020-07-03T08:51:04.356099Z"
    }
   },
   "outputs": [],
   "source": [
    "import os\n",
    "import re\n",
    "import sys"
   ]
  },
  {
   "cell_type": "code",
   "execution_count": null,
   "metadata": {},
   "outputs": [],
   "source": [
    "    fileList = os.listdir(r\"./neteasy_playlist_data3\")\n",
    "    # 输出此文件夹中包含的文件名称\n",
    "    print(\"修改前：\" + str(fileList)[1])   #添加了[1]来避免出现大量的信息"
   ]
  },
  {
   "cell_type": "code",
   "execution_count": null,
   "metadata": {},
   "outputs": [],
   "source": [
    "    # 得到进程当前工作目录\n",
    "    currentpath = os.getcwd()\n",
    "    # 将当前工作目录修改为待修改文件夹的位置\n",
    "    os.chdir(r\"./neteasy_playlist_data3\")\n",
    "    # 名称变量\n",
    "    num = 1\n",
    "    # 遍历文件夹中所有文件\n",
    "    for fileName in fileList:\n",
    "        # 匹配文件名正则表达式\n",
    "        pat = \".+\\.(json)\"\n",
    "        # 进行匹配\n",
    "        pattern = re.findall(pat, fileName)\n",
    "        # 文件重新命名\n",
    "        os.rename(fileName, (str(num + 839) + '.' + pattern[0]))\n",
    "        # 改变编号，继续下一项\n",
    "        num = num + 1\n",
    "    print(\"***************************************\")\n",
    "    # 改回程序运行前的工作目录\n",
    "    os.chdir(currentpath)\n",
    "    # 刷新\n",
    "    sys.stdin.flush()\n",
    "    # 输出修改后文件夹中包含的文件名称\n",
    "    print(\"修改后：\" + str(os.listdir(r\"./neteasy_playlist_data3\"))[1])  #添加了[1]来避免出现大量的信息"
   ]
  },
  {
   "cell_type": "markdown",
   "metadata": {},
   "source": [
    "### 思路（二）"
   ]
  },
  {
   "cell_type": "code",
   "execution_count": null,
   "metadata": {},
   "outputs": [],
   "source": [
    "import os\n",
    "path = \"e:/test/\"    # 目标路径\n",
    "\n",
    "\"\"\"os.listdir(path) 操作效果为 返回指定路径(path)文件夹中所有文件名\"\"\"\n",
    "filename_list = os.listdir(path)  # 扫描目标路径的文件,将文件名存入列表\n",
    "\n",
    "a = 0\n",
    "for i in filename_list:\n",
    "    used_name = path + filename_list[a]\n",
    "    new_name = path + \"new_\" + filename_list[a]\n",
    "    os.rename(used_name,new_name)\n",
    "    print(\"文件%s重命名成功,新的文件名为%s\" %(used_name,new_name))\n",
    "    a += "
   ]
  }
 ],
 "metadata": {
  "kernelspec": {
   "display_name": "Python 3",
   "language": "python",
   "name": "python3"
  },
  "language_info": {
   "codemirror_mode": {
    "name": "ipython",
    "version": 3
   },
   "file_extension": ".py",
   "mimetype": "text/x-python",
   "name": "python",
   "nbconvert_exporter": "python",
   "pygments_lexer": "ipython3",
   "version": "3.7.7"
  }
 },
 "nbformat": 4,
 "nbformat_minor": 4
}
