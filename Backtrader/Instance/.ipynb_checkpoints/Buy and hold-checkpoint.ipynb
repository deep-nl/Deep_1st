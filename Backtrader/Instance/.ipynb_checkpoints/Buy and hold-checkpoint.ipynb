{
 "cells": [
  {
   "cell_type": "markdown",
   "metadata": {},
   "source": [
    "**概念： Cheat-on-open**  "
   ]
  },
  {
   "cell_type": "markdown",
   "metadata": {},
   "source": [
    "针对一些all-in策略，会利用当天的close price计算出来的交易量，在第二天以开盘成交。但是开盘价和前收盘价之间存在一个缺口，可能会导致现金不够买入之前计算成交数量的情况，这个时候broker会拒绝执行订单。针对这种情况，可以通过正数index[1]来获取第二天的开盘价，但是这并不是在各种情况下都可行的一种方式。所以考虑引入cheat on open 这种方式来解决上面的问题。  \n",
    "\"\"\"cerebro = bt.Cerebro(cheat_on_open=True)\"\"\""
   ]
  },
  {
   "cell_type": "code",
   "execution_count": null,
   "metadata": {},
   "outputs": [],
   "source": []
  },
  {
   "cell_type": "code",
   "execution_count": null,
   "metadata": {},
   "outputs": [],
   "source": []
  },
  {
   "cell_type": "code",
   "execution_count": null,
   "metadata": {},
   "outputs": [],
   "source": []
  },
  {
   "cell_type": "code",
   "execution_count": null,
   "metadata": {},
   "outputs": [],
   "source": []
  }
 ],
 "metadata": {
  "kernelspec": {
   "display_name": "Python 3",
   "language": "python",
   "name": "python3"
  },
  "language_info": {
   "codemirror_mode": {
    "name": "ipython",
    "version": 3
   },
   "file_extension": ".py",
   "mimetype": "text/x-python",
   "name": "python",
   "nbconvert_exporter": "python",
   "pygments_lexer": "ipython3",
   "version": "3.7.7"
  },
  "toc": {
   "base_numbering": 1,
   "nav_menu": {},
   "number_sections": true,
   "sideBar": true,
   "skip_h1_title": false,
   "title_cell": "Table of Contents",
   "title_sidebar": "Contents",
   "toc_cell": false,
   "toc_position": {},
   "toc_section_display": true,
   "toc_window_display": false
  }
 },
 "nbformat": 4,
 "nbformat_minor": 4
}
