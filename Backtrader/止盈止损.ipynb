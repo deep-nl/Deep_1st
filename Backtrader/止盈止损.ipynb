{
 "cells": [
  {
   "cell_type": "code",
   "execution_count": 1,
   "metadata": {
    "ExecuteTime": {
     "end_time": "2020-07-27T16:39:21.617080Z",
     "start_time": "2020-07-27T16:39:19.813599Z"
    }
   },
   "outputs": [],
   "source": [
    "from __future__ import (absolute_import, division, print_function,unicode_literals)\n",
    "import backtrader as bt\n",
    "import pandas as pd\n",
    "import numpy as np\n",
    "import matplotlib.pyplot as plt\n",
    "%matplotlib inline\n",
    "from pylab import mpl\n",
    "mpl.rcParams['font.sans-serif']=['SimHei']\n",
    "mpl.rcParams['axes.unicode_minus']=False"
   ]
  },
  {
   "cell_type": "markdown",
   "metadata": {},
   "source": [
    "如何设置移动止损"
   ]
  },
  {
   "cell_type": "code",
   "execution_count": null,
   "metadata": {},
   "outputs": [],
   "source": [
    "class MyStrategy(bt.Strategy):\n",
    " \n",
    "    def __init__(self):\n",
    "        self.up_down = three_bars(self.data0)\n",
    "        self.buy_signal = bt.indicators.CrossOver(self.data.close, self.up_down.up)\n",
    "        self.sell_signal = bt.indicators.CrossDown(self.data.close, self.up_down.down)\n",
    " \n",
    " \n",
    "    def next(self):\n",
    "        #先不管buy_signal是什么，满足交易条件的时候，我们先买了一首，然后同时下了一个卖出的止损单\n",
    "        if not self.position and self.buy_signal[0] == 1:\n",
    "            self.order = self.buy(size=1)\n",
    "            self.order = self.sell(size=1, exectype=bt.Order.StopTrail, trailamount=25)"
   ]
  },
  {
   "cell_type": "code",
   "execution_count": null,
   "metadata": {},
   "outputs": [],
   "source": [
    "#我们的跟踪止损是这一笔交易亏损25元之后，就止损离场。如果你希望是一个百分比，那么就是，下面这样就是跟踪止损2%\n",
    "self.order = self.buy(size=1)\n",
    "self.order = self.sell(size=1, exectype=bt.Order.StopTrail, trailpercent=0.02)"
   ]
  }
 ],
 "metadata": {
  "kernelspec": {
   "display_name": "Python 3",
   "language": "python",
   "name": "python3"
  },
  "language_info": {
   "codemirror_mode": {
    "name": "ipython",
    "version": 3
   },
   "file_extension": ".py",
   "mimetype": "text/x-python",
   "name": "python",
   "nbconvert_exporter": "python",
   "pygments_lexer": "ipython3",
   "version": "3.7.7"
  },
  "toc": {
   "base_numbering": 1,
   "nav_menu": {},
   "number_sections": true,
   "sideBar": true,
   "skip_h1_title": false,
   "title_cell": "Table of Contents",
   "title_sidebar": "Contents",
   "toc_cell": false,
   "toc_position": {},
   "toc_section_display": true,
   "toc_window_display": false
  }
 },
 "nbformat": 4,
 "nbformat_minor": 4
}
