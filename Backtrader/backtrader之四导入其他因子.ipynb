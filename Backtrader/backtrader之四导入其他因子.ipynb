{
 "cells": [
  {
   "cell_type": "code",
   "execution_count": 1,
   "metadata": {
    "ExecuteTime": {
     "end_time": "2020-07-22T08:25:56.303665Z",
     "start_time": "2020-07-22T08:25:52.108432Z"
    }
   },
   "outputs": [],
   "source": [
    "#先引入后面可能用到的包（package）\n",
    "import pandas as pd  \n",
    "from datetime import datetime\n",
    "import backtrader as bt\n",
    "import matplotlib.pyplot as plt\n",
    "%matplotlib inline   \n",
    "\n",
    "#正常显示画图时出现的中文和负号\n",
    "from pylab import mpl\n",
    "mpl.rcParams['font.sans-serif']=['SimHei']\n",
    "mpl.rcParams['axes.unicode_minus']=False"
   ]
  },
  {
   "cell_type": "markdown",
   "metadata": {},
   "source": [
    "# 数据准备"
   ]
  },
  {
   "cell_type": "code",
   "execution_count": 2,
   "metadata": {
    "ExecuteTime": {
     "end_time": "2020-07-22T08:26:03.876974Z",
     "start_time": "2020-07-22T08:26:01.850350Z"
    }
   },
   "outputs": [],
   "source": [
    "import tushare as ts\n",
    "token='e0eeb08befd1f07516df2cbf9cbd58663f77fd72f92a04f290291c9d'\n",
    "pro=ts.pro_api(token)"
   ]
  },
  {
   "cell_type": "code",
   "execution_count": 3,
   "metadata": {
    "ExecuteTime": {
     "end_time": "2020-07-22T08:26:06.574753Z",
     "start_time": "2020-07-22T08:26:06.570392Z"
    }
   },
   "outputs": [],
   "source": [
    "import tushare as ts\n",
    "def get_data(code,date='20200101'):0.\n",
    "    data1=ts.pro_bar(ts_code=code, adj='qfq', start_date=date)\n",
    "    data1=data1[['trade_date','open','high','low','close','vol']]\n",
    "    data2=pro.daily_basic(ts_code=code,fields='trade_date,turnover_rate,pe,pb')\n",
    "    data=pd.merge(data1,data2,on='trade_date')\n",
    "    data.index=pd.to_datetime(data.trade_date)\n",
    "    data=data.sort_index()\n",
    "    data['volume']=data.vol\n",
    "    data['openinterest']=0\n",
    "    data['datetime']=pd.to_datetime(data.trade_date)\n",
    "    data=data[['datetime','open','high','low','close',\\\n",
    "               'volume','openinterest','turnover_rate','pe','pb']]\n",
    "    data=data.fillna(0)\n",
    "    return data"
   ]
  },
  {
   "cell_type": "code",
   "execution_count": 8,
   "metadata": {
    "ExecuteTime": {
     "end_time": "2020-07-22T08:30:55.689228Z",
     "start_time": "2020-07-22T08:30:55.687262Z"
    }
   },
   "outputs": [],
   "source": [
    "import tushare as ts\n",
    "token='315c111b7c5684e65563e52d902c29c130f96437e2726f6336780b71'\n",
    "pro=ts.pro_api(token)"
   ]
  },
  {
   "cell_type": "code",
   "execution_count": 7,
   "metadata": {
    "ExecuteTime": {
     "end_time": "2020-07-22T08:28:21.899572Z",
     "start_time": "2020-07-22T08:28:21.886685Z"
    }
   },
   "outputs": [
    {
     "name": "stdout",
     "output_type": "stream",
     "text": [
      "请设置tushare pro的token凭证码，如果没有请访问https://tushare.pro注册申请\n"
     ]
    },
    {
     "ename": "Exception",
     "evalue": "api init error.",
     "output_type": "error",
     "traceback": [
      "\u001b[0;31m---------------------------------------------------------------------------\u001b[0m",
      "\u001b[0;31mException\u001b[0m                                 Traceback (most recent call last)",
      "\u001b[0;32m<ipython-input-7-267971db61b3>\u001b[0m in \u001b[0;36m<module>\u001b[0;34m\u001b[0m\n\u001b[1;32m      3\u001b[0m \u001b[0mpro\u001b[0m\u001b[0;34m=\u001b[0m\u001b[0mts\u001b[0m\u001b[0;34m.\u001b[0m\u001b[0mpro_api\u001b[0m\u001b[0;34m(\u001b[0m\u001b[0mtoken\u001b[0m\u001b[0;34m)\u001b[0m\u001b[0;34m\u001b[0m\u001b[0;34m\u001b[0m\u001b[0m\n\u001b[1;32m      4\u001b[0m \u001b[0;31m#数据保存到本地\u001b[0m\u001b[0;34m\u001b[0m\u001b[0;34m\u001b[0m\u001b[0;34m\u001b[0m\u001b[0m\n\u001b[0;32m----> 5\u001b[0;31m \u001b[0mget_data\u001b[0m\u001b[0;34m(\u001b[0m\u001b[0;34m'300002.SZ'\u001b[0m\u001b[0;34m)\u001b[0m\u001b[0;34m.\u001b[0m\u001b[0mto_csv\u001b[0m\u001b[0;34m(\u001b[0m\u001b[0;34m'test.csv'\u001b[0m\u001b[0;34m,\u001b[0m\u001b[0mindex\u001b[0m\u001b[0;34m=\u001b[0m\u001b[0;32mFalse\u001b[0m\u001b[0;34m)\u001b[0m\u001b[0;34m\u001b[0m\u001b[0;34m\u001b[0m\u001b[0m\n\u001b[0m\u001b[1;32m      6\u001b[0m \u001b[0mget_data\u001b[0m\u001b[0;34m(\u001b[0m\u001b[0;34m'300002.SZ'\u001b[0m\u001b[0;34m)\u001b[0m\u001b[0;34m.\u001b[0m\u001b[0mhead\u001b[0m\u001b[0;34m(\u001b[0m\u001b[0;34m)\u001b[0m\u001b[0;34m\u001b[0m\u001b[0;34m\u001b[0m\u001b[0m\n",
      "\u001b[0;32m<ipython-input-3-7203a22aad64>\u001b[0m in \u001b[0;36mget_data\u001b[0;34m(code, date)\u001b[0m\n\u001b[1;32m      1\u001b[0m \u001b[0;32mimport\u001b[0m \u001b[0mtushare\u001b[0m \u001b[0;32mas\u001b[0m \u001b[0mts\u001b[0m\u001b[0;34m\u001b[0m\u001b[0;34m\u001b[0m\u001b[0m\n\u001b[1;32m      2\u001b[0m \u001b[0;32mdef\u001b[0m \u001b[0mget_data\u001b[0m\u001b[0;34m(\u001b[0m\u001b[0mcode\u001b[0m\u001b[0;34m,\u001b[0m\u001b[0mdate\u001b[0m\u001b[0;34m=\u001b[0m\u001b[0;34m'20200101'\u001b[0m\u001b[0;34m)\u001b[0m\u001b[0;34m:\u001b[0m\u001b[0;34m\u001b[0m\u001b[0;34m\u001b[0m\u001b[0m\n\u001b[0;32m----> 3\u001b[0;31m     \u001b[0mdata1\u001b[0m\u001b[0;34m=\u001b[0m\u001b[0mts\u001b[0m\u001b[0;34m.\u001b[0m\u001b[0mpro_bar\u001b[0m\u001b[0;34m(\u001b[0m\u001b[0mts_code\u001b[0m\u001b[0;34m=\u001b[0m\u001b[0mcode\u001b[0m\u001b[0;34m,\u001b[0m \u001b[0madj\u001b[0m\u001b[0;34m=\u001b[0m\u001b[0;34m'qfq'\u001b[0m\u001b[0;34m,\u001b[0m \u001b[0mstart_date\u001b[0m\u001b[0;34m=\u001b[0m\u001b[0mdate\u001b[0m\u001b[0;34m)\u001b[0m\u001b[0;34m\u001b[0m\u001b[0;34m\u001b[0m\u001b[0m\n\u001b[0m\u001b[1;32m      4\u001b[0m     \u001b[0mdata1\u001b[0m\u001b[0;34m=\u001b[0m\u001b[0mdata1\u001b[0m\u001b[0;34m[\u001b[0m\u001b[0;34m[\u001b[0m\u001b[0;34m'trade_date'\u001b[0m\u001b[0;34m,\u001b[0m\u001b[0;34m'open'\u001b[0m\u001b[0;34m,\u001b[0m\u001b[0;34m'high'\u001b[0m\u001b[0;34m,\u001b[0m\u001b[0;34m'low'\u001b[0m\u001b[0;34m,\u001b[0m\u001b[0;34m'close'\u001b[0m\u001b[0;34m,\u001b[0m\u001b[0;34m'vol'\u001b[0m\u001b[0;34m]\u001b[0m\u001b[0;34m]\u001b[0m\u001b[0;34m\u001b[0m\u001b[0;34m\u001b[0m\u001b[0m\n\u001b[1;32m      5\u001b[0m     \u001b[0mdata2\u001b[0m\u001b[0;34m=\u001b[0m\u001b[0mpro\u001b[0m\u001b[0;34m.\u001b[0m\u001b[0mdaily_basic\u001b[0m\u001b[0;34m(\u001b[0m\u001b[0mts_code\u001b[0m\u001b[0;34m=\u001b[0m\u001b[0mcode\u001b[0m\u001b[0;34m,\u001b[0m\u001b[0mfields\u001b[0m\u001b[0;34m=\u001b[0m\u001b[0;34m'trade_date,turnover_rate,pe,pb'\u001b[0m\u001b[0;34m)\u001b[0m\u001b[0;34m\u001b[0m\u001b[0;34m\u001b[0m\u001b[0m\n",
      "\u001b[0;32m/opt/anaconda3/lib/python3.7/site-packages/tushare/pro/data_pro.py\u001b[0m in \u001b[0;36mpro_bar\u001b[0;34m(ts_code, api, start_date, end_date, freq, asset, exchange, adj, ma, factors, adjfactor, offset, limit, contract_type, retry_count)\u001b[0m\n\u001b[1;32m     98\u001b[0m     \u001b[0mts_code\u001b[0m \u001b[0;34m=\u001b[0m \u001b[0mts_code\u001b[0m\u001b[0;34m.\u001b[0m\u001b[0mstrip\u001b[0m\u001b[0;34m(\u001b[0m\u001b[0;34m)\u001b[0m\u001b[0;34m.\u001b[0m\u001b[0mupper\u001b[0m\u001b[0;34m(\u001b[0m\u001b[0;34m)\u001b[0m \u001b[0;32mif\u001b[0m \u001b[0masset\u001b[0m \u001b[0;34m!=\u001b[0m \u001b[0;34m'C'\u001b[0m \u001b[0;32melse\u001b[0m \u001b[0mts_code\u001b[0m\u001b[0;34m.\u001b[0m\u001b[0mstrip\u001b[0m\u001b[0;34m(\u001b[0m\u001b[0;34m)\u001b[0m\u001b[0;34m.\u001b[0m\u001b[0mlower\u001b[0m\u001b[0;34m(\u001b[0m\u001b[0;34m)\u001b[0m\u001b[0;34m\u001b[0m\u001b[0;34m\u001b[0m\u001b[0m\n\u001b[1;32m     99\u001b[0m     \u001b[0masset\u001b[0m \u001b[0;34m=\u001b[0m \u001b[0masset\u001b[0m\u001b[0;34m.\u001b[0m\u001b[0mstrip\u001b[0m\u001b[0;34m(\u001b[0m\u001b[0;34m)\u001b[0m\u001b[0;34m.\u001b[0m\u001b[0mupper\u001b[0m\u001b[0;34m(\u001b[0m\u001b[0;34m)\u001b[0m\u001b[0;34m\u001b[0m\u001b[0;34m\u001b[0m\u001b[0m\n\u001b[0;32m--> 100\u001b[0;31m     \u001b[0mapi\u001b[0m \u001b[0;34m=\u001b[0m \u001b[0mapi\u001b[0m \u001b[0;32mif\u001b[0m \u001b[0mapi\u001b[0m \u001b[0;32mis\u001b[0m \u001b[0;32mnot\u001b[0m \u001b[0;32mNone\u001b[0m \u001b[0;32melse\u001b[0m \u001b[0mpro_api\u001b[0m\u001b[0;34m(\u001b[0m\u001b[0;34m)\u001b[0m\u001b[0;34m\u001b[0m\u001b[0;34m\u001b[0m\u001b[0m\n\u001b[0m\u001b[1;32m    101\u001b[0m     \u001b[0;32mfor\u001b[0m \u001b[0m_\u001b[0m \u001b[0;32min\u001b[0m \u001b[0mrange\u001b[0m\u001b[0;34m(\u001b[0m\u001b[0mretry_count\u001b[0m\u001b[0;34m)\u001b[0m\u001b[0;34m:\u001b[0m\u001b[0;34m\u001b[0m\u001b[0;34m\u001b[0m\u001b[0m\n\u001b[1;32m    102\u001b[0m         \u001b[0;32mtry\u001b[0m\u001b[0;34m:\u001b[0m\u001b[0;34m\u001b[0m\u001b[0;34m\u001b[0m\u001b[0m\n",
      "\u001b[0;32m/opt/anaconda3/lib/python3.7/site-packages/tushare/pro/data_pro.py\u001b[0m in \u001b[0;36mpro_api\u001b[0;34m(token, timeout)\u001b[0m\n\u001b[1;32m     39\u001b[0m         \u001b[0;32mreturn\u001b[0m \u001b[0mpro\u001b[0m\u001b[0;34m\u001b[0m\u001b[0;34m\u001b[0m\u001b[0m\n\u001b[1;32m     40\u001b[0m     \u001b[0;32melse\u001b[0m\u001b[0;34m:\u001b[0m\u001b[0;34m\u001b[0m\u001b[0;34m\u001b[0m\u001b[0m\n\u001b[0;32m---> 41\u001b[0;31m         \u001b[0;32mraise\u001b[0m \u001b[0mException\u001b[0m\u001b[0;34m(\u001b[0m\u001b[0;34m'api init error.'\u001b[0m\u001b[0;34m)\u001b[0m\u001b[0;34m\u001b[0m\u001b[0;34m\u001b[0m\u001b[0m\n\u001b[0m\u001b[1;32m     42\u001b[0m \u001b[0;34m\u001b[0m\u001b[0m\n\u001b[1;32m     43\u001b[0m \u001b[0;34m\u001b[0m\u001b[0m\n",
      "\u001b[0;31mException\u001b[0m: api init error."
     ]
    }
   ],
   "source": [
    "#数据保存到本地\n",
    "get_data('300002.SZ').to_csv('test.csv',index=False)\n",
    "get_data('300002.SZ').head()"
   ]
  },
  {
   "cell_type": "markdown",
   "metadata": {},
   "source": [
    "# 扩展feeds中的数据加载"
   ]
  },
  {
   "cell_type": "code",
   "execution_count": null,
   "metadata": {
    "ExecuteTime": {
     "start_time": "2020-07-22T08:13:55.930Z"
    }
   },
   "outputs": [],
   "source": [
    "#pandas的数据格式\n",
    "import backtrader as bt\n",
    "from backtrader.feeds import PandasData\n",
    "class Addmoredata(PandasData):\n",
    "    lines = ('turnover_rate','pe','pb',)\n",
    "    params = (('turnover_rate',7),('pe',8),('pb',9),)"
   ]
  },
  {
   "cell_type": "code",
   "execution_count": null,
   "metadata": {
    "ExecuteTime": {
     "start_time": "2020-07-22T08:13:58.242Z"
    }
   },
   "outputs": [],
   "source": [
    "#直接读取本地csv格式数据\n",
    "from backtrader.feeds import GenericCSVData\n",
    "class AddCsvData(GenericCSVData):\n",
    "    lines = ('turnover_rate','pe','pb',)\n",
    "    params = (('turnover_rate',7),('pe',8),('pb',9),)"
   ]
  },
  {
   "cell_type": "markdown",
   "metadata": {},
   "source": [
    "## 添加其他数据——单只股票"
   ]
  },
  {
   "cell_type": "code",
   "execution_count": null,
   "metadata": {
    "ExecuteTime": {
     "start_time": "2020-07-22T08:13:59.562Z"
    }
   },
   "outputs": [],
   "source": [
    "class TestStrategy1(bt.Strategy):\n",
    "    def log(self, txt, dt=None):\n",
    "        dt = dt or self.datas[0].datetime.date(0)\n",
    "        print('%s, %s' % (dt.isoformat(), txt))\n",
    "        \n",
    "    def next(self):\n",
    "        self.log(f\"换手率:{self.datas[0].turnover_rate[0]},市净率:{self.datas[0].pb[0]},市盈率:{self.datas[0].pe[0]}\")"
   ]
  },
  {
   "cell_type": "code",
   "execution_count": null,
   "metadata": {
    "ExecuteTime": {
     "start_time": "2020-07-22T08:14:00.178Z"
    }
   },
   "outputs": [],
   "source": [
    "cerebro = bt.Cerebro()\n",
    "cerebro.addstrategy(TestStrategy1)\n",
    "feed = Addmoredata(dataname = get_data('300002.SZ','20200420'))\n",
    "#如果是读取csv数据使用下式\n",
    "#feed = AddCsvData(dataname = 'test.csv',dtformat=('%Y-%m-%d'))\n",
    "cerebro.adddata(feed)\n",
    "cerebro.run()"
   ]
  },
  {
   "cell_type": "markdown",
   "metadata": {},
   "source": [
    "## 添加其他数据——多只股票"
   ]
  },
  {
   "cell_type": "code",
   "execution_count": null,
   "metadata": {
    "ExecuteTime": {
     "start_time": "2020-07-22T08:14:03.641Z"
    }
   },
   "outputs": [],
   "source": [
    "class TestStrategy2(bt.Strategy):\n",
    "    def log(self, txt, dt=None):\n",
    "        dt = dt or self.datas[0].datetime.date(0)\n",
    "        print('%s, %s' % (dt.isoformat(), txt))\n",
    "        \n",
    "    def next(self):\n",
    "        for data in self.datas:     #这里面的datas是所有的data的集合\n",
    "            print(data._name)\n",
    "            self.log(f\"换手率:{data.turnover_rate[0]},市净率:{data.pb[0]},市盈率:{data.pe[0]}\")"
   ]
  },
  {
   "cell_type": "code",
   "execution_count": null,
   "metadata": {
    "ExecuteTime": {
     "start_time": "2020-07-22T08:14:04.265Z"
    }
   },
   "outputs": [],
   "source": [
    "cerebro = bt.Cerebro()\n",
    "cerebro.addstrategy(TestStrategy2)\n",
    "codes=['600862.SH','300326.SZ','300394.SZ']\n",
    "#加载最近两日交易数据\n",
    "for code in codes:\n",
    "    feed = Addmoredata(dataname = get_data(code,'20200506'),name=code)\n",
    "    cerebro.adddata(feed)\n",
    "cerebro.run()"
   ]
  },
  {
   "cell_type": "markdown",
   "metadata": {},
   "source": [
    "# 以换手率和市盈率构建交易策略示例"
   ]
  },
  {
   "cell_type": "code",
   "execution_count": null,
   "metadata": {
    "ExecuteTime": {
     "start_time": "2020-07-22T08:14:07.009Z"
    }
   },
   "outputs": [],
   "source": [
    "class MyStrategy(bt.Strategy):\n",
    "\n",
    "    def next(self):\n",
    "        if not self.position: # 没有持仓\n",
    "            if self.datas[0].turnover_rate[0]<3 and 0<self.datas[0].pe[0]<50:\n",
    "                # 得到当前的账户价值\n",
    "                total_value = self.broker.getvalue()\n",
    "                #1手=100股，满仓买入\n",
    "                ss=int((total_value/100)/self.datas[0].close[0])*100\n",
    "                self.order=self.buy(size=ss)\n",
    "        else:\n",
    "            if self.datas[0].turnover_rate[0]>10 or self.datas[0].pe[0]>80 :\n",
    "                self.close(self.datas[0])"
   ]
  },
  {
   "cell_type": "code",
   "execution_count": null,
   "metadata": {
    "ExecuteTime": {
     "start_time": "2020-07-22T08:14:10.281Z"
    }
   },
   "outputs": [],
   "source": [
    "cerebro = bt.Cerebro()  \n",
    "cerebro.addstrategy(MyStrategy)\n",
    "feed = Addmoredata(dataname = get_data('300002.SZ','20050101'))\n",
    "cerebro.adddata(feed)\n",
    "startcash = 100000\n",
    "cerebro.broker.setcash(startcash) \n",
    "cerebro.broker.setcommission(commission=0.001) \n",
    "cerebro.run()\n",
    "portvalue = cerebro.broker.getvalue()\n",
    "pnl = portvalue - startcash\n",
    "#打印结果\n",
    "print(f'期初总资金: {round(startcash,2)}')\n",
    "print(f'期末总资金: {round(portvalue,2)}')\n",
    "print(f'净收益: {round(pnl,2)}')"
   ]
  },
  {
   "cell_type": "code",
   "execution_count": null,
   "metadata": {
    "ExecuteTime": {
     "start_time": "2020-07-22T08:14:11.257Z"
    }
   },
   "outputs": [],
   "source": [
    "%matplotlib inline \n",
    "cerebro.plot(style='candlestick')"
   ]
  },
  {
   "cell_type": "code",
   "execution_count": null,
   "metadata": {
    "ExecuteTime": {
     "start_time": "2020-07-22T08:17:53.339Z"
    }
   },
   "outputs": [],
   "source": [
    "data = Addmoredata(dataname = get_data('300002.SZ','20050101'))\n",
    "#注意plot_result是自己写的扩展脚本加入backtrader安装文件里了\n",
    "#下面直接导入使用\n",
    "bt.plot_result(MyStrategy,data,startcash = 100000,commission=0.001)"
   ]
  },
  {
   "cell_type": "markdown",
   "metadata": {},
   "source": [
    "将zjy_plot.py放在backtrader的安装文件夹下（我的路径是：Anaconda3\\lib\\site-packages\\backtrader）,然后使用notepad+（网上下载用于查看py等文件）打开__init__.py文件，在最后加上一句：from .zjy_plot import * 。重新启动即可导入使用。"
   ]
  },
  {
   "cell_type": "markdown",
   "metadata": {},
   "source": [
    "# 使用pyecharts0.5.11版本对策略指标可视化"
   ]
  },
  {
   "cell_type": "code",
   "execution_count": null,
   "metadata": {
    "ExecuteTime": {
     "start_time": "2020-07-22T08:18:37.618Z"
    }
   },
   "outputs": [],
   "source": [
    "#addmoredata是在PandasData上的扩展\n",
    "#out_result是自己写的脚本zjy_plot.py里输出策略评价指标的函数\n",
    "ddf=get_data('300002.SZ','20050101')\n",
    "data = Addmoredata(dataname = ddf)\n",
    "df00,df0,df1,df2,df3,df4=bt.out_result(MyStrategy,data,startcash = 100000,commission=0.001)"
   ]
  },
  {
   "cell_type": "code",
   "execution_count": null,
   "metadata": {
    "ExecuteTime": {
     "start_time": "2020-07-22T08:18:39.169Z"
    }
   },
   "outputs": [],
   "source": [
    "def kline_plot(df,name):\n",
    "    #画K线图数据\n",
    "    date = df.index.strftime('%Y%m%d').tolist()\n",
    "    k_value = df[['open','close', 'low','high']].values\n",
    "    #引入pyecharts画图使用的是0.5.11版本，新版命令需要重写\n",
    "    kline = Kline(name+'行情走势')\n",
    "    kline.add('日K线图', date, k_value,\n",
    "              is_datazoom_show=True,is_splitline_show=False)\n",
    "    #成交量\n",
    "    bar = Bar()\n",
    "    bar.add('成交量', date, df['volume'],tooltip_tragger='axis', \n",
    "                is_legend_show=False, is_yaxis_show=False, \n",
    "                yaxis_max=5*max(df['volume']))\n",
    "    overlap = Overlap()\n",
    "    overlap.add(kline)\n",
    "    overlap.add(bar,yaxis_index=1, is_add_yaxis=True)\n",
    "    return overlap    "
   ]
  },
  {
   "cell_type": "code",
   "execution_count": null,
   "metadata": {
    "ExecuteTime": {
     "start_time": "2020-07-22T08:18:42.794Z"
    }
   },
   "outputs": [],
   "source": [
    "kline_plot(ddf,'神州泰岳')"
   ]
  },
  {
   "cell_type": "markdown",
   "metadata": {},
   "source": [
    "## 评价指标表格"
   ]
  },
  {
   "cell_type": "code",
   "execution_count": null,
   "metadata": {
    "ExecuteTime": {
     "start_time": "2020-07-22T08:20:27.654Z"
    }
   },
   "outputs": [],
   "source": [
    "df00"
   ]
  },
  {
   "cell_type": "markdown",
   "metadata": {},
   "source": [
    "## 账户价值、持仓市值和收益率"
   ]
  },
  {
   "cell_type": "code",
   "execution_count": null,
   "metadata": {
    "ExecuteTime": {
     "end_time": "2020-05-08T06:18:14.587269Z",
     "start_time": "2020-05-08T06:18:14.575246Z"
    }
   },
   "outputs": [],
   "source": [
    "from pyecharts import*\n",
    "def plot_result_py(data,v,title,plot_type='line',zoom=False):\n",
    "    att=data.index\n",
    "    try:\n",
    "        attr=att.strftime('%Y%m%d')\n",
    "    except:\n",
    "        attr=att\n",
    "    if plot_type=='line':\n",
    "        p=Line(title)\n",
    "        p.add('',attr,list(data[v].round(2)),\n",
    "         is_symbol_show=False,line_width=2,\n",
    "        is_datazoom_show=zoom,is_splitline_show=True)\n",
    "    else:\n",
    "        p=Bar(title)\n",
    "        p.add('',attr,[int(i*1000)/10 for i in list(data[v])],\n",
    "              is_label_show=True,\n",
    "        is_datazoom_show=zoom,is_splitline_show=True)\n",
    "    return p"
   ]
  },
  {
   "cell_type": "code",
   "execution_count": null,
   "metadata": {
    "ExecuteTime": {
     "end_time": "2020-05-08T06:18:15.129803Z",
     "start_time": "2020-05-08T06:18:15.041999Z"
    }
   },
   "outputs": [],
   "source": [
    "plot_result_py(df0,'total_value','账户价值')"
   ]
  },
  {
   "cell_type": "code",
   "execution_count": null,
   "metadata": {
    "ExecuteTime": {
     "end_time": "2020-05-08T06:18:15.888736Z",
     "start_time": "2020-05-08T06:18:15.805958Z"
    }
   },
   "outputs": [],
   "source": [
    "plot_result_py(df4,'total_position_value','持仓市值')"
   ]
  },
  {
   "cell_type": "code",
   "execution_count": null,
   "metadata": {
    "ExecuteTime": {
     "end_time": "2020-05-08T06:18:16.308612Z",
     "start_time": "2020-05-08T06:18:16.292664Z"
    }
   },
   "outputs": [],
   "source": [
    "plot_result_py(df3,'year_rate','年化收益%',plot_type='bar')"
   ]
  }
 ],
 "metadata": {
  "hide_input": false,
  "kernelspec": {
   "display_name": "Python 3",
   "language": "python",
   "name": "python3"
  },
  "language_info": {
   "codemirror_mode": {
    "name": "ipython",
    "version": 3
   },
   "file_extension": ".py",
   "mimetype": "text/x-python",
   "name": "python",
   "nbconvert_exporter": "python",
   "pygments_lexer": "ipython3",
   "version": "3.7.7"
  },
  "toc": {
   "base_numbering": 1,
   "nav_menu": {},
   "number_sections": true,
   "sideBar": true,
   "skip_h1_title": false,
   "title_cell": "Table of Contents",
   "title_sidebar": "Contents",
   "toc_cell": false,
   "toc_position": {},
   "toc_section_display": true,
   "toc_window_display": false
  }
 },
 "nbformat": 4,
 "nbformat_minor": 4
}
