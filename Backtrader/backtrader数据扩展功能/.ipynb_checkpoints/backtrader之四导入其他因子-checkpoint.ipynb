{
 "cells": [
  {
   "cell_type": "code",
   "execution_count": null,
   "metadata": {
    "ExecuteTime": {
     "end_time": "2020-05-08T03:43:41.820489Z",
     "start_time": "2020-05-08T03:43:37.260612Z"
    }
   },
   "outputs": [],
   "source": [
    "#先引入后面可能用到的包（package）\n",
    "import pandas as pd  \n",
    "from datetime import datetime\n",
    "import backtrader as bt\n",
    "import matplotlib.pyplot as plt\n",
    "%matplotlib inline   \n",
    "\n",
    "#正常显示画图时出现的中文和负号\n",
    "from pylab import mpl\n",
    "mpl.rcParams['font.sans-serif']=['SimHei']\n",
    "mpl.rcParams['axes.unicode_minus']=False"
   ]
  },
  {
   "cell_type": "markdown",
   "metadata": {},
   "source": [
    "# 数据准备"
   ]
  },
  {
   "cell_type": "code",
   "execution_count": null,
   "metadata": {
    "ExecuteTime": {
     "end_time": "2020-05-08T03:43:43.788359Z",
     "start_time": "2020-05-08T03:43:43.210259Z"
    }
   },
   "outputs": [],
   "source": [
    "import tushare as ts\n",
    "token='e0eeb08befd1f07516df2cbf9cbd58663f77fd72f92a04f290291c9d'\n",
    "pro=ts.pro_api(token)"
   ]
  },
  {
   "cell_type": "code",
   "execution_count": null,
   "metadata": {
    "ExecuteTime": {
     "end_time": "2020-05-08T03:43:43.803316Z",
     "start_time": "2020-05-08T03:43:43.791345Z"
    }
   },
   "outputs": [],
   "source": [
    "import tushare as ts\n",
    "def get_data(code,date='20200101'):\n",
    "    data1=ts.pro_bar(ts_code=code, adj='qfq', start_date=date)\n",
    "    data1=data1[['trade_date','open','high','low','close','vol']]\n",
    "    data2=pro.daily_basic(ts_code=code,fields='trade_date,turnover_rate,pe,pb')\n",
    "    data=pd.merge(data1,data2,on='trade_date')\n",
    "    data.index=pd.to_datetime(data.trade_date)\n",
    "    data=data.sort_index()\n",
    "    data['volume']=data.vol\n",
    "    data['openinterest']=0\n",
    "    data['datetime']=pd.to_datetime(data.trade_date)\n",
    "    data=data[['datetime','open','high','low','close',\\\n",
    "               'volume','openinterest','turnover_rate','pe','pb']]\n",
    "    data=data.fillna(0)\n",
    "    return data"
   ]
  },
  {
   "cell_type": "code",
   "execution_count": null,
   "metadata": {
    "ExecuteTime": {
     "end_time": "2020-05-08T06:48:55.636588Z",
     "start_time": "2020-05-08T06:48:52.940754Z"
    }
   },
   "outputs": [],
   "source": [
    "#数据保存到本地\n",
    "get_data('300002.SZ').to_csv('test.csv',index=False)\n",
    "get_data('300002.SZ').head()"
   ]
  },
  {
   "cell_type": "markdown",
   "metadata": {},
   "source": [
    "# 扩展feeds中的数据加载"
   ]
  },
  {
   "cell_type": "code",
   "execution_count": null,
   "metadata": {
    "ExecuteTime": {
     "end_time": "2020-05-08T03:43:44.475751Z",
     "start_time": "2020-05-08T03:43:44.467770Z"
    }
   },
   "outputs": [],
   "source": [
    "#pandas的数据格式\n",
    "import backtrader as bt\n",
    "from backtrader.feeds import PandasData\n",
    "class Addmoredata(PandasData):\n",
    "    lines = ('turnover_rate','pe','pb',)\n",
    "    params = (('turnover_rate',7),('pe',8),('pb',9),)"
   ]
  },
  {
   "cell_type": "code",
   "execution_count": null,
   "metadata": {
    "ExecuteTime": {
     "end_time": "2020-05-08T06:35:09.369750Z",
     "start_time": "2020-05-08T06:35:09.361813Z"
    }
   },
   "outputs": [],
   "source": [
    "#直接读取本地csv格式数据\n",
    "from backtrader.feeds import GenericCSVData\n",
    "class AddCsvData(GenericCSVData):\n",
    "    lines = ('turnover_rate','pe','pb',)\n",
    "    params = (('turnover_rate',7),('pe',8),('pb',9),)"
   ]
  },
  {
   "cell_type": "markdown",
   "metadata": {},
   "source": [
    "## 添加其他数据——单只股票"
   ]
  },
  {
   "cell_type": "code",
   "execution_count": null,
   "metadata": {
    "ExecuteTime": {
     "end_time": "2020-05-08T06:38:12.374153Z",
     "start_time": "2020-05-08T06:38:12.368172Z"
    }
   },
   "outputs": [],
   "source": [
    "class TestStrategy1(bt.Strategy):\n",
    "    def log(self, txt, dt=None):\n",
    "        dt = dt or self.datas[0].datetime.date(0)\n",
    "        print('%s, %s' % (dt.isoformat(), txt))\n",
    "        \n",
    "    def next(self):\n",
    "        self.log(f\"换手率:{self.datas[0].turnover_rate[0]},市净率:{self.datas[0].pb[0]},市盈率:{self.datas[0].pe[0]}\")"
   ]
  },
  {
   "cell_type": "code",
   "execution_count": null,
   "metadata": {
    "ExecuteTime": {
     "end_time": "2020-05-08T06:42:49.399255Z",
     "start_time": "2020-05-08T06:42:48.818805Z"
    }
   },
   "outputs": [],
   "source": [
    "cerebro = bt.Cerebro()\n",
    "cerebro.addstrategy(TestStrategy1)\n",
    "feed = Addmoredata(dataname = get_data('300002.SZ','20200420'))\n",
    "#如果是读取csv数据使用下式\n",
    "#feed = AddCsvData(dataname = 'test.csv',dtformat=('%Y-%m-%d'))\n",
    "cerebro.adddata(feed)\n",
    "cerebro.run()"
   ]
  },
  {
   "cell_type": "markdown",
   "metadata": {},
   "source": [
    "## 添加其他数据——多只股票"
   ]
  },
  {
   "cell_type": "code",
   "execution_count": null,
   "metadata": {
    "ExecuteTime": {
     "end_time": "2020-05-08T03:43:48.257197Z",
     "start_time": "2020-05-08T03:43:48.247223Z"
    }
   },
   "outputs": [],
   "source": [
    "class TestStrategy2(bt.Strategy):\n",
    "    def log(self, txt, dt=None):\n",
    "        dt = dt or self.datas[0].datetime.date(0)\n",
    "        print('%s, %s' % (dt.isoformat(), txt))\n",
    "        \n",
    "    def next(self):\n",
    "        for data in self.datas:     #这里面的datas是所有的data的集合\n",
    "            print(data._name)\n",
    "            self.log(f\"换手率:{data.turnover_rate[0]},市净率:{data.pb[0]},市盈率:{data.pe[0]}\")"
   ]
  },
  {
   "cell_type": "code",
   "execution_count": null,
   "metadata": {
    "ExecuteTime": {
     "end_time": "2020-05-08T03:43:50.728620Z",
     "start_time": "2020-05-08T03:43:49.049556Z"
    }
   },
   "outputs": [],
   "source": [
    "cerebro = bt.Cerebro()\n",
    "cerebro.addstrategy(TestStrategy2)\n",
    "codes=['600862.SH','300326.SZ','300394.SZ']\n",
    "#加载最近两日交易数据\n",
    "for code in codes:\n",
    "    feed = Addmoredata(dataname = get_data(code,'20200506'),name=code)\n",
    "    cerebro.adddata(feed)\n",
    "cerebro.run()"
   ]
  },
  {
   "cell_type": "markdown",
   "metadata": {},
   "source": [
    "# 以换手率和市盈率构建交易策略示例"
   ]
  },
  {
   "cell_type": "code",
   "execution_count": null,
   "metadata": {
    "ExecuteTime": {
     "end_time": "2020-05-08T03:43:51.305902Z",
     "start_time": "2020-05-08T03:43:51.296924Z"
    }
   },
   "outputs": [],
   "source": [
    "class MyStrategy(bt.Strategy):\n",
    "\n",
    "    def next(self):\n",
    "        if not self.position: # 没有持仓\n",
    "            if self.datas[0].turnover_rate[0]<3 and 0<self.datas[0].pe[0]<50:\n",
    "                # 得到当前的账户价值\n",
    "                total_value = self.broker.getvalue()\n",
    "                #1手=100股，满仓买入\n",
    "                ss=int((total_value/100)/self.datas[0].close[0])*100\n",
    "                self.order=self.buy(size=ss)\n",
    "        else:\n",
    "            if self.datas[0].turnover_rate[0]>10 or self.datas[0].pe[0]>80 :\n",
    "                self.close(self.datas[0])"
   ]
  },
  {
   "cell_type": "code",
   "execution_count": null,
   "metadata": {
    "ExecuteTime": {
     "end_time": "2020-05-08T03:43:54.119103Z",
     "start_time": "2020-05-08T03:43:52.670891Z"
    }
   },
   "outputs": [],
   "source": [
    "cerebro = bt.Cerebro()  \n",
    "cerebro.addstrategy(MyStrategy)\n",
    "feed = Addmoredata(dataname = get_data('300002.SZ','20050101'))\n",
    "cerebro.adddata(feed)\n",
    "startcash = 100000\n",
    "cerebro.broker.setcash(startcash) \n",
    "cerebro.broker.setcommission(commission=0.001) \n",
    "cerebro.run()\n",
    "portvalue = cerebro.broker.getvalue()\n",
    "pnl = portvalue - startcash\n",
    "#打印结果\n",
    "print(f'期初总资金: {round(startcash,2)}')\n",
    "print(f'期末总资金: {round(portvalue,2)}')\n",
    "print(f'净收益: {round(pnl,2)}')"
   ]
  },
  {
   "cell_type": "code",
   "execution_count": null,
   "metadata": {
    "ExecuteTime": {
     "end_time": "2020-05-08T03:43:54.662650Z",
     "start_time": "2020-05-08T03:43:54.122096Z"
    }
   },
   "outputs": [],
   "source": [
    "%matplotlib inline \n",
    "cerebro.plot(style='candlestick')"
   ]
  },
  {
   "cell_type": "code",
   "execution_count": null,
   "metadata": {
    "ExecuteTime": {
     "end_time": "2020-05-08T03:44:29.012253Z",
     "start_time": "2020-05-08T03:44:26.306646Z"
    }
   },
   "outputs": [],
   "source": [
    "data = Addmoredata(dataname = get_data('300002.SZ','20050101'))\n",
    "#注意plot_result是自己写的扩展脚本加入backtrader安装文件里了\n",
    "#下面直接导入使用\n",
    "bt.plot_result(MyStrategy,data,startcash = 100000,commission=0.001)"
   ]
  },
  {
   "cell_type": "markdown",
   "metadata": {},
   "source": [
    "将zjy_plot.py放在backtrader的安装文件夹下（我的路径是：Anaconda3\\lib\\site-packages\\backtrader）,然后使用notepad+（网上下载用于查看py等文件）打开__init__.py文件，在最后加上一句：from .zjy_plot import * 。重新启动即可导入使用。"
   ]
  },
  {
   "cell_type": "markdown",
   "metadata": {},
   "source": [
    "# 使用pyecharts0.5.11版本对策略指标可视化"
   ]
  },
  {
   "cell_type": "code",
   "execution_count": null,
   "metadata": {
    "ExecuteTime": {
     "end_time": "2020-05-08T05:04:21.074274Z",
     "start_time": "2020-05-08T05:04:18.048945Z"
    }
   },
   "outputs": [],
   "source": [
    "#addmoredata是在PandasData上的扩展\n",
    "#out_result是自己写的脚本zjy_plot.py里输出策略评价指标的函数\n",
    "ddf=get_data('300002.SZ','20050101')\n",
    "data = Addmoredata(dataname = ddf)\n",
    "df00,df0,df1,df2,df3,df4=bt.out_result(MyStrategy,data,startcash = 100000,commission=0.001)"
   ]
  },
  {
   "cell_type": "code",
   "execution_count": null,
   "metadata": {
    "ExecuteTime": {
     "end_time": "2020-05-08T05:01:09.120591Z",
     "start_time": "2020-05-08T05:01:09.108618Z"
    }
   },
   "outputs": [],
   "source": [
    "def kline_plot(df,name):\n",
    "    #画K线图数据\n",
    "    date = df.index.strftime('%Y%m%d').tolist()\n",
    "    k_value = df[['open','close', 'low','high']].values\n",
    "    #引入pyecharts画图使用的是0.5.11版本，新版命令需要重写\n",
    "    kline = Kline(name+'行情走势')\n",
    "    kline.add('日K线图', date, k_value,\n",
    "              is_datazoom_show=True,is_splitline_show=False)\n",
    "    #成交量\n",
    "    bar = Bar()\n",
    "    bar.add('成交量', date, df['volume'],tooltip_tragger='axis', \n",
    "                is_legend_show=False, is_yaxis_show=False, \n",
    "                yaxis_max=5*max(df['volume']))\n",
    "    overlap = Overlap()\n",
    "    overlap.add(kline)\n",
    "    overlap.add(bar,yaxis_index=1, is_add_yaxis=True)\n",
    "    return overlap    "
   ]
  },
  {
   "cell_type": "code",
   "execution_count": null,
   "metadata": {
    "ExecuteTime": {
     "end_time": "2020-05-08T05:04:25.904158Z",
     "start_time": "2020-05-08T05:04:25.787458Z"
    }
   },
   "outputs": [],
   "source": [
    "kline_plot(ddf,'神州泰岳')"
   ]
  },
  {
   "cell_type": "markdown",
   "metadata": {},
   "source": [
    "## 评价指标表格"
   ]
  },
  {
   "cell_type": "code",
   "execution_count": null,
   "metadata": {
    "ExecuteTime": {
     "end_time": "2020-05-08T04:16:20.371025Z",
     "start_time": "2020-05-08T04:16:20.350116Z"
    }
   },
   "outputs": [],
   "source": [
    "df00"
   ]
  },
  {
   "cell_type": "markdown",
   "metadata": {},
   "source": [
    "## 账户价值、持仓市值和收益率"
   ]
  },
  {
   "cell_type": "code",
   "execution_count": null,
   "metadata": {
    "ExecuteTime": {
     "end_time": "2020-05-08T06:18:14.587269Z",
     "start_time": "2020-05-08T06:18:14.575246Z"
    }
   },
   "outputs": [],
   "source": [
    "from pyecharts import*\n",
    "def plot_result_py(data,v,title,plot_type='line',zoom=False):\n",
    "    att=data.index\n",
    "    try:\n",
    "        attr=att.strftime('%Y%m%d')\n",
    "    except:\n",
    "        attr=att\n",
    "    if plot_type=='line':\n",
    "        p=Line(title)\n",
    "        p.add('',attr,list(data[v].round(2)),\n",
    "         is_symbol_show=False,line_width=2,\n",
    "        is_datazoom_show=zoom,is_splitline_show=True)\n",
    "    else:\n",
    "        p=Bar(title)\n",
    "        p.add('',attr,[int(i*1000)/10 for i in list(data[v])],\n",
    "              is_label_show=True,\n",
    "        is_datazoom_show=zoom,is_splitline_show=True)\n",
    "    return p"
   ]
  },
  {
   "cell_type": "code",
   "execution_count": null,
   "metadata": {
    "ExecuteTime": {
     "end_time": "2020-05-08T06:18:15.129803Z",
     "start_time": "2020-05-08T06:18:15.041999Z"
    }
   },
   "outputs": [],
   "source": [
    "plot_result_py(df0,'total_value','账户价值')"
   ]
  },
  {
   "cell_type": "code",
   "execution_count": null,
   "metadata": {
    "ExecuteTime": {
     "end_time": "2020-05-08T06:18:15.888736Z",
     "start_time": "2020-05-08T06:18:15.805958Z"
    }
   },
   "outputs": [],
   "source": [
    "plot_result_py(df4,'total_position_value','持仓市值')"
   ]
  },
  {
   "cell_type": "code",
   "execution_count": null,
   "metadata": {
    "ExecuteTime": {
     "end_time": "2020-05-08T06:18:16.308612Z",
     "start_time": "2020-05-08T06:18:16.292664Z"
    }
   },
   "outputs": [],
   "source": [
    "plot_result_py(df3,'year_rate','年化收益%',plot_type='bar')"
   ]
  }
 ],
 "metadata": {
  "hide_input": false,
  "kernelspec": {
   "display_name": "Python 3",
   "language": "python",
   "name": "python3"
  },
  "language_info": {
   "codemirror_mode": {
    "name": "ipython",
    "version": 3
   },
   "file_extension": ".py",
   "mimetype": "text/x-python",
   "name": "python",
   "nbconvert_exporter": "python",
   "pygments_lexer": "ipython3",
   "version": "3.7.7"
  },
  "toc": {
   "base_numbering": 1,
   "nav_menu": {},
   "number_sections": true,
   "sideBar": true,
   "skip_h1_title": false,
   "title_cell": "Table of Contents",
   "title_sidebar": "Contents",
   "toc_cell": false,
   "toc_position": {},
   "toc_section_display": true,
   "toc_window_display": false
  }
 },
 "nbformat": 4,
 "nbformat_minor": 4
}
