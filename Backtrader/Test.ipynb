{
 "cells": [
  {
   "cell_type": "markdown",
   "metadata": {},
   "source": [
    "### 引用相应的包"
   ]
  },
  {
   "cell_type": "code",
   "execution_count": 1,
   "metadata": {
    "ExecuteTime": {
     "end_time": "2020-07-20T07:44:23.265788Z",
     "start_time": "2020-07-20T07:44:22.663329Z"
    },
    "execution": {
     "iopub.execute_input": "2020-07-06T05:16:02.831771Z",
     "iopub.status.busy": "2020-07-06T05:16:02.831771Z",
     "iopub.status.idle": "2020-07-06T05:16:04.170131Z",
     "shell.execute_reply": "2020-07-06T05:16:04.170131Z",
     "shell.execute_reply.started": "2020-07-06T05:16:02.831771Z"
    }
   },
   "outputs": [],
   "source": [
    "import pandas as pd  \n",
    "import numpy as np\n",
    "import datetime\n",
    "import backtrader as bt\n",
    "import matplotlib.pyplot as plt\n",
    "%matplotlib inline   "
   ]
  },
  {
   "cell_type": "code",
   "execution_count": null,
   "metadata": {
    "ExecuteTime": {
     "end_time": "2020-07-20T07:36:45.449492Z",
     "start_time": "2020-07-20T07:36:45.444999Z"
    },
    "execution": {
     "iopub.execute_input": "2020-07-06T05:16:02.831771Z",
     "iopub.status.busy": "2020-07-06T05:16:02.831771Z",
     "iopub.status.idle": "2020-07-06T05:16:04.170131Z",
     "shell.execute_reply": "2020-07-06T05:16:04.170131Z",
     "shell.execute_reply.started": "2020-07-06T05:16:02.831771Z"
    }
   },
   "outputs": [],
   "source": [
    "#正常显示画图时出现的中文和负号\n",
    "from pylab import mpl    \n",
    "mpl.rcParams['figure.figsize'] = 13, 8\n",
    "mpl.rcParams['font.sans-serif']=['SimHei']\n",
    "mpl.rcParams['axes.unicode_minus']=False"
   ]
  },
  {
   "cell_type": "markdown",
   "metadata": {},
   "source": [
    "### 数据准备（Data）"
   ]
  },
  {
   "cell_type": "code",
   "execution_count": null,
   "metadata": {},
   "outputs": [],
   "source": []
  },
  {
   "cell_type": "code",
   "execution_count": 2,
   "metadata": {
    "ExecuteTime": {
     "end_time": "2020-07-20T07:44:25.231082Z",
     "start_time": "2020-07-20T07:44:25.215095Z"
    },
    "execution": {
     "iopub.execute_input": "2020-07-06T05:16:04.762859Z",
     "iopub.status.busy": "2020-07-06T05:16:04.762859Z",
     "iopub.status.idle": "2020-07-06T05:16:09.427844Z",
     "shell.execute_reply": "2020-07-06T05:16:09.427844Z",
     "shell.execute_reply.started": "2020-07-06T05:16:04.762859Z"
    }
   },
   "outputs": [
    {
     "data": {
      "text/html": [
       "<div>\n",
       "<style scoped>\n",
       "    .dataframe tbody tr th:only-of-type {\n",
       "        vertical-align: middle;\n",
       "    }\n",
       "\n",
       "    .dataframe tbody tr th {\n",
       "        vertical-align: top;\n",
       "    }\n",
       "\n",
       "    .dataframe thead th {\n",
       "        text-align: right;\n",
       "    }\n",
       "</style>\n",
       "<table border=\"1\" class=\"dataframe\">\n",
       "  <thead>\n",
       "    <tr style=\"text-align: right;\">\n",
       "      <th></th>\n",
       "      <th>Date</th>\n",
       "      <th>Open</th>\n",
       "      <th>High</th>\n",
       "      <th>Low</th>\n",
       "      <th>Close</th>\n",
       "      <th>Volume</th>\n",
       "    </tr>\n",
       "    <tr>\n",
       "      <th>Date</th>\n",
       "      <th></th>\n",
       "      <th></th>\n",
       "      <th></th>\n",
       "      <th></th>\n",
       "      <th></th>\n",
       "      <th></th>\n",
       "    </tr>\n",
       "  </thead>\n",
       "  <tbody>\n",
       "    <tr>\n",
       "      <th>2010-01-01</th>\n",
       "      <td>2010.01.01 00:00:00</td>\n",
       "      <td>1.43283</td>\n",
       "      <td>1.43356</td>\n",
       "      <td>1.43181</td>\n",
       "      <td>1.43335</td>\n",
       "      <td>76787.4</td>\n",
       "    </tr>\n",
       "    <tr>\n",
       "      <th>2010-01-03</th>\n",
       "      <td>2010.01.03 00:00:00</td>\n",
       "      <td>1.43295</td>\n",
       "      <td>1.43359</td>\n",
       "      <td>1.42910</td>\n",
       "      <td>1.43141</td>\n",
       "      <td>6331.3</td>\n",
       "    </tr>\n",
       "    <tr>\n",
       "      <th>2010-01-04</th>\n",
       "      <td>2010.01.04 00:00:00</td>\n",
       "      <td>1.43143</td>\n",
       "      <td>1.44556</td>\n",
       "      <td>1.42559</td>\n",
       "      <td>1.44244</td>\n",
       "      <td>80019.4</td>\n",
       "    </tr>\n",
       "    <tr>\n",
       "      <th>2010-01-05</th>\n",
       "      <td>2010.01.05 00:00:00</td>\n",
       "      <td>1.44238</td>\n",
       "      <td>1.44834</td>\n",
       "      <td>1.43445</td>\n",
       "      <td>1.43634</td>\n",
       "      <td>79887.1</td>\n",
       "    </tr>\n",
       "    <tr>\n",
       "      <th>2010-01-06</th>\n",
       "      <td>2010.01.06 00:00:00</td>\n",
       "      <td>1.43638</td>\n",
       "      <td>1.44342</td>\n",
       "      <td>1.42807</td>\n",
       "      <td>1.44005</td>\n",
       "      <td>80971.8</td>\n",
       "    </tr>\n",
       "  </tbody>\n",
       "</table>\n",
       "</div>"
      ],
      "text/plain": [
       "                           Date     Open     High      Low    Close  Volume \n",
       "Date                                                                        \n",
       "2010-01-01  2010.01.01 00:00:00  1.43283  1.43356  1.43181  1.43335  76787.4\n",
       "2010-01-03  2010.01.03 00:00:00  1.43295  1.43359  1.42910  1.43141   6331.3\n",
       "2010-01-04  2010.01.04 00:00:00  1.43143  1.44556  1.42559  1.44244  80019.4\n",
       "2010-01-05  2010.01.05 00:00:00  1.44238  1.44834  1.43445  1.43634  79887.1\n",
       "2010-01-06  2010.01.06 00:00:00  1.43638  1.44342  1.42807  1.44005  80971.8"
      ]
     },
     "execution_count": 2,
     "metadata": {},
     "output_type": "execute_result"
    }
   ],
   "source": [
    "#datapath=r'D:\\Baiducloud\\12M8-202005\\1MIN\\EURUSD_M1.csv'    #windows\n",
    "#datapath=r'D:\\Baiducloud\\12M8-202007\\EURUSD_D1.csv'          #windows\n",
    "#datapath=r'/Users/nilei/Nutstore/Data/EURUSD_M1.csv'         #macos\n",
    "datapath=r'/Users/nilei/Nutstore/Data/EURUSD_D1.csv'         #macos\n",
    "dt=pd.read_csv(datapath)\n",
    "dt.rename(columns={'Time (UTC)':'Date'},inplace=True)\n",
    "dt.index=pd.to_datetime(dt.Date)\n",
    "dt.head()"
   ]
  },
  {
   "cell_type": "code",
   "execution_count": 3,
   "metadata": {
    "ExecuteTime": {
     "end_time": "2020-07-20T07:44:45.432670Z",
     "start_time": "2020-07-20T07:44:45.422469Z"
    },
    "execution": {
     "iopub.execute_input": "2020-07-06T05:16:04.762859Z",
     "iopub.status.busy": "2020-07-06T05:16:04.762859Z",
     "iopub.status.idle": "2020-07-06T05:16:09.427844Z",
     "shell.execute_reply": "2020-07-06T05:16:09.427844Z",
     "shell.execute_reply.started": "2020-07-06T05:16:04.762859Z"
    }
   },
   "outputs": [
    {
     "data": {
      "text/html": [
       "<div>\n",
       "<style scoped>\n",
       "    .dataframe tbody tr th:only-of-type {\n",
       "        vertical-align: middle;\n",
       "    }\n",
       "\n",
       "    .dataframe tbody tr th {\n",
       "        vertical-align: top;\n",
       "    }\n",
       "\n",
       "    .dataframe thead th {\n",
       "        text-align: right;\n",
       "    }\n",
       "</style>\n",
       "<table border=\"1\" class=\"dataframe\">\n",
       "  <thead>\n",
       "    <tr style=\"text-align: right;\">\n",
       "      <th></th>\n",
       "      <th>Open</th>\n",
       "      <th>High</th>\n",
       "      <th>Low</th>\n",
       "      <th>Close</th>\n",
       "      <th>Volume</th>\n",
       "    </tr>\n",
       "    <tr>\n",
       "      <th>Date</th>\n",
       "      <th></th>\n",
       "      <th></th>\n",
       "      <th></th>\n",
       "      <th></th>\n",
       "      <th></th>\n",
       "    </tr>\n",
       "  </thead>\n",
       "  <tbody>\n",
       "    <tr>\n",
       "      <th>2015-01-01</th>\n",
       "      <td>1.21038</td>\n",
       "      <td>1.21073</td>\n",
       "      <td>1.20783</td>\n",
       "      <td>1.20869</td>\n",
       "      <td>5732.39</td>\n",
       "    </tr>\n",
       "    <tr>\n",
       "      <th>2015-01-02</th>\n",
       "      <td>1.20871</td>\n",
       "      <td>1.20890</td>\n",
       "      <td>1.20004</td>\n",
       "      <td>1.20017</td>\n",
       "      <td>119384.46</td>\n",
       "    </tr>\n",
       "    <tr>\n",
       "      <th>2015-01-04</th>\n",
       "      <td>1.19495</td>\n",
       "      <td>1.19537</td>\n",
       "      <td>1.18677</td>\n",
       "      <td>1.19469</td>\n",
       "      <td>13740.64</td>\n",
       "    </tr>\n",
       "    <tr>\n",
       "      <th>2015-01-05</th>\n",
       "      <td>1.19469</td>\n",
       "      <td>1.19762</td>\n",
       "      <td>1.18872</td>\n",
       "      <td>1.19374</td>\n",
       "      <td>159296.56</td>\n",
       "    </tr>\n",
       "    <tr>\n",
       "      <th>2015-01-06</th>\n",
       "      <td>1.19374</td>\n",
       "      <td>1.19687</td>\n",
       "      <td>1.18461</td>\n",
       "      <td>1.18722</td>\n",
       "      <td>177669.80</td>\n",
       "    </tr>\n",
       "  </tbody>\n",
       "</table>\n",
       "</div>"
      ],
      "text/plain": [
       "               Open     High      Low    Close    Volume \n",
       "Date                                                     \n",
       "2015-01-01  1.21038  1.21073  1.20783  1.20869    5732.39\n",
       "2015-01-02  1.20871  1.20890  1.20004  1.20017  119384.46\n",
       "2015-01-04  1.19495  1.19537  1.18677  1.19469   13740.64\n",
       "2015-01-05  1.19469  1.19762  1.18872  1.19374  159296.56\n",
       "2015-01-06  1.19374  1.19687  1.18461  1.18722  177669.80"
      ]
     },
     "execution_count": 3,
     "metadata": {},
     "output_type": "execute_result"
    }
   ],
   "source": [
    "dt.drop(columns='Date',inplace=True)\n",
    "#数据太大，选择合适的时间段进行回测\n",
    "dt_1=dt['2015-1-1':'2019-10-3']\n",
    "dt_1.head()"
   ]
  },
  {
   "cell_type": "code",
   "execution_count": null,
   "metadata": {
    "ExecuteTime": {
     "end_time": "2020-07-20T07:36:46.937712Z",
     "start_time": "2020-07-20T07:36:46.934823Z"
    },
    "execution": {
     "iopub.execute_input": "2020-07-06T05:16:04.762859Z",
     "iopub.status.busy": "2020-07-06T05:16:04.762859Z",
     "iopub.status.idle": "2020-07-06T05:16:09.427844Z",
     "shell.execute_reply": "2020-07-06T05:16:09.427844Z",
     "shell.execute_reply.started": "2020-07-06T05:16:04.762859Z"
    }
   },
   "outputs": [],
   "source": [
    "import datetime as datetime\n",
    "data = bt.feeds.PandasData(dataname=dt_1,                               \n",
    "                            fromdate=datetime.datetime(2015, 10, 1),                               \n",
    "                            todate=datetime.datetime(2019, 10, 1) )           #这里面要尤其注意"
   ]
  },
  {
   "cell_type": "code",
   "execution_count": null,
   "metadata": {
    "ExecuteTime": {
     "end_time": "2020-07-07T05:23:39.842083Z",
     "start_time": "2020-07-07T05:23:39.768217Z"
    },
    "deletable": false,
    "editable": false,
    "execution": {
     "iopub.execute_input": "2020-07-06T05:16:19.248703Z",
     "iopub.status.busy": "2020-07-06T05:16:19.248703Z",
     "iopub.status.idle": "2020-07-06T05:16:19.328024Z",
     "shell.execute_reply": "2020-07-06T05:16:19.327083Z",
     "shell.execute_reply.started": "2020-07-06T05:16:19.248703Z"
    },
    "run_control": {
     "frozen": true
    }
   },
   "outputs": [],
   "source": [
    "#如果是这自己特有的数据结构，可以通过继承进行组合成个性化的类，比如：\n",
    "class Addmoredata(PandasData):\n",
    "    lines = ('turnover_rate','pe','pb',)\n",
    "    params = (('turnover_rate',7),('pe',8),('pb',9),)       #这里面的pe，pb的数字代表的是位置，与下面的策略里面的params有所不同"
   ]
  },
  {
   "cell_type": "code",
   "execution_count": null,
   "metadata": {},
   "outputs": [],
   "source": []
  },
  {
   "cell_type": "markdown",
   "metadata": {},
   "source": [
    "### 策略模块（Strategy） "
   ]
  },
  {
   "cell_type": "code",
   "execution_count": null,
   "metadata": {
    "ExecuteTime": {
     "end_time": "2020-07-07T05:24:55.201541Z",
     "start_time": "2020-07-07T05:24:55.178628Z"
    },
    "deletable": false,
    "editable": false,
    "execution": {
     "iopub.execute_input": "2020-07-06T05:16:28.891098Z",
     "iopub.status.busy": "2020-07-06T05:16:28.891098Z",
     "iopub.status.idle": "2020-07-06T05:16:28.907072Z",
     "shell.execute_reply": "2020-07-06T05:16:28.907072Z",
     "shell.execute_reply.started": "2020-07-06T05:16:28.891098Z"
    },
    "run_control": {
     "frozen": true
    }
   },
   "outputs": [],
   "source": [
    "class TestStrategy(bt.Strategy):\n",
    "    params = (\n",
    "        ('maperiod', 150),\n",
    "    )\n",
    "\n",
    "    def log(self, txt, dt=None):\n",
    "        ''' Logging function fot this strategy'''\n",
    "        dt = dt or self.datas[0].datetime.datetime(0)\n",
    "        #print('%s, %s' % (dt.isoformat(), txt))\n",
    "\n",
    "    def __init__(self):\n",
    "        # Keep a reference to the \"close\" line in the data[0] dataseries\n",
    "        self.dataclose = self.datas[0].close\n",
    "\n",
    "        # To keep track of pending orders and buy price/commission\n",
    "        self.order = None\n",
    "        self.buyprice = None\n",
    "        self.buycomm = None\n",
    "\n",
    "        # Add a MovingAverageSimple indicator\n",
    "        self.sma = bt.indicators.SimpleMovingAverage(\n",
    "            self.datas[0], period=self.params.maperiod)\n",
    "\n",
    "        # Indicators for the plotting show\n",
    "        \"\"\"\"\n",
    "        bt.indicators.ExponentialMovingAverage(self.datas[0], period=25)\n",
    "        bt.indicators.WeightedMovingAverage(self.datas[0], period=25,subplot=True)\n",
    "        bt.indicators.StochasticSlow(self.datas[0])\n",
    "        bt.indicators.MACDHisto(self.datas[0])\n",
    "        rsi = bt.indicators.RSI(self.datas[0])\n",
    "        bt.indicators.SmoothedMovingAverage(rsi, period=10)\n",
    "        bt.indicators.ATR(self.datas[0], plot=False)\n",
    "        \"\"\"\n",
    "\n",
    "    def notify_order(self, order):\n",
    "        if order.status in [order.Submitted, order.Accepted]:\n",
    "            # Buy/Sell order submitted/accepted to/by broker - Nothing to do\n",
    "            return\n",
    "\n",
    "        # Check if an order has been completed\n",
    "        # Attention: broker could reject order if not enough cash\n",
    "        if order.status in [order.Completed]:\n",
    "            if order.isbuy():\n",
    "                self.log(\n",
    "                    'BUY EXECUTED, Price: %.4f, Cost: %.4f, Comm %.4f' %\n",
    "                    (order.executed.price,\n",
    "                     order.executed.value,\n",
    "                     order.executed.comm))\n",
    "\n",
    "                self.buyprice = order.executed.price\n",
    "                self.buycomm = order.executed.comm\n",
    "            else:  # Sell\n",
    "                self.log('SELL EXECUTED, Price: %.4f, Cost: %.4f, Comm %.4f' %\n",
    "                         (order.executed.price,\n",
    "                          order.executed.value,\n",
    "                          order.executed.comm))\n",
    "\n",
    "            self.bar_executed = len(self)\n",
    "\n",
    "        elif order.status in [order.Canceled, order.Margin, order.Rejected]:\n",
    "            self.log('Order Canceled/Margin/Rejected')\n",
    "\n",
    "        # Write down: no pending order\n",
    "        self.order = None\n",
    "\n",
    "    def notify_trade(self, trade):\n",
    "        if not trade.isclosed:\n",
    "            return\n",
    "\n",
    "        self.log('OPERATION PROFIT, GROSS %.4f, NET %.4f' %\n",
    "                 (trade.pnl, trade.pnlcomm))\n",
    "\n",
    "    def next(self):\n",
    "        # Simply log the closing price of the series from the reference\n",
    "        self.log('Close, %.4f' % self.dataclose[0])\n",
    "\n",
    "        # Check if an order is pending ... if yes, we cannot send a 2nd one\n",
    "        if self.order:\n",
    "            return\n",
    "\n",
    "        # Check if we are in the market\n",
    "        if not self.position:\n",
    "\n",
    "            # Not yet ... we MIGHT BUY if ...\n",
    "            if self.dataclose[0] > self.sma[0]:\n",
    "\n",
    "                # BUY, BUY, BUY!!! (with all possible default parameters)\n",
    "                self.log('BUY CREATE, %.4f' % self.dataclose[0])\n",
    "\n",
    "                # Keep track of the created order to avoid a 2nd order\n",
    "                self.order = self.buy()\n",
    "\n",
    "        else:\n",
    "\n",
    "            if self.dataclose[0] < self.sma[0]:\n",
    "                # SELL, SELL, SELL!!! (with all possible default parameters)\n",
    "                self.log('SELL CREATE, %.4f' % self.dataclose[0])\n",
    "\n",
    "                # Keep track of the created order to avoid a 2nd order\n",
    "                self.order = self.sell()"
   ]
  },
  {
   "cell_type": "code",
   "execution_count": null,
   "metadata": {
    "ExecuteTime": {
     "end_time": "2020-07-08T05:55:34.354545Z",
     "start_time": "2020-07-08T05:55:34.348563Z"
    },
    "execution": {
     "iopub.execute_input": "2020-07-05T00:33:40.760798Z",
     "iopub.status.busy": "2020-07-05T00:33:40.760798Z",
     "iopub.status.idle": "2020-07-05T00:33:40.767775Z",
     "shell.execute_reply": "2020-07-05T00:33:40.767775Z",
     "shell.execute_reply.started": "2020-07-05T00:33:40.760798Z"
    }
   },
   "outputs": [],
   "source": [
    "# RSI策略\n",
    "class MyStrategy(bt.Strategy):\n",
    "    params=(('short',30),                   # RSI的下限\n",
    "            ('long',70),)                   # RSI的上限\n",
    "\n",
    "    def __init__(self):\n",
    "        self.rsi = bt.indicators.RSI_SMA(self.data.close, period=21)\n",
    "\n",
    "    def next(self):\n",
    "        if not self.position:\n",
    "            if self.rsi < self.params.short:\n",
    "                self.buy()\n",
    "        \n",
    "        else: \n",
    "            if self.rsi > self.params.long:\n",
    "                self.sell()"
   ]
  },
  {
   "cell_type": "markdown",
   "metadata": {},
   "source": [
    "### 分析数据（Analyzer） "
   ]
  },
  {
   "cell_type": "code",
   "execution_count": null,
   "metadata": {},
   "outputs": [],
   "source": []
  },
  {
   "cell_type": "markdown",
   "metadata": {},
   "source": [
    "### 输出数据（Writter） "
   ]
  },
  {
   "cell_type": "code",
   "execution_count": null,
   "metadata": {
    "ExecuteTime": {
     "end_time": "2020-07-07T05:24:55.216489Z",
     "start_time": "2020-07-07T05:24:55.212504Z"
    },
    "deletable": false,
    "editable": false,
    "run_control": {
     "frozen": true
    }
   },
   "outputs": [],
   "source": [
    "MyWriter=bt.WriterFile(\n",
    ")"
   ]
  },
  {
   "cell_type": "markdown",
   "metadata": {},
   "source": [
    "### 驱动模块（Cerebro） "
   ]
  },
  {
   "cell_type": "code",
   "execution_count": null,
   "metadata": {
    "ExecuteTime": {
     "end_time": "2020-07-08T05:55:34.363557Z",
     "start_time": "2020-07-08T05:55:34.356540Z"
    },
    "execution": {
     "iopub.execute_input": "2020-07-06T05:17:12.112529Z",
     "iopub.status.busy": "2020-07-06T05:17:12.112529Z",
     "iopub.status.idle": "2020-07-06T05:17:13.127749Z",
     "shell.execute_reply": "2020-07-06T05:17:13.126752Z",
     "shell.execute_reply.started": "2020-07-06T05:17:12.112529Z"
    },
    "scrolled": true
   },
   "outputs": [],
   "source": [
    "def runstrat():    \n",
    "    # Create a cerebro entity\n",
    "    cerebro = bt.Cerebro(stdstats=True)\n",
    "\n",
    "    # Add a strategy\n",
    "    strats = cerebro.addstrategy(MyStrategy)\n",
    "\n",
    "    # Add the Data Feed to Cerebro\n",
    "    cerebro.adddata(data)\n",
    "\n",
    "    # Set our desired cash start\n",
    "    cerebro.broker.setcash(100000.0)\n",
    "\n",
    "    # Add a FixedSize sizer according to the stake\n",
    "    cerebro.addsizer(bt.sizers.FixedSize, stake=1000)\n",
    "    \n",
    "    # Add a writerfile\n",
    "    #cerebro.addwriter(bt.WriterFile, out='/Users/nilei/Nutstore/Data/EURUSD_Result.csv',csv=True, rounding=5)\n",
    "    \n",
    "    # Set the commission\n",
    "    cerebro.broker.setcommission(commission=0.0)\n",
    "    \n",
    "    # Print out the starting conditions\n",
    "    print('Starting Portfolio Value: %.4f' % cerebro.broker.getvalue())\n",
    "    \n",
    "    # Run over everything\n",
    "    ret=cerebro.run()\n",
    "       \n",
    "    # Print out the final result\n",
    "    print('Final Portfolio Value: %.4f' % cerebro.broker.getvalue())\n",
    "    \n",
    "    cerebro.plot(volume=False)\n",
    "    "
   ]
  },
  {
   "cell_type": "markdown",
   "metadata": {},
   "source": [
    "### 运行（Run） "
   ]
  },
  {
   "cell_type": "code",
   "execution_count": null,
   "metadata": {
    "ExecuteTime": {
     "end_time": "2020-07-08T05:55:34.732475Z",
     "start_time": "2020-07-08T05:55:34.365518Z"
    },
    "execution": {
     "iopub.execute_input": "2020-07-06T05:17:12.112529Z",
     "iopub.status.busy": "2020-07-06T05:17:12.112529Z",
     "iopub.status.idle": "2020-07-06T05:17:13.127749Z",
     "shell.execute_reply": "2020-07-06T05:17:13.126752Z",
     "shell.execute_reply.started": "2020-07-06T05:17:12.112529Z"
    }
   },
   "outputs": [],
   "source": [
    "if __name__ == '__main__':   #在py文件里面运行需要\n",
    "    runstrat()"
   ]
  },
  {
   "cell_type": "code",
   "execution_count": null,
   "metadata": {},
   "outputs": [],
   "source": []
  }
 ],
 "metadata": {
  "kernelspec": {
   "display_name": "Python 3",
   "language": "python",
   "name": "python3"
  },
  "language_info": {
   "codemirror_mode": {
    "name": "ipython",
    "version": 3
   },
   "file_extension": ".py",
   "mimetype": "text/x-python",
   "name": "python",
   "nbconvert_exporter": "python",
   "pygments_lexer": "ipython3",
   "version": "3.7.7"
  },
  "toc": {
   "base_numbering": 1,
   "nav_menu": {},
   "number_sections": true,
   "sideBar": true,
   "skip_h1_title": false,
   "title_cell": "Table of Contents",
   "title_sidebar": "Contents",
   "toc_cell": false,
   "toc_position": {},
   "toc_section_display": true,
   "toc_window_display": false
  }
 },
 "nbformat": 4,
 "nbformat_minor": 4
}
