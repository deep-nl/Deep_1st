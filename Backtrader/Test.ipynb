{
 "cells": [
  {
   "cell_type": "markdown",
   "metadata": {},
   "source": [
    "### 0.引用相应的包"
   ]
  },
  {
   "cell_type": "code",
   "execution_count": 1,
   "metadata": {
    "ExecuteTime": {
     "end_time": "2020-04-19T05:36:49.069137Z",
     "start_time": "2020-04-19T05:36:42.489409Z"
    },
    "execution": {
     "iopub.execute_input": "2020-07-03T11:32:54.981161Z",
     "iopub.status.busy": "2020-07-03T11:32:54.980159Z",
     "iopub.status.idle": "2020-07-03T11:32:55.688897Z",
     "shell.execute_reply": "2020-07-03T11:32:55.688178Z",
     "shell.execute_reply.started": "2020-07-03T11:32:54.981161Z"
    }
   },
   "outputs": [],
   "source": [
    "import pandas as pd  \n",
    "import numpy as np\n",
    "import datetime\n",
    "import backtrader as bt\n",
    "import matplotlib.pyplot as plt\n",
    "%matplotlib inline   \n",
    "\n",
    "#正常显示画图时出现的中文和负号\n",
    "from pylab import mpl\n",
    "mpl.rcParams['font.sans-serif']=['SimHei']\n",
    "mpl.rcParams['axes.unicode_minus']=False"
   ]
  },
  {
   "cell_type": "markdown",
   "metadata": {},
   "source": [
    "### 1.数据准备（Data）"
   ]
  },
  {
   "cell_type": "code",
   "execution_count": 2,
   "metadata": {
    "execution": {
     "iopub.execute_input": "2020-07-03T11:32:56.876522Z",
     "iopub.status.busy": "2020-07-03T11:32:56.876522Z",
     "iopub.status.idle": "2020-07-03T11:33:00.987521Z",
     "shell.execute_reply": "2020-07-03T11:33:00.987521Z",
     "shell.execute_reply.started": "2020-07-03T11:32:56.876522Z"
    }
   },
   "outputs": [],
   "source": [
    "datapath=r'D:\\Baiducloud\\12M8-202005\\1MIN\\EURUSD_M1.csv'\n",
    "dt=pd.read_csv(datapath)"
   ]
  },
  {
   "cell_type": "code",
   "execution_count": 4,
   "metadata": {
    "execution": {
     "iopub.execute_input": "2020-07-03T11:33:28.822597Z",
     "iopub.status.busy": "2020-07-03T11:33:28.822597Z",
     "iopub.status.idle": "2020-07-03T11:33:32.306340Z",
     "shell.execute_reply": "2020-07-03T11:33:32.306340Z",
     "shell.execute_reply.started": "2020-07-03T11:33:28.822597Z"
    }
   },
   "outputs": [],
   "source": [
    "dt.rename(columns={'Time (UTC)':'Date'},inplace=True)\n",
    "dt.index=pd.to_datetime(dt.Date)"
   ]
  },
  {
   "cell_type": "code",
   "execution_count": 5,
   "metadata": {
    "collapsed": true,
    "execution": {
     "iopub.execute_input": "2020-07-03T11:33:58.072735Z",
     "iopub.status.busy": "2020-07-03T11:33:58.072735Z",
     "iopub.status.idle": "2020-07-03T11:33:58.181477Z",
     "shell.execute_reply": "2020-07-03T11:33:58.181477Z",
     "shell.execute_reply.started": "2020-07-03T11:33:58.072735Z"
    },
    "jupyter": {
     "outputs_hidden": true
    }
   },
   "outputs": [
    {
     "data": {
      "text/html": [
       "<div>\n",
       "<style scoped>\n",
       "    .dataframe tbody tr th:only-of-type {\n",
       "        vertical-align: middle;\n",
       "    }\n",
       "\n",
       "    .dataframe tbody tr th {\n",
       "        vertical-align: top;\n",
       "    }\n",
       "\n",
       "    .dataframe thead th {\n",
       "        text-align: right;\n",
       "    }\n",
       "</style>\n",
       "<table border=\"1\" class=\"dataframe\">\n",
       "  <thead>\n",
       "    <tr style=\"text-align: right;\">\n",
       "      <th></th>\n",
       "      <th>Open</th>\n",
       "      <th>High</th>\n",
       "      <th>Low</th>\n",
       "      <th>Close</th>\n",
       "      <th>Volume</th>\n",
       "    </tr>\n",
       "    <tr>\n",
       "      <th>Date</th>\n",
       "      <th></th>\n",
       "      <th></th>\n",
       "      <th></th>\n",
       "      <th></th>\n",
       "      <th></th>\n",
       "    </tr>\n",
       "  </thead>\n",
       "  <tbody>\n",
       "    <tr>\n",
       "      <th>2010-01-01 00:00:00</th>\n",
       "      <td>1.43283</td>\n",
       "      <td>1.43283</td>\n",
       "      <td>1.43267</td>\n",
       "      <td>1.43267</td>\n",
       "      <td>74.3</td>\n",
       "    </tr>\n",
       "    <tr>\n",
       "      <th>2010-01-01 00:01:00</th>\n",
       "      <td>1.43268</td>\n",
       "      <td>1.43285</td>\n",
       "      <td>1.43268</td>\n",
       "      <td>1.43284</td>\n",
       "      <td>25.4</td>\n",
       "    </tr>\n",
       "    <tr>\n",
       "      <th>2010-01-01 00:02:00</th>\n",
       "      <td>1.43280</td>\n",
       "      <td>1.43280</td>\n",
       "      <td>1.43268</td>\n",
       "      <td>1.43280</td>\n",
       "      <td>30.9</td>\n",
       "    </tr>\n",
       "    <tr>\n",
       "      <th>2010-01-01 00:03:00</th>\n",
       "      <td>1.43280</td>\n",
       "      <td>1.43280</td>\n",
       "      <td>1.43268</td>\n",
       "      <td>1.43273</td>\n",
       "      <td>41.9</td>\n",
       "    </tr>\n",
       "    <tr>\n",
       "      <th>2010-01-01 00:04:00</th>\n",
       "      <td>1.43283</td>\n",
       "      <td>1.43283</td>\n",
       "      <td>1.43277</td>\n",
       "      <td>1.43277</td>\n",
       "      <td>53.8</td>\n",
       "    </tr>\n",
       "    <tr>\n",
       "      <th>...</th>\n",
       "      <td>...</td>\n",
       "      <td>...</td>\n",
       "      <td>...</td>\n",
       "      <td>...</td>\n",
       "      <td>...</td>\n",
       "    </tr>\n",
       "    <tr>\n",
       "      <th>2020-05-01 20:55:00</th>\n",
       "      <td>1.09513</td>\n",
       "      <td>1.09513</td>\n",
       "      <td>1.09513</td>\n",
       "      <td>1.09513</td>\n",
       "      <td>0.0</td>\n",
       "    </tr>\n",
       "    <tr>\n",
       "      <th>2020-05-01 20:56:00</th>\n",
       "      <td>1.09513</td>\n",
       "      <td>1.09513</td>\n",
       "      <td>1.09513</td>\n",
       "      <td>1.09513</td>\n",
       "      <td>0.0</td>\n",
       "    </tr>\n",
       "    <tr>\n",
       "      <th>2020-05-01 20:57:00</th>\n",
       "      <td>1.09513</td>\n",
       "      <td>1.09513</td>\n",
       "      <td>1.09513</td>\n",
       "      <td>1.09513</td>\n",
       "      <td>0.0</td>\n",
       "    </tr>\n",
       "    <tr>\n",
       "      <th>2020-05-01 20:58:00</th>\n",
       "      <td>1.09513</td>\n",
       "      <td>1.09513</td>\n",
       "      <td>1.09513</td>\n",
       "      <td>1.09513</td>\n",
       "      <td>0.0</td>\n",
       "    </tr>\n",
       "    <tr>\n",
       "      <th>2020-05-01 20:59:00</th>\n",
       "      <td>1.09513</td>\n",
       "      <td>1.09513</td>\n",
       "      <td>1.09513</td>\n",
       "      <td>1.09513</td>\n",
       "      <td>0.0</td>\n",
       "    </tr>\n",
       "  </tbody>\n",
       "</table>\n",
       "<p>3866760 rows × 5 columns</p>\n",
       "</div>"
      ],
      "text/plain": [
       "                        Open     High      Low    Close  Volume \n",
       "Date                                                            \n",
       "2010-01-01 00:00:00  1.43283  1.43283  1.43267  1.43267     74.3\n",
       "2010-01-01 00:01:00  1.43268  1.43285  1.43268  1.43284     25.4\n",
       "2010-01-01 00:02:00  1.43280  1.43280  1.43268  1.43280     30.9\n",
       "2010-01-01 00:03:00  1.43280  1.43280  1.43268  1.43273     41.9\n",
       "2010-01-01 00:04:00  1.43283  1.43283  1.43277  1.43277     53.8\n",
       "...                      ...      ...      ...      ...      ...\n",
       "2020-05-01 20:55:00  1.09513  1.09513  1.09513  1.09513      0.0\n",
       "2020-05-01 20:56:00  1.09513  1.09513  1.09513  1.09513      0.0\n",
       "2020-05-01 20:57:00  1.09513  1.09513  1.09513  1.09513      0.0\n",
       "2020-05-01 20:58:00  1.09513  1.09513  1.09513  1.09513      0.0\n",
       "2020-05-01 20:59:00  1.09513  1.09513  1.09513  1.09513      0.0\n",
       "\n",
       "[3866760 rows x 5 columns]"
      ]
     },
     "execution_count": 5,
     "metadata": {},
     "output_type": "execute_result"
    }
   ],
   "source": [
    "dt.drop(columns='Date')"
   ]
  },
  {
   "cell_type": "code",
   "execution_count": 12,
   "metadata": {
    "execution": {
     "iopub.execute_input": "2020-07-03T11:46:07.122770Z",
     "iopub.status.busy": "2020-07-03T11:46:07.122770Z",
     "iopub.status.idle": "2020-07-03T11:46:07.128754Z",
     "shell.execute_reply": "2020-07-03T11:46:07.128029Z",
     "shell.execute_reply.started": "2020-07-03T11:46:07.122770Z"
    }
   },
   "outputs": [],
   "source": [
    "import datetime as datetime\n",
    "data = bt.feeds.PandasData(dataname=dt,                               \n",
    "                            fromdate=datetime.datetime(2019, 10, 1,0,0,0),                               \n",
    "                            todate=datetime.datetime(2020, 4, 30,0,0,0) )           #这里面要尤其注意"
   ]
  },
  {
   "cell_type": "markdown",
   "metadata": {},
   "source": [
    "## 2.策略模块（Strategy） "
   ]
  },
  {
   "cell_type": "code",
   "execution_count": 13,
   "metadata": {
    "execution": {
     "iopub.execute_input": "2020-07-03T11:57:07.029375Z",
     "iopub.status.busy": "2020-07-03T11:57:07.029375Z",
     "iopub.status.idle": "2020-07-03T11:57:07.036320Z",
     "shell.execute_reply": "2020-07-03T11:57:07.036320Z",
     "shell.execute_reply.started": "2020-07-03T11:57:07.029375Z"
    }
   },
   "outputs": [],
   "source": [
    "class MyStrategy(bt.Strategy):\n",
    "    params=(('short',30),                   # RSI的下限\n",
    "            ('long',70),)                   # RSI的上限\n",
    "\n",
    "    def __init__(self):\n",
    "        self.rsi = bt.indicators.RSI_SMA(self.data.close, period=21)\n",
    "\n",
    "    def next(self):\n",
    "        if not self.position:\n",
    "            if self.rsi < self.params.short:\n",
    "                self.buy()\n",
    "        else:\n",
    "            if self.rsi > self.params.long:\n",
    "                self.sell()"
   ]
  },
  {
   "cell_type": "code",
   "execution_count": null,
   "metadata": {},
   "outputs": [],
   "source": []
  },
  {
   "cell_type": "code",
   "execution_count": null,
   "metadata": {},
   "outputs": [],
   "source": [
    "#   if __name__ == '__main__':   #在py文件里面运行需要\n",
    "    \n",
    "    # Create a cerebro entity\n",
    "    cerebro = bt.Cerebro()\n",
    "\n",
    "    # Add a strategy\n",
    "    strats = cerebro.addstrategy(MyStrategy)\n",
    "\n",
    "    # Add the Data Feed to Cerebro\n",
    "    cerebro.adddata(data)\n",
    "\n",
    "    # Set our desired cash start\n",
    "    cerebro.broker.setcash(1000.0)\n",
    "\n",
    "    # Add a FixedSize sizer according to the stake\n",
    "    cerebro.addsizer(bt.sizers.FixedSize, stake=1000)\n",
    "\n",
    "    # Set the commission\n",
    "    cerebro.broker.setcommission(commission=0.0)\n",
    "\n",
    "    # Run over everything\n",
    "    cerebro.run()"
   ]
  }
 ],
 "metadata": {
  "kernelspec": {
   "display_name": "Python 3",
   "language": "python",
   "name": "python3"
  },
  "language_info": {
   "codemirror_mode": {
    "name": "ipython",
    "version": 3
   },
   "file_extension": ".py",
   "mimetype": "text/x-python",
   "name": "python",
   "nbconvert_exporter": "python",
   "pygments_lexer": "ipython3",
   "version": "3.7.7"
  }
 },
 "nbformat": 4,
 "nbformat_minor": 4
}
