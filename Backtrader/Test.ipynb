{
 "cells": [
  {
   "cell_type": "markdown",
   "metadata": {},
   "source": [
    "### 0.引用相应的包"
   ]
  },
  {
   "cell_type": "code",
   "execution_count": 1,
   "metadata": {
    "ExecuteTime": {
     "end_time": "2020-04-19T05:36:49.069137Z",
     "start_time": "2020-04-19T05:36:42.489409Z"
    },
    "execution": {
     "iopub.execute_input": "2020-07-05T00:30:23.456322Z",
     "iopub.status.busy": "2020-07-05T00:30:23.455327Z",
     "iopub.status.idle": "2020-07-05T00:30:24.806372Z",
     "shell.execute_reply": "2020-07-05T00:30:24.806372Z",
     "shell.execute_reply.started": "2020-07-05T00:30:23.456322Z"
    }
   },
   "outputs": [],
   "source": [
    "import pandas as pd  \n",
    "import numpy as np\n",
    "import datetime\n",
    "import backtrader as bt\n",
    "import matplotlib.pyplot as plt\n",
    "%matplotlib inline   \n",
    "\n",
    "#正常显示画图时出现的中文和负号\n",
    "from pylab import mpl\n",
    "mpl.rcParams['font.sans-serif']=['SimHei']\n",
    "mpl.rcParams['axes.unicode_minus']=False"
   ]
  },
  {
   "cell_type": "markdown",
   "metadata": {},
   "source": [
    "### 1.数据准备（Data）"
   ]
  },
  {
   "cell_type": "code",
   "execution_count": 2,
   "metadata": {
    "execution": {
     "iopub.execute_input": "2020-07-05T00:30:27.021455Z",
     "iopub.status.busy": "2020-07-05T00:30:27.020458Z",
     "iopub.status.idle": "2020-07-05T00:30:31.472720Z",
     "shell.execute_reply": "2020-07-05T00:30:31.472720Z",
     "shell.execute_reply.started": "2020-07-05T00:30:27.021455Z"
    }
   },
   "outputs": [],
   "source": [
    "#datapath=r'D:\\Baiducloud\\12M8-202005\\1MIN\\EURUSD_M1.csv'    #windows\n",
    "datapath=r'/Users/nilei/Nutstore/Data/EURUSD_M1.csv'         #macos\n",
    "dt=pd.read_csv(datapath)"
   ]
  },
  {
   "cell_type": "code",
   "execution_count": 3,
   "metadata": {
    "execution": {
     "iopub.execute_input": "2020-07-05T00:30:35.328252Z",
     "iopub.status.busy": "2020-07-05T00:30:35.327256Z",
     "iopub.status.idle": "2020-07-05T00:30:38.828327Z",
     "shell.execute_reply": "2020-07-05T00:30:38.828327Z",
     "shell.execute_reply.started": "2020-07-05T00:30:35.328252Z"
    }
   },
   "outputs": [],
   "source": [
    "dt.rename(columns={'Time (UTC)':'Date'},inplace=True)\n",
    "dt.index=pd.to_datetime(dt.Date)"
   ]
  },
  {
   "cell_type": "code",
   "execution_count": 4,
   "metadata": {
    "execution": {
     "iopub.execute_input": "2020-07-05T00:30:48.931421Z",
     "iopub.status.busy": "2020-07-05T00:30:48.930453Z",
     "iopub.status.idle": "2020-07-05T00:30:49.038209Z",
     "shell.execute_reply": "2020-07-05T00:30:49.037248Z",
     "shell.execute_reply.started": "2020-07-05T00:30:48.931421Z"
    }
   },
   "outputs": [
    {
     "data": {
      "text/html": [
       "<div>\n",
       "<style scoped>\n",
       "    .dataframe tbody tr th:only-of-type {\n",
       "        vertical-align: middle;\n",
       "    }\n",
       "\n",
       "    .dataframe tbody tr th {\n",
       "        vertical-align: top;\n",
       "    }\n",
       "\n",
       "    .dataframe thead th {\n",
       "        text-align: right;\n",
       "    }\n",
       "</style>\n",
       "<table border=\"1\" class=\"dataframe\">\n",
       "  <thead>\n",
       "    <tr style=\"text-align: right;\">\n",
       "      <th></th>\n",
       "      <th>Open</th>\n",
       "      <th>High</th>\n",
       "      <th>Low</th>\n",
       "      <th>Close</th>\n",
       "      <th>Volume</th>\n",
       "    </tr>\n",
       "    <tr>\n",
       "      <th>Date</th>\n",
       "      <th></th>\n",
       "      <th></th>\n",
       "      <th></th>\n",
       "      <th></th>\n",
       "      <th></th>\n",
       "    </tr>\n",
       "  </thead>\n",
       "  <tbody>\n",
       "    <tr>\n",
       "      <th>2010-01-01 00:00:00</th>\n",
       "      <td>1.43283</td>\n",
       "      <td>1.43283</td>\n",
       "      <td>1.43267</td>\n",
       "      <td>1.43267</td>\n",
       "      <td>74.3</td>\n",
       "    </tr>\n",
       "    <tr>\n",
       "      <th>2010-01-01 00:01:00</th>\n",
       "      <td>1.43268</td>\n",
       "      <td>1.43285</td>\n",
       "      <td>1.43268</td>\n",
       "      <td>1.43284</td>\n",
       "      <td>25.4</td>\n",
       "    </tr>\n",
       "    <tr>\n",
       "      <th>2010-01-01 00:02:00</th>\n",
       "      <td>1.43280</td>\n",
       "      <td>1.43280</td>\n",
       "      <td>1.43268</td>\n",
       "      <td>1.43280</td>\n",
       "      <td>30.9</td>\n",
       "    </tr>\n",
       "    <tr>\n",
       "      <th>2010-01-01 00:03:00</th>\n",
       "      <td>1.43280</td>\n",
       "      <td>1.43280</td>\n",
       "      <td>1.43268</td>\n",
       "      <td>1.43273</td>\n",
       "      <td>41.9</td>\n",
       "    </tr>\n",
       "    <tr>\n",
       "      <th>2010-01-01 00:04:00</th>\n",
       "      <td>1.43283</td>\n",
       "      <td>1.43283</td>\n",
       "      <td>1.43277</td>\n",
       "      <td>1.43277</td>\n",
       "      <td>53.8</td>\n",
       "    </tr>\n",
       "    <tr>\n",
       "      <th>...</th>\n",
       "      <td>...</td>\n",
       "      <td>...</td>\n",
       "      <td>...</td>\n",
       "      <td>...</td>\n",
       "      <td>...</td>\n",
       "    </tr>\n",
       "    <tr>\n",
       "      <th>2020-05-01 20:55:00</th>\n",
       "      <td>1.09513</td>\n",
       "      <td>1.09513</td>\n",
       "      <td>1.09513</td>\n",
       "      <td>1.09513</td>\n",
       "      <td>0.0</td>\n",
       "    </tr>\n",
       "    <tr>\n",
       "      <th>2020-05-01 20:56:00</th>\n",
       "      <td>1.09513</td>\n",
       "      <td>1.09513</td>\n",
       "      <td>1.09513</td>\n",
       "      <td>1.09513</td>\n",
       "      <td>0.0</td>\n",
       "    </tr>\n",
       "    <tr>\n",
       "      <th>2020-05-01 20:57:00</th>\n",
       "      <td>1.09513</td>\n",
       "      <td>1.09513</td>\n",
       "      <td>1.09513</td>\n",
       "      <td>1.09513</td>\n",
       "      <td>0.0</td>\n",
       "    </tr>\n",
       "    <tr>\n",
       "      <th>2020-05-01 20:58:00</th>\n",
       "      <td>1.09513</td>\n",
       "      <td>1.09513</td>\n",
       "      <td>1.09513</td>\n",
       "      <td>1.09513</td>\n",
       "      <td>0.0</td>\n",
       "    </tr>\n",
       "    <tr>\n",
       "      <th>2020-05-01 20:59:00</th>\n",
       "      <td>1.09513</td>\n",
       "      <td>1.09513</td>\n",
       "      <td>1.09513</td>\n",
       "      <td>1.09513</td>\n",
       "      <td>0.0</td>\n",
       "    </tr>\n",
       "  </tbody>\n",
       "</table>\n",
       "<p>3866760 rows × 5 columns</p>\n",
       "</div>"
      ],
      "text/plain": [
       "                        Open     High      Low    Close  Volume \n",
       "Date                                                            \n",
       "2010-01-01 00:00:00  1.43283  1.43283  1.43267  1.43267     74.3\n",
       "2010-01-01 00:01:00  1.43268  1.43285  1.43268  1.43284     25.4\n",
       "2010-01-01 00:02:00  1.43280  1.43280  1.43268  1.43280     30.9\n",
       "2010-01-01 00:03:00  1.43280  1.43280  1.43268  1.43273     41.9\n",
       "2010-01-01 00:04:00  1.43283  1.43283  1.43277  1.43277     53.8\n",
       "...                      ...      ...      ...      ...      ...\n",
       "2020-05-01 20:55:00  1.09513  1.09513  1.09513  1.09513      0.0\n",
       "2020-05-01 20:56:00  1.09513  1.09513  1.09513  1.09513      0.0\n",
       "2020-05-01 20:57:00  1.09513  1.09513  1.09513  1.09513      0.0\n",
       "2020-05-01 20:58:00  1.09513  1.09513  1.09513  1.09513      0.0\n",
       "2020-05-01 20:59:00  1.09513  1.09513  1.09513  1.09513      0.0\n",
       "\n",
       "[3866760 rows x 5 columns]"
      ]
     },
     "execution_count": 4,
     "metadata": {},
     "output_type": "execute_result"
    }
   ],
   "source": [
    "dt.drop(columns='Date')"
   ]
  },
  {
   "cell_type": "code",
   "execution_count": 5,
   "metadata": {
    "execution": {
     "iopub.execute_input": "2020-07-05T00:33:17.338889Z",
     "iopub.status.busy": "2020-07-05T00:33:17.338889Z",
     "iopub.status.idle": "2020-07-05T00:33:17.344873Z",
     "shell.execute_reply": "2020-07-05T00:33:17.343877Z",
     "shell.execute_reply.started": "2020-07-05T00:33:17.338889Z"
    }
   },
   "outputs": [],
   "source": [
    "dt_1=dt['2019-10-1':'2019-10-3']"
   ]
  },
  {
   "cell_type": "code",
   "execution_count": 6,
   "metadata": {
    "execution": {
     "iopub.execute_input": "2020-07-05T00:33:28.061423Z",
     "iopub.status.busy": "2020-07-05T00:33:28.061423Z",
     "iopub.status.idle": "2020-07-05T00:33:28.067408Z",
     "shell.execute_reply": "2020-07-05T00:33:28.066769Z",
     "shell.execute_reply.started": "2020-07-05T00:33:28.061423Z"
    }
   },
   "outputs": [],
   "source": [
    "import datetime as datetime\n",
    "data = bt.feeds.PandasData(dataname=dt_1,                               \n",
    "                            fromdate=datetime.datetime(2019, 10, 1,0,0,0),                               \n",
    "                            todate=datetime.datetime(2019, 10, 3,0,0,0) )           #这里面要尤其注意"
   ]
  },
  {
   "cell_type": "code",
   "execution_count": 7,
   "metadata": {
    "collapsed": true,
    "jupyter": {
     "outputs_hidden": true
    }
   },
   "outputs": [
    {
     "ename": "NameError",
     "evalue": "name 'PandasData' is not defined",
     "output_type": "error",
     "traceback": [
      "\u001b[0;31m---------------------------------------------------------------------------\u001b[0m",
      "\u001b[0;31mNameError\u001b[0m                                 Traceback (most recent call last)",
      "\u001b[0;32m<ipython-input-7-619c59a7fec4>\u001b[0m in \u001b[0;36m<module>\u001b[0;34m\u001b[0m\n\u001b[1;32m      1\u001b[0m \u001b[0;31m#如果是这自己特有的数据结构，可以通过继承进行组合成个性化的类，比如：\u001b[0m\u001b[0;34m\u001b[0m\u001b[0;34m\u001b[0m\u001b[0;34m\u001b[0m\u001b[0m\n\u001b[0;32m----> 2\u001b[0;31m \u001b[0;32mclass\u001b[0m \u001b[0mAddmoredata\u001b[0m\u001b[0;34m(\u001b[0m\u001b[0mPandasData\u001b[0m\u001b[0;34m)\u001b[0m\u001b[0;34m:\u001b[0m\u001b[0;34m\u001b[0m\u001b[0;34m\u001b[0m\u001b[0m\n\u001b[0m\u001b[1;32m      3\u001b[0m     \u001b[0mlines\u001b[0m \u001b[0;34m=\u001b[0m \u001b[0;34m(\u001b[0m\u001b[0;34m'turnover_rate'\u001b[0m\u001b[0;34m,\u001b[0m\u001b[0;34m'pe'\u001b[0m\u001b[0;34m,\u001b[0m\u001b[0;34m'pb'\u001b[0m\u001b[0;34m,\u001b[0m\u001b[0;34m)\u001b[0m\u001b[0;34m\u001b[0m\u001b[0;34m\u001b[0m\u001b[0m\n\u001b[1;32m      4\u001b[0m     \u001b[0mparams\u001b[0m \u001b[0;34m=\u001b[0m \u001b[0;34m(\u001b[0m\u001b[0;34m(\u001b[0m\u001b[0;34m'turnover_rate'\u001b[0m\u001b[0;34m,\u001b[0m\u001b[0;36m7\u001b[0m\u001b[0;34m)\u001b[0m\u001b[0;34m,\u001b[0m\u001b[0;34m(\u001b[0m\u001b[0;34m'pe'\u001b[0m\u001b[0;34m,\u001b[0m\u001b[0;36m8\u001b[0m\u001b[0;34m)\u001b[0m\u001b[0;34m,\u001b[0m\u001b[0;34m(\u001b[0m\u001b[0;34m'pb'\u001b[0m\u001b[0;34m,\u001b[0m\u001b[0;36m9\u001b[0m\u001b[0;34m)\u001b[0m\u001b[0;34m,\u001b[0m\u001b[0;34m)\u001b[0m       \u001b[0;31m#这里面的pe，pb的数字代表的是位置，与下面的策略里面的params有所不同\u001b[0m\u001b[0;34m\u001b[0m\u001b[0;34m\u001b[0m\u001b[0m\n",
      "\u001b[0;31mNameError\u001b[0m: name 'PandasData' is not defined"
     ]
    }
   ],
   "source": [
    "#如果是这自己特有的数据结构，可以通过继承进行组合成个性化的类，比如：\n",
    "class Addmoredata(PandasData):\n",
    "    lines = ('turnover_rate','pe','pb',)\n",
    "    params = (('turnover_rate',7),('pe',8),('pb',9),)       #这里面的pe，pb的数字代表的是位置，与下面的策略里面的params有所不同"
   ]
  },
  {
   "cell_type": "code",
   "execution_count": null,
   "metadata": {},
   "outputs": [],
   "source": []
  },
  {
   "cell_type": "markdown",
   "metadata": {},
   "source": [
    "## 2.策略模块（Strategy） "
   ]
  },
  {
   "cell_type": "code",
   "execution_count": 31,
   "metadata": {
    "execution": {
     "iopub.execute_input": "2020-07-05T00:43:28.700888Z",
     "iopub.status.busy": "2020-07-05T00:43:28.700888Z",
     "iopub.status.idle": "2020-07-05T00:43:28.719600Z",
     "shell.execute_reply": "2020-07-05T00:43:28.718877Z",
     "shell.execute_reply.started": "2020-07-05T00:43:28.700888Z"
    }
   },
   "outputs": [],
   "source": [
    "class TestStrategy(bt.Strategy):\n",
    "    params = (\n",
    "        ('maperiod', 150),\n",
    "    )\n",
    "\n",
    "    def log(self, txt, dt=None):\n",
    "        ''' Logging function fot this strategy'''\n",
    "        dt = dt or self.datas[0].datetime.datetime(0)\n",
    "        #print('%s, %s' % (dt.isoformat(), txt))\n",
    "\n",
    "    def __init__(self):\n",
    "        # Keep a reference to the \"close\" line in the data[0] dataseries\n",
    "        self.dataclose = self.datas[0].close\n",
    "\n",
    "        # To keep track of pending orders and buy price/commission\n",
    "        self.order = None\n",
    "        self.buyprice = None\n",
    "        self.buycomm = None\n",
    "\n",
    "        # Add a MovingAverageSimple indicator\n",
    "        self.sma = bt.indicators.SimpleMovingAverage(\n",
    "            self.datas[0], period=self.params.maperiod)\n",
    "\n",
    "        # Indicators for the plotting show\n",
    "        \"\"\"\"\n",
    "        bt.indicators.ExponentialMovingAverage(self.datas[0], period=25)\n",
    "        bt.indicators.WeightedMovingAverage(self.datas[0], period=25,subplot=True)\n",
    "        bt.indicators.StochasticSlow(self.datas[0])\n",
    "        bt.indicators.MACDHisto(self.datas[0])\n",
    "        rsi = bt.indicators.RSI(self.datas[0])\n",
    "        bt.indicators.SmoothedMovingAverage(rsi, period=10)\n",
    "        bt.indicators.ATR(self.datas[0], plot=False)\n",
    "        \"\"\"\n",
    "\n",
    "    def notify_order(self, order):\n",
    "        if order.status in [order.Submitted, order.Accepted]:\n",
    "            # Buy/Sell order submitted/accepted to/by broker - Nothing to do\n",
    "            return\n",
    "\n",
    "        # Check if an order has been completed\n",
    "        # Attention: broker could reject order if not enough cash\n",
    "        if order.status in [order.Completed]:\n",
    "            if order.isbuy():\n",
    "                self.log(\n",
    "                    'BUY EXECUTED, Price: %.4f, Cost: %.4f, Comm %.4f' %\n",
    "                    (order.executed.price,\n",
    "                     order.executed.value,\n",
    "                     order.executed.comm))\n",
    "\n",
    "                self.buyprice = order.executed.price\n",
    "                self.buycomm = order.executed.comm\n",
    "            else:  # Sell\n",
    "                self.log('SELL EXECUTED, Price: %.4f, Cost: %.4f, Comm %.4f' %\n",
    "                         (order.executed.price,\n",
    "                          order.executed.value,\n",
    "                          order.executed.comm))\n",
    "\n",
    "            self.bar_executed = len(self)\n",
    "\n",
    "        elif order.status in [order.Canceled, order.Margin, order.Rejected]:\n",
    "            self.log('Order Canceled/Margin/Rejected')\n",
    "\n",
    "        # Write down: no pending order\n",
    "        self.order = None\n",
    "\n",
    "    def notify_trade(self, trade):\n",
    "        if not trade.isclosed:\n",
    "            return\n",
    "\n",
    "        self.log('OPERATION PROFIT, GROSS %.4f, NET %.4f' %\n",
    "                 (trade.pnl, trade.pnlcomm))\n",
    "\n",
    "    def next(self):\n",
    "        # Simply log the closing price of the series from the reference\n",
    "        self.log('Close, %.4f' % self.dataclose[0])\n",
    "\n",
    "        # Check if an order is pending ... if yes, we cannot send a 2nd one\n",
    "        if self.order:\n",
    "            return\n",
    "\n",
    "        # Check if we are in the market\n",
    "        if not self.position:\n",
    "\n",
    "            # Not yet ... we MIGHT BUY if ...\n",
    "            if self.dataclose[0] > self.sma[0]:\n",
    "\n",
    "                # BUY, BUY, BUY!!! (with all possible default parameters)\n",
    "                self.log('BUY CREATE, %.4f' % self.dataclose[0])\n",
    "\n",
    "                # Keep track of the created order to avoid a 2nd order\n",
    "                self.order = self.buy()\n",
    "\n",
    "        else:\n",
    "\n",
    "            if self.dataclose[0] < self.sma[0]:\n",
    "                # SELL, SELL, SELL!!! (with all possible default parameters)\n",
    "                self.log('SELL CREATE, %.4f' % self.dataclose[0])\n",
    "\n",
    "                # Keep track of the created order to avoid a 2nd order\n",
    "                self.order = self.sell()"
   ]
  },
  {
   "cell_type": "code",
   "execution_count": 10,
   "metadata": {
    "execution": {
     "iopub.execute_input": "2020-07-05T00:33:40.760798Z",
     "iopub.status.busy": "2020-07-05T00:33:40.760798Z",
     "iopub.status.idle": "2020-07-05T00:33:40.767775Z",
     "shell.execute_reply": "2020-07-05T00:33:40.767775Z",
     "shell.execute_reply.started": "2020-07-05T00:33:40.760798Z"
    }
   },
   "outputs": [],
   "source": [
    "# RSI策略\n",
    "class MyStrategy(bt.Strategy):\n",
    "    params=(('short',30),                   # RSI的下限\n",
    "            ('long',70),)                   # RSI的上限\n",
    "\n",
    "    def __init__(self):\n",
    "        self.rsi = bt.indicators.RSI_SMA(self.data.close, period=21)\n",
    "\n",
    "    def next(self):\n",
    "        if not self.position:\n",
    "            if self.rsi < self.params.short:\n",
    "                self.buy()\n",
    "        else:\n",
    "            if self.rsi > self.params.long:\n",
    "                self.sell()"
   ]
  },
  {
   "cell_type": "code",
   "execution_count": null,
   "metadata": {},
   "outputs": [],
   "source": []
  },
  {
   "cell_type": "code",
   "execution_count": null,
   "metadata": {},
   "outputs": [],
   "source": []
  },
  {
   "cell_type": "markdown",
   "metadata": {},
   "source": [
    "## 3.输出数据（Writter） "
   ]
  },
  {
   "cell_type": "code",
   "execution_count": 32,
   "metadata": {},
   "outputs": [],
   "source": [
    "MyWriter=bt.WriterFile(\n",
    ")"
   ]
  },
  {
   "cell_type": "code",
   "execution_count": 36,
   "metadata": {
    "execution": {
     "iopub.execute_input": "2020-07-05T00:43:35.713348Z",
     "iopub.status.busy": "2020-07-05T00:43:35.713348Z",
     "iopub.status.idle": "2020-07-05T00:43:36.816165Z",
     "shell.execute_reply": "2020-07-05T00:43:36.816165Z",
     "shell.execute_reply.started": "2020-07-05T00:43:35.713348Z"
    }
   },
   "outputs": [
    {
     "name": "stdout",
     "output_type": "stream",
     "text": [
      "Starting Portfolio Value: 100000.0000\n",
      "Final Portfolio Value: 100004.2700\n"
     ]
    }
   ],
   "source": [
    "if __name__ == '__main__':   #在py文件里面运行需要\n",
    "    \n",
    "    # Create a cerebro entity\n",
    "    cerebro = bt.Cerebro()\n",
    "\n",
    "    # Add a strategy\n",
    "    strats = cerebro.addstrategy(TestStrategy)\n",
    "\n",
    "    # Add the Data Feed to Cerebro\n",
    "    cerebro.adddata(data)\n",
    "\n",
    "    # Set our desired cash start\n",
    "    cerebro.broker.setcash(100000.0)\n",
    "\n",
    "    # Add a FixedSize sizer according to the stake\n",
    "    cerebro.addsizer(bt.sizers.FixedSize, stake=1000)\n",
    "    \n",
    "    # Add a writerfile\n",
    "    cerebro.addwriter(bt.WriterFile, out='/Users/nilei/Nutstore/Data/EURUSD_Result.csv',csv=True, rounding=5)\n",
    "    \n",
    "    # Set the commission\n",
    "    cerebro.broker.setcommission(commission=0.0)\n",
    "    \n",
    "    # Print out the starting conditions\n",
    "    print('Starting Portfolio Value: %.4f' % cerebro.broker.getvalue())\n",
    "    \n",
    "    # Run over everything\n",
    "    ret=cerebro.run()\n",
    "    ret\n",
    "    ret_1=list(ret)\n",
    "    \n",
    "    # Print out the final result\n",
    "    print('Final Portfolio Value: %.4f' % cerebro.broker.getvalue())"
   ]
  },
  {
   "cell_type": "code",
   "execution_count": null,
   "metadata": {},
   "outputs": [],
   "source": []
  }
 ],
 "metadata": {
  "kernelspec": {
   "display_name": "Python 3",
   "language": "python",
   "name": "python3"
  },
  "language_info": {
   "codemirror_mode": {
    "name": "ipython",
    "version": 3
   },
   "file_extension": ".py",
   "mimetype": "text/x-python",
   "name": "python",
   "nbconvert_exporter": "python",
   "pygments_lexer": "ipython3",
   "version": "3.7.7"
  }
 },
 "nbformat": 4,
 "nbformat_minor": 4
}
