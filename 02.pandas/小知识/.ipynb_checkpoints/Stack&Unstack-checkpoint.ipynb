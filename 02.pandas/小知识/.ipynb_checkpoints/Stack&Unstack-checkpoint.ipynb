{
 "cells": [
  {
   "cell_type": "code",
   "execution_count": 2,
   "metadata": {
    "execution": {
     "iopub.execute_input": "2020-05-06T12:40:41.396918Z",
     "iopub.status.busy": "2020-05-06T12:40:41.395922Z",
     "iopub.status.idle": "2020-05-06T12:40:42.256955Z",
     "shell.execute_reply": "2020-05-06T12:40:42.255958Z",
     "shell.execute_reply.started": "2020-05-06T12:40:41.396918Z"
    }
   },
   "outputs": [
    {
     "name": "stdout",
     "output_type": "stream",
     "text": [
      "         store1  store2  store3  store4\n",
      "street1       0       1       2       3\n",
      "street2       4       5       6       7\n",
      "street3       8       9      10      11\n",
      "-----------------------------------------\n",
      "\n",
      "street1  store1     0\n",
      "         store2     1\n",
      "         store3     2\n",
      "         store4     3\n",
      "street2  store1     4\n",
      "         store2     5\n",
      "         store3     6\n",
      "         store4     7\n",
      "street3  store1     8\n",
      "         store2     9\n",
      "         store3    10\n",
      "         store4    11\n",
      "dtype: int32\n",
      "-----------------------------------------\n",
      "\n",
      "         store1  store2  store3  store4\n",
      "street1       0       1       2       3\n",
      "street2       4       5       6       7\n",
      "street3       8       9      10      11\n"
     ]
    }
   ],
   "source": [
    "import numpy as np\n",
    "import pandas as pd\n",
    "from pandas import Series,DataFrame\n",
    "data=DataFrame(np.arange(12).reshape((3,4)),index=pd.Index(['street1','street2','street3']),\n",
    "               columns=pd.Index(['store1','store2','store3','store4']))\n",
    "print(data)\n",
    "print('-----------------------------------------\\n')\n",
    "data2=data.stack()\n",
    "data3=data2.unstack()\n",
    "print(data2)\n",
    "print('-----------------------------------------\\n')\n",
    "print(data3)"
   ]
  },
  {
   "cell_type": "markdown",
   "metadata": {},
   "source": [
    "使用stack函数，将data的列索引['store1','store2','store3’,'store4']转变成行索引（第二层），便得到了一个层次化的Series（data2）  \n",
    "使用unstack函数，将data2的第二层行索引转变成列索引（默认内层索引，level=-1），便又得到了DataFrame（data3）。"
   ]
  },
  {
   "cell_type": "code",
   "execution_count": 3,
   "metadata": {
    "execution": {
     "iopub.execute_input": "2020-05-06T12:42:59.328526Z",
     "iopub.status.busy": "2020-05-06T12:42:59.326528Z",
     "iopub.status.idle": "2020-05-06T12:42:59.343485Z",
     "shell.execute_reply": "2020-05-06T12:42:59.341490Z",
     "shell.execute_reply.started": "2020-05-06T12:42:59.328526Z"
    }
   },
   "outputs": [
    {
     "name": "stdout",
     "output_type": "stream",
     "text": [
      "        street1  street2  street3\n",
      "store1        0        4        8\n",
      "store2        1        5        9\n",
      "store3        2        6       10\n",
      "store4        3        7       11\n"
     ]
    }
   ],
   "source": [
    "#我们可以清晰看到，当我们取level=0时，即最外层索引时，unstack把行索引['street1','street2','street3’]变为了列索引;\n",
    "data4=data2.unstack(level=0)\n",
    "print(data4)"
   ]
  },
  {
   "cell_type": "code",
   "execution_count": null,
   "metadata": {},
   "outputs": [],
   "source": []
  }
 ],
 "metadata": {
  "kernelspec": {
   "display_name": "Python 3",
   "language": "python",
   "name": "python3"
  },
  "language_info": {
   "codemirror_mode": {
    "name": "ipython",
    "version": 3
   },
   "file_extension": ".py",
   "mimetype": "text/x-python",
   "name": "python",
   "nbconvert_exporter": "python",
   "pygments_lexer": "ipython3",
   "version": "3.7.7"
  }
 },
 "nbformat": 4,
 "nbformat_minor": 4
}
