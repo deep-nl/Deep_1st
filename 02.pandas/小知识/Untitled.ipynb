{
 "cells": [
  {
   "cell_type": "code",
   "execution_count": 1,
   "metadata": {
    "execution": {
     "iopub.execute_input": "2020-05-06T13:44:04.068814Z",
     "iopub.status.busy": "2020-05-06T13:44:04.068814Z",
     "iopub.status.idle": "2020-05-06T13:44:04.435613Z",
     "shell.execute_reply": "2020-05-06T13:44:04.435613Z",
     "shell.execute_reply.started": "2020-05-06T13:44:04.068814Z"
    }
   },
   "outputs": [],
   "source": [
    "import numpy as np\n",
    "import pandas as pd\n",
    "from pandas import Series,DataFrame"
   ]
  },
  {
   "cell_type": "markdown",
   "metadata": {},
   "source": [
    "1.跳过第一、二行；\n",
    "2.跳过第一、二列；"
   ]
  },
  {
   "cell_type": "code",
   "execution_count": 5,
   "metadata": {
    "execution": {
     "iopub.execute_input": "2020-05-06T13:48:01.181300Z",
     "iopub.status.busy": "2020-05-06T13:48:01.180303Z",
     "iopub.status.idle": "2020-05-06T13:48:01.217717Z",
     "shell.execute_reply": "2020-05-06T13:48:01.216720Z",
     "shell.execute_reply.started": "2020-05-06T13:48:01.181300Z"
    }
   },
   "outputs": [],
   "source": [
    "data=pd.read_excel('D://倪磊统计表0501.xls',sheet_name='日新月异一号-原油',skiprows=[0,1])"
   ]
  },
  {
   "cell_type": "code",
   "execution_count": 6,
   "metadata": {
    "execution": {
     "iopub.execute_input": "2020-05-06T13:48:07.105626Z",
     "iopub.status.busy": "2020-05-06T13:48:07.105626Z",
     "iopub.status.idle": "2020-05-06T13:48:07.123542Z",
     "shell.execute_reply": "2020-05-06T13:48:07.123266Z",
     "shell.execute_reply.started": "2020-05-06T13:48:07.105626Z"
    }
   },
   "outputs": [
    {
     "data": {
      "text/html": [
       "<div>\n",
       "<style scoped>\n",
       "    .dataframe tbody tr th:only-of-type {\n",
       "        vertical-align: middle;\n",
       "    }\n",
       "\n",
       "    .dataframe tbody tr th {\n",
       "        vertical-align: top;\n",
       "    }\n",
       "\n",
       "    .dataframe thead th {\n",
       "        text-align: right;\n",
       "    }\n",
       "</style>\n",
       "<table border=\"1\" class=\"dataframe\">\n",
       "  <thead>\n",
       "    <tr style=\"text-align: right;\">\n",
       "      <th></th>\n",
       "      <th>Unnamed: 0</th>\n",
       "      <th>开仓时间</th>\n",
       "      <th>Unnamed: 2</th>\n",
       "      <th>方向</th>\n",
       "      <th>仓位（手）</th>\n",
       "      <th>品种</th>\n",
       "      <th>开仓价格</th>\n",
       "      <th>平仓时间</th>\n",
       "      <th>平仓价格</th>\n",
       "      <th>手续费</th>\n",
       "      <th>库存费</th>\n",
       "      <th>利润</th>\n",
       "      <th>盈亏点数</th>\n",
       "      <th>净利润</th>\n",
       "      <th>Unnamed: 14</th>\n",
       "    </tr>\n",
       "  </thead>\n",
       "  <tbody>\n",
       "    <tr>\n",
       "      <th>0</th>\n",
       "      <td>1.0</td>\n",
       "      <td>2020-03-31 08:02:26</td>\n",
       "      <td>2020-03-31 08:02:26</td>\n",
       "      <td>多</td>\n",
       "      <td>0.22</td>\n",
       "      <td>xtiusd</td>\n",
       "      <td>22.997</td>\n",
       "      <td>2020-03-31 13:53:18</td>\n",
       "      <td>23.486</td>\n",
       "      <td>-1.32</td>\n",
       "      <td>0.00</td>\n",
       "      <td>107.58</td>\n",
       "      <td>489.0</td>\n",
       "      <td>106.26</td>\n",
       "      <td>15分钟策略</td>\n",
       "    </tr>\n",
       "    <tr>\n",
       "      <th>1</th>\n",
       "      <td>NaN</td>\n",
       "      <td>NaT</td>\n",
       "      <td>2020-03-31 08:03:40</td>\n",
       "      <td>多</td>\n",
       "      <td>0.12</td>\n",
       "      <td>xtiusd</td>\n",
       "      <td>22.933</td>\n",
       "      <td>2020-03-31 15:51:11</td>\n",
       "      <td>22.707</td>\n",
       "      <td>-0.72</td>\n",
       "      <td>0.00</td>\n",
       "      <td>-27.12</td>\n",
       "      <td>-226.0</td>\n",
       "      <td>-27.84</td>\n",
       "      <td>15分钟策略</td>\n",
       "    </tr>\n",
       "    <tr>\n",
       "      <th>2</th>\n",
       "      <td>NaN</td>\n",
       "      <td>NaT</td>\n",
       "      <td>2020-03-31 08:03:42</td>\n",
       "      <td>多</td>\n",
       "      <td>0.12</td>\n",
       "      <td>xtiusd</td>\n",
       "      <td>22.938</td>\n",
       "      <td>2020-03-31 15:51:14</td>\n",
       "      <td>22.707</td>\n",
       "      <td>-0.72</td>\n",
       "      <td>0.00</td>\n",
       "      <td>-27.72</td>\n",
       "      <td>-231.0</td>\n",
       "      <td>-28.44</td>\n",
       "      <td>15分钟策略</td>\n",
       "    </tr>\n",
       "    <tr>\n",
       "      <th>3</th>\n",
       "      <td>2.0</td>\n",
       "      <td>2020-03-31 14:55:32</td>\n",
       "      <td>2020-03-31 14:55:32</td>\n",
       "      <td>多</td>\n",
       "      <td>0.22</td>\n",
       "      <td>xtiusd</td>\n",
       "      <td>22.992</td>\n",
       "      <td>2020-04-02 08:31:36</td>\n",
       "      <td>23.442</td>\n",
       "      <td>-1.32</td>\n",
       "      <td>-83.55</td>\n",
       "      <td>99.00</td>\n",
       "      <td>450.0</td>\n",
       "      <td>14.13</td>\n",
       "      <td>15分钟策略</td>\n",
       "    </tr>\n",
       "    <tr>\n",
       "      <th>4</th>\n",
       "      <td>NaN</td>\n",
       "      <td>NaT</td>\n",
       "      <td>2020-03-31 14:56:45</td>\n",
       "      <td>多</td>\n",
       "      <td>0.12</td>\n",
       "      <td>xtiusd</td>\n",
       "      <td>23.060</td>\n",
       "      <td>2020-04-02 16:48:06</td>\n",
       "      <td>23.585</td>\n",
       "      <td>-0.72</td>\n",
       "      <td>-45.58</td>\n",
       "      <td>63.00</td>\n",
       "      <td>525.0</td>\n",
       "      <td>16.70</td>\n",
       "      <td>15分钟策略</td>\n",
       "    </tr>\n",
       "  </tbody>\n",
       "</table>\n",
       "</div>"
      ],
      "text/plain": [
       "   Unnamed: 0                开仓时间          Unnamed: 2 方向  仓位（手）      品种  \\\n",
       "0         1.0 2020-03-31 08:02:26 2020-03-31 08:02:26  多   0.22  xtiusd   \n",
       "1         NaN                 NaT 2020-03-31 08:03:40  多   0.12  xtiusd   \n",
       "2         NaN                 NaT 2020-03-31 08:03:42  多   0.12  xtiusd   \n",
       "3         2.0 2020-03-31 14:55:32 2020-03-31 14:55:32  多   0.22  xtiusd   \n",
       "4         NaN                 NaT 2020-03-31 14:56:45  多   0.12  xtiusd   \n",
       "\n",
       "     开仓价格                平仓时间    平仓价格   手续费    库存费      利润   盈亏点数     净利润  \\\n",
       "0  22.997 2020-03-31 13:53:18  23.486 -1.32   0.00  107.58  489.0  106.26   \n",
       "1  22.933 2020-03-31 15:51:11  22.707 -0.72   0.00  -27.12 -226.0  -27.84   \n",
       "2  22.938 2020-03-31 15:51:14  22.707 -0.72   0.00  -27.72 -231.0  -28.44   \n",
       "3  22.992 2020-04-02 08:31:36  23.442 -1.32 -83.55   99.00  450.0   14.13   \n",
       "4  23.060 2020-04-02 16:48:06  23.585 -0.72 -45.58   63.00  525.0   16.70   \n",
       "\n",
       "  Unnamed: 14  \n",
       "0      15分钟策略  \n",
       "1      15分钟策略  \n",
       "2      15分钟策略  \n",
       "3      15分钟策略  \n",
       "4      15分钟策略  "
      ]
     },
     "execution_count": 6,
     "metadata": {},
     "output_type": "execute_result"
    }
   ],
   "source": [
    "data.head()"
   ]
  },
  {
   "cell_type": "code",
   "execution_count": null,
   "metadata": {},
   "outputs": [],
   "source": []
  }
 ],
 "metadata": {
  "kernelspec": {
   "display_name": "Python 3",
   "language": "python",
   "name": "python3"
  },
  "language_info": {
   "codemirror_mode": {
    "name": "ipython",
    "version": 3
   },
   "file_extension": ".py",
   "mimetype": "text/x-python",
   "name": "python",
   "nbconvert_exporter": "python",
   "pygments_lexer": "ipython3",
   "version": "3.7.7"
  }
 },
 "nbformat": 4,
 "nbformat_minor": 4
}
