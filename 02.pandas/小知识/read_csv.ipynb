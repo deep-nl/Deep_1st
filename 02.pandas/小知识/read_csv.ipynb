{
 "cells": [
  {
   "cell_type": "markdown",
   "metadata": {},
   "source": [
    "pandas.read_csv(filepath_or_buffer: Union[str, pathlib.Path, IO[~AnyStr]], sep=',', delimiter=None, header='infer', names=None, index_col=None, usecols=None, squeeze=False, prefix=None, mangle_dupe_cols=True, dtype=None, engine=None, converters=None, true_values=None, false_values=None, skipinitialspace=False, skiprows=None, skipfooter=0, nrows=None, na_values=None, keep_default_na=True, na_filter=True, verbose=False, skip_blank_lines=True, parse_dates=False, infer_datetime_format=False, keep_date_col=False, date_parser=None, dayfirst=False, cache_dates=True, iterator=False, chunksize=None, compression='infer', thousands=None, decimal: str = '.', lineterminator=None, quotechar='\"', quoting=0, doublequote=True, escapechar=None, comment=None, encoding=None, dialect=None, error_bad_lines=True, warn_bad_lines=True, delim_whitespace=False, low_memory=True, memory_map=False, float_precision=None)"
   ]
  },
  {
   "cell_type": "code",
   "execution_count": null,
   "metadata": {},
   "outputs": [],
   "source": []
  },
  {
   "cell_type": "code",
   "execution_count": 1,
   "metadata": {
    "execution": {
     "iopub.execute_input": "2020-04-28T18:25:10.117593Z",
     "iopub.status.busy": "2020-04-28T18:25:10.117593Z",
     "iopub.status.idle": "2020-04-28T18:25:10.444688Z",
     "shell.execute_reply": "2020-04-28T18:25:10.443691Z",
     "shell.execute_reply.started": "2020-04-28T18:25:10.117593Z"
    }
   },
   "outputs": [],
   "source": [
    "import numpy as np\n",
    "import pandas as pd\n",
    "from pandas import Series,DataFrame"
   ]
  },
  {
   "cell_type": "code",
   "execution_count": 9,
   "metadata": {
    "execution": {
     "iopub.execute_input": "2020-04-28T18:29:00.715002Z",
     "iopub.status.busy": "2020-04-28T18:29:00.713966Z",
     "iopub.status.idle": "2020-04-28T18:29:00.725934Z",
     "shell.execute_reply": "2020-04-28T18:29:00.724935Z",
     "shell.execute_reply.started": "2020-04-28T18:29:00.715002Z"
    }
   },
   "outputs": [],
   "source": [
    "user_cols = ['user_id', 'age', 'gender', 'occupation', 'zip_code']\n",
    "users = pd.read_csv('D://data/drinks.csv', sep='|',header=None, names=user_cols, index_col='user_id')"
   ]
  },
  {
   "cell_type": "code",
   "execution_count": 7,
   "metadata": {
    "execution": {
     "iopub.execute_input": "2020-04-28T18:28:25.657312Z",
     "iopub.status.busy": "2020-04-28T18:28:25.657312Z",
     "iopub.status.idle": "2020-04-28T18:28:25.667788Z",
     "shell.execute_reply": "2020-04-28T18:28:25.667284Z",
     "shell.execute_reply.started": "2020-04-28T18:28:25.657312Z"
    }
   },
   "outputs": [
    {
     "data": {
      "text/html": [
       "<div>\n",
       "<style scoped>\n",
       "    .dataframe tbody tr th:only-of-type {\n",
       "        vertical-align: middle;\n",
       "    }\n",
       "\n",
       "    .dataframe tbody tr th {\n",
       "        vertical-align: top;\n",
       "    }\n",
       "\n",
       "    .dataframe thead th {\n",
       "        text-align: right;\n",
       "    }\n",
       "</style>\n",
       "<table border=\"1\" class=\"dataframe\">\n",
       "  <thead>\n",
       "    <tr style=\"text-align: right;\">\n",
       "      <th></th>\n",
       "      <th>age</th>\n",
       "      <th>gender</th>\n",
       "      <th>occupation</th>\n",
       "      <th>zip_code</th>\n",
       "    </tr>\n",
       "    <tr>\n",
       "      <th>user_id</th>\n",
       "      <th></th>\n",
       "      <th></th>\n",
       "      <th></th>\n",
       "      <th></th>\n",
       "    </tr>\n",
       "  </thead>\n",
       "  <tbody>\n",
       "    <tr>\n",
       "      <th>country,beer_servings,spirit_servings,wine_servings,total_litres_of_pure_alcohol,continent</th>\n",
       "      <td>NaN</td>\n",
       "      <td>NaN</td>\n",
       "      <td>NaN</td>\n",
       "      <td>NaN</td>\n",
       "    </tr>\n",
       "    <tr>\n",
       "      <th>Afghanistan,0,0,0,0.0,Asia</th>\n",
       "      <td>NaN</td>\n",
       "      <td>NaN</td>\n",
       "      <td>NaN</td>\n",
       "      <td>NaN</td>\n",
       "    </tr>\n",
       "    <tr>\n",
       "      <th>Albania,89,132,54,4.9,Europe</th>\n",
       "      <td>NaN</td>\n",
       "      <td>NaN</td>\n",
       "      <td>NaN</td>\n",
       "      <td>NaN</td>\n",
       "    </tr>\n",
       "    <tr>\n",
       "      <th>Algeria,25,0,14,0.7,Africa</th>\n",
       "      <td>NaN</td>\n",
       "      <td>NaN</td>\n",
       "      <td>NaN</td>\n",
       "      <td>NaN</td>\n",
       "    </tr>\n",
       "    <tr>\n",
       "      <th>Andorra,245,138,312,12.4,Europe</th>\n",
       "      <td>NaN</td>\n",
       "      <td>NaN</td>\n",
       "      <td>NaN</td>\n",
       "      <td>NaN</td>\n",
       "    </tr>\n",
       "  </tbody>\n",
       "</table>\n",
       "</div>"
      ],
      "text/plain": [
       "                                                    age  gender  occupation  \\\n",
       "user_id                                                                       \n",
       "country,beer_servings,spirit_servings,wine_serv...  NaN     NaN         NaN   \n",
       "Afghanistan,0,0,0,0.0,Asia                          NaN     NaN         NaN   \n",
       "Albania,89,132,54,4.9,Europe                        NaN     NaN         NaN   \n",
       "Algeria,25,0,14,0.7,Africa                          NaN     NaN         NaN   \n",
       "Andorra,245,138,312,12.4,Europe                     NaN     NaN         NaN   \n",
       "\n",
       "                                                    zip_code  \n",
       "user_id                                                       \n",
       "country,beer_servings,spirit_servings,wine_serv...       NaN  \n",
       "Afghanistan,0,0,0,0.0,Asia                               NaN  \n",
       "Albania,89,132,54,4.9,Europe                             NaN  \n",
       "Algeria,25,0,14,0.7,Africa                               NaN  \n",
       "Andorra,245,138,312,12.4,Europe                          NaN  "
      ]
     },
     "execution_count": 7,
     "metadata": {},
     "output_type": "execute_result"
    }
   ],
   "source": [
    "users.head()  #why"
   ]
  },
  {
   "cell_type": "code",
   "execution_count": null,
   "metadata": {},
   "outputs": [],
   "source": []
  }
 ],
 "metadata": {
  "kernelspec": {
   "display_name": "Python 3",
   "language": "python",
   "name": "python3"
  },
  "language_info": {
   "codemirror_mode": {
    "name": "ipython",
    "version": 3
   },
   "file_extension": ".py",
   "mimetype": "text/x-python",
   "name": "python",
   "nbconvert_exporter": "python",
   "pygments_lexer": "ipython3",
   "version": "3.7.7"
  }
 },
 "nbformat": 4,
 "nbformat_minor": 4
}
