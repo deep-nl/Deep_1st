{
 "cells": [
  {
   "cell_type": "code",
   "execution_count": 6,
   "metadata": {
    "execution": {
     "iopub.execute_input": "2020-04-28T12:35:18.263451Z",
     "iopub.status.busy": "2020-04-28T12:35:18.262454Z",
     "iopub.status.idle": "2020-04-28T12:35:18.268438Z",
     "shell.execute_reply": "2020-04-28T12:35:18.267989Z",
     "shell.execute_reply.started": "2020-04-28T12:35:18.263451Z"
    }
   },
   "outputs": [],
   "source": [
    "import pandas as pd\n",
    "import numpy as np"
   ]
  },
  {
   "cell_type": "code",
   "execution_count": 5,
   "metadata": {
    "execution": {
     "iopub.execute_input": "2020-04-28T09:02:53.078012Z",
     "iopub.status.busy": "2020-04-28T09:02:53.078012Z",
     "iopub.status.idle": "2020-04-28T09:02:53.096971Z",
     "shell.execute_reply": "2020-04-28T09:02:53.096971Z",
     "shell.execute_reply.started": "2020-04-28T09:02:53.078012Z"
    }
   },
   "outputs": [
    {
     "data": {
      "text/html": [
       "<div>\n",
       "<style scoped>\n",
       "    .dataframe tbody tr th:only-of-type {\n",
       "        vertical-align: middle;\n",
       "    }\n",
       "\n",
       "    .dataframe tbody tr th {\n",
       "        vertical-align: top;\n",
       "    }\n",
       "\n",
       "    .dataframe thead th {\n",
       "        text-align: right;\n",
       "    }\n",
       "</style>\n",
       "<table border=\"1\" class=\"dataframe\">\n",
       "  <thead>\n",
       "    <tr style=\"text-align: right;\">\n",
       "      <th></th>\n",
       "      <th>Time (UTC)</th>\n",
       "      <th>Open</th>\n",
       "      <th>High</th>\n",
       "      <th>Low</th>\n",
       "      <th>Close</th>\n",
       "      <th>Volume</th>\n",
       "    </tr>\n",
       "  </thead>\n",
       "  <tbody>\n",
       "    <tr>\n",
       "      <th>0</th>\n",
       "      <td>2009/01/01 00:00:00</td>\n",
       "      <td>1.39734</td>\n",
       "      <td>1.39738</td>\n",
       "      <td>1.39731</td>\n",
       "      <td>1.39735</td>\n",
       "      <td>76.0</td>\n",
       "    </tr>\n",
       "    <tr>\n",
       "      <th>1</th>\n",
       "      <td>2009/01/01 00:01:00</td>\n",
       "      <td>1.39733</td>\n",
       "      <td>1.39733</td>\n",
       "      <td>1.39696</td>\n",
       "      <td>1.39719</td>\n",
       "      <td>572.2</td>\n",
       "    </tr>\n",
       "    <tr>\n",
       "      <th>2</th>\n",
       "      <td>2009/01/01 00:02:00</td>\n",
       "      <td>1.39705</td>\n",
       "      <td>1.39710</td>\n",
       "      <td>1.39698</td>\n",
       "      <td>1.39706</td>\n",
       "      <td>152.0</td>\n",
       "    </tr>\n",
       "    <tr>\n",
       "      <th>3</th>\n",
       "      <td>2009/01/01 00:03:00</td>\n",
       "      <td>1.39707</td>\n",
       "      <td>1.39721</td>\n",
       "      <td>1.39705</td>\n",
       "      <td>1.39705</td>\n",
       "      <td>139.6</td>\n",
       "    </tr>\n",
       "    <tr>\n",
       "      <th>4</th>\n",
       "      <td>2009/01/01 00:04:00</td>\n",
       "      <td>1.39705</td>\n",
       "      <td>1.39719</td>\n",
       "      <td>1.39701</td>\n",
       "      <td>1.39701</td>\n",
       "      <td>163.4</td>\n",
       "    </tr>\n",
       "    <tr>\n",
       "      <th>5</th>\n",
       "      <td>2009/01/01 00:05:00</td>\n",
       "      <td>1.39712</td>\n",
       "      <td>1.39718</td>\n",
       "      <td>1.39705</td>\n",
       "      <td>1.39708</td>\n",
       "      <td>160.7</td>\n",
       "    </tr>\n",
       "    <tr>\n",
       "      <th>6</th>\n",
       "      <td>2009/01/01 00:06:00</td>\n",
       "      <td>1.39704</td>\n",
       "      <td>1.39710</td>\n",
       "      <td>1.39704</td>\n",
       "      <td>1.39710</td>\n",
       "      <td>15.0</td>\n",
       "    </tr>\n",
       "    <tr>\n",
       "      <th>7</th>\n",
       "      <td>2009/01/01 00:07:00</td>\n",
       "      <td>1.39716</td>\n",
       "      <td>1.39719</td>\n",
       "      <td>1.39699</td>\n",
       "      <td>1.39709</td>\n",
       "      <td>79.4</td>\n",
       "    </tr>\n",
       "    <tr>\n",
       "      <th>8</th>\n",
       "      <td>2009/01/01 00:08:00</td>\n",
       "      <td>1.39710</td>\n",
       "      <td>1.39712</td>\n",
       "      <td>1.39708</td>\n",
       "      <td>1.39712</td>\n",
       "      <td>56.6</td>\n",
       "    </tr>\n",
       "    <tr>\n",
       "      <th>9</th>\n",
       "      <td>2009/01/01 00:09:00</td>\n",
       "      <td>1.39714</td>\n",
       "      <td>1.39714</td>\n",
       "      <td>1.39705</td>\n",
       "      <td>1.39712</td>\n",
       "      <td>64.0</td>\n",
       "    </tr>\n",
       "  </tbody>\n",
       "</table>\n",
       "</div>"
      ],
      "text/plain": [
       "            Time (UTC)     Open     High      Low    Close  Volume \n",
       "0  2009/01/01 00:00:00  1.39734  1.39738  1.39731  1.39735     76.0\n",
       "1  2009/01/01 00:01:00  1.39733  1.39733  1.39696  1.39719    572.2\n",
       "2  2009/01/01 00:02:00  1.39705  1.39710  1.39698  1.39706    152.0\n",
       "3  2009/01/01 00:03:00  1.39707  1.39721  1.39705  1.39705    139.6\n",
       "4  2009/01/01 00:04:00  1.39705  1.39719  1.39701  1.39701    163.4\n",
       "5  2009/01/01 00:05:00  1.39712  1.39718  1.39705  1.39708    160.7\n",
       "6  2009/01/01 00:06:00  1.39704  1.39710  1.39704  1.39710     15.0\n",
       "7  2009/01/01 00:07:00  1.39716  1.39719  1.39699  1.39709     79.4\n",
       "8  2009/01/01 00:08:00  1.39710  1.39712  1.39708  1.39712     56.6\n",
       "9  2009/01/01 00:09:00  1.39714  1.39714  1.39705  1.39712     64.0"
      ]
     },
     "execution_count": 5,
     "metadata": {},
     "output_type": "execute_result"
    }
   ],
   "source": [
    "data=pd.read_csv('D://EURUSD1MIN.csv',nrows=10)\n",
    "data"
   ]
  },
  {
   "cell_type": "markdown",
   "metadata": {},
   "source": [
    "## 准备工作"
   ]
  },
  {
   "cell_type": "code",
   "execution_count": 7,
   "metadata": {
    "execution": {
     "iopub.execute_input": "2020-04-27T09:02:41.490273Z",
     "iopub.status.busy": "2020-04-27T09:02:41.490273Z",
     "iopub.status.idle": "2020-04-27T09:02:41.496741Z",
     "shell.execute_reply": "2020-04-27T09:02:41.496741Z",
     "shell.execute_reply.started": "2020-04-27T09:02:41.490273Z"
    }
   },
   "outputs": [
    {
     "data": {
      "text/plain": [
       "RangeIndex(start=0, stop=4143734, step=1)"
      ]
     },
     "execution_count": 7,
     "metadata": {},
     "output_type": "execute_result"
    }
   ],
   "source": [
    "data.index"
   ]
  },
  {
   "cell_type": "code",
   "execution_count": 13,
   "metadata": {
    "execution": {
     "iopub.execute_input": "2020-04-27T10:13:36.156116Z",
     "iopub.status.busy": "2020-04-27T10:13:36.156116Z",
     "iopub.status.idle": "2020-04-27T10:13:36.169945Z",
     "shell.execute_reply": "2020-04-27T10:13:36.167949Z",
     "shell.execute_reply.started": "2020-04-27T10:13:36.156116Z"
    }
   },
   "outputs": [
    {
     "data": {
      "text/plain": [
       "(4143734, 6)"
      ]
     },
     "execution_count": 13,
     "metadata": {},
     "output_type": "execute_result"
    }
   ],
   "source": [
    "data.shape"
   ]
  },
  {
   "cell_type": "code",
   "execution_count": 14,
   "metadata": {
    "execution": {
     "iopub.execute_input": "2020-04-27T10:14:12.686222Z",
     "iopub.status.busy": "2020-04-27T10:14:12.685223Z",
     "iopub.status.idle": "2020-04-27T10:14:12.701234Z",
     "shell.execute_reply": "2020-04-27T10:14:12.699918Z",
     "shell.execute_reply.started": "2020-04-27T10:14:12.686222Z"
    }
   },
   "outputs": [
    {
     "data": {
      "text/plain": [
       "24862404"
      ]
     },
     "execution_count": 14,
     "metadata": {},
     "output_type": "execute_result"
    }
   ],
   "source": [
    "data.size"
   ]
  },
  {
   "cell_type": "code",
   "execution_count": 15,
   "metadata": {
    "execution": {
     "iopub.execute_input": "2020-04-27T10:14:41.930106Z",
     "iopub.status.busy": "2020-04-27T10:14:41.929108Z",
     "iopub.status.idle": "2020-04-27T10:14:41.941757Z",
     "shell.execute_reply": "2020-04-27T10:14:41.940790Z",
     "shell.execute_reply.started": "2020-04-27T10:14:41.930106Z"
    }
   },
   "outputs": [
    {
     "data": {
      "text/plain": [
       "Time (UTC)     object\n",
       "Open          float64\n",
       "High          float64\n",
       "Low           float64\n",
       "Close         float64\n",
       "Volume        float64\n",
       "dtype: object"
      ]
     },
     "execution_count": 15,
     "metadata": {},
     "output_type": "execute_result"
    }
   ],
   "source": [
    "data.dtypes"
   ]
  },
  {
   "cell_type": "code",
   "execution_count": 16,
   "metadata": {
    "execution": {
     "iopub.execute_input": "2020-04-27T10:29:02.027020Z",
     "iopub.status.busy": "2020-04-27T10:29:02.027020Z",
     "iopub.status.idle": "2020-04-27T10:29:02.639054Z",
     "shell.execute_reply": "2020-04-27T10:29:02.638058Z",
     "shell.execute_reply.started": "2020-04-27T10:29:02.027020Z"
    }
   },
   "outputs": [
    {
     "data": {
      "text/html": [
       "<div>\n",
       "<style scoped>\n",
       "    .dataframe tbody tr th:only-of-type {\n",
       "        vertical-align: middle;\n",
       "    }\n",
       "\n",
       "    .dataframe tbody tr th {\n",
       "        vertical-align: top;\n",
       "    }\n",
       "\n",
       "    .dataframe thead th {\n",
       "        text-align: right;\n",
       "    }\n",
       "</style>\n",
       "<table border=\"1\" class=\"dataframe\">\n",
       "  <thead>\n",
       "    <tr style=\"text-align: right;\">\n",
       "      <th></th>\n",
       "      <th>Time</th>\n",
       "      <th>Open</th>\n",
       "      <th>High</th>\n",
       "      <th>Low</th>\n",
       "      <th>Close</th>\n",
       "      <th>Volume</th>\n",
       "    </tr>\n",
       "  </thead>\n",
       "  <tbody>\n",
       "    <tr>\n",
       "      <th>0</th>\n",
       "      <td>2009/01/01 00:00:00</td>\n",
       "      <td>1.39734</td>\n",
       "      <td>1.39738</td>\n",
       "      <td>1.39731</td>\n",
       "      <td>1.39735</td>\n",
       "      <td>76.0</td>\n",
       "    </tr>\n",
       "    <tr>\n",
       "      <th>1</th>\n",
       "      <td>2009/01/01 00:01:00</td>\n",
       "      <td>1.39733</td>\n",
       "      <td>1.39733</td>\n",
       "      <td>1.39696</td>\n",
       "      <td>1.39719</td>\n",
       "      <td>572.2</td>\n",
       "    </tr>\n",
       "    <tr>\n",
       "      <th>2</th>\n",
       "      <td>2009/01/01 00:02:00</td>\n",
       "      <td>1.39705</td>\n",
       "      <td>1.39710</td>\n",
       "      <td>1.39698</td>\n",
       "      <td>1.39706</td>\n",
       "      <td>152.0</td>\n",
       "    </tr>\n",
       "    <tr>\n",
       "      <th>3</th>\n",
       "      <td>2009/01/01 00:03:00</td>\n",
       "      <td>1.39707</td>\n",
       "      <td>1.39721</td>\n",
       "      <td>1.39705</td>\n",
       "      <td>1.39705</td>\n",
       "      <td>139.6</td>\n",
       "    </tr>\n",
       "    <tr>\n",
       "      <th>4</th>\n",
       "      <td>2009/01/01 00:04:00</td>\n",
       "      <td>1.39705</td>\n",
       "      <td>1.39719</td>\n",
       "      <td>1.39701</td>\n",
       "      <td>1.39701</td>\n",
       "      <td>163.4</td>\n",
       "    </tr>\n",
       "  </tbody>\n",
       "</table>\n",
       "</div>"
      ],
      "text/plain": [
       "                  Time     Open     High      Low    Close  Volume \n",
       "0  2009/01/01 00:00:00  1.39734  1.39738  1.39731  1.39735     76.0\n",
       "1  2009/01/01 00:01:00  1.39733  1.39733  1.39696  1.39719    572.2\n",
       "2  2009/01/01 00:02:00  1.39705  1.39710  1.39698  1.39706    152.0\n",
       "3  2009/01/01 00:03:00  1.39707  1.39721  1.39705  1.39705    139.6\n",
       "4  2009/01/01 00:04:00  1.39705  1.39719  1.39701  1.39701    163.4"
      ]
     },
     "execution_count": 16,
     "metadata": {},
     "output_type": "execute_result"
    }
   ],
   "source": [
    "#将时间的列名变为Time，并将格式改为datetime；\n",
    "data.rename(columns={'Time (UTC)':'Time'},inplace=True)\n",
    "data.head()"
   ]
  },
  {
   "cell_type": "code",
   "execution_count": 18,
   "metadata": {
    "execution": {
     "iopub.execute_input": "2020-04-27T12:17:39.073693Z",
     "iopub.status.busy": "2020-04-27T12:17:39.073693Z",
     "iopub.status.idle": "2020-04-27T12:17:43.004689Z",
     "shell.execute_reply": "2020-04-27T12:17:43.004689Z",
     "shell.execute_reply.started": "2020-04-27T12:17:39.073693Z"
    }
   },
   "outputs": [
    {
     "data": {
      "text/html": [
       "<div>\n",
       "<style scoped>\n",
       "    .dataframe tbody tr th:only-of-type {\n",
       "        vertical-align: middle;\n",
       "    }\n",
       "\n",
       "    .dataframe tbody tr th {\n",
       "        vertical-align: top;\n",
       "    }\n",
       "\n",
       "    .dataframe thead th {\n",
       "        text-align: right;\n",
       "    }\n",
       "</style>\n",
       "<table border=\"1\" class=\"dataframe\">\n",
       "  <thead>\n",
       "    <tr style=\"text-align: right;\">\n",
       "      <th></th>\n",
       "      <th>Time</th>\n",
       "      <th>Open</th>\n",
       "      <th>High</th>\n",
       "      <th>Low</th>\n",
       "      <th>Close</th>\n",
       "      <th>Volume</th>\n",
       "    </tr>\n",
       "  </thead>\n",
       "  <tbody>\n",
       "    <tr>\n",
       "      <th>0</th>\n",
       "      <td>2009-01-01 00:00:00</td>\n",
       "      <td>1.39734</td>\n",
       "      <td>1.39738</td>\n",
       "      <td>1.39731</td>\n",
       "      <td>1.39735</td>\n",
       "      <td>76.0</td>\n",
       "    </tr>\n",
       "    <tr>\n",
       "      <th>1</th>\n",
       "      <td>2009-01-01 00:01:00</td>\n",
       "      <td>1.39733</td>\n",
       "      <td>1.39733</td>\n",
       "      <td>1.39696</td>\n",
       "      <td>1.39719</td>\n",
       "      <td>572.2</td>\n",
       "    </tr>\n",
       "    <tr>\n",
       "      <th>2</th>\n",
       "      <td>2009-01-01 00:02:00</td>\n",
       "      <td>1.39705</td>\n",
       "      <td>1.39710</td>\n",
       "      <td>1.39698</td>\n",
       "      <td>1.39706</td>\n",
       "      <td>152.0</td>\n",
       "    </tr>\n",
       "    <tr>\n",
       "      <th>3</th>\n",
       "      <td>2009-01-01 00:03:00</td>\n",
       "      <td>1.39707</td>\n",
       "      <td>1.39721</td>\n",
       "      <td>1.39705</td>\n",
       "      <td>1.39705</td>\n",
       "      <td>139.6</td>\n",
       "    </tr>\n",
       "    <tr>\n",
       "      <th>4</th>\n",
       "      <td>2009-01-01 00:04:00</td>\n",
       "      <td>1.39705</td>\n",
       "      <td>1.39719</td>\n",
       "      <td>1.39701</td>\n",
       "      <td>1.39701</td>\n",
       "      <td>163.4</td>\n",
       "    </tr>\n",
       "  </tbody>\n",
       "</table>\n",
       "</div>"
      ],
      "text/plain": [
       "                 Time     Open     High      Low    Close  Volume \n",
       "0 2009-01-01 00:00:00  1.39734  1.39738  1.39731  1.39735     76.0\n",
       "1 2009-01-01 00:01:00  1.39733  1.39733  1.39696  1.39719    572.2\n",
       "2 2009-01-01 00:02:00  1.39705  1.39710  1.39698  1.39706    152.0\n",
       "3 2009-01-01 00:03:00  1.39707  1.39721  1.39705  1.39705    139.6\n",
       "4 2009-01-01 00:04:00  1.39705  1.39719  1.39701  1.39701    163.4"
      ]
     },
     "execution_count": 18,
     "metadata": {},
     "output_type": "execute_result"
    }
   ],
   "source": [
    "data['Time']=pd.to_datetime(data.Time)\n",
    "data.head()"
   ]
  },
  {
   "cell_type": "markdown",
   "metadata": {},
   "source": [
    "## 处理缺失值"
   ]
  },
  {
   "cell_type": "code",
   "execution_count": 24,
   "metadata": {
    "execution": {
     "iopub.execute_input": "2020-04-27T12:39:45.768359Z",
     "iopub.status.busy": "2020-04-27T12:39:45.768359Z",
     "iopub.status.idle": "2020-04-27T12:39:45.783945Z",
     "shell.execute_reply": "2020-04-27T12:39:45.783945Z",
     "shell.execute_reply.started": "2020-04-27T12:39:45.768359Z"
    }
   },
   "outputs": [
    {
     "data": {
      "text/plain": [
       "0          False\n",
       "1          False\n",
       "2          False\n",
       "3          False\n",
       "4          False\n",
       "           ...  \n",
       "4143729    False\n",
       "4143730    False\n",
       "4143731    False\n",
       "4143732    False\n",
       "4143733    False\n",
       "Name: Open, Length: 4143734, dtype: bool"
      ]
     },
     "execution_count": 24,
     "metadata": {},
     "output_type": "execute_result"
    }
   ],
   "source": [
    "data.Open.head()\n",
    "data.Open.isnull()   #查看series的NA值"
   ]
  },
  {
   "cell_type": "code",
   "execution_count": 25,
   "metadata": {
    "execution": {
     "iopub.execute_input": "2020-04-27T12:40:46.206312Z",
     "iopub.status.busy": "2020-04-27T12:40:46.206312Z",
     "iopub.status.idle": "2020-04-27T12:40:46.718967Z",
     "shell.execute_reply": "2020-04-27T12:40:46.718967Z",
     "shell.execute_reply.started": "2020-04-27T12:40:46.206312Z"
    }
   },
   "outputs": [
    {
     "data": {
      "text/html": [
       "<div>\n",
       "<style scoped>\n",
       "    .dataframe tbody tr th:only-of-type {\n",
       "        vertical-align: middle;\n",
       "    }\n",
       "\n",
       "    .dataframe tbody tr th {\n",
       "        vertical-align: top;\n",
       "    }\n",
       "\n",
       "    .dataframe thead th {\n",
       "        text-align: right;\n",
       "    }\n",
       "</style>\n",
       "<table border=\"1\" class=\"dataframe\">\n",
       "  <thead>\n",
       "    <tr style=\"text-align: right;\">\n",
       "      <th></th>\n",
       "      <th>Time</th>\n",
       "      <th>Open</th>\n",
       "      <th>High</th>\n",
       "      <th>Low</th>\n",
       "      <th>Close</th>\n",
       "      <th>Volume</th>\n",
       "    </tr>\n",
       "  </thead>\n",
       "  <tbody>\n",
       "    <tr>\n",
       "      <th>0</th>\n",
       "      <td>2009-01-01 00:00:00</td>\n",
       "      <td>1.39734</td>\n",
       "      <td>1.39738</td>\n",
       "      <td>1.39731</td>\n",
       "      <td>1.39735</td>\n",
       "      <td>76.0</td>\n",
       "    </tr>\n",
       "    <tr>\n",
       "      <th>1</th>\n",
       "      <td>2009-01-01 00:01:00</td>\n",
       "      <td>1.39733</td>\n",
       "      <td>1.39733</td>\n",
       "      <td>1.39696</td>\n",
       "      <td>1.39719</td>\n",
       "      <td>572.2</td>\n",
       "    </tr>\n",
       "    <tr>\n",
       "      <th>2</th>\n",
       "      <td>2009-01-01 00:02:00</td>\n",
       "      <td>1.39705</td>\n",
       "      <td>1.39710</td>\n",
       "      <td>1.39698</td>\n",
       "      <td>1.39706</td>\n",
       "      <td>152.0</td>\n",
       "    </tr>\n",
       "    <tr>\n",
       "      <th>3</th>\n",
       "      <td>2009-01-01 00:03:00</td>\n",
       "      <td>1.39707</td>\n",
       "      <td>1.39721</td>\n",
       "      <td>1.39705</td>\n",
       "      <td>1.39705</td>\n",
       "      <td>139.6</td>\n",
       "    </tr>\n",
       "    <tr>\n",
       "      <th>4</th>\n",
       "      <td>2009-01-01 00:04:00</td>\n",
       "      <td>1.39705</td>\n",
       "      <td>1.39719</td>\n",
       "      <td>1.39701</td>\n",
       "      <td>1.39701</td>\n",
       "      <td>163.4</td>\n",
       "    </tr>\n",
       "  </tbody>\n",
       "</table>\n",
       "</div>"
      ],
      "text/plain": [
       "                 Time     Open     High      Low    Close  Volume \n",
       "0 2009-01-01 00:00:00  1.39734  1.39738  1.39731  1.39735     76.0\n",
       "1 2009-01-01 00:01:00  1.39733  1.39733  1.39696  1.39719    572.2\n",
       "2 2009-01-01 00:02:00  1.39705  1.39710  1.39698  1.39706    152.0\n",
       "3 2009-01-01 00:03:00  1.39707  1.39721  1.39705  1.39705    139.6\n",
       "4 2009-01-01 00:04:00  1.39705  1.39719  1.39701  1.39701    163.4"
      ]
     },
     "execution_count": 25,
     "metadata": {},
     "output_type": "execute_result"
    }
   ],
   "source": [
    "cleaned=data.dropna()\n",
    "cleaned.head()"
   ]
  },
  {
   "cell_type": "code",
   "execution_count": 26,
   "metadata": {
    "execution": {
     "iopub.execute_input": "2020-04-27T12:40:55.098529Z",
     "iopub.status.busy": "2020-04-27T12:40:55.097535Z",
     "iopub.status.idle": "2020-04-27T12:40:55.105595Z",
     "shell.execute_reply": "2020-04-27T12:40:55.104593Z",
     "shell.execute_reply.started": "2020-04-27T12:40:55.098529Z"
    }
   },
   "outputs": [
    {
     "data": {
      "text/plain": [
       "24862404"
      ]
     },
     "execution_count": 26,
     "metadata": {},
     "output_type": "execute_result"
    }
   ],
   "source": [
    "cleaned.size #"
   ]
  },
  {
   "cell_type": "markdown",
   "metadata": {},
   "source": [
    "## 检测和过滤异常值"
   ]
  },
  {
   "cell_type": "code",
   "execution_count": 10,
   "metadata": {
    "execution": {
     "iopub.execute_input": "2020-04-28T12:38:00.835737Z",
     "iopub.status.busy": "2020-04-28T12:38:00.835737Z",
     "iopub.status.idle": "2020-04-28T12:38:00.850701Z",
     "shell.execute_reply": "2020-04-28T12:38:00.849700Z",
     "shell.execute_reply.started": "2020-04-28T12:38:00.835737Z"
    }
   },
   "outputs": [
    {
     "data": {
      "text/html": [
       "<div>\n",
       "<style scoped>\n",
       "    .dataframe tbody tr th:only-of-type {\n",
       "        vertical-align: middle;\n",
       "    }\n",
       "\n",
       "    .dataframe tbody tr th {\n",
       "        vertical-align: top;\n",
       "    }\n",
       "\n",
       "    .dataframe thead th {\n",
       "        text-align: right;\n",
       "    }\n",
       "</style>\n",
       "<table border=\"1\" class=\"dataframe\">\n",
       "  <thead>\n",
       "    <tr style=\"text-align: right;\">\n",
       "      <th></th>\n",
       "      <th>A</th>\n",
       "      <th>B</th>\n",
       "      <th>C</th>\n",
       "      <th>D</th>\n",
       "    </tr>\n",
       "  </thead>\n",
       "  <tbody>\n",
       "    <tr>\n",
       "      <th>0</th>\n",
       "      <td>-1.468531</td>\n",
       "      <td>0.118245</td>\n",
       "      <td>-0.979961</td>\n",
       "      <td>1.046481</td>\n",
       "    </tr>\n",
       "    <tr>\n",
       "      <th>1</th>\n",
       "      <td>0.784779</td>\n",
       "      <td>-0.834935</td>\n",
       "      <td>0.022691</td>\n",
       "      <td>-1.258764</td>\n",
       "    </tr>\n",
       "    <tr>\n",
       "      <th>2</th>\n",
       "      <td>0.040517</td>\n",
       "      <td>0.838902</td>\n",
       "      <td>1.679042</td>\n",
       "      <td>-0.538323</td>\n",
       "    </tr>\n",
       "    <tr>\n",
       "      <th>3</th>\n",
       "      <td>0.156242</td>\n",
       "      <td>0.118111</td>\n",
       "      <td>-0.782354</td>\n",
       "      <td>1.679051</td>\n",
       "    </tr>\n",
       "    <tr>\n",
       "      <th>4</th>\n",
       "      <td>0.855360</td>\n",
       "      <td>0.014859</td>\n",
       "      <td>-0.699865</td>\n",
       "      <td>-1.494133</td>\n",
       "    </tr>\n",
       "  </tbody>\n",
       "</table>\n",
       "</div>"
      ],
      "text/plain": [
       "          A         B         C         D\n",
       "0 -1.468531  0.118245 -0.979961  1.046481\n",
       "1  0.784779 -0.834935  0.022691 -1.258764\n",
       "2  0.040517  0.838902  1.679042 -0.538323\n",
       "3  0.156242  0.118111 -0.782354  1.679051\n",
       "4  0.855360  0.014859 -0.699865 -1.494133"
      ]
     },
     "execution_count": 10,
     "metadata": {},
     "output_type": "execute_result"
    }
   ],
   "source": [
    "#举个例子\n",
    "data_1=pd.DataFrame(np.random.randn(1000,4),columns=list('ABCD'))\n",
    "data_1.head()"
   ]
  },
  {
   "cell_type": "code",
   "execution_count": 11,
   "metadata": {
    "execution": {
     "iopub.execute_input": "2020-04-28T12:38:30.131212Z",
     "iopub.status.busy": "2020-04-28T12:38:30.131212Z",
     "iopub.status.idle": "2020-04-28T12:38:30.206521Z",
     "shell.execute_reply": "2020-04-28T12:38:30.205524Z",
     "shell.execute_reply.started": "2020-04-28T12:38:30.131212Z"
    }
   },
   "outputs": [
    {
     "data": {
      "text/html": [
       "<div>\n",
       "<style scoped>\n",
       "    .dataframe tbody tr th:only-of-type {\n",
       "        vertical-align: middle;\n",
       "    }\n",
       "\n",
       "    .dataframe tbody tr th {\n",
       "        vertical-align: top;\n",
       "    }\n",
       "\n",
       "    .dataframe thead th {\n",
       "        text-align: right;\n",
       "    }\n",
       "</style>\n",
       "<table border=\"1\" class=\"dataframe\">\n",
       "  <thead>\n",
       "    <tr style=\"text-align: right;\">\n",
       "      <th></th>\n",
       "      <th>A</th>\n",
       "      <th>B</th>\n",
       "      <th>C</th>\n",
       "      <th>D</th>\n",
       "    </tr>\n",
       "  </thead>\n",
       "  <tbody>\n",
       "    <tr>\n",
       "      <th>count</th>\n",
       "      <td>1000.000000</td>\n",
       "      <td>1000.000000</td>\n",
       "      <td>1000.000000</td>\n",
       "      <td>1000.000000</td>\n",
       "    </tr>\n",
       "    <tr>\n",
       "      <th>mean</th>\n",
       "      <td>0.037202</td>\n",
       "      <td>-0.013185</td>\n",
       "      <td>0.019594</td>\n",
       "      <td>0.018524</td>\n",
       "    </tr>\n",
       "    <tr>\n",
       "      <th>std</th>\n",
       "      <td>1.037653</td>\n",
       "      <td>0.975729</td>\n",
       "      <td>1.004076</td>\n",
       "      <td>0.981599</td>\n",
       "    </tr>\n",
       "    <tr>\n",
       "      <th>min</th>\n",
       "      <td>-4.386491</td>\n",
       "      <td>-3.015560</td>\n",
       "      <td>-2.961623</td>\n",
       "      <td>-2.789849</td>\n",
       "    </tr>\n",
       "    <tr>\n",
       "      <th>25%</th>\n",
       "      <td>-0.654284</td>\n",
       "      <td>-0.650301</td>\n",
       "      <td>-0.613618</td>\n",
       "      <td>-0.654027</td>\n",
       "    </tr>\n",
       "    <tr>\n",
       "      <th>50%</th>\n",
       "      <td>0.050214</td>\n",
       "      <td>-0.014202</td>\n",
       "      <td>0.031237</td>\n",
       "      <td>0.029863</td>\n",
       "    </tr>\n",
       "    <tr>\n",
       "      <th>75%</th>\n",
       "      <td>0.733655</td>\n",
       "      <td>0.630893</td>\n",
       "      <td>0.692119</td>\n",
       "      <td>0.674425</td>\n",
       "    </tr>\n",
       "    <tr>\n",
       "      <th>max</th>\n",
       "      <td>3.185023</td>\n",
       "      <td>3.518694</td>\n",
       "      <td>3.292384</td>\n",
       "      <td>2.705535</td>\n",
       "    </tr>\n",
       "  </tbody>\n",
       "</table>\n",
       "</div>"
      ],
      "text/plain": [
       "                 A            B            C            D\n",
       "count  1000.000000  1000.000000  1000.000000  1000.000000\n",
       "mean      0.037202    -0.013185     0.019594     0.018524\n",
       "std       1.037653     0.975729     1.004076     0.981599\n",
       "min      -4.386491    -3.015560    -2.961623    -2.789849\n",
       "25%      -0.654284    -0.650301    -0.613618    -0.654027\n",
       "50%       0.050214    -0.014202     0.031237     0.029863\n",
       "75%       0.733655     0.630893     0.692119     0.674425\n",
       "max       3.185023     3.518694     3.292384     2.705535"
      ]
     },
     "execution_count": 11,
     "metadata": {},
     "output_type": "execute_result"
    }
   ],
   "source": [
    "data_1.describe()"
   ]
  },
  {
   "cell_type": "code",
   "execution_count": 12,
   "metadata": {
    "execution": {
     "iopub.execute_input": "2020-04-28T12:50:29.868709Z",
     "iopub.status.busy": "2020-04-28T12:50:29.868709Z",
     "iopub.status.idle": "2020-04-28T12:50:29.893642Z",
     "shell.execute_reply": "2020-04-28T12:50:29.892646Z",
     "shell.execute_reply.started": "2020-04-28T12:50:29.868709Z"
    }
   },
   "outputs": [
    {
     "data": {
      "text/html": [
       "<div>\n",
       "<style scoped>\n",
       "    .dataframe tbody tr th:only-of-type {\n",
       "        vertical-align: middle;\n",
       "    }\n",
       "\n",
       "    .dataframe tbody tr th {\n",
       "        vertical-align: top;\n",
       "    }\n",
       "\n",
       "    .dataframe thead th {\n",
       "        text-align: right;\n",
       "    }\n",
       "</style>\n",
       "<table border=\"1\" class=\"dataframe\">\n",
       "  <thead>\n",
       "    <tr style=\"text-align: right;\">\n",
       "      <th></th>\n",
       "      <th>Open</th>\n",
       "      <th>High</th>\n",
       "      <th>Low</th>\n",
       "      <th>Close</th>\n",
       "      <th>Volume</th>\n",
       "    </tr>\n",
       "  </thead>\n",
       "  <tbody>\n",
       "    <tr>\n",
       "      <th>count</th>\n",
       "      <td>10.000000</td>\n",
       "      <td>10.000000</td>\n",
       "      <td>10.000000</td>\n",
       "      <td>10.000000</td>\n",
       "      <td>10.000000</td>\n",
       "    </tr>\n",
       "    <tr>\n",
       "      <th>mean</th>\n",
       "      <td>1.397140</td>\n",
       "      <td>1.397194</td>\n",
       "      <td>1.397052</td>\n",
       "      <td>1.397117</td>\n",
       "      <td>147.890000</td>\n",
       "    </tr>\n",
       "    <tr>\n",
       "      <th>std</th>\n",
       "      <td>0.000110</td>\n",
       "      <td>0.000094</td>\n",
       "      <td>0.000098</td>\n",
       "      <td>0.000095</td>\n",
       "      <td>157.557555</td>\n",
       "    </tr>\n",
       "    <tr>\n",
       "      <th>min</th>\n",
       "      <td>1.397040</td>\n",
       "      <td>1.397100</td>\n",
       "      <td>1.396960</td>\n",
       "      <td>1.397010</td>\n",
       "      <td>15.000000</td>\n",
       "    </tr>\n",
       "    <tr>\n",
       "      <th>25%</th>\n",
       "      <td>1.397055</td>\n",
       "      <td>1.397125</td>\n",
       "      <td>1.396995</td>\n",
       "      <td>1.397065</td>\n",
       "      <td>67.000000</td>\n",
       "    </tr>\n",
       "    <tr>\n",
       "      <th>50%</th>\n",
       "      <td>1.397110</td>\n",
       "      <td>1.397185</td>\n",
       "      <td>1.397045</td>\n",
       "      <td>1.397095</td>\n",
       "      <td>109.500000</td>\n",
       "    </tr>\n",
       "    <tr>\n",
       "      <th>75%</th>\n",
       "      <td>1.397155</td>\n",
       "      <td>1.397205</td>\n",
       "      <td>1.397050</td>\n",
       "      <td>1.397120</td>\n",
       "      <td>158.525000</td>\n",
       "    </tr>\n",
       "    <tr>\n",
       "      <th>max</th>\n",
       "      <td>1.397340</td>\n",
       "      <td>1.397380</td>\n",
       "      <td>1.397310</td>\n",
       "      <td>1.397350</td>\n",
       "      <td>572.200000</td>\n",
       "    </tr>\n",
       "  </tbody>\n",
       "</table>\n",
       "</div>"
      ],
      "text/plain": [
       "            Open       High        Low      Close     Volume \n",
       "count  10.000000  10.000000  10.000000  10.000000   10.000000\n",
       "mean    1.397140   1.397194   1.397052   1.397117  147.890000\n",
       "std     0.000110   0.000094   0.000098   0.000095  157.557555\n",
       "min     1.397040   1.397100   1.396960   1.397010   15.000000\n",
       "25%     1.397055   1.397125   1.396995   1.397065   67.000000\n",
       "50%     1.397110   1.397185   1.397045   1.397095  109.500000\n",
       "75%     1.397155   1.397205   1.397050   1.397120  158.525000\n",
       "max     1.397340   1.397380   1.397310   1.397350  572.200000"
      ]
     },
     "execution_count": 12,
     "metadata": {},
     "output_type": "execute_result"
    }
   ],
   "source": [
    "data.describe()"
   ]
  },
  {
   "cell_type": "code",
   "execution_count": null,
   "metadata": {},
   "outputs": [],
   "source": []
  }
 ],
 "metadata": {
  "kernelspec": {
   "display_name": "Python 3",
   "language": "python",
   "name": "python3"
  },
  "language_info": {
   "codemirror_mode": {
    "name": "ipython",
    "version": 3
   },
   "file_extension": ".py",
   "mimetype": "text/x-python",
   "name": "python",
   "nbconvert_exporter": "python",
   "pygments_lexer": "ipython3",
   "version": "3.7.7"
  }
 },
 "nbformat": 4,
 "nbformat_minor": 4
}
