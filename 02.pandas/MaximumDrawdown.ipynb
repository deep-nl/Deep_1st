{
 "cells": [
  {
   "cell_type": "code",
   "execution_count": 3,
   "metadata": {
    "execution": {
     "iopub.execute_input": "2020-07-01T07:35:39.206500Z",
     "iopub.status.busy": "2020-07-01T07:35:39.206500Z",
     "iopub.status.idle": "2020-07-01T07:35:39.212486Z",
     "shell.execute_reply": "2020-07-01T07:35:39.212486Z",
     "shell.execute_reply.started": "2020-07-01T07:35:39.206500Z"
    }
   },
   "outputs": [],
   "source": [
    "import pandas as pd\n",
    "import numpy as np"
   ]
  },
  {
   "cell_type": "code",
   "execution_count": 1,
   "metadata": {
    "execution": {
     "iopub.execute_input": "2020-07-01T07:33:27.362030Z",
     "iopub.status.busy": "2020-07-01T07:33:27.360035Z",
     "iopub.status.idle": "2020-07-01T07:33:29.337674Z",
     "shell.execute_reply": "2020-07-01T07:33:29.337674Z",
     "shell.execute_reply.started": "2020-07-01T07:33:27.362030Z"
    }
   },
   "outputs": [],
   "source": [
    "%matplotlib inline\n",
    "import matplotlib.pyplot as plt\n",
    "import seaborn\n",
    "# plt.style.use('seaborn')             ggplot;\n",
    "import matplotlib as mpl\n",
    "mpl.rcParams['font.family'] = 'serif'               #解决一些字体显示乱码问题\n",
    "import warnings; warnings.simplefilter('ignore')       #忽略警告信息；"
   ]
  },
  {
   "cell_type": "markdown",
   "metadata": {},
   "source": [
    "## 第一步，准备数据"
   ]
  },
  {
   "cell_type": "code",
   "execution_count": 5,
   "metadata": {
    "execution": {
     "iopub.execute_input": "2020-07-01T07:35:57.034557Z",
     "iopub.status.busy": "2020-07-01T07:35:57.033558Z",
     "iopub.status.idle": "2020-07-01T07:36:01.317348Z",
     "shell.execute_reply": "2020-07-01T07:36:01.317348Z",
     "shell.execute_reply.started": "2020-07-01T07:35:57.034557Z"
    }
   },
   "outputs": [
    {
     "data": {
      "text/html": [
       "<div>\n",
       "<style scoped>\n",
       "    .dataframe tbody tr th:only-of-type {\n",
       "        vertical-align: middle;\n",
       "    }\n",
       "\n",
       "    .dataframe tbody tr th {\n",
       "        vertical-align: top;\n",
       "    }\n",
       "\n",
       "    .dataframe thead th {\n",
       "        text-align: right;\n",
       "    }\n",
       "</style>\n",
       "<table border=\"1\" class=\"dataframe\">\n",
       "  <thead>\n",
       "    <tr style=\"text-align: right;\">\n",
       "      <th></th>\n",
       "      <th>Time (UTC)</th>\n",
       "      <th>Open</th>\n",
       "      <th>High</th>\n",
       "      <th>Low</th>\n",
       "      <th>Close</th>\n",
       "      <th>Volume</th>\n",
       "    </tr>\n",
       "  </thead>\n",
       "  <tbody>\n",
       "    <tr>\n",
       "      <th>0</th>\n",
       "      <td>2010.01.01 00:00:00</td>\n",
       "      <td>1.43283</td>\n",
       "      <td>1.43283</td>\n",
       "      <td>1.43267</td>\n",
       "      <td>1.43267</td>\n",
       "      <td>74.3</td>\n",
       "    </tr>\n",
       "    <tr>\n",
       "      <th>1</th>\n",
       "      <td>2010.01.01 00:01:00</td>\n",
       "      <td>1.43268</td>\n",
       "      <td>1.43285</td>\n",
       "      <td>1.43268</td>\n",
       "      <td>1.43284</td>\n",
       "      <td>25.4</td>\n",
       "    </tr>\n",
       "    <tr>\n",
       "      <th>2</th>\n",
       "      <td>2010.01.01 00:02:00</td>\n",
       "      <td>1.43280</td>\n",
       "      <td>1.43280</td>\n",
       "      <td>1.43268</td>\n",
       "      <td>1.43280</td>\n",
       "      <td>30.9</td>\n",
       "    </tr>\n",
       "    <tr>\n",
       "      <th>3</th>\n",
       "      <td>2010.01.01 00:03:00</td>\n",
       "      <td>1.43280</td>\n",
       "      <td>1.43280</td>\n",
       "      <td>1.43268</td>\n",
       "      <td>1.43273</td>\n",
       "      <td>41.9</td>\n",
       "    </tr>\n",
       "    <tr>\n",
       "      <th>4</th>\n",
       "      <td>2010.01.01 00:04:00</td>\n",
       "      <td>1.43283</td>\n",
       "      <td>1.43283</td>\n",
       "      <td>1.43277</td>\n",
       "      <td>1.43277</td>\n",
       "      <td>53.8</td>\n",
       "    </tr>\n",
       "  </tbody>\n",
       "</table>\n",
       "</div>"
      ],
      "text/plain": [
       "            Time (UTC)     Open     High      Low    Close  Volume \n",
       "0  2010.01.01 00:00:00  1.43283  1.43283  1.43267  1.43267     74.3\n",
       "1  2010.01.01 00:01:00  1.43268  1.43285  1.43268  1.43284     25.4\n",
       "2  2010.01.01 00:02:00  1.43280  1.43280  1.43268  1.43280     30.9\n",
       "3  2010.01.01 00:03:00  1.43280  1.43280  1.43268  1.43273     41.9\n",
       "4  2010.01.01 00:04:00  1.43283  1.43283  1.43277  1.43277     53.8"
      ]
     },
     "execution_count": 5,
     "metadata": {},
     "output_type": "execute_result"
    }
   ],
   "source": [
    "data=pd.read_csv(r'D:\\Baiducloud\\12M8-202005\\1MIN\\EURUSD_M1.csv')\n",
    "data.head()"
   ]
  },
  {
   "cell_type": "code",
   "execution_count": 13,
   "metadata": {
    "collapsed": true,
    "execution": {
     "iopub.execute_input": "2020-07-01T08:09:53.465974Z",
     "iopub.status.busy": "2020-07-01T08:09:53.465974Z",
     "iopub.status.idle": "2020-07-01T08:09:53.483442Z",
     "shell.execute_reply": "2020-07-01T08:09:53.481450Z",
     "shell.execute_reply.started": "2020-07-01T08:09:53.465974Z"
    },
    "jupyter": {
     "outputs_hidden": true
    }
   },
   "outputs": [
    {
     "ename": "KeyError",
     "evalue": "\"['Open' 'High' 'Low' 'Volume '] not found in axis\"",
     "output_type": "error",
     "traceback": [
      "\u001b[1;31m---------------------------------------------------------------------------\u001b[0m",
      "\u001b[1;31mKeyError\u001b[0m                                  Traceback (most recent call last)",
      "\u001b[1;32m<ipython-input-13-62d50b3dd5f1>\u001b[0m in \u001b[0;36m<module>\u001b[1;34m\u001b[0m\n\u001b[1;32m----> 1\u001b[1;33m \u001b[0mdata\u001b[0m\u001b[1;33m=\u001b[0m\u001b[0mdata\u001b[0m\u001b[1;33m.\u001b[0m\u001b[0mdrop\u001b[0m\u001b[1;33m(\u001b[0m\u001b[1;33m[\u001b[0m\u001b[1;34m'Open'\u001b[0m\u001b[1;33m,\u001b[0m\u001b[1;34m'High'\u001b[0m\u001b[1;33m,\u001b[0m\u001b[1;34m'Low'\u001b[0m\u001b[1;33m,\u001b[0m\u001b[1;34m'Volume '\u001b[0m\u001b[1;33m]\u001b[0m\u001b[1;33m,\u001b[0m\u001b[0maxis\u001b[0m\u001b[1;33m=\u001b[0m\u001b[1;36m1\u001b[0m\u001b[1;33m)\u001b[0m\u001b[1;33m.\u001b[0m\u001b[0mhead\u001b[0m\u001b[1;33m(\u001b[0m\u001b[1;33m)\u001b[0m\u001b[1;33m\u001b[0m\u001b[1;33m\u001b[0m\u001b[0m\n\u001b[0m",
      "\u001b[1;32mD:\\Anaconda\\lib\\site-packages\\pandas\\core\\frame.py\u001b[0m in \u001b[0;36mdrop\u001b[1;34m(self, labels, axis, index, columns, level, inplace, errors)\u001b[0m\n\u001b[0;32m   3995\u001b[0m             \u001b[0mlevel\u001b[0m\u001b[1;33m=\u001b[0m\u001b[0mlevel\u001b[0m\u001b[1;33m,\u001b[0m\u001b[1;33m\u001b[0m\u001b[1;33m\u001b[0m\u001b[0m\n\u001b[0;32m   3996\u001b[0m             \u001b[0minplace\u001b[0m\u001b[1;33m=\u001b[0m\u001b[0minplace\u001b[0m\u001b[1;33m,\u001b[0m\u001b[1;33m\u001b[0m\u001b[1;33m\u001b[0m\u001b[0m\n\u001b[1;32m-> 3997\u001b[1;33m             \u001b[0merrors\u001b[0m\u001b[1;33m=\u001b[0m\u001b[0merrors\u001b[0m\u001b[1;33m,\u001b[0m\u001b[1;33m\u001b[0m\u001b[1;33m\u001b[0m\u001b[0m\n\u001b[0m\u001b[0;32m   3998\u001b[0m         )\n\u001b[0;32m   3999\u001b[0m \u001b[1;33m\u001b[0m\u001b[0m\n",
      "\u001b[1;32mD:\\Anaconda\\lib\\site-packages\\pandas\\core\\generic.py\u001b[0m in \u001b[0;36mdrop\u001b[1;34m(self, labels, axis, index, columns, level, inplace, errors)\u001b[0m\n\u001b[0;32m   3934\u001b[0m         \u001b[1;32mfor\u001b[0m \u001b[0maxis\u001b[0m\u001b[1;33m,\u001b[0m \u001b[0mlabels\u001b[0m \u001b[1;32min\u001b[0m \u001b[0maxes\u001b[0m\u001b[1;33m.\u001b[0m\u001b[0mitems\u001b[0m\u001b[1;33m(\u001b[0m\u001b[1;33m)\u001b[0m\u001b[1;33m:\u001b[0m\u001b[1;33m\u001b[0m\u001b[1;33m\u001b[0m\u001b[0m\n\u001b[0;32m   3935\u001b[0m             \u001b[1;32mif\u001b[0m \u001b[0mlabels\u001b[0m \u001b[1;32mis\u001b[0m \u001b[1;32mnot\u001b[0m \u001b[1;32mNone\u001b[0m\u001b[1;33m:\u001b[0m\u001b[1;33m\u001b[0m\u001b[1;33m\u001b[0m\u001b[0m\n\u001b[1;32m-> 3936\u001b[1;33m                 \u001b[0mobj\u001b[0m \u001b[1;33m=\u001b[0m \u001b[0mobj\u001b[0m\u001b[1;33m.\u001b[0m\u001b[0m_drop_axis\u001b[0m\u001b[1;33m(\u001b[0m\u001b[0mlabels\u001b[0m\u001b[1;33m,\u001b[0m \u001b[0maxis\u001b[0m\u001b[1;33m,\u001b[0m \u001b[0mlevel\u001b[0m\u001b[1;33m=\u001b[0m\u001b[0mlevel\u001b[0m\u001b[1;33m,\u001b[0m \u001b[0merrors\u001b[0m\u001b[1;33m=\u001b[0m\u001b[0merrors\u001b[0m\u001b[1;33m)\u001b[0m\u001b[1;33m\u001b[0m\u001b[1;33m\u001b[0m\u001b[0m\n\u001b[0m\u001b[0;32m   3937\u001b[0m \u001b[1;33m\u001b[0m\u001b[0m\n\u001b[0;32m   3938\u001b[0m         \u001b[1;32mif\u001b[0m \u001b[0minplace\u001b[0m\u001b[1;33m:\u001b[0m\u001b[1;33m\u001b[0m\u001b[1;33m\u001b[0m\u001b[0m\n",
      "\u001b[1;32mD:\\Anaconda\\lib\\site-packages\\pandas\\core\\generic.py\u001b[0m in \u001b[0;36m_drop_axis\u001b[1;34m(self, labels, axis, level, errors)\u001b[0m\n\u001b[0;32m   3968\u001b[0m                 \u001b[0mnew_axis\u001b[0m \u001b[1;33m=\u001b[0m \u001b[0maxis\u001b[0m\u001b[1;33m.\u001b[0m\u001b[0mdrop\u001b[0m\u001b[1;33m(\u001b[0m\u001b[0mlabels\u001b[0m\u001b[1;33m,\u001b[0m \u001b[0mlevel\u001b[0m\u001b[1;33m=\u001b[0m\u001b[0mlevel\u001b[0m\u001b[1;33m,\u001b[0m \u001b[0merrors\u001b[0m\u001b[1;33m=\u001b[0m\u001b[0merrors\u001b[0m\u001b[1;33m)\u001b[0m\u001b[1;33m\u001b[0m\u001b[1;33m\u001b[0m\u001b[0m\n\u001b[0;32m   3969\u001b[0m             \u001b[1;32melse\u001b[0m\u001b[1;33m:\u001b[0m\u001b[1;33m\u001b[0m\u001b[1;33m\u001b[0m\u001b[0m\n\u001b[1;32m-> 3970\u001b[1;33m                 \u001b[0mnew_axis\u001b[0m \u001b[1;33m=\u001b[0m \u001b[0maxis\u001b[0m\u001b[1;33m.\u001b[0m\u001b[0mdrop\u001b[0m\u001b[1;33m(\u001b[0m\u001b[0mlabels\u001b[0m\u001b[1;33m,\u001b[0m \u001b[0merrors\u001b[0m\u001b[1;33m=\u001b[0m\u001b[0merrors\u001b[0m\u001b[1;33m)\u001b[0m\u001b[1;33m\u001b[0m\u001b[1;33m\u001b[0m\u001b[0m\n\u001b[0m\u001b[0;32m   3971\u001b[0m             \u001b[0mresult\u001b[0m \u001b[1;33m=\u001b[0m \u001b[0mself\u001b[0m\u001b[1;33m.\u001b[0m\u001b[0mreindex\u001b[0m\u001b[1;33m(\u001b[0m\u001b[1;33m**\u001b[0m\u001b[1;33m{\u001b[0m\u001b[0maxis_name\u001b[0m\u001b[1;33m:\u001b[0m \u001b[0mnew_axis\u001b[0m\u001b[1;33m}\u001b[0m\u001b[1;33m)\u001b[0m\u001b[1;33m\u001b[0m\u001b[1;33m\u001b[0m\u001b[0m\n\u001b[0;32m   3972\u001b[0m \u001b[1;33m\u001b[0m\u001b[0m\n",
      "\u001b[1;32mD:\\Anaconda\\lib\\site-packages\\pandas\\core\\indexes\\base.py\u001b[0m in \u001b[0;36mdrop\u001b[1;34m(self, labels, errors)\u001b[0m\n\u001b[0;32m   5015\u001b[0m         \u001b[1;32mif\u001b[0m \u001b[0mmask\u001b[0m\u001b[1;33m.\u001b[0m\u001b[0many\u001b[0m\u001b[1;33m(\u001b[0m\u001b[1;33m)\u001b[0m\u001b[1;33m:\u001b[0m\u001b[1;33m\u001b[0m\u001b[1;33m\u001b[0m\u001b[0m\n\u001b[0;32m   5016\u001b[0m             \u001b[1;32mif\u001b[0m \u001b[0merrors\u001b[0m \u001b[1;33m!=\u001b[0m \u001b[1;34m\"ignore\"\u001b[0m\u001b[1;33m:\u001b[0m\u001b[1;33m\u001b[0m\u001b[1;33m\u001b[0m\u001b[0m\n\u001b[1;32m-> 5017\u001b[1;33m                 \u001b[1;32mraise\u001b[0m \u001b[0mKeyError\u001b[0m\u001b[1;33m(\u001b[0m\u001b[1;34mf\"{labels[mask]} not found in axis\"\u001b[0m\u001b[1;33m)\u001b[0m\u001b[1;33m\u001b[0m\u001b[1;33m\u001b[0m\u001b[0m\n\u001b[0m\u001b[0;32m   5018\u001b[0m             \u001b[0mindexer\u001b[0m \u001b[1;33m=\u001b[0m \u001b[0mindexer\u001b[0m\u001b[1;33m[\u001b[0m\u001b[1;33m~\u001b[0m\u001b[0mmask\u001b[0m\u001b[1;33m]\u001b[0m\u001b[1;33m\u001b[0m\u001b[1;33m\u001b[0m\u001b[0m\n\u001b[0;32m   5019\u001b[0m         \u001b[1;32mreturn\u001b[0m \u001b[0mself\u001b[0m\u001b[1;33m.\u001b[0m\u001b[0mdelete\u001b[0m\u001b[1;33m(\u001b[0m\u001b[0mindexer\u001b[0m\u001b[1;33m)\u001b[0m\u001b[1;33m\u001b[0m\u001b[1;33m\u001b[0m\u001b[0m\n",
      "\u001b[1;31mKeyError\u001b[0m: \"['Open' 'High' 'Low' 'Volume '] not found in axis\""
     ]
    }
   ],
   "source": [
    "data=data.drop(['Open','High','Low','Volume '],axis=1)"
   ]
  },
  {
   "cell_type": "code",
   "execution_count": 14,
   "metadata": {
    "execution": {
     "iopub.execute_input": "2020-07-01T08:10:18.488298Z",
     "iopub.status.busy": "2020-07-01T08:10:18.488298Z",
     "iopub.status.idle": "2020-07-01T08:10:18.499270Z",
     "shell.execute_reply": "2020-07-01T08:10:18.498310Z",
     "shell.execute_reply.started": "2020-07-01T08:10:18.488298Z"
    }
   },
   "outputs": [
    {
     "data": {
      "text/html": [
       "<div>\n",
       "<style scoped>\n",
       "    .dataframe tbody tr th:only-of-type {\n",
       "        vertical-align: middle;\n",
       "    }\n",
       "\n",
       "    .dataframe tbody tr th {\n",
       "        vertical-align: top;\n",
       "    }\n",
       "\n",
       "    .dataframe thead th {\n",
       "        text-align: right;\n",
       "    }\n",
       "</style>\n",
       "<table border=\"1\" class=\"dataframe\">\n",
       "  <thead>\n",
       "    <tr style=\"text-align: right;\">\n",
       "      <th></th>\n",
       "      <th>Time (UTC)</th>\n",
       "      <th>Close</th>\n",
       "    </tr>\n",
       "  </thead>\n",
       "  <tbody>\n",
       "    <tr>\n",
       "      <th>0</th>\n",
       "      <td>2010.01.01 00:00:00</td>\n",
       "      <td>1.43267</td>\n",
       "    </tr>\n",
       "    <tr>\n",
       "      <th>1</th>\n",
       "      <td>2010.01.01 00:01:00</td>\n",
       "      <td>1.43284</td>\n",
       "    </tr>\n",
       "    <tr>\n",
       "      <th>2</th>\n",
       "      <td>2010.01.01 00:02:00</td>\n",
       "      <td>1.43280</td>\n",
       "    </tr>\n",
       "    <tr>\n",
       "      <th>3</th>\n",
       "      <td>2010.01.01 00:03:00</td>\n",
       "      <td>1.43273</td>\n",
       "    </tr>\n",
       "    <tr>\n",
       "      <th>4</th>\n",
       "      <td>2010.01.01 00:04:00</td>\n",
       "      <td>1.43277</td>\n",
       "    </tr>\n",
       "  </tbody>\n",
       "</table>\n",
       "</div>"
      ],
      "text/plain": [
       "            Time (UTC)    Close\n",
       "0  2010.01.01 00:00:00  1.43267\n",
       "1  2010.01.01 00:01:00  1.43284\n",
       "2  2010.01.01 00:02:00  1.43280\n",
       "3  2010.01.01 00:03:00  1.43273\n",
       "4  2010.01.01 00:04:00  1.43277"
      ]
     },
     "execution_count": 14,
     "metadata": {},
     "output_type": "execute_result"
    }
   ],
   "source": [
    "data.head()"
   ]
  },
  {
   "cell_type": "code",
   "execution_count": 20,
   "metadata": {
    "execution": {
     "iopub.execute_input": "2020-07-01T08:12:08.875752Z",
     "iopub.status.busy": "2020-07-01T08:12:08.874754Z",
     "iopub.status.idle": "2020-07-01T08:12:08.958537Z",
     "shell.execute_reply": "2020-07-01T08:12:08.957542Z",
     "shell.execute_reply.started": "2020-07-01T08:12:08.875752Z"
    }
   },
   "outputs": [],
   "source": [
    "data.rename(columns={'Time (UTC)':'date','Close':'price'},inplace=True)"
   ]
  },
  {
   "cell_type": "code",
   "execution_count": 21,
   "metadata": {
    "execution": {
     "iopub.execute_input": "2020-07-01T08:12:10.030723Z",
     "iopub.status.busy": "2020-07-01T08:12:10.030723Z",
     "iopub.status.idle": "2020-07-01T08:12:10.039698Z",
     "shell.execute_reply": "2020-07-01T08:12:10.038700Z",
     "shell.execute_reply.started": "2020-07-01T08:12:10.030723Z"
    }
   },
   "outputs": [
    {
     "data": {
      "text/html": [
       "<div>\n",
       "<style scoped>\n",
       "    .dataframe tbody tr th:only-of-type {\n",
       "        vertical-align: middle;\n",
       "    }\n",
       "\n",
       "    .dataframe tbody tr th {\n",
       "        vertical-align: top;\n",
       "    }\n",
       "\n",
       "    .dataframe thead th {\n",
       "        text-align: right;\n",
       "    }\n",
       "</style>\n",
       "<table border=\"1\" class=\"dataframe\">\n",
       "  <thead>\n",
       "    <tr style=\"text-align: right;\">\n",
       "      <th></th>\n",
       "      <th>date</th>\n",
       "      <th>price</th>\n",
       "    </tr>\n",
       "  </thead>\n",
       "  <tbody>\n",
       "    <tr>\n",
       "      <th>0</th>\n",
       "      <td>2010.01.01 00:00:00</td>\n",
       "      <td>1.43267</td>\n",
       "    </tr>\n",
       "    <tr>\n",
       "      <th>1</th>\n",
       "      <td>2010.01.01 00:01:00</td>\n",
       "      <td>1.43284</td>\n",
       "    </tr>\n",
       "    <tr>\n",
       "      <th>2</th>\n",
       "      <td>2010.01.01 00:02:00</td>\n",
       "      <td>1.43280</td>\n",
       "    </tr>\n",
       "    <tr>\n",
       "      <th>3</th>\n",
       "      <td>2010.01.01 00:03:00</td>\n",
       "      <td>1.43273</td>\n",
       "    </tr>\n",
       "    <tr>\n",
       "      <th>4</th>\n",
       "      <td>2010.01.01 00:04:00</td>\n",
       "      <td>1.43277</td>\n",
       "    </tr>\n",
       "  </tbody>\n",
       "</table>\n",
       "</div>"
      ],
      "text/plain": [
       "                  date    price\n",
       "0  2010.01.01 00:00:00  1.43267\n",
       "1  2010.01.01 00:01:00  1.43284\n",
       "2  2010.01.01 00:02:00  1.43280\n",
       "3  2010.01.01 00:03:00  1.43273\n",
       "4  2010.01.01 00:04:00  1.43277"
      ]
     },
     "execution_count": 21,
     "metadata": {},
     "output_type": "execute_result"
    }
   ],
   "source": [
    "data.head()"
   ]
  },
  {
   "cell_type": "code",
   "execution_count": 23,
   "metadata": {
    "execution": {
     "iopub.execute_input": "2020-07-01T08:13:03.429806Z",
     "iopub.status.busy": "2020-07-01T08:13:03.429806Z",
     "iopub.status.idle": "2020-07-01T08:13:03.504607Z",
     "shell.execute_reply": "2020-07-01T08:13:03.503610Z",
     "shell.execute_reply.started": "2020-07-01T08:13:03.429806Z"
    }
   },
   "outputs": [
    {
     "data": {
      "text/html": [
       "<div>\n",
       "<style scoped>\n",
       "    .dataframe tbody tr th:only-of-type {\n",
       "        vertical-align: middle;\n",
       "    }\n",
       "\n",
       "    .dataframe tbody tr th {\n",
       "        vertical-align: top;\n",
       "    }\n",
       "\n",
       "    .dataframe thead th {\n",
       "        text-align: right;\n",
       "    }\n",
       "</style>\n",
       "<table border=\"1\" class=\"dataframe\">\n",
       "  <thead>\n",
       "    <tr style=\"text-align: right;\">\n",
       "      <th></th>\n",
       "      <th>price</th>\n",
       "    </tr>\n",
       "    <tr>\n",
       "      <th>date</th>\n",
       "      <th></th>\n",
       "    </tr>\n",
       "  </thead>\n",
       "  <tbody>\n",
       "    <tr>\n",
       "      <th>2010.01.01 00:00:00</th>\n",
       "      <td>1.43267</td>\n",
       "    </tr>\n",
       "    <tr>\n",
       "      <th>2010.01.01 00:01:00</th>\n",
       "      <td>1.43284</td>\n",
       "    </tr>\n",
       "    <tr>\n",
       "      <th>2010.01.01 00:02:00</th>\n",
       "      <td>1.43280</td>\n",
       "    </tr>\n",
       "    <tr>\n",
       "      <th>2010.01.01 00:03:00</th>\n",
       "      <td>1.43273</td>\n",
       "    </tr>\n",
       "    <tr>\n",
       "      <th>2010.01.01 00:04:00</th>\n",
       "      <td>1.43277</td>\n",
       "    </tr>\n",
       "  </tbody>\n",
       "</table>\n",
       "</div>"
      ],
      "text/plain": [
       "                       price\n",
       "date                        \n",
       "2010.01.01 00:00:00  1.43267\n",
       "2010.01.01 00:01:00  1.43284\n",
       "2010.01.01 00:02:00  1.43280\n",
       "2010.01.01 00:03:00  1.43273\n",
       "2010.01.01 00:04:00  1.43277"
      ]
     },
     "execution_count": 23,
     "metadata": {},
     "output_type": "execute_result"
    }
   ],
   "source": [
    "data.set_index('date',drop=True,inplace=True)\n",
    "data.head()"
   ]
  },
  {
   "cell_type": "code",
   "execution_count": 24,
   "metadata": {
    "execution": {
     "iopub.execute_input": "2020-07-01T08:14:24.812486Z",
     "iopub.status.busy": "2020-07-01T08:14:24.811486Z",
     "iopub.status.idle": "2020-07-01T08:14:28.226656Z",
     "shell.execute_reply": "2020-07-01T08:14:28.226656Z",
     "shell.execute_reply.started": "2020-07-01T08:14:24.811486Z"
    }
   },
   "outputs": [
    {
     "data": {
      "text/html": [
       "<div>\n",
       "<style scoped>\n",
       "    .dataframe tbody tr th:only-of-type {\n",
       "        vertical-align: middle;\n",
       "    }\n",
       "\n",
       "    .dataframe tbody tr th {\n",
       "        vertical-align: top;\n",
       "    }\n",
       "\n",
       "    .dataframe thead th {\n",
       "        text-align: right;\n",
       "    }\n",
       "</style>\n",
       "<table border=\"1\" class=\"dataframe\">\n",
       "  <thead>\n",
       "    <tr style=\"text-align: right;\">\n",
       "      <th></th>\n",
       "      <th>price</th>\n",
       "    </tr>\n",
       "    <tr>\n",
       "      <th>date</th>\n",
       "      <th></th>\n",
       "    </tr>\n",
       "  </thead>\n",
       "  <tbody>\n",
       "    <tr>\n",
       "      <th>2010-01-01 00:00:00</th>\n",
       "      <td>1.43267</td>\n",
       "    </tr>\n",
       "    <tr>\n",
       "      <th>2010-01-01 00:01:00</th>\n",
       "      <td>1.43284</td>\n",
       "    </tr>\n",
       "    <tr>\n",
       "      <th>2010-01-01 00:02:00</th>\n",
       "      <td>1.43280</td>\n",
       "    </tr>\n",
       "    <tr>\n",
       "      <th>2010-01-01 00:03:00</th>\n",
       "      <td>1.43273</td>\n",
       "    </tr>\n",
       "    <tr>\n",
       "      <th>2010-01-01 00:04:00</th>\n",
       "      <td>1.43277</td>\n",
       "    </tr>\n",
       "  </tbody>\n",
       "</table>\n",
       "</div>"
      ],
      "text/plain": [
       "                       price\n",
       "date                        \n",
       "2010-01-01 00:00:00  1.43267\n",
       "2010-01-01 00:01:00  1.43284\n",
       "2010-01-01 00:02:00  1.43280\n",
       "2010-01-01 00:03:00  1.43273\n",
       "2010-01-01 00:04:00  1.43277"
      ]
     },
     "execution_count": 24,
     "metadata": {},
     "output_type": "execute_result"
    }
   ],
   "source": [
    "data.index=pd.to_datetime(data.index)\n",
    "data.head()"
   ]
  },
  {
   "cell_type": "code",
   "execution_count": 25,
   "metadata": {
    "execution": {
     "iopub.execute_input": "2020-07-01T08:27:40.846445Z",
     "iopub.status.busy": "2020-07-01T08:27:40.846445Z",
     "iopub.status.idle": "2020-07-01T08:27:41.432067Z",
     "shell.execute_reply": "2020-07-01T08:27:41.432067Z",
     "shell.execute_reply.started": "2020-07-01T08:27:40.846445Z"
    }
   },
   "outputs": [
    {
     "data": {
      "text/html": [
       "<div>\n",
       "<style scoped>\n",
       "    .dataframe tbody tr th:only-of-type {\n",
       "        vertical-align: middle;\n",
       "    }\n",
       "\n",
       "    .dataframe tbody tr th {\n",
       "        vertical-align: top;\n",
       "    }\n",
       "\n",
       "    .dataframe thead th {\n",
       "        text-align: right;\n",
       "    }\n",
       "</style>\n",
       "<table border=\"1\" class=\"dataframe\">\n",
       "  <thead>\n",
       "    <tr style=\"text-align: right;\">\n",
       "      <th></th>\n",
       "      <th>price</th>\n",
       "    </tr>\n",
       "    <tr>\n",
       "      <th>date</th>\n",
       "      <th></th>\n",
       "    </tr>\n",
       "  </thead>\n",
       "  <tbody>\n",
       "    <tr>\n",
       "      <th>2019-11-29 00:00:00</th>\n",
       "      <td>1.10112</td>\n",
       "    </tr>\n",
       "    <tr>\n",
       "      <th>2019-11-29 00:01:00</th>\n",
       "      <td>1.10109</td>\n",
       "    </tr>\n",
       "    <tr>\n",
       "      <th>2019-11-29 00:02:00</th>\n",
       "      <td>1.10107</td>\n",
       "    </tr>\n",
       "    <tr>\n",
       "      <th>2019-11-29 00:03:00</th>\n",
       "      <td>1.10108</td>\n",
       "    </tr>\n",
       "    <tr>\n",
       "      <th>2019-11-29 00:04:00</th>\n",
       "      <td>1.10108</td>\n",
       "    </tr>\n",
       "  </tbody>\n",
       "</table>\n",
       "</div>"
      ],
      "text/plain": [
       "                       price\n",
       "date                        \n",
       "2019-11-29 00:00:00  1.10112\n",
       "2019-11-29 00:01:00  1.10109\n",
       "2019-11-29 00:02:00  1.10107\n",
       "2019-11-29 00:03:00  1.10108\n",
       "2019-11-29 00:04:00  1.10108"
      ]
     },
     "execution_count": 25,
     "metadata": {},
     "output_type": "execute_result"
    }
   ],
   "source": [
    "#截取需要的数据，分析一下2019-11-29至2019-12-31的一段上涨行情，其实是满 H4的金叉行情\n",
    "data_1=data['2019-11-29':'2020-1-1']\n",
    "data_1.head()"
   ]
  },
  {
   "cell_type": "code",
   "execution_count": 26,
   "metadata": {
    "execution": {
     "iopub.execute_input": "2020-07-01T08:27:58.819849Z",
     "iopub.status.busy": "2020-07-01T08:27:58.818852Z",
     "iopub.status.idle": "2020-07-01T08:27:58.837801Z",
     "shell.execute_reply": "2020-07-01T08:27:58.836804Z",
     "shell.execute_reply.started": "2020-07-01T08:27:58.819849Z"
    }
   },
   "outputs": [
    {
     "name": "stdout",
     "output_type": "stream",
     "text": [
      "<class 'pandas.core.frame.DataFrame'>\n",
      "DatetimeIndex: 32280 entries, 2019-11-29 00:00:00 to 2020-01-01 23:59:00\n",
      "Data columns (total 1 columns):\n",
      " #   Column  Non-Null Count  Dtype  \n",
      "---  ------  --------------  -----  \n",
      " 0   price   32280 non-null  float64\n",
      "dtypes: float64(1)\n",
      "memory usage: 504.4 KB\n"
     ]
    }
   ],
   "source": [
    "data_1.info()"
   ]
  },
  {
   "cell_type": "code",
   "execution_count": 27,
   "metadata": {
    "execution": {
     "iopub.execute_input": "2020-07-01T08:28:20.528575Z",
     "iopub.status.busy": "2020-07-01T08:28:20.528575Z",
     "iopub.status.idle": "2020-07-01T08:28:20.550515Z",
     "shell.execute_reply": "2020-07-01T08:28:20.549518Z",
     "shell.execute_reply.started": "2020-07-01T08:28:20.528575Z"
    }
   },
   "outputs": [
    {
     "data": {
      "text/html": [
       "<div>\n",
       "<style scoped>\n",
       "    .dataframe tbody tr th:only-of-type {\n",
       "        vertical-align: middle;\n",
       "    }\n",
       "\n",
       "    .dataframe tbody tr th {\n",
       "        vertical-align: top;\n",
       "    }\n",
       "\n",
       "    .dataframe thead th {\n",
       "        text-align: right;\n",
       "    }\n",
       "</style>\n",
       "<table border=\"1\" class=\"dataframe\">\n",
       "  <thead>\n",
       "    <tr style=\"text-align: right;\">\n",
       "      <th></th>\n",
       "      <th>price</th>\n",
       "    </tr>\n",
       "  </thead>\n",
       "  <tbody>\n",
       "    <tr>\n",
       "      <th>count</th>\n",
       "      <td>32280.000000</td>\n",
       "    </tr>\n",
       "    <tr>\n",
       "      <th>mean</th>\n",
       "      <td>1.110770</td>\n",
       "    </tr>\n",
       "    <tr>\n",
       "      <th>std</th>\n",
       "      <td>0.004884</td>\n",
       "    </tr>\n",
       "    <tr>\n",
       "      <th>min</th>\n",
       "      <td>1.098210</td>\n",
       "    </tr>\n",
       "    <tr>\n",
       "      <th>25%</th>\n",
       "      <td>1.107870</td>\n",
       "    </tr>\n",
       "    <tr>\n",
       "      <th>50%</th>\n",
       "      <td>1.109520</td>\n",
       "    </tr>\n",
       "    <tr>\n",
       "      <th>75%</th>\n",
       "      <td>1.113610</td>\n",
       "    </tr>\n",
       "    <tr>\n",
       "      <th>max</th>\n",
       "      <td>1.123890</td>\n",
       "    </tr>\n",
       "  </tbody>\n",
       "</table>\n",
       "</div>"
      ],
      "text/plain": [
       "              price\n",
       "count  32280.000000\n",
       "mean       1.110770\n",
       "std        0.004884\n",
       "min        1.098210\n",
       "25%        1.107870\n",
       "50%        1.109520\n",
       "75%        1.113610\n",
       "max        1.123890"
      ]
     },
     "execution_count": 27,
     "metadata": {},
     "output_type": "execute_result"
    }
   ],
   "source": [
    "data_1.describe()"
   ]
  },
  {
   "cell_type": "markdown",
   "metadata": {},
   "source": [
    "##### 数据整理完毕"
   ]
  },
  {
   "cell_type": "markdown",
   "metadata": {},
   "source": [
    "## 第二步，计算回测情况"
   ]
  },
  {
   "cell_type": "code",
   "execution_count": null,
   "metadata": {},
   "outputs": [],
   "source": [
    "## np.cumsum()累计求和\n",
    "## np.argmax()返回一个numpy数组中最大值的索引值\n",
    "## np.argmin()返回一个numpy数组中最小值的索引值"
   ]
  },
  {
   "cell_type": "code",
   "execution_count": 36,
   "metadata": {
    "execution": {
     "iopub.execute_input": "2020-07-01T12:59:19.712599Z",
     "iopub.status.busy": "2020-07-01T12:59:19.711632Z",
     "iopub.status.idle": "2020-07-01T12:59:19.728556Z",
     "shell.execute_reply": "2020-07-01T12:59:19.727559Z",
     "shell.execute_reply.started": "2020-07-01T12:59:19.712599Z"
    }
   },
   "outputs": [
    {
     "data": {
      "text/html": [
       "<div>\n",
       "<style scoped>\n",
       "    .dataframe tbody tr th:only-of-type {\n",
       "        vertical-align: middle;\n",
       "    }\n",
       "\n",
       "    .dataframe tbody tr th {\n",
       "        vertical-align: top;\n",
       "    }\n",
       "\n",
       "    .dataframe thead th {\n",
       "        text-align: right;\n",
       "    }\n",
       "</style>\n",
       "<table border=\"1\" class=\"dataframe\">\n",
       "  <thead>\n",
       "    <tr style=\"text-align: right;\">\n",
       "      <th></th>\n",
       "      <th>price</th>\n",
       "      <th>return</th>\n",
       "    </tr>\n",
       "    <tr>\n",
       "      <th>date</th>\n",
       "      <th></th>\n",
       "      <th></th>\n",
       "    </tr>\n",
       "  </thead>\n",
       "  <tbody>\n",
       "    <tr>\n",
       "      <th>2019-11-29 00:00:00</th>\n",
       "      <td>1.10112</td>\n",
       "      <td>NaN</td>\n",
       "    </tr>\n",
       "    <tr>\n",
       "      <th>2019-11-29 00:01:00</th>\n",
       "      <td>1.10109</td>\n",
       "      <td>-0.000027</td>\n",
       "    </tr>\n",
       "    <tr>\n",
       "      <th>2019-11-29 00:02:00</th>\n",
       "      <td>1.10107</td>\n",
       "      <td>-0.000018</td>\n",
       "    </tr>\n",
       "    <tr>\n",
       "      <th>2019-11-29 00:03:00</th>\n",
       "      <td>1.10108</td>\n",
       "      <td>0.000009</td>\n",
       "    </tr>\n",
       "    <tr>\n",
       "      <th>2019-11-29 00:04:00</th>\n",
       "      <td>1.10108</td>\n",
       "      <td>0.000000</td>\n",
       "    </tr>\n",
       "  </tbody>\n",
       "</table>\n",
       "</div>"
      ],
      "text/plain": [
       "                       price    return\n",
       "date                                  \n",
       "2019-11-29 00:00:00  1.10112       NaN\n",
       "2019-11-29 00:01:00  1.10109 -0.000027\n",
       "2019-11-29 00:02:00  1.10107 -0.000018\n",
       "2019-11-29 00:03:00  1.10108  0.000009\n",
       "2019-11-29 00:04:00  1.10108  0.000000"
      ]
     },
     "execution_count": 36,
     "metadata": {},
     "output_type": "execute_result"
    }
   ],
   "source": [
    "data_1['return']=np.log(data_1['price'] / data_1['price'].shift(1))\n",
    "data_1.head()"
   ]
  },
  {
   "cell_type": "code",
   "execution_count": 44,
   "metadata": {
    "execution": {
     "iopub.execute_input": "2020-07-01T13:11:30.929370Z",
     "iopub.status.busy": "2020-07-01T13:11:30.929370Z",
     "iopub.status.idle": "2020-07-01T13:11:30.935355Z",
     "shell.execute_reply": "2020-07-01T13:11:30.934388Z",
     "shell.execute_reply.started": "2020-07-01T13:11:30.929370Z"
    }
   },
   "outputs": [],
   "source": [
    "data_1.fillna(0,inplace=True)"
   ]
  },
  {
   "cell_type": "code",
   "execution_count": 45,
   "metadata": {
    "execution": {
     "iopub.execute_input": "2020-07-01T13:11:32.011654Z",
     "iopub.status.busy": "2020-07-01T13:11:32.011654Z",
     "iopub.status.idle": "2020-07-01T13:11:32.017602Z",
     "shell.execute_reply": "2020-07-01T13:11:32.017602Z",
     "shell.execute_reply.started": "2020-07-01T13:11:32.011654Z"
    }
   },
   "outputs": [
    {
     "data": {
      "text/plain": [
       "0.0"
      ]
     },
     "execution_count": 45,
     "metadata": {},
     "output_type": "execute_result"
    }
   ],
   "source": [
    "data_1.iloc[0,1]"
   ]
  },
  {
   "cell_type": "code",
   "execution_count": 46,
   "metadata": {
    "execution": {
     "iopub.execute_input": "2020-07-01T13:11:47.287184Z",
     "iopub.status.busy": "2020-07-01T13:11:47.287184Z",
     "iopub.status.idle": "2020-07-01T13:11:47.295188Z",
     "shell.execute_reply": "2020-07-01T13:11:47.294682Z",
     "shell.execute_reply.started": "2020-07-01T13:11:47.287184Z"
    }
   },
   "outputs": [
    {
     "data": {
      "text/html": [
       "<div>\n",
       "<style scoped>\n",
       "    .dataframe tbody tr th:only-of-type {\n",
       "        vertical-align: middle;\n",
       "    }\n",
       "\n",
       "    .dataframe tbody tr th {\n",
       "        vertical-align: top;\n",
       "    }\n",
       "\n",
       "    .dataframe thead th {\n",
       "        text-align: right;\n",
       "    }\n",
       "</style>\n",
       "<table border=\"1\" class=\"dataframe\">\n",
       "  <thead>\n",
       "    <tr style=\"text-align: right;\">\n",
       "      <th></th>\n",
       "      <th>price</th>\n",
       "      <th>return</th>\n",
       "    </tr>\n",
       "    <tr>\n",
       "      <th>date</th>\n",
       "      <th></th>\n",
       "      <th></th>\n",
       "    </tr>\n",
       "  </thead>\n",
       "  <tbody>\n",
       "    <tr>\n",
       "      <th>2019-11-29 00:00:00</th>\n",
       "      <td>1.10112</td>\n",
       "      <td>0.000000</td>\n",
       "    </tr>\n",
       "    <tr>\n",
       "      <th>2019-11-29 00:01:00</th>\n",
       "      <td>1.10109</td>\n",
       "      <td>-0.000027</td>\n",
       "    </tr>\n",
       "    <tr>\n",
       "      <th>2019-11-29 00:02:00</th>\n",
       "      <td>1.10107</td>\n",
       "      <td>-0.000018</td>\n",
       "    </tr>\n",
       "    <tr>\n",
       "      <th>2019-11-29 00:03:00</th>\n",
       "      <td>1.10108</td>\n",
       "      <td>0.000009</td>\n",
       "    </tr>\n",
       "    <tr>\n",
       "      <th>2019-11-29 00:04:00</th>\n",
       "      <td>1.10108</td>\n",
       "      <td>0.000000</td>\n",
       "    </tr>\n",
       "  </tbody>\n",
       "</table>\n",
       "</div>"
      ],
      "text/plain": [
       "                       price    return\n",
       "date                                  \n",
       "2019-11-29 00:00:00  1.10112  0.000000\n",
       "2019-11-29 00:01:00  1.10109 -0.000027\n",
       "2019-11-29 00:02:00  1.10107 -0.000018\n",
       "2019-11-29 00:03:00  1.10108  0.000009\n",
       "2019-11-29 00:04:00  1.10108  0.000000"
      ]
     },
     "execution_count": 46,
     "metadata": {},
     "output_type": "execute_result"
    }
   ],
   "source": [
    "data_1.head()"
   ]
  },
  {
   "cell_type": "code",
   "execution_count": 48,
   "metadata": {
    "execution": {
     "iopub.execute_input": "2020-07-01T13:17:37.836824Z",
     "iopub.status.busy": "2020-07-01T13:17:37.835826Z",
     "iopub.status.idle": "2020-07-01T13:17:37.843805Z",
     "shell.execute_reply": "2020-07-01T13:17:37.842806Z",
     "shell.execute_reply.started": "2020-07-01T13:17:37.836824Z"
    }
   },
   "outputs": [],
   "source": [
    "#找到这段时间的最高点和最低点\n",
    "data_1['cumsum']=data_1['return'].cumsum().apply(np.exp)"
   ]
  },
  {
   "cell_type": "code",
   "execution_count": 49,
   "metadata": {
    "execution": {
     "iopub.execute_input": "2020-07-01T13:17:46.960359Z",
     "iopub.status.busy": "2020-07-01T13:17:46.960359Z",
     "iopub.status.idle": "2020-07-01T13:17:46.970360Z",
     "shell.execute_reply": "2020-07-01T13:17:46.970047Z",
     "shell.execute_reply.started": "2020-07-01T13:17:46.960359Z"
    }
   },
   "outputs": [
    {
     "data": {
      "text/html": [
       "<div>\n",
       "<style scoped>\n",
       "    .dataframe tbody tr th:only-of-type {\n",
       "        vertical-align: middle;\n",
       "    }\n",
       "\n",
       "    .dataframe tbody tr th {\n",
       "        vertical-align: top;\n",
       "    }\n",
       "\n",
       "    .dataframe thead th {\n",
       "        text-align: right;\n",
       "    }\n",
       "</style>\n",
       "<table border=\"1\" class=\"dataframe\">\n",
       "  <thead>\n",
       "    <tr style=\"text-align: right;\">\n",
       "      <th></th>\n",
       "      <th>price</th>\n",
       "      <th>return</th>\n",
       "      <th>cumsum</th>\n",
       "    </tr>\n",
       "    <tr>\n",
       "      <th>date</th>\n",
       "      <th></th>\n",
       "      <th></th>\n",
       "      <th></th>\n",
       "    </tr>\n",
       "  </thead>\n",
       "  <tbody>\n",
       "    <tr>\n",
       "      <th>2019-11-29 00:00:00</th>\n",
       "      <td>1.10112</td>\n",
       "      <td>0.000000</td>\n",
       "      <td>1.000000</td>\n",
       "    </tr>\n",
       "    <tr>\n",
       "      <th>2019-11-29 00:01:00</th>\n",
       "      <td>1.10109</td>\n",
       "      <td>-0.000027</td>\n",
       "      <td>0.999973</td>\n",
       "    </tr>\n",
       "    <tr>\n",
       "      <th>2019-11-29 00:02:00</th>\n",
       "      <td>1.10107</td>\n",
       "      <td>-0.000018</td>\n",
       "      <td>0.999955</td>\n",
       "    </tr>\n",
       "    <tr>\n",
       "      <th>2019-11-29 00:03:00</th>\n",
       "      <td>1.10108</td>\n",
       "      <td>0.000009</td>\n",
       "      <td>0.999964</td>\n",
       "    </tr>\n",
       "    <tr>\n",
       "      <th>2019-11-29 00:04:00</th>\n",
       "      <td>1.10108</td>\n",
       "      <td>0.000000</td>\n",
       "      <td>0.999964</td>\n",
       "    </tr>\n",
       "  </tbody>\n",
       "</table>\n",
       "</div>"
      ],
      "text/plain": [
       "                       price    return    cumsum\n",
       "date                                            \n",
       "2019-11-29 00:00:00  1.10112  0.000000  1.000000\n",
       "2019-11-29 00:01:00  1.10109 -0.000027  0.999973\n",
       "2019-11-29 00:02:00  1.10107 -0.000018  0.999955\n",
       "2019-11-29 00:03:00  1.10108  0.000009  0.999964\n",
       "2019-11-29 00:04:00  1.10108  0.000000  0.999964"
      ]
     },
     "execution_count": 49,
     "metadata": {},
     "output_type": "execute_result"
    }
   ],
   "source": [
    "data_1.head()"
   ]
  },
  {
   "cell_type": "markdown",
   "metadata": {},
   "source": [
    "从哪些角度去思考，从而抓住特征  \n",
    "1.空间，产生个几个高点；什么是高点，所谓的高点是一个一段时间内的price最大值；  \n",
    "2.该最高点维持的时间有多久；  \n",
    "3.跨度比较长的这段时间呢，价格经历了怎么样的曲折，又产生了怎么样的回撤；"
   ]
  },
  {
   "cell_type": "markdown",
   "metadata": {},
   "source": [
    "#### 1.找出该时段内的最高点和最低点"
   ]
  },
  {
   "cell_type": "code",
   "execution_count": 53,
   "metadata": {
    "execution": {
     "iopub.execute_input": "2020-07-01T13:26:20.743203Z",
     "iopub.status.busy": "2020-07-01T13:26:20.742205Z",
     "iopub.status.idle": "2020-07-01T13:26:20.748246Z",
     "shell.execute_reply": "2020-07-01T13:26:20.748246Z",
     "shell.execute_reply.started": "2020-07-01T13:26:20.742205Z"
    }
   },
   "outputs": [
    {
     "data": {
      "text/plain": [
       "0.99736"
      ]
     },
     "execution_count": 53,
     "metadata": {},
     "output_type": "execute_result"
    }
   ],
   "source": [
    "cumsum_min=data_1['cumsum'].min()    #最小值是多少\n",
    "round(cumsum_min,5)"
   ]
  },
  {
   "cell_type": "code",
   "execution_count": 54,
   "metadata": {
    "execution": {
     "iopub.execute_input": "2020-07-01T13:27:02.637611Z",
     "iopub.status.busy": "2020-07-01T13:27:02.636612Z",
     "iopub.status.idle": "2020-07-01T13:27:02.651572Z",
     "shell.execute_reply": "2020-07-01T13:27:02.649577Z",
     "shell.execute_reply.started": "2020-07-01T13:27:02.637611Z"
    }
   },
   "outputs": [
    {
     "data": {
      "text/plain": [
       "1.02068"
      ]
     },
     "execution_count": 54,
     "metadata": {},
     "output_type": "execute_result"
    }
   ],
   "source": [
    "cumsum_max=data_1['cumsum'].max()   #最大值是多少\n",
    "round(cumsum_max,5)"
   ]
  },
  {
   "cell_type": "code",
   "execution_count": null,
   "metadata": {},
   "outputs": [],
   "source": [
    "i="
   ]
  }
 ],
 "metadata": {
  "kernelspec": {
   "display_name": "Python 3",
   "language": "python",
   "name": "python3"
  },
  "language_info": {
   "codemirror_mode": {
    "name": "ipython",
    "version": 3
   },
   "file_extension": ".py",
   "mimetype": "text/x-python",
   "name": "python",
   "nbconvert_exporter": "python",
   "pygments_lexer": "ipython3",
   "version": "3.7.7"
  }
 },
 "nbformat": 4,
 "nbformat_minor": 4
}
