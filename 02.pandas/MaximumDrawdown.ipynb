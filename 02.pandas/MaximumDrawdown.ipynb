{
 "cells": [
  {
   "cell_type": "code",
   "execution_count": 2,
   "metadata": {
    "execution": {
     "iopub.execute_input": "2020-07-02T04:57:43.909678Z",
     "iopub.status.busy": "2020-07-02T04:57:43.909678Z",
     "iopub.status.idle": "2020-07-02T04:57:44.674811Z",
     "shell.execute_reply": "2020-07-02T04:57:44.674811Z",
     "shell.execute_reply.started": "2020-07-02T04:57:43.909678Z"
    }
   },
   "outputs": [],
   "source": [
    "import pandas as pd\n",
    "import numpy as np"
   ]
  },
  {
   "cell_type": "code",
   "execution_count": 3,
   "metadata": {
    "execution": {
     "iopub.execute_input": "2020-07-02T04:57:45.145552Z",
     "iopub.status.busy": "2020-07-02T04:57:45.145552Z",
     "iopub.status.idle": "2020-07-02T04:57:46.290489Z",
     "shell.execute_reply": "2020-07-02T04:57:46.289556Z",
     "shell.execute_reply.started": "2020-07-02T04:57:45.145552Z"
    }
   },
   "outputs": [],
   "source": [
    "%matplotlib inline\n",
    "import matplotlib.pyplot as plt\n",
    "import seaborn\n",
    "# plt.style.use('seaborn')             ggplot;\n",
    "import matplotlib as mpl\n",
    "mpl.rcParams['font.family'] = 'serif'               #解决一些字体显示乱码问题\n",
    "import warnings; warnings.simplefilter('ignore')       #忽略警告信息；"
   ]
  },
  {
   "cell_type": "markdown",
   "metadata": {},
   "source": [
    "## 第一步，准备数据"
   ]
  },
  {
   "cell_type": "code",
   "execution_count": 4,
   "metadata": {
    "execution": {
     "iopub.execute_input": "2020-07-02T04:57:47.576092Z",
     "iopub.status.busy": "2020-07-02T04:57:47.575094Z",
     "iopub.status.idle": "2020-07-02T04:57:51.837697Z",
     "shell.execute_reply": "2020-07-02T04:57:51.836697Z",
     "shell.execute_reply.started": "2020-07-02T04:57:47.576092Z"
    }
   },
   "outputs": [
    {
     "data": {
      "text/html": [
       "<div>\n",
       "<style scoped>\n",
       "    .dataframe tbody tr th:only-of-type {\n",
       "        vertical-align: middle;\n",
       "    }\n",
       "\n",
       "    .dataframe tbody tr th {\n",
       "        vertical-align: top;\n",
       "    }\n",
       "\n",
       "    .dataframe thead th {\n",
       "        text-align: right;\n",
       "    }\n",
       "</style>\n",
       "<table border=\"1\" class=\"dataframe\">\n",
       "  <thead>\n",
       "    <tr style=\"text-align: right;\">\n",
       "      <th></th>\n",
       "      <th>Time (UTC)</th>\n",
       "      <th>Open</th>\n",
       "      <th>High</th>\n",
       "      <th>Low</th>\n",
       "      <th>Close</th>\n",
       "      <th>Volume</th>\n",
       "    </tr>\n",
       "  </thead>\n",
       "  <tbody>\n",
       "    <tr>\n",
       "      <th>0</th>\n",
       "      <td>2010.01.01 00:00:00</td>\n",
       "      <td>1.43283</td>\n",
       "      <td>1.43283</td>\n",
       "      <td>1.43267</td>\n",
       "      <td>1.43267</td>\n",
       "      <td>74.3</td>\n",
       "    </tr>\n",
       "    <tr>\n",
       "      <th>1</th>\n",
       "      <td>2010.01.01 00:01:00</td>\n",
       "      <td>1.43268</td>\n",
       "      <td>1.43285</td>\n",
       "      <td>1.43268</td>\n",
       "      <td>1.43284</td>\n",
       "      <td>25.4</td>\n",
       "    </tr>\n",
       "    <tr>\n",
       "      <th>2</th>\n",
       "      <td>2010.01.01 00:02:00</td>\n",
       "      <td>1.43280</td>\n",
       "      <td>1.43280</td>\n",
       "      <td>1.43268</td>\n",
       "      <td>1.43280</td>\n",
       "      <td>30.9</td>\n",
       "    </tr>\n",
       "    <tr>\n",
       "      <th>3</th>\n",
       "      <td>2010.01.01 00:03:00</td>\n",
       "      <td>1.43280</td>\n",
       "      <td>1.43280</td>\n",
       "      <td>1.43268</td>\n",
       "      <td>1.43273</td>\n",
       "      <td>41.9</td>\n",
       "    </tr>\n",
       "    <tr>\n",
       "      <th>4</th>\n",
       "      <td>2010.01.01 00:04:00</td>\n",
       "      <td>1.43283</td>\n",
       "      <td>1.43283</td>\n",
       "      <td>1.43277</td>\n",
       "      <td>1.43277</td>\n",
       "      <td>53.8</td>\n",
       "    </tr>\n",
       "  </tbody>\n",
       "</table>\n",
       "</div>"
      ],
      "text/plain": [
       "            Time (UTC)     Open     High      Low    Close  Volume \n",
       "0  2010.01.01 00:00:00  1.43283  1.43283  1.43267  1.43267     74.3\n",
       "1  2010.01.01 00:01:00  1.43268  1.43285  1.43268  1.43284     25.4\n",
       "2  2010.01.01 00:02:00  1.43280  1.43280  1.43268  1.43280     30.9\n",
       "3  2010.01.01 00:03:00  1.43280  1.43280  1.43268  1.43273     41.9\n",
       "4  2010.01.01 00:04:00  1.43283  1.43283  1.43277  1.43277     53.8"
      ]
     },
     "execution_count": 4,
     "metadata": {},
     "output_type": "execute_result"
    }
   ],
   "source": [
    "data=pd.read_csv(r'D:\\Baiducloud\\12M8-202005\\1MIN\\EURUSD_M1.csv')\n",
    "data.head()"
   ]
  },
  {
   "cell_type": "code",
   "execution_count": 5,
   "metadata": {
    "execution": {
     "iopub.execute_input": "2020-07-02T04:57:51.839687Z",
     "iopub.status.busy": "2020-07-02T04:57:51.838690Z",
     "iopub.status.idle": "2020-07-02T04:57:51.910499Z",
     "shell.execute_reply": "2020-07-02T04:57:51.909500Z",
     "shell.execute_reply.started": "2020-07-02T04:57:51.839687Z"
    }
   },
   "outputs": [],
   "source": [
    "data=data.drop(['Open','High','Low','Volume '],axis=1)"
   ]
  },
  {
   "cell_type": "code",
   "execution_count": 6,
   "metadata": {
    "execution": {
     "iopub.execute_input": "2020-07-02T04:57:51.913491Z",
     "iopub.status.busy": "2020-07-02T04:57:51.912502Z",
     "iopub.status.idle": "2020-07-02T04:57:51.924461Z",
     "shell.execute_reply": "2020-07-02T04:57:51.923464Z",
     "shell.execute_reply.started": "2020-07-02T04:57:51.913491Z"
    }
   },
   "outputs": [
    {
     "data": {
      "text/html": [
       "<div>\n",
       "<style scoped>\n",
       "    .dataframe tbody tr th:only-of-type {\n",
       "        vertical-align: middle;\n",
       "    }\n",
       "\n",
       "    .dataframe tbody tr th {\n",
       "        vertical-align: top;\n",
       "    }\n",
       "\n",
       "    .dataframe thead th {\n",
       "        text-align: right;\n",
       "    }\n",
       "</style>\n",
       "<table border=\"1\" class=\"dataframe\">\n",
       "  <thead>\n",
       "    <tr style=\"text-align: right;\">\n",
       "      <th></th>\n",
       "      <th>Time (UTC)</th>\n",
       "      <th>Close</th>\n",
       "    </tr>\n",
       "  </thead>\n",
       "  <tbody>\n",
       "    <tr>\n",
       "      <th>0</th>\n",
       "      <td>2010.01.01 00:00:00</td>\n",
       "      <td>1.43267</td>\n",
       "    </tr>\n",
       "    <tr>\n",
       "      <th>1</th>\n",
       "      <td>2010.01.01 00:01:00</td>\n",
       "      <td>1.43284</td>\n",
       "    </tr>\n",
       "    <tr>\n",
       "      <th>2</th>\n",
       "      <td>2010.01.01 00:02:00</td>\n",
       "      <td>1.43280</td>\n",
       "    </tr>\n",
       "    <tr>\n",
       "      <th>3</th>\n",
       "      <td>2010.01.01 00:03:00</td>\n",
       "      <td>1.43273</td>\n",
       "    </tr>\n",
       "    <tr>\n",
       "      <th>4</th>\n",
       "      <td>2010.01.01 00:04:00</td>\n",
       "      <td>1.43277</td>\n",
       "    </tr>\n",
       "  </tbody>\n",
       "</table>\n",
       "</div>"
      ],
      "text/plain": [
       "            Time (UTC)    Close\n",
       "0  2010.01.01 00:00:00  1.43267\n",
       "1  2010.01.01 00:01:00  1.43284\n",
       "2  2010.01.01 00:02:00  1.43280\n",
       "3  2010.01.01 00:03:00  1.43273\n",
       "4  2010.01.01 00:04:00  1.43277"
      ]
     },
     "execution_count": 6,
     "metadata": {},
     "output_type": "execute_result"
    }
   ],
   "source": [
    "data.head()"
   ]
  },
  {
   "cell_type": "code",
   "execution_count": 7,
   "metadata": {
    "execution": {
     "iopub.execute_input": "2020-07-02T04:57:54.009928Z",
     "iopub.status.busy": "2020-07-02T04:57:54.008931Z",
     "iopub.status.idle": "2020-07-02T04:57:54.056838Z",
     "shell.execute_reply": "2020-07-02T04:57:54.056838Z",
     "shell.execute_reply.started": "2020-07-02T04:57:54.009928Z"
    }
   },
   "outputs": [],
   "source": [
    "data.rename(columns={'Time (UTC)':'date','Close':'price'},inplace=True)"
   ]
  },
  {
   "cell_type": "code",
   "execution_count": 8,
   "metadata": {
    "execution": {
     "iopub.execute_input": "2020-07-02T04:57:54.920494Z",
     "iopub.status.busy": "2020-07-02T04:57:54.920494Z",
     "iopub.status.idle": "2020-07-02T04:57:54.930466Z",
     "shell.execute_reply": "2020-07-02T04:57:54.929469Z",
     "shell.execute_reply.started": "2020-07-02T04:57:54.920494Z"
    }
   },
   "outputs": [
    {
     "data": {
      "text/html": [
       "<div>\n",
       "<style scoped>\n",
       "    .dataframe tbody tr th:only-of-type {\n",
       "        vertical-align: middle;\n",
       "    }\n",
       "\n",
       "    .dataframe tbody tr th {\n",
       "        vertical-align: top;\n",
       "    }\n",
       "\n",
       "    .dataframe thead th {\n",
       "        text-align: right;\n",
       "    }\n",
       "</style>\n",
       "<table border=\"1\" class=\"dataframe\">\n",
       "  <thead>\n",
       "    <tr style=\"text-align: right;\">\n",
       "      <th></th>\n",
       "      <th>date</th>\n",
       "      <th>price</th>\n",
       "    </tr>\n",
       "  </thead>\n",
       "  <tbody>\n",
       "    <tr>\n",
       "      <th>0</th>\n",
       "      <td>2010.01.01 00:00:00</td>\n",
       "      <td>1.43267</td>\n",
       "    </tr>\n",
       "    <tr>\n",
       "      <th>1</th>\n",
       "      <td>2010.01.01 00:01:00</td>\n",
       "      <td>1.43284</td>\n",
       "    </tr>\n",
       "    <tr>\n",
       "      <th>2</th>\n",
       "      <td>2010.01.01 00:02:00</td>\n",
       "      <td>1.43280</td>\n",
       "    </tr>\n",
       "    <tr>\n",
       "      <th>3</th>\n",
       "      <td>2010.01.01 00:03:00</td>\n",
       "      <td>1.43273</td>\n",
       "    </tr>\n",
       "    <tr>\n",
       "      <th>4</th>\n",
       "      <td>2010.01.01 00:04:00</td>\n",
       "      <td>1.43277</td>\n",
       "    </tr>\n",
       "  </tbody>\n",
       "</table>\n",
       "</div>"
      ],
      "text/plain": [
       "                  date    price\n",
       "0  2010.01.01 00:00:00  1.43267\n",
       "1  2010.01.01 00:01:00  1.43284\n",
       "2  2010.01.01 00:02:00  1.43280\n",
       "3  2010.01.01 00:03:00  1.43273\n",
       "4  2010.01.01 00:04:00  1.43277"
      ]
     },
     "execution_count": 8,
     "metadata": {},
     "output_type": "execute_result"
    }
   ],
   "source": [
    "data.head()"
   ]
  },
  {
   "cell_type": "code",
   "execution_count": 9,
   "metadata": {
    "execution": {
     "iopub.execute_input": "2020-07-02T04:57:57.260896Z",
     "iopub.status.busy": "2020-07-02T04:57:57.260896Z",
     "iopub.status.idle": "2020-07-02T04:57:57.341679Z",
     "shell.execute_reply": "2020-07-02T04:57:57.340682Z",
     "shell.execute_reply.started": "2020-07-02T04:57:57.260896Z"
    }
   },
   "outputs": [
    {
     "data": {
      "text/html": [
       "<div>\n",
       "<style scoped>\n",
       "    .dataframe tbody tr th:only-of-type {\n",
       "        vertical-align: middle;\n",
       "    }\n",
       "\n",
       "    .dataframe tbody tr th {\n",
       "        vertical-align: top;\n",
       "    }\n",
       "\n",
       "    .dataframe thead th {\n",
       "        text-align: right;\n",
       "    }\n",
       "</style>\n",
       "<table border=\"1\" class=\"dataframe\">\n",
       "  <thead>\n",
       "    <tr style=\"text-align: right;\">\n",
       "      <th></th>\n",
       "      <th>price</th>\n",
       "    </tr>\n",
       "    <tr>\n",
       "      <th>date</th>\n",
       "      <th></th>\n",
       "    </tr>\n",
       "  </thead>\n",
       "  <tbody>\n",
       "    <tr>\n",
       "      <th>2010.01.01 00:00:00</th>\n",
       "      <td>1.43267</td>\n",
       "    </tr>\n",
       "    <tr>\n",
       "      <th>2010.01.01 00:01:00</th>\n",
       "      <td>1.43284</td>\n",
       "    </tr>\n",
       "    <tr>\n",
       "      <th>2010.01.01 00:02:00</th>\n",
       "      <td>1.43280</td>\n",
       "    </tr>\n",
       "    <tr>\n",
       "      <th>2010.01.01 00:03:00</th>\n",
       "      <td>1.43273</td>\n",
       "    </tr>\n",
       "    <tr>\n",
       "      <th>2010.01.01 00:04:00</th>\n",
       "      <td>1.43277</td>\n",
       "    </tr>\n",
       "  </tbody>\n",
       "</table>\n",
       "</div>"
      ],
      "text/plain": [
       "                       price\n",
       "date                        \n",
       "2010.01.01 00:00:00  1.43267\n",
       "2010.01.01 00:01:00  1.43284\n",
       "2010.01.01 00:02:00  1.43280\n",
       "2010.01.01 00:03:00  1.43273\n",
       "2010.01.01 00:04:00  1.43277"
      ]
     },
     "execution_count": 9,
     "metadata": {},
     "output_type": "execute_result"
    }
   ],
   "source": [
    "data.set_index('date',drop=True,inplace=True)\n",
    "data.head()"
   ]
  },
  {
   "cell_type": "code",
   "execution_count": 10,
   "metadata": {
    "execution": {
     "iopub.execute_input": "2020-07-02T04:58:00.284806Z",
     "iopub.status.busy": "2020-07-02T04:58:00.284806Z",
     "iopub.status.idle": "2020-07-02T04:58:03.680687Z",
     "shell.execute_reply": "2020-07-02T04:58:03.679690Z",
     "shell.execute_reply.started": "2020-07-02T04:58:00.284806Z"
    }
   },
   "outputs": [
    {
     "data": {
      "text/html": [
       "<div>\n",
       "<style scoped>\n",
       "    .dataframe tbody tr th:only-of-type {\n",
       "        vertical-align: middle;\n",
       "    }\n",
       "\n",
       "    .dataframe tbody tr th {\n",
       "        vertical-align: top;\n",
       "    }\n",
       "\n",
       "    .dataframe thead th {\n",
       "        text-align: right;\n",
       "    }\n",
       "</style>\n",
       "<table border=\"1\" class=\"dataframe\">\n",
       "  <thead>\n",
       "    <tr style=\"text-align: right;\">\n",
       "      <th></th>\n",
       "      <th>price</th>\n",
       "    </tr>\n",
       "    <tr>\n",
       "      <th>date</th>\n",
       "      <th></th>\n",
       "    </tr>\n",
       "  </thead>\n",
       "  <tbody>\n",
       "    <tr>\n",
       "      <th>2010-01-01 00:00:00</th>\n",
       "      <td>1.43267</td>\n",
       "    </tr>\n",
       "    <tr>\n",
       "      <th>2010-01-01 00:01:00</th>\n",
       "      <td>1.43284</td>\n",
       "    </tr>\n",
       "    <tr>\n",
       "      <th>2010-01-01 00:02:00</th>\n",
       "      <td>1.43280</td>\n",
       "    </tr>\n",
       "    <tr>\n",
       "      <th>2010-01-01 00:03:00</th>\n",
       "      <td>1.43273</td>\n",
       "    </tr>\n",
       "    <tr>\n",
       "      <th>2010-01-01 00:04:00</th>\n",
       "      <td>1.43277</td>\n",
       "    </tr>\n",
       "  </tbody>\n",
       "</table>\n",
       "</div>"
      ],
      "text/plain": [
       "                       price\n",
       "date                        \n",
       "2010-01-01 00:00:00  1.43267\n",
       "2010-01-01 00:01:00  1.43284\n",
       "2010-01-01 00:02:00  1.43280\n",
       "2010-01-01 00:03:00  1.43273\n",
       "2010-01-01 00:04:00  1.43277"
      ]
     },
     "execution_count": 10,
     "metadata": {},
     "output_type": "execute_result"
    }
   ],
   "source": [
    "data.index=pd.to_datetime(data.index)\n",
    "data.head()"
   ]
  },
  {
   "cell_type": "code",
   "execution_count": 11,
   "metadata": {
    "execution": {
     "iopub.execute_input": "2020-07-02T04:58:07.778642Z",
     "iopub.status.busy": "2020-07-02T04:58:07.777641Z",
     "iopub.status.idle": "2020-07-02T04:58:08.372548Z",
     "shell.execute_reply": "2020-07-02T04:58:08.372548Z",
     "shell.execute_reply.started": "2020-07-02T04:58:07.778642Z"
    }
   },
   "outputs": [
    {
     "data": {
      "text/html": [
       "<div>\n",
       "<style scoped>\n",
       "    .dataframe tbody tr th:only-of-type {\n",
       "        vertical-align: middle;\n",
       "    }\n",
       "\n",
       "    .dataframe tbody tr th {\n",
       "        vertical-align: top;\n",
       "    }\n",
       "\n",
       "    .dataframe thead th {\n",
       "        text-align: right;\n",
       "    }\n",
       "</style>\n",
       "<table border=\"1\" class=\"dataframe\">\n",
       "  <thead>\n",
       "    <tr style=\"text-align: right;\">\n",
       "      <th></th>\n",
       "      <th>price</th>\n",
       "    </tr>\n",
       "    <tr>\n",
       "      <th>date</th>\n",
       "      <th></th>\n",
       "    </tr>\n",
       "  </thead>\n",
       "  <tbody>\n",
       "    <tr>\n",
       "      <th>2019-11-29 00:00:00</th>\n",
       "      <td>1.10112</td>\n",
       "    </tr>\n",
       "    <tr>\n",
       "      <th>2019-11-29 00:01:00</th>\n",
       "      <td>1.10109</td>\n",
       "    </tr>\n",
       "    <tr>\n",
       "      <th>2019-11-29 00:02:00</th>\n",
       "      <td>1.10107</td>\n",
       "    </tr>\n",
       "    <tr>\n",
       "      <th>2019-11-29 00:03:00</th>\n",
       "      <td>1.10108</td>\n",
       "    </tr>\n",
       "    <tr>\n",
       "      <th>2019-11-29 00:04:00</th>\n",
       "      <td>1.10108</td>\n",
       "    </tr>\n",
       "  </tbody>\n",
       "</table>\n",
       "</div>"
      ],
      "text/plain": [
       "                       price\n",
       "date                        \n",
       "2019-11-29 00:00:00  1.10112\n",
       "2019-11-29 00:01:00  1.10109\n",
       "2019-11-29 00:02:00  1.10107\n",
       "2019-11-29 00:03:00  1.10108\n",
       "2019-11-29 00:04:00  1.10108"
      ]
     },
     "execution_count": 11,
     "metadata": {},
     "output_type": "execute_result"
    }
   ],
   "source": [
    "#截取需要的数据，分析一下2019-11-29至2019-12-31的一段上涨行情，其实是满 H4的金叉行情\n",
    "data_1=data['2019-11-29':'2020-1-1']\n",
    "data_1.head()"
   ]
  },
  {
   "cell_type": "code",
   "execution_count": 12,
   "metadata": {
    "execution": {
     "iopub.execute_input": "2020-07-02T04:58:10.913760Z",
     "iopub.status.busy": "2020-07-02T04:58:10.913760Z",
     "iopub.status.idle": "2020-07-02T04:58:10.925672Z",
     "shell.execute_reply": "2020-07-02T04:58:10.925672Z",
     "shell.execute_reply.started": "2020-07-02T04:58:10.913760Z"
    }
   },
   "outputs": [
    {
     "name": "stdout",
     "output_type": "stream",
     "text": [
      "<class 'pandas.core.frame.DataFrame'>\n",
      "DatetimeIndex: 32280 entries, 2019-11-29 00:00:00 to 2020-01-01 23:59:00\n",
      "Data columns (total 1 columns):\n",
      " #   Column  Non-Null Count  Dtype  \n",
      "---  ------  --------------  -----  \n",
      " 0   price   32280 non-null  float64\n",
      "dtypes: float64(1)\n",
      "memory usage: 504.4 KB\n"
     ]
    }
   ],
   "source": [
    "data_1.info()"
   ]
  },
  {
   "cell_type": "code",
   "execution_count": 13,
   "metadata": {
    "execution": {
     "iopub.execute_input": "2020-07-02T04:58:14.177479Z",
     "iopub.status.busy": "2020-07-02T04:58:14.177479Z",
     "iopub.status.idle": "2020-07-02T04:58:14.190451Z",
     "shell.execute_reply": "2020-07-02T04:58:14.190451Z",
     "shell.execute_reply.started": "2020-07-02T04:58:14.177479Z"
    }
   },
   "outputs": [
    {
     "data": {
      "text/html": [
       "<div>\n",
       "<style scoped>\n",
       "    .dataframe tbody tr th:only-of-type {\n",
       "        vertical-align: middle;\n",
       "    }\n",
       "\n",
       "    .dataframe tbody tr th {\n",
       "        vertical-align: top;\n",
       "    }\n",
       "\n",
       "    .dataframe thead th {\n",
       "        text-align: right;\n",
       "    }\n",
       "</style>\n",
       "<table border=\"1\" class=\"dataframe\">\n",
       "  <thead>\n",
       "    <tr style=\"text-align: right;\">\n",
       "      <th></th>\n",
       "      <th>price</th>\n",
       "    </tr>\n",
       "  </thead>\n",
       "  <tbody>\n",
       "    <tr>\n",
       "      <th>count</th>\n",
       "      <td>32280.000000</td>\n",
       "    </tr>\n",
       "    <tr>\n",
       "      <th>mean</th>\n",
       "      <td>1.110770</td>\n",
       "    </tr>\n",
       "    <tr>\n",
       "      <th>std</th>\n",
       "      <td>0.004884</td>\n",
       "    </tr>\n",
       "    <tr>\n",
       "      <th>min</th>\n",
       "      <td>1.098210</td>\n",
       "    </tr>\n",
       "    <tr>\n",
       "      <th>25%</th>\n",
       "      <td>1.107870</td>\n",
       "    </tr>\n",
       "    <tr>\n",
       "      <th>50%</th>\n",
       "      <td>1.109520</td>\n",
       "    </tr>\n",
       "    <tr>\n",
       "      <th>75%</th>\n",
       "      <td>1.113610</td>\n",
       "    </tr>\n",
       "    <tr>\n",
       "      <th>max</th>\n",
       "      <td>1.123890</td>\n",
       "    </tr>\n",
       "  </tbody>\n",
       "</table>\n",
       "</div>"
      ],
      "text/plain": [
       "              price\n",
       "count  32280.000000\n",
       "mean       1.110770\n",
       "std        0.004884\n",
       "min        1.098210\n",
       "25%        1.107870\n",
       "50%        1.109520\n",
       "75%        1.113610\n",
       "max        1.123890"
      ]
     },
     "execution_count": 13,
     "metadata": {},
     "output_type": "execute_result"
    }
   ],
   "source": [
    "data_1.describe()"
   ]
  },
  {
   "cell_type": "markdown",
   "metadata": {},
   "source": [
    "##### 数据整理完毕"
   ]
  },
  {
   "cell_type": "markdown",
   "metadata": {},
   "source": [
    "## 第二步，计算回测情况"
   ]
  },
  {
   "cell_type": "code",
   "execution_count": 14,
   "metadata": {
    "execution": {
     "iopub.execute_input": "2020-07-02T04:58:19.889134Z",
     "iopub.status.busy": "2020-07-02T04:58:19.889134Z",
     "iopub.status.idle": "2020-07-02T04:58:19.893111Z",
     "shell.execute_reply": "2020-07-02T04:58:19.892855Z",
     "shell.execute_reply.started": "2020-07-02T04:58:19.889134Z"
    }
   },
   "outputs": [],
   "source": [
    "## np.cumsum()累计求和\n",
    "## np.argmax()返回一个numpy数组中最大值的索引值\n",
    "## np.argmin()返回一个numpy数组中最小值的索引值"
   ]
  },
  {
   "cell_type": "code",
   "execution_count": 15,
   "metadata": {
    "execution": {
     "iopub.execute_input": "2020-07-02T04:58:28.533911Z",
     "iopub.status.busy": "2020-07-02T04:58:28.533911Z",
     "iopub.status.idle": "2020-07-02T04:58:28.622675Z",
     "shell.execute_reply": "2020-07-02T04:58:28.621675Z",
     "shell.execute_reply.started": "2020-07-02T04:58:28.533911Z"
    }
   },
   "outputs": [
    {
     "data": {
      "text/html": [
       "<div>\n",
       "<style scoped>\n",
       "    .dataframe tbody tr th:only-of-type {\n",
       "        vertical-align: middle;\n",
       "    }\n",
       "\n",
       "    .dataframe tbody tr th {\n",
       "        vertical-align: top;\n",
       "    }\n",
       "\n",
       "    .dataframe thead th {\n",
       "        text-align: right;\n",
       "    }\n",
       "</style>\n",
       "<table border=\"1\" class=\"dataframe\">\n",
       "  <thead>\n",
       "    <tr style=\"text-align: right;\">\n",
       "      <th></th>\n",
       "      <th>price</th>\n",
       "      <th>return</th>\n",
       "    </tr>\n",
       "    <tr>\n",
       "      <th>date</th>\n",
       "      <th></th>\n",
       "      <th></th>\n",
       "    </tr>\n",
       "  </thead>\n",
       "  <tbody>\n",
       "    <tr>\n",
       "      <th>2019-11-29 00:00:00</th>\n",
       "      <td>1.10112</td>\n",
       "      <td>NaN</td>\n",
       "    </tr>\n",
       "    <tr>\n",
       "      <th>2019-11-29 00:01:00</th>\n",
       "      <td>1.10109</td>\n",
       "      <td>-0.000027</td>\n",
       "    </tr>\n",
       "    <tr>\n",
       "      <th>2019-11-29 00:02:00</th>\n",
       "      <td>1.10107</td>\n",
       "      <td>-0.000018</td>\n",
       "    </tr>\n",
       "    <tr>\n",
       "      <th>2019-11-29 00:03:00</th>\n",
       "      <td>1.10108</td>\n",
       "      <td>0.000009</td>\n",
       "    </tr>\n",
       "    <tr>\n",
       "      <th>2019-11-29 00:04:00</th>\n",
       "      <td>1.10108</td>\n",
       "      <td>0.000000</td>\n",
       "    </tr>\n",
       "  </tbody>\n",
       "</table>\n",
       "</div>"
      ],
      "text/plain": [
       "                       price    return\n",
       "date                                  \n",
       "2019-11-29 00:00:00  1.10112       NaN\n",
       "2019-11-29 00:01:00  1.10109 -0.000027\n",
       "2019-11-29 00:02:00  1.10107 -0.000018\n",
       "2019-11-29 00:03:00  1.10108  0.000009\n",
       "2019-11-29 00:04:00  1.10108  0.000000"
      ]
     },
     "execution_count": 15,
     "metadata": {},
     "output_type": "execute_result"
    }
   ],
   "source": [
    "data_1['return']=np.log(data_1['price'] / data_1['price'].shift(1))\n",
    "data_1.head()"
   ]
  },
  {
   "cell_type": "code",
   "execution_count": 16,
   "metadata": {
    "execution": {
     "iopub.execute_input": "2020-07-02T04:58:30.454581Z",
     "iopub.status.busy": "2020-07-02T04:58:30.454581Z",
     "iopub.status.idle": "2020-07-02T04:58:30.460534Z",
     "shell.execute_reply": "2020-07-02T04:58:30.459572Z",
     "shell.execute_reply.started": "2020-07-02T04:58:30.454581Z"
    }
   },
   "outputs": [],
   "source": [
    "data_1.fillna(0,inplace=True)"
   ]
  },
  {
   "cell_type": "code",
   "execution_count": 17,
   "metadata": {
    "execution": {
     "iopub.execute_input": "2020-07-02T04:58:31.897119Z",
     "iopub.status.busy": "2020-07-02T04:58:31.897119Z",
     "iopub.status.idle": "2020-07-02T04:58:31.905098Z",
     "shell.execute_reply": "2020-07-02T04:58:31.904136Z",
     "shell.execute_reply.started": "2020-07-02T04:58:31.897119Z"
    }
   },
   "outputs": [
    {
     "data": {
      "text/plain": [
       "0.0"
      ]
     },
     "execution_count": 17,
     "metadata": {},
     "output_type": "execute_result"
    }
   ],
   "source": [
    "data_1.iloc[0,1]"
   ]
  },
  {
   "cell_type": "code",
   "execution_count": 18,
   "metadata": {
    "execution": {
     "iopub.execute_input": "2020-07-02T04:58:36.130768Z",
     "iopub.status.busy": "2020-07-02T04:58:36.129778Z",
     "iopub.status.idle": "2020-07-02T04:58:36.139708Z",
     "shell.execute_reply": "2020-07-02T04:58:36.139708Z",
     "shell.execute_reply.started": "2020-07-02T04:58:36.130768Z"
    }
   },
   "outputs": [
    {
     "data": {
      "text/html": [
       "<div>\n",
       "<style scoped>\n",
       "    .dataframe tbody tr th:only-of-type {\n",
       "        vertical-align: middle;\n",
       "    }\n",
       "\n",
       "    .dataframe tbody tr th {\n",
       "        vertical-align: top;\n",
       "    }\n",
       "\n",
       "    .dataframe thead th {\n",
       "        text-align: right;\n",
       "    }\n",
       "</style>\n",
       "<table border=\"1\" class=\"dataframe\">\n",
       "  <thead>\n",
       "    <tr style=\"text-align: right;\">\n",
       "      <th></th>\n",
       "      <th>price</th>\n",
       "      <th>return</th>\n",
       "    </tr>\n",
       "    <tr>\n",
       "      <th>date</th>\n",
       "      <th></th>\n",
       "      <th></th>\n",
       "    </tr>\n",
       "  </thead>\n",
       "  <tbody>\n",
       "    <tr>\n",
       "      <th>2019-11-29 00:00:00</th>\n",
       "      <td>1.10112</td>\n",
       "      <td>0.000000</td>\n",
       "    </tr>\n",
       "    <tr>\n",
       "      <th>2019-11-29 00:01:00</th>\n",
       "      <td>1.10109</td>\n",
       "      <td>-0.000027</td>\n",
       "    </tr>\n",
       "    <tr>\n",
       "      <th>2019-11-29 00:02:00</th>\n",
       "      <td>1.10107</td>\n",
       "      <td>-0.000018</td>\n",
       "    </tr>\n",
       "    <tr>\n",
       "      <th>2019-11-29 00:03:00</th>\n",
       "      <td>1.10108</td>\n",
       "      <td>0.000009</td>\n",
       "    </tr>\n",
       "    <tr>\n",
       "      <th>2019-11-29 00:04:00</th>\n",
       "      <td>1.10108</td>\n",
       "      <td>0.000000</td>\n",
       "    </tr>\n",
       "  </tbody>\n",
       "</table>\n",
       "</div>"
      ],
      "text/plain": [
       "                       price    return\n",
       "date                                  \n",
       "2019-11-29 00:00:00  1.10112  0.000000\n",
       "2019-11-29 00:01:00  1.10109 -0.000027\n",
       "2019-11-29 00:02:00  1.10107 -0.000018\n",
       "2019-11-29 00:03:00  1.10108  0.000009\n",
       "2019-11-29 00:04:00  1.10108  0.000000"
      ]
     },
     "execution_count": 18,
     "metadata": {},
     "output_type": "execute_result"
    }
   ],
   "source": [
    "data_1.head()"
   ]
  },
  {
   "cell_type": "code",
   "execution_count": 19,
   "metadata": {
    "execution": {
     "iopub.execute_input": "2020-07-02T05:01:45.845927Z",
     "iopub.status.busy": "2020-07-02T05:01:45.844935Z",
     "iopub.status.idle": "2020-07-02T05:01:45.854905Z",
     "shell.execute_reply": "2020-07-02T05:01:45.853909Z",
     "shell.execute_reply.started": "2020-07-02T05:01:45.845927Z"
    }
   },
   "outputs": [],
   "source": [
    "#找到这段时间的最高点和最低点\n",
    "data_1['cumsum']=data_1['return'].cumsum().apply(np.exp)"
   ]
  },
  {
   "cell_type": "code",
   "execution_count": 49,
   "metadata": {
    "execution": {
     "iopub.execute_input": "2020-07-01T13:17:46.960359Z",
     "iopub.status.busy": "2020-07-01T13:17:46.960359Z",
     "iopub.status.idle": "2020-07-01T13:17:46.970360Z",
     "shell.execute_reply": "2020-07-01T13:17:46.970047Z",
     "shell.execute_reply.started": "2020-07-01T13:17:46.960359Z"
    }
   },
   "outputs": [
    {
     "data": {
      "text/html": [
       "<div>\n",
       "<style scoped>\n",
       "    .dataframe tbody tr th:only-of-type {\n",
       "        vertical-align: middle;\n",
       "    }\n",
       "\n",
       "    .dataframe tbody tr th {\n",
       "        vertical-align: top;\n",
       "    }\n",
       "\n",
       "    .dataframe thead th {\n",
       "        text-align: right;\n",
       "    }\n",
       "</style>\n",
       "<table border=\"1\" class=\"dataframe\">\n",
       "  <thead>\n",
       "    <tr style=\"text-align: right;\">\n",
       "      <th></th>\n",
       "      <th>price</th>\n",
       "      <th>return</th>\n",
       "      <th>cumsum</th>\n",
       "    </tr>\n",
       "    <tr>\n",
       "      <th>date</th>\n",
       "      <th></th>\n",
       "      <th></th>\n",
       "      <th></th>\n",
       "    </tr>\n",
       "  </thead>\n",
       "  <tbody>\n",
       "    <tr>\n",
       "      <th>2019-11-29 00:00:00</th>\n",
       "      <td>1.10112</td>\n",
       "      <td>0.000000</td>\n",
       "      <td>1.000000</td>\n",
       "    </tr>\n",
       "    <tr>\n",
       "      <th>2019-11-29 00:01:00</th>\n",
       "      <td>1.10109</td>\n",
       "      <td>-0.000027</td>\n",
       "      <td>0.999973</td>\n",
       "    </tr>\n",
       "    <tr>\n",
       "      <th>2019-11-29 00:02:00</th>\n",
       "      <td>1.10107</td>\n",
       "      <td>-0.000018</td>\n",
       "      <td>0.999955</td>\n",
       "    </tr>\n",
       "    <tr>\n",
       "      <th>2019-11-29 00:03:00</th>\n",
       "      <td>1.10108</td>\n",
       "      <td>0.000009</td>\n",
       "      <td>0.999964</td>\n",
       "    </tr>\n",
       "    <tr>\n",
       "      <th>2019-11-29 00:04:00</th>\n",
       "      <td>1.10108</td>\n",
       "      <td>0.000000</td>\n",
       "      <td>0.999964</td>\n",
       "    </tr>\n",
       "  </tbody>\n",
       "</table>\n",
       "</div>"
      ],
      "text/plain": [
       "                       price    return    cumsum\n",
       "date                                            \n",
       "2019-11-29 00:00:00  1.10112  0.000000  1.000000\n",
       "2019-11-29 00:01:00  1.10109 -0.000027  0.999973\n",
       "2019-11-29 00:02:00  1.10107 -0.000018  0.999955\n",
       "2019-11-29 00:03:00  1.10108  0.000009  0.999964\n",
       "2019-11-29 00:04:00  1.10108  0.000000  0.999964"
      ]
     },
     "execution_count": 49,
     "metadata": {},
     "output_type": "execute_result"
    }
   ],
   "source": [
    "data_1.head()"
   ]
  },
  {
   "cell_type": "markdown",
   "metadata": {},
   "source": [
    "从哪些角度去思考，从而抓住特征  \n",
    "1.空间，产生个几个高点；什么是高点，所谓的高点是一个一段时间内的price最大值；  \n",
    "2.该最高点维持的时间有多久；  \n",
    "3.跨度比较长的这段时间呢，价格经历了怎么样的曲折，又产生了怎么样的回撤；"
   ]
  },
  {
   "cell_type": "markdown",
   "metadata": {},
   "source": [
    "#### 1.找出该时段内的最高点和最低点"
   ]
  },
  {
   "cell_type": "code",
   "execution_count": 53,
   "metadata": {
    "execution": {
     "iopub.execute_input": "2020-07-01T13:26:20.743203Z",
     "iopub.status.busy": "2020-07-01T13:26:20.742205Z",
     "iopub.status.idle": "2020-07-01T13:26:20.748246Z",
     "shell.execute_reply": "2020-07-01T13:26:20.748246Z",
     "shell.execute_reply.started": "2020-07-01T13:26:20.742205Z"
    }
   },
   "outputs": [
    {
     "data": {
      "text/plain": [
       "0.99736"
      ]
     },
     "execution_count": 53,
     "metadata": {},
     "output_type": "execute_result"
    }
   ],
   "source": [
    "cumsum_min=data_1['cumsum'].min()    #最小值是多少\n",
    "round(cumsum_min,5)"
   ]
  },
  {
   "cell_type": "code",
   "execution_count": 54,
   "metadata": {
    "execution": {
     "iopub.execute_input": "2020-07-01T13:27:02.637611Z",
     "iopub.status.busy": "2020-07-01T13:27:02.636612Z",
     "iopub.status.idle": "2020-07-01T13:27:02.651572Z",
     "shell.execute_reply": "2020-07-01T13:27:02.649577Z",
     "shell.execute_reply.started": "2020-07-01T13:27:02.637611Z"
    }
   },
   "outputs": [
    {
     "data": {
      "text/plain": [
       "1.02068"
      ]
     },
     "execution_count": 54,
     "metadata": {},
     "output_type": "execute_result"
    }
   ],
   "source": [
    "cumsum_max=data_1['cumsum'].max()   #最大值是多少\n",
    "round(cumsum_max,5)"
   ]
  },
  {
   "cell_type": "code",
   "execution_count": 33,
   "metadata": {
    "execution": {
     "iopub.execute_input": "2020-07-02T05:40:56.763267Z",
     "iopub.status.busy": "2020-07-02T05:40:56.762242Z",
     "iopub.status.idle": "2020-07-02T05:40:56.769726Z",
     "shell.execute_reply": "2020-07-02T05:40:56.769222Z",
     "shell.execute_reply.started": "2020-07-02T05:40:56.763267Z"
    }
   },
   "outputs": [
    {
     "name": "stdout",
     "output_type": "stream",
     "text": [
      "31682 2019-12-31 14:02:00 2019-11-29 13:14:00\n"
     ]
    }
   ],
   "source": [
    "amax=data_1['cumsum'].argmax()     #这个amax是列数\n",
    "idmax=data_1['cumsum'].idxmax()\n",
    "idmin=data_1['cumsum'].idxmin()\n",
    "print(amax,idmax,idmin)"
   ]
  },
  {
   "cell_type": "code",
   "execution_count": 47,
   "metadata": {
    "execution": {
     "iopub.execute_input": "2020-07-02T06:49:08.784922Z",
     "iopub.status.busy": "2020-07-02T06:49:08.783958Z",
     "iopub.status.idle": "2020-07-02T06:49:08.789161Z",
     "shell.execute_reply": "2020-07-02T06:49:08.788908Z",
     "shell.execute_reply.started": "2020-07-02T06:49:08.783958Z"
    }
   },
   "outputs": [],
   "source": [
    "a=data_1.loc[idmax,'cumsum'].round(4)\n",
    "b=data_1.loc[idmin,'cumsum'].round(4)"
   ]
  },
  {
   "cell_type": "code",
   "execution_count": 46,
   "metadata": {
    "execution": {
     "iopub.execute_input": "2020-07-02T06:47:28.390055Z",
     "iopub.status.busy": "2020-07-02T06:47:28.389056Z",
     "iopub.status.idle": "2020-07-02T06:47:28.395040Z",
     "shell.execute_reply": "2020-07-02T06:47:28.394052Z",
     "shell.execute_reply.started": "2020-07-02T06:47:28.390055Z"
    }
   },
   "outputs": [
    {
     "data": {
      "text/plain": [
       "1.0207"
      ]
     },
     "execution_count": 46,
     "metadata": {},
     "output_type": "execute_result"
    }
   ],
   "source": [
    "data_1.iloc[amax,2].round(4)"
   ]
  },
  {
   "cell_type": "code",
   "execution_count": 65,
   "metadata": {
    "execution": {
     "iopub.execute_input": "2020-07-02T07:12:48.346618Z",
     "iopub.status.busy": "2020-07-02T07:12:48.346618Z",
     "iopub.status.idle": "2020-07-02T07:12:48.351630Z",
     "shell.execute_reply": "2020-07-02T07:12:48.351374Z",
     "shell.execute_reply.started": "2020-07-02T07:12:48.346618Z"
    }
   },
   "outputs": [
    {
     "name": "stdout",
     "output_type": "stream",
     "text": [
      "该段行情的最低点为0.9974，时间为2019-11-29 13:14:00\n",
      "----------------------------------\n",
      "该段行情的最高点为1.0207，时间为2019-12-31 14:02:00\n",
      "----------------------------------\n",
      "最大上涨幅度为2329.9999999999986个点\n"
     ]
    }
   ],
   "source": [
    "print('该段行情的最低点为{}，时间为{}'.format(b,idmin))\n",
    "print('----------------------------------')\n",
    "print('该段行情的最高点为{}，时间为{}'.format(a,idmax))\n",
    "print('----------------------------------')\n",
    "print('最大上涨幅度为{}个点'.format((a-b)*100000))"
   ]
  },
  {
   "cell_type": "code",
   "execution_count": 74,
   "metadata": {
    "execution": {
     "iopub.execute_input": "2020-07-02T07:43:22.850232Z",
     "iopub.status.busy": "2020-07-02T07:43:22.850232Z",
     "iopub.status.idle": "2020-07-02T07:43:22.857248Z",
     "shell.execute_reply": "2020-07-02T07:43:22.857248Z",
     "shell.execute_reply.started": "2020-07-02T07:43:22.850232Z"
    }
   },
   "outputs": [
    {
     "data": {
      "text/plain": [
       "2330.0"
      ]
     },
     "execution_count": 74,
     "metadata": {},
     "output_type": "execute_result"
    }
   ],
   "source": [
    "#设计一个函数来计算drawdown\n",
    "def Drawdown(series):\n",
    "    series=data_1['cumsum']\n",
    "    drawdown=round((series.max()-series.min()),4)*100000\n",
    "    return drawdown\n",
    "Drawdown(data_1['cumsum'])"
   ]
  },
  {
   "cell_type": "code",
   "execution_count": null,
   "metadata": {},
   "outputs": [],
   "source": []
  }
 ],
 "metadata": {
  "kernelspec": {
   "display_name": "Python 3",
   "language": "python",
   "name": "python3"
  },
  "language_info": {
   "codemirror_mode": {
    "name": "ipython",
    "version": 3
   },
   "file_extension": ".py",
   "mimetype": "text/x-python",
   "name": "python",
   "nbconvert_exporter": "python",
   "pygments_lexer": "ipython3",
   "version": "3.7.7"
  }
 },
 "nbformat": 4,
 "nbformat_minor": 4
}
