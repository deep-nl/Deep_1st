{
 "cells": [
  {
   "cell_type": "code",
   "execution_count": 1,
   "metadata": {
    "execution": {
     "iopub.execute_input": "2020-06-29T05:51:31.776623Z",
     "iopub.status.busy": "2020-06-29T05:51:31.776623Z",
     "iopub.status.idle": "2020-06-29T05:51:32.112251Z",
     "shell.execute_reply": "2020-06-29T05:51:32.112251Z",
     "shell.execute_reply.started": "2020-06-29T05:51:31.776623Z"
    }
   },
   "outputs": [],
   "source": [
    "import numpy as np\n",
    "import pandas as pd\n",
    "from pandas import Series,DataFrame"
   ]
  },
  {
   "cell_type": "markdown",
   "metadata": {},
   "source": [
    "## Map"
   ]
  },
  {
   "cell_type": "markdown",
   "metadata": {},
   "source": [
    "**Series.map(self, arg, na_action=None)**  \n",
    "\n",
    "*Parameters* :  \n",
    "argfunction, collections.abc.Mapping subclass or Series Mapping correspondence.\n",
    "*na_action{None, ‘ignore’}*, default None.If ‘ignore’, propagate NaN values, without passing them to the mapping correspondence.\n",
    "\n",
    "*Returns* :  \n",
    "Series  \n",
    "Same index as caller.  "
   ]
  },
  {
   "cell_type": "code",
   "execution_count": 2,
   "metadata": {
    "execution": {
     "iopub.execute_input": "2020-06-29T05:58:55.432326Z",
     "iopub.status.busy": "2020-06-29T05:58:55.431329Z",
     "iopub.status.idle": "2020-06-29T05:58:55.448283Z",
     "shell.execute_reply": "2020-06-29T05:58:55.447286Z",
     "shell.execute_reply.started": "2020-06-29T05:58:55.432326Z"
    }
   },
   "outputs": [
    {
     "data": {
      "text/plain": [
       "0       cat\n",
       "1       dog\n",
       "2       NaN\n",
       "3    rabbit\n",
       "dtype: object"
      ]
     },
     "execution_count": 2,
     "metadata": {},
     "output_type": "execute_result"
    }
   ],
   "source": [
    "s = pd.Series(['cat', 'dog', np.nan, 'rabbit'])\n",
    "s"
   ]
  },
  {
   "cell_type": "code",
   "execution_count": 3,
   "metadata": {
    "execution": {
     "iopub.execute_input": "2020-06-29T05:59:07.595744Z",
     "iopub.status.busy": "2020-06-29T05:59:07.594745Z",
     "iopub.status.idle": "2020-06-29T05:59:07.604718Z",
     "shell.execute_reply": "2020-06-29T05:59:07.603722Z",
     "shell.execute_reply.started": "2020-06-29T05:59:07.595744Z"
    }
   },
   "outputs": [
    {
     "data": {
      "text/plain": [
       "0    kitten\n",
       "1     puppy\n",
       "2       NaN\n",
       "3       NaN\n",
       "dtype: object"
      ]
     },
     "execution_count": 3,
     "metadata": {},
     "output_type": "execute_result"
    }
   ],
   "source": [
    "s.map({'cat': 'kitten', 'dog': 'puppy'})"
   ]
  },
  {
   "cell_type": "code",
   "execution_count": 4,
   "metadata": {
    "execution": {
     "iopub.execute_input": "2020-06-29T05:59:21.502162Z",
     "iopub.status.busy": "2020-06-29T05:59:21.502162Z",
     "iopub.status.idle": "2020-06-29T05:59:21.518586Z",
     "shell.execute_reply": "2020-06-29T05:59:21.517589Z",
     "shell.execute_reply.started": "2020-06-29T05:59:21.502162Z"
    }
   },
   "outputs": [
    {
     "data": {
      "text/plain": [
       "0       I am a cat\n",
       "1       I am a dog\n",
       "2       I am a nan\n",
       "3    I am a rabbit\n",
       "dtype: object"
      ]
     },
     "execution_count": 4,
     "metadata": {},
     "output_type": "execute_result"
    }
   ],
   "source": [
    "s.map('I am a {}'.format)"
   ]
  },
  {
   "cell_type": "code",
   "execution_count": 5,
   "metadata": {
    "execution": {
     "iopub.execute_input": "2020-06-29T05:59:41.213032Z",
     "iopub.status.busy": "2020-06-29T05:59:41.213032Z",
     "iopub.status.idle": "2020-06-29T05:59:41.219016Z",
     "shell.execute_reply": "2020-06-29T05:59:41.219016Z",
     "shell.execute_reply.started": "2020-06-29T05:59:41.213032Z"
    }
   },
   "outputs": [
    {
     "data": {
      "text/plain": [
       "0       I am a cat\n",
       "1       I am a dog\n",
       "2              NaN\n",
       "3    I am a rabbit\n",
       "dtype: object"
      ]
     },
     "execution_count": 5,
     "metadata": {},
     "output_type": "execute_result"
    }
   ],
   "source": [
    "s.map('I am a {}'.format, na_action='ignore')"
   ]
  },
  {
   "cell_type": "code",
   "execution_count": null,
   "metadata": {},
   "outputs": [],
   "source": []
  }
 ],
 "metadata": {
  "kernelspec": {
   "display_name": "Python 3",
   "language": "python",
   "name": "python3"
  },
  "language_info": {
   "codemirror_mode": {
    "name": "ipython",
    "version": 3
   },
   "file_extension": ".py",
   "mimetype": "text/x-python",
   "name": "python",
   "nbconvert_exporter": "python",
   "pygments_lexer": "ipython3",
   "version": "3.7.7"
  }
 },
 "nbformat": 4,
 "nbformat_minor": 4
}
