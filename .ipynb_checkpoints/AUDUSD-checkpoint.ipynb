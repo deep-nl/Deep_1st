{
 "cells": [
  {
   "cell_type": "code",
   "execution_count": 1,
   "metadata": {
    "execution": {
     "iopub.execute_input": "2020-06-15T08:33:14.031700Z",
     "iopub.status.busy": "2020-06-15T08:33:14.031700Z",
     "iopub.status.idle": "2020-06-15T08:33:14.374779Z",
     "shell.execute_reply": "2020-06-15T08:33:14.373793Z",
     "shell.execute_reply.started": "2020-06-15T08:33:14.031700Z"
    }
   },
   "outputs": [],
   "source": [
    "import pandas as pd"
   ]
  },
  {
   "cell_type": "code",
   "execution_count": 3,
   "metadata": {
    "execution": {
     "iopub.execute_input": "2020-06-15T08:34:32.848704Z",
     "iopub.status.busy": "2020-06-15T08:34:32.848704Z",
     "iopub.status.idle": "2020-06-15T08:34:32.882160Z",
     "shell.execute_reply": "2020-06-15T08:34:32.882160Z",
     "shell.execute_reply.started": "2020-06-15T08:34:32.848704Z"
    }
   },
   "outputs": [
    {
     "data": {
      "text/html": [
       "<div>\n",
       "<style scoped>\n",
       "    .dataframe tbody tr th:only-of-type {\n",
       "        vertical-align: middle;\n",
       "    }\n",
       "\n",
       "    .dataframe tbody tr th {\n",
       "        vertical-align: top;\n",
       "    }\n",
       "\n",
       "    .dataframe thead th {\n",
       "        text-align: right;\n",
       "    }\n",
       "</style>\n",
       "<table border=\"1\" class=\"dataframe\">\n",
       "  <thead>\n",
       "    <tr style=\"text-align: right;\">\n",
       "      <th></th>\n",
       "      <th>Time (UTC)</th>\n",
       "      <th>Open</th>\n",
       "      <th>High</th>\n",
       "      <th>Low</th>\n",
       "      <th>Close</th>\n",
       "      <th>Volume</th>\n",
       "    </tr>\n",
       "  </thead>\n",
       "  <tbody>\n",
       "    <tr>\n",
       "      <th>0</th>\n",
       "      <td>2010.01.01 00:00:00</td>\n",
       "      <td>0.89725</td>\n",
       "      <td>0.89745</td>\n",
       "      <td>0.89713</td>\n",
       "      <td>0.89722</td>\n",
       "      <td>72622.26</td>\n",
       "    </tr>\n",
       "    <tr>\n",
       "      <th>1</th>\n",
       "      <td>2010.01.03 00:00:00</td>\n",
       "      <td>0.89823</td>\n",
       "      <td>0.89970</td>\n",
       "      <td>0.89713</td>\n",
       "      <td>0.89713</td>\n",
       "      <td>1303.15</td>\n",
       "    </tr>\n",
       "    <tr>\n",
       "      <th>2</th>\n",
       "      <td>2010.01.04 00:00:00</td>\n",
       "      <td>0.89716</td>\n",
       "      <td>0.91366</td>\n",
       "      <td>0.89379</td>\n",
       "      <td>0.91239</td>\n",
       "      <td>45216.78</td>\n",
       "    </tr>\n",
       "    <tr>\n",
       "      <th>3</th>\n",
       "      <td>2010.01.05 00:00:00</td>\n",
       "      <td>0.91246</td>\n",
       "      <td>0.91737</td>\n",
       "      <td>0.90916</td>\n",
       "      <td>0.91150</td>\n",
       "      <td>52283.22</td>\n",
       "    </tr>\n",
       "    <tr>\n",
       "      <th>4</th>\n",
       "      <td>2010.01.06 00:00:00</td>\n",
       "      <td>0.91156</td>\n",
       "      <td>0.92166</td>\n",
       "      <td>0.90974</td>\n",
       "      <td>0.91992</td>\n",
       "      <td>51910.04</td>\n",
       "    </tr>\n",
       "  </tbody>\n",
       "</table>\n",
       "</div>"
      ],
      "text/plain": [
       "            Time (UTC)     Open     High      Low    Close   Volume \n",
       "0  2010.01.01 00:00:00  0.89725  0.89745  0.89713  0.89722  72622.26\n",
       "1  2010.01.03 00:00:00  0.89823  0.89970  0.89713  0.89713   1303.15\n",
       "2  2010.01.04 00:00:00  0.89716  0.91366  0.89379  0.91239  45216.78\n",
       "3  2010.01.05 00:00:00  0.91246  0.91737  0.90916  0.91150  52283.22\n",
       "4  2010.01.06 00:00:00  0.91156  0.92166  0.90974  0.91992  51910.04"
      ]
     },
     "execution_count": 3,
     "metadata": {},
     "output_type": "execute_result"
    }
   ],
   "source": [
    "data=pd.read_csv(r'D:\\Nutstore\\Backtrader\\AUDUSD_D1.csv')\n",
    "data.head()"
   ]
  },
  {
   "cell_type": "code",
   "execution_count": 5,
   "metadata": {
    "execution": {
     "iopub.execute_input": "2020-06-15T08:36:04.322102Z",
     "iopub.status.busy": "2020-06-15T08:36:04.321107Z",
     "iopub.status.idle": "2020-06-15T08:36:04.328087Z",
     "shell.execute_reply": "2020-06-15T08:36:04.327086Z",
     "shell.execute_reply.started": "2020-06-15T08:36:04.322102Z"
    }
   },
   "outputs": [
    {
     "data": {
      "text/plain": [
       "Index(['Time (UTC)', 'Open', 'High', 'Low', 'Close', 'Volume '], dtype='object')"
      ]
     },
     "execution_count": 5,
     "metadata": {},
     "output_type": "execute_result"
    }
   ],
   "source": [
    "data.columns"
   ]
  },
  {
   "cell_type": "code",
   "execution_count": 4,
   "metadata": {
    "execution": {
     "iopub.execute_input": "2020-06-15T08:34:48.802185Z",
     "iopub.status.busy": "2020-06-15T08:34:48.801186Z",
     "iopub.status.idle": "2020-06-15T08:34:48.814151Z",
     "shell.execute_reply": "2020-06-15T08:34:48.812157Z",
     "shell.execute_reply.started": "2020-06-15T08:34:48.802185Z"
    }
   },
   "outputs": [
    {
     "name": "stdout",
     "output_type": "stream",
     "text": [
      "<class 'pandas.core.frame.DataFrame'>\n",
      "RangeIndex: 3233 entries, 0 to 3232\n",
      "Data columns (total 6 columns):\n",
      " #   Column      Non-Null Count  Dtype  \n",
      "---  ------      --------------  -----  \n",
      " 0   Time (UTC)  3233 non-null   object \n",
      " 1   Open        3233 non-null   float64\n",
      " 2   High        3233 non-null   float64\n",
      " 3   Low         3233 non-null   float64\n",
      " 4   Close       3233 non-null   float64\n",
      " 5   Volume      3233 non-null   float64\n",
      "dtypes: float64(5), object(1)\n",
      "memory usage: 139.0+ KB\n"
     ]
    }
   ],
   "source": [
    "data.info()"
   ]
  },
  {
   "cell_type": "code",
   "execution_count": 6,
   "metadata": {
    "execution": {
     "iopub.execute_input": "2020-06-15T08:36:34.515570Z",
     "iopub.status.busy": "2020-06-15T08:36:34.514574Z",
     "iopub.status.idle": "2020-06-15T08:36:34.531529Z",
     "shell.execute_reply": "2020-06-15T08:36:34.531529Z",
     "shell.execute_reply.started": "2020-06-15T08:36:34.514574Z"
    }
   },
   "outputs": [
    {
     "data": {
      "text/html": [
       "<div>\n",
       "<style scoped>\n",
       "    .dataframe tbody tr th:only-of-type {\n",
       "        vertical-align: middle;\n",
       "    }\n",
       "\n",
       "    .dataframe tbody tr th {\n",
       "        vertical-align: top;\n",
       "    }\n",
       "\n",
       "    .dataframe thead th {\n",
       "        text-align: right;\n",
       "    }\n",
       "</style>\n",
       "<table border=\"1\" class=\"dataframe\">\n",
       "  <thead>\n",
       "    <tr style=\"text-align: right;\">\n",
       "      <th></th>\n",
       "      <th>Date</th>\n",
       "      <th>Open</th>\n",
       "      <th>High</th>\n",
       "      <th>Low</th>\n",
       "      <th>Close</th>\n",
       "      <th>Volume</th>\n",
       "    </tr>\n",
       "  </thead>\n",
       "  <tbody>\n",
       "    <tr>\n",
       "      <th>0</th>\n",
       "      <td>2010.01.01 00:00:00</td>\n",
       "      <td>0.89725</td>\n",
       "      <td>0.89745</td>\n",
       "      <td>0.89713</td>\n",
       "      <td>0.89722</td>\n",
       "      <td>72622.26</td>\n",
       "    </tr>\n",
       "    <tr>\n",
       "      <th>1</th>\n",
       "      <td>2010.01.03 00:00:00</td>\n",
       "      <td>0.89823</td>\n",
       "      <td>0.89970</td>\n",
       "      <td>0.89713</td>\n",
       "      <td>0.89713</td>\n",
       "      <td>1303.15</td>\n",
       "    </tr>\n",
       "    <tr>\n",
       "      <th>2</th>\n",
       "      <td>2010.01.04 00:00:00</td>\n",
       "      <td>0.89716</td>\n",
       "      <td>0.91366</td>\n",
       "      <td>0.89379</td>\n",
       "      <td>0.91239</td>\n",
       "      <td>45216.78</td>\n",
       "    </tr>\n",
       "    <tr>\n",
       "      <th>3</th>\n",
       "      <td>2010.01.05 00:00:00</td>\n",
       "      <td>0.91246</td>\n",
       "      <td>0.91737</td>\n",
       "      <td>0.90916</td>\n",
       "      <td>0.91150</td>\n",
       "      <td>52283.22</td>\n",
       "    </tr>\n",
       "    <tr>\n",
       "      <th>4</th>\n",
       "      <td>2010.01.06 00:00:00</td>\n",
       "      <td>0.91156</td>\n",
       "      <td>0.92166</td>\n",
       "      <td>0.90974</td>\n",
       "      <td>0.91992</td>\n",
       "      <td>51910.04</td>\n",
       "    </tr>\n",
       "  </tbody>\n",
       "</table>\n",
       "</div>"
      ],
      "text/plain": [
       "                  Date     Open     High      Low    Close   Volume \n",
       "0  2010.01.01 00:00:00  0.89725  0.89745  0.89713  0.89722  72622.26\n",
       "1  2010.01.03 00:00:00  0.89823  0.89970  0.89713  0.89713   1303.15\n",
       "2  2010.01.04 00:00:00  0.89716  0.91366  0.89379  0.91239  45216.78\n",
       "3  2010.01.05 00:00:00  0.91246  0.91737  0.90916  0.91150  52283.22\n",
       "4  2010.01.06 00:00:00  0.91156  0.92166  0.90974  0.91992  51910.04"
      ]
     },
     "execution_count": 6,
     "metadata": {},
     "output_type": "execute_result"
    }
   ],
   "source": [
    "data=data.rename(columns={'Time (UTC)':'Date'})\n",
    "data.head()"
   ]
  },
  {
   "cell_type": "code",
   "execution_count": 10,
   "metadata": {
    "execution": {
     "iopub.execute_input": "2020-06-15T08:37:58.072428Z",
     "iopub.status.busy": "2020-06-15T08:37:58.071432Z",
     "iopub.status.idle": "2020-06-15T08:37:58.102350Z",
     "shell.execute_reply": "2020-06-15T08:37:58.101349Z",
     "shell.execute_reply.started": "2020-06-15T08:37:58.071432Z"
    }
   },
   "outputs": [
    {
     "data": {
      "text/plain": [
       "Date       datetime64[ns]\n",
       "Open              float64\n",
       "High              float64\n",
       "Low               float64\n",
       "Close             float64\n",
       "Volume            float64\n",
       "dtype: object"
      ]
     },
     "execution_count": 10,
     "metadata": {},
     "output_type": "execute_result"
    }
   ],
   "source": [
    "data['Date']=pd.to_datetime(data['Date'])\n",
    "data.dtypes"
   ]
  },
  {
   "cell_type": "code",
   "execution_count": 15,
   "metadata": {
    "execution": {
     "iopub.execute_input": "2020-06-15T08:47:29.791300Z",
     "iopub.status.busy": "2020-06-15T08:47:29.791300Z",
     "iopub.status.idle": "2020-06-15T08:47:29.797287Z",
     "shell.execute_reply": "2020-06-15T08:47:29.796720Z",
     "shell.execute_reply.started": "2020-06-15T08:47:29.791300Z"
    }
   },
   "outputs": [],
   "source": [
    "data=data.set_index('Date')"
   ]
  },
  {
   "cell_type": "code",
   "execution_count": 18,
   "metadata": {
    "execution": {
     "iopub.execute_input": "2020-06-15T08:52:34.387361Z",
     "iopub.status.busy": "2020-06-15T08:52:34.386323Z",
     "iopub.status.idle": "2020-06-15T08:52:34.446118Z",
     "shell.execute_reply": "2020-06-15T08:52:34.445359Z",
     "shell.execute_reply.started": "2020-06-15T08:52:34.387361Z"
    }
   },
   "outputs": [],
   "source": [
    "data.to_csv(r'D:\\Nutstore\\Backtrader\\AUDUSD_D1.csv')"
   ]
  },
  {
   "cell_type": "code",
   "execution_count": 17,
   "metadata": {
    "execution": {
     "iopub.execute_input": "2020-06-15T08:47:40.931832Z",
     "iopub.status.busy": "2020-06-15T08:47:40.930838Z",
     "iopub.status.idle": "2020-06-15T08:47:40.947788Z",
     "shell.execute_reply": "2020-06-15T08:47:40.946790Z",
     "shell.execute_reply.started": "2020-06-15T08:47:40.931832Z"
    }
   },
   "outputs": [
    {
     "data": {
      "text/html": [
       "<div>\n",
       "<style scoped>\n",
       "    .dataframe tbody tr th:only-of-type {\n",
       "        vertical-align: middle;\n",
       "    }\n",
       "\n",
       "    .dataframe tbody tr th {\n",
       "        vertical-align: top;\n",
       "    }\n",
       "\n",
       "    .dataframe thead th {\n",
       "        text-align: right;\n",
       "    }\n",
       "</style>\n",
       "<table border=\"1\" class=\"dataframe\">\n",
       "  <thead>\n",
       "    <tr style=\"text-align: right;\">\n",
       "      <th></th>\n",
       "      <th>Open</th>\n",
       "      <th>High</th>\n",
       "      <th>Low</th>\n",
       "      <th>Close</th>\n",
       "      <th>Volume</th>\n",
       "    </tr>\n",
       "    <tr>\n",
       "      <th>Date</th>\n",
       "      <th></th>\n",
       "      <th></th>\n",
       "      <th></th>\n",
       "      <th></th>\n",
       "      <th></th>\n",
       "    </tr>\n",
       "  </thead>\n",
       "  <tbody>\n",
       "    <tr>\n",
       "      <th>2010-01-01</th>\n",
       "      <td>0.89725</td>\n",
       "      <td>0.89745</td>\n",
       "      <td>0.89713</td>\n",
       "      <td>0.89722</td>\n",
       "      <td>72622.26</td>\n",
       "    </tr>\n",
       "    <tr>\n",
       "      <th>2010-01-03</th>\n",
       "      <td>0.89823</td>\n",
       "      <td>0.89970</td>\n",
       "      <td>0.89713</td>\n",
       "      <td>0.89713</td>\n",
       "      <td>1303.15</td>\n",
       "    </tr>\n",
       "    <tr>\n",
       "      <th>2010-01-04</th>\n",
       "      <td>0.89716</td>\n",
       "      <td>0.91366</td>\n",
       "      <td>0.89379</td>\n",
       "      <td>0.91239</td>\n",
       "      <td>45216.78</td>\n",
       "    </tr>\n",
       "    <tr>\n",
       "      <th>2010-01-05</th>\n",
       "      <td>0.91246</td>\n",
       "      <td>0.91737</td>\n",
       "      <td>0.90916</td>\n",
       "      <td>0.91150</td>\n",
       "      <td>52283.22</td>\n",
       "    </tr>\n",
       "    <tr>\n",
       "      <th>2010-01-06</th>\n",
       "      <td>0.91156</td>\n",
       "      <td>0.92166</td>\n",
       "      <td>0.90974</td>\n",
       "      <td>0.91992</td>\n",
       "      <td>51910.04</td>\n",
       "    </tr>\n",
       "  </tbody>\n",
       "</table>\n",
       "</div>"
      ],
      "text/plain": [
       "               Open     High      Low    Close   Volume \n",
       "Date                                                    \n",
       "2010-01-01  0.89725  0.89745  0.89713  0.89722  72622.26\n",
       "2010-01-03  0.89823  0.89970  0.89713  0.89713   1303.15\n",
       "2010-01-04  0.89716  0.91366  0.89379  0.91239  45216.78\n",
       "2010-01-05  0.91246  0.91737  0.90916  0.91150  52283.22\n",
       "2010-01-06  0.91156  0.92166  0.90974  0.91992  51910.04"
      ]
     },
     "execution_count": 17,
     "metadata": {},
     "output_type": "execute_result"
    }
   ],
   "source": [
    "data.head()"
   ]
  },
  {
   "cell_type": "code",
   "execution_count": null,
   "metadata": {},
   "outputs": [],
   "source": []
  }
 ],
 "metadata": {
  "kernelspec": {
   "display_name": "Python 3",
   "language": "python",
   "name": "python3"
  },
  "language_info": {
   "codemirror_mode": {
    "name": "ipython",
    "version": 3
   },
   "file_extension": ".py",
   "mimetype": "text/x-python",
   "name": "python",
   "nbconvert_exporter": "python",
   "pygments_lexer": "ipython3",
   "version": "3.7.7"
  }
 },
 "nbformat": 4,
 "nbformat_minor": 4
}
