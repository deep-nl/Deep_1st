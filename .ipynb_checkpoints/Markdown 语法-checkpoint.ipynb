{
 "cells": [
  {
   "cell_type": "markdown",
   "metadata": {},
   "source": [
    "# 常用快捷键\n",
    "## 编辑模式"
   ]
  },
  {
   "cell_type": "markdown",
   "metadata": {},
   "source": [
    "| TH1 | TH2 | \n",
    "|----| ----|\n",
    "| TH1|  TH2 | "
   ]
  },
  {
   "cell_type": "markdown",
   "metadata": {},
   "source": [
    "这是在  \n",
    "干什么"
   ]
  },
  {
   "cell_type": "markdown",
   "metadata": {},
   "source": [
    "## 如何制作表格  \n",
    "使用“-”和“|”来制作表格"
   ]
  },
  {
   "cell_type": "markdown",
   "metadata": {},
   "source": [
    "## <font color=#0099ff size=7 face=\"黑体\">如何改变大小和颜色</font>\n",
    "---\n",
    "如下代码加以学习"
   ]
  },
  {
   "cell_type": "markdown",
   "metadata": {},
   "source": [
    "<font face=\"黑体\">我是黑体字</font>  \n",
    "<font face=\"微软雅黑\">我是微软雅黑</font>  \n",
    "<font face=\"STCAIYUN\">我是华文彩云</font>  \n",
    "<font color=#0099ff size=7 face=\"黑体\">color=#0099ff size=72 face=\"黑体\"</font>  \n",
    "<font color=#00ffff size=72>color=#00ffff</font>  \n",
    "<font color=gray size=72>color=gray</font>  \n"
   ]
  },
  {
   "cell_type": "markdown",
   "metadata": {},
   "source": [
    "<table><tr><td bgcolor=orange>背景色是：orange</td></tr></table>"
   ]
  },
  {
   "cell_type": "markdown",
   "metadata": {},
   "source": [
    "如何"
   ]
  },
  {
   "cell_type": "markdown",
   "metadata": {},
   "source": [
    "# 表格设置"
   ]
  },
  {
   "cell_type": "markdown",
   "metadata": {},
   "source": [
    "<table><tbody>\n",
    "    <tr>\n",
    "        <th>方法说明</th><th>颜色名称</th><th>颜色</th>\n",
    "    </tr>\n",
    "    <tr>\n",
    "        <td><font color=\"Hotpink\">此处实现方法利用 CSDN-markdown 内嵌 html 语言的优势</font></td><td><font color=\"Hotpink\">Hotpink</font></td><td bgcolor=\"Hotpink\">rgb(240, 248, 255)</td>\n",
    "    </tr>\n",
    "    <tr>\n",
    "        <td><font color=\"Pink\">借助 table, tr, td 等表格标签的 bgcolor 属性实现背景色设置</font></td><td><font color=\"pink\">AntiqueWhite</font></td><td bgcolor=\"Pink\">rgb(255, 192, 203)</td>\n",
    "    </tr>\n",
    "</table>"
   ]
  },
  {
   "cell_type": "markdown",
   "metadata": {},
   "source": [
    "<table><tbody>\n",
    "    <tr>\n",
    "        <th rowspan=\"3\">我占了三行</th>\n",
    "        <th>第一列</th>\n",
    "        <th>第二列</th>\n",
    "        <th>第三列</th>\n",
    "    </tr>\n",
    "    <tr>\n",
    "        <td>第一列</td>\n",
    "        <td>第二列</td>\n",
    "        <td>第三列</td>\n",
    "    </tr>\n",
    "    <tr>\n",
    "        <td>第一列</td>\n",
    "        <td>第二列</td>\n",
    "        <td>第三列</td>\n",
    "    </tr>\n",
    "</table>  "
   ]
  },
  {
   "cell_type": "markdown",
   "metadata": {},
   "source": [
    "<!DOCTYPE html>\n",
    "<html>\n",
    "<head>\n",
    "<meta charset=\"utf-8\">\n",
    "<title>菜鸟教程(runoob.com)</title>\n",
    "</head>\n",
    "<body>\n",
    "    <h1>我的第一个标题</h1>\n",
    "    <p>我的第一个段落。</p>\n",
    "</body>\n",
    "</html>"
   ]
  },
  {
   "cell_type": "code",
   "execution_count": null,
   "metadata": {},
   "outputs": [],
   "source": []
  }
 ],
 "metadata": {
  "kernelspec": {
   "display_name": "Python 3",
   "language": "python",
   "name": "python3"
  },
  "language_info": {
   "codemirror_mode": {
    "name": "ipython",
    "version": 3
   },
   "file_extension": ".py",
   "mimetype": "text/x-python",
   "name": "python",
   "nbconvert_exporter": "python",
   "pygments_lexer": "ipython3",
   "version": "3.7.3"
  },
  "toc": {
   "base_numbering": 1,
   "nav_menu": {},
   "number_sections": true,
   "sideBar": true,
   "skip_h1_title": false,
   "title_cell": "Table of Contents",
   "title_sidebar": "Contents",
   "toc_cell": false,
   "toc_position": {},
   "toc_section_display": true,
   "toc_window_display": false
  }
 },
 "nbformat": 4,
 "nbformat_minor": 2
}
