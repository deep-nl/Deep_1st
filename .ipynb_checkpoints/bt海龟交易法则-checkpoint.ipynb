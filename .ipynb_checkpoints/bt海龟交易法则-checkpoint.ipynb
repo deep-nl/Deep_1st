{
 "cells": [
  {
   "cell_type": "code",
   "execution_count": 1,
   "metadata": {
    "ExecuteTime": {
     "end_time": "2020-07-22T12:24:14.003828Z",
     "start_time": "2020-07-22T12:24:13.013998Z"
    }
   },
   "outputs": [],
   "source": [
    "from __future__ import (absolute_import, division, print_function,unicode_literals)\n",
    "import backtrader as bt\n",
    "import pandas as pd\n",
    "import tushare as ts\n",
    "import matplotlib.pyplot as plt\n",
    "%matplotlib inline\n",
    "from pylab import mpl\n",
    "mpl.rcParams['font.sans-serif']=['SimHei']\n",
    "mpl.rcParams['axes.unicode_minus']=False"
   ]
  },
  {
   "cell_type": "code",
   "execution_count": 2,
   "metadata": {
    "ExecuteTime": {
     "end_time": "2020-07-22T12:24:14.383752Z",
     "start_time": "2020-07-22T12:24:14.380747Z"
    }
   },
   "outputs": [],
   "source": [
    "def get_data(code,start='2010-01-01',end='2020-07-16'):\n",
    "    df=ts.get_k_data(code,autype='qfq',start=start,end=end)\n",
    "    df.index=pd.to_datetime(df.date)\n",
    "    df['openinterest']=0\n",
    "    df=df[['open','high','low','close','volume','openinterest']]\n",
    "    return df"
   ]
  },
  {
   "cell_type": "code",
   "execution_count": 3,
   "metadata": {
    "ExecuteTime": {
     "end_time": "2020-07-22T12:24:18.222367Z",
     "start_time": "2020-07-22T12:24:18.219103Z"
    }
   },
   "outputs": [],
   "source": [
    "class TradeSizer(bt.Sizer):\n",
    "    params = (('stake', 1),)    \n",
    "    def _getsizing(self, comminfo, cash, data, isbuy):        \n",
    "        if isbuy:          \n",
    "            return self.p.stake        \n",
    "        position = self.broker.getposition(data)        \n",
    "        if not position.size:            \n",
    "            return 0        \n",
    "        else:            \n",
    "            return position.size        \n",
    "        return self.p.stake"
   ]
  },
  {
   "cell_type": "code",
   "execution_count": 4,
   "metadata": {
    "ExecuteTime": {
     "end_time": "2020-07-22T12:24:25.074313Z",
     "start_time": "2020-07-22T12:24:25.059529Z"
    }
   },
   "outputs": [],
   "source": [
    "class TurtleStrategy(bt.Strategy):\n",
    "    params = (('long_period',20),\n",
    "              ('short_period',10),  \n",
    "              ('printlog', False), )   \n",
    "\n",
    "    def __init__(self):        \n",
    "\n",
    "        self.order = None      \n",
    "        self.buyprice = 0      \n",
    "        self.buycomm = 0      \n",
    "        self.buy_size = 0      \n",
    "        self.buy_count = 0       \n",
    "        # 海龟交易法则中的唐奇安通道和平均波幅ATR        \n",
    "        self.H_line = bt.indicators.Highest(self.data.high(-1), period=self.p.long_period)        \n",
    "        self.L_line = bt.indicators.Lowest(self.data.low(-1), period=self.p.short_period)       \n",
    "        self.TR = bt.indicators.Max((self.data.high(0)- self.data.low(0)),\\\n",
    "                                    abs(self.data.close(-1)-self.data.high(0)), \\\n",
    "                                    abs(self.data.close(-1)  - self.data.low(0)))        \n",
    "        self.ATR = bt.indicators.SimpleMovingAverage(self.TR, period=14)       \n",
    "        # 价格与上下轨线的交叉      \n",
    "        self.buy_signal = bt.ind.CrossOver(self.data.close(0), self.H_line)        \n",
    "        self.sell_signal = bt.ind.CrossOver(self.data.close(0), self.L_line)    \n",
    "    \n",
    "    def next(self): \n",
    "        if self.order:\n",
    "            return        \n",
    "        #入场：价格突破上轨线且空仓时        \n",
    "        if self.buy_signal > 0 and self.buy_count == 0:                                 \n",
    "            self.buy_size = self.broker.getvalue() * 0.01 / self.ATR            \n",
    "            self.buy_size  = int(self.buy_size  / 100) * 100                             \n",
    "            self.sizer.p.stake = self.buy_size             \n",
    "            self.buy_count = 1            \n",
    "            self.order = self.buy()        \n",
    "        #加仓：价格上涨了买入价的0.5的ATR且加仓次数少于3次（含）        \n",
    "        elif self.data.close >self.buyprice+0.5*self.ATR[0] and self.buy_count > 0 and self.buy_count <=4:           \n",
    "            self.buy_size  = self.broker.getvalue() * 0.01 / self.ATR            \n",
    "            self.buy_size  = int(self.buy_size  / 100) * 100            \n",
    "            self.sizer.p.stake = self.buy_size             \n",
    "            self.order = self.buy()           \n",
    "            self.buy_count += 1        \n",
    "        #离场：价格跌破下轨线且持仓时        \n",
    "        elif self.sell_signal < 0 and self.buy_count > 0:            \n",
    "            self.order = self.sell()            \n",
    "            self.buy_count = 0        \n",
    "        #止损：价格跌破买入价的2个ATR且持仓时        \n",
    "        elif self.data.close < (self.buyprice - 2*self.ATR[0]) and self.buy_count > 0:           \n",
    "            self.order = self.sell()\n",
    "            self.buy_count = 0   \n",
    "            \n",
    "    #交易记录日志（默认不打印结果）\n",
    "    def log(self, txt, dt=None,doprint=False):\n",
    "        if self.params.printlog or doprint:\n",
    "            dt = dt or self.datas[0].datetime.date(0)\n",
    "            print(f'{dt.isoformat()},{txt}')\n",
    "    \n",
    "    #记录交易执行情况（默认不输出结果）\n",
    "    def notify_order(self, order):\n",
    "        # 如果order为submitted/accepted,返回空\n",
    "        if order.status in [order.Submitted, order.Accepted]:\n",
    "            return\n",
    "        # 如果order为buy/sell executed,报告价格结果\n",
    "        if order.status in [order.Completed]: \n",
    "            if order.isbuy():\n",
    "                self.log(f'买入:\\n价格:{order.executed.price},\\\n",
    "                成本:{order.executed.value},\\\n",
    "                手续费:{order.executed.comm}')\n",
    "    \n",
    "                self.buyprice = order.executed.price\n",
    "                self.buycomm = order.executed.comm\n",
    "            else:\n",
    "                self.log(f'卖出:\\n价格：{order.executed.price},\\\n",
    "                成本: {order.executed.value},\\\n",
    "                手续费{order.executed.comm}')\n",
    "            \n",
    "            self.bar_executed = len(self) \n",
    "            \n",
    "        # 如果指令取消/交易失败, 报告结果\n",
    "        elif order.status in [order.Canceled, order.Margin, order.Rejected]:\n",
    "            self.log('交易失败')\n",
    "        self.order = None\n",
    "    \n",
    "    #记录交易收益情况（可省略，默认不输出结果）\n",
    "    def notify_trade(self,trade):\n",
    "        if not trade.isclosed:\n",
    "            return\n",
    "        self.log(f'策略收益：\\n毛收益 {trade.pnl:.2f}, 净收益 {trade.pnlcomm:.2f}')\n",
    "    \n",
    "    def stop(self):\n",
    "        self.log(f'(组合线：{self.p.long_period},{self.p.short_period})； \\\n",
    "        期末总资金: {self.broker.getvalue():.2f}', doprint=True)"
   ]
  },
  {
   "cell_type": "code",
   "execution_count": 5,
   "metadata": {
    "ExecuteTime": {
     "end_time": "2020-07-22T12:24:27.350803Z",
     "start_time": "2020-07-22T12:24:27.346293Z"
    }
   },
   "outputs": [],
   "source": [
    "def plot_stock(code,title,start,end):\n",
    "    dd=ts.get_k_data(code,autype='qfq',start=start,end=end)\n",
    "    dd.index=pd.to_datetime(dd.date)\n",
    "    dd.close.plot(figsize=(14,6),color='r')\n",
    "    plt.title(title+'价格走势\\n'+start+':'+end,size=15)\n",
    "    plt.annotate(f'期间累计涨幅:{(dd.close[-1]/dd.close[0]-1)*100:.2f}%', xy=(dd.index[-150],dd.close.mean()), \n",
    "             xytext=(dd.index[-500],dd.close.min()), bbox = dict(boxstyle = 'round,pad=0.5',\n",
    "            fc = 'yellow', alpha = 0.5),\n",
    "             arrowprops=dict(facecolor='green', shrink=0.05),fontsize=12)\n",
    "    plt.show()"
   ]
  },
  {
   "cell_type": "code",
   "execution_count": 6,
   "metadata": {
    "ExecuteTime": {
     "end_time": "2020-07-22T12:24:31.191696Z",
     "start_time": "2020-07-22T12:24:31.186943Z"
    }
   },
   "outputs": [],
   "source": [
    "def main(code,long_list,short_list,start,end='',startcash=1000000,com=0.001):\n",
    "    #创建主控制器\n",
    "    cerebro = bt.Cerebro()      \n",
    "    #导入策略参数寻优\n",
    "    cerebro.optstrategy(TurtleStrategy,long_period=long_list,short_period=short_list)    \n",
    "    #获取数据\n",
    "    df=ts.get_k_data(code,autype='qfq',start=start,end=end)\n",
    "    df.index=pd.to_datetime(df.date)\n",
    "    df=df[['open','high','low','close','volume']]\n",
    "    #将数据加载至回测系统\n",
    "    data = bt.feeds.PandasData(dataname=df)    \n",
    "    cerebro.adddata(data)\n",
    "    #broker设置资金、手续费\n",
    "    cerebro.broker.setcash(startcash)           \n",
    "    cerebro.broker.setcommission(commission=com)    \n",
    "    #设置买入设置，策略，数量\n",
    "    cerebro.addsizer(TradeSizer)    \n",
    "    print('期初总资金: %.2f' % cerebro.broker.getvalue())    \n",
    "    cerebro.run(maxcpus=1)    "
   ]
  },
  {
   "cell_type": "code",
   "execution_count": 7,
   "metadata": {
    "ExecuteTime": {
     "end_time": "2020-07-22T12:24:34.032908Z",
     "start_time": "2020-07-22T12:24:32.129920Z"
    }
   },
   "outputs": [
    {
     "name": "stdout",
     "output_type": "stream",
     "text": [
      "本接口即将停止更新，请尽快使用Pro版接口：https://tushare.pro/document/2\n"
     ]
    },
    {
     "name": "stderr",
     "output_type": "stream",
     "text": [
      "findfont: Font family ['sans-serif'] not found. Falling back to DejaVu Sans.\n",
      "/opt/anaconda3/lib/python3.7/site-packages/matplotlib/backends/backend_agg.py:214: RuntimeWarning: Glyph 19978 missing from current font.\n",
      "  font.set_text(s, 0.0, flags=flags)\n",
      "/opt/anaconda3/lib/python3.7/site-packages/matplotlib/backends/backend_agg.py:214: RuntimeWarning: Glyph 35777 missing from current font.\n",
      "  font.set_text(s, 0.0, flags=flags)\n",
      "/opt/anaconda3/lib/python3.7/site-packages/matplotlib/backends/backend_agg.py:214: RuntimeWarning: Glyph 32508 missing from current font.\n",
      "  font.set_text(s, 0.0, flags=flags)\n",
      "/opt/anaconda3/lib/python3.7/site-packages/matplotlib/backends/backend_agg.py:214: RuntimeWarning: Glyph 25351 missing from current font.\n",
      "  font.set_text(s, 0.0, flags=flags)\n",
      "/opt/anaconda3/lib/python3.7/site-packages/matplotlib/backends/backend_agg.py:214: RuntimeWarning: Glyph 20215 missing from current font.\n",
      "  font.set_text(s, 0.0, flags=flags)\n",
      "/opt/anaconda3/lib/python3.7/site-packages/matplotlib/backends/backend_agg.py:214: RuntimeWarning: Glyph 26684 missing from current font.\n",
      "  font.set_text(s, 0.0, flags=flags)\n",
      "/opt/anaconda3/lib/python3.7/site-packages/matplotlib/backends/backend_agg.py:214: RuntimeWarning: Glyph 36208 missing from current font.\n",
      "  font.set_text(s, 0.0, flags=flags)\n",
      "/opt/anaconda3/lib/python3.7/site-packages/matplotlib/backends/backend_agg.py:214: RuntimeWarning: Glyph 21183 missing from current font.\n",
      "  font.set_text(s, 0.0, flags=flags)\n",
      "findfont: Font family ['sans-serif'] not found. Falling back to DejaVu Sans.\n",
      "findfont: Font family ['sans-serif'] not found. Falling back to DejaVu Sans.\n",
      "/opt/anaconda3/lib/python3.7/site-packages/matplotlib/backends/backend_agg.py:214: RuntimeWarning: Glyph 26399 missing from current font.\n",
      "  font.set_text(s, 0.0, flags=flags)\n",
      "/opt/anaconda3/lib/python3.7/site-packages/matplotlib/backends/backend_agg.py:214: RuntimeWarning: Glyph 38388 missing from current font.\n",
      "  font.set_text(s, 0.0, flags=flags)\n",
      "/opt/anaconda3/lib/python3.7/site-packages/matplotlib/backends/backend_agg.py:214: RuntimeWarning: Glyph 32047 missing from current font.\n",
      "  font.set_text(s, 0.0, flags=flags)\n",
      "/opt/anaconda3/lib/python3.7/site-packages/matplotlib/backends/backend_agg.py:214: RuntimeWarning: Glyph 35745 missing from current font.\n",
      "  font.set_text(s, 0.0, flags=flags)\n",
      "/opt/anaconda3/lib/python3.7/site-packages/matplotlib/backends/backend_agg.py:214: RuntimeWarning: Glyph 28072 missing from current font.\n",
      "  font.set_text(s, 0.0, flags=flags)\n",
      "/opt/anaconda3/lib/python3.7/site-packages/matplotlib/backends/backend_agg.py:214: RuntimeWarning: Glyph 24133 missing from current font.\n",
      "  font.set_text(s, 0.0, flags=flags)\n",
      "/opt/anaconda3/lib/python3.7/site-packages/matplotlib/backends/backend_agg.py:183: RuntimeWarning: Glyph 26399 missing from current font.\n",
      "  font.set_text(s, 0, flags=flags)\n",
      "/opt/anaconda3/lib/python3.7/site-packages/matplotlib/backends/backend_agg.py:183: RuntimeWarning: Glyph 38388 missing from current font.\n",
      "  font.set_text(s, 0, flags=flags)\n",
      "/opt/anaconda3/lib/python3.7/site-packages/matplotlib/backends/backend_agg.py:183: RuntimeWarning: Glyph 32047 missing from current font.\n",
      "  font.set_text(s, 0, flags=flags)\n",
      "/opt/anaconda3/lib/python3.7/site-packages/matplotlib/backends/backend_agg.py:183: RuntimeWarning: Glyph 35745 missing from current font.\n",
      "  font.set_text(s, 0, flags=flags)\n",
      "/opt/anaconda3/lib/python3.7/site-packages/matplotlib/backends/backend_agg.py:183: RuntimeWarning: Glyph 28072 missing from current font.\n",
      "  font.set_text(s, 0, flags=flags)\n",
      "/opt/anaconda3/lib/python3.7/site-packages/matplotlib/backends/backend_agg.py:183: RuntimeWarning: Glyph 24133 missing from current font.\n",
      "  font.set_text(s, 0, flags=flags)\n",
      "/opt/anaconda3/lib/python3.7/site-packages/matplotlib/backends/backend_agg.py:183: RuntimeWarning: Glyph 19978 missing from current font.\n",
      "  font.set_text(s, 0, flags=flags)\n",
      "/opt/anaconda3/lib/python3.7/site-packages/matplotlib/backends/backend_agg.py:183: RuntimeWarning: Glyph 35777 missing from current font.\n",
      "  font.set_text(s, 0, flags=flags)\n",
      "/opt/anaconda3/lib/python3.7/site-packages/matplotlib/backends/backend_agg.py:183: RuntimeWarning: Glyph 32508 missing from current font.\n",
      "  font.set_text(s, 0, flags=flags)\n",
      "/opt/anaconda3/lib/python3.7/site-packages/matplotlib/backends/backend_agg.py:183: RuntimeWarning: Glyph 25351 missing from current font.\n",
      "  font.set_text(s, 0, flags=flags)\n",
      "/opt/anaconda3/lib/python3.7/site-packages/matplotlib/backends/backend_agg.py:183: RuntimeWarning: Glyph 20215 missing from current font.\n",
      "  font.set_text(s, 0, flags=flags)\n",
      "/opt/anaconda3/lib/python3.7/site-packages/matplotlib/backends/backend_agg.py:183: RuntimeWarning: Glyph 26684 missing from current font.\n",
      "  font.set_text(s, 0, flags=flags)\n",
      "/opt/anaconda3/lib/python3.7/site-packages/matplotlib/backends/backend_agg.py:183: RuntimeWarning: Glyph 36208 missing from current font.\n",
      "  font.set_text(s, 0, flags=flags)\n",
      "/opt/anaconda3/lib/python3.7/site-packages/matplotlib/backends/backend_agg.py:183: RuntimeWarning: Glyph 21183 missing from current font.\n",
      "  font.set_text(s, 0, flags=flags)\n"
     ]
    },
    {
     "data": {
      "image/png": "[encoded data removed]",
      "text/plain": [
       "<Figure size 1008x432 with 1 Axes>"
      ]
     },
     "metadata": {
      "needs_background": "light"
     },
     "output_type": "display_data"
    }
   ],
   "source": [
    "plot_stock('sh','上证综指','2010-01-01','2020-07-17')"
   ]
  },
  {
   "cell_type": "code",
   "execution_count": 8,
   "metadata": {
    "ExecuteTime": {
     "end_time": "2020-07-22T12:25:30.039651Z",
     "start_time": "2020-07-22T12:25:08.185790Z"
    }
   },
   "outputs": [
    {
     "name": "stdout",
     "output_type": "stream",
     "text": [
      "本接口即将停止更新，请尽快使用Pro版接口：https://tushare.pro/document/2\n",
      "期初总资金: 1000000.00\n",
      "2020-07-17,(组合线：20,5)；         期末总资金: 1390120.23\n",
      "2020-07-17,(组合线：20,10)；         期末总资金: 1277599.38\n",
      "2020-07-17,(组合线：20,15)；         期末总资金: 1364670.21\n",
      "2020-07-17,(组合线：25,5)；         期末总资金: 1382881.56\n",
      "2020-07-17,(组合线：25,10)；         期末总资金: 1243270.56\n",
      "2020-07-17,(组合线：25,15)；         期末总资金: 1252566.38\n",
      "2020-07-17,(组合线：30,5)；         期末总资金: 1320310.90\n",
      "2020-07-17,(组合线：30,10)；         期末总资金: 1401899.81\n",
      "2020-07-17,(组合线：30,15)；         期末总资金: 1356889.13\n",
      "2020-07-17,(组合线：35,5)；         期末总资金: 1289133.30\n",
      "2020-07-17,(组合线：35,10)；         期末总资金: 1257212.45\n",
      "2020-07-17,(组合线：35,15)；         期末总资金: 1281212.74\n",
      "2020-07-17,(组合线：40,5)；         期末总资金: 1309812.05\n",
      "2020-07-17,(组合线：40,10)；         期末总资金: 1297384.29\n",
      "2020-07-17,(组合线：40,15)；         期末总资金: 1384260.64\n",
      "2020-07-17,(组合线：45,5)；         期末总资金: 1291239.64\n",
      "2020-07-17,(组合线：45,10)；         期末总资金: 1283014.10\n",
      "2020-07-17,(组合线：45,15)；         期末总资金: 1402853.31\n",
      "2020-07-17,(组合线：50,5)；         期末总资金: 1541612.17\n",
      "2020-07-17,(组合线：50,10)；         期末总资金: 1428670.67\n",
      "2020-07-17,(组合线：50,15)；         期末总资金: 1428341.67\n",
      "2020-07-17,(组合线：55,5)；         期末总资金: 1421742.45\n",
      "2020-07-17,(组合线：55,10)；         期末总资金: 1401355.21\n",
      "2020-07-17,(组合线：55,15)；         期末总资金: 1303585.14\n",
      "2020-07-17,(组合线：60,5)；         期末总资金: 1453711.37\n",
      "2020-07-17,(组合线：60,10)；         期末总资金: 1441592.85\n",
      "2020-07-17,(组合线：60,15)；         期末总资金: 1352939.66\n",
      "2020-07-17,(组合线：65,5)；         期末总资金: 1527890.38\n",
      "2020-07-17,(组合线：65,10)；         期末总资金: 1470179.85\n",
      "2020-07-17,(组合线：65,15)；         期末总资金: 1417375.85\n"
     ]
    }
   ],
   "source": [
    "long_list=range(20,70,5)\n",
    "short_list=range(5,20,5)\n",
    "main('sh',long_list,short_list,'2010-01-01','2020-07-17')"
   ]
  },
  {
   "cell_type": "code",
   "execution_count": 9,
   "metadata": {
    "ExecuteTime": {
     "end_time": "2020-07-22T12:25:37.540969Z",
     "start_time": "2020-07-22T12:25:37.536227Z"
    }
   },
   "outputs": [],
   "source": [
    "def performance(code,long,short,start,end,startcash,com):\n",
    "    cerebro = bt.Cerebro()      \n",
    "    #导入策略参数寻优\n",
    "    cerebro.addstrategy(TurtleStrategy,long_period=long,short_period=short)    \n",
    "    #获取数据\n",
    "    df=ts.get_k_data(code,autype='qfq',start=start,end=end)\n",
    "    df.index=pd.to_datetime(df.date)\n",
    "    df=df[['open','high','low','close','volume']]\n",
    "    #将数据加载至回测系统\n",
    "    data = bt.feeds.PandasData(dataname=df)    \n",
    "    cerebro.adddata(data)\n",
    "    #broker设置资金、手续费\n",
    "    cerebro.broker.setcash(startcash)           \n",
    "    cerebro.broker.setcommission(commission=com)    \n",
    "    #设置买入设置，策略，数量\n",
    "    cerebro.addsizer(TradeSizer)   \n",
    "    df00,df0,df1,df2,df3,df4=bt.out_result(cerebro)\n",
    "    return df00,df0,df1,df2,df3,df4"
   ]
  },
  {
   "cell_type": "code",
   "execution_count": 10,
   "metadata": {
    "ExecuteTime": {
     "end_time": "2020-07-22T12:25:40.654199Z",
     "start_time": "2020-07-22T12:25:39.296874Z"
    }
   },
   "outputs": [
    {
     "name": "stdout",
     "output_type": "stream",
     "text": [
      "本接口即将停止更新，请尽快使用Pro版接口：https://tushare.pro/document/2\n"
     ]
    },
    {
     "ename": "TypeError",
     "evalue": "out_result() missing 1 required positional argument: 'data'",
     "output_type": "error",
     "traceback": [
      "\u001b[0;31m---------------------------------------------------------------------------\u001b[0m",
      "\u001b[0;31mTypeError\u001b[0m                                 Traceback (most recent call last)",
      "\u001b[0;32m<ipython-input-10-5f66ce45c93f>\u001b[0m in \u001b[0;36m<module>\u001b[0;34m\u001b[0m\n\u001b[0;32m----> 1\u001b[0;31m \u001b[0mdf00\u001b[0m\u001b[0;34m,\u001b[0m\u001b[0mdf0\u001b[0m\u001b[0;34m,\u001b[0m\u001b[0mdf1\u001b[0m\u001b[0;34m,\u001b[0m\u001b[0mdf2\u001b[0m\u001b[0;34m,\u001b[0m\u001b[0mdf3\u001b[0m\u001b[0;34m,\u001b[0m\u001b[0mdf4\u001b[0m\u001b[0;34m=\u001b[0m\u001b[0mperformance\u001b[0m\u001b[0;34m(\u001b[0m\u001b[0;34m'sh'\u001b[0m\u001b[0;34m,\u001b[0m\u001b[0;36m50\u001b[0m\u001b[0;34m,\u001b[0m\u001b[0;36m5\u001b[0m\u001b[0;34m,\u001b[0m\u001b[0;34m'2010-01-01'\u001b[0m\u001b[0;34m,\u001b[0m\u001b[0;34m'2020-07-17'\u001b[0m\u001b[0;34m,\u001b[0m\u001b[0;36m1000000\u001b[0m\u001b[0;34m,\u001b[0m\u001b[0;36m0.001\u001b[0m\u001b[0;34m)\u001b[0m\u001b[0;34m\u001b[0m\u001b[0;34m\u001b[0m\u001b[0m\n\u001b[0m",
      "\u001b[0;32m<ipython-input-9-287a1611b6d2>\u001b[0m in \u001b[0;36mperformance\u001b[0;34m(code, long, short, start, end, startcash, com)\u001b[0m\n\u001b[1;32m     15\u001b[0m     \u001b[0;31m#设置买入设置，策略，数量\u001b[0m\u001b[0;34m\u001b[0m\u001b[0;34m\u001b[0m\u001b[0;34m\u001b[0m\u001b[0m\n\u001b[1;32m     16\u001b[0m     \u001b[0mcerebro\u001b[0m\u001b[0;34m.\u001b[0m\u001b[0maddsizer\u001b[0m\u001b[0;34m(\u001b[0m\u001b[0mTradeSizer\u001b[0m\u001b[0;34m)\u001b[0m\u001b[0;34m\u001b[0m\u001b[0;34m\u001b[0m\u001b[0m\n\u001b[0;32m---> 17\u001b[0;31m     \u001b[0mdf00\u001b[0m\u001b[0;34m,\u001b[0m\u001b[0mdf0\u001b[0m\u001b[0;34m,\u001b[0m\u001b[0mdf1\u001b[0m\u001b[0;34m,\u001b[0m\u001b[0mdf2\u001b[0m\u001b[0;34m,\u001b[0m\u001b[0mdf3\u001b[0m\u001b[0;34m,\u001b[0m\u001b[0mdf4\u001b[0m\u001b[0;34m=\u001b[0m\u001b[0mbt\u001b[0m\u001b[0;34m.\u001b[0m\u001b[0mout_result\u001b[0m\u001b[0;34m(\u001b[0m\u001b[0mcerebro\u001b[0m\u001b[0;34m)\u001b[0m\u001b[0;34m\u001b[0m\u001b[0;34m\u001b[0m\u001b[0m\n\u001b[0m\u001b[1;32m     18\u001b[0m     \u001b[0;32mreturn\u001b[0m \u001b[0mdf00\u001b[0m\u001b[0;34m,\u001b[0m\u001b[0mdf0\u001b[0m\u001b[0;34m,\u001b[0m\u001b[0mdf1\u001b[0m\u001b[0;34m,\u001b[0m\u001b[0mdf2\u001b[0m\u001b[0;34m,\u001b[0m\u001b[0mdf3\u001b[0m\u001b[0;34m,\u001b[0m\u001b[0mdf4\u001b[0m\u001b[0;34m\u001b[0m\u001b[0;34m\u001b[0m\u001b[0m\n",
      "\u001b[0;31mTypeError\u001b[0m: out_result() missing 1 required positional argument: 'data'"
     ]
    }
   ],
   "source": [
    "df00,df0,df1,df2,df3,df4=performance('sh',50,5,'2010-01-01','2020-07-17',1000000,0.001)"
   ]
  },
  {
   "cell_type": "code",
   "execution_count": 11,
   "metadata": {
    "ExecuteTime": {
     "end_time": "2020-07-22T12:25:56.750180Z",
     "start_time": "2020-07-22T12:25:56.743875Z"
    }
   },
   "outputs": [
    {
     "ename": "NameError",
     "evalue": "name 'df00' is not defined",
     "output_type": "error",
     "traceback": [
      "\u001b[0;31m---------------------------------------------------------------------------\u001b[0m",
      "\u001b[0;31mNameError\u001b[0m                                 Traceback (most recent call last)",
      "\u001b[0;32m<ipython-input-11-91ce6cea802e>\u001b[0m in \u001b[0;36m<module>\u001b[0;34m\u001b[0m\n\u001b[0;32m----> 1\u001b[0;31m \u001b[0mdf00\u001b[0m\u001b[0;34m\u001b[0m\u001b[0;34m\u001b[0m\u001b[0m\n\u001b[0m",
      "\u001b[0;31mNameError\u001b[0m: name 'df00' is not defined"
     ]
    }
   ],
   "source": [
    "df00"
   ]
  },
  {
   "cell_type": "code",
   "execution_count": 59,
   "metadata": {
    "ExecuteTime": {
     "end_time": "2020-07-20T02:14:36.621633Z",
     "start_time": "2020-07-20T02:14:36.609708Z"
    }
   },
   "outputs": [],
   "source": [
    "from pyecharts import Line,Bar\n",
    "def plot_result_py(data,v,title,plot_type='line',zoom=False):\n",
    "    att=data.index\n",
    "    try:\n",
    "        attr=att.strftime('%Y%m%d')\n",
    "    except:\n",
    "        attr=att\n",
    "    if plot_type=='line':\n",
    "        p=Line(title)\n",
    "        p.add('',attr,list(data[v].round(2)),\n",
    "         is_symbol_show=False,line_width=2,\n",
    "        is_datazoom_show=zoom,is_splitline_show=True)\n",
    "    else:\n",
    "        p=Bar(title)\n",
    "        p.add('',attr,[int(i*1000)/10 for i in list(data[v])],\n",
    "              is_label_show=True,\n",
    "        is_datazoom_show=zoom,is_splitline_show=True)\n",
    "    return p"
   ]
  },
  {
   "cell_type": "code",
   "execution_count": 60,
   "metadata": {
    "ExecuteTime": {
     "end_time": "2020-07-20T02:14:36.790184Z",
     "start_time": "2020-07-20T02:14:36.783204Z"
    }
   },
   "outputs": [],
   "source": [
    "#plot_result_py(df0,'total_value','账户价值')"
   ]
  },
  {
   "cell_type": "code",
   "execution_count": 61,
   "metadata": {
    "ExecuteTime": {
     "end_time": "2020-07-20T02:14:36.948790Z",
     "start_time": "2020-07-20T02:14:36.943803Z"
    }
   },
   "outputs": [],
   "source": [
    "#plot_result_py(df4,'total_position_value','持仓市值')"
   ]
  },
  {
   "cell_type": "code",
   "execution_count": 62,
   "metadata": {
    "ExecuteTime": {
     "end_time": "2020-07-20T02:14:37.125823Z",
     "start_time": "2020-07-20T02:14:37.118841Z"
    }
   },
   "outputs": [],
   "source": [
    "#plot_result_py(df3,'year_rate','年化收益%',plot_type='bar')"
   ]
  },
  {
   "cell_type": "code",
   "execution_count": 63,
   "metadata": {
    "ExecuteTime": {
     "end_time": "2020-07-20T02:14:37.268870Z",
     "start_time": "2020-07-20T02:14:37.263919Z"
    }
   },
   "outputs": [],
   "source": [
    "#plot_stock('601318','中国平安','2010-01-01','2020-07-17')"
   ]
  },
  {
   "cell_type": "code",
   "execution_count": 64,
   "metadata": {
    "ExecuteTime": {
     "end_time": "2020-07-20T02:14:37.602581Z",
     "start_time": "2020-07-20T02:14:37.597589Z"
    }
   },
   "outputs": [],
   "source": [
    "#long_list=range(20,70,5)\n",
    "#short_list=range(5,20,5)\n",
    "#main('601318',long_list,short_list,'2010-01-01','2020-07-16',startcash=100000)"
   ]
  },
  {
   "cell_type": "code",
   "execution_count": 65,
   "metadata": {
    "ExecuteTime": {
     "end_time": "2020-07-20T02:14:41.556433Z",
     "start_time": "2020-07-20T02:14:38.127550Z"
    }
   },
   "outputs": [
    {
     "name": "stdout",
     "output_type": "stream",
     "text": [
      "2020-07-17,(组合线：20,10)；         期末总资金: 280003.47\n"
     ]
    }
   ],
   "source": [
    "zgpa00,zgpa0,zgpa1,zgpa2,zgpa3,zgpa4=performance('601318',20,10,'2010-01-01','2020-07-17',100000,0.001)"
   ]
  },
  {
   "cell_type": "code",
   "execution_count": 66,
   "metadata": {
    "ExecuteTime": {
     "end_time": "2020-07-20T02:14:41.567127Z",
     "start_time": "2020-07-20T02:14:41.560145Z"
    }
   },
   "outputs": [],
   "source": [
    "#zgpa00"
   ]
  },
  {
   "cell_type": "code",
   "execution_count": 67,
   "metadata": {
    "ExecuteTime": {
     "end_time": "2020-07-20T02:14:41.591061Z",
     "start_time": "2020-07-20T02:14:41.574108Z"
    }
   },
   "outputs": [],
   "source": [
    "#plot_result_py(zgpa0,'total_value','账户价值')"
   ]
  },
  {
   "cell_type": "code",
   "execution_count": 68,
   "metadata": {
    "ExecuteTime": {
     "end_time": "2020-07-20T02:14:41.609193Z",
     "start_time": "2020-07-20T02:14:41.598046Z"
    }
   },
   "outputs": [],
   "source": [
    "#plot_result_py(zgpa4,'total_position_value','持仓市值')"
   ]
  },
  {
   "cell_type": "code",
   "execution_count": 69,
   "metadata": {
    "ExecuteTime": {
     "end_time": "2020-07-20T02:14:41.630125Z",
     "start_time": "2020-07-20T02:14:41.623143Z"
    }
   },
   "outputs": [],
   "source": [
    "#plot_result_py(zgpa3,'year_rate','年化收益%',plot_type='bar')"
   ]
  }
 ],
 "metadata": {
  "hide_input": false,
  "kernelspec": {
   "display_name": "Python 3",
   "language": "python",
   "name": "python3"
  },
  "language_info": {
   "codemirror_mode": {
    "name": "ipython",
    "version": 3
   },
   "file_extension": ".py",
   "mimetype": "text/x-python",
   "name": "python",
   "nbconvert_exporter": "python",
   "pygments_lexer": "ipython3",
   "version": "3.7.7"
  },
  "toc": {
   "base_numbering": 1,
   "nav_menu": {},
   "number_sections": true,
   "sideBar": true,
   "skip_h1_title": false,
   "title_cell": "Table of Contents",
   "title_sidebar": "Contents",
   "toc_cell": false,
   "toc_position": {},
   "toc_section_display": true,
   "toc_window_display": false
  }
 },
 "nbformat": 4,
 "nbformat_minor": 2
}
