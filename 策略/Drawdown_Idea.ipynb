{
 "cells": [
  {
   "cell_type": "markdown",
   "metadata": {},
   "source": [
    "## 回撤的思考"
   ]
  },
  {
   "cell_type": "markdown",
   "metadata": {},
   "source": [
    "**怎么定义回撤，是一件比较难的事情：**  \n",
    "\n",
    "1.突破前高，叫一次完整的回撤的完结；  \n",
    "2.在此期间，也就是TimeDrawdown，又会出现新的小回撤，这时候又该如何定义，又该如何操作呢;  \n",
    "3.突破了前高之后也许又会下跌了，这个过程中又如何加减仓位；"
   ]
  },
  {
   "cell_type": "markdown",
   "metadata": {},
   "source": [
    "**回撤与均线的关系：**  \n",
    "\n",
    "H4 H8到底那个级别更能够指明了方向；  \n",
    "均线可否作为一个参考坐标；"
   ]
  },
  {
   "cell_type": "markdown",
   "metadata": {},
   "source": [
    "**回撤与ATR的关系：**  \n",
    "\n",
    "一波大回撤能够承受几个日ATR，当然在这之前也要分析下日kATR的意义所在；  "
   ]
  },
  {
   "cell_type": "markdown",
   "metadata": {},
   "source": [
    "对于一波行情，比如2000点的行情，在不考虑回撤的情况下，我们到底应该如何去操作；  \n",
    "比如，我是一手拿到底，赚2000元还是每500点有一次加仓，这非常重要，当然与你给的止损有很大的关系；"
   ]
  }
 ],
 "metadata": {
  "kernelspec": {
   "display_name": "Python 3",
   "language": "python",
   "name": "python3"
  },
  "language_info": {
   "codemirror_mode": {
    "name": "ipython",
    "version": 3
   },
   "file_extension": ".py",
   "mimetype": "text/x-python",
   "name": "python",
   "nbconvert_exporter": "python",
   "pygments_lexer": "ipython3",
   "version": "3.7.7"
  }
 },
 "nbformat": 4,
 "nbformat_minor": 4
}
