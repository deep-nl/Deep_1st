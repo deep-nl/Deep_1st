{
 "cells": [
  {
   "cell_type": "markdown",
   "metadata": {},
   "source": [
    "## Implement a classic martingale using Python and Pandas"
   ]
  },
  {
   "cell_type": "markdown",
   "metadata": {},
   "source": [
    "It contains toss results (-1=lose 1=win)  \n",
    "\n",
    "I would like to change stake (the amount I bet every bet) using classic martingale.  \n",
    "\n",
    "Initial stake is 1.  \n",
    "\n",
    "If I lose stake will be 2 times previous stake (multiplier=2).  \n",
    "\n",
    "If I win stake will be stake_initial  "
   ]
  },
  {
   "cell_type": "code",
   "execution_count": 2,
   "metadata": {
    "execution": {
     "iopub.execute_input": "2020-07-02T11:47:07.776302Z",
     "iopub.status.busy": "2020-07-02T11:47:07.776302Z",
     "iopub.status.idle": "2020-07-02T11:47:07.822181Z",
     "shell.execute_reply": "2020-07-02T11:47:07.821183Z",
     "shell.execute_reply.started": "2020-07-02T11:47:07.776302Z"
    }
   },
   "outputs": [],
   "source": [
    "# pandas version    one slight change:mark a loss as a 1 and a win as a 0\n",
    "\n",
    "import pandas as pd\n",
    "\n",
    "import numpy as np\n",
    "\n",
    "toss = np.random.randint(0,2,100)\n",
    "\n",
    "toss = pd.Series(toss)\n",
    "\n",
    "steps = (toss.cumsum() * toss).diff() # mask out the cumsum where we won [0 1 2 3 0 0 4 5 6 ...]\n",
    "edges = steps < 0 # find where the cumsum steps down -> where we won\n",
    "dsteps = steps[edges].diff() # find the length of each losing streak\n",
    "dsteps[steps[edges].index[0]] = steps[edges][:1] # fix length of the first run which in now NaN\n",
    "toss2 = toss.copy() # get a copy of the toss series\n",
    "toss2[edges] = dsteps # insert the length of the losing streaks into the copy of the toss results\n",
    "bets = 2 ** (toss2).cumsum() # compute the wagers\n",
    "\n",
    "res = pd.DataFrame({'toss': toss,\n",
    "                    'toss2': toss2,\n",
    "                    'runs': toss2.cumsum(),\n",
    "                    'next_bet': bets})"
   ]
  },
  {
   "cell_type": "code",
   "execution_count": 3,
   "metadata": {
    "collapsed": true,
    "execution": {
     "iopub.execute_input": "2020-07-02T11:52:56.893183Z",
     "iopub.status.busy": "2020-07-02T11:52:56.893183Z",
     "iopub.status.idle": "2020-07-02T11:52:56.908107Z",
     "shell.execute_reply": "2020-07-02T11:52:56.906115Z",
     "shell.execute_reply.started": "2020-07-02T11:52:56.893183Z"
    },
    "jupyter": {
     "outputs_hidden": true
    }
   },
   "outputs": [
    {
     "data": {
      "text/plain": [
       "0     1\n",
       "1     1\n",
       "2     1\n",
       "3     0\n",
       "4     0\n",
       "     ..\n",
       "95    0\n",
       "96    1\n",
       "97    0\n",
       "98    0\n",
       "99    0\n",
       "Length: 100, dtype: int32"
      ]
     },
     "execution_count": 3,
     "metadata": {},
     "output_type": "execute_result"
    }
   ],
   "source": [
    "toss"
   ]
  },
  {
   "cell_type": "code",
   "execution_count": 6,
   "metadata": {
    "execution": {
     "iopub.execute_input": "2020-07-02T12:10:51.151631Z",
     "iopub.status.busy": "2020-07-02T12:10:51.151631Z",
     "iopub.status.idle": "2020-07-02T12:10:51.162168Z",
     "shell.execute_reply": "2020-07-02T12:10:51.162168Z",
     "shell.execute_reply.started": "2020-07-02T12:10:51.151631Z"
    }
   },
   "outputs": [
    {
     "data": {
      "text/html": [
       "<div>\n",
       "<style scoped>\n",
       "    .dataframe tbody tr th:only-of-type {\n",
       "        vertical-align: middle;\n",
       "    }\n",
       "\n",
       "    .dataframe tbody tr th {\n",
       "        vertical-align: top;\n",
       "    }\n",
       "\n",
       "    .dataframe thead th {\n",
       "        text-align: right;\n",
       "    }\n",
       "</style>\n",
       "<table border=\"1\" class=\"dataframe\">\n",
       "  <thead>\n",
       "    <tr style=\"text-align: right;\">\n",
       "      <th></th>\n",
       "      <th>toss</th>\n",
       "      <th>toss2</th>\n",
       "      <th>runs</th>\n",
       "      <th>next_bet</th>\n",
       "    </tr>\n",
       "  </thead>\n",
       "  <tbody>\n",
       "    <tr>\n",
       "      <th>0</th>\n",
       "      <td>1</td>\n",
       "      <td>1</td>\n",
       "      <td>1</td>\n",
       "      <td>2</td>\n",
       "    </tr>\n",
       "    <tr>\n",
       "      <th>1</th>\n",
       "      <td>1</td>\n",
       "      <td>1</td>\n",
       "      <td>2</td>\n",
       "      <td>4</td>\n",
       "    </tr>\n",
       "    <tr>\n",
       "      <th>2</th>\n",
       "      <td>1</td>\n",
       "      <td>1</td>\n",
       "      <td>3</td>\n",
       "      <td>8</td>\n",
       "    </tr>\n",
       "    <tr>\n",
       "      <th>3</th>\n",
       "      <td>0</td>\n",
       "      <td>-3</td>\n",
       "      <td>0</td>\n",
       "      <td>1</td>\n",
       "    </tr>\n",
       "    <tr>\n",
       "      <th>4</th>\n",
       "      <td>0</td>\n",
       "      <td>0</td>\n",
       "      <td>0</td>\n",
       "      <td>1</td>\n",
       "    </tr>\n",
       "    <tr>\n",
       "      <th>...</th>\n",
       "      <td>...</td>\n",
       "      <td>...</td>\n",
       "      <td>...</td>\n",
       "      <td>...</td>\n",
       "    </tr>\n",
       "    <tr>\n",
       "      <th>95</th>\n",
       "      <td>0</td>\n",
       "      <td>-1</td>\n",
       "      <td>0</td>\n",
       "      <td>1</td>\n",
       "    </tr>\n",
       "    <tr>\n",
       "      <th>96</th>\n",
       "      <td>1</td>\n",
       "      <td>1</td>\n",
       "      <td>1</td>\n",
       "      <td>2</td>\n",
       "    </tr>\n",
       "    <tr>\n",
       "      <th>97</th>\n",
       "      <td>0</td>\n",
       "      <td>-1</td>\n",
       "      <td>0</td>\n",
       "      <td>1</td>\n",
       "    </tr>\n",
       "    <tr>\n",
       "      <th>98</th>\n",
       "      <td>0</td>\n",
       "      <td>0</td>\n",
       "      <td>0</td>\n",
       "      <td>1</td>\n",
       "    </tr>\n",
       "    <tr>\n",
       "      <th>99</th>\n",
       "      <td>0</td>\n",
       "      <td>0</td>\n",
       "      <td>0</td>\n",
       "      <td>1</td>\n",
       "    </tr>\n",
       "  </tbody>\n",
       "</table>\n",
       "<p>100 rows × 4 columns</p>\n",
       "</div>"
      ],
      "text/plain": [
       "    toss  toss2  runs  next_bet\n",
       "0      1      1     1         2\n",
       "1      1      1     2         4\n",
       "2      1      1     3         8\n",
       "3      0     -3     0         1\n",
       "4      0      0     0         1\n",
       "..   ...    ...   ...       ...\n",
       "95     0     -1     0         1\n",
       "96     1      1     1         2\n",
       "97     0     -1     0         1\n",
       "98     0      0     0         1\n",
       "99     0      0     0         1\n",
       "\n",
       "[100 rows x 4 columns]"
      ]
     },
     "execution_count": 6,
     "metadata": {},
     "output_type": "execute_result"
    }
   ],
   "source": [
    "res"
   ]
  },
  {
   "cell_type": "code",
   "execution_count": 5,
   "metadata": {
    "execution": {
     "iopub.execute_input": "2020-07-02T12:10:16.699374Z",
     "iopub.status.busy": "2020-07-02T12:10:16.699374Z",
     "iopub.status.idle": "2020-07-02T12:10:16.714953Z",
     "shell.execute_reply": "2020-07-02T12:10:16.713985Z",
     "shell.execute_reply.started": "2020-07-02T12:10:16.699374Z"
    }
   },
   "outputs": [
    {
     "ename": "IndexError",
     "evalue": "boolean index did not match indexed array along dimension 0; dimension is 100 but corresponding boolean dimension is 99",
     "output_type": "error",
     "traceback": [
      "\u001b[1;31m---------------------------------------------------------------------------\u001b[0m",
      "\u001b[1;31mIndexError\u001b[0m                                Traceback (most recent call last)",
      "\u001b[1;32m<ipython-input-5-8f3312710bc2>\u001b[0m in \u001b[0;36m<module>\u001b[1;34m\u001b[0m\n\u001b[0;32m     10\u001b[0m \u001b[0minit_step\u001b[0m \u001b[1;33m=\u001b[0m \u001b[0msteps\u001b[0m\u001b[1;33m[\u001b[0m\u001b[0medges\u001b[0m\u001b[1;33m]\u001b[0m\u001b[1;33m[\u001b[0m\u001b[1;36m0\u001b[0m\u001b[1;33m]\u001b[0m\u001b[1;33m\u001b[0m\u001b[1;33m\u001b[0m\u001b[0m\n\u001b[0;32m     11\u001b[0m \u001b[0mtoss2\u001b[0m \u001b[1;33m=\u001b[0m \u001b[0mnp\u001b[0m\u001b[1;33m.\u001b[0m\u001b[0marray\u001b[0m\u001b[1;33m(\u001b[0m\u001b[0mtoss\u001b[0m\u001b[1;33m)\u001b[0m\u001b[1;33m\u001b[0m\u001b[1;33m\u001b[0m\u001b[0m\n\u001b[1;32m---> 12\u001b[1;33m \u001b[0mtoss2\u001b[0m\u001b[1;33m[\u001b[0m\u001b[0medges_shift\u001b[0m\u001b[1;33m]\u001b[0m \u001b[1;33m=\u001b[0m \u001b[0mnp\u001b[0m\u001b[1;33m.\u001b[0m\u001b[0mappend\u001b[0m\u001b[1;33m(\u001b[0m\u001b[0minit_step\u001b[0m\u001b[1;33m,\u001b[0m \u001b[0mnp\u001b[0m\u001b[1;33m.\u001b[0m\u001b[0mdiff\u001b[0m\u001b[1;33m(\u001b[0m\u001b[0msteps\u001b[0m\u001b[1;33m[\u001b[0m\u001b[0medges\u001b[0m\u001b[1;33m]\u001b[0m\u001b[1;33m)\u001b[0m\u001b[1;33m)\u001b[0m\u001b[1;33m\u001b[0m\u001b[1;33m\u001b[0m\u001b[0m\n\u001b[0m\u001b[0;32m     13\u001b[0m \u001b[0mbets\u001b[0m \u001b[1;33m=\u001b[0m \u001b[1;36m2\u001b[0m \u001b[1;33m**\u001b[0m \u001b[0mnp\u001b[0m\u001b[1;33m.\u001b[0m\u001b[0mcumsum\u001b[0m\u001b[1;33m(\u001b[0m\u001b[0mtoss2\u001b[0m\u001b[1;33m)\u001b[0m\u001b[1;33m\u001b[0m\u001b[1;33m\u001b[0m\u001b[0m\n\u001b[0;32m     14\u001b[0m \u001b[1;33m\u001b[0m\u001b[0m\n",
      "\u001b[1;31mIndexError\u001b[0m: boolean index did not match indexed array along dimension 0; dimension is 100 but corresponding boolean dimension is 99"
     ]
    }
   ],
   "source": [
    "# Numpy version\n",
    "# This is the pure numpy version (my native language is it were)\n",
    "# There is a bit of fineagling to get the arrays to line up that pandas does for you\n",
    "\n",
    "toss = np.random.randint(0,2,100)\n",
    "\n",
    "steps = np.diff(np.cumsum(toss) * toss)\n",
    "edges = steps < 0\n",
    "edges_shift = np.append(False, edges[:-1])\n",
    "init_step = steps[edges][0]\n",
    "toss2 = np.array(toss)\n",
    "toss2[edges_shift] = np.append(init_step, np.diff(steps[edges]))\n",
    "bets = 2 ** np.cumsum(toss2)\n",
    "\n",
    "fmt_dict = {1:'l', 0:'w'}\n",
    "for t, b in zip(toss, bets):\n",
    "    print(fmt_dict[t] + '-> {0:d}'.format(b))"
   ]
  },
  {
   "cell_type": "code",
   "execution_count": null,
   "metadata": {},
   "outputs": [],
   "source": []
  }
 ],
 "metadata": {
  "kernelspec": {
   "display_name": "Python 3",
   "language": "python",
   "name": "python3"
  },
  "language_info": {
   "codemirror_mode": {
    "name": "ipython",
    "version": 3
   },
   "file_extension": ".py",
   "mimetype": "text/x-python",
   "name": "python",
   "nbconvert_exporter": "python",
   "pygments_lexer": "ipython3",
   "version": "3.7.7"
  }
 },
 "nbformat": 4,
 "nbformat_minor": 4
}
