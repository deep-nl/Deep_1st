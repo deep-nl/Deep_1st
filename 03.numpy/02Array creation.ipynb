{
 "cells": [
  {
   "cell_type": "code",
   "execution_count": 1,
   "metadata": {},
   "outputs": [],
   "source": [
    "import pandas as pd\n",
    "import numpy as np"
   ]
  },
  {
   "cell_type": "markdown",
   "metadata": {},
   "source": [
    "## Ones and zeros"
   ]
  },
  {
   "cell_type": "code",
   "execution_count": 8,
   "metadata": {},
   "outputs": [],
   "source": [
    "#显示所有列\n",
    "pd.set_option('display.max_columns', None)\n",
    "#显示所有行\n",
    "pd.set_option('display.max_rows', None)\n",
    "#设置value的显示长度为100，默认为50\n",
    "pd.set_option('max_colwidth',100)"
   ]
  },
  {
   "cell_type": "code",
   "execution_count": 7,
   "metadata": {},
   "outputs": [
    {
     "data": {
      "text/html": [
       "<div>\n",
       "<style scoped>\n",
       "    .dataframe tbody tr th:only-of-type {\n",
       "        vertical-align: middle;\n",
       "    }\n",
       "\n",
       "    .dataframe tbody tr th {\n",
       "        vertical-align: top;\n",
       "    }\n",
       "\n",
       "    .dataframe thead th {\n",
       "        text-align: right;\n",
       "    }\n",
       "</style>\n",
       "<table border=\"1\" class=\"dataframe\">\n",
       "  <thead>\n",
       "    <tr style=\"text-align: right;\">\n",
       "      <th></th>\n",
       "      <th>方法</th>\n",
       "      <th>意义</th>\n",
       "    </tr>\n",
       "  </thead>\n",
       "  <tbody>\n",
       "    <tr>\n",
       "      <td>0</td>\n",
       "      <td>empty(shape[, dtype, order])</td>\n",
       "      <td>Return a new array of given shape and type, without initializing entries.</td>\n",
       "    </tr>\n",
       "    <tr>\n",
       "      <td>1</td>\n",
       "      <td>empty_like(prototype[, dtype, order, subok, …])</td>\n",
       "      <td>Return a new array with the same shape and type as a given array.</td>\n",
       "    </tr>\n",
       "    <tr>\n",
       "      <td>2</td>\n",
       "      <td>eye(N[, M, k, dtype, order])</td>\n",
       "      <td>Return a 2-D array with ones on the diagonal and zeros elsewhere.</td>\n",
       "    </tr>\n",
       "    <tr>\n",
       "      <td>3</td>\n",
       "      <td>identity(n[, dtype])</td>\n",
       "      <td>Return the identity array.</td>\n",
       "    </tr>\n",
       "    <tr>\n",
       "      <td>4</td>\n",
       "      <td>ones(shape[, dtype, order])</td>\n",
       "      <td>Return a new array of given shape and type, filled with ones.</td>\n",
       "    </tr>\n",
       "    <tr>\n",
       "      <td>5</td>\n",
       "      <td>ones_like(a[, dtype, order, subok, shape])</td>\n",
       "      <td>Return an array of ones with the same shape and type as a given array.</td>\n",
       "    </tr>\n",
       "    <tr>\n",
       "      <td>6</td>\n",
       "      <td>zeros(shape[, dtype, order])</td>\n",
       "      <td>Return a new array of given shape and type, filled with zeros.</td>\n",
       "    </tr>\n",
       "    <tr>\n",
       "      <td>7</td>\n",
       "      <td>zeros_like(a[, dtype, order, subok, shape])</td>\n",
       "      <td>Return an array of zeros with the same shape and type as a given array.</td>\n",
       "    </tr>\n",
       "    <tr>\n",
       "      <td>8</td>\n",
       "      <td>full(shape, fill_value[, dtype, order])</td>\n",
       "      <td>Return a new array of given shape and type, filled with fill_value.</td>\n",
       "    </tr>\n",
       "    <tr>\n",
       "      <td>9</td>\n",
       "      <td>full_like(a, fill_value[, dtype, order, …])</td>\n",
       "      <td>Return a full array with the same shape and type as a given array.</td>\n",
       "    </tr>\n",
       "  </tbody>\n",
       "</table>\n",
       "</div>"
      ],
      "text/plain": [
       "                                                方法  \\\n",
       "0                     empty(shape[, dtype, order])   \n",
       "1  empty_like(prototype[, dtype, order, subok, …])   \n",
       "2                     eye(N[, M, k, dtype, order])   \n",
       "3                             identity(n[, dtype])   \n",
       "4                      ones(shape[, dtype, order])   \n",
       "5       ones_like(a[, dtype, order, subok, shape])   \n",
       "6                     zeros(shape[, dtype, order])   \n",
       "7      zeros_like(a[, dtype, order, subok, shape])   \n",
       "8          full(shape, fill_value[, dtype, order])   \n",
       "9      full_like(a, fill_value[, dtype, order, …])   \n",
       "\n",
       "                                                                          意义  \n",
       "0  Return a new array of given shape and type, without initializing entries.  \n",
       "1          Return a new array with the same shape and type as a given array.  \n",
       "2          Return a 2-D array with ones on the diagonal and zeros elsewhere.  \n",
       "3                                                 Return the identity array.  \n",
       "4              Return a new array of given shape and type, filled with ones.  \n",
       "5     Return an array of ones with the same shape and type as a given array.  \n",
       "6             Return a new array of given shape and type, filled with zeros.  \n",
       "7    Return an array of zeros with the same shape and type as a given array.  \n",
       "8        Return a new array of given shape and type, filled with fill_value.  \n",
       "9         Return a full array with the same shape and type as a given array.  "
      ]
     },
     "execution_count": 7,
     "metadata": {},
     "output_type": "execute_result"
    }
   ],
   "source": [
    "data=pd.read_clipboard()\n",
    "data"
   ]
  },
  {
   "cell_type": "markdown",
   "metadata": {},
   "source": [
    "### numpy.identity"
   ]
  },
  {
   "cell_type": "markdown",
   "metadata": {},
   "source": [
    "numpy.identity(n, dtype=None)  \n",
    "**Parameters**  \n",
    "n:int    Number of rows (and columns) in n x n output.  \n",
    "\n",
    "dtype:data-type, optional   Data-type of the output. Defaults to float.  \n",
    "\n",
    "Returns\n",
    "out:ndarray\n",
    "n x n array with its main diagonal set to one, and all other elements 0."
   ]
  },
  {
   "cell_type": "code",
   "execution_count": 23,
   "metadata": {},
   "outputs": [
    {
     "name": "stdout",
     "output_type": "stream",
     "text": [
      "[[1. 0. 0.]\n",
      " [0. 1. 0.]\n",
      " [0. 0. 1.]]\n"
     ]
    }
   ],
   "source": [
    "x=np.identity(3)\n",
    "print(x)"
   ]
  },
  {
   "cell_type": "code",
   "execution_count": 25,
   "metadata": {},
   "outputs": [
    {
     "name": "stdout",
     "output_type": "stream",
     "text": [
      "[0 1 2]\n"
     ]
    }
   ],
   "source": [
    "y=np.arange(3)\n",
    "print(y)"
   ]
  },
  {
   "cell_type": "code",
   "execution_count": 26,
   "metadata": {},
   "outputs": [
    {
     "data": {
      "text/plain": [
       "dtype('int32')"
      ]
     },
     "execution_count": 26,
     "metadata": {},
     "output_type": "execute_result"
    }
   ],
   "source": [
    "y.dtype"
   ]
  },
  {
   "cell_type": "code",
   "execution_count": 27,
   "metadata": {},
   "outputs": [
    {
     "data": {
      "text/plain": [
       "dtype('float64')"
      ]
     },
     "execution_count": 27,
     "metadata": {},
     "output_type": "execute_result"
    }
   ],
   "source": [
    "x.dtype"
   ]
  },
  {
   "cell_type": "code",
   "execution_count": 29,
   "metadata": {},
   "outputs": [
    {
     "name": "stdout",
     "output_type": "stream",
     "text": [
      "[[0. 1. 2.]\n",
      " [3. 4. 5.]\n",
      " [6. 7. 8.]]\n"
     ]
    }
   ],
   "source": [
    "z=np.array([[0,1,2],[3,4,5],[6,7,8]], dtype=np.float64)\n",
    "print(z)"
   ]
  },
  {
   "cell_type": "code",
   "execution_count": 30,
   "metadata": {},
   "outputs": [],
   "source": [
    "q=x*z"
   ]
  },
  {
   "cell_type": "code",
   "execution_count": 31,
   "metadata": {},
   "outputs": [
    {
     "name": "stdout",
     "output_type": "stream",
     "text": [
      "[[0. 0. 0.]\n",
      " [0. 4. 0.]\n",
      " [0. 0. 8.]]\n"
     ]
    }
   ],
   "source": [
    "print(q)"
   ]
  },
  {
   "cell_type": "markdown",
   "metadata": {},
   "source": [
    "## From existing data"
   ]
  },
  {
   "cell_type": "code",
   "execution_count": 10,
   "metadata": {},
   "outputs": [
    {
     "data": {
      "text/html": [
       "<div>\n",
       "<style scoped>\n",
       "    .dataframe tbody tr th:only-of-type {\n",
       "        vertical-align: middle;\n",
       "    }\n",
       "\n",
       "    .dataframe tbody tr th {\n",
       "        vertical-align: top;\n",
       "    }\n",
       "\n",
       "    .dataframe thead th {\n",
       "        text-align: right;\n",
       "    }\n",
       "</style>\n",
       "<table border=\"1\" class=\"dataframe\">\n",
       "  <thead>\n",
       "    <tr style=\"text-align: right;\">\n",
       "      <th></th>\n",
       "      <th>方法</th>\n",
       "      <th>意义</th>\n",
       "    </tr>\n",
       "  </thead>\n",
       "  <tbody>\n",
       "    <tr>\n",
       "      <td>0</td>\n",
       "      <td>array(object[, dtype, copy, order, subok, ndmin])</td>\n",
       "      <td>Create an array.</td>\n",
       "    </tr>\n",
       "    <tr>\n",
       "      <td>1</td>\n",
       "      <td>asarray(a[, dtype, order])</td>\n",
       "      <td>Convert the input to an array.</td>\n",
       "    </tr>\n",
       "    <tr>\n",
       "      <td>2</td>\n",
       "      <td>asanyarray(a[, dtype, order])</td>\n",
       "      <td>Convert the input to an ndarray, but pass ndarray subclasses through.</td>\n",
       "    </tr>\n",
       "    <tr>\n",
       "      <td>3</td>\n",
       "      <td>ascontiguousarray(a[, dtype])</td>\n",
       "      <td>Return a contiguous array (ndim &gt;= 1) in memory (C order).</td>\n",
       "    </tr>\n",
       "    <tr>\n",
       "      <td>4</td>\n",
       "      <td>asmatrix(data[, dtype])</td>\n",
       "      <td>Interpret the input as a matrix.</td>\n",
       "    </tr>\n",
       "    <tr>\n",
       "      <td>5</td>\n",
       "      <td>copy(a[, order])</td>\n",
       "      <td>Return an array copy of the given object.</td>\n",
       "    </tr>\n",
       "    <tr>\n",
       "      <td>6</td>\n",
       "      <td>frombuffer(buffer[, dtype, count, offset])</td>\n",
       "      <td>Interpret a buffer as a 1-dimensional array.</td>\n",
       "    </tr>\n",
       "    <tr>\n",
       "      <td>7</td>\n",
       "      <td>fromfile(file[, dtype, count, sep, offset])</td>\n",
       "      <td>Construct an array from data in a text or binary file.</td>\n",
       "    </tr>\n",
       "    <tr>\n",
       "      <td>8</td>\n",
       "      <td>fromfunction(function, shape, \\*[, dtype])</td>\n",
       "      <td>Construct an array by executing a function over each coordinate.</td>\n",
       "    </tr>\n",
       "    <tr>\n",
       "      <td>9</td>\n",
       "      <td>fromiter(iterable, dtype[, count])</td>\n",
       "      <td>Create a new 1-dimensional array from an iterable object.</td>\n",
       "    </tr>\n",
       "    <tr>\n",
       "      <td>10</td>\n",
       "      <td>fromstring(string[, dtype, count, sep])</td>\n",
       "      <td>A new 1-D array initialized from text data in a string.</td>\n",
       "    </tr>\n",
       "    <tr>\n",
       "      <td>11</td>\n",
       "      <td>loadtxt(fname[, dtype, comments, delimiter, …])</td>\n",
       "      <td>Load data from a text file.</td>\n",
       "    </tr>\n",
       "  </tbody>\n",
       "</table>\n",
       "</div>"
      ],
      "text/plain": [
       "                                                   方法  \\\n",
       "0   array(object[, dtype, copy, order, subok, ndmin])   \n",
       "1                          asarray(a[, dtype, order])   \n",
       "2                       asanyarray(a[, dtype, order])   \n",
       "3                       ascontiguousarray(a[, dtype])   \n",
       "4                             asmatrix(data[, dtype])   \n",
       "5                                    copy(a[, order])   \n",
       "6          frombuffer(buffer[, dtype, count, offset])   \n",
       "7         fromfile(file[, dtype, count, sep, offset])   \n",
       "8          fromfunction(function, shape, \\*[, dtype])   \n",
       "9                  fromiter(iterable, dtype[, count])   \n",
       "10            fromstring(string[, dtype, count, sep])   \n",
       "11    loadtxt(fname[, dtype, comments, delimiter, …])   \n",
       "\n",
       "                                                                       意义  \n",
       "0                                                        Create an array.  \n",
       "1                                          Convert the input to an array.  \n",
       "2   Convert the input to an ndarray, but pass ndarray subclasses through.  \n",
       "3              Return a contiguous array (ndim >= 1) in memory (C order).  \n",
       "4                                        Interpret the input as a matrix.  \n",
       "5                               Return an array copy of the given object.  \n",
       "6                            Interpret a buffer as a 1-dimensional array.  \n",
       "7                  Construct an array from data in a text or binary file.  \n",
       "8        Construct an array by executing a function over each coordinate.  \n",
       "9               Create a new 1-dimensional array from an iterable object.  \n",
       "10                A new 1-D array initialized from text data in a string.  \n",
       "11                                            Load data from a text file.  "
      ]
     },
     "execution_count": 10,
     "metadata": {},
     "output_type": "execute_result"
    }
   ],
   "source": [
    "data=pd.read_clipboard()\n",
    "data"
   ]
  },
  {
   "cell_type": "code",
   "execution_count": null,
   "metadata": {},
   "outputs": [],
   "source": []
  },
  {
   "cell_type": "markdown",
   "metadata": {},
   "source": [
    "### numpy.fromstring"
   ]
  },
  {
   "cell_type": "markdown",
   "metadata": {},
   "source": [
    "fromstring(s, dtype)这个函数是比较又意思的，将字符串转换为一个narray对象， 我们先看看这个函数输出情况。\n",
    "**fromstring(string[, dtype, count, sep])**  \n",
    "Parameters\n",
    "string:str A string containing the data.\n",
    "dtype:data-type, optional\n",
    "The data type of the array; default: float. For binary input data, the data must be in exactly this format. Most builtin numeric types are supported and extension types may be supported.  \n",
    "count:int, optional  \n",
    "Read this number of dtype elements from the data. If this is negative (the default), the count will be determined from the length of the data.  \n",
    "\n",
    "sep:str, optional\n",
    "The string separating numbers in the data; extra whitespace between elements is also ignored.\n",
    "\n",
    "Returns: arrndarray  The constructed array.\n",
    "\n",
    "Raises  ValueError   If the string is not the correct size to satisfy the requested dtype and count."
   ]
  },
  {
   "cell_type": "code",
   "execution_count": 36,
   "metadata": {},
   "outputs": [
    {
     "name": "stderr",
     "output_type": "stream",
     "text": [
      "D:\\Anaconda\\lib\\site-packages\\ipykernel_launcher.py:2: DeprecationWarning: The binary mode of fromstring is deprecated, as it behaves surprisingly on unicode inputs. Use frombuffer instead\n",
      "  \n"
     ]
    }
   ],
   "source": [
    "s='abcedfg9'\n",
    "ss=np.fromstring(s,np.int8)"
   ]
  },
  {
   "cell_type": "markdown",
   "metadata": {},
   "source": [
    "### numpy.fromfunction"
   ]
  },
  {
   "cell_type": "markdown",
   "metadata": {},
   "source": [
    "fromfunction(fun, dim)通过自定义函数接口来创建narray对象，fun是一个函数名(看作指针)，dim是一个创建对象的维度。"
   ]
  },
  {
   "cell_type": "code",
   "execution_count": 37,
   "metadata": {},
   "outputs": [
    {
     "data": {
      "text/plain": [
       "array([1., 2., 3., 4., 1., 2., 3., 4., 1., 2.])"
      ]
     },
     "execution_count": 37,
     "metadata": {},
     "output_type": "execute_result"
    }
   ],
   "source": [
    "def fun(i):\n",
    "    return i%4+1\n",
    "np.fromfunction(fun,(10,))"
   ]
  },
  {
   "cell_type": "markdown",
   "metadata": {},
   "source": [
    "## Creating record arrays (numpy.rec)"
   ]
  },
  {
   "cell_type": "markdown",
   "metadata": {},
   "source": [
    "## Creating character arrays (numpy.char)"
   ]
  },
  {
   "cell_type": "markdown",
   "metadata": {},
   "source": [
    "## Numerical ranges"
   ]
  },
  {
   "cell_type": "code",
   "execution_count": 11,
   "metadata": {},
   "outputs": [
    {
     "data": {
      "text/html": [
       "<div>\n",
       "<style scoped>\n",
       "    .dataframe tbody tr th:only-of-type {\n",
       "        vertical-align: middle;\n",
       "    }\n",
       "\n",
       "    .dataframe tbody tr th {\n",
       "        vertical-align: top;\n",
       "    }\n",
       "\n",
       "    .dataframe thead th {\n",
       "        text-align: right;\n",
       "    }\n",
       "</style>\n",
       "<table border=\"1\" class=\"dataframe\">\n",
       "  <thead>\n",
       "    <tr style=\"text-align: right;\">\n",
       "      <th></th>\n",
       "      <th>方法</th>\n",
       "      <th>意义</th>\n",
       "    </tr>\n",
       "  </thead>\n",
       "  <tbody>\n",
       "    <tr>\n",
       "      <td>0</td>\n",
       "      <td>arange([start,] stop[, step,][, dtype])</td>\n",
       "      <td>Return evenly spaced values within a given interval.</td>\n",
       "    </tr>\n",
       "    <tr>\n",
       "      <td>1</td>\n",
       "      <td>linspace(start, stop[, num, endpoint, …])</td>\n",
       "      <td>Return evenly spaced numbers over a specified interval.</td>\n",
       "    </tr>\n",
       "    <tr>\n",
       "      <td>2</td>\n",
       "      <td>logspace(start, stop[, num, endpoint, base, …])</td>\n",
       "      <td>Return numbers spaced evenly on a log scale.</td>\n",
       "    </tr>\n",
       "    <tr>\n",
       "      <td>3</td>\n",
       "      <td>geomspace(start, stop[, num, endpoint, …])</td>\n",
       "      <td>Return numbers spaced evenly on a log scale (a geometric progression).</td>\n",
       "    </tr>\n",
       "    <tr>\n",
       "      <td>4</td>\n",
       "      <td>meshgrid(\\*xi[, copy, sparse, indexing])</td>\n",
       "      <td>Return coordinate matrices from coordinate vectors.</td>\n",
       "    </tr>\n",
       "    <tr>\n",
       "      <td>5</td>\n",
       "      <td>mgrid</td>\n",
       "      <td>nd_grid instance which returns a dense multi-dimensional “meshgrid”.</td>\n",
       "    </tr>\n",
       "    <tr>\n",
       "      <td>6</td>\n",
       "      <td>ogrid</td>\n",
       "      <td>nd_grid instance which returns an open multi-dimensional “meshgrid”.</td>\n",
       "    </tr>\n",
       "  </tbody>\n",
       "</table>\n",
       "</div>"
      ],
      "text/plain": [
       "                                                方法  \\\n",
       "0          arange([start,] stop[, step,][, dtype])   \n",
       "1        linspace(start, stop[, num, endpoint, …])   \n",
       "2  logspace(start, stop[, num, endpoint, base, …])   \n",
       "3       geomspace(start, stop[, num, endpoint, …])   \n",
       "4         meshgrid(\\*xi[, copy, sparse, indexing])   \n",
       "5                                            mgrid   \n",
       "6                                            ogrid   \n",
       "\n",
       "                                                                       意义  \n",
       "0                    Return evenly spaced values within a given interval.  \n",
       "1                 Return evenly spaced numbers over a specified interval.  \n",
       "2                            Return numbers spaced evenly on a log scale.  \n",
       "3  Return numbers spaced evenly on a log scale (a geometric progression).  \n",
       "4                     Return coordinate matrices from coordinate vectors.  \n",
       "5    nd_grid instance which returns a dense multi-dimensional “meshgrid”.  \n",
       "6    nd_grid instance which returns an open multi-dimensional “meshgrid”.  "
      ]
     },
     "execution_count": 11,
     "metadata": {},
     "output_type": "execute_result"
    }
   ],
   "source": [
    "data=pd.read_clipboard()\n",
    "data"
   ]
  },
  {
   "cell_type": "markdown",
   "metadata": {},
   "source": [
    "### numpy.arange"
   ]
  },
  {
   "cell_type": "markdown",
   "metadata": {},
   "source": [
    "numpy.arange([start, ]stop, [step, ]dtype=None)"
   ]
  },
  {
   "cell_type": "code",
   "execution_count": 14,
   "metadata": {},
   "outputs": [
    {
     "data": {
      "text/plain": [
       "array([3, 5])"
      ]
     },
     "execution_count": 14,
     "metadata": {},
     "output_type": "execute_result"
    }
   ],
   "source": [
    "np.arange(3)\n",
    "np.arange(3,7,2)"
   ]
  },
  {
   "cell_type": "markdown",
   "metadata": {},
   "source": [
    "### numpy.linspace"
   ]
  },
  {
   "cell_type": "markdown",
   "metadata": {},
   "source": [
    "**numpy.linspace(start, stop, num=50, endpoint=True, retstep=False, dtype=None, axis=0)**    \n",
    "**Parameters**  \n",
    "start:array_like  \n",
    "The starting value of the sequence  .\n",
    "\n",
    "stop:array_like  \n",
    "The end value of the sequence, unless endpoint is set to False. In that case, the sequence consists of all but the last of num + 1 evenly spaced samples, so that stop is excluded. Note that the step size changes when endpoint is False.  \n",
    "\n",
    "num:int, optional  \n",
    "Number of samples to generate. Default is 50. Must be non-negative.  \n",
    "\n",
    "endpoint:bool, optional  \n",
    "If True, stop is the last sample. Otherwise, it is not included. Default is True.如果是True，’stop'是最后的样本。否则，'stop'将不会被包含。默认为true  \n",
    "\n",
    "retstep:bool, optional  \n",
    "If True, return (samples, step), where step is the spacing between samples. 会改变计算的输出，输出一个元组，而元组的两个元素分别是需要生成的数列和数列的步进差值。  \n",
    "\n",
    "dtype:dtype, optional  \n",
    "The type of the output array. If dtype is not given, infer the data type from the other input arguments.  \n",
    "\n",
    "axis:int, optional  \n",
    "The axis in the result to store the samples. Relevant only if start or stop are array-like. By default (0), the samples will be along a new axis inserted at the beginning. Use -1 to get an axis at the end.  \n",
    "\n",
    "**Returns**  \n",
    "samples:ndarray  \n",
    "There are num equally spaced samples in the closed interval [start, stop] or the half-open interval [start, stop) (depending on whether endpoint is True or False).\n",
    "\n",
    "step:float, optional\n",
    "Only returned if retstep is True\n",
    "\n",
    "Size of spacing between samples."
   ]
  },
  {
   "cell_type": "code",
   "execution_count": 15,
   "metadata": {},
   "outputs": [
    {
     "data": {
      "text/plain": [
       "array([2.  , 2.25, 2.5 , 2.75, 3.  ])"
      ]
     },
     "execution_count": 15,
     "metadata": {},
     "output_type": "execute_result"
    }
   ],
   "source": [
    "np.linspace(2.0, 3.0, num=5)"
   ]
  },
  {
   "cell_type": "code",
   "execution_count": 16,
   "metadata": {},
   "outputs": [
    {
     "data": {
      "text/plain": [
       "array([2. , 2.2, 2.4, 2.6, 2.8])"
      ]
     },
     "execution_count": 16,
     "metadata": {},
     "output_type": "execute_result"
    }
   ],
   "source": [
    "np.linspace(2.0, 3.0, num=5, endpoint=False)"
   ]
  },
  {
   "cell_type": "code",
   "execution_count": 17,
   "metadata": {},
   "outputs": [
    {
     "data": {
      "text/plain": [
       "(array([2.  , 2.25, 2.5 , 2.75, 3.  ]), 0.25)"
      ]
     },
     "execution_count": 17,
     "metadata": {},
     "output_type": "execute_result"
    }
   ],
   "source": [
    "np.linspace(2.0, 3.0, num=5, retstep=True)"
   ]
  },
  {
   "cell_type": "code",
   "execution_count": null,
   "metadata": {},
   "outputs": [],
   "source": []
  },
  {
   "cell_type": "markdown",
   "metadata": {},
   "source": [
    "## Building matrices"
   ]
  },
  {
   "cell_type": "markdown",
   "metadata": {},
   "source": [
    "## The Matrix class"
   ]
  },
  {
   "cell_type": "code",
   "execution_count": null,
   "metadata": {},
   "outputs": [],
   "source": []
  },
  {
   "cell_type": "code",
   "execution_count": null,
   "metadata": {},
   "outputs": [],
   "source": []
  }
 ],
 "metadata": {
  "kernelspec": {
   "display_name": "Python 3",
   "language": "python",
   "name": "python3"
  },
  "language_info": {
   "codemirror_mode": {
    "name": "ipython",
    "version": 3
   },
   "file_extension": ".py",
   "mimetype": "text/x-python",
   "name": "python",
   "nbconvert_exporter": "python",
   "pygments_lexer": "ipython3",
   "version": "3.7.7"
  },
  "toc-autonumbering": true
 },
 "nbformat": 4,
 "nbformat_minor": 4
}
