{
 "cells": [
  {
   "cell_type": "markdown",
   "metadata": {},
   "source": [
    "# The N-dimensional array (ndarray)"
   ]
  },
  {
   "cell_type": "markdown",
   "metadata": {},
   "source": [
    "class **numpy.ndarray(shape, dtype=float, buffer=None, offset=0, strides=None, order=None)**"
   ]
  },
  {
   "cell_type": "markdown",
   "metadata": {},
   "source": [
    "**Parameters**\n",
    "(for the __new__ method; see Notes below)\n",
    ">**shape**:tuple of ints  \n",
    "Shape of created array.\n",
    "\n",
    ">**dtype**:data-type, optional  \n",
    "Any object that can be interpreted as a numpy data type.\n",
    "\n",
    ">**buffer**:object exposing buffer interface, optional  \n",
    "Used to fill the array with data.\n",
    "\n",
    ">**offset**:int, optional  \n",
    "Offset of array data in buffer.\n",
    "\n",
    ">**strides**:tuple of ints, optional  \n",
    "Strides of data in memory.\n",
    "\n",
    ">**order**:{‘C’, ‘F’}, optional  \n",
    "Row-major (C-style) or column-major (Fortran-style) order."
   ]
  },
  {
   "cell_type": "code",
   "execution_count": 1,
   "metadata": {},
   "outputs": [],
   "source": [
    "import pandas as pd"
   ]
  },
  {
   "cell_type": "code",
   "execution_count": null,
   "metadata": {},
   "outputs": [],
   "source": []
  }
 ],
 "metadata": {
  "kernelspec": {
   "display_name": "Python 3",
   "language": "python",
   "name": "python3"
  },
  "language_info": {
   "codemirror_mode": {
    "name": "ipython",
    "version": 3
   },
   "file_extension": ".py",
   "mimetype": "text/x-python",
   "name": "python",
   "nbconvert_exporter": "python",
   "pygments_lexer": "ipython3",
   "version": "3.7.4"
  }
 },
 "nbformat": 4,
 "nbformat_minor": 4
}
