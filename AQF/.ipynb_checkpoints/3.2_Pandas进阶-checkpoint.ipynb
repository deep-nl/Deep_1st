{
 "cells": [
  {
   "cell_type": "markdown",
   "metadata": {},
   "source": [
    "# Pandas 进阶"
   ]
  },
  {
   "cell_type": "markdown",
   "metadata": {
    "slideshow": {
     "slide_type": "slide"
    }
   },
   "source": [
    "## 1. Group操作：数据聚合"
   ]
  },
  {
   "cell_type": "markdown",
   "metadata": {
    "slideshow": {
     "slide_type": "subslide"
    }
   },
   "source": [
    "**1.1 生成DataFrame**"
   ]
  },
  {
   "cell_type": "code",
   "execution_count": 1,
   "metadata": {
    "execution": {
     "iopub.execute_input": "2020-05-14T08:05:28.127590Z",
     "iopub.status.busy": "2020-05-14T08:05:28.127590Z",
     "iopub.status.idle": "2020-05-14T08:05:29.620594Z",
     "shell.execute_reply": "2020-05-14T08:05:29.619662Z",
     "shell.execute_reply.started": "2020-05-14T08:05:28.127590Z"
    }
   },
   "outputs": [],
   "source": [
    "import numpy as np\n",
    "import pandas as pd\n",
    "import seaborn as sns; "
   ]
  },
  {
   "cell_type": "code",
   "execution_count": 2,
   "metadata": {
    "execution": {
     "iopub.execute_input": "2020-05-14T08:05:59.114223Z",
     "iopub.status.busy": "2020-05-14T08:05:59.114223Z",
     "iopub.status.idle": "2020-05-14T08:05:59.122202Z",
     "shell.execute_reply": "2020-05-14T08:05:59.121183Z",
     "shell.execute_reply.started": "2020-05-14T08:05:59.114223Z"
    },
    "uuid": "68e8d73f-93d3-47ac-a656-1edbdebcd1ff"
   },
   "outputs": [],
   "source": [
    "period = pd.date_range('2017-1-1', periods=10000, freq='D')   \n",
    "df = pd.DataFrame(np.random.randn(10000, 4),\n",
    "                  columns=['Data1', 'Data2', 'Data3', 'Data4'],\n",
    "                  index = period)"
   ]
  },
  {
   "cell_type": "code",
   "execution_count": 3,
   "metadata": {
    "execution": {
     "iopub.execute_input": "2020-05-14T08:06:01.248476Z",
     "iopub.status.busy": "2020-05-14T08:06:01.248476Z",
     "iopub.status.idle": "2020-05-14T08:06:01.267427Z",
     "shell.execute_reply": "2020-05-14T08:06:01.266464Z",
     "shell.execute_reply.started": "2020-05-14T08:06:01.248476Z"
    },
    "uuid": "a80e1e88-d211-4ee4-a6d3-90403a7739a8"
   },
   "outputs": [
    {
     "data": {
      "text/html": [
       "<div>\n",
       "<style scoped>\n",
       "    .dataframe tbody tr th:only-of-type {\n",
       "        vertical-align: middle;\n",
       "    }\n",
       "\n",
       "    .dataframe tbody tr th {\n",
       "        vertical-align: top;\n",
       "    }\n",
       "\n",
       "    .dataframe thead th {\n",
       "        text-align: right;\n",
       "    }\n",
       "</style>\n",
       "<table border=\"1\" class=\"dataframe\">\n",
       "  <thead>\n",
       "    <tr style=\"text-align: right;\">\n",
       "      <th></th>\n",
       "      <th>Data1</th>\n",
       "      <th>Data2</th>\n",
       "      <th>Data3</th>\n",
       "      <th>Data4</th>\n",
       "    </tr>\n",
       "  </thead>\n",
       "  <tbody>\n",
       "    <tr>\n",
       "      <th>2017-01-01</th>\n",
       "      <td>-0.546057</td>\n",
       "      <td>0.485809</td>\n",
       "      <td>0.271526</td>\n",
       "      <td>-0.101068</td>\n",
       "    </tr>\n",
       "    <tr>\n",
       "      <th>2017-01-02</th>\n",
       "      <td>0.533121</td>\n",
       "      <td>-2.568723</td>\n",
       "      <td>-1.301011</td>\n",
       "      <td>-0.768564</td>\n",
       "    </tr>\n",
       "    <tr>\n",
       "      <th>2017-01-03</th>\n",
       "      <td>0.503637</td>\n",
       "      <td>-0.952887</td>\n",
       "      <td>0.276748</td>\n",
       "      <td>1.242785</td>\n",
       "    </tr>\n",
       "    <tr>\n",
       "      <th>2017-01-04</th>\n",
       "      <td>-0.261805</td>\n",
       "      <td>-1.725207</td>\n",
       "      <td>2.018913</td>\n",
       "      <td>0.727646</td>\n",
       "    </tr>\n",
       "    <tr>\n",
       "      <th>2017-01-05</th>\n",
       "      <td>0.327719</td>\n",
       "      <td>-1.084610</td>\n",
       "      <td>-0.315303</td>\n",
       "      <td>0.146023</td>\n",
       "    </tr>\n",
       "  </tbody>\n",
       "</table>\n",
       "</div>"
      ],
      "text/plain": [
       "               Data1     Data2     Data3     Data4\n",
       "2017-01-01 -0.546057  0.485809  0.271526 -0.101068\n",
       "2017-01-02  0.533121 -2.568723 -1.301011 -0.768564\n",
       "2017-01-03  0.503637 -0.952887  0.276748  1.242785\n",
       "2017-01-04 -0.261805 -1.725207  2.018913  0.727646\n",
       "2017-01-05  0.327719 -1.084610 -0.315303  0.146023"
      ]
     },
     "execution_count": 3,
     "metadata": {},
     "output_type": "execute_result"
    }
   ],
   "source": [
    "df.head()      #快速预览前5行；"
   ]
  },
  {
   "cell_type": "markdown",
   "metadata": {
    "slideshow": {
     "slide_type": "notes"
    }
   },
   "source": [
    "#### 1.2 新增一例用于Group操作"
   ]
  },
  {
   "cell_type": "code",
   "execution_count": 4,
   "metadata": {
    "execution": {
     "iopub.execute_input": "2020-05-14T08:07:11.767970Z",
     "iopub.status.busy": "2020-05-14T08:07:11.767970Z",
     "iopub.status.idle": "2020-05-14T08:07:11.779901Z",
     "shell.execute_reply": "2020-05-14T08:07:11.778903Z",
     "shell.execute_reply.started": "2020-05-14T08:07:11.767970Z"
    },
    "uuid": "bcc38d60-3e1c-49bb-b883-ea7564c136b4"
   },
   "outputs": [],
   "source": [
    "df['group1'] = np.random.choice(['A', 'B', 'C', 'D'], 10000)       #np.random.choice"
   ]
  },
  {
   "cell_type": "code",
   "execution_count": 6,
   "metadata": {
    "execution": {
     "iopub.execute_input": "2020-05-14T08:08:19.747012Z",
     "iopub.status.busy": "2020-05-14T08:08:19.747012Z",
     "iopub.status.idle": "2020-05-14T08:08:19.756984Z",
     "shell.execute_reply": "2020-05-14T08:08:19.756861Z",
     "shell.execute_reply.started": "2020-05-14T08:08:19.747012Z"
    }
   },
   "outputs": [
    {
     "data": {
      "text/html": [
       "<div>\n",
       "<style scoped>\n",
       "    .dataframe tbody tr th:only-of-type {\n",
       "        vertical-align: middle;\n",
       "    }\n",
       "\n",
       "    .dataframe tbody tr th {\n",
       "        vertical-align: top;\n",
       "    }\n",
       "\n",
       "    .dataframe thead th {\n",
       "        text-align: right;\n",
       "    }\n",
       "</style>\n",
       "<table border=\"1\" class=\"dataframe\">\n",
       "  <thead>\n",
       "    <tr style=\"text-align: right;\">\n",
       "      <th></th>\n",
       "      <th>Data1</th>\n",
       "      <th>Data2</th>\n",
       "      <th>Data3</th>\n",
       "      <th>Data4</th>\n",
       "      <th>group1</th>\n",
       "    </tr>\n",
       "  </thead>\n",
       "  <tbody>\n",
       "    <tr>\n",
       "      <th>2044-05-14</th>\n",
       "      <td>0.170887</td>\n",
       "      <td>-0.177383</td>\n",
       "      <td>-1.734083</td>\n",
       "      <td>0.332373</td>\n",
       "      <td>C</td>\n",
       "    </tr>\n",
       "    <tr>\n",
       "      <th>2044-05-15</th>\n",
       "      <td>1.121012</td>\n",
       "      <td>0.835464</td>\n",
       "      <td>-1.034102</td>\n",
       "      <td>0.079695</td>\n",
       "      <td>A</td>\n",
       "    </tr>\n",
       "    <tr>\n",
       "      <th>2044-05-16</th>\n",
       "      <td>-0.400131</td>\n",
       "      <td>-0.183320</td>\n",
       "      <td>0.032977</td>\n",
       "      <td>0.244478</td>\n",
       "      <td>B</td>\n",
       "    </tr>\n",
       "    <tr>\n",
       "      <th>2044-05-17</th>\n",
       "      <td>0.077076</td>\n",
       "      <td>-1.454735</td>\n",
       "      <td>-0.843961</td>\n",
       "      <td>1.770664</td>\n",
       "      <td>C</td>\n",
       "    </tr>\n",
       "    <tr>\n",
       "      <th>2044-05-18</th>\n",
       "      <td>0.800873</td>\n",
       "      <td>-1.034937</td>\n",
       "      <td>-0.177725</td>\n",
       "      <td>-1.546404</td>\n",
       "      <td>D</td>\n",
       "    </tr>\n",
       "  </tbody>\n",
       "</table>\n",
       "</div>"
      ],
      "text/plain": [
       "               Data1     Data2     Data3     Data4 group1\n",
       "2044-05-14  0.170887 -0.177383 -1.734083  0.332373      C\n",
       "2044-05-15  1.121012  0.835464 -1.034102  0.079695      A\n",
       "2044-05-16 -0.400131 -0.183320  0.032977  0.244478      B\n",
       "2044-05-17  0.077076 -1.454735 -0.843961  1.770664      C\n",
       "2044-05-18  0.800873 -1.034937 -0.177725 -1.546404      D"
      ]
     },
     "execution_count": 6,
     "metadata": {},
     "output_type": "execute_result"
    }
   ],
   "source": [
    "df.tail()"
   ]
  },
  {
   "cell_type": "code",
   "execution_count": 7,
   "metadata": {
    "execution": {
     "iopub.execute_input": "2020-05-14T08:08:21.265979Z",
     "iopub.status.busy": "2020-05-14T08:08:21.265979Z",
     "iopub.status.idle": "2020-05-14T08:08:21.275920Z",
     "shell.execute_reply": "2020-05-14T08:08:21.275778Z",
     "shell.execute_reply.started": "2020-05-14T08:08:21.265979Z"
    }
   },
   "outputs": [
    {
     "data": {
      "text/html": [
       "<div>\n",
       "<style scoped>\n",
       "    .dataframe tbody tr th:only-of-type {\n",
       "        vertical-align: middle;\n",
       "    }\n",
       "\n",
       "    .dataframe tbody tr th {\n",
       "        vertical-align: top;\n",
       "    }\n",
       "\n",
       "    .dataframe thead th {\n",
       "        text-align: right;\n",
       "    }\n",
       "</style>\n",
       "<table border=\"1\" class=\"dataframe\">\n",
       "  <thead>\n",
       "    <tr style=\"text-align: right;\">\n",
       "      <th></th>\n",
       "      <th>Data1</th>\n",
       "      <th>Data2</th>\n",
       "      <th>Data3</th>\n",
       "      <th>Data4</th>\n",
       "      <th>group1</th>\n",
       "    </tr>\n",
       "  </thead>\n",
       "  <tbody>\n",
       "    <tr>\n",
       "      <th>2017-01-01</th>\n",
       "      <td>-0.546057</td>\n",
       "      <td>0.485809</td>\n",
       "      <td>0.271526</td>\n",
       "      <td>-0.101068</td>\n",
       "      <td>B</td>\n",
       "    </tr>\n",
       "    <tr>\n",
       "      <th>2017-01-02</th>\n",
       "      <td>0.533121</td>\n",
       "      <td>-2.568723</td>\n",
       "      <td>-1.301011</td>\n",
       "      <td>-0.768564</td>\n",
       "      <td>A</td>\n",
       "    </tr>\n",
       "    <tr>\n",
       "      <th>2017-01-03</th>\n",
       "      <td>0.503637</td>\n",
       "      <td>-0.952887</td>\n",
       "      <td>0.276748</td>\n",
       "      <td>1.242785</td>\n",
       "      <td>D</td>\n",
       "    </tr>\n",
       "    <tr>\n",
       "      <th>2017-01-04</th>\n",
       "      <td>-0.261805</td>\n",
       "      <td>-1.725207</td>\n",
       "      <td>2.018913</td>\n",
       "      <td>0.727646</td>\n",
       "      <td>A</td>\n",
       "    </tr>\n",
       "    <tr>\n",
       "      <th>2017-01-05</th>\n",
       "      <td>0.327719</td>\n",
       "      <td>-1.084610</td>\n",
       "      <td>-0.315303</td>\n",
       "      <td>0.146023</td>\n",
       "      <td>C</td>\n",
       "    </tr>\n",
       "  </tbody>\n",
       "</table>\n",
       "</div>"
      ],
      "text/plain": [
       "               Data1     Data2     Data3     Data4 group1\n",
       "2017-01-01 -0.546057  0.485809  0.271526 -0.101068      B\n",
       "2017-01-02  0.533121 -2.568723 -1.301011 -0.768564      A\n",
       "2017-01-03  0.503637 -0.952887  0.276748  1.242785      D\n",
       "2017-01-04 -0.261805 -1.725207  2.018913  0.727646      A\n",
       "2017-01-05  0.327719 -1.084610 -0.315303  0.146023      C"
      ]
     },
     "execution_count": 7,
     "metadata": {},
     "output_type": "execute_result"
    }
   ],
   "source": [
    "df.head()"
   ]
  },
  {
   "cell_type": "markdown",
   "metadata": {
    "slideshow": {
     "slide_type": "subslide"
    }
   },
   "source": [
    "**1.3 生成DataFrameGroupBy对象** "
   ]
  },
  {
   "cell_type": "code",
   "execution_count": 8,
   "metadata": {
    "execution": {
     "iopub.execute_input": "2020-05-14T08:08:42.232847Z",
     "iopub.status.busy": "2020-05-14T08:08:42.232847Z",
     "iopub.status.idle": "2020-05-14T08:08:42.237834Z",
     "shell.execute_reply": "2020-05-14T08:08:42.236865Z",
     "shell.execute_reply.started": "2020-05-14T08:08:42.232847Z"
    }
   },
   "outputs": [],
   "source": [
    "grouped = df.groupby('group1')     #df.groupby();必背；"
   ]
  },
  {
   "cell_type": "code",
   "execution_count": 9,
   "metadata": {
    "execution": {
     "iopub.execute_input": "2020-05-14T08:08:44.798583Z",
     "iopub.status.busy": "2020-05-14T08:08:44.797587Z",
     "iopub.status.idle": "2020-05-14T08:08:44.804566Z",
     "shell.execute_reply": "2020-05-14T08:08:44.803581Z",
     "shell.execute_reply.started": "2020-05-14T08:08:44.798583Z"
    }
   },
   "outputs": [
    {
     "data": {
      "text/plain": [
       "<pandas.core.groupby.generic.DataFrameGroupBy object at 0x0ED22D90>"
      ]
     },
     "execution_count": 9,
     "metadata": {},
     "output_type": "execute_result"
    }
   ],
   "source": [
    "grouped"
   ]
  },
  {
   "cell_type": "code",
   "execution_count": 10,
   "metadata": {
    "execution": {
     "iopub.execute_input": "2020-05-14T08:08:53.562601Z",
     "iopub.status.busy": "2020-05-14T08:08:53.562601Z",
     "iopub.status.idle": "2020-05-14T08:08:53.569554Z",
     "shell.execute_reply": "2020-05-14T08:08:53.568556Z",
     "shell.execute_reply.started": "2020-05-14T08:08:53.562601Z"
    }
   },
   "outputs": [
    {
     "data": {
      "text/plain": [
       "pandas.core.groupby.generic.DataFrameGroupBy"
      ]
     },
     "execution_count": 10,
     "metadata": {},
     "output_type": "execute_result"
    }
   ],
   "source": [
    "type(grouped)"
   ]
  },
  {
   "cell_type": "code",
   "execution_count": 12,
   "metadata": {
    "execution": {
     "iopub.execute_input": "2020-05-14T08:10:19.765019Z",
     "iopub.status.busy": "2020-05-14T08:10:19.765019Z",
     "iopub.status.idle": "2020-05-14T08:10:19.773000Z",
     "shell.execute_reply": "2020-05-14T08:10:19.772001Z",
     "shell.execute_reply.started": "2020-05-14T08:10:19.765019Z"
    }
   },
   "outputs": [
    {
     "data": {
      "text/plain": [
       "group1\n",
       "A    2421\n",
       "B    2490\n",
       "C    2499\n",
       "D    2590\n",
       "dtype: int64"
      ]
     },
     "execution_count": 12,
     "metadata": {},
     "output_type": "execute_result"
    }
   ],
   "source": [
    "grouped.size()           #每组元素数量"
   ]
  },
  {
   "cell_type": "markdown",
   "metadata": {
    "slideshow": {
     "slide_type": "subslide"
    }
   },
   "source": [
    "#### 1.4 Group对象的聚合运算"
   ]
  },
  {
   "cell_type": "code",
   "execution_count": 13,
   "metadata": {
    "execution": {
     "iopub.execute_input": "2020-05-14T08:10:20.837152Z",
     "iopub.status.busy": "2020-05-14T08:10:20.836155Z",
     "iopub.status.idle": "2020-05-14T08:10:20.850177Z",
     "shell.execute_reply": "2020-05-14T08:10:20.850177Z",
     "shell.execute_reply.started": "2020-05-14T08:10:20.837152Z"
    }
   },
   "outputs": [
    {
     "data": {
      "text/html": [
       "<div>\n",
       "<style scoped>\n",
       "    .dataframe tbody tr th:only-of-type {\n",
       "        vertical-align: middle;\n",
       "    }\n",
       "\n",
       "    .dataframe tbody tr th {\n",
       "        vertical-align: top;\n",
       "    }\n",
       "\n",
       "    .dataframe thead th {\n",
       "        text-align: right;\n",
       "    }\n",
       "</style>\n",
       "<table border=\"1\" class=\"dataframe\">\n",
       "  <thead>\n",
       "    <tr style=\"text-align: right;\">\n",
       "      <th></th>\n",
       "      <th>Data1</th>\n",
       "      <th>Data2</th>\n",
       "      <th>Data3</th>\n",
       "      <th>Data4</th>\n",
       "    </tr>\n",
       "    <tr>\n",
       "      <th>group1</th>\n",
       "      <th></th>\n",
       "      <th></th>\n",
       "      <th></th>\n",
       "      <th></th>\n",
       "    </tr>\n",
       "  </thead>\n",
       "  <tbody>\n",
       "    <tr>\n",
       "      <th>A</th>\n",
       "      <td>-55.618918</td>\n",
       "      <td>-22.605940</td>\n",
       "      <td>-142.412315</td>\n",
       "      <td>8.183715</td>\n",
       "    </tr>\n",
       "    <tr>\n",
       "      <th>B</th>\n",
       "      <td>30.162507</td>\n",
       "      <td>-3.333783</td>\n",
       "      <td>13.506594</td>\n",
       "      <td>-32.747135</td>\n",
       "    </tr>\n",
       "    <tr>\n",
       "      <th>C</th>\n",
       "      <td>23.683299</td>\n",
       "      <td>18.628483</td>\n",
       "      <td>-5.846106</td>\n",
       "      <td>-12.907839</td>\n",
       "    </tr>\n",
       "    <tr>\n",
       "      <th>D</th>\n",
       "      <td>44.170365</td>\n",
       "      <td>-18.886489</td>\n",
       "      <td>-26.611957</td>\n",
       "      <td>72.402915</td>\n",
       "    </tr>\n",
       "  </tbody>\n",
       "</table>\n",
       "</div>"
      ],
      "text/plain": [
       "            Data1      Data2       Data3      Data4\n",
       "group1                                             \n",
       "A      -55.618918 -22.605940 -142.412315   8.183715\n",
       "B       30.162507  -3.333783   13.506594 -32.747135\n",
       "C       23.683299  18.628483   -5.846106 -12.907839\n",
       "D       44.170365 -18.886489  -26.611957  72.402915"
      ]
     },
     "execution_count": 13,
     "metadata": {},
     "output_type": "execute_result"
    }
   ],
   "source": [
    "grouped.sum()"
   ]
  },
  {
   "cell_type": "code",
   "execution_count": 14,
   "metadata": {
    "execution": {
     "iopub.execute_input": "2020-05-14T08:10:21.951172Z",
     "iopub.status.busy": "2020-05-14T08:10:21.951172Z",
     "iopub.status.idle": "2020-05-14T08:10:21.967127Z",
     "shell.execute_reply": "2020-05-14T08:10:21.966130Z",
     "shell.execute_reply.started": "2020-05-14T08:10:21.951172Z"
    }
   },
   "outputs": [
    {
     "data": {
      "text/html": [
       "<div>\n",
       "<style scoped>\n",
       "    .dataframe tbody tr th:only-of-type {\n",
       "        vertical-align: middle;\n",
       "    }\n",
       "\n",
       "    .dataframe tbody tr th {\n",
       "        vertical-align: top;\n",
       "    }\n",
       "\n",
       "    .dataframe thead th {\n",
       "        text-align: right;\n",
       "    }\n",
       "</style>\n",
       "<table border=\"1\" class=\"dataframe\">\n",
       "  <thead>\n",
       "    <tr style=\"text-align: right;\">\n",
       "      <th></th>\n",
       "      <th>Data1</th>\n",
       "      <th>Data2</th>\n",
       "      <th>Data3</th>\n",
       "      <th>Data4</th>\n",
       "    </tr>\n",
       "    <tr>\n",
       "      <th>group1</th>\n",
       "      <th></th>\n",
       "      <th></th>\n",
       "      <th></th>\n",
       "      <th></th>\n",
       "    </tr>\n",
       "  </thead>\n",
       "  <tbody>\n",
       "    <tr>\n",
       "      <th>A</th>\n",
       "      <td>4.039558</td>\n",
       "      <td>3.959512</td>\n",
       "      <td>3.900227</td>\n",
       "      <td>3.562431</td>\n",
       "    </tr>\n",
       "    <tr>\n",
       "      <th>B</th>\n",
       "      <td>3.487299</td>\n",
       "      <td>3.009574</td>\n",
       "      <td>3.138222</td>\n",
       "      <td>3.247698</td>\n",
       "    </tr>\n",
       "    <tr>\n",
       "      <th>C</th>\n",
       "      <td>3.830694</td>\n",
       "      <td>3.073445</td>\n",
       "      <td>3.477502</td>\n",
       "      <td>3.126472</td>\n",
       "    </tr>\n",
       "    <tr>\n",
       "      <th>D</th>\n",
       "      <td>3.892288</td>\n",
       "      <td>3.464834</td>\n",
       "      <td>3.095179</td>\n",
       "      <td>3.342041</td>\n",
       "    </tr>\n",
       "  </tbody>\n",
       "</table>\n",
       "</div>"
      ],
      "text/plain": [
       "           Data1     Data2     Data3     Data4\n",
       "group1                                        \n",
       "A       4.039558  3.959512  3.900227  3.562431\n",
       "B       3.487299  3.009574  3.138222  3.247698\n",
       "C       3.830694  3.073445  3.477502  3.126472\n",
       "D       3.892288  3.464834  3.095179  3.342041"
      ]
     },
     "execution_count": 14,
     "metadata": {},
     "output_type": "execute_result"
    }
   ],
   "source": [
    "grouped.max()"
   ]
  },
  {
   "cell_type": "code",
   "execution_count": 15,
   "metadata": {
    "execution": {
     "iopub.execute_input": "2020-05-14T08:10:22.973504Z",
     "iopub.status.busy": "2020-05-14T08:10:22.972438Z",
     "iopub.status.idle": "2020-05-14T08:10:22.983436Z",
     "shell.execute_reply": "2020-05-14T08:10:22.983436Z",
     "shell.execute_reply.started": "2020-05-14T08:10:22.973504Z"
    }
   },
   "outputs": [
    {
     "data": {
      "text/html": [
       "<div>\n",
       "<style scoped>\n",
       "    .dataframe tbody tr th:only-of-type {\n",
       "        vertical-align: middle;\n",
       "    }\n",
       "\n",
       "    .dataframe tbody tr th {\n",
       "        vertical-align: top;\n",
       "    }\n",
       "\n",
       "    .dataframe thead th {\n",
       "        text-align: right;\n",
       "    }\n",
       "</style>\n",
       "<table border=\"1\" class=\"dataframe\">\n",
       "  <thead>\n",
       "    <tr style=\"text-align: right;\">\n",
       "      <th></th>\n",
       "      <th>Data1</th>\n",
       "      <th>Data2</th>\n",
       "      <th>Data3</th>\n",
       "      <th>Data4</th>\n",
       "    </tr>\n",
       "    <tr>\n",
       "      <th>group1</th>\n",
       "      <th></th>\n",
       "      <th></th>\n",
       "      <th></th>\n",
       "      <th></th>\n",
       "    </tr>\n",
       "  </thead>\n",
       "  <tbody>\n",
       "    <tr>\n",
       "      <th>A</th>\n",
       "      <td>-0.022974</td>\n",
       "      <td>-0.009337</td>\n",
       "      <td>-0.058824</td>\n",
       "      <td>0.003380</td>\n",
       "    </tr>\n",
       "    <tr>\n",
       "      <th>B</th>\n",
       "      <td>0.012113</td>\n",
       "      <td>-0.001339</td>\n",
       "      <td>0.005424</td>\n",
       "      <td>-0.013151</td>\n",
       "    </tr>\n",
       "    <tr>\n",
       "      <th>C</th>\n",
       "      <td>0.009477</td>\n",
       "      <td>0.007454</td>\n",
       "      <td>-0.002339</td>\n",
       "      <td>-0.005165</td>\n",
       "    </tr>\n",
       "    <tr>\n",
       "      <th>D</th>\n",
       "      <td>0.017054</td>\n",
       "      <td>-0.007292</td>\n",
       "      <td>-0.010275</td>\n",
       "      <td>0.027955</td>\n",
       "    </tr>\n",
       "  </tbody>\n",
       "</table>\n",
       "</div>"
      ],
      "text/plain": [
       "           Data1     Data2     Data3     Data4\n",
       "group1                                        \n",
       "A      -0.022974 -0.009337 -0.058824  0.003380\n",
       "B       0.012113 -0.001339  0.005424 -0.013151\n",
       "C       0.009477  0.007454 -0.002339 -0.005165\n",
       "D       0.017054 -0.007292 -0.010275  0.027955"
      ]
     },
     "execution_count": 15,
     "metadata": {},
     "output_type": "execute_result"
    }
   ],
   "source": [
    "grouped.mean()"
   ]
  },
  {
   "cell_type": "code",
   "execution_count": 16,
   "metadata": {
    "execution": {
     "iopub.execute_input": "2020-05-14T08:10:25.617469Z",
     "iopub.status.busy": "2020-05-14T08:10:25.617469Z",
     "iopub.status.idle": "2020-05-14T08:10:25.692912Z",
     "shell.execute_reply": "2020-05-14T08:10:25.692912Z",
     "shell.execute_reply.started": "2020-05-14T08:10:25.617469Z"
    }
   },
   "outputs": [
    {
     "data": {
      "text/html": [
       "<div>\n",
       "<style scoped>\n",
       "    .dataframe tbody tr th:only-of-type {\n",
       "        vertical-align: middle;\n",
       "    }\n",
       "\n",
       "    .dataframe tbody tr th {\n",
       "        vertical-align: top;\n",
       "    }\n",
       "\n",
       "    .dataframe thead tr th {\n",
       "        text-align: left;\n",
       "    }\n",
       "\n",
       "    .dataframe thead tr:last-of-type th {\n",
       "        text-align: right;\n",
       "    }\n",
       "</style>\n",
       "<table border=\"1\" class=\"dataframe\">\n",
       "  <thead>\n",
       "    <tr>\n",
       "      <th></th>\n",
       "      <th colspan=\"8\" halign=\"left\">Data1</th>\n",
       "      <th colspan=\"2\" halign=\"left\">Data2</th>\n",
       "      <th>...</th>\n",
       "      <th colspan=\"2\" halign=\"left\">Data3</th>\n",
       "      <th colspan=\"8\" halign=\"left\">Data4</th>\n",
       "    </tr>\n",
       "    <tr>\n",
       "      <th></th>\n",
       "      <th>count</th>\n",
       "      <th>mean</th>\n",
       "      <th>std</th>\n",
       "      <th>min</th>\n",
       "      <th>25%</th>\n",
       "      <th>50%</th>\n",
       "      <th>75%</th>\n",
       "      <th>max</th>\n",
       "      <th>count</th>\n",
       "      <th>mean</th>\n",
       "      <th>...</th>\n",
       "      <th>75%</th>\n",
       "      <th>max</th>\n",
       "      <th>count</th>\n",
       "      <th>mean</th>\n",
       "      <th>std</th>\n",
       "      <th>min</th>\n",
       "      <th>25%</th>\n",
       "      <th>50%</th>\n",
       "      <th>75%</th>\n",
       "      <th>max</th>\n",
       "    </tr>\n",
       "    <tr>\n",
       "      <th>group1</th>\n",
       "      <th></th>\n",
       "      <th></th>\n",
       "      <th></th>\n",
       "      <th></th>\n",
       "      <th></th>\n",
       "      <th></th>\n",
       "      <th></th>\n",
       "      <th></th>\n",
       "      <th></th>\n",
       "      <th></th>\n",
       "      <th></th>\n",
       "      <th></th>\n",
       "      <th></th>\n",
       "      <th></th>\n",
       "      <th></th>\n",
       "      <th></th>\n",
       "      <th></th>\n",
       "      <th></th>\n",
       "      <th></th>\n",
       "      <th></th>\n",
       "      <th></th>\n",
       "    </tr>\n",
       "  </thead>\n",
       "  <tbody>\n",
       "    <tr>\n",
       "      <th>A</th>\n",
       "      <td>2421.0</td>\n",
       "      <td>-0.022974</td>\n",
       "      <td>0.988331</td>\n",
       "      <td>-3.483872</td>\n",
       "      <td>-0.693473</td>\n",
       "      <td>-0.024418</td>\n",
       "      <td>0.638969</td>\n",
       "      <td>4.039558</td>\n",
       "      <td>2421.0</td>\n",
       "      <td>-0.009337</td>\n",
       "      <td>...</td>\n",
       "      <td>0.644677</td>\n",
       "      <td>3.900227</td>\n",
       "      <td>2421.0</td>\n",
       "      <td>0.003380</td>\n",
       "      <td>1.004613</td>\n",
       "      <td>-3.742931</td>\n",
       "      <td>-0.674958</td>\n",
       "      <td>0.003865</td>\n",
       "      <td>0.654615</td>\n",
       "      <td>3.562431</td>\n",
       "    </tr>\n",
       "    <tr>\n",
       "      <th>B</th>\n",
       "      <td>2490.0</td>\n",
       "      <td>0.012113</td>\n",
       "      <td>0.995739</td>\n",
       "      <td>-3.426703</td>\n",
       "      <td>-0.635425</td>\n",
       "      <td>0.007583</td>\n",
       "      <td>0.676657</td>\n",
       "      <td>3.487299</td>\n",
       "      <td>2490.0</td>\n",
       "      <td>-0.001339</td>\n",
       "      <td>...</td>\n",
       "      <td>0.663914</td>\n",
       "      <td>3.138222</td>\n",
       "      <td>2490.0</td>\n",
       "      <td>-0.013151</td>\n",
       "      <td>1.000953</td>\n",
       "      <td>-3.883815</td>\n",
       "      <td>-0.684835</td>\n",
       "      <td>0.005617</td>\n",
       "      <td>0.677426</td>\n",
       "      <td>3.247698</td>\n",
       "    </tr>\n",
       "    <tr>\n",
       "      <th>C</th>\n",
       "      <td>2499.0</td>\n",
       "      <td>0.009477</td>\n",
       "      <td>1.024529</td>\n",
       "      <td>-3.975706</td>\n",
       "      <td>-0.679099</td>\n",
       "      <td>0.016390</td>\n",
       "      <td>0.700021</td>\n",
       "      <td>3.830694</td>\n",
       "      <td>2499.0</td>\n",
       "      <td>0.007454</td>\n",
       "      <td>...</td>\n",
       "      <td>0.678191</td>\n",
       "      <td>3.477502</td>\n",
       "      <td>2499.0</td>\n",
       "      <td>-0.005165</td>\n",
       "      <td>0.972741</td>\n",
       "      <td>-3.264068</td>\n",
       "      <td>-0.672219</td>\n",
       "      <td>0.014023</td>\n",
       "      <td>0.640463</td>\n",
       "      <td>3.126472</td>\n",
       "    </tr>\n",
       "    <tr>\n",
       "      <th>D</th>\n",
       "      <td>2590.0</td>\n",
       "      <td>0.017054</td>\n",
       "      <td>0.996643</td>\n",
       "      <td>-3.123994</td>\n",
       "      <td>-0.681255</td>\n",
       "      <td>0.029691</td>\n",
       "      <td>0.712717</td>\n",
       "      <td>3.892288</td>\n",
       "      <td>2590.0</td>\n",
       "      <td>-0.007292</td>\n",
       "      <td>...</td>\n",
       "      <td>0.670508</td>\n",
       "      <td>3.095179</td>\n",
       "      <td>2590.0</td>\n",
       "      <td>0.027955</td>\n",
       "      <td>0.984042</td>\n",
       "      <td>-2.986791</td>\n",
       "      <td>-0.638121</td>\n",
       "      <td>0.044036</td>\n",
       "      <td>0.681669</td>\n",
       "      <td>3.342041</td>\n",
       "    </tr>\n",
       "  </tbody>\n",
       "</table>\n",
       "<p>4 rows × 32 columns</p>\n",
       "</div>"
      ],
      "text/plain": [
       "         Data1                                                              \\\n",
       "         count      mean       std       min       25%       50%       75%   \n",
       "group1                                                                       \n",
       "A       2421.0 -0.022974  0.988331 -3.483872 -0.693473 -0.024418  0.638969   \n",
       "B       2490.0  0.012113  0.995739 -3.426703 -0.635425  0.007583  0.676657   \n",
       "C       2499.0  0.009477  1.024529 -3.975706 -0.679099  0.016390  0.700021   \n",
       "D       2590.0  0.017054  0.996643 -3.123994 -0.681255  0.029691  0.712717   \n",
       "\n",
       "                   Data2            ...     Data3             Data4            \\\n",
       "             max   count      mean  ...       75%       max   count      mean   \n",
       "group1                              ...                                         \n",
       "A       4.039558  2421.0 -0.009337  ...  0.644677  3.900227  2421.0  0.003380   \n",
       "B       3.487299  2490.0 -0.001339  ...  0.663914  3.138222  2490.0 -0.013151   \n",
       "C       3.830694  2499.0  0.007454  ...  0.678191  3.477502  2499.0 -0.005165   \n",
       "D       3.892288  2590.0 -0.007292  ...  0.670508  3.095179  2590.0  0.027955   \n",
       "\n",
       "                                                                    \n",
       "             std       min       25%       50%       75%       max  \n",
       "group1                                                              \n",
       "A       1.004613 -3.742931 -0.674958  0.003865  0.654615  3.562431  \n",
       "B       1.000953 -3.883815 -0.684835  0.005617  0.677426  3.247698  \n",
       "C       0.972741 -3.264068 -0.672219  0.014023  0.640463  3.126472  \n",
       "D       0.984042 -2.986791 -0.638121  0.044036  0.681669  3.342041  \n",
       "\n",
       "[4 rows x 32 columns]"
      ]
     },
     "execution_count": 16,
     "metadata": {},
     "output_type": "execute_result"
    }
   ],
   "source": [
    "grouped.describe()        #整体数据特征概览；"
   ]
  },
  {
   "cell_type": "code",
   "execution_count": 18,
   "metadata": {
    "execution": {
     "iopub.execute_input": "2020-05-14T08:12:05.202082Z",
     "iopub.status.busy": "2020-05-14T08:12:05.202082Z",
     "iopub.status.idle": "2020-05-14T08:12:05.267906Z",
     "shell.execute_reply": "2020-05-14T08:12:05.266972Z",
     "shell.execute_reply.started": "2020-05-14T08:12:05.202082Z"
    }
   },
   "outputs": [
    {
     "data": {
      "text/html": [
       "<div>\n",
       "<style scoped>\n",
       "    .dataframe tbody tr th:only-of-type {\n",
       "        vertical-align: middle;\n",
       "    }\n",
       "\n",
       "    .dataframe tbody tr th {\n",
       "        vertical-align: top;\n",
       "    }\n",
       "\n",
       "    .dataframe thead th {\n",
       "        text-align: right;\n",
       "    }\n",
       "</style>\n",
       "<table border=\"1\" class=\"dataframe\">\n",
       "  <thead>\n",
       "    <tr style=\"text-align: right;\">\n",
       "      <th></th>\n",
       "      <th>group1</th>\n",
       "      <th>A</th>\n",
       "      <th>B</th>\n",
       "      <th>C</th>\n",
       "      <th>D</th>\n",
       "    </tr>\n",
       "  </thead>\n",
       "  <tbody>\n",
       "    <tr>\n",
       "      <th rowspan=\"8\" valign=\"top\">Data1</th>\n",
       "      <th>count</th>\n",
       "      <td>2421.000000</td>\n",
       "      <td>2490.000000</td>\n",
       "      <td>2499.000000</td>\n",
       "      <td>2590.000000</td>\n",
       "    </tr>\n",
       "    <tr>\n",
       "      <th>mean</th>\n",
       "      <td>-0.022974</td>\n",
       "      <td>0.012113</td>\n",
       "      <td>0.009477</td>\n",
       "      <td>0.017054</td>\n",
       "    </tr>\n",
       "    <tr>\n",
       "      <th>std</th>\n",
       "      <td>0.988331</td>\n",
       "      <td>0.995739</td>\n",
       "      <td>1.024529</td>\n",
       "      <td>0.996643</td>\n",
       "    </tr>\n",
       "    <tr>\n",
       "      <th>min</th>\n",
       "      <td>-3.483872</td>\n",
       "      <td>-3.426703</td>\n",
       "      <td>-3.975706</td>\n",
       "      <td>-3.123994</td>\n",
       "    </tr>\n",
       "    <tr>\n",
       "      <th>25%</th>\n",
       "      <td>-0.693473</td>\n",
       "      <td>-0.635425</td>\n",
       "      <td>-0.679099</td>\n",
       "      <td>-0.681255</td>\n",
       "    </tr>\n",
       "    <tr>\n",
       "      <th>50%</th>\n",
       "      <td>-0.024418</td>\n",
       "      <td>0.007583</td>\n",
       "      <td>0.016390</td>\n",
       "      <td>0.029691</td>\n",
       "    </tr>\n",
       "    <tr>\n",
       "      <th>75%</th>\n",
       "      <td>0.638969</td>\n",
       "      <td>0.676657</td>\n",
       "      <td>0.700021</td>\n",
       "      <td>0.712717</td>\n",
       "    </tr>\n",
       "    <tr>\n",
       "      <th>max</th>\n",
       "      <td>4.039558</td>\n",
       "      <td>3.487299</td>\n",
       "      <td>3.830694</td>\n",
       "      <td>3.892288</td>\n",
       "    </tr>\n",
       "    <tr>\n",
       "      <th rowspan=\"8\" valign=\"top\">Data2</th>\n",
       "      <th>count</th>\n",
       "      <td>2421.000000</td>\n",
       "      <td>2490.000000</td>\n",
       "      <td>2499.000000</td>\n",
       "      <td>2590.000000</td>\n",
       "    </tr>\n",
       "    <tr>\n",
       "      <th>mean</th>\n",
       "      <td>-0.009337</td>\n",
       "      <td>-0.001339</td>\n",
       "      <td>0.007454</td>\n",
       "      <td>-0.007292</td>\n",
       "    </tr>\n",
       "    <tr>\n",
       "      <th>std</th>\n",
       "      <td>0.982931</td>\n",
       "      <td>0.989484</td>\n",
       "      <td>0.991534</td>\n",
       "      <td>1.011388</td>\n",
       "    </tr>\n",
       "    <tr>\n",
       "      <th>min</th>\n",
       "      <td>-3.105877</td>\n",
       "      <td>-3.113528</td>\n",
       "      <td>-3.252992</td>\n",
       "      <td>-3.435492</td>\n",
       "    </tr>\n",
       "    <tr>\n",
       "      <th>25%</th>\n",
       "      <td>-0.680883</td>\n",
       "      <td>-0.688544</td>\n",
       "      <td>-0.641055</td>\n",
       "      <td>-0.733928</td>\n",
       "    </tr>\n",
       "    <tr>\n",
       "      <th>50%</th>\n",
       "      <td>-0.001281</td>\n",
       "      <td>-0.008370</td>\n",
       "      <td>0.011151</td>\n",
       "      <td>-0.005181</td>\n",
       "    </tr>\n",
       "    <tr>\n",
       "      <th>75%</th>\n",
       "      <td>0.655780</td>\n",
       "      <td>0.648792</td>\n",
       "      <td>0.675994</td>\n",
       "      <td>0.677998</td>\n",
       "    </tr>\n",
       "    <tr>\n",
       "      <th>max</th>\n",
       "      <td>3.959512</td>\n",
       "      <td>3.009574</td>\n",
       "      <td>3.073445</td>\n",
       "      <td>3.464834</td>\n",
       "    </tr>\n",
       "    <tr>\n",
       "      <th rowspan=\"8\" valign=\"top\">Data3</th>\n",
       "      <th>count</th>\n",
       "      <td>2421.000000</td>\n",
       "      <td>2490.000000</td>\n",
       "      <td>2499.000000</td>\n",
       "      <td>2590.000000</td>\n",
       "    </tr>\n",
       "    <tr>\n",
       "      <th>mean</th>\n",
       "      <td>-0.058824</td>\n",
       "      <td>0.005424</td>\n",
       "      <td>-0.002339</td>\n",
       "      <td>-0.010275</td>\n",
       "    </tr>\n",
       "    <tr>\n",
       "      <th>std</th>\n",
       "      <td>1.005123</td>\n",
       "      <td>0.981905</td>\n",
       "      <td>1.002503</td>\n",
       "      <td>0.992937</td>\n",
       "    </tr>\n",
       "    <tr>\n",
       "      <th>min</th>\n",
       "      <td>-3.218036</td>\n",
       "      <td>-2.979363</td>\n",
       "      <td>-3.357380</td>\n",
       "      <td>-3.516477</td>\n",
       "    </tr>\n",
       "    <tr>\n",
       "      <th>25%</th>\n",
       "      <td>-0.730258</td>\n",
       "      <td>-0.653713</td>\n",
       "      <td>-0.674276</td>\n",
       "      <td>-0.696166</td>\n",
       "    </tr>\n",
       "    <tr>\n",
       "      <th>50%</th>\n",
       "      <td>-0.041033</td>\n",
       "      <td>0.001158</td>\n",
       "      <td>-0.018291</td>\n",
       "      <td>-0.009909</td>\n",
       "    </tr>\n",
       "    <tr>\n",
       "      <th>75%</th>\n",
       "      <td>0.644677</td>\n",
       "      <td>0.663914</td>\n",
       "      <td>0.678191</td>\n",
       "      <td>0.670508</td>\n",
       "    </tr>\n",
       "    <tr>\n",
       "      <th>max</th>\n",
       "      <td>3.900227</td>\n",
       "      <td>3.138222</td>\n",
       "      <td>3.477502</td>\n",
       "      <td>3.095179</td>\n",
       "    </tr>\n",
       "    <tr>\n",
       "      <th rowspan=\"8\" valign=\"top\">Data4</th>\n",
       "      <th>count</th>\n",
       "      <td>2421.000000</td>\n",
       "      <td>2490.000000</td>\n",
       "      <td>2499.000000</td>\n",
       "      <td>2590.000000</td>\n",
       "    </tr>\n",
       "    <tr>\n",
       "      <th>mean</th>\n",
       "      <td>0.003380</td>\n",
       "      <td>-0.013151</td>\n",
       "      <td>-0.005165</td>\n",
       "      <td>0.027955</td>\n",
       "    </tr>\n",
       "    <tr>\n",
       "      <th>std</th>\n",
       "      <td>1.004613</td>\n",
       "      <td>1.000953</td>\n",
       "      <td>0.972741</td>\n",
       "      <td>0.984042</td>\n",
       "    </tr>\n",
       "    <tr>\n",
       "      <th>min</th>\n",
       "      <td>-3.742931</td>\n",
       "      <td>-3.883815</td>\n",
       "      <td>-3.264068</td>\n",
       "      <td>-2.986791</td>\n",
       "    </tr>\n",
       "    <tr>\n",
       "      <th>25%</th>\n",
       "      <td>-0.674958</td>\n",
       "      <td>-0.684835</td>\n",
       "      <td>-0.672219</td>\n",
       "      <td>-0.638121</td>\n",
       "    </tr>\n",
       "    <tr>\n",
       "      <th>50%</th>\n",
       "      <td>0.003865</td>\n",
       "      <td>0.005617</td>\n",
       "      <td>0.014023</td>\n",
       "      <td>0.044036</td>\n",
       "    </tr>\n",
       "    <tr>\n",
       "      <th>75%</th>\n",
       "      <td>0.654615</td>\n",
       "      <td>0.677426</td>\n",
       "      <td>0.640463</td>\n",
       "      <td>0.681669</td>\n",
       "    </tr>\n",
       "    <tr>\n",
       "      <th>max</th>\n",
       "      <td>3.562431</td>\n",
       "      <td>3.247698</td>\n",
       "      <td>3.126472</td>\n",
       "      <td>3.342041</td>\n",
       "    </tr>\n",
       "  </tbody>\n",
       "</table>\n",
       "</div>"
      ],
      "text/plain": [
       "group1                 A            B            C            D\n",
       "Data1 count  2421.000000  2490.000000  2499.000000  2590.000000\n",
       "      mean     -0.022974     0.012113     0.009477     0.017054\n",
       "      std       0.988331     0.995739     1.024529     0.996643\n",
       "      min      -3.483872    -3.426703    -3.975706    -3.123994\n",
       "      25%      -0.693473    -0.635425    -0.679099    -0.681255\n",
       "      50%      -0.024418     0.007583     0.016390     0.029691\n",
       "      75%       0.638969     0.676657     0.700021     0.712717\n",
       "      max       4.039558     3.487299     3.830694     3.892288\n",
       "Data2 count  2421.000000  2490.000000  2499.000000  2590.000000\n",
       "      mean     -0.009337    -0.001339     0.007454    -0.007292\n",
       "      std       0.982931     0.989484     0.991534     1.011388\n",
       "      min      -3.105877    -3.113528    -3.252992    -3.435492\n",
       "      25%      -0.680883    -0.688544    -0.641055    -0.733928\n",
       "      50%      -0.001281    -0.008370     0.011151    -0.005181\n",
       "      75%       0.655780     0.648792     0.675994     0.677998\n",
       "      max       3.959512     3.009574     3.073445     3.464834\n",
       "Data3 count  2421.000000  2490.000000  2499.000000  2590.000000\n",
       "      mean     -0.058824     0.005424    -0.002339    -0.010275\n",
       "      std       1.005123     0.981905     1.002503     0.992937\n",
       "      min      -3.218036    -2.979363    -3.357380    -3.516477\n",
       "      25%      -0.730258    -0.653713    -0.674276    -0.696166\n",
       "      50%      -0.041033     0.001158    -0.018291    -0.009909\n",
       "      75%       0.644677     0.663914     0.678191     0.670508\n",
       "      max       3.900227     3.138222     3.477502     3.095179\n",
       "Data4 count  2421.000000  2490.000000  2499.000000  2590.000000\n",
       "      mean      0.003380    -0.013151    -0.005165     0.027955\n",
       "      std       1.004613     1.000953     0.972741     0.984042\n",
       "      min      -3.742931    -3.883815    -3.264068    -2.986791\n",
       "      25%      -0.674958    -0.684835    -0.672219    -0.638121\n",
       "      50%       0.003865     0.005617     0.014023     0.044036\n",
       "      75%       0.654615     0.677426     0.640463     0.681669\n",
       "      max       3.562431     3.247698     3.126472     3.342041"
      ]
     },
     "execution_count": 18,
     "metadata": {},
     "output_type": "execute_result"
    }
   ],
   "source": [
    "np.transpose(grouped.describe() )"
   ]
  },
  {
   "cell_type": "markdown",
   "metadata": {
    "slideshow": {
     "slide_type": "subslide"
    }
   },
   "source": [
    "#### 1.5 选择Group对象中的数据"
   ]
  },
  {
   "cell_type": "code",
   "execution_count": 19,
   "metadata": {
    "execution": {
     "iopub.execute_input": "2020-05-14T08:12:14.875819Z",
     "iopub.status.busy": "2020-05-14T08:12:14.875819Z",
     "iopub.status.idle": "2020-05-14T08:12:14.891771Z",
     "shell.execute_reply": "2020-05-14T08:12:14.891771Z",
     "shell.execute_reply.started": "2020-05-14T08:12:14.875819Z"
    },
    "scrolled": true
   },
   "outputs": [
    {
     "data": {
      "text/html": [
       "<div>\n",
       "<style scoped>\n",
       "    .dataframe tbody tr th:only-of-type {\n",
       "        vertical-align: middle;\n",
       "    }\n",
       "\n",
       "    .dataframe tbody tr th {\n",
       "        vertical-align: top;\n",
       "    }\n",
       "\n",
       "    .dataframe thead th {\n",
       "        text-align: right;\n",
       "    }\n",
       "</style>\n",
       "<table border=\"1\" class=\"dataframe\">\n",
       "  <thead>\n",
       "    <tr style=\"text-align: right;\">\n",
       "      <th></th>\n",
       "      <th>Data1</th>\n",
       "      <th>Data2</th>\n",
       "      <th>Data3</th>\n",
       "      <th>Data4</th>\n",
       "      <th>group1</th>\n",
       "    </tr>\n",
       "  </thead>\n",
       "  <tbody>\n",
       "    <tr>\n",
       "      <th>2017-01-02</th>\n",
       "      <td>0.533121</td>\n",
       "      <td>-2.568723</td>\n",
       "      <td>-1.301011</td>\n",
       "      <td>-0.768564</td>\n",
       "      <td>A</td>\n",
       "    </tr>\n",
       "    <tr>\n",
       "      <th>2017-01-04</th>\n",
       "      <td>-0.261805</td>\n",
       "      <td>-1.725207</td>\n",
       "      <td>2.018913</td>\n",
       "      <td>0.727646</td>\n",
       "      <td>A</td>\n",
       "    </tr>\n",
       "    <tr>\n",
       "      <th>2017-01-11</th>\n",
       "      <td>-1.437821</td>\n",
       "      <td>-1.219899</td>\n",
       "      <td>0.807925</td>\n",
       "      <td>-0.176256</td>\n",
       "      <td>A</td>\n",
       "    </tr>\n",
       "    <tr>\n",
       "      <th>2017-01-16</th>\n",
       "      <td>-1.351172</td>\n",
       "      <td>0.701713</td>\n",
       "      <td>0.244003</td>\n",
       "      <td>-1.830107</td>\n",
       "      <td>A</td>\n",
       "    </tr>\n",
       "    <tr>\n",
       "      <th>2017-01-20</th>\n",
       "      <td>1.788625</td>\n",
       "      <td>0.024829</td>\n",
       "      <td>-1.806473</td>\n",
       "      <td>0.746747</td>\n",
       "      <td>A</td>\n",
       "    </tr>\n",
       "  </tbody>\n",
       "</table>\n",
       "</div>"
      ],
      "text/plain": [
       "               Data1     Data2     Data3     Data4 group1\n",
       "2017-01-02  0.533121 -2.568723 -1.301011 -0.768564      A\n",
       "2017-01-04 -0.261805 -1.725207  2.018913  0.727646      A\n",
       "2017-01-11 -1.437821 -1.219899  0.807925 -0.176256      A\n",
       "2017-01-16 -1.351172  0.701713  0.244003 -1.830107      A\n",
       "2017-01-20  1.788625  0.024829 -1.806473  0.746747      A"
      ]
     },
     "execution_count": 19,
     "metadata": {},
     "output_type": "execute_result"
    }
   ],
   "source": [
    "grouped.get_group('A').head()    #get_group()"
   ]
  },
  {
   "cell_type": "code",
   "execution_count": 20,
   "metadata": {
    "execution": {
     "iopub.execute_input": "2020-05-14T08:12:18.021205Z",
     "iopub.status.busy": "2020-05-14T08:12:18.021205Z",
     "iopub.status.idle": "2020-05-14T08:12:18.034681Z",
     "shell.execute_reply": "2020-05-14T08:12:18.033715Z",
     "shell.execute_reply.started": "2020-05-14T08:12:18.021205Z"
    }
   },
   "outputs": [
    {
     "data": {
      "text/html": [
       "<div>\n",
       "<style scoped>\n",
       "    .dataframe tbody tr th:only-of-type {\n",
       "        vertical-align: middle;\n",
       "    }\n",
       "\n",
       "    .dataframe tbody tr th {\n",
       "        vertical-align: top;\n",
       "    }\n",
       "\n",
       "    .dataframe thead th {\n",
       "        text-align: right;\n",
       "    }\n",
       "</style>\n",
       "<table border=\"1\" class=\"dataframe\">\n",
       "  <thead>\n",
       "    <tr style=\"text-align: right;\">\n",
       "      <th></th>\n",
       "      <th>Data1</th>\n",
       "      <th>Data2</th>\n",
       "      <th>Data3</th>\n",
       "      <th>Data4</th>\n",
       "      <th>group1</th>\n",
       "    </tr>\n",
       "  </thead>\n",
       "  <tbody>\n",
       "    <tr>\n",
       "      <th>2017-01-01</th>\n",
       "      <td>-0.546057</td>\n",
       "      <td>0.485809</td>\n",
       "      <td>0.271526</td>\n",
       "      <td>-0.101068</td>\n",
       "      <td>B</td>\n",
       "    </tr>\n",
       "    <tr>\n",
       "      <th>2017-01-13</th>\n",
       "      <td>-0.437989</td>\n",
       "      <td>-0.955484</td>\n",
       "      <td>1.733208</td>\n",
       "      <td>-1.686564</td>\n",
       "      <td>B</td>\n",
       "    </tr>\n",
       "    <tr>\n",
       "      <th>2017-01-14</th>\n",
       "      <td>0.783482</td>\n",
       "      <td>-0.511931</td>\n",
       "      <td>0.208867</td>\n",
       "      <td>-1.064160</td>\n",
       "      <td>B</td>\n",
       "    </tr>\n",
       "    <tr>\n",
       "      <th>2017-01-22</th>\n",
       "      <td>-0.210645</td>\n",
       "      <td>0.010223</td>\n",
       "      <td>-1.911574</td>\n",
       "      <td>0.036446</td>\n",
       "      <td>B</td>\n",
       "    </tr>\n",
       "    <tr>\n",
       "      <th>2017-01-25</th>\n",
       "      <td>-0.329076</td>\n",
       "      <td>1.760097</td>\n",
       "      <td>-0.051402</td>\n",
       "      <td>-0.784779</td>\n",
       "      <td>B</td>\n",
       "    </tr>\n",
       "  </tbody>\n",
       "</table>\n",
       "</div>"
      ],
      "text/plain": [
       "               Data1     Data2     Data3     Data4 group1\n",
       "2017-01-01 -0.546057  0.485809  0.271526 -0.101068      B\n",
       "2017-01-13 -0.437989 -0.955484  1.733208 -1.686564      B\n",
       "2017-01-14  0.783482 -0.511931  0.208867 -1.064160      B\n",
       "2017-01-22 -0.210645  0.010223 -1.911574  0.036446      B\n",
       "2017-01-25 -0.329076  1.760097 -0.051402 -0.784779      B"
      ]
     },
     "execution_count": 20,
     "metadata": {},
     "output_type": "execute_result"
    }
   ],
   "source": [
    "grouped.get_group('B').head() "
   ]
  },
  {
   "cell_type": "code",
   "execution_count": 22,
   "metadata": {
    "execution": {
     "iopub.execute_input": "2020-05-14T08:12:45.660248Z",
     "iopub.status.busy": "2020-05-14T08:12:45.659249Z",
     "iopub.status.idle": "2020-05-14T08:12:45.667228Z",
     "shell.execute_reply": "2020-05-14T08:12:45.666266Z",
     "shell.execute_reply.started": "2020-05-14T08:12:45.660248Z"
    }
   },
   "outputs": [
    {
     "data": {
      "text/plain": [
       "pandas.core.groupby.generic.DataFrameGroupBy"
      ]
     },
     "execution_count": 22,
     "metadata": {},
     "output_type": "execute_result"
    }
   ],
   "source": [
    "grouped.           #tab键查看对应其对应的方法"
   ]
  },
  {
   "cell_type": "markdown",
   "metadata": {
    "slideshow": {
     "slide_type": "subslide"
    }
   },
   "source": [
    "#### 1.6 双重Group"
   ]
  },
  {
   "cell_type": "code",
   "execution_count": 23,
   "metadata": {
    "execution": {
     "iopub.execute_input": "2020-05-14T08:13:10.448676Z",
     "iopub.status.busy": "2020-05-14T08:13:10.448676Z",
     "iopub.status.idle": "2020-05-14T08:13:10.455658Z",
     "shell.execute_reply": "2020-05-14T08:13:10.454719Z",
     "shell.execute_reply.started": "2020-05-14T08:13:10.448676Z"
    }
   },
   "outputs": [],
   "source": [
    "df['group2'] = np.random.choice(['Python','C++','Java'], 10000)   "
   ]
  },
  {
   "cell_type": "code",
   "execution_count": 24,
   "metadata": {
    "execution": {
     "iopub.execute_input": "2020-05-14T08:14:05.710196Z",
     "iopub.status.busy": "2020-05-14T08:14:05.709199Z",
     "iopub.status.idle": "2020-05-14T08:14:05.724151Z",
     "shell.execute_reply": "2020-05-14T08:14:05.724151Z",
     "shell.execute_reply.started": "2020-05-14T08:14:05.710196Z"
    }
   },
   "outputs": [
    {
     "data": {
      "text/html": [
       "<div>\n",
       "<style scoped>\n",
       "    .dataframe tbody tr th:only-of-type {\n",
       "        vertical-align: middle;\n",
       "    }\n",
       "\n",
       "    .dataframe tbody tr th {\n",
       "        vertical-align: top;\n",
       "    }\n",
       "\n",
       "    .dataframe thead th {\n",
       "        text-align: right;\n",
       "    }\n",
       "</style>\n",
       "<table border=\"1\" class=\"dataframe\">\n",
       "  <thead>\n",
       "    <tr style=\"text-align: right;\">\n",
       "      <th></th>\n",
       "      <th>Data1</th>\n",
       "      <th>Data2</th>\n",
       "      <th>Data3</th>\n",
       "      <th>Data4</th>\n",
       "      <th>group1</th>\n",
       "      <th>group2</th>\n",
       "    </tr>\n",
       "  </thead>\n",
       "  <tbody>\n",
       "    <tr>\n",
       "      <th>2017-01-01</th>\n",
       "      <td>-0.546057</td>\n",
       "      <td>0.485809</td>\n",
       "      <td>0.271526</td>\n",
       "      <td>-0.101068</td>\n",
       "      <td>B</td>\n",
       "      <td>Java</td>\n",
       "    </tr>\n",
       "    <tr>\n",
       "      <th>2017-01-02</th>\n",
       "      <td>0.533121</td>\n",
       "      <td>-2.568723</td>\n",
       "      <td>-1.301011</td>\n",
       "      <td>-0.768564</td>\n",
       "      <td>A</td>\n",
       "      <td>Java</td>\n",
       "    </tr>\n",
       "    <tr>\n",
       "      <th>2017-01-03</th>\n",
       "      <td>0.503637</td>\n",
       "      <td>-0.952887</td>\n",
       "      <td>0.276748</td>\n",
       "      <td>1.242785</td>\n",
       "      <td>D</td>\n",
       "      <td>Java</td>\n",
       "    </tr>\n",
       "    <tr>\n",
       "      <th>2017-01-04</th>\n",
       "      <td>-0.261805</td>\n",
       "      <td>-1.725207</td>\n",
       "      <td>2.018913</td>\n",
       "      <td>0.727646</td>\n",
       "      <td>A</td>\n",
       "      <td>Java</td>\n",
       "    </tr>\n",
       "    <tr>\n",
       "      <th>2017-01-05</th>\n",
       "      <td>0.327719</td>\n",
       "      <td>-1.084610</td>\n",
       "      <td>-0.315303</td>\n",
       "      <td>0.146023</td>\n",
       "      <td>C</td>\n",
       "      <td>C++</td>\n",
       "    </tr>\n",
       "  </tbody>\n",
       "</table>\n",
       "</div>"
      ],
      "text/plain": [
       "               Data1     Data2     Data3     Data4 group1 group2\n",
       "2017-01-01 -0.546057  0.485809  0.271526 -0.101068      B   Java\n",
       "2017-01-02  0.533121 -2.568723 -1.301011 -0.768564      A   Java\n",
       "2017-01-03  0.503637 -0.952887  0.276748  1.242785      D   Java\n",
       "2017-01-04 -0.261805 -1.725207  2.018913  0.727646      A   Java\n",
       "2017-01-05  0.327719 -1.084610 -0.315303  0.146023      C    C++"
      ]
     },
     "execution_count": 24,
     "metadata": {},
     "output_type": "execute_result"
    }
   ],
   "source": [
    "df.head()"
   ]
  },
  {
   "cell_type": "code",
   "execution_count": 25,
   "metadata": {
    "execution": {
     "iopub.execute_input": "2020-05-14T08:14:06.857182Z",
     "iopub.status.busy": "2020-05-14T08:14:06.857182Z",
     "iopub.status.idle": "2020-05-14T08:14:06.875130Z",
     "shell.execute_reply": "2020-05-14T08:14:06.874137Z",
     "shell.execute_reply.started": "2020-05-14T08:14:06.857182Z"
    }
   },
   "outputs": [
    {
     "data": {
      "text/plain": [
       "group1  group2\n",
       "A       C++       823\n",
       "        Java      799\n",
       "        Python    799\n",
       "B       C++       878\n",
       "        Java      800\n",
       "        Python    812\n",
       "C       C++       804\n",
       "        Java      848\n",
       "        Python    847\n",
       "D       C++       870\n",
       "        Java      871\n",
       "        Python    849\n",
       "dtype: int64"
      ]
     },
     "execution_count": 25,
     "metadata": {},
     "output_type": "execute_result"
    }
   ],
   "source": [
    "grouped = df.groupby(['group1', 'group2'])\n",
    "grouped.size()                                    #多组分类"
   ]
  },
  {
   "cell_type": "code",
   "execution_count": 26,
   "metadata": {
    "execution": {
     "iopub.execute_input": "2020-05-14T08:14:20.585384Z",
     "iopub.status.busy": "2020-05-14T08:14:20.585384Z",
     "iopub.status.idle": "2020-05-14T08:14:20.599382Z",
     "shell.execute_reply": "2020-05-14T08:14:20.599382Z",
     "shell.execute_reply.started": "2020-05-14T08:14:20.585384Z"
    }
   },
   "outputs": [
    {
     "data": {
      "text/html": [
       "<div>\n",
       "<style scoped>\n",
       "    .dataframe tbody tr th:only-of-type {\n",
       "        vertical-align: middle;\n",
       "    }\n",
       "\n",
       "    .dataframe tbody tr th {\n",
       "        vertical-align: top;\n",
       "    }\n",
       "\n",
       "    .dataframe thead th {\n",
       "        text-align: right;\n",
       "    }\n",
       "</style>\n",
       "<table border=\"1\" class=\"dataframe\">\n",
       "  <thead>\n",
       "    <tr style=\"text-align: right;\">\n",
       "      <th></th>\n",
       "      <th></th>\n",
       "      <th>Data1</th>\n",
       "      <th>Data2</th>\n",
       "      <th>Data3</th>\n",
       "      <th>Data4</th>\n",
       "    </tr>\n",
       "    <tr>\n",
       "      <th>group1</th>\n",
       "      <th>group2</th>\n",
       "      <th></th>\n",
       "      <th></th>\n",
       "      <th></th>\n",
       "      <th></th>\n",
       "    </tr>\n",
       "  </thead>\n",
       "  <tbody>\n",
       "    <tr>\n",
       "      <th rowspan=\"3\" valign=\"top\">A</th>\n",
       "      <th>C++</th>\n",
       "      <td>3.190600</td>\n",
       "      <td>3.959512</td>\n",
       "      <td>2.997936</td>\n",
       "      <td>3.562431</td>\n",
       "    </tr>\n",
       "    <tr>\n",
       "      <th>Java</th>\n",
       "      <td>2.663028</td>\n",
       "      <td>3.481206</td>\n",
       "      <td>3.162399</td>\n",
       "      <td>3.262174</td>\n",
       "    </tr>\n",
       "    <tr>\n",
       "      <th>Python</th>\n",
       "      <td>4.039558</td>\n",
       "      <td>2.910157</td>\n",
       "      <td>3.900227</td>\n",
       "      <td>2.811884</td>\n",
       "    </tr>\n",
       "    <tr>\n",
       "      <th rowspan=\"3\" valign=\"top\">B</th>\n",
       "      <th>C++</th>\n",
       "      <td>3.050618</td>\n",
       "      <td>2.771034</td>\n",
       "      <td>2.699080</td>\n",
       "      <td>2.819964</td>\n",
       "    </tr>\n",
       "    <tr>\n",
       "      <th>Java</th>\n",
       "      <td>3.487299</td>\n",
       "      <td>3.009574</td>\n",
       "      <td>2.684646</td>\n",
       "      <td>3.247698</td>\n",
       "    </tr>\n",
       "    <tr>\n",
       "      <th>Python</th>\n",
       "      <td>3.015203</td>\n",
       "      <td>2.685822</td>\n",
       "      <td>3.138222</td>\n",
       "      <td>2.965580</td>\n",
       "    </tr>\n",
       "    <tr>\n",
       "      <th rowspan=\"3\" valign=\"top\">C</th>\n",
       "      <th>C++</th>\n",
       "      <td>2.683622</td>\n",
       "      <td>2.933570</td>\n",
       "      <td>3.477502</td>\n",
       "      <td>3.126472</td>\n",
       "    </tr>\n",
       "    <tr>\n",
       "      <th>Java</th>\n",
       "      <td>3.009847</td>\n",
       "      <td>3.073445</td>\n",
       "      <td>3.004545</td>\n",
       "      <td>2.939077</td>\n",
       "    </tr>\n",
       "    <tr>\n",
       "      <th>Python</th>\n",
       "      <td>3.830694</td>\n",
       "      <td>2.886652</td>\n",
       "      <td>3.112836</td>\n",
       "      <td>2.700130</td>\n",
       "    </tr>\n",
       "    <tr>\n",
       "      <th rowspan=\"3\" valign=\"top\">D</th>\n",
       "      <th>C++</th>\n",
       "      <td>3.007815</td>\n",
       "      <td>3.464834</td>\n",
       "      <td>3.095179</td>\n",
       "      <td>3.109603</td>\n",
       "    </tr>\n",
       "    <tr>\n",
       "      <th>Java</th>\n",
       "      <td>3.268574</td>\n",
       "      <td>2.716332</td>\n",
       "      <td>2.690239</td>\n",
       "      <td>3.342041</td>\n",
       "    </tr>\n",
       "    <tr>\n",
       "      <th>Python</th>\n",
       "      <td>3.892288</td>\n",
       "      <td>3.436476</td>\n",
       "      <td>2.688189</td>\n",
       "      <td>2.931458</td>\n",
       "    </tr>\n",
       "  </tbody>\n",
       "</table>\n",
       "</div>"
      ],
      "text/plain": [
       "                  Data1     Data2     Data3     Data4\n",
       "group1 group2                                        \n",
       "A      C++     3.190600  3.959512  2.997936  3.562431\n",
       "       Java    2.663028  3.481206  3.162399  3.262174\n",
       "       Python  4.039558  2.910157  3.900227  2.811884\n",
       "B      C++     3.050618  2.771034  2.699080  2.819964\n",
       "       Java    3.487299  3.009574  2.684646  3.247698\n",
       "       Python  3.015203  2.685822  3.138222  2.965580\n",
       "C      C++     2.683622  2.933570  3.477502  3.126472\n",
       "       Java    3.009847  3.073445  3.004545  2.939077\n",
       "       Python  3.830694  2.886652  3.112836  2.700130\n",
       "D      C++     3.007815  3.464834  3.095179  3.109603\n",
       "       Java    3.268574  2.716332  2.690239  3.342041\n",
       "       Python  3.892288  3.436476  2.688189  2.931458"
      ]
     },
     "execution_count": 26,
     "metadata": {},
     "output_type": "execute_result"
    }
   ],
   "source": [
    "grouped.max()"
   ]
  },
  {
   "cell_type": "code",
   "execution_count": 27,
   "metadata": {
    "execution": {
     "iopub.execute_input": "2020-05-14T08:14:31.983937Z",
     "iopub.status.busy": "2020-05-14T08:14:31.982900Z",
     "iopub.status.idle": "2020-05-14T08:14:32.006824Z",
     "shell.execute_reply": "2020-05-14T08:14:32.005827Z",
     "shell.execute_reply.started": "2020-05-14T08:14:31.983937Z"
    }
   },
   "outputs": [
    {
     "data": {
      "text/html": [
       "<div>\n",
       "<style scoped>\n",
       "    .dataframe tbody tr th:only-of-type {\n",
       "        vertical-align: middle;\n",
       "    }\n",
       "\n",
       "    .dataframe tbody tr th {\n",
       "        vertical-align: top;\n",
       "    }\n",
       "\n",
       "    .dataframe thead th {\n",
       "        text-align: right;\n",
       "    }\n",
       "</style>\n",
       "<table border=\"1\" class=\"dataframe\">\n",
       "  <thead>\n",
       "    <tr style=\"text-align: right;\">\n",
       "      <th></th>\n",
       "      <th></th>\n",
       "      <th>Data1</th>\n",
       "      <th>Data2</th>\n",
       "      <th>Data3</th>\n",
       "      <th>Data4</th>\n",
       "    </tr>\n",
       "    <tr>\n",
       "      <th>group1</th>\n",
       "      <th>group2</th>\n",
       "      <th></th>\n",
       "      <th></th>\n",
       "      <th></th>\n",
       "      <th></th>\n",
       "    </tr>\n",
       "  </thead>\n",
       "  <tbody>\n",
       "    <tr>\n",
       "      <th rowspan=\"3\" valign=\"top\">A</th>\n",
       "      <th>C++</th>\n",
       "      <td>-2.959609</td>\n",
       "      <td>-3.094755</td>\n",
       "      <td>-3.069059</td>\n",
       "      <td>-3.742931</td>\n",
       "    </tr>\n",
       "    <tr>\n",
       "      <th>Java</th>\n",
       "      <td>-3.406870</td>\n",
       "      <td>-3.105877</td>\n",
       "      <td>-3.218036</td>\n",
       "      <td>-3.240548</td>\n",
       "    </tr>\n",
       "    <tr>\n",
       "      <th>Python</th>\n",
       "      <td>-3.483872</td>\n",
       "      <td>-2.675660</td>\n",
       "      <td>-3.088843</td>\n",
       "      <td>-3.242521</td>\n",
       "    </tr>\n",
       "    <tr>\n",
       "      <th rowspan=\"3\" valign=\"top\">B</th>\n",
       "      <th>C++</th>\n",
       "      <td>-3.426703</td>\n",
       "      <td>-3.053811</td>\n",
       "      <td>-2.979363</td>\n",
       "      <td>-3.833672</td>\n",
       "    </tr>\n",
       "    <tr>\n",
       "      <th>Java</th>\n",
       "      <td>-2.966320</td>\n",
       "      <td>-3.113528</td>\n",
       "      <td>-2.905100</td>\n",
       "      <td>-3.883815</td>\n",
       "    </tr>\n",
       "    <tr>\n",
       "      <th>Python</th>\n",
       "      <td>-3.171815</td>\n",
       "      <td>-2.698816</td>\n",
       "      <td>-2.631941</td>\n",
       "      <td>-2.946021</td>\n",
       "    </tr>\n",
       "    <tr>\n",
       "      <th rowspan=\"3\" valign=\"top\">C</th>\n",
       "      <th>C++</th>\n",
       "      <td>-3.975706</td>\n",
       "      <td>-3.118287</td>\n",
       "      <td>-2.618553</td>\n",
       "      <td>-3.011548</td>\n",
       "    </tr>\n",
       "    <tr>\n",
       "      <th>Java</th>\n",
       "      <td>-3.255773</td>\n",
       "      <td>-3.252992</td>\n",
       "      <td>-3.357380</td>\n",
       "      <td>-3.264068</td>\n",
       "    </tr>\n",
       "    <tr>\n",
       "      <th>Python</th>\n",
       "      <td>-3.372544</td>\n",
       "      <td>-3.046156</td>\n",
       "      <td>-3.354677</td>\n",
       "      <td>-2.763346</td>\n",
       "    </tr>\n",
       "    <tr>\n",
       "      <th rowspan=\"3\" valign=\"top\">D</th>\n",
       "      <th>C++</th>\n",
       "      <td>-2.805223</td>\n",
       "      <td>-2.735691</td>\n",
       "      <td>-3.022724</td>\n",
       "      <td>-2.986791</td>\n",
       "    </tr>\n",
       "    <tr>\n",
       "      <th>Java</th>\n",
       "      <td>-2.892177</td>\n",
       "      <td>-2.662967</td>\n",
       "      <td>-3.258573</td>\n",
       "      <td>-2.945635</td>\n",
       "    </tr>\n",
       "    <tr>\n",
       "      <th>Python</th>\n",
       "      <td>-3.123994</td>\n",
       "      <td>-3.435492</td>\n",
       "      <td>-3.516477</td>\n",
       "      <td>-2.768220</td>\n",
       "    </tr>\n",
       "  </tbody>\n",
       "</table>\n",
       "</div>"
      ],
      "text/plain": [
       "                  Data1     Data2     Data3     Data4\n",
       "group1 group2                                        \n",
       "A      C++    -2.959609 -3.094755 -3.069059 -3.742931\n",
       "       Java   -3.406870 -3.105877 -3.218036 -3.240548\n",
       "       Python -3.483872 -2.675660 -3.088843 -3.242521\n",
       "B      C++    -3.426703 -3.053811 -2.979363 -3.833672\n",
       "       Java   -2.966320 -3.113528 -2.905100 -3.883815\n",
       "       Python -3.171815 -2.698816 -2.631941 -2.946021\n",
       "C      C++    -3.975706 -3.118287 -2.618553 -3.011548\n",
       "       Java   -3.255773 -3.252992 -3.357380 -3.264068\n",
       "       Python -3.372544 -3.046156 -3.354677 -2.763346\n",
       "D      C++    -2.805223 -2.735691 -3.022724 -2.986791\n",
       "       Java   -2.892177 -2.662967 -3.258573 -2.945635\n",
       "       Python -3.123994 -3.435492 -3.516477 -2.768220"
      ]
     },
     "execution_count": 27,
     "metadata": {},
     "output_type": "execute_result"
    }
   ],
   "source": [
    "grouped.min()"
   ]
  },
  {
   "cell_type": "code",
   "execution_count": 28,
   "metadata": {
    "execution": {
     "iopub.execute_input": "2020-05-14T08:14:33.707274Z",
     "iopub.status.busy": "2020-05-14T08:14:33.707274Z",
     "iopub.status.idle": "2020-05-14T08:14:33.749670Z",
     "shell.execute_reply": "2020-05-14T08:14:33.748735Z",
     "shell.execute_reply.started": "2020-05-14T08:14:33.707274Z"
    },
    "scrolled": true
   },
   "outputs": [
    {
     "data": {
      "text/html": [
       "<div>\n",
       "<style scoped>\n",
       "    .dataframe tbody tr th:only-of-type {\n",
       "        vertical-align: middle;\n",
       "    }\n",
       "\n",
       "    .dataframe tbody tr th {\n",
       "        vertical-align: top;\n",
       "    }\n",
       "\n",
       "    .dataframe thead tr th {\n",
       "        text-align: left;\n",
       "    }\n",
       "\n",
       "    .dataframe thead tr:last-of-type th {\n",
       "        text-align: right;\n",
       "    }\n",
       "</style>\n",
       "<table border=\"1\" class=\"dataframe\">\n",
       "  <thead>\n",
       "    <tr>\n",
       "      <th></th>\n",
       "      <th></th>\n",
       "      <th colspan=\"2\" halign=\"left\">Data1</th>\n",
       "      <th colspan=\"2\" halign=\"left\">Data2</th>\n",
       "      <th colspan=\"2\" halign=\"left\">Data3</th>\n",
       "      <th colspan=\"2\" halign=\"left\">Data4</th>\n",
       "    </tr>\n",
       "    <tr>\n",
       "      <th></th>\n",
       "      <th></th>\n",
       "      <th>amax</th>\n",
       "      <th>sum</th>\n",
       "      <th>amax</th>\n",
       "      <th>sum</th>\n",
       "      <th>amax</th>\n",
       "      <th>sum</th>\n",
       "      <th>amax</th>\n",
       "      <th>sum</th>\n",
       "    </tr>\n",
       "    <tr>\n",
       "      <th>group1</th>\n",
       "      <th>group2</th>\n",
       "      <th></th>\n",
       "      <th></th>\n",
       "      <th></th>\n",
       "      <th></th>\n",
       "      <th></th>\n",
       "      <th></th>\n",
       "      <th></th>\n",
       "      <th></th>\n",
       "    </tr>\n",
       "  </thead>\n",
       "  <tbody>\n",
       "    <tr>\n",
       "      <th rowspan=\"3\" valign=\"top\">A</th>\n",
       "      <th>C++</th>\n",
       "      <td>3.190600</td>\n",
       "      <td>-17.108908</td>\n",
       "      <td>3.959512</td>\n",
       "      <td>-18.495800</td>\n",
       "      <td>2.997936</td>\n",
       "      <td>-57.415544</td>\n",
       "      <td>3.562431</td>\n",
       "      <td>-13.988651</td>\n",
       "    </tr>\n",
       "    <tr>\n",
       "      <th>Java</th>\n",
       "      <td>2.663028</td>\n",
       "      <td>-20.766799</td>\n",
       "      <td>3.481206</td>\n",
       "      <td>6.518092</td>\n",
       "      <td>3.162399</td>\n",
       "      <td>-19.297443</td>\n",
       "      <td>3.262174</td>\n",
       "      <td>12.651405</td>\n",
       "    </tr>\n",
       "    <tr>\n",
       "      <th>Python</th>\n",
       "      <td>4.039558</td>\n",
       "      <td>-17.743210</td>\n",
       "      <td>2.910157</td>\n",
       "      <td>-10.628232</td>\n",
       "      <td>3.900227</td>\n",
       "      <td>-65.699327</td>\n",
       "      <td>2.811884</td>\n",
       "      <td>9.520961</td>\n",
       "    </tr>\n",
       "    <tr>\n",
       "      <th rowspan=\"3\" valign=\"top\">B</th>\n",
       "      <th>C++</th>\n",
       "      <td>3.050618</td>\n",
       "      <td>43.637131</td>\n",
       "      <td>2.771034</td>\n",
       "      <td>-49.134873</td>\n",
       "      <td>2.699080</td>\n",
       "      <td>28.224126</td>\n",
       "      <td>2.819964</td>\n",
       "      <td>-49.996141</td>\n",
       "    </tr>\n",
       "    <tr>\n",
       "      <th>Java</th>\n",
       "      <td>3.487299</td>\n",
       "      <td>-23.921524</td>\n",
       "      <td>3.009574</td>\n",
       "      <td>69.195373</td>\n",
       "      <td>2.684646</td>\n",
       "      <td>-36.525015</td>\n",
       "      <td>3.247698</td>\n",
       "      <td>4.018102</td>\n",
       "    </tr>\n",
       "    <tr>\n",
       "      <th>Python</th>\n",
       "      <td>3.015203</td>\n",
       "      <td>10.446899</td>\n",
       "      <td>2.685822</td>\n",
       "      <td>-23.394283</td>\n",
       "      <td>3.138222</td>\n",
       "      <td>21.807483</td>\n",
       "      <td>2.965580</td>\n",
       "      <td>13.230904</td>\n",
       "    </tr>\n",
       "    <tr>\n",
       "      <th rowspan=\"3\" valign=\"top\">C</th>\n",
       "      <th>C++</th>\n",
       "      <td>2.683622</td>\n",
       "      <td>2.721442</td>\n",
       "      <td>2.933570</td>\n",
       "      <td>-24.027603</td>\n",
       "      <td>3.477502</td>\n",
       "      <td>35.303458</td>\n",
       "      <td>3.126472</td>\n",
       "      <td>-16.861743</td>\n",
       "    </tr>\n",
       "    <tr>\n",
       "      <th>Java</th>\n",
       "      <td>3.009847</td>\n",
       "      <td>10.472955</td>\n",
       "      <td>3.073445</td>\n",
       "      <td>43.682551</td>\n",
       "      <td>3.004545</td>\n",
       "      <td>-49.428586</td>\n",
       "      <td>2.939077</td>\n",
       "      <td>20.079492</td>\n",
       "    </tr>\n",
       "    <tr>\n",
       "      <th>Python</th>\n",
       "      <td>3.830694</td>\n",
       "      <td>10.488901</td>\n",
       "      <td>2.886652</td>\n",
       "      <td>-1.026465</td>\n",
       "      <td>3.112836</td>\n",
       "      <td>8.279022</td>\n",
       "      <td>2.700130</td>\n",
       "      <td>-16.125589</td>\n",
       "    </tr>\n",
       "    <tr>\n",
       "      <th rowspan=\"3\" valign=\"top\">D</th>\n",
       "      <th>C++</th>\n",
       "      <td>3.007815</td>\n",
       "      <td>-2.533045</td>\n",
       "      <td>3.464834</td>\n",
       "      <td>21.460973</td>\n",
       "      <td>3.095179</td>\n",
       "      <td>-10.017261</td>\n",
       "      <td>3.109603</td>\n",
       "      <td>22.261089</td>\n",
       "    </tr>\n",
       "    <tr>\n",
       "      <th>Java</th>\n",
       "      <td>3.268574</td>\n",
       "      <td>4.888391</td>\n",
       "      <td>2.716332</td>\n",
       "      <td>-9.124124</td>\n",
       "      <td>2.690239</td>\n",
       "      <td>-11.068216</td>\n",
       "      <td>3.342041</td>\n",
       "      <td>47.615607</td>\n",
       "    </tr>\n",
       "    <tr>\n",
       "      <th>Python</th>\n",
       "      <td>3.892288</td>\n",
       "      <td>41.815019</td>\n",
       "      <td>3.436476</td>\n",
       "      <td>-31.223338</td>\n",
       "      <td>2.688189</td>\n",
       "      <td>-5.526480</td>\n",
       "      <td>2.931458</td>\n",
       "      <td>2.526220</td>\n",
       "    </tr>\n",
       "  </tbody>\n",
       "</table>\n",
       "</div>"
      ],
      "text/plain": [
       "                  Data1                Data2                Data3             \\\n",
       "                   amax        sum      amax        sum      amax        sum   \n",
       "group1 group2                                                                  \n",
       "A      C++     3.190600 -17.108908  3.959512 -18.495800  2.997936 -57.415544   \n",
       "       Java    2.663028 -20.766799  3.481206   6.518092  3.162399 -19.297443   \n",
       "       Python  4.039558 -17.743210  2.910157 -10.628232  3.900227 -65.699327   \n",
       "B      C++     3.050618  43.637131  2.771034 -49.134873  2.699080  28.224126   \n",
       "       Java    3.487299 -23.921524  3.009574  69.195373  2.684646 -36.525015   \n",
       "       Python  3.015203  10.446899  2.685822 -23.394283  3.138222  21.807483   \n",
       "C      C++     2.683622   2.721442  2.933570 -24.027603  3.477502  35.303458   \n",
       "       Java    3.009847  10.472955  3.073445  43.682551  3.004545 -49.428586   \n",
       "       Python  3.830694  10.488901  2.886652  -1.026465  3.112836   8.279022   \n",
       "D      C++     3.007815  -2.533045  3.464834  21.460973  3.095179 -10.017261   \n",
       "       Java    3.268574   4.888391  2.716332  -9.124124  2.690239 -11.068216   \n",
       "       Python  3.892288  41.815019  3.436476 -31.223338  2.688189  -5.526480   \n",
       "\n",
       "                  Data4             \n",
       "                   amax        sum  \n",
       "group1 group2                       \n",
       "A      C++     3.562431 -13.988651  \n",
       "       Java    3.262174  12.651405  \n",
       "       Python  2.811884   9.520961  \n",
       "B      C++     2.819964 -49.996141  \n",
       "       Java    3.247698   4.018102  \n",
       "       Python  2.965580  13.230904  \n",
       "C      C++     3.126472 -16.861743  \n",
       "       Java    2.939077  20.079492  \n",
       "       Python  2.700130 -16.125589  \n",
       "D      C++     3.109603  22.261089  \n",
       "       Java    3.342041  47.615607  \n",
       "       Python  2.931458   2.526220  "
      ]
     },
     "execution_count": 28,
     "metadata": {},
     "output_type": "execute_result"
    }
   ],
   "source": [
    "grouped.agg([np.max, np.sum])               #自定义聚合.分类汇总、查看，可以自定义聚合；"
   ]
  },
  {
   "cell_type": "code",
   "execution_count": 29,
   "metadata": {
    "execution": {
     "iopub.execute_input": "2020-05-14T08:15:48.719964Z",
     "iopub.status.busy": "2020-05-14T08:15:48.719964Z",
     "iopub.status.idle": "2020-05-14T08:15:48.733986Z",
     "shell.execute_reply": "2020-05-14T08:15:48.733986Z",
     "shell.execute_reply.started": "2020-05-14T08:15:48.719964Z"
    }
   },
   "outputs": [
    {
     "data": {
      "text/html": [
       "<div>\n",
       "<style scoped>\n",
       "    .dataframe tbody tr th:only-of-type {\n",
       "        vertical-align: middle;\n",
       "    }\n",
       "\n",
       "    .dataframe tbody tr th {\n",
       "        vertical-align: top;\n",
       "    }\n",
       "\n",
       "    .dataframe thead th {\n",
       "        text-align: right;\n",
       "    }\n",
       "</style>\n",
       "<table border=\"1\" class=\"dataframe\">\n",
       "  <thead>\n",
       "    <tr style=\"text-align: right;\">\n",
       "      <th></th>\n",
       "      <th></th>\n",
       "      <th>Data1</th>\n",
       "      <th>Data2</th>\n",
       "    </tr>\n",
       "    <tr>\n",
       "      <th>group1</th>\n",
       "      <th>group2</th>\n",
       "      <th></th>\n",
       "      <th></th>\n",
       "    </tr>\n",
       "  </thead>\n",
       "  <tbody>\n",
       "    <tr>\n",
       "      <th rowspan=\"3\" valign=\"top\">A</th>\n",
       "      <th>C++</th>\n",
       "      <td>-0.020788</td>\n",
       "      <td>3.959512</td>\n",
       "    </tr>\n",
       "    <tr>\n",
       "      <th>Java</th>\n",
       "      <td>-0.025991</td>\n",
       "      <td>3.481206</td>\n",
       "    </tr>\n",
       "    <tr>\n",
       "      <th>Python</th>\n",
       "      <td>-0.022207</td>\n",
       "      <td>2.910157</td>\n",
       "    </tr>\n",
       "    <tr>\n",
       "      <th rowspan=\"3\" valign=\"top\">B</th>\n",
       "      <th>C++</th>\n",
       "      <td>0.049701</td>\n",
       "      <td>2.771034</td>\n",
       "    </tr>\n",
       "    <tr>\n",
       "      <th>Java</th>\n",
       "      <td>-0.029902</td>\n",
       "      <td>3.009574</td>\n",
       "    </tr>\n",
       "    <tr>\n",
       "      <th>Python</th>\n",
       "      <td>0.012866</td>\n",
       "      <td>2.685822</td>\n",
       "    </tr>\n",
       "    <tr>\n",
       "      <th rowspan=\"3\" valign=\"top\">C</th>\n",
       "      <th>C++</th>\n",
       "      <td>0.003385</td>\n",
       "      <td>2.933570</td>\n",
       "    </tr>\n",
       "    <tr>\n",
       "      <th>Java</th>\n",
       "      <td>0.012350</td>\n",
       "      <td>3.073445</td>\n",
       "    </tr>\n",
       "    <tr>\n",
       "      <th>Python</th>\n",
       "      <td>0.012384</td>\n",
       "      <td>2.886652</td>\n",
       "    </tr>\n",
       "    <tr>\n",
       "      <th rowspan=\"3\" valign=\"top\">D</th>\n",
       "      <th>C++</th>\n",
       "      <td>-0.002912</td>\n",
       "      <td>3.464834</td>\n",
       "    </tr>\n",
       "    <tr>\n",
       "      <th>Java</th>\n",
       "      <td>0.005612</td>\n",
       "      <td>2.716332</td>\n",
       "    </tr>\n",
       "    <tr>\n",
       "      <th>Python</th>\n",
       "      <td>0.049252</td>\n",
       "      <td>3.436476</td>\n",
       "    </tr>\n",
       "  </tbody>\n",
       "</table>\n",
       "</div>"
      ],
      "text/plain": [
       "                  Data1     Data2\n",
       "group1 group2                    \n",
       "A      C++    -0.020788  3.959512\n",
       "       Java   -0.025991  3.481206\n",
       "       Python -0.022207  2.910157\n",
       "B      C++     0.049701  2.771034\n",
       "       Java   -0.029902  3.009574\n",
       "       Python  0.012866  2.685822\n",
       "C      C++     0.003385  2.933570\n",
       "       Java    0.012350  3.073445\n",
       "       Python  0.012384  2.886652\n",
       "D      C++    -0.002912  3.464834\n",
       "       Java    0.005612  2.716332\n",
       "       Python  0.049252  3.436476"
      ]
     },
     "execution_count": 29,
     "metadata": {},
     "output_type": "execute_result"
    }
   ],
   "source": [
    "grouped.agg({'Data1':np.mean, 'Data2':np.max})"
   ]
  },
  {
   "cell_type": "markdown",
   "metadata": {
    "slideshow": {
     "slide_type": "slide"
    }
   },
   "source": [
    "### 2. Pandas中Concat, Join, Merge操作"
   ]
  },
  {
   "cell_type": "markdown",
   "metadata": {},
   "source": [
    "#### 2.1 生成DataFrame"
   ]
  },
  {
   "cell_type": "code",
   "execution_count": 20,
   "metadata": {},
   "outputs": [
    {
     "data": {
      "text/html": [
       "<div>\n",
       "<style>\n",
       "    .dataframe thead tr:only-child th {\n",
       "        text-align: right;\n",
       "    }\n",
       "\n",
       "    .dataframe thead th {\n",
       "        text-align: left;\n",
       "    }\n",
       "\n",
       "    .dataframe tbody tr th {\n",
       "        vertical-align: top;\n",
       "    }\n",
       "</style>\n",
       "<table border=\"1\" class=\"dataframe\">\n",
       "  <thead>\n",
       "    <tr style=\"text-align: right;\">\n",
       "      <th></th>\n",
       "      <th>PE</th>\n",
       "    </tr>\n",
       "  </thead>\n",
       "  <tbody>\n",
       "    <tr>\n",
       "      <th>a</th>\n",
       "      <td>10</td>\n",
       "    </tr>\n",
       "    <tr>\n",
       "      <th>b</th>\n",
       "      <td>20</td>\n",
       "    </tr>\n",
       "    <tr>\n",
       "      <th>c</th>\n",
       "      <td>25</td>\n",
       "    </tr>\n",
       "    <tr>\n",
       "      <th>d</th>\n",
       "      <td>30</td>\n",
       "    </tr>\n",
       "  </tbody>\n",
       "</table>\n",
       "</div>"
      ],
      "text/plain": [
       "   PE\n",
       "a  10\n",
       "b  20\n",
       "c  25\n",
       "d  30"
      ]
     },
     "execution_count": 20,
     "metadata": {},
     "output_type": "execute_result"
    }
   ],
   "source": [
    "df1 = pd.DataFrame(['10', '20', '25', '30'], \n",
    "                    index=['a', 'b', 'c', 'd'],\n",
    "                    columns=['PE',])\n",
    "df1"
   ]
  },
  {
   "cell_type": "code",
   "execution_count": 25,
   "metadata": {
    "slideshow": {
     "slide_type": "-"
    }
   },
   "outputs": [
    {
     "data": {
      "text/html": [
       "<div>\n",
       "<style>\n",
       "    .dataframe thead tr:only-child th {\n",
       "        text-align: right;\n",
       "    }\n",
       "\n",
       "    .dataframe thead th {\n",
       "        text-align: left;\n",
       "    }\n",
       "\n",
       "    .dataframe tbody tr th {\n",
       "        vertical-align: top;\n",
       "    }\n",
       "</style>\n",
       "<table border=\"1\" class=\"dataframe\">\n",
       "  <thead>\n",
       "    <tr style=\"text-align: right;\">\n",
       "      <th></th>\n",
       "      <th>PB</th>\n",
       "    </tr>\n",
       "  </thead>\n",
       "  <tbody>\n",
       "    <tr>\n",
       "      <th>a</th>\n",
       "      <td>2.5</td>\n",
       "    </tr>\n",
       "    <tr>\n",
       "      <th>d</th>\n",
       "      <td>3.2</td>\n",
       "    </tr>\n",
       "    <tr>\n",
       "      <th>g</th>\n",
       "      <td>2.5</td>\n",
       "    </tr>\n",
       "  </tbody>\n",
       "</table>\n",
       "</div>"
      ],
      "text/plain": [
       "    PB\n",
       "a  2.5\n",
       "d  3.2\n",
       "g  2.5"
      ]
     },
     "execution_count": 25,
     "metadata": {},
     "output_type": "execute_result"
    }
   ],
   "source": [
    "df2 = pd.DataFrame(['2.5', '3.2', '2.5'], \n",
    "                    index=['a', 'd', 'g'],\n",
    "                    columns=['PB',])\n",
    "df2"
   ]
  },
  {
   "cell_type": "markdown",
   "metadata": {
    "slideshow": {
     "slide_type": "subslide"
    }
   },
   "source": [
    "#### 2.2 Concat操作"
   ]
  },
  {
   "cell_type": "code",
   "execution_count": 26,
   "metadata": {
    "scrolled": true
   },
   "outputs": [
    {
     "data": {
      "text/html": [
       "<div>\n",
       "<style>\n",
       "    .dataframe thead tr:only-child th {\n",
       "        text-align: right;\n",
       "    }\n",
       "\n",
       "    .dataframe thead th {\n",
       "        text-align: left;\n",
       "    }\n",
       "\n",
       "    .dataframe tbody tr th {\n",
       "        vertical-align: top;\n",
       "    }\n",
       "</style>\n",
       "<table border=\"1\" class=\"dataframe\">\n",
       "  <thead>\n",
       "    <tr style=\"text-align: right;\">\n",
       "      <th></th>\n",
       "      <th>PB</th>\n",
       "      <th>PE</th>\n",
       "    </tr>\n",
       "  </thead>\n",
       "  <tbody>\n",
       "    <tr>\n",
       "      <th>a</th>\n",
       "      <td>NaN</td>\n",
       "      <td>10</td>\n",
       "    </tr>\n",
       "    <tr>\n",
       "      <th>b</th>\n",
       "      <td>NaN</td>\n",
       "      <td>20</td>\n",
       "    </tr>\n",
       "    <tr>\n",
       "      <th>c</th>\n",
       "      <td>NaN</td>\n",
       "      <td>25</td>\n",
       "    </tr>\n",
       "    <tr>\n",
       "      <th>d</th>\n",
       "      <td>NaN</td>\n",
       "      <td>30</td>\n",
       "    </tr>\n",
       "    <tr>\n",
       "      <th>a</th>\n",
       "      <td>2.5</td>\n",
       "      <td>NaN</td>\n",
       "    </tr>\n",
       "    <tr>\n",
       "      <th>d</th>\n",
       "      <td>3.2</td>\n",
       "      <td>NaN</td>\n",
       "    </tr>\n",
       "    <tr>\n",
       "      <th>g</th>\n",
       "      <td>2.5</td>\n",
       "      <td>NaN</td>\n",
       "    </tr>\n",
       "  </tbody>\n",
       "</table>\n",
       "</div>"
      ],
      "text/plain": [
       "    PB   PE\n",
       "a  NaN   10\n",
       "b  NaN   20\n",
       "c  NaN   25\n",
       "d  NaN   30\n",
       "a  2.5  NaN\n",
       "d  3.2  NaN\n",
       "g  2.5  NaN"
      ]
     },
     "execution_count": 26,
     "metadata": {},
     "output_type": "execute_result"
    }
   ],
   "source": [
    "pd.concat((df1, df2))    #默认是直接拼接在后面；"
   ]
  },
  {
   "cell_type": "code",
   "execution_count": 27,
   "metadata": {},
   "outputs": [
    {
     "data": {
      "text/html": [
       "<div>\n",
       "<style>\n",
       "    .dataframe thead tr:only-child th {\n",
       "        text-align: right;\n",
       "    }\n",
       "\n",
       "    .dataframe thead th {\n",
       "        text-align: left;\n",
       "    }\n",
       "\n",
       "    .dataframe tbody tr th {\n",
       "        vertical-align: top;\n",
       "    }\n",
       "</style>\n",
       "<table border=\"1\" class=\"dataframe\">\n",
       "  <thead>\n",
       "    <tr style=\"text-align: right;\">\n",
       "      <th></th>\n",
       "      <th>PE</th>\n",
       "      <th>PB</th>\n",
       "    </tr>\n",
       "  </thead>\n",
       "  <tbody>\n",
       "    <tr>\n",
       "      <th>a</th>\n",
       "      <td>10</td>\n",
       "      <td>2.5</td>\n",
       "    </tr>\n",
       "    <tr>\n",
       "      <th>b</th>\n",
       "      <td>20</td>\n",
       "      <td>NaN</td>\n",
       "    </tr>\n",
       "    <tr>\n",
       "      <th>c</th>\n",
       "      <td>25</td>\n",
       "      <td>NaN</td>\n",
       "    </tr>\n",
       "    <tr>\n",
       "      <th>d</th>\n",
       "      <td>30</td>\n",
       "      <td>3.2</td>\n",
       "    </tr>\n",
       "    <tr>\n",
       "      <th>g</th>\n",
       "      <td>NaN</td>\n",
       "      <td>2.5</td>\n",
       "    </tr>\n",
       "  </tbody>\n",
       "</table>\n",
       "</div>"
      ],
      "text/plain": [
       "    PE   PB\n",
       "a   10  2.5\n",
       "b   20  NaN\n",
       "c   25  NaN\n",
       "d   30  3.2\n",
       "g  NaN  2.5"
      ]
     },
     "execution_count": 27,
     "metadata": {},
     "output_type": "execute_result"
    }
   ],
   "source": [
    "pd.concat((df1, df2),axis =1)          #横向拼接concat很有用，会自动匹配索引；join(Outer),并集；"
   ]
  },
  {
   "cell_type": "code",
   "execution_count": 28,
   "metadata": {},
   "outputs": [
    {
     "data": {
      "text/html": [
       "<div>\n",
       "<style>\n",
       "    .dataframe thead tr:only-child th {\n",
       "        text-align: right;\n",
       "    }\n",
       "\n",
       "    .dataframe thead th {\n",
       "        text-align: left;\n",
       "    }\n",
       "\n",
       "    .dataframe tbody tr th {\n",
       "        vertical-align: top;\n",
       "    }\n",
       "</style>\n",
       "<table border=\"1\" class=\"dataframe\">\n",
       "  <thead>\n",
       "    <tr style=\"text-align: right;\">\n",
       "      <th></th>\n",
       "      <th>PB</th>\n",
       "      <th>PE</th>\n",
       "    </tr>\n",
       "  </thead>\n",
       "  <tbody>\n",
       "    <tr>\n",
       "      <th>0</th>\n",
       "      <td>NaN</td>\n",
       "      <td>10</td>\n",
       "    </tr>\n",
       "    <tr>\n",
       "      <th>1</th>\n",
       "      <td>NaN</td>\n",
       "      <td>20</td>\n",
       "    </tr>\n",
       "    <tr>\n",
       "      <th>2</th>\n",
       "      <td>NaN</td>\n",
       "      <td>25</td>\n",
       "    </tr>\n",
       "    <tr>\n",
       "      <th>3</th>\n",
       "      <td>NaN</td>\n",
       "      <td>30</td>\n",
       "    </tr>\n",
       "    <tr>\n",
       "      <th>4</th>\n",
       "      <td>2.5</td>\n",
       "      <td>NaN</td>\n",
       "    </tr>\n",
       "    <tr>\n",
       "      <th>5</th>\n",
       "      <td>3.2</td>\n",
       "      <td>NaN</td>\n",
       "    </tr>\n",
       "    <tr>\n",
       "      <th>6</th>\n",
       "      <td>2.5</td>\n",
       "      <td>NaN</td>\n",
       "    </tr>\n",
       "  </tbody>\n",
       "</table>\n",
       "</div>"
      ],
      "text/plain": [
       "    PB   PE\n",
       "0  NaN   10\n",
       "1  NaN   20\n",
       "2  NaN   25\n",
       "3  NaN   30\n",
       "4  2.5  NaN\n",
       "5  3.2  NaN\n",
       "6  2.5  NaN"
      ]
     },
     "execution_count": 28,
     "metadata": {},
     "output_type": "execute_result"
    }
   ],
   "source": [
    "pd.concat((df1, df2), ignore_index=True)    #不要索引值"
   ]
  },
  {
   "cell_type": "markdown",
   "metadata": {
    "slideshow": {
     "slide_type": "subslide"
    }
   },
   "source": [
    "#### 2.3 Join操作"
   ]
  },
  {
   "cell_type": "markdown",
   "metadata": {},
   "source": [
    "是根据两张表格的索引去进行合并"
   ]
  },
  {
   "cell_type": "code",
   "execution_count": 31,
   "metadata": {},
   "outputs": [
    {
     "name": "stdout",
     "output_type": "stream",
     "text": [
      "   PE\n",
      "a  10\n",
      "b  20\n",
      "c  25\n",
      "d  30\n",
      "    PB\n",
      "a  2.5\n",
      "d  3.2\n",
      "g  2.5\n"
     ]
    }
   ],
   "source": [
    "print(df1)\n",
    "print(df2)"
   ]
  },
  {
   "cell_type": "code",
   "execution_count": 29,
   "metadata": {},
   "outputs": [
    {
     "data": {
      "text/html": [
       "<div>\n",
       "<style>\n",
       "    .dataframe thead tr:only-child th {\n",
       "        text-align: right;\n",
       "    }\n",
       "\n",
       "    .dataframe thead th {\n",
       "        text-align: left;\n",
       "    }\n",
       "\n",
       "    .dataframe tbody tr th {\n",
       "        vertical-align: top;\n",
       "    }\n",
       "</style>\n",
       "<table border=\"1\" class=\"dataframe\">\n",
       "  <thead>\n",
       "    <tr style=\"text-align: right;\">\n",
       "      <th></th>\n",
       "      <th>PE</th>\n",
       "      <th>PB</th>\n",
       "    </tr>\n",
       "  </thead>\n",
       "  <tbody>\n",
       "    <tr>\n",
       "      <th>a</th>\n",
       "      <td>10</td>\n",
       "      <td>2.5</td>\n",
       "    </tr>\n",
       "    <tr>\n",
       "      <th>b</th>\n",
       "      <td>20</td>\n",
       "      <td>NaN</td>\n",
       "    </tr>\n",
       "    <tr>\n",
       "      <th>c</th>\n",
       "      <td>25</td>\n",
       "      <td>NaN</td>\n",
       "    </tr>\n",
       "    <tr>\n",
       "      <th>d</th>\n",
       "      <td>30</td>\n",
       "      <td>3.2</td>\n",
       "    </tr>\n",
       "  </tbody>\n",
       "</table>\n",
       "</div>"
      ],
      "text/plain": [
       "   PE   PB\n",
       "a  10  2.5\n",
       "b  20  NaN\n",
       "c  25  NaN\n",
       "d  30  3.2"
      ]
     },
     "execution_count": 29,
     "metadata": {},
     "output_type": "execute_result"
    }
   ],
   "source": [
    "df1.join(df2)                     # left join = default,默认按照左边表格对齐；"
   ]
  },
  {
   "cell_type": "code",
   "execution_count": 32,
   "metadata": {},
   "outputs": [
    {
     "data": {
      "text/html": [
       "<div>\n",
       "<style>\n",
       "    .dataframe thead tr:only-child th {\n",
       "        text-align: right;\n",
       "    }\n",
       "\n",
       "    .dataframe thead th {\n",
       "        text-align: left;\n",
       "    }\n",
       "\n",
       "    .dataframe tbody tr th {\n",
       "        vertical-align: top;\n",
       "    }\n",
       "</style>\n",
       "<table border=\"1\" class=\"dataframe\">\n",
       "  <thead>\n",
       "    <tr style=\"text-align: right;\">\n",
       "      <th></th>\n",
       "      <th>PE</th>\n",
       "      <th>PB</th>\n",
       "    </tr>\n",
       "  </thead>\n",
       "  <tbody>\n",
       "    <tr>\n",
       "      <th>a</th>\n",
       "      <td>10</td>\n",
       "      <td>2.5</td>\n",
       "    </tr>\n",
       "    <tr>\n",
       "      <th>b</th>\n",
       "      <td>20</td>\n",
       "      <td>NaN</td>\n",
       "    </tr>\n",
       "    <tr>\n",
       "      <th>c</th>\n",
       "      <td>25</td>\n",
       "      <td>NaN</td>\n",
       "    </tr>\n",
       "    <tr>\n",
       "      <th>d</th>\n",
       "      <td>30</td>\n",
       "      <td>3.2</td>\n",
       "    </tr>\n",
       "  </tbody>\n",
       "</table>\n",
       "</div>"
      ],
      "text/plain": [
       "   PE   PB\n",
       "a  10  2.5\n",
       "b  20  NaN\n",
       "c  25  NaN\n",
       "d  30  3.2"
      ]
     },
     "execution_count": 32,
     "metadata": {},
     "output_type": "execute_result"
    }
   ],
   "source": [
    "df1.join(df2, how='left')  # default，how控制的是按索引合并的方法；"
   ]
  },
  {
   "cell_type": "code",
   "execution_count": 33,
   "metadata": {},
   "outputs": [
    {
     "data": {
      "text/html": [
       "<div>\n",
       "<style>\n",
       "    .dataframe thead tr:only-child th {\n",
       "        text-align: right;\n",
       "    }\n",
       "\n",
       "    .dataframe thead th {\n",
       "        text-align: left;\n",
       "    }\n",
       "\n",
       "    .dataframe tbody tr th {\n",
       "        vertical-align: top;\n",
       "    }\n",
       "</style>\n",
       "<table border=\"1\" class=\"dataframe\">\n",
       "  <thead>\n",
       "    <tr style=\"text-align: right;\">\n",
       "      <th></th>\n",
       "      <th>PB</th>\n",
       "      <th>PE</th>\n",
       "    </tr>\n",
       "  </thead>\n",
       "  <tbody>\n",
       "    <tr>\n",
       "      <th>a</th>\n",
       "      <td>2.5</td>\n",
       "      <td>10</td>\n",
       "    </tr>\n",
       "    <tr>\n",
       "      <th>d</th>\n",
       "      <td>3.2</td>\n",
       "      <td>30</td>\n",
       "    </tr>\n",
       "    <tr>\n",
       "      <th>g</th>\n",
       "      <td>2.5</td>\n",
       "      <td>NaN</td>\n",
       "    </tr>\n",
       "  </tbody>\n",
       "</table>\n",
       "</div>"
      ],
      "text/plain": [
       "    PB   PE\n",
       "a  2.5   10\n",
       "d  3.2   30\n",
       "g  2.5  NaN"
      ]
     },
     "execution_count": 33,
     "metadata": {},
     "output_type": "execute_result"
    }
   ],
   "source": [
    "df2.join(df1)"
   ]
  },
  {
   "cell_type": "code",
   "execution_count": 37,
   "metadata": {},
   "outputs": [
    {
     "data": {
      "text/html": [
       "<div>\n",
       "<style>\n",
       "    .dataframe thead tr:only-child th {\n",
       "        text-align: right;\n",
       "    }\n",
       "\n",
       "    .dataframe thead th {\n",
       "        text-align: left;\n",
       "    }\n",
       "\n",
       "    .dataframe tbody tr th {\n",
       "        vertical-align: top;\n",
       "    }\n",
       "</style>\n",
       "<table border=\"1\" class=\"dataframe\">\n",
       "  <thead>\n",
       "    <tr style=\"text-align: right;\">\n",
       "      <th></th>\n",
       "      <th>PB</th>\n",
       "      <th>PE</th>\n",
       "    </tr>\n",
       "  </thead>\n",
       "  <tbody>\n",
       "    <tr>\n",
       "      <th>a</th>\n",
       "      <td>2.5</td>\n",
       "      <td>10</td>\n",
       "    </tr>\n",
       "    <tr>\n",
       "      <th>b</th>\n",
       "      <td>NaN</td>\n",
       "      <td>20</td>\n",
       "    </tr>\n",
       "    <tr>\n",
       "      <th>c</th>\n",
       "      <td>NaN</td>\n",
       "      <td>25</td>\n",
       "    </tr>\n",
       "    <tr>\n",
       "      <th>d</th>\n",
       "      <td>3.2</td>\n",
       "      <td>30</td>\n",
       "    </tr>\n",
       "    <tr>\n",
       "      <th>g</th>\n",
       "      <td>2.5</td>\n",
       "      <td>NaN</td>\n",
       "    </tr>\n",
       "  </tbody>\n",
       "</table>\n",
       "</div>"
      ],
      "text/plain": [
       "    PB   PE\n",
       "a  2.5   10\n",
       "b  NaN   20\n",
       "c  NaN   25\n",
       "d  3.2   30\n",
       "g  2.5  NaN"
      ]
     },
     "execution_count": 37,
     "metadata": {},
     "output_type": "execute_result"
    }
   ],
   "source": [
    "df = pd.DataFrame({'PE': df1['PE'], 'PB': df2['PB']})                    #使用DataFrame进行拼接操作\n",
    "df"
   ]
  },
  {
   "cell_type": "code",
   "execution_count": 34,
   "metadata": {},
   "outputs": [
    {
     "data": {
      "text/html": [
       "<div>\n",
       "<style>\n",
       "    .dataframe thead tr:only-child th {\n",
       "        text-align: right;\n",
       "    }\n",
       "\n",
       "    .dataframe thead th {\n",
       "        text-align: left;\n",
       "    }\n",
       "\n",
       "    .dataframe tbody tr th {\n",
       "        vertical-align: top;\n",
       "    }\n",
       "</style>\n",
       "<table border=\"1\" class=\"dataframe\">\n",
       "  <thead>\n",
       "    <tr style=\"text-align: right;\">\n",
       "      <th></th>\n",
       "      <th>PE</th>\n",
       "      <th>PB</th>\n",
       "    </tr>\n",
       "  </thead>\n",
       "  <tbody>\n",
       "    <tr>\n",
       "      <th>a</th>\n",
       "      <td>10</td>\n",
       "      <td>2.5</td>\n",
       "    </tr>\n",
       "    <tr>\n",
       "      <th>d</th>\n",
       "      <td>30</td>\n",
       "      <td>3.2</td>\n",
       "    </tr>\n",
       "    <tr>\n",
       "      <th>g</th>\n",
       "      <td>NaN</td>\n",
       "      <td>2.5</td>\n",
       "    </tr>\n",
       "  </tbody>\n",
       "</table>\n",
       "</div>"
      ],
      "text/plain": [
       "    PE   PB\n",
       "a   10  2.5\n",
       "d   30  3.2\n",
       "g  NaN  2.5"
      ]
     },
     "execution_count": 34,
     "metadata": {},
     "output_type": "execute_result"
    }
   ],
   "source": [
    "df1.join(df2, how='right')"
   ]
  },
  {
   "cell_type": "code",
   "execution_count": 35,
   "metadata": {},
   "outputs": [
    {
     "data": {
      "text/html": [
       "<div>\n",
       "<style>\n",
       "    .dataframe thead tr:only-child th {\n",
       "        text-align: right;\n",
       "    }\n",
       "\n",
       "    .dataframe thead th {\n",
       "        text-align: left;\n",
       "    }\n",
       "\n",
       "    .dataframe tbody tr th {\n",
       "        vertical-align: top;\n",
       "    }\n",
       "</style>\n",
       "<table border=\"1\" class=\"dataframe\">\n",
       "  <thead>\n",
       "    <tr style=\"text-align: right;\">\n",
       "      <th></th>\n",
       "      <th>PE</th>\n",
       "      <th>PB</th>\n",
       "    </tr>\n",
       "  </thead>\n",
       "  <tbody>\n",
       "    <tr>\n",
       "      <th>a</th>\n",
       "      <td>10</td>\n",
       "      <td>2.5</td>\n",
       "    </tr>\n",
       "    <tr>\n",
       "      <th>d</th>\n",
       "      <td>30</td>\n",
       "      <td>3.2</td>\n",
       "    </tr>\n",
       "  </tbody>\n",
       "</table>\n",
       "</div>"
      ],
      "text/plain": [
       "   PE   PB\n",
       "a  10  2.5\n",
       "d  30  3.2"
      ]
     },
     "execution_count": 35,
     "metadata": {},
     "output_type": "execute_result"
    }
   ],
   "source": [
    "df1.join(df2, how='inner')    #取交集，双方都有的才进行显示；"
   ]
  },
  {
   "cell_type": "code",
   "execution_count": 36,
   "metadata": {},
   "outputs": [
    {
     "data": {
      "text/html": [
       "<div>\n",
       "<style>\n",
       "    .dataframe thead tr:only-child th {\n",
       "        text-align: right;\n",
       "    }\n",
       "\n",
       "    .dataframe thead th {\n",
       "        text-align: left;\n",
       "    }\n",
       "\n",
       "    .dataframe tbody tr th {\n",
       "        vertical-align: top;\n",
       "    }\n",
       "</style>\n",
       "<table border=\"1\" class=\"dataframe\">\n",
       "  <thead>\n",
       "    <tr style=\"text-align: right;\">\n",
       "      <th></th>\n",
       "      <th>PE</th>\n",
       "      <th>PB</th>\n",
       "    </tr>\n",
       "  </thead>\n",
       "  <tbody>\n",
       "    <tr>\n",
       "      <th>a</th>\n",
       "      <td>10</td>\n",
       "      <td>2.5</td>\n",
       "    </tr>\n",
       "    <tr>\n",
       "      <th>b</th>\n",
       "      <td>20</td>\n",
       "      <td>NaN</td>\n",
       "    </tr>\n",
       "    <tr>\n",
       "      <th>c</th>\n",
       "      <td>25</td>\n",
       "      <td>NaN</td>\n",
       "    </tr>\n",
       "    <tr>\n",
       "      <th>d</th>\n",
       "      <td>30</td>\n",
       "      <td>3.2</td>\n",
       "    </tr>\n",
       "    <tr>\n",
       "      <th>g</th>\n",
       "      <td>NaN</td>\n",
       "      <td>2.5</td>\n",
       "    </tr>\n",
       "  </tbody>\n",
       "</table>\n",
       "</div>"
      ],
      "text/plain": [
       "    PE   PB\n",
       "a   10  2.5\n",
       "b   20  NaN\n",
       "c   25  NaN\n",
       "d   30  3.2\n",
       "g  NaN  2.5"
      ]
     },
     "execution_count": 36,
     "metadata": {},
     "output_type": "execute_result"
    }
   ],
   "source": [
    "df1.join(df2, how='outer')    #取并集，保留双方所有的内容；"
   ]
  },
  {
   "cell_type": "markdown",
   "metadata": {
    "slideshow": {
     "slide_type": "subslide"
    }
   },
   "source": [
    "#### 2.4 Merge操作: 同等数量合并"
   ]
  },
  {
   "cell_type": "markdown",
   "metadata": {},
   "source": [
    "按列来进行合并（也支持按index来进行合并）"
   ]
  },
  {
   "cell_type": "code",
   "execution_count": 39,
   "metadata": {},
   "outputs": [
    {
     "data": {
      "text/html": [
       "<div>\n",
       "<style>\n",
       "    .dataframe thead tr:only-child th {\n",
       "        text-align: right;\n",
       "    }\n",
       "\n",
       "    .dataframe thead th {\n",
       "        text-align: left;\n",
       "    }\n",
       "\n",
       "    .dataframe tbody tr th {\n",
       "        vertical-align: top;\n",
       "    }\n",
       "</style>\n",
       "<table border=\"1\" class=\"dataframe\">\n",
       "  <thead>\n",
       "    <tr style=\"text-align: right;\">\n",
       "      <th></th>\n",
       "      <th>PE</th>\n",
       "    </tr>\n",
       "  </thead>\n",
       "  <tbody>\n",
       "    <tr>\n",
       "      <th>a</th>\n",
       "      <td>10</td>\n",
       "    </tr>\n",
       "    <tr>\n",
       "      <th>b</th>\n",
       "      <td>20</td>\n",
       "    </tr>\n",
       "    <tr>\n",
       "      <th>c</th>\n",
       "      <td>25</td>\n",
       "    </tr>\n",
       "    <tr>\n",
       "      <th>d</th>\n",
       "      <td>30</td>\n",
       "    </tr>\n",
       "  </tbody>\n",
       "</table>\n",
       "</div>"
      ],
      "text/plain": [
       "   PE\n",
       "a  10\n",
       "b  20\n",
       "c  25\n",
       "d  30"
      ]
     },
     "execution_count": 39,
     "metadata": {},
     "output_type": "execute_result"
    }
   ],
   "source": [
    "df1"
   ]
  },
  {
   "cell_type": "code",
   "execution_count": 38,
   "metadata": {},
   "outputs": [
    {
     "data": {
      "text/html": [
       "<div>\n",
       "<style>\n",
       "    .dataframe thead tr:only-child th {\n",
       "        text-align: right;\n",
       "    }\n",
       "\n",
       "    .dataframe thead th {\n",
       "        text-align: left;\n",
       "    }\n",
       "\n",
       "    .dataframe tbody tr th {\n",
       "        vertical-align: top;\n",
       "    }\n",
       "</style>\n",
       "<table border=\"1\" class=\"dataframe\">\n",
       "  <thead>\n",
       "    <tr style=\"text-align: right;\">\n",
       "      <th></th>\n",
       "      <th>PB</th>\n",
       "    </tr>\n",
       "  </thead>\n",
       "  <tbody>\n",
       "    <tr>\n",
       "      <th>a</th>\n",
       "      <td>2.5</td>\n",
       "    </tr>\n",
       "    <tr>\n",
       "      <th>b</th>\n",
       "      <td>3.2</td>\n",
       "    </tr>\n",
       "    <tr>\n",
       "      <th>c</th>\n",
       "      <td>2.5</td>\n",
       "    </tr>\n",
       "    <tr>\n",
       "      <th>d</th>\n",
       "      <td>2</td>\n",
       "    </tr>\n",
       "  </tbody>\n",
       "</table>\n",
       "</div>"
      ],
      "text/plain": [
       "    PB\n",
       "a  2.5\n",
       "b  3.2\n",
       "c  2.5\n",
       "d    2"
      ]
     },
     "execution_count": 38,
     "metadata": {},
     "output_type": "execute_result"
    }
   ],
   "source": [
    "df2 = pd.DataFrame(['2.5', '3.2', '2.5', '2'], \n",
    "                    index=['a', 'b', 'c','d'],\n",
    "                    columns=['PB',])\n",
    "df2"
   ]
  },
  {
   "cell_type": "code",
   "execution_count": 52,
   "metadata": {},
   "outputs": [],
   "source": [
    "roe = pd.Series([0.12, 0.06, 0.08,0.02], index=['a', 'b', 'c','d'])         #添加一列一列以进行合并\n",
    "df1['ROE'] = roe    #新增一列用法；\n",
    "df2['ROE'] = roe"
   ]
  },
  {
   "cell_type": "code",
   "execution_count": 53,
   "metadata": {},
   "outputs": [
    {
     "data": {
      "text/html": [
       "<div>\n",
       "<style>\n",
       "    .dataframe thead tr:only-child th {\n",
       "        text-align: right;\n",
       "    }\n",
       "\n",
       "    .dataframe thead th {\n",
       "        text-align: left;\n",
       "    }\n",
       "\n",
       "    .dataframe tbody tr th {\n",
       "        vertical-align: top;\n",
       "    }\n",
       "</style>\n",
       "<table border=\"1\" class=\"dataframe\">\n",
       "  <thead>\n",
       "    <tr style=\"text-align: right;\">\n",
       "      <th></th>\n",
       "      <th>PE</th>\n",
       "      <th>ROE</th>\n",
       "    </tr>\n",
       "  </thead>\n",
       "  <tbody>\n",
       "    <tr>\n",
       "      <th>a</th>\n",
       "      <td>10</td>\n",
       "      <td>0.12</td>\n",
       "    </tr>\n",
       "    <tr>\n",
       "      <th>b</th>\n",
       "      <td>20</td>\n",
       "      <td>0.06</td>\n",
       "    </tr>\n",
       "    <tr>\n",
       "      <th>c</th>\n",
       "      <td>25</td>\n",
       "      <td>0.08</td>\n",
       "    </tr>\n",
       "    <tr>\n",
       "      <th>d</th>\n",
       "      <td>30</td>\n",
       "      <td>0.02</td>\n",
       "    </tr>\n",
       "  </tbody>\n",
       "</table>\n",
       "</div>"
      ],
      "text/plain": [
       "   PE   ROE\n",
       "a  10  0.12\n",
       "b  20  0.06\n",
       "c  25  0.08\n",
       "d  30  0.02"
      ]
     },
     "execution_count": 53,
     "metadata": {},
     "output_type": "execute_result"
    }
   ],
   "source": [
    "df1"
   ]
  },
  {
   "cell_type": "code",
   "execution_count": 54,
   "metadata": {},
   "outputs": [
    {
     "data": {
      "text/html": [
       "<div>\n",
       "<style>\n",
       "    .dataframe thead tr:only-child th {\n",
       "        text-align: right;\n",
       "    }\n",
       "\n",
       "    .dataframe thead th {\n",
       "        text-align: left;\n",
       "    }\n",
       "\n",
       "    .dataframe tbody tr th {\n",
       "        vertical-align: top;\n",
       "    }\n",
       "</style>\n",
       "<table border=\"1\" class=\"dataframe\">\n",
       "  <thead>\n",
       "    <tr style=\"text-align: right;\">\n",
       "      <th></th>\n",
       "      <th>PB</th>\n",
       "      <th>ROE</th>\n",
       "    </tr>\n",
       "  </thead>\n",
       "  <tbody>\n",
       "    <tr>\n",
       "      <th>a</th>\n",
       "      <td>2.5</td>\n",
       "      <td>0.12</td>\n",
       "    </tr>\n",
       "    <tr>\n",
       "      <th>b</th>\n",
       "      <td>3.2</td>\n",
       "      <td>0.06</td>\n",
       "    </tr>\n",
       "    <tr>\n",
       "      <th>c</th>\n",
       "      <td>2.5</td>\n",
       "      <td>0.08</td>\n",
       "    </tr>\n",
       "    <tr>\n",
       "      <th>d</th>\n",
       "      <td>2</td>\n",
       "      <td>0.02</td>\n",
       "    </tr>\n",
       "  </tbody>\n",
       "</table>\n",
       "</div>"
      ],
      "text/plain": [
       "    PB   ROE\n",
       "a  2.5  0.12\n",
       "b  3.2  0.06\n",
       "c  2.5  0.08\n",
       "d    2  0.02"
      ]
     },
     "execution_count": 54,
     "metadata": {},
     "output_type": "execute_result"
    }
   ],
   "source": [
    "df2"
   ]
  },
  {
   "cell_type": "code",
   "execution_count": 55,
   "metadata": {},
   "outputs": [
    {
     "data": {
      "text/html": [
       "<div>\n",
       "<style>\n",
       "    .dataframe thead tr:only-child th {\n",
       "        text-align: right;\n",
       "    }\n",
       "\n",
       "    .dataframe thead th {\n",
       "        text-align: left;\n",
       "    }\n",
       "\n",
       "    .dataframe tbody tr th {\n",
       "        vertical-align: top;\n",
       "    }\n",
       "</style>\n",
       "<table border=\"1\" class=\"dataframe\">\n",
       "  <thead>\n",
       "    <tr style=\"text-align: right;\">\n",
       "      <th></th>\n",
       "      <th>PE</th>\n",
       "      <th>ROE</th>\n",
       "      <th>PB</th>\n",
       "    </tr>\n",
       "  </thead>\n",
       "  <tbody>\n",
       "    <tr>\n",
       "      <th>0</th>\n",
       "      <td>10</td>\n",
       "      <td>0.12</td>\n",
       "      <td>2.5</td>\n",
       "    </tr>\n",
       "    <tr>\n",
       "      <th>1</th>\n",
       "      <td>20</td>\n",
       "      <td>0.06</td>\n",
       "      <td>3.2</td>\n",
       "    </tr>\n",
       "    <tr>\n",
       "      <th>2</th>\n",
       "      <td>25</td>\n",
       "      <td>0.08</td>\n",
       "      <td>2.5</td>\n",
       "    </tr>\n",
       "    <tr>\n",
       "      <th>3</th>\n",
       "      <td>30</td>\n",
       "      <td>0.02</td>\n",
       "      <td>2</td>\n",
       "    </tr>\n",
       "  </tbody>\n",
       "</table>\n",
       "</div>"
      ],
      "text/plain": [
       "   PE   ROE   PB\n",
       "0  10  0.12  2.5\n",
       "1  20  0.06  3.2\n",
       "2  25  0.08  2.5\n",
       "3  30  0.02    2"
      ]
     },
     "execution_count": 55,
     "metadata": {},
     "output_type": "execute_result"
    }
   ],
   "source": [
    "pd.merge(df1, df2, on = 'ROE')        #会自动根据重复列进行merge，但是索引会重置；"
   ]
  },
  {
   "cell_type": "code",
   "execution_count": null,
   "metadata": {},
   "outputs": [],
   "source": [
    "# Merge合并的时候如果ROE不同的话，只会合并ROE相同的数据行；\n",
    "roe1 = pd.Series([0.12, 0.06, 0.08,0.02], index=['a', 'b', 'c','d']) \n",
    "roe2 = pd.Series([0.2, 0.06, 0.08,0.02], index=['a', 'b', 'c','d'])     #添加一列一列以进行合并\n",
    "df1['ROE'] = roe1    #新增一列用法；\n",
    "df2['ROE'] = roe2"
   ]
  },
  {
   "cell_type": "code",
   "execution_count": 58,
   "metadata": {},
   "outputs": [
    {
     "data": {
      "text/html": [
       "<div>\n",
       "<style>\n",
       "    .dataframe thead tr:only-child th {\n",
       "        text-align: right;\n",
       "    }\n",
       "\n",
       "    .dataframe thead th {\n",
       "        text-align: left;\n",
       "    }\n",
       "\n",
       "    .dataframe tbody tr th {\n",
       "        vertical-align: top;\n",
       "    }\n",
       "</style>\n",
       "<table border=\"1\" class=\"dataframe\">\n",
       "  <thead>\n",
       "    <tr style=\"text-align: right;\">\n",
       "      <th></th>\n",
       "      <th>PE</th>\n",
       "      <th>ROE_l</th>\n",
       "      <th>PB</th>\n",
       "      <th>ROE</th>\n",
       "    </tr>\n",
       "  </thead>\n",
       "  <tbody>\n",
       "    <tr>\n",
       "      <th>a</th>\n",
       "      <td>10</td>\n",
       "      <td>0.12</td>\n",
       "      <td>2.5</td>\n",
       "      <td>0.12</td>\n",
       "    </tr>\n",
       "    <tr>\n",
       "      <th>b</th>\n",
       "      <td>20</td>\n",
       "      <td>0.06</td>\n",
       "      <td>3.2</td>\n",
       "      <td>0.06</td>\n",
       "    </tr>\n",
       "    <tr>\n",
       "      <th>c</th>\n",
       "      <td>25</td>\n",
       "      <td>0.08</td>\n",
       "      <td>2.5</td>\n",
       "      <td>0.08</td>\n",
       "    </tr>\n",
       "    <tr>\n",
       "      <th>d</th>\n",
       "      <td>30</td>\n",
       "      <td>0.02</td>\n",
       "      <td>2</td>\n",
       "      <td>0.02</td>\n",
       "    </tr>\n",
       "  </tbody>\n",
       "</table>\n",
       "</div>"
      ],
      "text/plain": [
       "   PE  ROE_l   PB   ROE\n",
       "a  10   0.12  2.5  0.12\n",
       "b  20   0.06  3.2  0.06\n",
       "c  25   0.08  2.5  0.08\n",
       "d  30   0.02    2  0.02"
      ]
     },
     "execution_count": 58,
     "metadata": {},
     "output_type": "execute_result"
    }
   ],
   "source": [
    "df1.join(df2, lsuffix = '_l')   #lsuffix是用来增加后缀，不然两个dataframe无法合并"
   ]
  },
  {
   "cell_type": "code",
   "execution_count": 64,
   "metadata": {},
   "outputs": [
    {
     "data": {
      "text/html": [
       "<div>\n",
       "<style>\n",
       "    .dataframe thead tr:only-child th {\n",
       "        text-align: right;\n",
       "    }\n",
       "\n",
       "    .dataframe thead th {\n",
       "        text-align: left;\n",
       "    }\n",
       "\n",
       "    .dataframe tbody tr th {\n",
       "        vertical-align: top;\n",
       "    }\n",
       "</style>\n",
       "<table border=\"1\" class=\"dataframe\">\n",
       "  <thead>\n",
       "    <tr style=\"text-align: right;\">\n",
       "      <th></th>\n",
       "      <th>PE</th>\n",
       "      <th>ROE_df1</th>\n",
       "      <th>PB</th>\n",
       "      <th>ROE_df2</th>\n",
       "    </tr>\n",
       "  </thead>\n",
       "  <tbody>\n",
       "    <tr>\n",
       "      <th>a</th>\n",
       "      <td>10</td>\n",
       "      <td>0.12</td>\n",
       "      <td>2.5</td>\n",
       "      <td>0.12</td>\n",
       "    </tr>\n",
       "    <tr>\n",
       "      <th>b</th>\n",
       "      <td>20</td>\n",
       "      <td>0.06</td>\n",
       "      <td>3.2</td>\n",
       "      <td>0.06</td>\n",
       "    </tr>\n",
       "    <tr>\n",
       "      <th>c</th>\n",
       "      <td>25</td>\n",
       "      <td>0.08</td>\n",
       "      <td>2.5</td>\n",
       "      <td>0.08</td>\n",
       "    </tr>\n",
       "    <tr>\n",
       "      <th>d</th>\n",
       "      <td>30</td>\n",
       "      <td>0.02</td>\n",
       "      <td>2</td>\n",
       "      <td>0.02</td>\n",
       "    </tr>\n",
       "  </tbody>\n",
       "</table>\n",
       "</div>"
      ],
      "text/plain": [
       "   PE  ROE_df1   PB  ROE_df2\n",
       "a  10     0.12  2.5     0.12\n",
       "b  20     0.06  3.2     0.06\n",
       "c  25     0.08  2.5     0.08\n",
       "d  30     0.02    2     0.02"
      ]
     },
     "execution_count": 64,
     "metadata": {},
     "output_type": "execute_result"
    }
   ],
   "source": [
    "pd.merge(df1, df2, left_index=True, right_index=True, how='outer',suffixes=['_df1','_df2'])    \n",
    "#merge也可以通过left_index，right_index进行按index索引,可以实现等价于join的形式；"
   ]
  },
  {
   "cell_type": "code",
   "execution_count": 65,
   "metadata": {},
   "outputs": [
    {
     "data": {
      "text/html": [
       "<div>\n",
       "<style>\n",
       "    .dataframe thead tr:only-child th {\n",
       "        text-align: right;\n",
       "    }\n",
       "\n",
       "    .dataframe thead th {\n",
       "        text-align: left;\n",
       "    }\n",
       "\n",
       "    .dataframe tbody tr th {\n",
       "        vertical-align: top;\n",
       "    }\n",
       "</style>\n",
       "<table border=\"1\" class=\"dataframe\">\n",
       "  <thead>\n",
       "    <tr style=\"text-align: right;\">\n",
       "      <th></th>\n",
       "      <th>PE</th>\n",
       "      <th>ROE</th>\n",
       "      <th>PB</th>\n",
       "    </tr>\n",
       "  </thead>\n",
       "  <tbody>\n",
       "    <tr>\n",
       "      <th>0</th>\n",
       "      <td>10</td>\n",
       "      <td>0.12</td>\n",
       "      <td>2.5</td>\n",
       "    </tr>\n",
       "    <tr>\n",
       "      <th>1</th>\n",
       "      <td>20</td>\n",
       "      <td>0.06</td>\n",
       "      <td>3.2</td>\n",
       "    </tr>\n",
       "    <tr>\n",
       "      <th>2</th>\n",
       "      <td>25</td>\n",
       "      <td>0.08</td>\n",
       "      <td>2.5</td>\n",
       "    </tr>\n",
       "    <tr>\n",
       "      <th>3</th>\n",
       "      <td>30</td>\n",
       "      <td>0.02</td>\n",
       "      <td>2</td>\n",
       "    </tr>\n",
       "  </tbody>\n",
       "</table>\n",
       "</div>"
      ],
      "text/plain": [
       "   PE   ROE   PB\n",
       "0  10  0.12  2.5\n",
       "1  20  0.06  3.2\n",
       "2  25  0.08  2.5\n",
       "3  30  0.02    2"
      ]
     },
     "execution_count": 65,
     "metadata": {},
     "output_type": "execute_result"
    }
   ],
   "source": [
    "pd.merge(df1, df2, how='outer')       #ROE这一列数据两张表格相同，所以无法看出outer和其他合并类型的区别；"
   ]
  },
  {
   "cell_type": "markdown",
   "metadata": {},
   "source": [
    "#### 2.5 Merge操作: 非同等数量合并"
   ]
  },
  {
   "cell_type": "code",
   "execution_count": 3,
   "metadata": {},
   "outputs": [
    {
     "data": {
      "text/html": [
       "<div>\n",
       "<style>\n",
       "    .dataframe thead tr:only-child th {\n",
       "        text-align: right;\n",
       "    }\n",
       "\n",
       "    .dataframe thead th {\n",
       "        text-align: left;\n",
       "    }\n",
       "\n",
       "    .dataframe tbody tr th {\n",
       "        vertical-align: top;\n",
       "    }\n",
       "</style>\n",
       "<table border=\"1\" class=\"dataframe\">\n",
       "  <thead>\n",
       "    <tr style=\"text-align: right;\">\n",
       "      <th></th>\n",
       "      <th>PB</th>\n",
       "    </tr>\n",
       "  </thead>\n",
       "  <tbody>\n",
       "    <tr>\n",
       "      <th>a</th>\n",
       "      <td>2.5</td>\n",
       "    </tr>\n",
       "    <tr>\n",
       "      <th>b</th>\n",
       "      <td>3.2</td>\n",
       "    </tr>\n",
       "    <tr>\n",
       "      <th>c</th>\n",
       "      <td>2.5</td>\n",
       "    </tr>\n",
       "  </tbody>\n",
       "</table>\n",
       "</div>"
      ],
      "text/plain": [
       "    PB\n",
       "a  2.5\n",
       "b  3.2\n",
       "c  2.5"
      ]
     },
     "execution_count": 3,
     "metadata": {},
     "output_type": "execute_result"
    }
   ],
   "source": [
    "df2 = pd.DataFrame(['2.5', '3.2', '2.5'], \n",
    "                    index=['a', 'b', 'c'],\n",
    "                    columns=['PB',])\n",
    "df2"
   ]
  },
  {
   "cell_type": "code",
   "execution_count": 2,
   "metadata": {},
   "outputs": [
    {
     "data": {
      "text/html": [
       "<div>\n",
       "<style>\n",
       "    .dataframe thead tr:only-child th {\n",
       "        text-align: right;\n",
       "    }\n",
       "\n",
       "    .dataframe thead th {\n",
       "        text-align: left;\n",
       "    }\n",
       "\n",
       "    .dataframe tbody tr th {\n",
       "        vertical-align: top;\n",
       "    }\n",
       "</style>\n",
       "<table border=\"1\" class=\"dataframe\">\n",
       "  <thead>\n",
       "    <tr style=\"text-align: right;\">\n",
       "      <th></th>\n",
       "      <th>PE</th>\n",
       "    </tr>\n",
       "  </thead>\n",
       "  <tbody>\n",
       "    <tr>\n",
       "      <th>a</th>\n",
       "      <td>10</td>\n",
       "    </tr>\n",
       "    <tr>\n",
       "      <th>b</th>\n",
       "      <td>20</td>\n",
       "    </tr>\n",
       "    <tr>\n",
       "      <th>c</th>\n",
       "      <td>25</td>\n",
       "    </tr>\n",
       "    <tr>\n",
       "      <th>d</th>\n",
       "      <td>30</td>\n",
       "    </tr>\n",
       "  </tbody>\n",
       "</table>\n",
       "</div>"
      ],
      "text/plain": [
       "   PE\n",
       "a  10\n",
       "b  20\n",
       "c  25\n",
       "d  30"
      ]
     },
     "execution_count": 2,
     "metadata": {},
     "output_type": "execute_result"
    }
   ],
   "source": [
    "df1 = pd.DataFrame(['10', '20', '25', '30'], \n",
    "                    index=['a', 'b', 'c', 'd'],\n",
    "                    columns=['PE',])\n",
    "df1"
   ]
  },
  {
   "cell_type": "code",
   "execution_count": 4,
   "metadata": {
    "collapsed": true,
    "jupyter": {
     "outputs_hidden": true
    }
   },
   "outputs": [],
   "source": [
    "roe = pd.Series([0.12, 0.08, 0.06], index=['b', 'd', 'c'])         #添加一列一列以进行合并\n",
    "df1['ROE'] = roe\n",
    "df2['ROE'] = roe"
   ]
  },
  {
   "cell_type": "code",
   "execution_count": 5,
   "metadata": {},
   "outputs": [
    {
     "data": {
      "text/html": [
       "<div>\n",
       "<style>\n",
       "    .dataframe thead tr:only-child th {\n",
       "        text-align: right;\n",
       "    }\n",
       "\n",
       "    .dataframe thead th {\n",
       "        text-align: left;\n",
       "    }\n",
       "\n",
       "    .dataframe tbody tr th {\n",
       "        vertical-align: top;\n",
       "    }\n",
       "</style>\n",
       "<table border=\"1\" class=\"dataframe\">\n",
       "  <thead>\n",
       "    <tr style=\"text-align: right;\">\n",
       "      <th></th>\n",
       "      <th>PE</th>\n",
       "      <th>ROE</th>\n",
       "    </tr>\n",
       "  </thead>\n",
       "  <tbody>\n",
       "    <tr>\n",
       "      <th>a</th>\n",
       "      <td>10</td>\n",
       "      <td>NaN</td>\n",
       "    </tr>\n",
       "    <tr>\n",
       "      <th>b</th>\n",
       "      <td>20</td>\n",
       "      <td>0.12</td>\n",
       "    </tr>\n",
       "    <tr>\n",
       "      <th>c</th>\n",
       "      <td>25</td>\n",
       "      <td>0.06</td>\n",
       "    </tr>\n",
       "    <tr>\n",
       "      <th>d</th>\n",
       "      <td>30</td>\n",
       "      <td>0.08</td>\n",
       "    </tr>\n",
       "  </tbody>\n",
       "</table>\n",
       "</div>"
      ],
      "text/plain": [
       "   PE   ROE\n",
       "a  10   NaN\n",
       "b  20  0.12\n",
       "c  25  0.06\n",
       "d  30  0.08"
      ]
     },
     "execution_count": 5,
     "metadata": {},
     "output_type": "execute_result"
    }
   ],
   "source": [
    "df1"
   ]
  },
  {
   "cell_type": "code",
   "execution_count": 6,
   "metadata": {},
   "outputs": [
    {
     "data": {
      "text/html": [
       "<div>\n",
       "<style>\n",
       "    .dataframe thead tr:only-child th {\n",
       "        text-align: right;\n",
       "    }\n",
       "\n",
       "    .dataframe thead th {\n",
       "        text-align: left;\n",
       "    }\n",
       "\n",
       "    .dataframe tbody tr th {\n",
       "        vertical-align: top;\n",
       "    }\n",
       "</style>\n",
       "<table border=\"1\" class=\"dataframe\">\n",
       "  <thead>\n",
       "    <tr style=\"text-align: right;\">\n",
       "      <th></th>\n",
       "      <th>PB</th>\n",
       "      <th>ROE</th>\n",
       "    </tr>\n",
       "  </thead>\n",
       "  <tbody>\n",
       "    <tr>\n",
       "      <th>a</th>\n",
       "      <td>2.5</td>\n",
       "      <td>NaN</td>\n",
       "    </tr>\n",
       "    <tr>\n",
       "      <th>b</th>\n",
       "      <td>3.2</td>\n",
       "      <td>0.12</td>\n",
       "    </tr>\n",
       "    <tr>\n",
       "      <th>c</th>\n",
       "      <td>2.5</td>\n",
       "      <td>0.06</td>\n",
       "    </tr>\n",
       "  </tbody>\n",
       "</table>\n",
       "</div>"
      ],
      "text/plain": [
       "    PB   ROE\n",
       "a  2.5   NaN\n",
       "b  3.2  0.12\n",
       "c  2.5  0.06"
      ]
     },
     "execution_count": 6,
     "metadata": {},
     "output_type": "execute_result"
    }
   ],
   "source": [
    "df2"
   ]
  },
  {
   "cell_type": "code",
   "execution_count": 12,
   "metadata": {},
   "outputs": [
    {
     "data": {
      "text/html": [
       "<div>\n",
       "<style>\n",
       "    .dataframe thead tr:only-child th {\n",
       "        text-align: right;\n",
       "    }\n",
       "\n",
       "    .dataframe thead th {\n",
       "        text-align: left;\n",
       "    }\n",
       "\n",
       "    .dataframe tbody tr th {\n",
       "        vertical-align: top;\n",
       "    }\n",
       "</style>\n",
       "<table border=\"1\" class=\"dataframe\">\n",
       "  <thead>\n",
       "    <tr style=\"text-align: right;\">\n",
       "      <th></th>\n",
       "      <th>PE</th>\n",
       "      <th>ROE</th>\n",
       "      <th>PB</th>\n",
       "    </tr>\n",
       "  </thead>\n",
       "  <tbody>\n",
       "    <tr>\n",
       "      <th>0</th>\n",
       "      <td>10</td>\n",
       "      <td>NaN</td>\n",
       "      <td>2.5</td>\n",
       "    </tr>\n",
       "    <tr>\n",
       "      <th>1</th>\n",
       "      <td>20</td>\n",
       "      <td>0.12</td>\n",
       "      <td>3.2</td>\n",
       "    </tr>\n",
       "    <tr>\n",
       "      <th>2</th>\n",
       "      <td>25</td>\n",
       "      <td>0.06</td>\n",
       "      <td>2.5</td>\n",
       "    </tr>\n",
       "  </tbody>\n",
       "</table>\n",
       "</div>"
      ],
      "text/plain": [
       "   PE   ROE   PB\n",
       "0  10   NaN  2.5\n",
       "1  20  0.12  3.2\n",
       "2  25  0.06  2.5"
      ]
     },
     "execution_count": 12,
     "metadata": {},
     "output_type": "execute_result"
    }
   ],
   "source": [
    "pd.merge(df1, df2)                #join是按index合并，merge是按列合并；默认是inner"
   ]
  },
  {
   "cell_type": "code",
   "execution_count": 13,
   "metadata": {},
   "outputs": [
    {
     "data": {
      "text/html": [
       "<div>\n",
       "<style>\n",
       "    .dataframe thead tr:only-child th {\n",
       "        text-align: right;\n",
       "    }\n",
       "\n",
       "    .dataframe thead th {\n",
       "        text-align: left;\n",
       "    }\n",
       "\n",
       "    .dataframe tbody tr th {\n",
       "        vertical-align: top;\n",
       "    }\n",
       "</style>\n",
       "<table border=\"1\" class=\"dataframe\">\n",
       "  <thead>\n",
       "    <tr style=\"text-align: right;\">\n",
       "      <th></th>\n",
       "      <th>PE</th>\n",
       "      <th>ROE</th>\n",
       "      <th>PB</th>\n",
       "    </tr>\n",
       "  </thead>\n",
       "  <tbody>\n",
       "    <tr>\n",
       "      <th>0</th>\n",
       "      <td>10</td>\n",
       "      <td>NaN</td>\n",
       "      <td>2.5</td>\n",
       "    </tr>\n",
       "    <tr>\n",
       "      <th>1</th>\n",
       "      <td>20</td>\n",
       "      <td>0.12</td>\n",
       "      <td>3.2</td>\n",
       "    </tr>\n",
       "    <tr>\n",
       "      <th>2</th>\n",
       "      <td>25</td>\n",
       "      <td>0.06</td>\n",
       "      <td>2.5</td>\n",
       "    </tr>\n",
       "  </tbody>\n",
       "</table>\n",
       "</div>"
      ],
      "text/plain": [
       "   PE   ROE   PB\n",
       "0  10   NaN  2.5\n",
       "1  20  0.12  3.2\n",
       "2  25  0.06  2.5"
      ]
     },
     "execution_count": 13,
     "metadata": {},
     "output_type": "execute_result"
    }
   ],
   "source": [
    "pd.merge(df1, df2, on='ROE')  # default"
   ]
  },
  {
   "cell_type": "code",
   "execution_count": 14,
   "metadata": {},
   "outputs": [
    {
     "data": {
      "text/html": [
       "<div>\n",
       "<style>\n",
       "    .dataframe thead tr:only-child th {\n",
       "        text-align: right;\n",
       "    }\n",
       "\n",
       "    .dataframe thead th {\n",
       "        text-align: left;\n",
       "    }\n",
       "\n",
       "    .dataframe tbody tr th {\n",
       "        vertical-align: top;\n",
       "    }\n",
       "</style>\n",
       "<table border=\"1\" class=\"dataframe\">\n",
       "  <thead>\n",
       "    <tr style=\"text-align: right;\">\n",
       "      <th></th>\n",
       "      <th>PE</th>\n",
       "      <th>ROE</th>\n",
       "      <th>PB</th>\n",
       "    </tr>\n",
       "  </thead>\n",
       "  <tbody>\n",
       "    <tr>\n",
       "      <th>0</th>\n",
       "      <td>10</td>\n",
       "      <td>NaN</td>\n",
       "      <td>2.5</td>\n",
       "    </tr>\n",
       "    <tr>\n",
       "      <th>1</th>\n",
       "      <td>20</td>\n",
       "      <td>0.12</td>\n",
       "      <td>3.2</td>\n",
       "    </tr>\n",
       "    <tr>\n",
       "      <th>2</th>\n",
       "      <td>25</td>\n",
       "      <td>0.06</td>\n",
       "      <td>2.5</td>\n",
       "    </tr>\n",
       "    <tr>\n",
       "      <th>3</th>\n",
       "      <td>30</td>\n",
       "      <td>0.08</td>\n",
       "      <td>NaN</td>\n",
       "    </tr>\n",
       "  </tbody>\n",
       "</table>\n",
       "</div>"
      ],
      "text/plain": [
       "   PE   ROE   PB\n",
       "0  10   NaN  2.5\n",
       "1  20  0.12  3.2\n",
       "2  25  0.06  2.5\n",
       "3  30  0.08  NaN"
      ]
     },
     "execution_count": 14,
     "metadata": {},
     "output_type": "execute_result"
    }
   ],
   "source": [
    "pd.merge(df1, df2, how='outer')"
   ]
  },
  {
   "cell_type": "code",
   "execution_count": 18,
   "metadata": {},
   "outputs": [
    {
     "data": {
      "text/html": [
       "<div>\n",
       "<style>\n",
       "    .dataframe thead tr:only-child th {\n",
       "        text-align: right;\n",
       "    }\n",
       "\n",
       "    .dataframe thead th {\n",
       "        text-align: left;\n",
       "    }\n",
       "\n",
       "    .dataframe tbody tr th {\n",
       "        vertical-align: top;\n",
       "    }\n",
       "</style>\n",
       "<table border=\"1\" class=\"dataframe\">\n",
       "  <thead>\n",
       "    <tr style=\"text-align: right;\">\n",
       "      <th></th>\n",
       "      <th>PE</th>\n",
       "      <th>ROE</th>\n",
       "      <th>PB</th>\n",
       "      <th>ROE_df2</th>\n",
       "    </tr>\n",
       "  </thead>\n",
       "  <tbody>\n",
       "    <tr>\n",
       "      <th>a</th>\n",
       "      <td>10</td>\n",
       "      <td>NaN</td>\n",
       "      <td>2.5</td>\n",
       "      <td>NaN</td>\n",
       "    </tr>\n",
       "    <tr>\n",
       "      <th>b</th>\n",
       "      <td>20</td>\n",
       "      <td>0.12</td>\n",
       "      <td>3.2</td>\n",
       "      <td>0.12</td>\n",
       "    </tr>\n",
       "    <tr>\n",
       "      <th>c</th>\n",
       "      <td>25</td>\n",
       "      <td>0.06</td>\n",
       "      <td>2.5</td>\n",
       "      <td>0.06</td>\n",
       "    </tr>\n",
       "    <tr>\n",
       "      <th>d</th>\n",
       "      <td>30</td>\n",
       "      <td>0.08</td>\n",
       "      <td>NaN</td>\n",
       "      <td>NaN</td>\n",
       "    </tr>\n",
       "  </tbody>\n",
       "</table>\n",
       "</div>"
      ],
      "text/plain": [
       "   PE   ROE   PB  ROE_df2\n",
       "a  10   NaN  2.5      NaN\n",
       "b  20  0.12  3.2     0.12\n",
       "c  25  0.06  2.5     0.06\n",
       "d  30  0.08  NaN      NaN"
      ]
     },
     "execution_count": 18,
     "metadata": {},
     "output_type": "execute_result"
    }
   ],
   "source": [
    "df1.join(df2,rsuffix = '_df2', how = 'left')   "
   ]
  },
  {
   "cell_type": "code",
   "execution_count": 20,
   "metadata": {},
   "outputs": [
    {
     "data": {
      "text/html": [
       "<div>\n",
       "<style>\n",
       "    .dataframe thead tr:only-child th {\n",
       "        text-align: right;\n",
       "    }\n",
       "\n",
       "    .dataframe thead th {\n",
       "        text-align: left;\n",
       "    }\n",
       "\n",
       "    .dataframe tbody tr th {\n",
       "        vertical-align: top;\n",
       "    }\n",
       "</style>\n",
       "<table border=\"1\" class=\"dataframe\">\n",
       "  <thead>\n",
       "    <tr style=\"text-align: right;\">\n",
       "      <th></th>\n",
       "      <th>PE</th>\n",
       "      <th>ROE_x</th>\n",
       "      <th>PB</th>\n",
       "      <th>ROE_y</th>\n",
       "    </tr>\n",
       "  </thead>\n",
       "  <tbody>\n",
       "    <tr>\n",
       "      <th>a</th>\n",
       "      <td>10</td>\n",
       "      <td>NaN</td>\n",
       "      <td>2.5</td>\n",
       "      <td>NaN</td>\n",
       "    </tr>\n",
       "    <tr>\n",
       "      <th>b</th>\n",
       "      <td>20</td>\n",
       "      <td>0.12</td>\n",
       "      <td>3.2</td>\n",
       "      <td>0.12</td>\n",
       "    </tr>\n",
       "    <tr>\n",
       "      <th>c</th>\n",
       "      <td>25</td>\n",
       "      <td>0.06</td>\n",
       "      <td>2.5</td>\n",
       "      <td>0.06</td>\n",
       "    </tr>\n",
       "    <tr>\n",
       "      <th>d</th>\n",
       "      <td>30</td>\n",
       "      <td>0.08</td>\n",
       "      <td>NaN</td>\n",
       "      <td>NaN</td>\n",
       "    </tr>\n",
       "  </tbody>\n",
       "</table>\n",
       "</div>"
      ],
      "text/plain": [
       "   PE  ROE_x   PB  ROE_y\n",
       "a  10    NaN  2.5    NaN\n",
       "b  20   0.12  3.2   0.12\n",
       "c  25   0.06  2.5   0.06\n",
       "d  30   0.08  NaN    NaN"
      ]
     },
     "execution_count": 20,
     "metadata": {},
     "output_type": "execute_result"
    }
   ],
   "source": [
    "pd.merge(df1, df2, left_index=True, right_index=True, how='left')    \n",
    "#merge也可以通过left_index，right_index进行按index索引"
   ]
  },
  {
   "cell_type": "code",
   "execution_count": 21,
   "metadata": {},
   "outputs": [
    {
     "data": {
      "text/html": [
       "<div>\n",
       "<style>\n",
       "    .dataframe thead tr:only-child th {\n",
       "        text-align: right;\n",
       "    }\n",
       "\n",
       "    .dataframe thead th {\n",
       "        text-align: left;\n",
       "    }\n",
       "\n",
       "    .dataframe tbody tr th {\n",
       "        vertical-align: top;\n",
       "    }\n",
       "</style>\n",
       "<table border=\"1\" class=\"dataframe\">\n",
       "  <thead>\n",
       "    <tr style=\"text-align: right;\">\n",
       "      <th></th>\n",
       "      <th>PE</th>\n",
       "    </tr>\n",
       "  </thead>\n",
       "  <tbody>\n",
       "    <tr>\n",
       "      <th>a</th>\n",
       "      <td>10</td>\n",
       "    </tr>\n",
       "    <tr>\n",
       "      <th>b</th>\n",
       "      <td>20</td>\n",
       "    </tr>\n",
       "    <tr>\n",
       "      <th>c</th>\n",
       "      <td>25</td>\n",
       "    </tr>\n",
       "    <tr>\n",
       "      <th>d</th>\n",
       "      <td>30</td>\n",
       "    </tr>\n",
       "  </tbody>\n",
       "</table>\n",
       "</div>"
      ],
      "text/plain": [
       "   PE\n",
       "a  10\n",
       "b  20\n",
       "c  25\n",
       "d  30"
      ]
     },
     "execution_count": 21,
     "metadata": {},
     "output_type": "execute_result"
    }
   ],
   "source": [
    "df1 = pd.DataFrame(['10', '20', '25', '30'], \n",
    "                    index=['a', 'b', 'c', 'd'],\n",
    "                    columns=['PE',])\n",
    "df1"
   ]
  },
  {
   "cell_type": "code",
   "execution_count": 22,
   "metadata": {},
   "outputs": [
    {
     "data": {
      "text/html": [
       "<div>\n",
       "<style>\n",
       "    .dataframe thead tr:only-child th {\n",
       "        text-align: right;\n",
       "    }\n",
       "\n",
       "    .dataframe thead th {\n",
       "        text-align: left;\n",
       "    }\n",
       "\n",
       "    .dataframe tbody tr th {\n",
       "        vertical-align: top;\n",
       "    }\n",
       "</style>\n",
       "<table border=\"1\" class=\"dataframe\">\n",
       "  <thead>\n",
       "    <tr style=\"text-align: right;\">\n",
       "      <th></th>\n",
       "      <th>PB</th>\n",
       "    </tr>\n",
       "  </thead>\n",
       "  <tbody>\n",
       "    <tr>\n",
       "      <th>a</th>\n",
       "      <td>2.5</td>\n",
       "    </tr>\n",
       "    <tr>\n",
       "      <th>b</th>\n",
       "      <td>3.2</td>\n",
       "    </tr>\n",
       "    <tr>\n",
       "      <th>c</th>\n",
       "      <td>2.5</td>\n",
       "    </tr>\n",
       "  </tbody>\n",
       "</table>\n",
       "</div>"
      ],
      "text/plain": [
       "    PB\n",
       "a  2.5\n",
       "b  3.2\n",
       "c  2.5"
      ]
     },
     "execution_count": 22,
     "metadata": {},
     "output_type": "execute_result"
    }
   ],
   "source": [
    "df2 = pd.DataFrame(['2.5', '3.2', '2.5'], \n",
    "                    index=['a', 'b', 'c'],\n",
    "                    columns=['PB',])\n",
    "df2"
   ]
  },
  {
   "cell_type": "code",
   "execution_count": 23,
   "metadata": {
    "collapsed": true,
    "jupyter": {
     "outputs_hidden": true
    }
   },
   "outputs": [],
   "source": [
    "roe = pd.Series([0.12, 0.08, 0.06], index=['b', 'd', 'c'])         #添加一列一列以进行合并\n",
    "df1['ROE1'] = roe\n",
    "df2['ROE2'] = roe"
   ]
  },
  {
   "cell_type": "code",
   "execution_count": 24,
   "metadata": {},
   "outputs": [
    {
     "data": {
      "text/html": [
       "<div>\n",
       "<style>\n",
       "    .dataframe thead tr:only-child th {\n",
       "        text-align: right;\n",
       "    }\n",
       "\n",
       "    .dataframe thead th {\n",
       "        text-align: left;\n",
       "    }\n",
       "\n",
       "    .dataframe tbody tr th {\n",
       "        vertical-align: top;\n",
       "    }\n",
       "</style>\n",
       "<table border=\"1\" class=\"dataframe\">\n",
       "  <thead>\n",
       "    <tr style=\"text-align: right;\">\n",
       "      <th></th>\n",
       "      <th>PE</th>\n",
       "      <th>ROE1</th>\n",
       "    </tr>\n",
       "  </thead>\n",
       "  <tbody>\n",
       "    <tr>\n",
       "      <th>a</th>\n",
       "      <td>10</td>\n",
       "      <td>NaN</td>\n",
       "    </tr>\n",
       "    <tr>\n",
       "      <th>b</th>\n",
       "      <td>20</td>\n",
       "      <td>0.12</td>\n",
       "    </tr>\n",
       "    <tr>\n",
       "      <th>c</th>\n",
       "      <td>25</td>\n",
       "      <td>0.06</td>\n",
       "    </tr>\n",
       "    <tr>\n",
       "      <th>d</th>\n",
       "      <td>30</td>\n",
       "      <td>0.08</td>\n",
       "    </tr>\n",
       "  </tbody>\n",
       "</table>\n",
       "</div>"
      ],
      "text/plain": [
       "   PE  ROE1\n",
       "a  10   NaN\n",
       "b  20  0.12\n",
       "c  25  0.06\n",
       "d  30  0.08"
      ]
     },
     "execution_count": 24,
     "metadata": {},
     "output_type": "execute_result"
    }
   ],
   "source": [
    "df1"
   ]
  },
  {
   "cell_type": "code",
   "execution_count": 25,
   "metadata": {},
   "outputs": [
    {
     "data": {
      "text/html": [
       "<div>\n",
       "<style>\n",
       "    .dataframe thead tr:only-child th {\n",
       "        text-align: right;\n",
       "    }\n",
       "\n",
       "    .dataframe thead th {\n",
       "        text-align: left;\n",
       "    }\n",
       "\n",
       "    .dataframe tbody tr th {\n",
       "        vertical-align: top;\n",
       "    }\n",
       "</style>\n",
       "<table border=\"1\" class=\"dataframe\">\n",
       "  <thead>\n",
       "    <tr style=\"text-align: right;\">\n",
       "      <th></th>\n",
       "      <th>PB</th>\n",
       "      <th>ROE2</th>\n",
       "    </tr>\n",
       "  </thead>\n",
       "  <tbody>\n",
       "    <tr>\n",
       "      <th>a</th>\n",
       "      <td>2.5</td>\n",
       "      <td>NaN</td>\n",
       "    </tr>\n",
       "    <tr>\n",
       "      <th>b</th>\n",
       "      <td>3.2</td>\n",
       "      <td>0.12</td>\n",
       "    </tr>\n",
       "    <tr>\n",
       "      <th>c</th>\n",
       "      <td>2.5</td>\n",
       "      <td>0.06</td>\n",
       "    </tr>\n",
       "  </tbody>\n",
       "</table>\n",
       "</div>"
      ],
      "text/plain": [
       "    PB  ROE2\n",
       "a  2.5   NaN\n",
       "b  3.2  0.12\n",
       "c  2.5  0.06"
      ]
     },
     "execution_count": 25,
     "metadata": {},
     "output_type": "execute_result"
    }
   ],
   "source": [
    "df2"
   ]
  },
  {
   "cell_type": "code",
   "execution_count": 27,
   "metadata": {},
   "outputs": [
    {
     "data": {
      "text/html": [
       "<div>\n",
       "<style>\n",
       "    .dataframe thead tr:only-child th {\n",
       "        text-align: right;\n",
       "    }\n",
       "\n",
       "    .dataframe thead th {\n",
       "        text-align: left;\n",
       "    }\n",
       "\n",
       "    .dataframe tbody tr th {\n",
       "        vertical-align: top;\n",
       "    }\n",
       "</style>\n",
       "<table border=\"1\" class=\"dataframe\">\n",
       "  <thead>\n",
       "    <tr style=\"text-align: right;\">\n",
       "      <th></th>\n",
       "      <th>PE</th>\n",
       "      <th>ROE1</th>\n",
       "      <th>PB</th>\n",
       "      <th>ROE2</th>\n",
       "    </tr>\n",
       "  </thead>\n",
       "  <tbody>\n",
       "    <tr>\n",
       "      <th>0</th>\n",
       "      <td>10</td>\n",
       "      <td>NaN</td>\n",
       "      <td>2.5</td>\n",
       "      <td>NaN</td>\n",
       "    </tr>\n",
       "    <tr>\n",
       "      <th>1</th>\n",
       "      <td>20</td>\n",
       "      <td>0.12</td>\n",
       "      <td>3.2</td>\n",
       "      <td>0.12</td>\n",
       "    </tr>\n",
       "    <tr>\n",
       "      <th>2</th>\n",
       "      <td>25</td>\n",
       "      <td>0.06</td>\n",
       "      <td>2.5</td>\n",
       "      <td>0.06</td>\n",
       "    </tr>\n",
       "  </tbody>\n",
       "</table>\n",
       "</div>"
      ],
      "text/plain": [
       "   PE  ROE1   PB  ROE2\n",
       "0  10   NaN  2.5   NaN\n",
       "1  20  0.12  3.2  0.12\n",
       "2  25  0.06  2.5  0.06"
      ]
     },
     "execution_count": 27,
     "metadata": {},
     "output_type": "execute_result"
    }
   ],
   "source": [
    "pd.merge(df1, df2, left_on='ROE1', right_on='ROE2')     #两张DataFrame列名是不同的，但是表示是同一个的意思；"
   ]
  },
  {
   "cell_type": "markdown",
   "metadata": {},
   "source": [
    "### 3. 层次化索引"
   ]
  },
  {
   "cell_type": "code",
   "execution_count": 28,
   "metadata": {
    "collapsed": true,
    "jupyter": {
     "outputs_hidden": true
    }
   },
   "outputs": [],
   "source": [
    "df = pd.Series(np.random.randn(5),                 #定义层次化索引\n",
    "               index=[['a', 'a', 'b','b', 'b'],\n",
    "                      [1,2,1,2,3]])"
   ]
  },
  {
   "cell_type": "code",
   "execution_count": 29,
   "metadata": {},
   "outputs": [
    {
     "data": {
      "text/plain": [
       "a  1   -0.541225\n",
       "   2    1.499903\n",
       "b  1   -0.578726\n",
       "   2    0.161935\n",
       "   3    0.097446\n",
       "dtype: float64"
      ]
     },
     "execution_count": 29,
     "metadata": {},
     "output_type": "execute_result"
    }
   ],
   "source": [
    "df"
   ]
  },
  {
   "cell_type": "code",
   "execution_count": 30,
   "metadata": {},
   "outputs": [
    {
     "data": {
      "text/plain": [
       "MultiIndex(levels=[['a', 'b'], [1, 2, 3]],\n",
       "           labels=[[0, 0, 1, 1, 1], [0, 1, 0, 1, 2]])"
      ]
     },
     "execution_count": 30,
     "metadata": {},
     "output_type": "execute_result"
    }
   ],
   "source": [
    "df.index"
   ]
  },
  {
   "cell_type": "code",
   "execution_count": 31,
   "metadata": {
    "scrolled": true
   },
   "outputs": [
    {
     "data": {
      "text/plain": [
       "1   -0.578726\n",
       "2    0.161935\n",
       "3    0.097446\n",
       "dtype: float64"
      ]
     },
     "execution_count": 31,
     "metadata": {},
     "output_type": "execute_result"
    }
   ],
   "source": [
    "df['b']                       # 使用层次化索引"
   ]
  },
  {
   "cell_type": "code",
   "execution_count": 32,
   "metadata": {},
   "outputs": [
    {
     "data": {
      "text/plain": [
       "1   -0.541225\n",
       "2    1.499903\n",
       "dtype: float64"
      ]
     },
     "execution_count": 32,
     "metadata": {},
     "output_type": "execute_result"
    }
   ],
   "source": [
    "df['a']   "
   ]
  },
  {
   "cell_type": "markdown",
   "metadata": {},
   "source": [
    "层次化索引在数据重塑中的应用"
   ]
  },
  {
   "cell_type": "code",
   "execution_count": 33,
   "metadata": {},
   "outputs": [
    {
     "data": {
      "text/html": [
       "<div>\n",
       "<style>\n",
       "    .dataframe thead tr:only-child th {\n",
       "        text-align: right;\n",
       "    }\n",
       "\n",
       "    .dataframe thead th {\n",
       "        text-align: left;\n",
       "    }\n",
       "\n",
       "    .dataframe tbody tr th {\n",
       "        vertical-align: top;\n",
       "    }\n",
       "</style>\n",
       "<table border=\"1\" class=\"dataframe\">\n",
       "  <thead>\n",
       "    <tr style=\"text-align: right;\">\n",
       "      <th></th>\n",
       "      <th>1</th>\n",
       "      <th>2</th>\n",
       "      <th>3</th>\n",
       "    </tr>\n",
       "  </thead>\n",
       "  <tbody>\n",
       "    <tr>\n",
       "      <th>a</th>\n",
       "      <td>-0.541225</td>\n",
       "      <td>1.499903</td>\n",
       "      <td>NaN</td>\n",
       "    </tr>\n",
       "    <tr>\n",
       "      <th>b</th>\n",
       "      <td>-0.578726</td>\n",
       "      <td>0.161935</td>\n",
       "      <td>0.097446</td>\n",
       "    </tr>\n",
       "  </tbody>\n",
       "</table>\n",
       "</div>"
      ],
      "text/plain": [
       "          1         2         3\n",
       "a -0.541225  1.499903       NaN\n",
       "b -0.578726  0.161935  0.097446"
      ]
     },
     "execution_count": 33,
     "metadata": {},
     "output_type": "execute_result"
    }
   ],
   "source": [
    "df.unstack()                 # 使用unstack方法将数据重新排列"
   ]
  },
  {
   "cell_type": "code",
   "execution_count": 34,
   "metadata": {
    "scrolled": true
   },
   "outputs": [
    {
     "data": {
      "text/plain": [
       "a  1   -0.541225\n",
       "   2    1.499903\n",
       "b  1   -0.578726\n",
       "   2    0.161935\n",
       "   3    0.097446\n",
       "dtype: float64"
      ]
     },
     "execution_count": 34,
     "metadata": {},
     "output_type": "execute_result"
    }
   ],
   "source": [
    "df.unstack().stack()         # stack是unstack方法的逆运算"
   ]
  },
  {
   "cell_type": "markdown",
   "metadata": {},
   "source": [
    "使用层次化索引进行聚合运算"
   ]
  },
  {
   "cell_type": "code",
   "execution_count": 35,
   "metadata": {},
   "outputs": [
    {
     "data": {
      "text/plain": [
       "a    0.958678\n",
       "b   -0.319345\n",
       "dtype: float64"
      ]
     },
     "execution_count": 35,
     "metadata": {},
     "output_type": "execute_result"
    }
   ],
   "source": [
    "df.sum(level=0)             # 按照level=0进行聚合运算"
   ]
  },
  {
   "cell_type": "code",
   "execution_count": 37,
   "metadata": {},
   "outputs": [
    {
     "data": {
      "text/plain": [
       "a    0.958678\n",
       "b   -0.319345\n",
       "dtype: float64"
      ]
     },
     "execution_count": 37,
     "metadata": {},
     "output_type": "execute_result"
    }
   ],
   "source": [
    "df.groupby(level=0).sum()           # 按照level=0进行聚合运算"
   ]
  },
  {
   "cell_type": "code",
   "execution_count": 36,
   "metadata": {},
   "outputs": [
    {
     "data": {
      "text/plain": [
       "1   -1.119952\n",
       "2    1.661838\n",
       "3    0.097446\n",
       "dtype: float64"
      ]
     },
     "execution_count": 36,
     "metadata": {},
     "output_type": "execute_result"
    }
   ],
   "source": [
    "df.sum(level=1) "
   ]
  },
  {
   "cell_type": "markdown",
   "metadata": {},
   "source": [
    "声明：本资料仅限内部研究使用，切勿外传。"
   ]
  }
 ],
 "metadata": {
  "anaconda-cloud": {},
  "kernelspec": {
   "display_name": "Python 3",
   "language": "python",
   "name": "python3"
  },
  "language_info": {
   "codemirror_mode": {
    "name": "ipython",
    "version": 3
   },
   "file_extension": ".py",
   "mimetype": "text/x-python",
   "name": "python",
   "nbconvert_exporter": "python",
   "pygments_lexer": "ipython3",
   "version": "3.7.7"
  }
 },
 "nbformat": 4,
 "nbformat_minor": 4
}
