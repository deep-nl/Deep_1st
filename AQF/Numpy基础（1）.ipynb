{
 "cells": [
  {
   "cell_type": "code",
   "execution_count": 1,
   "metadata": {
    "execution": {
     "iopub.execute_input": "2020-05-09T16:45:38.621334Z",
     "iopub.status.busy": "2020-05-09T16:45:38.621334Z",
     "iopub.status.idle": "2020-05-09T16:45:39.191630Z",
     "shell.execute_reply": "2020-05-09T16:45:39.191630Z",
     "shell.execute_reply.started": "2020-05-09T16:45:38.621334Z"
    }
   },
   "outputs": [],
   "source": [
    "import numpy as np\n",
    "import matplotlib.pyplot as plt "
   ]
  },
  {
   "cell_type": "code",
   "execution_count": 6,
   "metadata": {
    "execution": {
     "iopub.execute_input": "2020-04-26T07:55:47.890924Z",
     "iopub.status.busy": "2020-04-26T07:55:47.890924Z",
     "iopub.status.idle": "2020-04-26T07:55:47.901897Z",
     "shell.execute_reply": "2020-04-26T07:55:47.901897Z",
     "shell.execute_reply.started": "2020-04-26T07:55:47.890924Z"
    }
   },
   "outputs": [
    {
     "data": {
      "text/plain": [
       "array([b'1', b'2', b'3'], dtype='|S1')"
      ]
     },
     "execution_count": 6,
     "metadata": {},
     "output_type": "execute_result"
    }
   ],
   "source": [
    "arr1=np.array([1,2,3],dtype=np.string_)\n",
    "arr1"
   ]
  },
  {
   "cell_type": "markdown",
   "metadata": {},
   "source": [
    "## ndarry基础"
   ]
  },
  {
   "cell_type": "code",
   "execution_count": 2,
   "metadata": {
    "execution": {
     "iopub.execute_input": "2020-05-09T16:46:14.133100Z",
     "iopub.status.busy": "2020-05-09T16:46:14.133100Z",
     "iopub.status.idle": "2020-05-09T16:46:14.136131Z",
     "shell.execute_reply": "2020-05-09T16:46:14.136131Z",
     "shell.execute_reply.started": "2020-05-09T16:46:14.133100Z"
    }
   },
   "outputs": [],
   "source": [
    "a=np.array([1,2,3,4,5])"
   ]
  },
  {
   "cell_type": "code",
   "execution_count": 3,
   "metadata": {
    "execution": {
     "iopub.execute_input": "2020-05-09T16:46:58.978166Z",
     "iopub.status.busy": "2020-05-09T16:46:58.977168Z",
     "iopub.status.idle": "2020-05-09T16:46:58.986117Z",
     "shell.execute_reply": "2020-05-09T16:46:58.985120Z",
     "shell.execute_reply.started": "2020-05-09T16:46:58.978166Z"
    }
   },
   "outputs": [
    {
     "data": {
      "text/plain": [
       "numpy.ndarray"
      ]
     },
     "execution_count": 3,
     "metadata": {},
     "output_type": "execute_result"
    }
   ],
   "source": [
    "type(a)"
   ]
  },
  {
   "cell_type": "code",
   "execution_count": 5,
   "metadata": {
    "execution": {
     "iopub.execute_input": "2020-05-09T16:47:06.657114Z",
     "iopub.status.busy": "2020-05-09T16:47:06.657114Z",
     "iopub.status.idle": "2020-05-09T16:47:06.683471Z",
     "shell.execute_reply": "2020-05-09T16:47:06.683471Z",
     "shell.execute_reply.started": "2020-05-09T16:47:06.657114Z"
    }
   },
   "outputs": [
    {
     "data": {
      "text/plain": [
       "dtype('int32')"
      ]
     },
     "execution_count": 5,
     "metadata": {},
     "output_type": "execute_result"
    }
   ],
   "source": [
    "a.dtype"
   ]
  },
  {
   "cell_type": "code",
   "execution_count": 6,
   "metadata": {
    "execution": {
     "iopub.execute_input": "2020-05-09T16:47:22.526981Z",
     "iopub.status.busy": "2020-05-09T16:47:22.525982Z",
     "iopub.status.idle": "2020-05-09T16:47:22.531966Z",
     "shell.execute_reply": "2020-05-09T16:47:22.531471Z",
     "shell.execute_reply.started": "2020-05-09T16:47:22.526981Z"
    }
   },
   "outputs": [
    {
     "data": {
      "text/plain": [
       "array([-1,  2,  3,  4,  5])"
      ]
     },
     "execution_count": 6,
     "metadata": {},
     "output_type": "execute_result"
    }
   ],
   "source": [
    "a[0]=-1   #array是可变容器，这点和list类似\n",
    "a"
   ]
  },
  {
   "cell_type": "code",
   "execution_count": 7,
   "metadata": {
    "execution": {
     "iopub.execute_input": "2020-05-09T16:48:20.638804Z",
     "iopub.status.busy": "2020-05-09T16:48:20.638804Z",
     "iopub.status.idle": "2020-05-09T16:48:20.645822Z",
     "shell.execute_reply": "2020-05-09T16:48:20.644789Z",
     "shell.execute_reply.started": "2020-05-09T16:48:20.638804Z"
    }
   },
   "outputs": [
    {
     "data": {
      "text/plain": [
       "13"
      ]
     },
     "execution_count": 7,
     "metadata": {},
     "output_type": "execute_result"
    }
   ],
   "source": [
    "a.sum()  #求和"
   ]
  },
  {
   "cell_type": "code",
   "execution_count": 8,
   "metadata": {
    "execution": {
     "iopub.execute_input": "2020-05-09T16:48:28.565518Z",
     "iopub.status.busy": "2020-05-09T16:48:28.564521Z",
     "iopub.status.idle": "2020-05-09T16:48:28.574535Z",
     "shell.execute_reply": "2020-05-09T16:48:28.573529Z",
     "shell.execute_reply.started": "2020-05-09T16:48:28.565518Z"
    }
   },
   "outputs": [
    {
     "data": {
      "text/plain": [
       "2.0591260281974"
      ]
     },
     "execution_count": 8,
     "metadata": {},
     "output_type": "execute_result"
    }
   ],
   "source": [
    "a.std()   #standard deviation"
   ]
  },
  {
   "cell_type": "code",
   "execution_count": 9,
   "metadata": {
    "execution": {
     "iopub.execute_input": "2020-05-09T16:48:56.176321Z",
     "iopub.status.busy": "2020-05-09T16:48:56.175322Z",
     "iopub.status.idle": "2020-05-09T16:48:56.181305Z",
     "shell.execute_reply": "2020-05-09T16:48:56.181305Z",
     "shell.execute_reply.started": "2020-05-09T16:48:56.176321Z"
    }
   },
   "outputs": [
    {
     "data": {
      "text/plain": [
       "2.0591260281974"
      ]
     },
     "execution_count": 9,
     "metadata": {},
     "output_type": "execute_result"
    }
   ],
   "source": [
    "np.std(a)   #标准差的另一种写法"
   ]
  },
  {
   "cell_type": "code",
   "execution_count": 10,
   "metadata": {
    "execution": {
     "iopub.execute_input": "2020-05-09T16:49:40.603384Z",
     "iopub.status.busy": "2020-05-09T16:49:40.602384Z",
     "iopub.status.idle": "2020-05-09T16:49:40.609366Z",
     "shell.execute_reply": "2020-05-09T16:49:40.608368Z",
     "shell.execute_reply.started": "2020-05-09T16:49:40.603384Z"
    }
   },
   "outputs": [
    {
     "data": {
      "text/plain": [
       "array([-1,  1,  4,  8, 13], dtype=int32)"
      ]
     },
     "execution_count": 10,
     "metadata": {},
     "output_type": "execute_result"
    }
   ],
   "source": [
    "a.cumsum() #累计求和，这点在计算股价连续的收益率的时候十分有用"
   ]
  },
  {
   "cell_type": "code",
   "execution_count": 11,
   "metadata": {
    "execution": {
     "iopub.execute_input": "2020-05-09T16:55:23.171539Z",
     "iopub.status.busy": "2020-05-09T16:55:23.171539Z",
     "iopub.status.idle": "2020-05-09T16:55:23.178521Z",
     "shell.execute_reply": "2020-05-09T16:55:23.177524Z",
     "shell.execute_reply.started": "2020-05-09T16:55:23.171539Z"
    }
   },
   "outputs": [
    {
     "data": {
      "text/plain": [
       "array([  -1,   -2,   -6,  -24, -120], dtype=int32)"
      ]
     },
     "execution_count": 11,
     "metadata": {},
     "output_type": "execute_result"
    }
   ],
   "source": [
    "a.cumprod()   #累计求乘积，在计算离散的累计收益率时候非常有用"
   ]
  },
  {
   "cell_type": "markdown",
   "metadata": {},
   "source": [
    "<tr><td bgcolor=red>Numpy的切片是一个引用，而不是像list里面的是一个拷贝，因此在处理大规模的数组的时候，这种操作不会带来大量的内存开销 </td></tr>"
   ]
  },
  {
   "cell_type": "code",
   "execution_count": 13,
   "metadata": {
    "execution": {
     "iopub.execute_input": "2020-05-09T17:36:06.010090Z",
     "iopub.status.busy": "2020-05-09T17:36:06.010090Z",
     "iopub.status.idle": "2020-05-09T17:36:06.016074Z",
     "shell.execute_reply": "2020-05-09T17:36:06.015117Z",
     "shell.execute_reply.started": "2020-05-09T17:36:06.010090Z"
    }
   },
   "outputs": [
    {
     "data": {
      "text/plain": [
       "array([-1,  2])"
      ]
     },
     "execution_count": 13,
     "metadata": {},
     "output_type": "execute_result"
    }
   ],
   "source": [
    "#如何理解上面的点\n",
    "a_sub=a[:2]\n",
    "a_sub"
   ]
  },
  {
   "cell_type": "code",
   "execution_count": 14,
   "metadata": {
    "execution": {
     "iopub.execute_input": "2020-05-09T17:36:19.729209Z",
     "iopub.status.busy": "2020-05-09T17:36:19.728212Z",
     "iopub.status.idle": "2020-05-09T17:36:19.731240Z",
     "shell.execute_reply": "2020-05-09T17:36:19.731240Z",
     "shell.execute_reply.started": "2020-05-09T17:36:19.728212Z"
    }
   },
   "outputs": [],
   "source": [
    "a_sub[0]=1   #修改切片的值"
   ]
  },
  {
   "cell_type": "code",
   "execution_count": 15,
   "metadata": {
    "execution": {
     "iopub.execute_input": "2020-05-09T17:36:33.949471Z",
     "iopub.status.busy": "2020-05-09T17:36:33.948470Z",
     "iopub.status.idle": "2020-05-09T17:36:33.961436Z",
     "shell.execute_reply": "2020-05-09T17:36:33.960440Z",
     "shell.execute_reply.started": "2020-05-09T17:36:33.949471Z"
    }
   },
   "outputs": [
    {
     "data": {
      "text/plain": [
       "array([1, 2, 3, 4, 5])"
      ]
     },
     "execution_count": 15,
     "metadata": {},
     "output_type": "execute_result"
    }
   ],
   "source": [
    "a   #a的值也发生了改变"
   ]
  },
  {
   "cell_type": "markdown",
   "metadata": {},
   "source": [
    "Numpy里面切片出来数据修改会影响数据源"
   ]
  },
  {
   "cell_type": "code",
   "execution_count": 16,
   "metadata": {
    "execution": {
     "iopub.execute_input": "2020-05-09T17:38:37.799966Z",
     "iopub.status.busy": "2020-05-09T17:38:37.798870Z",
     "iopub.status.idle": "2020-05-09T17:38:37.803852Z",
     "shell.execute_reply": "2020-05-09T17:38:37.803852Z",
     "shell.execute_reply.started": "2020-05-09T17:38:37.799966Z"
    }
   },
   "outputs": [],
   "source": [
    "#如何不影响数据源\n",
    "a_sub_1=a[0:2].copy()"
   ]
  },
  {
   "cell_type": "code",
   "execution_count": 17,
   "metadata": {
    "execution": {
     "iopub.execute_input": "2020-05-09T17:39:04.635801Z",
     "iopub.status.busy": "2020-05-09T17:39:04.635801Z",
     "iopub.status.idle": "2020-05-09T17:39:04.642779Z",
     "shell.execute_reply": "2020-05-09T17:39:04.641779Z",
     "shell.execute_reply.started": "2020-05-09T17:39:04.635801Z"
    }
   },
   "outputs": [
    {
     "data": {
      "text/plain": [
       "array([100,   2])"
      ]
     },
     "execution_count": 17,
     "metadata": {},
     "output_type": "execute_result"
    }
   ],
   "source": [
    "a_sub_1[0]=100\n",
    "a_sub_1"
   ]
  },
  {
   "cell_type": "code",
   "execution_count": 18,
   "metadata": {
    "execution": {
     "iopub.execute_input": "2020-05-09T17:39:07.397404Z",
     "iopub.status.busy": "2020-05-09T17:39:07.396407Z",
     "iopub.status.idle": "2020-05-09T17:39:07.402389Z",
     "shell.execute_reply": "2020-05-09T17:39:07.402389Z",
     "shell.execute_reply.started": "2020-05-09T17:39:07.397404Z"
    }
   },
   "outputs": [
    {
     "data": {
      "text/plain": [
       "array([1, 2, 3, 4, 5])"
      ]
     },
     "execution_count": 18,
     "metadata": {},
     "output_type": "execute_result"
    }
   ],
   "source": [
    "a"
   ]
  },
  {
   "cell_type": "code",
   "execution_count": 19,
   "metadata": {
    "collapsed": true,
    "execution": {
     "iopub.execute_input": "2020-05-09T17:41:27.754820Z",
     "iopub.status.busy": "2020-05-09T17:41:27.754820Z",
     "iopub.status.idle": "2020-05-09T17:41:27.764795Z",
     "shell.execute_reply": "2020-05-09T17:41:27.763797Z",
     "shell.execute_reply.started": "2020-05-09T17:41:27.754820Z"
    },
    "jupyter": {
     "outputs_hidden": true
    }
   },
   "outputs": [
    {
     "ename": "ValueError",
     "evalue": "invalid literal for int() with base 10: 'python'",
     "output_type": "error",
     "traceback": [
      "\u001b[1;31m---------------------------------------------------------------------------\u001b[0m",
      "\u001b[1;31mValueError\u001b[0m                                Traceback (most recent call last)",
      "\u001b[1;32m<ipython-input-19-4cd843159fd7>\u001b[0m in \u001b[0;36m<module>\u001b[1;34m\u001b[0m\n\u001b[1;32m----> 1\u001b[1;33m \u001b[0ma\u001b[0m\u001b[1;33m[\u001b[0m\u001b[1;36m0\u001b[0m\u001b[1;33m]\u001b[0m\u001b[1;33m=\u001b[0m\u001b[1;34m'python'\u001b[0m\u001b[1;33m\u001b[0m\u001b[1;33m\u001b[0m\u001b[0m\n\u001b[0m",
      "\u001b[1;31mValueError\u001b[0m: invalid literal for int() with base 10: 'python'"
     ]
    }
   ],
   "source": [
    "a[0]='python'   #array的元素必须是相同的类型"
   ]
  },
  {
   "cell_type": "markdown",
   "metadata": {},
   "source": [
    "## Numpy Ndarray的基本属性\n",
    ".ndim 维度  \n",
    ".shape 每个维度的长度  \n",
    ".size 整个数据的长度，等于各个维度长度之积  \n",
    ".dtype 内部数据的类型  \n",
    ".itemsize 每个元素的字节长度  \n",
    ".nbytes 整个数组的字节长度，等于.itemsize*.size"
   ]
  },
  {
   "cell_type": "code",
   "execution_count": 20,
   "metadata": {
    "execution": {
     "iopub.execute_input": "2020-05-09T17:54:36.327298Z",
     "iopub.status.busy": "2020-05-09T17:54:36.327298Z",
     "iopub.status.idle": "2020-05-09T17:54:36.336275Z",
     "shell.execute_reply": "2020-05-09T17:54:36.335276Z",
     "shell.execute_reply.started": "2020-05-09T17:54:36.327298Z"
    }
   },
   "outputs": [
    {
     "name": "stdout",
     "output_type": "stream",
     "text": [
      "1\n",
      "(5,)\n",
      "int32\n"
     ]
    }
   ],
   "source": [
    "print(a.ndim)\n",
    "print(a.shape)\n",
    "print(a.dtype)"
   ]
  },
  {
   "cell_type": "code",
   "execution_count": 21,
   "metadata": {
    "execution": {
     "iopub.execute_input": "2020-05-09T17:55:45.861306Z",
     "iopub.status.busy": "2020-05-09T17:55:45.860308Z",
     "iopub.status.idle": "2020-05-09T17:55:45.870558Z",
     "shell.execute_reply": "2020-05-09T17:55:45.869557Z",
     "shell.execute_reply.started": "2020-05-09T17:55:45.861306Z"
    }
   },
   "outputs": [
    {
     "data": {
      "text/plain": [
       "array([1, 2, 3, 4])"
      ]
     },
     "execution_count": 21,
     "metadata": {},
     "output_type": "execute_result"
    }
   ],
   "source": [
    "#astype()转换函数\n",
    "b=np.array([1,2,3,4])\n",
    "b"
   ]
  },
  {
   "cell_type": "code",
   "execution_count": 22,
   "metadata": {
    "execution": {
     "iopub.execute_input": "2020-05-09T17:55:58.757355Z",
     "iopub.status.busy": "2020-05-09T17:55:58.756360Z",
     "iopub.status.idle": "2020-05-09T17:55:58.762341Z",
     "shell.execute_reply": "2020-05-09T17:55:58.762341Z",
     "shell.execute_reply.started": "2020-05-09T17:55:58.757355Z"
    }
   },
   "outputs": [
    {
     "data": {
      "text/plain": [
       "dtype('int32')"
      ]
     },
     "execution_count": 22,
     "metadata": {},
     "output_type": "execute_result"
    }
   ],
   "source": [
    "b.dtype"
   ]
  },
  {
   "cell_type": "code",
   "execution_count": 23,
   "metadata": {
    "execution": {
     "iopub.execute_input": "2020-05-09T17:56:24.877272Z",
     "iopub.status.busy": "2020-05-09T17:56:24.877272Z",
     "iopub.status.idle": "2020-05-09T17:56:24.883252Z",
     "shell.execute_reply": "2020-05-09T17:56:24.882269Z",
     "shell.execute_reply.started": "2020-05-09T17:56:24.877272Z"
    }
   },
   "outputs": [],
   "source": [
    "b_float=b.astype(np.float)"
   ]
  },
  {
   "cell_type": "code",
   "execution_count": 26,
   "metadata": {
    "execution": {
     "iopub.execute_input": "2020-05-09T17:57:26.101262Z",
     "iopub.status.busy": "2020-05-09T17:57:26.101262Z",
     "iopub.status.idle": "2020-05-09T17:57:26.107287Z",
     "shell.execute_reply": "2020-05-09T17:57:26.107287Z",
     "shell.execute_reply.started": "2020-05-09T17:57:26.101262Z"
    }
   },
   "outputs": [
    {
     "data": {
      "text/plain": [
       "array([1., 2., 3., 4.])"
      ]
     },
     "execution_count": 26,
     "metadata": {},
     "output_type": "execute_result"
    }
   ],
   "source": [
    "b_float"
   ]
  },
  {
   "cell_type": "code",
   "execution_count": 27,
   "metadata": {
    "execution": {
     "iopub.execute_input": "2020-05-09T17:57:32.794451Z",
     "iopub.status.busy": "2020-05-09T17:57:32.794451Z",
     "iopub.status.idle": "2020-05-09T17:57:32.801433Z",
     "shell.execute_reply": "2020-05-09T17:57:32.800462Z",
     "shell.execute_reply.started": "2020-05-09T17:57:32.794451Z"
    }
   },
   "outputs": [
    {
     "data": {
      "text/plain": [
       "dtype('float64')"
      ]
     },
     "execution_count": 27,
     "metadata": {},
     "output_type": "execute_result"
    }
   ],
   "source": [
    "b_float.dtype"
   ]
  },
  {
   "cell_type": "markdown",
   "metadata": {},
   "source": [
    "## numpy向量化操作"
   ]
  },
  {
   "cell_type": "markdown",
   "metadata": {},
   "source": [
    "什么是向量化？Vectoration  \n"
   ]
  },
  {
   "cell_type": "code",
   "execution_count": 28,
   "metadata": {
    "execution": {
     "iopub.execute_input": "2020-05-09T18:02:21.322729Z",
     "iopub.status.busy": "2020-05-09T18:02:21.322729Z",
     "iopub.status.idle": "2020-05-09T18:02:21.329710Z",
     "shell.execute_reply": "2020-05-09T18:02:21.328780Z",
     "shell.execute_reply.started": "2020-05-09T18:02:21.322729Z"
    }
   },
   "outputs": [
    {
     "data": {
      "text/plain": [
       "[0.0, 0.5, 1.5, 2.0, 0.0, 0.5, 1.5, 2.0]"
      ]
     },
     "execution_count": 28,
     "metadata": {},
     "output_type": "execute_result"
    }
   ],
   "source": [
    "#我们想把list里的数据乘以2\n",
    "list_1=[0.,0.5,1.5,2.]    #list容器只会重复一遍\n",
    "list_1*2"
   ]
  },
  {
   "cell_type": "code",
   "execution_count": 30,
   "metadata": {
    "execution": {
     "iopub.execute_input": "2020-05-09T18:05:20.840881Z",
     "iopub.status.busy": "2020-05-09T18:05:20.839872Z",
     "iopub.status.idle": "2020-05-09T18:05:20.845854Z",
     "shell.execute_reply": "2020-05-09T18:05:20.844955Z",
     "shell.execute_reply.started": "2020-05-09T18:05:20.840881Z"
    }
   },
   "outputs": [
    {
     "data": {
      "text/plain": [
       "[0.0, 1.0, 3.0, 4.0]"
      ]
     },
     "execution_count": 30,
     "metadata": {},
     "output_type": "execute_result"
    }
   ],
   "source": [
    "[i*2 for i in list_1]  #for循环才能达到此目的"
   ]
  },
  {
   "cell_type": "code",
   "execution_count": 29,
   "metadata": {
    "execution": {
     "iopub.execute_input": "2020-05-09T18:03:10.918395Z",
     "iopub.status.busy": "2020-05-09T18:03:10.917366Z",
     "iopub.status.idle": "2020-05-09T18:03:10.924342Z",
     "shell.execute_reply": "2020-05-09T18:03:10.923388Z",
     "shell.execute_reply.started": "2020-05-09T18:03:10.918395Z"
    }
   },
   "outputs": [
    {
     "data": {
      "text/plain": [
       "array([0., 1., 3., 4.])"
      ]
     },
     "execution_count": 29,
     "metadata": {},
     "output_type": "execute_result"
    }
   ],
   "source": [
    "c=np.array([0.,0.5,1.5,2.])  #利用numpy的向量化可以很好地解决此问题\n",
    "c*2"
   ]
  },
  {
   "cell_type": "code",
   "execution_count": 31,
   "metadata": {
    "execution": {
     "iopub.execute_input": "2020-05-09T18:06:50.430640Z",
     "iopub.status.busy": "2020-05-09T18:06:50.429641Z",
     "iopub.status.idle": "2020-05-09T18:06:50.434664Z",
     "shell.execute_reply": "2020-05-09T18:06:50.434664Z",
     "shell.execute_reply.started": "2020-05-09T18:06:50.430640Z"
    }
   },
   "outputs": [
    {
     "data": {
      "text/plain": [
       "array([0, 1, 2, 3])"
      ]
     },
     "execution_count": 31,
     "metadata": {},
     "output_type": "execute_result"
    }
   ],
   "source": [
    "d=np.array(range(4))\n",
    "d"
   ]
  },
  {
   "cell_type": "code",
   "execution_count": 32,
   "metadata": {
    "execution": {
     "iopub.execute_input": "2020-05-09T18:06:54.451115Z",
     "iopub.status.busy": "2020-05-09T18:06:54.450120Z",
     "iopub.status.idle": "2020-05-09T18:06:54.457120Z",
     "shell.execute_reply": "2020-05-09T18:06:54.456630Z",
     "shell.execute_reply.started": "2020-05-09T18:06:54.451115Z"
    }
   },
   "outputs": [
    {
     "data": {
      "text/plain": [
       "array([0. , 1.5, 3.5, 5. ])"
      ]
     },
     "execution_count": 32,
     "metadata": {},
     "output_type": "execute_result"
    }
   ],
   "source": [
    "c+d"
   ]
  },
  {
   "cell_type": "markdown",
   "metadata": {},
   "source": [
    "## numpy通用函数"
   ]
  },
  {
   "cell_type": "code",
   "execution_count": 33,
   "metadata": {
    "execution": {
     "iopub.execute_input": "2020-05-09T18:23:14.264831Z",
     "iopub.status.busy": "2020-05-09T18:23:14.263840Z",
     "iopub.status.idle": "2020-05-09T18:23:14.271319Z",
     "shell.execute_reply": "2020-05-09T18:23:14.270815Z",
     "shell.execute_reply.started": "2020-05-09T18:23:14.264831Z"
    }
   },
   "outputs": [
    {
     "data": {
      "text/plain": [
       "1.5811388300841898"
      ]
     },
     "execution_count": 33,
     "metadata": {},
     "output_type": "execute_result"
    }
   ],
   "source": [
    "np.sqrt(2.5)"
   ]
  },
  {
   "cell_type": "code",
   "execution_count": 34,
   "metadata": {
    "execution": {
     "iopub.execute_input": "2020-05-09T18:23:40.857376Z",
     "iopub.status.busy": "2020-05-09T18:23:40.856379Z",
     "iopub.status.idle": "2020-05-09T18:23:40.863364Z",
     "shell.execute_reply": "2020-05-09T18:23:40.862368Z",
     "shell.execute_reply.started": "2020-05-09T18:23:40.857376Z"
    }
   },
   "outputs": [
    {
     "data": {
      "text/plain": [
       "1.5811388300841898"
      ]
     },
     "execution_count": 34,
     "metadata": {},
     "output_type": "execute_result"
    }
   ],
   "source": [
    "import math   #利用math包也可以\n",
    "math.sqrt(2.5)"
   ]
  },
  {
   "cell_type": "code",
   "execution_count": 35,
   "metadata": {
    "execution": {
     "iopub.execute_input": "2020-05-09T18:24:25.103668Z",
     "iopub.status.busy": "2020-05-09T18:24:25.102670Z",
     "iopub.status.idle": "2020-05-09T18:24:25.109651Z",
     "shell.execute_reply": "2020-05-09T18:24:25.109651Z",
     "shell.execute_reply.started": "2020-05-09T18:24:25.103668Z"
    }
   },
   "outputs": [
    {
     "data": {
      "text/plain": [
       "array([0.        , 0.70710678, 1.22474487, 1.41421356])"
      ]
     },
     "execution_count": 35,
     "metadata": {},
     "output_type": "execute_result"
    }
   ],
   "source": [
    "np.sqrt(c)"
   ]
  },
  {
   "cell_type": "code",
   "execution_count": 36,
   "metadata": {
    "execution": {
     "iopub.execute_input": "2020-05-09T18:24:37.965079Z",
     "iopub.status.busy": "2020-05-09T18:24:37.964082Z",
     "iopub.status.idle": "2020-05-09T18:24:37.973569Z",
     "shell.execute_reply": "2020-05-09T18:24:37.972571Z",
     "shell.execute_reply.started": "2020-05-09T18:24:37.965079Z"
    }
   },
   "outputs": [
    {
     "ename": "TypeError",
     "evalue": "only size-1 arrays can be converted to Python scalars",
     "output_type": "error",
     "traceback": [
      "\u001b[1;31m---------------------------------------------------------------------------\u001b[0m",
      "\u001b[1;31mTypeError\u001b[0m                                 Traceback (most recent call last)",
      "\u001b[1;32m<ipython-input-36-5b2776b0f855>\u001b[0m in \u001b[0;36m<module>\u001b[1;34m\u001b[0m\n\u001b[1;32m----> 1\u001b[1;33m \u001b[0mmath\u001b[0m\u001b[1;33m.\u001b[0m\u001b[0msqrt\u001b[0m\u001b[1;33m(\u001b[0m\u001b[0mc\u001b[0m\u001b[1;33m)\u001b[0m\u001b[1;33m\u001b[0m\u001b[1;33m\u001b[0m\u001b[0m\n\u001b[0m",
      "\u001b[1;31mTypeError\u001b[0m: only size-1 arrays can be converted to Python scalars"
     ]
    }
   ],
   "source": [
    "math.sqrt(c)   #math无法对array进行操作"
   ]
  },
  {
   "cell_type": "markdown",
   "metadata": {},
   "source": [
    "## numpy数据的索引和切片"
   ]
  },
  {
   "cell_type": "code",
   "execution_count": 37,
   "metadata": {
    "execution": {
     "iopub.execute_input": "2020-05-09T18:25:59.724540Z",
     "iopub.status.busy": "2020-05-09T18:25:59.724540Z",
     "iopub.status.idle": "2020-05-09T18:25:59.729526Z",
     "shell.execute_reply": "2020-05-09T18:25:59.728996Z",
     "shell.execute_reply.started": "2020-05-09T18:25:59.724540Z"
    }
   },
   "outputs": [
    {
     "data": {
      "text/plain": [
       "array([1, 2, 3, 4, 5])"
      ]
     },
     "execution_count": 37,
     "metadata": {},
     "output_type": "execute_result"
    }
   ],
   "source": [
    "a"
   ]
  },
  {
   "cell_type": "code",
   "execution_count": 40,
   "metadata": {
    "execution": {
     "iopub.execute_input": "2020-05-09T18:26:48.157800Z",
     "iopub.status.busy": "2020-05-09T18:26:48.157800Z",
     "iopub.status.idle": "2020-05-09T18:26:48.162814Z",
     "shell.execute_reply": "2020-05-09T18:26:48.162398Z",
     "shell.execute_reply.started": "2020-05-09T18:26:48.157800Z"
    }
   },
   "outputs": [
    {
     "data": {
      "text/plain": [
       "array([[ 1,  2,  3,  4,  5],\n",
       "       [ 2,  4,  6,  8, 10]])"
      ]
     },
     "execution_count": 40,
     "metadata": {},
     "output_type": "execute_result"
    }
   ],
   "source": [
    "a_1=np.array([a,a*2])\n",
    "a_1"
   ]
  },
  {
   "cell_type": "code",
   "execution_count": 42,
   "metadata": {
    "execution": {
     "iopub.execute_input": "2020-05-09T18:27:20.277008Z",
     "iopub.status.busy": "2020-05-09T18:27:20.276048Z",
     "iopub.status.idle": "2020-05-09T18:27:20.281184Z",
     "shell.execute_reply": "2020-05-09T18:27:20.281052Z",
     "shell.execute_reply.started": "2020-05-09T18:27:20.277008Z"
    }
   },
   "outputs": [
    {
     "data": {
      "text/plain": [
       "3"
      ]
     },
     "execution_count": 42,
     "metadata": {},
     "output_type": "execute_result"
    }
   ],
   "source": [
    "a_1[0,2]   #行和列"
   ]
  },
  {
   "cell_type": "code",
   "execution_count": 43,
   "metadata": {
    "execution": {
     "iopub.execute_input": "2020-05-09T18:27:44.671105Z",
     "iopub.status.busy": "2020-05-09T18:27:44.670065Z",
     "iopub.status.idle": "2020-05-09T18:27:44.678041Z",
     "shell.execute_reply": "2020-05-09T18:27:44.677043Z",
     "shell.execute_reply.started": "2020-05-09T18:27:44.671105Z"
    }
   },
   "outputs": [
    {
     "data": {
      "text/plain": [
       "45"
      ]
     },
     "execution_count": 43,
     "metadata": {},
     "output_type": "execute_result"
    }
   ],
   "source": [
    "a_1.sum()  #所有元素求和"
   ]
  },
  {
   "cell_type": "code",
   "execution_count": 44,
   "metadata": {
    "execution": {
     "iopub.execute_input": "2020-05-09T18:28:22.530023Z",
     "iopub.status.busy": "2020-05-09T18:28:22.530023Z",
     "iopub.status.idle": "2020-05-09T18:28:22.534284Z",
     "shell.execute_reply": "2020-05-09T18:28:22.534052Z",
     "shell.execute_reply.started": "2020-05-09T18:28:22.530023Z"
    }
   },
   "outputs": [
    {
     "data": {
      "text/plain": [
       "array([ 3,  6,  9, 12, 15])"
      ]
     },
     "execution_count": 44,
     "metadata": {},
     "output_type": "execute_result"
    }
   ],
   "source": [
    "a_1.sum(axis=0)  #列求和"
   ]
  },
  {
   "cell_type": "code",
   "execution_count": 45,
   "metadata": {
    "execution": {
     "iopub.execute_input": "2020-05-09T18:28:41.070852Z",
     "iopub.status.busy": "2020-05-09T18:28:41.069855Z",
     "iopub.status.idle": "2020-05-09T18:28:41.076836Z",
     "shell.execute_reply": "2020-05-09T18:28:41.075864Z",
     "shell.execute_reply.started": "2020-05-09T18:28:41.070852Z"
    }
   },
   "outputs": [
    {
     "data": {
      "text/plain": [
       "array([15, 30])"
      ]
     },
     "execution_count": 45,
     "metadata": {},
     "output_type": "execute_result"
    }
   ],
   "source": [
    "a_1.sum(axis=1)  #行求和"
   ]
  },
  {
   "cell_type": "code",
   "execution_count": 47,
   "metadata": {
    "execution": {
     "iopub.execute_input": "2020-05-09T19:12:46.498105Z",
     "iopub.status.busy": "2020-05-09T19:12:46.497108Z",
     "iopub.status.idle": "2020-05-09T19:12:46.503091Z",
     "shell.execute_reply": "2020-05-09T19:12:46.502095Z",
     "shell.execute_reply.started": "2020-05-09T19:12:46.498105Z"
    }
   },
   "outputs": [],
   "source": [
    "#条件索引，用于条件选股\n",
    "year=np.array([[2000,2001,2002],[2005,2006,2007],[2010,2011,2009]])"
   ]
  },
  {
   "cell_type": "code",
   "execution_count": 49,
   "metadata": {
    "execution": {
     "iopub.execute_input": "2020-05-09T19:13:24.602269Z",
     "iopub.status.busy": "2020-05-09T19:13:24.602269Z",
     "iopub.status.idle": "2020-05-09T19:13:24.607257Z",
     "shell.execute_reply": "2020-05-09T19:13:24.606784Z",
     "shell.execute_reply.started": "2020-05-09T19:13:24.602269Z"
    }
   },
   "outputs": [
    {
     "data": {
      "text/plain": [
       "array([2005, 2006, 2007, 2010, 2011, 2009])"
      ]
     },
     "execution_count": 49,
     "metadata": {},
     "output_type": "execute_result"
    }
   ],
   "source": [
    "filter_year=year[year>=2005]\n",
    "filter_year"
   ]
  },
  {
   "cell_type": "code",
   "execution_count": 50,
   "metadata": {
    "execution": {
     "iopub.execute_input": "2020-05-09T19:38:31.162033Z",
     "iopub.status.busy": "2020-05-09T19:38:31.160244Z",
     "iopub.status.idle": "2020-05-09T19:38:31.167020Z",
     "shell.execute_reply": "2020-05-09T19:38:31.166772Z",
     "shell.execute_reply.started": "2020-05-09T19:38:31.162033Z"
    }
   },
   "outputs": [
    {
     "name": "stdout",
     "output_type": "stream",
     "text": [
      "[2006 2010]\n"
     ]
    }
   ],
   "source": [
    "#多条件索引\n",
    "filter_year=year[(year>2005)&(year%2==0)]\n",
    "print(filter_year)"
   ]
  },
  {
   "cell_type": "code",
   "execution_count": 51,
   "metadata": {
    "execution": {
     "iopub.execute_input": "2020-05-09T19:45:41.509363Z",
     "iopub.status.busy": "2020-05-09T19:45:41.508338Z",
     "iopub.status.idle": "2020-05-09T19:45:41.517314Z",
     "shell.execute_reply": "2020-05-09T19:45:41.516316Z",
     "shell.execute_reply.started": "2020-05-09T19:45:41.509363Z"
    }
   },
   "outputs": [
    {
     "data": {
      "text/plain": [
       "array([[ 0.53775684,  2.8732008 ,  0.81174274,  0.13546834],\n",
       "       [-0.08820309, -1.46701048,  3.81402564, -0.7803737 ],\n",
       "       [ 0.05064319, -0.10268756,  1.12359244,  0.29882475]])"
      ]
     },
     "execution_count": 51,
     "metadata": {},
     "output_type": "execute_result"
    }
   ],
   "source": [
    "#np.where(条件判断，true:,false:)\n",
    "arr=np.random.randn(3,4)\n",
    "arr"
   ]
  },
  {
   "cell_type": "code",
   "execution_count": 52,
   "metadata": {
    "execution": {
     "iopub.execute_input": "2020-05-09T19:46:10.683912Z",
     "iopub.status.busy": "2020-05-09T19:46:10.683912Z",
     "iopub.status.idle": "2020-05-09T19:46:10.690101Z",
     "shell.execute_reply": "2020-05-09T19:46:10.690101Z",
     "shell.execute_reply.started": "2020-05-09T19:46:10.683912Z"
    }
   },
   "outputs": [
    {
     "data": {
      "text/plain": [
       "array([[ 1,  1,  1,  1],\n",
       "       [-1, -1,  1, -1],\n",
       "       [ 1, -1,  1,  1]])"
      ]
     },
     "execution_count": 52,
     "metadata": {},
     "output_type": "execute_result"
    }
   ],
   "source": [
    "np.where(arr>0,1,-1)    #用于计算策略的sign"
   ]
  },
  {
   "cell_type": "code",
   "execution_count": 53,
   "metadata": {
    "execution": {
     "iopub.execute_input": "2020-05-09T19:48:24.815044Z",
     "iopub.status.busy": "2020-05-09T19:48:24.814048Z",
     "iopub.status.idle": "2020-05-09T19:48:24.822530Z",
     "shell.execute_reply": "2020-05-09T19:48:24.822025Z",
     "shell.execute_reply.started": "2020-05-09T19:48:24.815044Z"
    }
   },
   "outputs": [
    {
     "data": {
      "text/plain": [
       "array([[ 1.,  1.,  1.,  1.],\n",
       "       [-1., -1.,  1., -1.],\n",
       "       [ 1., -1.,  1.,  1.]])"
      ]
     },
     "execution_count": 53,
     "metadata": {},
     "output_type": "execute_result"
    }
   ],
   "source": [
    "np.sign(arr)   #np.sign()函数能达到同样的效果，用于符号判断"
   ]
  },
  {
   "cell_type": "code",
   "execution_count": 55,
   "metadata": {
    "execution": {
     "iopub.execute_input": "2020-05-09T19:50:23.180638Z",
     "iopub.status.busy": "2020-05-09T19:50:23.179669Z",
     "iopub.status.idle": "2020-05-09T19:50:23.186621Z",
     "shell.execute_reply": "2020-05-09T19:50:23.186621Z",
     "shell.execute_reply.started": "2020-05-09T19:50:23.180638Z"
    }
   },
   "outputs": [
    {
     "data": {
      "text/plain": [
       "True"
      ]
     },
     "execution_count": 55,
     "metadata": {},
     "output_type": "execute_result"
    }
   ],
   "source": [
    "np.any(arr>0)  #np.any"
   ]
  },
  {
   "cell_type": "code",
   "execution_count": 56,
   "metadata": {
    "execution": {
     "iopub.execute_input": "2020-05-09T19:50:48.846818Z",
     "iopub.status.busy": "2020-05-09T19:50:48.846818Z",
     "iopub.status.idle": "2020-05-09T19:50:48.872372Z",
     "shell.execute_reply": "2020-05-09T19:50:48.872137Z",
     "shell.execute_reply.started": "2020-05-09T19:50:48.846818Z"
    }
   },
   "outputs": [
    {
     "data": {
      "text/plain": [
       "array([[ True,  True,  True,  True],\n",
       "       [False, False,  True, False],\n",
       "       [ True, False,  True,  True]])"
      ]
     },
     "execution_count": 56,
     "metadata": {},
     "output_type": "execute_result"
    }
   ],
   "source": [
    "np.array(arr>0)"
   ]
  },
  {
   "cell_type": "code",
   "execution_count": 57,
   "metadata": {
    "execution": {
     "iopub.execute_input": "2020-05-09T19:51:11.231896Z",
     "iopub.status.busy": "2020-05-09T19:51:11.230898Z",
     "iopub.status.idle": "2020-05-09T19:51:11.235928Z",
     "shell.execute_reply": "2020-05-09T19:51:11.235928Z",
     "shell.execute_reply.started": "2020-05-09T19:51:11.230898Z"
    }
   },
   "outputs": [
    {
     "data": {
      "text/plain": [
       "False"
      ]
     },
     "execution_count": 57,
     "metadata": {},
     "output_type": "execute_result"
    }
   ],
   "source": [
    "np.all(arr>0)  #np.all"
   ]
  },
  {
   "cell_type": "code",
   "execution_count": 58,
   "metadata": {
    "execution": {
     "iopub.execute_input": "2020-05-09T19:52:34.673518Z",
     "iopub.status.busy": "2020-05-09T19:52:34.673518Z",
     "iopub.status.idle": "2020-05-09T19:52:34.679530Z",
     "shell.execute_reply": "2020-05-09T19:52:34.679530Z",
     "shell.execute_reply.started": "2020-05-09T19:52:34.673518Z"
    }
   },
   "outputs": [
    {
     "data": {
      "text/plain": [
       "array([ 0,  1,  2,  3,  4,  5,  6,  7,  8,  9, 10, 11, 12, 13, 14, 15, 16,\n",
       "       17, 18, 19, 20, 21, 22, 23])"
      ]
     },
     "execution_count": 58,
     "metadata": {},
     "output_type": "execute_result"
    }
   ],
   "source": [
    "#reshape\n",
    "a=np.array(range(24))\n",
    "a"
   ]
  },
  {
   "cell_type": "code",
   "execution_count": 60,
   "metadata": {
    "execution": {
     "iopub.execute_input": "2020-05-09T19:52:51.258279Z",
     "iopub.status.busy": "2020-05-09T19:52:51.258279Z",
     "iopub.status.idle": "2020-05-09T19:52:51.263265Z",
     "shell.execute_reply": "2020-05-09T19:52:51.262568Z",
     "shell.execute_reply.started": "2020-05-09T19:52:51.258279Z"
    }
   },
   "outputs": [
    {
     "data": {
      "text/plain": [
       "array([[ 0,  1,  2,  3,  4,  5],\n",
       "       [ 6,  7,  8,  9, 10, 11],\n",
       "       [12, 13, 14, 15, 16, 17],\n",
       "       [18, 19, 20, 21, 22, 23]])"
      ]
     },
     "execution_count": 60,
     "metadata": {},
     "output_type": "execute_result"
    }
   ],
   "source": [
    "b=a.reshape(4,6)\n",
    "b"
   ]
  },
  {
   "cell_type": "code",
   "execution_count": 61,
   "metadata": {
    "execution": {
     "iopub.execute_input": "2020-05-09T19:53:37.835072Z",
     "iopub.status.busy": "2020-05-09T19:53:37.834078Z",
     "iopub.status.idle": "2020-05-09T19:53:37.839061Z",
     "shell.execute_reply": "2020-05-09T19:53:37.838941Z",
     "shell.execute_reply.started": "2020-05-09T19:53:37.835072Z"
    }
   },
   "outputs": [],
   "source": [
    "b=np.array(b,dtype=float)"
   ]
  },
  {
   "cell_type": "code",
   "execution_count": null,
   "metadata": {},
   "outputs": [],
   "source": []
  }
 ],
 "metadata": {
  "kernelspec": {
   "display_name": "Python 3",
   "language": "python",
   "name": "python3"
  },
  "language_info": {
   "codemirror_mode": {
    "name": "ipython",
    "version": 3
   },
   "file_extension": ".py",
   "mimetype": "text/x-python",
   "name": "python",
   "nbconvert_exporter": "python",
   "pygments_lexer": "ipython3",
   "version": "3.7.7"
  }
 },
 "nbformat": 4,
 "nbformat_minor": 4
}
