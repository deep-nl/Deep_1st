{
 "cells": [
  {
   "cell_type": "markdown",
   "metadata": {},
   "source": [
    "# 面向对象编程（OOP）基本概念介绍"
   ]
  },
  {
   "cell_type": "markdown",
   "metadata": {},
   "source": [
    "### 1. 类"
   ]
  },
  {
   "cell_type": "markdown",
   "metadata": {},
   "source": [
    "#### 1.1 类的创建与属性设置：类的属性通过在类创建的代码中进行创建并赋值"
   ]
  },
  {
   "cell_type": "code",
   "execution_count": 1,
   "metadata": {
<<<<<<< HEAD
    "collapsed": true
=======
    "execution": {
     "iopub.execute_input": "2020-06-15T01:28:01.642172Z",
     "iopub.status.busy": "2020-06-15T01:28:01.642172Z",
     "iopub.status.idle": "2020-06-15T01:28:01.647161Z",
     "shell.execute_reply": "2020-06-15T01:28:01.645993Z",
     "shell.execute_reply.started": "2020-06-15T01:28:01.642172Z"
    }
>>>>>>> 778d2a8a55bb6aa62754914ca7227749dcdbf1d7
   },
   "outputs": [],
   "source": [
    "class FirstClass():      #创建了一个叫做FirstClass的类，我什么也没做；\n",
    "    pass"
   ]
  },
  {
   "cell_type": "code",
<<<<<<< HEAD
   "execution_count": 16,
   "metadata": {
    "collapsed": true
=======
   "execution_count": 2,
   "metadata": {
    "execution": {
     "iopub.execute_input": "2020-06-15T01:28:02.161333Z",
     "iopub.status.busy": "2020-06-15T01:28:02.160335Z",
     "iopub.status.idle": "2020-06-15T01:28:02.167313Z",
     "shell.execute_reply": "2020-06-15T01:28:02.166318Z",
     "shell.execute_reply.started": "2020-06-15T01:28:02.161333Z"
    }
>>>>>>> 778d2a8a55bb6aa62754914ca7227749dcdbf1d7
   },
   "outputs": [],
   "source": [
    "class FirstClass():                      # 创建第一个类\n",
    "    name = 'FirstClass name : AQF'                  #定义两个类的属性；\n",
    "    language = 'FirstClass language : python'\n",
    "       \n",
    "    def welcome():                                  #定义类的方法；\n",
    "        print('Hello from the First Class')"
   ]
  },
  {
   "cell_type": "markdown",
   "metadata": {},
   "source": [
    "#### 1.2 类的属性和方法的调用"
   ]
  },
  {
   "cell_type": "code",
   "execution_count": 3,
<<<<<<< HEAD
   "metadata": {},
=======
   "metadata": {
    "execution": {
     "iopub.execute_input": "2020-06-15T01:28:03.498600Z",
     "iopub.status.busy": "2020-06-15T01:28:03.498600Z",
     "iopub.status.idle": "2020-06-15T01:28:03.508682Z",
     "shell.execute_reply": "2020-06-15T01:28:03.508682Z",
     "shell.execute_reply.started": "2020-06-15T01:28:03.498600Z"
    }
   },
>>>>>>> 778d2a8a55bb6aa62754914ca7227749dcdbf1d7
   "outputs": [
    {
     "data": {
      "text/plain": [
       "'FirstClass name : AQF'"
      ]
     },
     "execution_count": 3,
     "metadata": {},
     "output_type": "execute_result"
    }
   ],
   "source": [
    "FirstClass.name"
   ]
  },
  {
   "cell_type": "code",
   "execution_count": 4,
<<<<<<< HEAD
   "metadata": {},
=======
   "metadata": {
    "execution": {
     "iopub.execute_input": "2020-06-15T01:28:04.006150Z",
     "iopub.status.busy": "2020-06-15T01:28:04.006150Z",
     "iopub.status.idle": "2020-06-15T01:28:04.013129Z",
     "shell.execute_reply": "2020-06-15T01:28:04.012130Z",
     "shell.execute_reply.started": "2020-06-15T01:28:04.006150Z"
    }
   },
>>>>>>> 778d2a8a55bb6aa62754914ca7227749dcdbf1d7
   "outputs": [
    {
     "data": {
      "text/plain": [
       "'FirstClass language : python'"
      ]
     },
     "execution_count": 4,
     "metadata": {},
     "output_type": "execute_result"
    }
   ],
   "source": [
    "FirstClass.language"
   ]
  },
  {
   "cell_type": "code",
   "execution_count": 5,
   "metadata": {
<<<<<<< HEAD
=======
    "execution": {
     "iopub.execute_input": "2020-06-15T01:28:06.693496Z",
     "iopub.status.busy": "2020-06-15T01:28:06.693496Z",
     "iopub.status.idle": "2020-06-15T01:28:06.700477Z",
     "shell.execute_reply": "2020-06-15T01:28:06.699480Z",
     "shell.execute_reply.started": "2020-06-15T01:28:06.693496Z"
    },
>>>>>>> 778d2a8a55bb6aa62754914ca7227749dcdbf1d7
    "scrolled": true
   },
   "outputs": [
    {
     "name": "stdout",
     "output_type": "stream",
     "text": [
      "Hello from the First Class\n"
     ]
    }
   ],
   "source": [
    "FirstClass.welcome()"
   ]
  },
  {
   "cell_type": "markdown",
   "metadata": {},
   "source": [
    "### 2. 实例"
   ]
  },
  {
   "cell_type": "markdown",
   "metadata": {},
   "source": [
    "#### 2.1 实例化"
   ]
  },
  {
   "cell_type": "code",
<<<<<<< HEAD
   "execution_count": 17,
   "metadata": {
    "collapsed": true
=======
   "execution_count": 6,
   "metadata": {
    "execution": {
     "iopub.execute_input": "2020-06-15T01:28:08.176735Z",
     "iopub.status.busy": "2020-06-15T01:28:08.175738Z",
     "iopub.status.idle": "2020-06-15T01:28:08.181722Z",
     "shell.execute_reply": "2020-06-15T01:28:08.180444Z",
     "shell.execute_reply.started": "2020-06-15T01:28:08.175738Z"
    }
>>>>>>> 778d2a8a55bb6aa62754914ca7227749dcdbf1d7
   },
   "outputs": [],
   "source": [
    "first_instance = FirstClass()    # 实例化过程，通过类创建第一个实例"
   ]
  },
  {
   "cell_type": "code",
<<<<<<< HEAD
   "execution_count": 70,
   "metadata": {
    "collapsed": true
=======
   "execution_count": 7,
   "metadata": {
    "execution": {
     "iopub.execute_input": "2020-06-15T01:28:08.367742Z",
     "iopub.status.busy": "2020-06-15T01:28:08.367742Z",
     "iopub.status.idle": "2020-06-15T01:28:08.372729Z",
     "shell.execute_reply": "2020-06-15T01:28:08.371732Z",
     "shell.execute_reply.started": "2020-06-15T01:28:08.367742Z"
    }
>>>>>>> 778d2a8a55bb6aa62754914ca7227749dcdbf1d7
   },
   "outputs": [],
   "source": [
    "first_instance.content = 'first_instance content : quantitative finance'    # 添加实例的属性content"
   ]
  },
  {
   "cell_type": "code",
<<<<<<< HEAD
   "execution_count": 71,
   "metadata": {
    "collapsed": true
=======
   "execution_count": 8,
   "metadata": {
    "execution": {
     "iopub.execute_input": "2020-06-15T01:28:08.576185Z",
     "iopub.status.busy": "2020-06-15T01:28:08.576185Z",
     "iopub.status.idle": "2020-06-15T01:28:08.581169Z",
     "shell.execute_reply": "2020-06-15T01:28:08.580175Z",
     "shell.execute_reply.started": "2020-06-15T01:28:08.576185Z"
    }
>>>>>>> 778d2a8a55bb6aa62754914ca7227749dcdbf1d7
   },
   "outputs": [],
   "source": [
    "first_instance.student = 'first_instance student : Quant'    # 添加实例的属性student"
   ]
  },
  {
   "cell_type": "markdown",
   "metadata": {},
   "source": [
    "#### 2.2 实例的属性调用"
   ]
  },
  {
   "cell_type": "code",
<<<<<<< HEAD
   "execution_count": 18,
   "metadata": {},
=======
   "execution_count": 9,
   "metadata": {
    "execution": {
     "iopub.execute_input": "2020-06-15T01:28:09.292733Z",
     "iopub.status.busy": "2020-06-15T01:28:09.292733Z",
     "iopub.status.idle": "2020-06-15T01:28:09.300707Z",
     "shell.execute_reply": "2020-06-15T01:28:09.299712Z",
     "shell.execute_reply.started": "2020-06-15T01:28:09.292733Z"
    }
   },
>>>>>>> 778d2a8a55bb6aa62754914ca7227749dcdbf1d7
   "outputs": [
    {
     "data": {
      "text/plain": [
       "'FirstClass name : AQF'"
      ]
     },
<<<<<<< HEAD
     "execution_count": 18,
=======
     "execution_count": 9,
>>>>>>> 778d2a8a55bb6aa62754914ca7227749dcdbf1d7
     "metadata": {},
     "output_type": "execute_result"
    }
   ],
   "source": [
    "first_instance.name"
   ]
  },
  {
   "cell_type": "code",
<<<<<<< HEAD
   "execution_count": 19,
   "metadata": {},
=======
   "execution_count": 10,
   "metadata": {
    "execution": {
     "iopub.execute_input": "2020-06-15T01:28:09.602900Z",
     "iopub.status.busy": "2020-06-15T01:28:09.602900Z",
     "iopub.status.idle": "2020-06-15T01:28:09.608885Z",
     "shell.execute_reply": "2020-06-15T01:28:09.607886Z",
     "shell.execute_reply.started": "2020-06-15T01:28:09.602900Z"
    }
   },
>>>>>>> 778d2a8a55bb6aa62754914ca7227749dcdbf1d7
   "outputs": [
    {
     "data": {
      "text/plain": [
       "'FirstClass language : python'"
      ]
     },
<<<<<<< HEAD
     "execution_count": 19,
=======
     "execution_count": 10,
>>>>>>> 778d2a8a55bb6aa62754914ca7227749dcdbf1d7
     "metadata": {},
     "output_type": "execute_result"
    }
   ],
   "source": [
    "first_instance.language"
   ]
  },
  {
   "cell_type": "code",
<<<<<<< HEAD
   "execution_count": 20,
   "metadata": {},
=======
   "execution_count": 11,
   "metadata": {
    "execution": {
     "iopub.execute_input": "2020-06-15T01:28:09.808716Z",
     "iopub.status.busy": "2020-06-15T01:28:09.807718Z",
     "iopub.status.idle": "2020-06-15T01:28:09.851598Z",
     "shell.execute_reply": "2020-06-15T01:28:09.850601Z",
     "shell.execute_reply.started": "2020-06-15T01:28:09.808716Z"
    }
   },
>>>>>>> 778d2a8a55bb6aa62754914ca7227749dcdbf1d7
   "outputs": [
    {
     "ename": "TypeError",
     "evalue": "welcome() takes 0 positional arguments but 1 was given",
     "output_type": "error",
     "traceback": [
<<<<<<< HEAD
      "\u001b[0;31m---------------------------------------------------------------------------\u001b[0m",
      "\u001b[0;31mTypeError\u001b[0m                                 Traceback (most recent call last)",
      "\u001b[0;32m<ipython-input-20-777b7044461c>\u001b[0m in \u001b[0;36m<module>\u001b[0;34m()\u001b[0m\n\u001b[0;32m----> 1\u001b[0;31m \u001b[0mfirst_instance\u001b[0m\u001b[1;33m.\u001b[0m\u001b[0mwelcome\u001b[0m\u001b[1;33m(\u001b[0m\u001b[1;33m)\u001b[0m         \u001b[1;31m#故意报错，无法直接继承普通的类的方法；\u001b[0m\u001b[1;33m\u001b[0m\u001b[0m\n\u001b[0m",
      "\u001b[0;31mTypeError\u001b[0m: welcome() takes 0 positional arguments but 1 was given"
=======
      "\u001b[1;31m---------------------------------------------------------------------------\u001b[0m",
      "\u001b[1;31mTypeError\u001b[0m                                 Traceback (most recent call last)",
      "\u001b[1;32m<ipython-input-11-388c72c40d67>\u001b[0m in \u001b[0;36m<module>\u001b[1;34m\u001b[0m\n\u001b[1;32m----> 1\u001b[1;33m \u001b[0mfirst_instance\u001b[0m\u001b[1;33m.\u001b[0m\u001b[0mwelcome\u001b[0m\u001b[1;33m(\u001b[0m\u001b[1;33m)\u001b[0m         \u001b[1;31m#故意报错，无法直接继承普通的类的方法；\u001b[0m\u001b[1;33m\u001b[0m\u001b[1;33m\u001b[0m\u001b[0m\n\u001b[0m",
      "\u001b[1;31mTypeError\u001b[0m: welcome() takes 0 positional arguments but 1 was given"
>>>>>>> 778d2a8a55bb6aa62754914ca7227749dcdbf1d7
     ]
    }
   ],
   "source": [
    "first_instance.welcome()         #故意报错，无法直接继承普通的类的方法；"
   ]
  },
  {
   "cell_type": "code",
<<<<<<< HEAD
   "execution_count": 21,
   "metadata": {},
=======
   "execution_count": 12,
   "metadata": {
    "execution": {
     "iopub.execute_input": "2020-06-15T01:28:10.723618Z",
     "iopub.status.busy": "2020-06-15T01:28:10.723618Z",
     "iopub.status.idle": "2020-06-15T01:28:10.736993Z",
     "shell.execute_reply": "2020-06-15T01:28:10.735995Z",
     "shell.execute_reply.started": "2020-06-15T01:28:10.723618Z"
    }
   },
>>>>>>> 778d2a8a55bb6aa62754914ca7227749dcdbf1d7
   "outputs": [
    {
     "data": {
      "text/plain": [
<<<<<<< HEAD
       "{}"
      ]
     },
     "execution_count": 21,
=======
       "{'content': 'first_instance content : quantitative finance',\n",
       " 'student': 'first_instance student : Quant'}"
      ]
     },
     "execution_count": 12,
>>>>>>> 778d2a8a55bb6aa62754914ca7227749dcdbf1d7
     "metadata": {},
     "output_type": "execute_result"
    }
   ],
   "source": [
    "first_instance.__dict__                   #__dict__:可以查看这个对象的属性；"
   ]
  },
  {
   "cell_type": "markdown",
   "metadata": {},
   "source": [
    "#### 2.3 新的实例属性的创建"
   ]
  },
  {
   "cell_type": "code",
<<<<<<< HEAD
   "execution_count": 22,
   "metadata": {
    "collapsed": true
=======
   "execution_count": 13,
   "metadata": {
    "execution": {
     "iopub.execute_input": "2020-06-15T01:28:12.567334Z",
     "iopub.status.busy": "2020-06-15T01:28:12.566338Z",
     "iopub.status.idle": "2020-06-15T01:28:12.573317Z",
     "shell.execute_reply": "2020-06-15T01:28:12.572420Z",
     "shell.execute_reply.started": "2020-06-15T01:28:12.566338Z"
    }
>>>>>>> 778d2a8a55bb6aa62754914ca7227749dcdbf1d7
   },
   "outputs": [],
   "source": [
    "first_instance.content = 'first_instance content : quantitative finance'      # 添加实例的属性content"
   ]
  },
  {
   "cell_type": "code",
<<<<<<< HEAD
   "execution_count": 23,
   "metadata": {
    "collapsed": true
=======
   "execution_count": 14,
   "metadata": {
    "execution": {
     "iopub.execute_input": "2020-06-15T01:28:12.784752Z",
     "iopub.status.busy": "2020-06-15T01:28:12.783753Z",
     "iopub.status.idle": "2020-06-15T01:28:12.788746Z",
     "shell.execute_reply": "2020-06-15T01:28:12.787743Z",
     "shell.execute_reply.started": "2020-06-15T01:28:12.784752Z"
    }
>>>>>>> 778d2a8a55bb6aa62754914ca7227749dcdbf1d7
   },
   "outputs": [],
   "source": [
    "first_instance.student = 'first_instance student : Quant'                     # 添加实例的属性student"
   ]
  },
  {
   "cell_type": "code",
<<<<<<< HEAD
   "execution_count": 24,
   "metadata": {},
=======
   "execution_count": 15,
   "metadata": {
    "execution": {
     "iopub.execute_input": "2020-06-15T01:28:12.993946Z",
     "iopub.status.busy": "2020-06-15T01:28:12.993946Z",
     "iopub.status.idle": "2020-06-15T01:28:12.999930Z",
     "shell.execute_reply": "2020-06-15T01:28:12.999930Z",
     "shell.execute_reply.started": "2020-06-15T01:28:12.993946Z"
    }
   },
>>>>>>> 778d2a8a55bb6aa62754914ca7227749dcdbf1d7
   "outputs": [
    {
     "data": {
      "text/plain": [
       "{'content': 'first_instance content : quantitative finance',\n",
       " 'student': 'first_instance student : Quant'}"
      ]
     },
<<<<<<< HEAD
     "execution_count": 24,
=======
     "execution_count": 15,
>>>>>>> 778d2a8a55bb6aa62754914ca7227749dcdbf1d7
     "metadata": {},
     "output_type": "execute_result"
    }
   ],
   "source": [
    "first_instance.__dict__                  #content和student是对象的实例属性；"
   ]
  },
  {
   "cell_type": "markdown",
   "metadata": {},
   "source": [
    "### 3. 类的实例化：也是一种继承思想"
   ]
  },
  {
   "cell_type": "markdown",
   "metadata": {},
   "source": [
    "#### 3.1 实例对类属性的继承"
   ]
  },
  {
   "cell_type": "markdown",
   "metadata": {},
   "source": [
    "一个类可以创建多个实例，每个实例会从创建他的类中继承属性。"
   ]
  },
  {
   "cell_type": "code",
<<<<<<< HEAD
   "execution_count": 25,
   "metadata": {
    "collapsed": true
=======
   "execution_count": 16,
   "metadata": {
    "execution": {
     "iopub.execute_input": "2020-06-15T01:28:13.849481Z",
     "iopub.status.busy": "2020-06-15T01:28:13.849481Z",
     "iopub.status.idle": "2020-06-15T01:28:13.854465Z",
     "shell.execute_reply": "2020-06-15T01:28:13.853469Z",
     "shell.execute_reply.started": "2020-06-15T01:28:13.849481Z"
    }
>>>>>>> 778d2a8a55bb6aa62754914ca7227749dcdbf1d7
   },
   "outputs": [],
   "source": [
    "second_instance = FirstClass()               # 实例化的过程，使用类FirstClass创造另一个实例"
   ]
  },
  {
   "cell_type": "markdown",
   "metadata": {},
   "source": [
    "second_instance会从FirstClass中继承其属性"
   ]
  },
  {
   "cell_type": "code",
   "execution_count": 26,
   "metadata": {},
   "outputs": [
    {
     "data": {
      "text/plain": [
       "'FirstClass name : AQF'"
      ]
     },
     "execution_count": 26,
     "metadata": {},
     "output_type": "execute_result"
    }
   ],
   "source": [
    "second_instance.name"
   ]
  },
  {
   "cell_type": "code",
   "execution_count": 27,
   "metadata": {},
   "outputs": [
    {
     "data": {
      "text/plain": [
       "'FirstClass language : python'"
      ]
     },
     "execution_count": 27,
     "metadata": {},
     "output_type": "execute_result"
    }
   ],
   "source": [
    "second_instance.language"
   ]
  },
  {
   "cell_type": "markdown",
   "metadata": {},
   "source": [
    "对于在类中定义的没有添加参数的函数，实例无法继承这个方法；"
   ]
  },
  {
   "cell_type": "code",
   "execution_count": 28,
<<<<<<< HEAD
   "metadata": {
    "scrolled": false
   },
=======
   "metadata": {},
>>>>>>> 778d2a8a55bb6aa62754914ca7227749dcdbf1d7
   "outputs": [
    {
     "ename": "TypeError",
     "evalue": "welcome() takes 0 positional arguments but 1 was given",
     "output_type": "error",
     "traceback": [
      "\u001b[0;31m---------------------------------------------------------------------------\u001b[0m",
      "\u001b[0;31mTypeError\u001b[0m                                 Traceback (most recent call last)",
      "\u001b[0;32m<ipython-input-28-13bb12b83631>\u001b[0m in \u001b[0;36m<module>\u001b[0;34m()\u001b[0m\n\u001b[0;32m----> 1\u001b[0;31m \u001b[0msecond_instance\u001b[0m\u001b[1;33m.\u001b[0m\u001b[0mwelcome\u001b[0m\u001b[1;33m(\u001b[0m\u001b[1;33m)\u001b[0m\u001b[1;33m\u001b[0m\u001b[0m\n\u001b[0m",
      "\u001b[0;31mTypeError\u001b[0m: welcome() takes 0 positional arguments but 1 was given"
     ]
    }
   ],
   "source": [
    "second_instance.welcome()        "
   ]
  },
  {
   "cell_type": "markdown",
   "metadata": {},
   "source": [
    "second_instance和first_instance都是由同一类FirstClass创建，因此都会继承FirstClass中的属性，但first_instance创建后，进行赋值创建的实例属性，second_instance不会继承"
   ]
  },
  {
   "cell_type": "code",
   "execution_count": 29,
   "metadata": {},
   "outputs": [
    {
     "data": {
      "text/plain": [
       "'first_instance content : quantitative finance'"
      ]
     },
     "execution_count": 29,
     "metadata": {},
     "output_type": "execute_result"
    }
   ],
   "source": [
    "first_instance.content"
   ]
  },
  {
   "cell_type": "code",
   "execution_count": 30,
   "metadata": {},
   "outputs": [
    {
     "data": {
      "text/plain": [
       "'first_instance student : Quant'"
      ]
     },
     "execution_count": 30,
     "metadata": {},
     "output_type": "execute_result"
    }
   ],
   "source": [
    "first_instance.student"
   ]
  },
  {
   "cell_type": "code",
   "execution_count": 31,
   "metadata": {},
   "outputs": [
    {
     "ename": "AttributeError",
     "evalue": "'FirstClass' object has no attribute 'content'",
     "output_type": "error",
     "traceback": [
      "\u001b[0;31m---------------------------------------------------------------------------\u001b[0m",
      "\u001b[0;31mAttributeError\u001b[0m                            Traceback (most recent call last)",
      "\u001b[0;32m<ipython-input-31-736541a8fe56>\u001b[0m in \u001b[0;36m<module>\u001b[0;34m()\u001b[0m\n\u001b[0;32m----> 1\u001b[0;31m \u001b[0msecond_instance\u001b[0m\u001b[1;33m.\u001b[0m\u001b[0mcontent\u001b[0m\u001b[1;33m\u001b[0m\u001b[0m\n\u001b[0m",
      "\u001b[0;31mAttributeError\u001b[0m: 'FirstClass' object has no attribute 'content'"
     ]
    }
   ],
   "source": [
    "second_instance.content"
   ]
  },
  {
   "cell_type": "markdown",
   "metadata": {},
   "source": [
    "first_instance在创立后新添加的content, student也不会影响到创建它的FirstClass类"
   ]
  },
  {
   "cell_type": "markdown",
<<<<<<< HEAD
   "metadata": {
    "scrolled": true
   },
=======
   "metadata": {},
>>>>>>> 778d2a8a55bb6aa62754914ca7227749dcdbf1d7
   "source": [
    "FirstClass.content"
   ]
  },
  {
   "cell_type": "markdown",
   "metadata": {},
   "source": [
    "以上可以总结为，**当一个实例创建后**，新添加的实例属性不会影响创建他的类以及由同一类创建的其他实例。（前提是属性不能是可变的；）\n",
    "\n",
    "---"
   ]
  },
  {
   "cell_type": "markdown",
   "metadata": {},
   "source": [
    "而当某个实例所继承的类属性发生变化时，相应所有实例的属性也会受到影响"
   ]
  },
  {
   "cell_type": "code",
<<<<<<< HEAD
   "execution_count": 33,
   "metadata": {},
=======
   "execution_count": 17,
   "metadata": {
    "execution": {
     "iopub.execute_input": "2020-06-15T01:39:12.043133Z",
     "iopub.status.busy": "2020-06-15T01:39:12.043133Z",
     "iopub.status.idle": "2020-06-15T01:39:12.049114Z",
     "shell.execute_reply": "2020-06-15T01:39:12.048119Z",
     "shell.execute_reply.started": "2020-06-15T01:39:12.043133Z"
    }
   },
>>>>>>> 778d2a8a55bb6aa62754914ca7227749dcdbf1d7
   "outputs": [
    {
     "data": {
      "text/plain": [
       "'FirstClass name : AQF'"
      ]
     },
<<<<<<< HEAD
     "execution_count": 33,
=======
     "execution_count": 17,
>>>>>>> 778d2a8a55bb6aa62754914ca7227749dcdbf1d7
     "metadata": {},
     "output_type": "execute_result"
    }
   ],
   "source": [
    "FirstClass.name"
   ]
  },
  {
   "cell_type": "code",
<<<<<<< HEAD
   "execution_count": 34,
   "metadata": {
    "collapsed": true
=======
   "execution_count": 18,
   "metadata": {
    "execution": {
     "iopub.execute_input": "2020-06-15T01:39:12.867100Z",
     "iopub.status.busy": "2020-06-15T01:39:12.866099Z",
     "iopub.status.idle": "2020-06-15T01:39:12.872048Z",
     "shell.execute_reply": "2020-06-15T01:39:12.871051Z",
     "shell.execute_reply.started": "2020-06-15T01:39:12.867100Z"
    }
>>>>>>> 778d2a8a55bb6aa62754914ca7227749dcdbf1d7
   },
   "outputs": [],
   "source": [
    "FirstClass.name = 'AQF_changed'"
   ]
  },
  {
   "cell_type": "code",
<<<<<<< HEAD
   "execution_count": 35,
   "metadata": {},
=======
   "execution_count": 19,
   "metadata": {
    "execution": {
     "iopub.execute_input": "2020-06-15T01:39:15.276248Z",
     "iopub.status.busy": "2020-06-15T01:39:15.275249Z",
     "iopub.status.idle": "2020-06-15T01:39:15.281206Z",
     "shell.execute_reply": "2020-06-15T01:39:15.280211Z",
     "shell.execute_reply.started": "2020-06-15T01:39:15.275249Z"
    }
   },
>>>>>>> 778d2a8a55bb6aa62754914ca7227749dcdbf1d7
   "outputs": [
    {
     "data": {
      "text/plain": [
       "'AQF_changed'"
      ]
     },
<<<<<<< HEAD
     "execution_count": 35,
=======
     "execution_count": 19,
>>>>>>> 778d2a8a55bb6aa62754914ca7227749dcdbf1d7
     "metadata": {},
     "output_type": "execute_result"
    }
   ],
   "source": [
    "FirstClass.name"
   ]
  },
  {
   "cell_type": "code",
<<<<<<< HEAD
   "execution_count": 36,
   "metadata": {},
=======
   "execution_count": 20,
   "metadata": {
    "execution": {
     "iopub.execute_input": "2020-06-15T01:39:16.106097Z",
     "iopub.status.busy": "2020-06-15T01:39:16.106097Z",
     "iopub.status.idle": "2020-06-15T01:39:16.116053Z",
     "shell.execute_reply": "2020-06-15T01:39:16.115054Z",
     "shell.execute_reply.started": "2020-06-15T01:39:16.106097Z"
    }
   },
>>>>>>> 778d2a8a55bb6aa62754914ca7227749dcdbf1d7
   "outputs": [
    {
     "data": {
      "text/plain": [
       "'AQF_changed'"
      ]
     },
<<<<<<< HEAD
     "execution_count": 36,
=======
     "execution_count": 20,
>>>>>>> 778d2a8a55bb6aa62754914ca7227749dcdbf1d7
     "metadata": {},
     "output_type": "execute_result"
    }
   ],
   "source": [
    "first_instance.name"
   ]
  },
  {
   "cell_type": "code",
<<<<<<< HEAD
   "execution_count": 37,
   "metadata": {},
=======
   "execution_count": 21,
   "metadata": {
    "execution": {
     "iopub.execute_input": "2020-06-15T01:39:16.799362Z",
     "iopub.status.busy": "2020-06-15T01:39:16.798362Z",
     "iopub.status.idle": "2020-06-15T01:39:16.806307Z",
     "shell.execute_reply": "2020-06-15T01:39:16.805311Z",
     "shell.execute_reply.started": "2020-06-15T01:39:16.799362Z"
    }
   },
>>>>>>> 778d2a8a55bb6aa62754914ca7227749dcdbf1d7
   "outputs": [
    {
     "data": {
      "text/plain": [
       "'AQF_changed'"
      ]
     },
<<<<<<< HEAD
     "execution_count": 37,
=======
     "execution_count": 21,
>>>>>>> 778d2a8a55bb6aa62754914ca7227749dcdbf1d7
     "metadata": {},
     "output_type": "execute_result"
    }
   ],
   "source": [
    "second_instance.name"
   ]
  },
  {
   "cell_type": "markdown",
   "metadata": {},
   "source": [
    "#### 3.2 编写可由实例继承的方法"
   ]
  },
  {
   "cell_type": "code",
<<<<<<< HEAD
   "execution_count": 60,
   "metadata": {
    "collapsed": true
=======
   "execution_count": 22,
   "metadata": {
    "execution": {
     "iopub.execute_input": "2020-06-15T01:39:31.639541Z",
     "iopub.status.busy": "2020-06-15T01:39:31.639541Z",
     "iopub.status.idle": "2020-06-15T01:39:31.644525Z",
     "shell.execute_reply": "2020-06-15T01:39:31.643786Z",
     "shell.execute_reply.started": "2020-06-15T01:39:31.639541Z"
    }
>>>>>>> 778d2a8a55bb6aa62754914ca7227749dcdbf1d7
   },
   "outputs": [],
   "source": [
    "# 类的方法与普通的函数只有一个特别的区别——它们必须有一个额外的第一个参数名称, 按照惯例它的名称是 self\n",
    "# self代表类的实例，而非类\n",
    "\n",
    "class ThirdClass():\n",
    "    def welcome(self):               #self代替了类的实例的位置，这个属性和方法在类的所有的实例中都可以调用；\n",
    "        print('Hello from ThirdClass')"
   ]
  },
  {
   "cell_type": "code",
<<<<<<< HEAD
   "execution_count": 55,
   "metadata": {
    "collapsed": true
=======
   "execution_count": 23,
   "metadata": {
    "execution": {
     "iopub.execute_input": "2020-06-15T01:39:37.896563Z",
     "iopub.status.busy": "2020-06-15T01:39:37.896563Z",
     "iopub.status.idle": "2020-06-15T01:39:37.920194Z",
     "shell.execute_reply": "2020-06-15T01:39:37.919786Z",
     "shell.execute_reply.started": "2020-06-15T01:39:37.896563Z"
    }
>>>>>>> 778d2a8a55bb6aa62754914ca7227749dcdbf1d7
   },
   "outputs": [],
   "source": [
    "third_instance = ThirdClass()     #实例化的过程；"
   ]
  },
  {
   "cell_type": "code",
<<<<<<< HEAD
   "execution_count": 61,
   "metadata": {
=======
   "execution_count": 24,
   "metadata": {
    "execution": {
     "iopub.execute_input": "2020-06-15T01:39:38.446787Z",
     "iopub.status.busy": "2020-06-15T01:39:38.446787Z",
     "iopub.status.idle": "2020-06-15T01:39:38.461340Z",
     "shell.execute_reply": "2020-06-15T01:39:38.461340Z",
     "shell.execute_reply.started": "2020-06-15T01:39:38.446787Z"
    },
>>>>>>> 778d2a8a55bb6aa62754914ca7227749dcdbf1d7
    "scrolled": true
   },
   "outputs": [
    {
     "name": "stdout",
     "output_type": "stream",
     "text": [
      "Hello from ThirdClass\n"
     ]
    }
   ],
   "source": [
    "third_instance.welcome()"
   ]
  },
  {
   "cell_type": "markdown",
   "metadata": {},
   "source": [
    "实例third_instance调用welcome方法的实质为python将third_instance实例作为方法中的第一个参数self\n",
    "\n",
    "即 third_instance.welcome()等价于ThirdClass.welcome(third_instance)"
   ]
  },
  {
   "cell_type": "code",
<<<<<<< HEAD
   "execution_count": 63,
   "metadata": {},
=======
   "execution_count": 25,
   "metadata": {
    "execution": {
     "iopub.execute_input": "2020-06-15T01:40:09.947796Z",
     "iopub.status.busy": "2020-06-15T01:40:09.946798Z",
     "iopub.status.idle": "2020-06-15T01:40:09.957285Z",
     "shell.execute_reply": "2020-06-15T01:40:09.955773Z",
     "shell.execute_reply.started": "2020-06-15T01:40:09.947796Z"
    }
   },
>>>>>>> 778d2a8a55bb6aa62754914ca7227749dcdbf1d7
   "outputs": [
    {
     "name": "stdout",
     "output_type": "stream",
     "text": [
      "Hello from ThirdClass\n"
     ]
    }
   ],
   "source": [
    "ThirdClass.welcome(third_instance)"
   ]
  },
  {
   "cell_type": "markdown",
   "metadata": {},
   "source": [
    "进一步，对于可由实例继承的方法，在类中定义时第一个参数self表示传入实例，其他参数表示函数传入值，由此可像普通函数一样进行使用"
   ]
  },
  {
   "cell_type": "code",
<<<<<<< HEAD
   "execution_count": 64,
   "metadata": {
    "collapsed": true
=======
   "execution_count": 26,
   "metadata": {
    "execution": {
     "iopub.execute_input": "2020-06-15T01:40:10.835228Z",
     "iopub.status.busy": "2020-06-15T01:40:10.835228Z",
     "iopub.status.idle": "2020-06-15T01:40:10.841212Z",
     "shell.execute_reply": "2020-06-15T01:40:10.839218Z",
     "shell.execute_reply.started": "2020-06-15T01:40:10.835228Z"
    }
>>>>>>> 778d2a8a55bb6aa62754914ca7227749dcdbf1d7
   },
   "outputs": [],
   "source": [
    "class FourthClass:\n",
    "    def welcome(self,word):\n",
    "        print(word)"
   ]
  },
  {
   "cell_type": "code",
<<<<<<< HEAD
   "execution_count": 65,
   "metadata": {
    "collapsed": true
=======
   "execution_count": 27,
   "metadata": {
    "execution": {
     "iopub.execute_input": "2020-06-15T01:40:11.286538Z",
     "iopub.status.busy": "2020-06-15T01:40:11.286538Z",
     "iopub.status.idle": "2020-06-15T01:40:11.291519Z",
     "shell.execute_reply": "2020-06-15T01:40:11.291313Z",
     "shell.execute_reply.started": "2020-06-15T01:40:11.286538Z"
    }
>>>>>>> 778d2a8a55bb6aa62754914ca7227749dcdbf1d7
   },
   "outputs": [],
   "source": [
    "fourth_instance = FourthClass()"
   ]
  },
  {
   "cell_type": "code",
<<<<<<< HEAD
   "execution_count": 67,
   "metadata": {},
=======
   "execution_count": 28,
   "metadata": {
    "execution": {
     "iopub.execute_input": "2020-06-15T01:40:11.801603Z",
     "iopub.status.busy": "2020-06-15T01:40:11.801603Z",
     "iopub.status.idle": "2020-06-15T01:40:11.807558Z",
     "shell.execute_reply": "2020-06-15T01:40:11.807558Z",
     "shell.execute_reply.started": "2020-06-15T01:40:11.801603Z"
    }
   },
>>>>>>> 778d2a8a55bb6aa62754914ca7227749dcdbf1d7
   "outputs": [
    {
     "name": "stdout",
     "output_type": "stream",
     "text": [
      "hello, this is a instance method\n"
     ]
    }
   ],
   "source": [
    "fourth_instance.welcome('hello, this is a instance method')"
   ]
  },
  {
   "cell_type": "markdown",
   "metadata": {},
   "source": [
    "### 4. \\_\\_init\\_\\_"
   ]
  },
  {
   "cell_type": "markdown",
   "metadata": {},
   "source": [
    "#### 4.1 初始化方法：初始化实例的属性"
   ]
  },
  {
   "cell_type": "markdown",
   "metadata": {},
   "source": [
    "很多类都倾向于将对象创建为有初始状态的。因此类可能会定义一个名为 __init__() 的特殊方法（初始化方法）  \n",
    "当用类产生新的实例时，会首先运行\\_\\_init\\_\\_函数，由此可以利用\\_\\_init\\_\\_函数设置实例的默认属性"
   ]
  },
  {
   "cell_type": "code",
<<<<<<< HEAD
   "execution_count": 76,
   "metadata": {
    "collapsed": true
=======
   "execution_count": 30,
   "metadata": {
    "execution": {
     "iopub.execute_input": "2020-06-15T01:56:50.876663Z",
     "iopub.status.busy": "2020-06-15T01:56:50.876663Z",
     "iopub.status.idle": "2020-06-15T01:56:50.881651Z",
     "shell.execute_reply": "2020-06-15T01:56:50.880745Z",
     "shell.execute_reply.started": "2020-06-15T01:56:50.876663Z"
    }
>>>>>>> 778d2a8a55bb6aa62754914ca7227749dcdbf1d7
   },
   "outputs": [],
   "source": [
    "# 类的方法与普通的函数只有一个特别的区别——它们必须有一个额外的第一个参数名称, 按照惯例它的名称是 self\n",
    "# self代表类的实例，而非类\n",
    "\n",
    "class FifthClass:\n",
    "#     age = 10    \n",
    "    def __init__(self):\n",
    "        self.name = 'AQF course by FifthClass '       #属性是实例的属性；\n",
    "        self.language =  'python'"
   ]
  },
  {
   "cell_type": "code",
<<<<<<< HEAD
   "execution_count": 69,
   "metadata": {
    "collapsed": true
=======
   "execution_count": 31,
   "metadata": {
    "execution": {
     "iopub.execute_input": "2020-06-15T01:56:51.942719Z",
     "iopub.status.busy": "2020-06-15T01:56:51.941721Z",
     "iopub.status.idle": "2020-06-15T01:56:51.945767Z",
     "shell.execute_reply": "2020-06-15T01:56:51.945767Z",
     "shell.execute_reply.started": "2020-06-15T01:56:51.941721Z"
    }
>>>>>>> 778d2a8a55bb6aa62754914ca7227749dcdbf1d7
   },
   "outputs": [],
   "source": [
    "fifth_instance = FifthClass()         # 创建一个实例，该实例在创建时被默认赋予属性name"
   ]
  },
  {
   "cell_type": "code",
<<<<<<< HEAD
   "execution_count": 70,
   "metadata": {
    "scrolled": false
=======
   "execution_count": 32,
   "metadata": {
    "execution": {
     "iopub.execute_input": "2020-06-15T01:57:01.100036Z",
     "iopub.status.busy": "2020-06-15T01:57:01.100036Z",
     "iopub.status.idle": "2020-06-15T01:57:01.106020Z",
     "shell.execute_reply": "2020-06-15T01:57:01.105021Z",
     "shell.execute_reply.started": "2020-06-15T01:57:01.100036Z"
    }
>>>>>>> 778d2a8a55bb6aa62754914ca7227749dcdbf1d7
   },
   "outputs": [
    {
     "data": {
      "text/plain": [
       "'AQF course by FifthClass '"
      ]
     },
<<<<<<< HEAD
     "execution_count": 70,
=======
     "execution_count": 32,
>>>>>>> 778d2a8a55bb6aa62754914ca7227749dcdbf1d7
     "metadata": {},
     "output_type": "execute_result"
    }
   ],
   "source": [
    "fifth_instance.name"
   ]
  },
  {
   "cell_type": "code",
<<<<<<< HEAD
   "execution_count": 74,
   "metadata": {},
=======
   "execution_count": 33,
   "metadata": {
    "execution": {
     "iopub.execute_input": "2020-06-15T01:57:02.736696Z",
     "iopub.status.busy": "2020-06-15T01:57:02.736696Z",
     "iopub.status.idle": "2020-06-15T01:57:02.741800Z",
     "shell.execute_reply": "2020-06-15T01:57:02.741644Z",
     "shell.execute_reply.started": "2020-06-15T01:57:02.736696Z"
    }
   },
>>>>>>> 778d2a8a55bb6aa62754914ca7227749dcdbf1d7
   "outputs": [
    {
     "data": {
      "text/plain": [
<<<<<<< HEAD
       "{'language': 'python', 'name': 'AQF course by FifthClass '}"
      ]
     },
     "execution_count": 74,
=======
       "{'name': 'AQF course by FifthClass ', 'language': 'python'}"
      ]
     },
     "execution_count": 33,
>>>>>>> 778d2a8a55bb6aa62754914ca7227749dcdbf1d7
     "metadata": {},
     "output_type": "execute_result"
    }
   ],
   "source": [
    "fifth_instance.__dict__              #可以看到对象或者类的属性，以字典的形式呈现；"
   ]
  },
  {
   "cell_type": "code",
<<<<<<< HEAD
   "execution_count": 77,
   "metadata": {
=======
   "execution_count": 34,
   "metadata": {
    "execution": {
     "iopub.execute_input": "2020-06-15T01:57:09.134391Z",
     "iopub.status.busy": "2020-06-15T01:57:09.134391Z",
     "iopub.status.idle": "2020-06-15T01:57:09.139378Z",
     "shell.execute_reply": "2020-06-15T01:57:09.138732Z",
     "shell.execute_reply.started": "2020-06-15T01:57:09.134391Z"
    },
>>>>>>> 778d2a8a55bb6aa62754914ca7227749dcdbf1d7
    "scrolled": true
   },
   "outputs": [
    {
     "data": {
      "text/plain": [
       "dict_keys(['__module__', '__init__', '__dict__', '__weakref__', '__doc__'])"
      ]
     },
<<<<<<< HEAD
     "execution_count": 77,
=======
     "execution_count": 34,
>>>>>>> 778d2a8a55bb6aa62754914ca7227749dcdbf1d7
     "metadata": {},
     "output_type": "execute_result"
    }
   ],
   "source": [
    "FifthClass.__dict__.keys()            #__init__中name是对实例的初始化属性，跟类没有关系；"
   ]
  },
  {
   "cell_type": "markdown",
   "metadata": {},
   "source": [
    "可以在实例创建时完成对其某些属性的定义"
   ]
  },
  {
   "cell_type": "code",
<<<<<<< HEAD
   "execution_count": 79,
   "metadata": {
    "collapsed": true
=======
   "execution_count": 35,
   "metadata": {
    "execution": {
     "iopub.execute_input": "2020-06-15T01:57:54.699583Z",
     "iopub.status.busy": "2020-06-15T01:57:54.699583Z",
     "iopub.status.idle": "2020-06-15T01:57:54.722131Z",
     "shell.execute_reply": "2020-06-15T01:57:54.721857Z",
     "shell.execute_reply.started": "2020-06-15T01:57:54.699583Z"
    }
>>>>>>> 778d2a8a55bb6aa62754914ca7227749dcdbf1d7
   },
   "outputs": [],
   "source": [
    "class SixthClass():\n",
    "    def __init__(self, name, language):\n",
    "        self.name = name\n",
    "        self.language = language"
   ]
  },
  {
   "cell_type": "code",
<<<<<<< HEAD
   "execution_count": 80,
   "metadata": {
    "collapsed": true
=======
   "execution_count": 36,
   "metadata": {
    "execution": {
     "iopub.execute_input": "2020-06-15T01:57:56.056853Z",
     "iopub.status.busy": "2020-06-15T01:57:56.056853Z",
     "iopub.status.idle": "2020-06-15T01:57:56.073118Z",
     "shell.execute_reply": "2020-06-15T01:57:56.072591Z",
     "shell.execute_reply.started": "2020-06-15T01:57:56.056853Z"
    }
>>>>>>> 778d2a8a55bb6aa62754914ca7227749dcdbf1d7
   },
   "outputs": [],
   "source": [
    "sixth_instance = SixthClass('AQF course', 'python')"
   ]
  },
  {
   "cell_type": "code",
<<<<<<< HEAD
   "execution_count": 81,
   "metadata": {},
=======
   "execution_count": 37,
   "metadata": {
    "execution": {
     "iopub.execute_input": "2020-06-15T01:59:06.375753Z",
     "iopub.status.busy": "2020-06-15T01:59:06.374755Z",
     "iopub.status.idle": "2020-06-15T01:59:06.381736Z",
     "shell.execute_reply": "2020-06-15T01:59:06.380739Z",
     "shell.execute_reply.started": "2020-06-15T01:59:06.375753Z"
    }
   },
>>>>>>> 778d2a8a55bb6aa62754914ca7227749dcdbf1d7
   "outputs": [
    {
     "data": {
      "text/plain": [
       "'AQF course'"
      ]
     },
<<<<<<< HEAD
     "execution_count": 81,
=======
     "execution_count": 37,
>>>>>>> 778d2a8a55bb6aa62754914ca7227749dcdbf1d7
     "metadata": {},
     "output_type": "execute_result"
    }
   ],
   "source": [
    "sixth_instance.name"
   ]
  },
  {
   "cell_type": "code",
   "execution_count": 82,
   "metadata": {},
   "outputs": [
    {
     "data": {
      "text/plain": [
       "'python'"
      ]
     },
     "execution_count": 82,
     "metadata": {},
     "output_type": "execute_result"
    }
   ],
   "source": [
    "sixth_instance.language"
   ]
  },
  {
   "cell_type": "markdown",
   "metadata": {},
   "source": [
    "该种\\_\\_init\\_\\_函数写法如果在创建实例时不赋予参数值，那么将无法创建实例"
   ]
  },
  {
   "cell_type": "code",
<<<<<<< HEAD
   "execution_count": 83,
   "metadata": {
=======
   "execution_count": 38,
   "metadata": {
    "execution": {
     "iopub.execute_input": "2020-06-15T02:05:18.460104Z",
     "iopub.status.busy": "2020-06-15T02:05:18.459107Z",
     "iopub.status.idle": "2020-06-15T02:05:18.471585Z",
     "shell.execute_reply": "2020-06-15T02:05:18.470586Z",
     "shell.execute_reply.started": "2020-06-15T02:05:18.460104Z"
    },
>>>>>>> 778d2a8a55bb6aa62754914ca7227749dcdbf1d7
    "scrolled": true
   },
   "outputs": [
    {
     "ename": "TypeError",
     "evalue": "__init__() missing 2 required positional arguments: 'name' and 'language'",
     "output_type": "error",
     "traceback": [
<<<<<<< HEAD
      "\u001b[0;31m---------------------------------------------------------------------------\u001b[0m",
      "\u001b[0;31mTypeError\u001b[0m                                 Traceback (most recent call last)",
      "\u001b[0;32m<ipython-input-83-3761af392ac5>\u001b[0m in \u001b[0;36m<module>\u001b[0;34m()\u001b[0m\n\u001b[0;32m----> 1\u001b[0;31m \u001b[0mseventh_instance\u001b[0m \u001b[1;33m=\u001b[0m \u001b[0mSixthClass\u001b[0m\u001b[1;33m(\u001b[0m\u001b[1;33m)\u001b[0m\u001b[1;33m\u001b[0m\u001b[0m\n\u001b[0m",
      "\u001b[0;31mTypeError\u001b[0m: __init__() missing 2 required positional arguments: 'name' and 'language'"
=======
      "\u001b[1;31m---------------------------------------------------------------------------\u001b[0m",
      "\u001b[1;31mTypeError\u001b[0m                                 Traceback (most recent call last)",
      "\u001b[1;32m<ipython-input-38-3709f1554565>\u001b[0m in \u001b[0;36m<module>\u001b[1;34m\u001b[0m\n\u001b[1;32m----> 1\u001b[1;33m \u001b[0mseventh_instance\u001b[0m \u001b[1;33m=\u001b[0m \u001b[0mSixthClass\u001b[0m\u001b[1;33m(\u001b[0m\u001b[1;33m)\u001b[0m\u001b[1;33m\u001b[0m\u001b[1;33m\u001b[0m\u001b[0m\n\u001b[0m",
      "\u001b[1;31mTypeError\u001b[0m: __init__() missing 2 required positional arguments: 'name' and 'language'"
>>>>>>> 778d2a8a55bb6aa62754914ca7227749dcdbf1d7
     ]
    }
   ],
   "source": [
    "seventh_instance = SixthClass()"
   ]
  },
  {
   "cell_type": "markdown",
   "metadata": {},
   "source": [
    "可采用python 函数默认输入的方式对类进行定义"
   ]
  },
  {
   "cell_type": "code",
<<<<<<< HEAD
   "execution_count": 84,
   "metadata": {
    "collapsed": true
=======
   "execution_count": 39,
   "metadata": {
    "execution": {
     "iopub.execute_input": "2020-06-15T02:05:34.142787Z",
     "iopub.status.busy": "2020-06-15T02:05:34.142787Z",
     "iopub.status.idle": "2020-06-15T02:05:34.159182Z",
     "shell.execute_reply": "2020-06-15T02:05:34.158183Z",
     "shell.execute_reply.started": "2020-06-15T02:05:34.142787Z"
    }
>>>>>>> 778d2a8a55bb6aa62754914ca7227749dcdbf1d7
   },
   "outputs": [],
   "source": [
    "class SeventhClass:\n",
    "    def __init__(self, name='AQF course', language='python'):\n",
    "        self.name = name\n",
    "        self.language = language"
   ]
  },
  {
   "cell_type": "markdown",
   "metadata": {},
   "source": [
    "此种定义方法如果不输入name和language，则默认将‘AQF course’和‘python’设置为实例的name和language属性"
   ]
  },
  {
   "cell_type": "code",
<<<<<<< HEAD
   "execution_count": 89,
   "metadata": {
    "collapsed": true
=======
   "execution_count": 40,
   "metadata": {
    "execution": {
     "iopub.execute_input": "2020-06-15T02:05:36.848358Z",
     "iopub.status.busy": "2020-06-15T02:05:36.848358Z",
     "iopub.status.idle": "2020-06-15T02:05:36.852345Z",
     "shell.execute_reply": "2020-06-15T02:05:36.851792Z",
     "shell.execute_reply.started": "2020-06-15T02:05:36.848358Z"
    }
>>>>>>> 778d2a8a55bb6aa62754914ca7227749dcdbf1d7
   },
   "outputs": [],
   "source": [
    "eighth_instance = SeventhClass('CFA course')"
   ]
  },
  {
   "cell_type": "code",
<<<<<<< HEAD
   "execution_count": 90,
   "metadata": {},
=======
   "execution_count": 41,
   "metadata": {
    "execution": {
     "iopub.execute_input": "2020-06-15T02:05:41.832733Z",
     "iopub.status.busy": "2020-06-15T02:05:41.832733Z",
     "iopub.status.idle": "2020-06-15T02:05:41.841218Z",
     "shell.execute_reply": "2020-06-15T02:05:41.840711Z",
     "shell.execute_reply.started": "2020-06-15T02:05:41.832733Z"
    }
   },
>>>>>>> 778d2a8a55bb6aa62754914ca7227749dcdbf1d7
   "outputs": [
    {
     "data": {
      "text/plain": [
       "'CFA course'"
      ]
     },
<<<<<<< HEAD
     "execution_count": 90,
=======
     "execution_count": 41,
>>>>>>> 778d2a8a55bb6aa62754914ca7227749dcdbf1d7
     "metadata": {},
     "output_type": "execute_result"
    }
   ],
   "source": [
    "eighth_instance.name"
   ]
  },
  {
   "cell_type": "code",
<<<<<<< HEAD
   "execution_count": 91,
   "metadata": {},
=======
   "execution_count": 42,
   "metadata": {
    "execution": {
     "iopub.execute_input": "2020-06-15T02:05:43.034845Z",
     "iopub.status.busy": "2020-06-15T02:05:43.033857Z",
     "iopub.status.idle": "2020-06-15T02:05:43.042824Z",
     "shell.execute_reply": "2020-06-15T02:05:43.041796Z",
     "shell.execute_reply.started": "2020-06-15T02:05:43.034845Z"
    }
   },
>>>>>>> 778d2a8a55bb6aa62754914ca7227749dcdbf1d7
   "outputs": [
    {
     "data": {
      "text/plain": [
       "'python'"
      ]
     },
<<<<<<< HEAD
     "execution_count": 91,
=======
     "execution_count": 42,
>>>>>>> 778d2a8a55bb6aa62754914ca7227749dcdbf1d7
     "metadata": {},
     "output_type": "execute_result"
    }
   ],
   "source": [
    "eighth_instance.language"
   ]
  },
  {
   "cell_type": "markdown",
   "metadata": {},
   "source": [
    "#### 4.2 面向对象实例"
   ]
  },
  {
   "cell_type": "markdown",
   "metadata": {},
   "source": [
    "** 实例1 **"
   ]
  },
  {
   "cell_type": "code",
<<<<<<< HEAD
   "execution_count": 92,
   "metadata": {
    "collapsed": true
=======
   "execution_count": 43,
   "metadata": {
    "execution": {
     "iopub.execute_input": "2020-06-15T02:10:52.744224Z",
     "iopub.status.busy": "2020-06-15T02:10:52.744224Z",
     "iopub.status.idle": "2020-06-15T02:10:52.750249Z",
     "shell.execute_reply": "2020-06-15T02:10:52.750249Z",
     "shell.execute_reply.started": "2020-06-15T02:10:52.744224Z"
    }
>>>>>>> 778d2a8a55bb6aa62754914ca7227749dcdbf1d7
   },
   "outputs": [],
   "source": [
    "class People():\n",
    "    #定义类的属性\n",
    "    name = ''\n",
    "    age = 0\n",
    "    #定义初始化函数；\n",
    "    def __init__(self,n,a):   # 初始化方法；对实例的初始化；\n",
    "        self.name = n         # 实例的属性\n",
    "        self.age = a\n",
    "    def speak(self):\n",
    "        print(\"%s: I'm %d years old.\" %(self.name,self.age))"
   ]
  },
  {
   "cell_type": "code",
<<<<<<< HEAD
   "execution_count": 93,
   "metadata": {},
=======
   "execution_count": 44,
   "metadata": {
    "execution": {
     "iopub.execute_input": "2020-06-15T02:10:53.432232Z",
     "iopub.status.busy": "2020-06-15T02:10:53.432232Z",
     "iopub.status.idle": "2020-06-15T02:10:53.438219Z",
     "shell.execute_reply": "2020-06-15T02:10:53.437221Z",
     "shell.execute_reply.started": "2020-06-15T02:10:53.432232Z"
    }
   },
>>>>>>> 778d2a8a55bb6aa62754914ca7227749dcdbf1d7
   "outputs": [
    {
     "name": "stdout",
     "output_type": "stream",
     "text": [
      "Robin: I'm 10 years old.\n"
     ]
    }
   ],
   "source": [
    "p = People('Robin',10)      #实例化的过程；\n",
    "p.speak()"
   ]
  },
  {
   "cell_type": "code",
   "execution_count": 95,
   "metadata": {},
   "outputs": [
    {
     "data": {
      "text/plain": [
       "'Robin'"
      ]
     },
     "execution_count": 95,
     "metadata": {},
     "output_type": "execute_result"
    }
   ],
   "source": [
    "p.name"
   ]
  },
  {
   "cell_type": "code",
   "execution_count": 96,
   "metadata": {},
   "outputs": [
    {
     "data": {
      "text/plain": [
       "{'age': 10, 'name': 'Robin'}"
      ]
     },
     "execution_count": 96,
     "metadata": {},
     "output_type": "execute_result"
    }
   ],
   "source": [
    "p.__dict__"
   ]
  },
  {
   "cell_type": "code",
   "execution_count": 97,
   "metadata": {},
   "outputs": [
    {
     "data": {
      "text/plain": [
       "mappingproxy({'__dict__': <attribute '__dict__' of 'People' objects>,\n",
       "              '__doc__': None,\n",
       "              '__init__': <function __main__.People.__init__>,\n",
       "              '__module__': '__main__',\n",
       "              '__weakref__': <attribute '__weakref__' of 'People' objects>,\n",
       "              'age': 0,\n",
       "              'name': '',\n",
       "              'speak': <function __main__.People.speak>})"
      ]
     },
     "execution_count": 97,
     "metadata": {},
     "output_type": "execute_result"
    }
   ],
   "source": [
    "People.__dict__"
   ]
  },
  {
   "cell_type": "markdown",
   "metadata": {},
   "source": [
    "** 实例2 **"
   ]
  },
  {
   "cell_type": "code",
   "execution_count": 99,
   "metadata": {
<<<<<<< HEAD
    "collapsed": true
=======
    "collapsed": true,
    "jupyter": {
     "outputs_hidden": true
    }
>>>>>>> 778d2a8a55bb6aa62754914ca7227749dcdbf1d7
   },
   "outputs": [],
   "source": [
    "class Dog():\n",
    "    def __init__(self, name, age):\n",
    "        self.name = name\n",
    "        self.age = age\n",
    "    \n",
    "    def sit(self):\n",
    "        print(self.name.title() + ' is sitting now.')\n",
    "        \n",
    "    def roll(self):\n",
    "        print(self.name.title() + ' is rolling now.')"
   ]
  },
  {
   "cell_type": "code",
   "execution_count": 100,
   "metadata": {},
   "outputs": [],
   "source": [
    "my_dog = Dog('Robin', 5)"
   ]
  },
  {
   "cell_type": "code",
   "execution_count": 101,
   "metadata": {},
   "outputs": [
    {
     "data": {
      "text/plain": [
       "'Robin'"
      ]
     },
     "execution_count": 101,
     "metadata": {},
     "output_type": "execute_result"
    }
   ],
   "source": [
    "my_dog.name"
   ]
  },
  {
   "cell_type": "code",
   "execution_count": 102,
   "metadata": {},
   "outputs": [
    {
     "name": "stdout",
     "output_type": "stream",
     "text": [
      "Robin is sitting now.\n"
     ]
    }
   ],
   "source": [
    "my_dog.sit()"
   ]
  },
  {
   "cell_type": "code",
   "execution_count": 104,
   "metadata": {
<<<<<<< HEAD
    "collapsed": true
=======
    "collapsed": true,
    "jupyter": {
     "outputs_hidden": true
    }
>>>>>>> 778d2a8a55bb6aa62754914ca7227749dcdbf1d7
   },
   "outputs": [],
   "source": [
    "your_dog = Dog('william',6)"
   ]
  },
  {
   "cell_type": "code",
   "execution_count": 105,
   "metadata": {},
   "outputs": [
    {
     "name": "stdout",
     "output_type": "stream",
     "text": [
      "William is rolling now.\n"
     ]
    }
   ],
   "source": [
    "your_dog.roll()"
   ]
  },
  {
   "cell_type": "markdown",
   "metadata": {},
   "source": [
    "** 实例3 **"
   ]
  },
  {
   "cell_type": "code",
   "execution_count": 106,
   "metadata": {
<<<<<<< HEAD
    "collapsed": true
=======
    "collapsed": true,
    "jupyter": {
     "outputs_hidden": true
    }
>>>>>>> 778d2a8a55bb6aa62754914ca7227749dcdbf1d7
   },
   "outputs": [],
   "source": [
    "class Car():\n",
    "    def __init__(self, brand, model, year):\n",
    "        self.brand = brand\n",
    "        self.model = model\n",
    "        self.year = year\n",
    "        \n",
    "    def get_info(self):\n",
    "        car_info = str(self.year) + ' '+ self.brand + ' ' + self.model\n",
    "        return car_info"
   ]
  },
  {
   "cell_type": "code",
   "execution_count": 107,
   "metadata": {},
   "outputs": [],
   "source": [
    "my_car = Car('BMW','X5',2017)"
   ]
  },
  {
   "cell_type": "code",
   "execution_count": 108,
   "metadata": {},
   "outputs": [
    {
     "data": {
      "text/plain": [
       "'BMW'"
      ]
     },
     "execution_count": 108,
     "metadata": {},
     "output_type": "execute_result"
    }
   ],
   "source": [
    "my_car.brand"
   ]
  },
  {
   "cell_type": "code",
   "execution_count": 109,
   "metadata": {},
   "outputs": [
    {
     "data": {
      "text/plain": [
       "'2017 BMW X5'"
      ]
     },
     "execution_count": 109,
     "metadata": {},
     "output_type": "execute_result"
    }
   ],
   "source": [
    "my_car.get_info()"
   ]
  },
  {
   "cell_type": "code",
   "execution_count": 110,
   "metadata": {
<<<<<<< HEAD
    "collapsed": true
=======
    "collapsed": true,
    "jupyter": {
     "outputs_hidden": true
    }
>>>>>>> 778d2a8a55bb6aa62754914ca7227749dcdbf1d7
   },
   "outputs": [],
   "source": [
    "class Car():\n",
    "    def __init__(self, brand, model, year):\n",
    "        self.brand = brand\n",
    "        self.model = model\n",
    "        self.year = year\n",
    "        self.miles = 0\n",
    "        \n",
    "    def get_info(self):\n",
    "        car_info = str(self.year) + ' '+ self.brand + ' ' + self.model\n",
    "        return car_info\n",
    "    \n",
    "    def get_miles(self):\n",
<<<<<<< HEAD
    "        print ('This car has runned ' + str(self.miles) + ' miles')    "
=======
    "        print ('This car has runned ' + str(self.miles) + ' miles')  \n",
    "#不是一个好的方法，因为直接修改了实例的属性\n"
>>>>>>> 778d2a8a55bb6aa62754914ca7227749dcdbf1d7
   ]
  },
  {
   "cell_type": "code",
   "execution_count": 111,
   "metadata": {},
   "outputs": [],
   "source": [
    "my_car = Car('BMW','X5',2017)"
   ]
  },
  {
   "cell_type": "code",
   "execution_count": 112,
   "metadata": {},
   "outputs": [
    {
     "name": "stdout",
     "output_type": "stream",
     "text": [
      "This car has runned 0 miles\n"
     ]
    }
   ],
   "source": [
    "my_car.get_miles()"
   ]
  },
  {
   "cell_type": "code",
   "execution_count": 113,
   "metadata": {
<<<<<<< HEAD
    "collapsed": true
=======
    "collapsed": true,
    "jupyter": {
     "outputs_hidden": true
    }
>>>>>>> 778d2a8a55bb6aa62754914ca7227749dcdbf1d7
   },
   "outputs": [],
   "source": [
    "my_car.miles = 60"
   ]
  },
  {
   "cell_type": "code",
   "execution_count": 114,
   "metadata": {},
   "outputs": [
    {
     "name": "stdout",
     "output_type": "stream",
     "text": [
      "This car has runned 60 miles\n"
     ]
    }
   ],
   "source": [
    "my_car.get_miles()"
   ]
  },
  {
   "cell_type": "code",
<<<<<<< HEAD
   "execution_count": 115,
   "metadata": {
    "collapsed": true
=======
   "execution_count": 57,
   "metadata": {
    "execution": {
     "iopub.execute_input": "2020-06-15T03:29:09.531946Z",
     "iopub.status.busy": "2020-06-15T03:29:09.530946Z",
     "iopub.status.idle": "2020-06-15T03:29:09.538259Z",
     "shell.execute_reply": "2020-06-15T03:29:09.537928Z",
     "shell.execute_reply.started": "2020-06-15T03:29:09.531946Z"
    }
>>>>>>> 778d2a8a55bb6aa62754914ca7227749dcdbf1d7
   },
   "outputs": [],
   "source": [
    "class Car():\n",
    "    def __init__(self, brand, model, year):\n",
    "        self.brand = brand\n",
    "        self.model = model\n",
    "        self.year = year\n",
    "        self.miles = 0\n",
    "        \n",
    "    def get_info(self):\n",
    "        car_info = str(self.year) + ' '+ self.brand + ' ' + self.model\n",
    "        return car_info\n",
    "    \n",
    "    def get_miles(self):\n",
    "        print ('This car has runned ' + str(self.miles) + ' miles')\n",
<<<<<<< HEAD
    "    \n",
=======
    "        \n",
    "    #通过方法修改对象的属性\n",
>>>>>>> 778d2a8a55bb6aa62754914ca7227749dcdbf1d7
    "    def set_miles(self, miles):\n",
    "        self.miles = miles"
   ]
  },
  {
   "cell_type": "code",
<<<<<<< HEAD
   "execution_count": 116,
   "metadata": {
    "collapsed": true
=======
   "execution_count": 58,
   "metadata": {
    "execution": {
     "iopub.execute_input": "2020-06-15T03:29:11.979071Z",
     "iopub.status.busy": "2020-06-15T03:29:11.979071Z",
     "iopub.status.idle": "2020-06-15T03:29:11.984086Z",
     "shell.execute_reply": "2020-06-15T03:29:11.983262Z",
     "shell.execute_reply.started": "2020-06-15T03:29:11.979071Z"
    }
>>>>>>> 778d2a8a55bb6aa62754914ca7227749dcdbf1d7
   },
   "outputs": [],
   "source": [
    "my_new_car = Car('BMW','X5',2017)"
   ]
  },
  {
   "cell_type": "code",
<<<<<<< HEAD
   "execution_count": 117,
   "metadata": {},
=======
   "execution_count": 59,
   "metadata": {
    "execution": {
     "iopub.execute_input": "2020-06-15T03:29:12.523533Z",
     "iopub.status.busy": "2020-06-15T03:29:12.523533Z",
     "iopub.status.idle": "2020-06-15T03:29:12.528461Z",
     "shell.execute_reply": "2020-06-15T03:29:12.527500Z",
     "shell.execute_reply.started": "2020-06-15T03:29:12.523533Z"
    }
   },
>>>>>>> 778d2a8a55bb6aa62754914ca7227749dcdbf1d7
   "outputs": [
    {
     "name": "stdout",
     "output_type": "stream",
     "text": [
      "This car has runned 0 miles\n"
     ]
    }
   ],
   "source": [
    "my_new_car.get_miles()"
   ]
  },
  {
   "cell_type": "code",
<<<<<<< HEAD
   "execution_count": 120,
   "metadata": {
    "collapsed": true
=======
   "execution_count": 60,
   "metadata": {
    "execution": {
     "iopub.execute_input": "2020-06-15T03:29:13.287071Z",
     "iopub.status.busy": "2020-06-15T03:29:13.287071Z",
     "iopub.status.idle": "2020-06-15T03:29:13.292059Z",
     "shell.execute_reply": "2020-06-15T03:29:13.291091Z",
     "shell.execute_reply.started": "2020-06-15T03:29:13.287071Z"
    }
>>>>>>> 778d2a8a55bb6aa62754914ca7227749dcdbf1d7
   },
   "outputs": [],
   "source": [
    "my_new_car.set_miles(70)"
   ]
  },
  {
   "cell_type": "code",
<<<<<<< HEAD
   "execution_count": 121,
   "metadata": {},
=======
   "execution_count": 61,
   "metadata": {
    "execution": {
     "iopub.execute_input": "2020-06-15T03:29:14.850190Z",
     "iopub.status.busy": "2020-06-15T03:29:14.849192Z",
     "iopub.status.idle": "2020-06-15T03:29:14.855176Z",
     "shell.execute_reply": "2020-06-15T03:29:14.854181Z",
     "shell.execute_reply.started": "2020-06-15T03:29:14.849192Z"
    }
   },
>>>>>>> 778d2a8a55bb6aa62754914ca7227749dcdbf1d7
   "outputs": [
    {
     "name": "stdout",
     "output_type": "stream",
     "text": [
      "This car has runned 70 miles\n"
     ]
    }
   ],
   "source": [
    "my_new_car.get_miles()"
   ]
  },
  {
   "cell_type": "code",
<<<<<<< HEAD
   "execution_count": 127,
   "metadata": {},
=======
   "execution_count": 62,
   "metadata": {
    "execution": {
     "iopub.execute_input": "2020-06-15T03:30:54.040217Z",
     "iopub.status.busy": "2020-06-15T03:30:54.039220Z",
     "iopub.status.idle": "2020-06-15T03:30:54.049194Z",
     "shell.execute_reply": "2020-06-15T03:30:54.049194Z",
     "shell.execute_reply.started": "2020-06-15T03:30:54.040217Z"
    }
   },
>>>>>>> 778d2a8a55bb6aa62754914ca7227749dcdbf1d7
   "outputs": [],
   "source": [
    "class Car():\n",
    "    def __init__(self, brand, model, year):\n",
    "        self.brand = brand\n",
    "        self.model = model\n",
    "        self.year = year\n",
    "        self.miles = 0\n",
    "        \n",
    "    def get_info(self):\n",
    "        car_info = str(self.year) + ' '+ self.brand + ' ' + self.model\n",
    "        return car_info\n",
    "    \n",
    "    def get_miles(self):\n",
    "        print ('This car has runned ' + str(self.miles) + ' miles')\n",
    "    \n",
    "    def set_miles(self, miles):\n",
    "        if self.miles < miles:\n",
    "            self.miles = miles\n",
    "        else:\n",
<<<<<<< HEAD
    "            print(\"You cann't roll back the miles\")"
=======
    "            print(\"You cann't roll back the miles\")   #不能回调里程数"
>>>>>>> 778d2a8a55bb6aa62754914ca7227749dcdbf1d7
   ]
  },
  {
   "cell_type": "code",
<<<<<<< HEAD
   "execution_count": 128,
   "metadata": {
    "collapsed": true
=======
   "execution_count": 63,
   "metadata": {
    "execution": {
     "iopub.execute_input": "2020-06-15T03:30:54.587754Z",
     "iopub.status.busy": "2020-06-15T03:30:54.586756Z",
     "iopub.status.idle": "2020-06-15T03:30:54.592739Z",
     "shell.execute_reply": "2020-06-15T03:30:54.591774Z",
     "shell.execute_reply.started": "2020-06-15T03:30:54.587754Z"
    }
>>>>>>> 778d2a8a55bb6aa62754914ca7227749dcdbf1d7
   },
   "outputs": [],
   "source": [
    "my_new_car = Car('BMW','X5',2017)"
   ]
  },
  {
   "cell_type": "code",
<<<<<<< HEAD
   "execution_count": 129,
   "metadata": {},
=======
   "execution_count": 64,
   "metadata": {
    "execution": {
     "iopub.execute_input": "2020-06-15T03:30:55.054533Z",
     "iopub.status.busy": "2020-06-15T03:30:55.054533Z",
     "iopub.status.idle": "2020-06-15T03:30:55.059491Z",
     "shell.execute_reply": "2020-06-15T03:30:55.058532Z",
     "shell.execute_reply.started": "2020-06-15T03:30:55.054533Z"
    }
   },
>>>>>>> 778d2a8a55bb6aa62754914ca7227749dcdbf1d7
   "outputs": [
    {
     "name": "stdout",
     "output_type": "stream",
     "text": [
      "This car has runned 0 miles\n"
     ]
    }
   ],
   "source": [
    "my_new_car.get_miles()"
   ]
  },
  {
   "cell_type": "code",
<<<<<<< HEAD
   "execution_count": 134,
   "metadata": {},
=======
   "execution_count": 67,
   "metadata": {
    "execution": {
     "iopub.execute_input": "2020-06-15T03:31:01.644459Z",
     "iopub.status.busy": "2020-06-15T03:31:01.644459Z",
     "iopub.status.idle": "2020-06-15T03:31:01.648448Z",
     "shell.execute_reply": "2020-06-15T03:31:01.648224Z",
     "shell.execute_reply.started": "2020-06-15T03:31:01.644459Z"
    }
   },
>>>>>>> 778d2a8a55bb6aa62754914ca7227749dcdbf1d7
   "outputs": [
    {
     "name": "stdout",
     "output_type": "stream",
     "text": [
      "You cann't roll back the miles\n"
     ]
    }
   ],
   "source": [
<<<<<<< HEAD
    "my_new_car.set_miles(80)"
=======
    "my_new_car.set_miles(10)"
>>>>>>> 778d2a8a55bb6aa62754914ca7227749dcdbf1d7
   ]
  },
  {
   "cell_type": "code",
<<<<<<< HEAD
   "execution_count": 135,
   "metadata": {},
=======
   "execution_count": 66,
   "metadata": {
    "execution": {
     "iopub.execute_input": "2020-06-15T03:30:56.446489Z",
     "iopub.status.busy": "2020-06-15T03:30:56.446489Z",
     "iopub.status.idle": "2020-06-15T03:30:56.451477Z",
     "shell.execute_reply": "2020-06-15T03:30:56.451152Z",
     "shell.execute_reply.started": "2020-06-15T03:30:56.446489Z"
    }
   },
>>>>>>> 778d2a8a55bb6aa62754914ca7227749dcdbf1d7
   "outputs": [
    {
     "name": "stdout",
     "output_type": "stream",
     "text": [
<<<<<<< HEAD
      "This car has runned 120 miles\n"
=======
      "This car has runned 100 miles\n"
>>>>>>> 778d2a8a55bb6aa62754914ca7227749dcdbf1d7
     ]
    }
   ],
   "source": [
    "my_new_car.get_miles()"
   ]
  },
  {
   "cell_type": "markdown",
   "metadata": {},
   "source": [
    "#### 实例4"
   ]
  },
  {
   "cell_type": "code",
   "execution_count": 136,
   "metadata": {
<<<<<<< HEAD
    "collapsed": true
=======
    "collapsed": true,
    "jupyter": {
     "outputs_hidden": true
    }
>>>>>>> 778d2a8a55bb6aa62754914ca7227749dcdbf1d7
   },
   "outputs": [],
   "source": [
    "class Garen:                                          #定义英雄盖伦的类，不同的玩家可以用它实例出自己英雄;\n",
    "    camp='Demacia'                                    #所有玩家的英雄(盖伦)的阵营都是Demacia;\n",
    "    def __init__(self,name,damage=60,life_value=570): #英雄的初始攻击力58...;\n",
    "        self.name=name                                #为自己的盖伦起个名;\n",
    "        self.damage=damage                            #英雄都有自己的攻击力;\n",
    "        self.life_value=life_value                    #英雄都有自己的生命值;\n",
    "    def attack(self,enemy):                           #普通攻击技能，enemy是敌人;\n",
    "        enemy.life_value -= self.damage               #根据自己的攻击力，攻击敌人就用敌人的生命值减攻击力。\n",
    "\n",
    "\n",
    "class Riven:\n",
    "    camp='Noxus'                                                #所有玩家的英雄(锐雯)的阵营都是Noxus;\n",
    "    def __init__(self,name,damage=80,life_value=500):           #英雄的初始攻击力54;\n",
    "        self.name=name                                          #为自己的锐雯起个别名;\n",
    "        self.damage=damage                                      #英雄都有自己的攻击力;\n",
    "        self.life_value=life_value                              #英雄都有自己的生命值;\n",
    "    def attack(self,enemy):                                     #普通攻击技能，enemy是敌人;\n",
    "        enemy.life_value -= self.damage                         #根据自己的攻击力，攻击敌人就用敌人的生命值减攻击力。\n",
    "\n",
    "\n",
    "g1=Garen('盖伦')  \n",
    "r1=Riven('瑞雯')"
   ]
  },
  {
   "cell_type": "code",
   "execution_count": 137,
   "metadata": {},
   "outputs": [
    {
     "name": "stdout",
     "output_type": "stream",
     "text": [
      "570\n"
     ]
    }
   ],
   "source": [
    "print(g1.life_value)"
   ]
  },
  {
   "cell_type": "code",
   "execution_count": null,
   "metadata": {
<<<<<<< HEAD
    "collapsed": true
=======
    "collapsed": true,
    "jupyter": {
     "outputs_hidden": true
    }
>>>>>>> 778d2a8a55bb6aa62754914ca7227749dcdbf1d7
   },
   "outputs": [],
   "source": [
    "class Garen:                                          #定义英雄盖伦的类，不同的玩家可以用它实例出自己英雄;\n",
    "    camp='Demacia'                                    #所有玩家的英雄(盖伦)的阵营都是Demacia;\n",
    "    def __init__(self,name,damage=60,life_value=570): #英雄的初始攻击力58...;\n",
    "        self.name=name                                #为自己的盖伦起个名;\n",
    "        self.damage=damage                            #英雄都有自己的攻击力;\n",
    "        self.life_value=life_value                    #英雄都有自己的生命值;\n",
    "    def attack(self,enemy):                           #普通攻击技能，enemy是敌人;\n",
    "        enemy.life_value -= self.damage               #根据自己的攻击力，攻击敌人就用敌人的生命值减攻击力。\n",
    "\n",
    "\n",
    "class Riven:\n",
    "    camp='Noxus'                                                #所有玩家的英雄(锐雯)的阵营都是Noxus;\n",
    "    def __init__(self,name,damage=80,life_value=500):           #英雄的初始攻击力54;\n",
    "        self.name=name                                          #为自己的锐雯起个别名;\n",
    "        self.damage=damage                                      #英雄都有自己的攻击力;\n",
    "        self.life_value=life_value                              #英雄都有自己的生命值;\n",
    "    def attack(self,enemy):                                     #普通攻击技能，enemy是敌人;\n",
    "        enemy.life_value -= self.damage                         #根据自己的攻击力，攻击敌人就用敌人的生命值减攻击力。\n",
    "\n",
    "\n",
    "g1=Garen('盖伦')  \n",
    "r1=Riven('瑞雯')\n"
   ]
  },
  {
   "cell_type": "code",
   "execution_count": 138,
   "metadata": {},
   "outputs": [
    {
     "name": "stdout",
     "output_type": "stream",
     "text": [
      "570\n"
     ]
    }
   ],
   "source": [
    "print(g1.life_value)"
   ]
  },
  {
   "cell_type": "code",
   "execution_count": 139,
   "metadata": {
<<<<<<< HEAD
    "collapsed": true
=======
    "collapsed": true,
    "jupyter": {
     "outputs_hidden": true
    }
>>>>>>> 778d2a8a55bb6aa62754914ca7227749dcdbf1d7
   },
   "outputs": [],
   "source": [
    "r1.attack(g1)                                                   #对象交互,瑞雯攻击盖伦"
   ]
  },
  {
   "cell_type": "code",
   "execution_count": 140,
   "metadata": {},
   "outputs": [
    {
     "name": "stdout",
     "output_type": "stream",
     "text": [
      "490\n"
     ]
    }
   ],
   "source": [
    "print(g1.life_value)"
   ]
  },
  {
   "cell_type": "code",
   "execution_count": 143,
   "metadata": {},
   "outputs": [
    {
     "data": {
      "text/plain": [
       "__main__.Garen"
      ]
     },
     "execution_count": 143,
     "metadata": {},
     "output_type": "execute_result"
    }
   ],
   "source": [
    "type(g1)"
   ]
  },
  {
   "cell_type": "markdown",
   "metadata": {},
   "source": [
    "#### 4.3 Python中一切都是对象"
   ]
  },
  {
   "cell_type": "markdown",
   "metadata": {},
   "source": [
    "** 其他类的专有方法：**  \n",
    "\\_\\_init\\_\\_ : 构造函数，在生成对象时调用  \n",
    "\\_\\_del\\_\\_ : 析构函数，释放对象时使用  \n",
    "\\_\\_dict\\_\\_ : 显示对象的属性  \n",
    "\\_\\_repr\\_\\_ : 打印，转换  \n",
    "\\_\\_setitem\\_\\_ : 按照索引赋值  \n",
    "\\_\\_getitem\\_\\_: 按照索引获取值  \n",
    "\\_\\_len\\_\\_: 获得长度  \n",
    "\\_\\_cmp\\_\\_: 比较运算  \n",
    "\\_\\_add\\_\\_: 加运算  \n",
    "\\_\\_sub\\_\\_: 减运算  \n",
    "…… "
   ]
  },
  {
   "cell_type": "code",
<<<<<<< HEAD
   "execution_count": 141,
   "metadata": {},
=======
   "execution_count": 68,
   "metadata": {
    "execution": {
     "iopub.execute_input": "2020-06-15T04:04:07.343589Z",
     "iopub.status.busy": "2020-06-15T04:04:07.343589Z",
     "iopub.status.idle": "2020-06-15T04:04:07.351566Z",
     "shell.execute_reply": "2020-06-15T04:04:07.350354Z",
     "shell.execute_reply.started": "2020-06-15T04:04:07.343589Z"
    }
   },
>>>>>>> 778d2a8a55bb6aa62754914ca7227749dcdbf1d7
   "outputs": [],
   "source": [
    "l = [1,2,3,4,5,6,7,8,9]      #list类，l是属于list类的一个具体的实例；"
   ]
  },
  {
   "cell_type": "code",
<<<<<<< HEAD
   "execution_count": 142,
   "metadata": {},
=======
   "execution_count": 69,
   "metadata": {
    "execution": {
     "iopub.execute_input": "2020-06-15T04:04:07.858217Z",
     "iopub.status.busy": "2020-06-15T04:04:07.858217Z",
     "iopub.status.idle": "2020-06-15T04:04:07.870180Z",
     "shell.execute_reply": "2020-06-15T04:04:07.869182Z",
     "shell.execute_reply.started": "2020-06-15T04:04:07.858217Z"
    }
   },
>>>>>>> 778d2a8a55bb6aa62754914ca7227749dcdbf1d7
   "outputs": [
    {
     "data": {
      "text/plain": [
       "list"
      ]
     },
<<<<<<< HEAD
     "execution_count": 142,
=======
     "execution_count": 69,
>>>>>>> 778d2a8a55bb6aa62754914ca7227749dcdbf1d7
     "metadata": {},
     "output_type": "execute_result"
    }
   ],
   "source": [
    "type(l)"
   ]
  },
  {
   "cell_type": "code",
<<<<<<< HEAD
   "execution_count": 149,
   "metadata": {},
=======
   "execution_count": 70,
   "metadata": {
    "execution": {
     "iopub.execute_input": "2020-06-15T04:04:08.654311Z",
     "iopub.status.busy": "2020-06-15T04:04:08.654311Z",
     "iopub.status.idle": "2020-06-15T04:04:08.662443Z",
     "shell.execute_reply": "2020-06-15T04:04:08.661489Z",
     "shell.execute_reply.started": "2020-06-15T04:04:08.654311Z"
    }
   },
>>>>>>> 778d2a8a55bb6aa62754914ca7227749dcdbf1d7
   "outputs": [
    {
     "data": {
      "text/plain": [
       "9"
      ]
     },
<<<<<<< HEAD
     "execution_count": 149,
=======
     "execution_count": 70,
>>>>>>> 778d2a8a55bb6aa62754914ca7227749dcdbf1d7
     "metadata": {},
     "output_type": "execute_result"
    }
   ],
   "source": [
    "len(l)"
   ]
  },
  {
   "cell_type": "code",
<<<<<<< HEAD
=======
   "execution_count": 71,
   "metadata": {
    "execution": {
     "iopub.execute_input": "2020-06-15T04:04:24.334258Z",
     "iopub.status.busy": "2020-06-15T04:04:24.334258Z",
     "iopub.status.idle": "2020-06-15T04:04:24.368888Z",
     "shell.execute_reply": "2020-06-15T04:04:24.367918Z",
     "shell.execute_reply.started": "2020-06-15T04:04:24.334258Z"
    }
   },
   "outputs": [
    {
     "ename": "AttributeError",
     "evalue": "'list' object has no attribute '__dict__'",
     "output_type": "error",
     "traceback": [
      "\u001b[1;31m---------------------------------------------------------------------------\u001b[0m",
      "\u001b[1;31mAttributeError\u001b[0m                            Traceback (most recent call last)",
      "\u001b[1;32m<ipython-input-71-d4123f217e39>\u001b[0m in \u001b[0;36m<module>\u001b[1;34m\u001b[0m\n\u001b[1;32m----> 1\u001b[1;33m \u001b[0ml\u001b[0m\u001b[1;33m.\u001b[0m\u001b[0m__dict__\u001b[0m\u001b[1;33m(\u001b[0m\u001b[1;33m)\u001b[0m\u001b[1;33m\u001b[0m\u001b[1;33m\u001b[0m\u001b[0m\n\u001b[0m",
      "\u001b[1;31mAttributeError\u001b[0m: 'list' object has no attribute '__dict__'"
     ]
    }
   ],
   "source": [
    "l.__dict__()  #为什么这里l没有__dict__的方法"
   ]
  },
  {
   "cell_type": "code",
>>>>>>> 778d2a8a55bb6aa62754914ca7227749dcdbf1d7
   "execution_count": 150,
   "metadata": {},
   "outputs": [
    {
     "data": {
      "text/plain": [
       "9"
      ]
     },
     "execution_count": 150,
     "metadata": {},
     "output_type": "execute_result"
    }
   ],
   "source": [
    "l.__len__()"
   ]
  },
  {
   "cell_type": "code",
   "execution_count": 152,
   "metadata": {},
   "outputs": [
    {
     "data": {
      "text/plain": [
       "['__add__',\n",
       " '__class__',\n",
       " '__contains__',\n",
       " '__delattr__',\n",
       " '__delitem__',\n",
       " '__dir__',\n",
       " '__doc__',\n",
       " '__eq__',\n",
       " '__format__',\n",
       " '__ge__',\n",
       " '__getattribute__',\n",
       " '__getitem__',\n",
       " '__gt__',\n",
       " '__hash__',\n",
       " '__iadd__',\n",
       " '__imul__',\n",
       " '__init__',\n",
       " '__init_subclass__',\n",
       " '__iter__',\n",
       " '__le__',\n",
       " '__len__',\n",
       " '__lt__',\n",
       " '__mul__',\n",
       " '__ne__',\n",
       " '__new__',\n",
       " '__reduce__',\n",
       " '__reduce_ex__',\n",
       " '__repr__',\n",
       " '__reversed__',\n",
       " '__rmul__',\n",
       " '__setattr__',\n",
       " '__setitem__',\n",
       " '__sizeof__',\n",
       " '__str__',\n",
       " '__subclasshook__',\n",
       " 'append',\n",
       " 'clear',\n",
       " 'copy',\n",
       " 'count',\n",
       " 'extend',\n",
       " 'index',\n",
       " 'insert',\n",
       " 'pop',\n",
       " 'remove',\n",
       " 'reverse',\n",
       " 'sort']"
      ]
     },
     "execution_count": 152,
     "metadata": {},
     "output_type": "execute_result"
    }
   ],
   "source": [
    "dir(l)                #__dict__输出这个类或对象的属性；dir()是输出这个类或对象的属性和方法；"
   ]
  },
  {
   "cell_type": "code",
   "execution_count": 153,
<<<<<<< HEAD
   "metadata": {},
=======
   "metadata": {
    "collapsed": true,
    "jupyter": {
     "outputs_hidden": true
    }
   },
>>>>>>> 778d2a8a55bb6aa62754914ca7227749dcdbf1d7
   "outputs": [
    {
     "name": "stdout",
     "output_type": "stream",
     "text": [
      "Help on class list in module builtins:\n",
      "\n",
      "class list(object)\n",
      " |  list() -> new empty list\n",
      " |  list(iterable) -> new list initialized from iterable's items\n",
      " |  \n",
      " |  Methods defined here:\n",
      " |  \n",
      " |  __add__(self, value, /)\n",
      " |      Return self+value.\n",
      " |  \n",
      " |  __contains__(self, key, /)\n",
      " |      Return key in self.\n",
      " |  \n",
      " |  __delitem__(self, key, /)\n",
      " |      Delete self[key].\n",
      " |  \n",
      " |  __eq__(self, value, /)\n",
      " |      Return self==value.\n",
      " |  \n",
      " |  __ge__(self, value, /)\n",
      " |      Return self>=value.\n",
      " |  \n",
      " |  __getattribute__(self, name, /)\n",
      " |      Return getattr(self, name).\n",
      " |  \n",
      " |  __getitem__(...)\n",
      " |      x.__getitem__(y) <==> x[y]\n",
      " |  \n",
      " |  __gt__(self, value, /)\n",
      " |      Return self>value.\n",
      " |  \n",
      " |  __iadd__(self, value, /)\n",
      " |      Implement self+=value.\n",
      " |  \n",
      " |  __imul__(self, value, /)\n",
      " |      Implement self*=value.\n",
      " |  \n",
      " |  __init__(self, /, *args, **kwargs)\n",
      " |      Initialize self.  See help(type(self)) for accurate signature.\n",
      " |  \n",
      " |  __iter__(self, /)\n",
      " |      Implement iter(self).\n",
      " |  \n",
      " |  __le__(self, value, /)\n",
      " |      Return self<=value.\n",
      " |  \n",
      " |  __len__(self, /)\n",
      " |      Return len(self).\n",
      " |  \n",
      " |  __lt__(self, value, /)\n",
      " |      Return self<value.\n",
      " |  \n",
      " |  __mul__(self, value, /)\n",
      " |      Return self*value.n\n",
      " |  \n",
      " |  __ne__(self, value, /)\n",
      " |      Return self!=value.\n",
      " |  \n",
      " |  __new__(*args, **kwargs) from builtins.type\n",
      " |      Create and return a new object.  See help(type) for accurate signature.\n",
      " |  \n",
      " |  __repr__(self, /)\n",
      " |      Return repr(self).\n",
      " |  \n",
      " |  __reversed__(...)\n",
      " |      L.__reversed__() -- return a reverse iterator over the list\n",
      " |  \n",
      " |  __rmul__(self, value, /)\n",
      " |      Return self*value.\n",
      " |  \n",
      " |  __setitem__(self, key, value, /)\n",
      " |      Set self[key] to value.\n",
      " |  \n",
      " |  __sizeof__(...)\n",
      " |      L.__sizeof__() -- size of L in memory, in bytes\n",
      " |  \n",
      " |  append(...)\n",
      " |      L.append(object) -> None -- append object to end\n",
      " |  \n",
      " |  clear(...)\n",
      " |      L.clear() -> None -- remove all items from L\n",
      " |  \n",
      " |  copy(...)\n",
      " |      L.copy() -> list -- a shallow copy of L\n",
      " |  \n",
      " |  count(...)\n",
      " |      L.count(value) -> integer -- return number of occurrences of value\n",
      " |  \n",
      " |  extend(...)\n",
      " |      L.extend(iterable) -> None -- extend list by appending elements from the iterable\n",
      " |  \n",
      " |  index(...)\n",
      " |      L.index(value, [start, [stop]]) -> integer -- return first index of value.\n",
      " |      Raises ValueError if the value is not present.\n",
      " |  \n",
      " |  insert(...)\n",
      " |      L.insert(index, object) -- insert object before index\n",
      " |  \n",
      " |  pop(...)\n",
      " |      L.pop([index]) -> item -- remove and return item at index (default last).\n",
      " |      Raises IndexError if list is empty or index is out of range.\n",
      " |  \n",
      " |  remove(...)\n",
      " |      L.remove(value) -> None -- remove first occurrence of value.\n",
      " |      Raises ValueError if the value is not present.\n",
      " |  \n",
      " |  reverse(...)\n",
      " |      L.reverse() -- reverse *IN PLACE*\n",
      " |  \n",
      " |  sort(...)\n",
      " |      L.sort(key=None, reverse=False) -> None -- stable sort *IN PLACE*\n",
      " |  \n",
      " |  ----------------------------------------------------------------------\n",
      " |  Data and other attributes defined here:\n",
      " |  \n",
      " |  __hash__ = None\n",
      "\n"
     ]
    }
   ],
   "source": [
    "help(list)"
   ]
  },
  {
   "cell_type": "code",
   "execution_count": 155,
   "metadata": {
<<<<<<< HEAD
    "collapsed": true
=======
    "collapsed": true,
    "jupyter": {
     "outputs_hidden": true
    }
>>>>>>> 778d2a8a55bb6aa62754914ca7227749dcdbf1d7
   },
   "outputs": [],
   "source": [
    "s = 'hello python'"
   ]
  },
  {
   "cell_type": "code",
   "execution_count": 157,
   "metadata": {},
   "outputs": [
    {
     "data": {
      "text/plain": [
       "'Hello Python'"
      ]
     },
     "execution_count": 157,
     "metadata": {},
     "output_type": "execute_result"
    }
   ],
   "source": [
    "s.title()"
   ]
  },
  {
   "cell_type": "code",
   "execution_count": 158,
<<<<<<< HEAD
   "metadata": {},
=======
   "metadata": {
    "collapsed": true,
    "jupyter": {
     "outputs_hidden": true
    }
   },
>>>>>>> 778d2a8a55bb6aa62754914ca7227749dcdbf1d7
   "outputs": [
    {
     "data": {
      "text/plain": [
       "['__add__',\n",
       " '__class__',\n",
       " '__contains__',\n",
       " '__delattr__',\n",
       " '__dir__',\n",
       " '__doc__',\n",
       " '__eq__',\n",
       " '__format__',\n",
       " '__ge__',\n",
       " '__getattribute__',\n",
       " '__getitem__',\n",
       " '__getnewargs__',\n",
       " '__gt__',\n",
       " '__hash__',\n",
       " '__init__',\n",
       " '__init_subclass__',\n",
       " '__iter__',\n",
       " '__le__',\n",
       " '__len__',\n",
       " '__lt__',\n",
       " '__mod__',\n",
       " '__mul__',\n",
       " '__ne__',\n",
       " '__new__',\n",
       " '__reduce__',\n",
       " '__reduce_ex__',\n",
       " '__repr__',\n",
       " '__rmod__',\n",
       " '__rmul__',\n",
       " '__setattr__',\n",
       " '__sizeof__',\n",
       " '__str__',\n",
       " '__subclasshook__',\n",
       " 'capitalize',\n",
       " 'casefold',\n",
       " 'center',\n",
       " 'count',\n",
       " 'encode',\n",
       " 'endswith',\n",
       " 'expandtabs',\n",
       " 'find',\n",
       " 'format',\n",
       " 'format_map',\n",
       " 'index',\n",
       " 'isalnum',\n",
       " 'isalpha',\n",
       " 'isdecimal',\n",
       " 'isdigit',\n",
       " 'isidentifier',\n",
       " 'islower',\n",
       " 'isnumeric',\n",
       " 'isprintable',\n",
       " 'isspace',\n",
       " 'istitle',\n",
       " 'isupper',\n",
       " 'join',\n",
       " 'ljust',\n",
       " 'lower',\n",
       " 'lstrip',\n",
       " 'maketrans',\n",
       " 'partition',\n",
       " 'replace',\n",
       " 'rfind',\n",
       " 'rindex',\n",
       " 'rjust',\n",
       " 'rpartition',\n",
       " 'rsplit',\n",
       " 'rstrip',\n",
       " 'split',\n",
       " 'splitlines',\n",
       " 'startswith',\n",
       " 'strip',\n",
       " 'swapcase',\n",
       " 'title',\n",
       " 'translate',\n",
       " 'upper',\n",
       " 'zfill']"
      ]
     },
     "execution_count": 158,
     "metadata": {},
     "output_type": "execute_result"
    }
   ],
   "source": [
    "dir(s)"
   ]
  },
  {
   "cell_type": "markdown",
   "metadata": {},
   "source": [
    "### 5.继承"
   ]
  },
  {
   "cell_type": "markdown",
   "metadata": {},
   "source": [
    "#### 5.1 父类与子类"
   ]
  },
  {
   "cell_type": "markdown",
   "metadata": {},
   "source": [
    "类也可从其他类继承属性或方法，由此提高代码的重用性。其中被继承属性的类称为超类（父类），继承属性的类成为子类"
   ]
  },
  {
   "cell_type": "code",
<<<<<<< HEAD
   "execution_count": 159,
   "metadata": {
    "collapsed": true
=======
   "execution_count": 72,
   "metadata": {
    "execution": {
     "iopub.execute_input": "2020-06-15T05:27:14.126078Z",
     "iopub.status.busy": "2020-06-15T05:27:14.125077Z",
     "iopub.status.idle": "2020-06-15T05:27:14.133017Z",
     "shell.execute_reply": "2020-06-15T05:27:14.132019Z",
     "shell.execute_reply.started": "2020-06-15T05:27:14.126078Z"
    }
>>>>>>> 778d2a8a55bb6aa62754914ca7227749dcdbf1d7
   },
   "outputs": [],
   "source": [
    "class Father():                       # 定义一个类\n",
    "    name = 'father\\'s name'              "
   ]
  },
  {
   "cell_type": "code",
<<<<<<< HEAD
   "execution_count": 161,
   "metadata": {
    "collapsed": true
=======
   "execution_count": 73,
   "metadata": {
    "execution": {
     "iopub.execute_input": "2020-06-15T05:27:15.211726Z",
     "iopub.status.busy": "2020-06-15T05:27:15.211726Z",
     "iopub.status.idle": "2020-06-15T05:27:15.217706Z",
     "shell.execute_reply": "2020-06-15T05:27:15.216710Z",
     "shell.execute_reply.started": "2020-06-15T05:27:15.211726Z"
    }
>>>>>>> 778d2a8a55bb6aa62754914ca7227749dcdbf1d7
   },
   "outputs": [],
   "source": [
    "class Son(Father):                        # 定义一个子类，用此种格式定义\n",
    "    pass"
   ]
  },
  {
   "cell_type": "code",
<<<<<<< HEAD
   "execution_count": 160,
   "metadata": {},
=======
   "execution_count": 75,
   "metadata": {
    "execution": {
     "iopub.execute_input": "2020-06-15T05:32:24.051482Z",
     "iopub.status.busy": "2020-06-15T05:32:24.050484Z",
     "iopub.status.idle": "2020-06-15T05:32:24.056468Z",
     "shell.execute_reply": "2020-06-15T05:32:24.056468Z",
     "shell.execute_reply.started": "2020-06-15T05:32:24.050484Z"
    }
   },
>>>>>>> 778d2a8a55bb6aa62754914ca7227749dcdbf1d7
   "outputs": [
    {
     "data": {
      "text/plain": [
       "\"father's name\""
      ]
     },
<<<<<<< HEAD
     "execution_count": 160,
=======
     "execution_count": 75,
>>>>>>> 778d2a8a55bb6aa62754914ca7227749dcdbf1d7
     "metadata": {},
     "output_type": "execute_result"
    }
   ],
   "source": [
    "Father.name"
   ]
  },
  {
   "cell_type": "code",
<<<<<<< HEAD
   "execution_count": 162,
   "metadata": {
    "scrolled": false
=======
   "execution_count": 76,
   "metadata": {
    "execution": {
     "iopub.execute_input": "2020-06-15T05:32:26.342201Z",
     "iopub.status.busy": "2020-06-15T05:32:26.342201Z",
     "iopub.status.idle": "2020-06-15T05:32:26.347188Z",
     "shell.execute_reply": "2020-06-15T05:32:26.347188Z",
     "shell.execute_reply.started": "2020-06-15T05:32:26.342201Z"
    }
>>>>>>> 778d2a8a55bb6aa62754914ca7227749dcdbf1d7
   },
   "outputs": [
    {
     "data": {
      "text/plain": [
       "\"father's name\""
      ]
     },
<<<<<<< HEAD
     "execution_count": 162,
=======
     "execution_count": 76,
>>>>>>> 778d2a8a55bb6aa62754914ca7227749dcdbf1d7
     "metadata": {},
     "output_type": "execute_result"
    }
   ],
   "source": [
    "Son.name"
   ]
  },
  {
   "cell_type": "code",
<<<<<<< HEAD
   "execution_count": 163,
   "metadata": {},
=======
   "execution_count": 77,
   "metadata": {
    "execution": {
     "iopub.execute_input": "2020-06-15T05:32:27.306057Z",
     "iopub.status.busy": "2020-06-15T05:32:27.306057Z",
     "iopub.status.idle": "2020-06-15T05:32:27.313038Z",
     "shell.execute_reply": "2020-06-15T05:32:27.313038Z",
     "shell.execute_reply.started": "2020-06-15T05:32:27.306057Z"
    }
   },
>>>>>>> 778d2a8a55bb6aa62754914ca7227749dcdbf1d7
   "outputs": [
    {
     "data": {
      "text/plain": [
       "dict_keys(['__module__', 'name', '__dict__', '__weakref__', '__doc__'])"
      ]
     },
<<<<<<< HEAD
     "execution_count": 163,
=======
     "execution_count": 77,
>>>>>>> 778d2a8a55bb6aa62754914ca7227749dcdbf1d7
     "metadata": {},
     "output_type": "execute_result"
    }
   ],
   "source": [
    "Father.__dict__.keys()"
   ]
  },
  {
   "cell_type": "code",
<<<<<<< HEAD
   "execution_count": 164,
   "metadata": {},
=======
   "execution_count": 78,
   "metadata": {
    "execution": {
     "iopub.execute_input": "2020-06-15T05:32:28.393663Z",
     "iopub.status.busy": "2020-06-15T05:32:28.393663Z",
     "iopub.status.idle": "2020-06-15T05:32:28.401643Z",
     "shell.execute_reply": "2020-06-15T05:32:28.400644Z",
     "shell.execute_reply.started": "2020-06-15T05:32:28.393663Z"
    }
   },
>>>>>>> 778d2a8a55bb6aa62754914ca7227749dcdbf1d7
   "outputs": [
    {
     "data": {
      "text/plain": [
       "dict_keys(['__module__', '__doc__'])"
      ]
     },
<<<<<<< HEAD
     "execution_count": 164,
=======
     "execution_count": 78,
>>>>>>> 778d2a8a55bb6aa62754914ca7227749dcdbf1d7
     "metadata": {},
     "output_type": "execute_result"
    }
   ],
   "source": [
    "Son.__dict__.keys()"
   ]
  },
  {
   "cell_type": "markdown",
   "metadata": {},
   "source": [
    "在类创建时，python自动将类的继承关系信息记录在\\_\\_bases\\_\\_属性中"
   ]
  },
  {
   "cell_type": "code",
<<<<<<< HEAD
   "execution_count": 165,
   "metadata": {},
=======
   "execution_count": 82,
   "metadata": {
    "execution": {
     "iopub.execute_input": "2020-06-15T05:55:57.605702Z",
     "iopub.status.busy": "2020-06-15T05:55:57.605702Z",
     "iopub.status.idle": "2020-06-15T05:55:57.612645Z",
     "shell.execute_reply": "2020-06-15T05:55:57.611655Z",
     "shell.execute_reply.started": "2020-06-15T05:55:57.605702Z"
    }
   },
>>>>>>> 778d2a8a55bb6aa62754914ca7227749dcdbf1d7
   "outputs": [
    {
     "data": {
      "text/plain": [
       "(__main__.Father,)"
      ]
     },
<<<<<<< HEAD
     "execution_count": 165,
=======
     "execution_count": 82,
>>>>>>> 778d2a8a55bb6aa62754914ca7227749dcdbf1d7
     "metadata": {},
     "output_type": "execute_result"
    }
   ],
   "source": [
<<<<<<< HEAD
    "Son.__bases__"
=======
    "Son.__bases__   #查看继承关系"
>>>>>>> 778d2a8a55bb6aa62754914ca7227749dcdbf1d7
   ]
  },
  {
   "cell_type": "markdown",
   "metadata": {},
   "source": [
    "#### 5.2 父类与子类创建的实例"
   ]
  },
  {
   "cell_type": "code",
<<<<<<< HEAD
   "execution_count": 166,
   "metadata": {
    "collapsed": true
=======
   "execution_count": 83,
   "metadata": {
    "execution": {
     "iopub.execute_input": "2020-06-15T05:57:28.163082Z",
     "iopub.status.busy": "2020-06-15T05:57:28.163082Z",
     "iopub.status.idle": "2020-06-15T05:57:28.168069Z",
     "shell.execute_reply": "2020-06-15T05:57:28.167072Z",
     "shell.execute_reply.started": "2020-06-15T05:57:28.163082Z"
    }
>>>>>>> 778d2a8a55bb6aa62754914ca7227749dcdbf1d7
   },
   "outputs": [],
   "source": [
    "father_instance = Father()     # 创建父类的实例"
   ]
  },
  {
   "cell_type": "code",
<<<<<<< HEAD
   "execution_count": 167,
   "metadata": {
    "collapsed": true
=======
   "execution_count": 84,
   "metadata": {
    "execution": {
     "iopub.execute_input": "2020-06-15T05:57:29.067762Z",
     "iopub.status.busy": "2020-06-15T05:57:29.067762Z",
     "iopub.status.idle": "2020-06-15T05:57:29.073747Z",
     "shell.execute_reply": "2020-06-15T05:57:29.072369Z",
     "shell.execute_reply.started": "2020-06-15T05:57:29.067762Z"
    }
>>>>>>> 778d2a8a55bb6aa62754914ca7227749dcdbf1d7
   },
   "outputs": [],
   "source": [
    "son_instance = Son()    # 创建子类的实例"
   ]
  },
  {
   "cell_type": "markdown",
   "metadata": {},
   "source": [
    "在实例创建后，可使用\\_\\_class\\_\\_查看创建实例的类"
   ]
  },
  {
   "cell_type": "code",
<<<<<<< HEAD
   "execution_count": 168,
   "metadata": {},
=======
   "execution_count": 85,
   "metadata": {
    "execution": {
     "iopub.execute_input": "2020-06-15T05:57:30.346680Z",
     "iopub.status.busy": "2020-06-15T05:57:30.345653Z",
     "iopub.status.idle": "2020-06-15T05:57:30.353632Z",
     "shell.execute_reply": "2020-06-15T05:57:30.352663Z",
     "shell.execute_reply.started": "2020-06-15T05:57:30.346680Z"
    }
   },
>>>>>>> 778d2a8a55bb6aa62754914ca7227749dcdbf1d7
   "outputs": [
    {
     "data": {
      "text/plain": [
       "__main__.Father"
      ]
     },
<<<<<<< HEAD
     "execution_count": 168,
=======
     "execution_count": 85,
>>>>>>> 778d2a8a55bb6aa62754914ca7227749dcdbf1d7
     "metadata": {},
     "output_type": "execute_result"
    }
   ],
   "source": [
    "father_instance.__class__"
   ]
  },
  {
   "cell_type": "code",
<<<<<<< HEAD
   "execution_count": 172,
   "metadata": {},
=======
   "execution_count": 86,
   "metadata": {
    "execution": {
     "iopub.execute_input": "2020-06-15T05:57:30.990001Z",
     "iopub.status.busy": "2020-06-15T05:57:30.990001Z",
     "iopub.status.idle": "2020-06-15T05:57:30.994987Z",
     "shell.execute_reply": "2020-06-15T05:57:30.994987Z",
     "shell.execute_reply.started": "2020-06-15T05:57:30.990001Z"
    }
   },
>>>>>>> 778d2a8a55bb6aa62754914ca7227749dcdbf1d7
   "outputs": [
    {
     "data": {
      "text/plain": [
       "__main__.Father"
      ]
     },
<<<<<<< HEAD
     "execution_count": 172,
=======
     "execution_count": 86,
>>>>>>> 778d2a8a55bb6aa62754914ca7227749dcdbf1d7
     "metadata": {},
     "output_type": "execute_result"
    }
   ],
   "source": [
    "type(father_instance)"
   ]
  },
  {
   "cell_type": "code",
<<<<<<< HEAD
   "execution_count": 169,
   "metadata": {},
=======
   "execution_count": 87,
   "metadata": {
    "execution": {
     "iopub.execute_input": "2020-06-15T05:57:31.511569Z",
     "iopub.status.busy": "2020-06-15T05:57:31.511569Z",
     "iopub.status.idle": "2020-06-15T05:57:31.517554Z",
     "shell.execute_reply": "2020-06-15T05:57:31.516557Z",
     "shell.execute_reply.started": "2020-06-15T05:57:31.511569Z"
    }
   },
>>>>>>> 778d2a8a55bb6aa62754914ca7227749dcdbf1d7
   "outputs": [
    {
     "data": {
      "text/plain": [
       "__main__.Son"
      ]
     },
<<<<<<< HEAD
     "execution_count": 169,
=======
     "execution_count": 87,
>>>>>>> 778d2a8a55bb6aa62754914ca7227749dcdbf1d7
     "metadata": {},
     "output_type": "execute_result"
    }
   ],
   "source": [
    "son_instance.__class__"
   ]
  },
  {
   "cell_type": "markdown",
   "metadata": {},
   "source": [
    "实例father_instance从Father类继承name属性"
   ]
  },
  {
   "cell_type": "code",
<<<<<<< HEAD
   "execution_count": 173,
   "metadata": {},
=======
   "execution_count": 88,
   "metadata": {
    "execution": {
     "iopub.execute_input": "2020-06-15T05:57:35.990947Z",
     "iopub.status.busy": "2020-06-15T05:57:35.990947Z",
     "iopub.status.idle": "2020-06-15T05:57:35.994936Z",
     "shell.execute_reply": "2020-06-15T05:57:35.994795Z",
     "shell.execute_reply.started": "2020-06-15T05:57:35.990947Z"
    }
   },
>>>>>>> 778d2a8a55bb6aa62754914ca7227749dcdbf1d7
   "outputs": [
    {
     "data": {
      "text/plain": [
       "\"father's name\""
      ]
     },
<<<<<<< HEAD
     "execution_count": 173,
=======
     "execution_count": 88,
>>>>>>> 778d2a8a55bb6aa62754914ca7227749dcdbf1d7
     "metadata": {},
     "output_type": "execute_result"
    }
   ],
   "source": [
    "father_instance.name"
   ]
  },
  {
   "cell_type": "markdown",
   "metadata": {},
   "source": [
    "实例son_instance的name属性从Father类中继承"
   ]
  },
  {
   "cell_type": "code",
<<<<<<< HEAD
   "execution_count": 174,
   "metadata": {},
=======
   "execution_count": 89,
   "metadata": {
    "execution": {
     "iopub.execute_input": "2020-06-15T05:57:41.054242Z",
     "iopub.status.busy": "2020-06-15T05:57:41.053298Z",
     "iopub.status.idle": "2020-06-15T05:57:41.060228Z",
     "shell.execute_reply": "2020-06-15T05:57:41.059229Z",
     "shell.execute_reply.started": "2020-06-15T05:57:41.054242Z"
    }
   },
>>>>>>> 778d2a8a55bb6aa62754914ca7227749dcdbf1d7
   "outputs": [
    {
     "data": {
      "text/plain": [
       "\"father's name\""
      ]
     },
<<<<<<< HEAD
     "execution_count": 174,
=======
     "execution_count": 89,
>>>>>>> 778d2a8a55bb6aa62754914ca7227749dcdbf1d7
     "metadata": {},
     "output_type": "execute_result"
    }
   ],
   "source": [
    "son_instance.name"
   ]
  },
  {
   "cell_type": "markdown",
   "metadata": {},
   "source": [
    "如修改Father类的name属性，father_instance和son_instance的属性都将都到影响"
   ]
  },
  {
   "cell_type": "code",
<<<<<<< HEAD
   "execution_count": 175,
   "metadata": {
    "collapsed": true
=======
   "execution_count": 90,
   "metadata": {
    "execution": {
     "iopub.execute_input": "2020-06-15T05:57:56.466843Z",
     "iopub.status.busy": "2020-06-15T05:57:56.466843Z",
     "iopub.status.idle": "2020-06-15T05:57:56.470832Z",
     "shell.execute_reply": "2020-06-15T05:57:56.469837Z",
     "shell.execute_reply.started": "2020-06-15T05:57:56.466843Z"
    }
>>>>>>> 778d2a8a55bb6aa62754914ca7227749dcdbf1d7
   },
   "outputs": [],
   "source": [
    "Father.name = 'changed Father\\'s name'"
   ]
  },
  {
   "cell_type": "code",
<<<<<<< HEAD
   "execution_count": 176,
   "metadata": {},
=======
   "execution_count": 91,
   "metadata": {
    "execution": {
     "iopub.execute_input": "2020-06-15T05:57:57.208681Z",
     "iopub.status.busy": "2020-06-15T05:57:57.208681Z",
     "iopub.status.idle": "2020-06-15T05:57:57.214665Z",
     "shell.execute_reply": "2020-06-15T05:57:57.213668Z",
     "shell.execute_reply.started": "2020-06-15T05:57:57.208681Z"
    }
   },
>>>>>>> 778d2a8a55bb6aa62754914ca7227749dcdbf1d7
   "outputs": [
    {
     "data": {
      "text/plain": [
       "\"changed Father's name\""
      ]
     },
<<<<<<< HEAD
     "execution_count": 176,
=======
     "execution_count": 91,
>>>>>>> 778d2a8a55bb6aa62754914ca7227749dcdbf1d7
     "metadata": {},
     "output_type": "execute_result"
    }
   ],
   "source": [
    "Father.name"
   ]
  },
  {
   "cell_type": "code",
<<<<<<< HEAD
   "execution_count": 177,
   "metadata": {},
=======
   "execution_count": 92,
   "metadata": {
    "execution": {
     "iopub.execute_input": "2020-06-15T05:57:58.084848Z",
     "iopub.status.busy": "2020-06-15T05:57:58.084848Z",
     "iopub.status.idle": "2020-06-15T05:57:58.089836Z",
     "shell.execute_reply": "2020-06-15T05:57:58.089836Z",
     "shell.execute_reply.started": "2020-06-15T05:57:58.084848Z"
    }
   },
>>>>>>> 778d2a8a55bb6aa62754914ca7227749dcdbf1d7
   "outputs": [
    {
     "data": {
      "text/plain": [
       "\"changed Father's name\""
      ]
     },
<<<<<<< HEAD
     "execution_count": 177,
=======
     "execution_count": 92,
>>>>>>> 778d2a8a55bb6aa62754914ca7227749dcdbf1d7
     "metadata": {},
     "output_type": "execute_result"
    }
   ],
   "source": [
    "father_instance.name"
   ]
  },
  {
   "cell_type": "code",
<<<<<<< HEAD
   "execution_count": 178,
   "metadata": {},
=======
   "execution_count": 93,
   "metadata": {
    "execution": {
     "iopub.execute_input": "2020-06-15T05:57:58.603207Z",
     "iopub.status.busy": "2020-06-15T05:57:58.603207Z",
     "iopub.status.idle": "2020-06-15T05:57:58.609733Z",
     "shell.execute_reply": "2020-06-15T05:57:58.609220Z",
     "shell.execute_reply.started": "2020-06-15T05:57:58.603207Z"
    }
   },
>>>>>>> 778d2a8a55bb6aa62754914ca7227749dcdbf1d7
   "outputs": [
    {
     "data": {
      "text/plain": [
       "\"changed Father's name\""
      ]
     },
<<<<<<< HEAD
     "execution_count": 178,
=======
     "execution_count": 93,
>>>>>>> 778d2a8a55bb6aa62754914ca7227749dcdbf1d7
     "metadata": {},
     "output_type": "execute_result"
    }
   ],
   "source": [
    "son_instance.name"
   ]
  },
  {
   "cell_type": "markdown",
   "metadata": {},
   "source": [
    "继承的本质是当子类或实例调用某属性或方法时，python会搜索其父类或创建实例的子类是否具有该属性，并将该属性的值或方法返回\n",
    "\n",
    "而当父类和子类都对同一个属性或方法进行定义时，子类创建的实例将以子类的定义为准"
   ]
  },
  {
   "cell_type": "code",
<<<<<<< HEAD
   "execution_count": 180,
   "metadata": {
    "collapsed": true
=======
   "execution_count": 94,
   "metadata": {
    "execution": {
     "iopub.execute_input": "2020-06-15T05:58:20.794666Z",
     "iopub.status.busy": "2020-06-15T05:58:20.794666Z",
     "iopub.status.idle": "2020-06-15T05:58:20.799869Z",
     "shell.execute_reply": "2020-06-15T05:58:20.798678Z",
     "shell.execute_reply.started": "2020-06-15T05:58:20.794666Z"
    }
>>>>>>> 778d2a8a55bb6aa62754914ca7227749dcdbf1d7
   },
   "outputs": [],
   "source": [
    "class Son2(Father):     # 定义一个新的子类，同时重新定义name属性\n",
    "    name = 'Son2 \\'s name'"
   ]
  },
  {
   "cell_type": "code",
<<<<<<< HEAD
   "execution_count": 181,
   "metadata": {
    "collapsed": true
=======
   "execution_count": 95,
   "metadata": {
    "execution": {
     "iopub.execute_input": "2020-06-15T05:58:21.272422Z",
     "iopub.status.busy": "2020-06-15T05:58:21.271391Z",
     "iopub.status.idle": "2020-06-15T05:58:21.277375Z",
     "shell.execute_reply": "2020-06-15T05:58:21.276632Z",
     "shell.execute_reply.started": "2020-06-15T05:58:21.272422Z"
    }
>>>>>>> 778d2a8a55bb6aa62754914ca7227749dcdbf1d7
   },
   "outputs": [],
   "source": [
    "son2_instance = Son2()"
   ]
  },
  {
   "cell_type": "code",
<<<<<<< HEAD
   "execution_count": 182,
   "metadata": {},
=======
   "execution_count": 96,
   "metadata": {
    "execution": {
     "iopub.execute_input": "2020-06-15T05:58:21.814937Z",
     "iopub.status.busy": "2020-06-15T05:58:21.813940Z",
     "iopub.status.idle": "2020-06-15T05:58:21.821435Z",
     "shell.execute_reply": "2020-06-15T05:58:21.820921Z",
     "shell.execute_reply.started": "2020-06-15T05:58:21.814937Z"
    }
   },
>>>>>>> 778d2a8a55bb6aa62754914ca7227749dcdbf1d7
   "outputs": [
    {
     "data": {
      "text/plain": [
       "\"Son2 's name\""
      ]
     },
<<<<<<< HEAD
     "execution_count": 182,
=======
     "execution_count": 96,
>>>>>>> 778d2a8a55bb6aa62754914ca7227749dcdbf1d7
     "metadata": {},
     "output_type": "execute_result"
    }
   ],
   "source": [
    "son2_instance.name"
   ]
  },
  {
   "cell_type": "markdown",
<<<<<<< HEAD
   "metadata": {
    "collapsed": true
   },
=======
   "metadata": {},
>>>>>>> 778d2a8a55bb6aa62754914ca7227749dcdbf1d7
   "source": [
    "#### 5.3 子类重写父类方法"
   ]
  },
  {
   "cell_type": "code",
<<<<<<< HEAD
   "execution_count": 191,
   "metadata": {
    "collapsed": true
=======
   "execution_count": 97,
   "metadata": {
    "execution": {
     "iopub.execute_input": "2020-06-15T06:07:31.906183Z",
     "iopub.status.busy": "2020-06-15T06:07:31.906183Z",
     "iopub.status.idle": "2020-06-15T06:07:31.911170Z",
     "shell.execute_reply": "2020-06-15T06:07:31.911170Z",
     "shell.execute_reply.started": "2020-06-15T06:07:31.906183Z"
    }
>>>>>>> 778d2a8a55bb6aa62754914ca7227749dcdbf1d7
   },
   "outputs": [],
   "source": [
    "class Father():                 # 定义父类\n",
    "    def __init__(self):\n",
    "        self.name = 'father'\n",
    "    def welcome(self):\n",
    "        print('hello from class father')"
   ]
  },
  {
   "cell_type": "code",
<<<<<<< HEAD
   "execution_count": 192,
   "metadata": {
    "collapsed": true
=======
   "execution_count": 98,
   "metadata": {
    "execution": {
     "iopub.execute_input": "2020-06-15T06:07:32.547468Z",
     "iopub.status.busy": "2020-06-15T06:07:32.547468Z",
     "iopub.status.idle": "2020-06-15T06:07:32.552454Z",
     "shell.execute_reply": "2020-06-15T06:07:32.551848Z",
     "shell.execute_reply.started": "2020-06-15T06:07:32.547468Z"
    }
>>>>>>> 778d2a8a55bb6aa62754914ca7227749dcdbf1d7
   },
   "outputs": [],
   "source": [
    "class Son(Father):\n",
    "    def welcome(self):          # 子类对父类的welcome方法进行了重写；\n",
    "        print('hello from class son')"
   ]
  },
  {
   "cell_type": "code",
<<<<<<< HEAD
   "execution_count": 193,
   "metadata": {},
=======
   "execution_count": 99,
   "metadata": {
    "execution": {
     "iopub.execute_input": "2020-06-15T06:07:38.703757Z",
     "iopub.status.busy": "2020-06-15T06:07:38.702725Z",
     "iopub.status.idle": "2020-06-15T06:07:38.708739Z",
     "shell.execute_reply": "2020-06-15T06:07:38.708014Z",
     "shell.execute_reply.started": "2020-06-15T06:07:38.703757Z"
    }
   },
>>>>>>> 778d2a8a55bb6aa62754914ca7227749dcdbf1d7
   "outputs": [
    {
     "name": "stdout",
     "output_type": "stream",
     "text": [
      "hello from class father\n"
     ]
    }
   ],
   "source": [
    "father = Father()\n",
    "father.welcome()"
   ]
  },
  {
   "cell_type": "code",
<<<<<<< HEAD
   "execution_count": 194,
   "metadata": {},
=======
   "execution_count": 100,
   "metadata": {
    "execution": {
     "iopub.execute_input": "2020-06-15T06:07:40.139442Z",
     "iopub.status.busy": "2020-06-15T06:07:40.139442Z",
     "iopub.status.idle": "2020-06-15T06:07:40.143422Z",
     "shell.execute_reply": "2020-06-15T06:07:40.142903Z",
     "shell.execute_reply.started": "2020-06-15T06:07:40.139442Z"
    }
   },
>>>>>>> 778d2a8a55bb6aa62754914ca7227749dcdbf1d7
   "outputs": [
    {
     "name": "stdout",
     "output_type": "stream",
     "text": [
      "hello from class son\n"
     ]
    }
   ],
   "source": [
    "son = Son()\n",
    "son.welcome()"
   ]
  },
  {
   "cell_type": "code",
<<<<<<< HEAD
   "execution_count": 195,
   "metadata": {},
=======
   "execution_count": 101,
   "metadata": {
    "execution": {
     "iopub.execute_input": "2020-06-15T06:07:47.053971Z",
     "iopub.status.busy": "2020-06-15T06:07:47.052975Z",
     "iopub.status.idle": "2020-06-15T06:07:47.057932Z",
     "shell.execute_reply": "2020-06-15T06:07:47.057471Z",
     "shell.execute_reply.started": "2020-06-15T06:07:47.053971Z"
    }
   },
>>>>>>> 778d2a8a55bb6aa62754914ca7227749dcdbf1d7
   "outputs": [
    {
     "data": {
      "text/plain": [
       "'father'"
      ]
     },
<<<<<<< HEAD
     "execution_count": 195,
=======
     "execution_count": 101,
>>>>>>> 778d2a8a55bb6aa62754914ca7227749dcdbf1d7
     "metadata": {},
     "output_type": "execute_result"
    }
   ],
   "source": [
    "son.name"
   ]
  },
  {
   "cell_type": "markdown",
<<<<<<< HEAD
   "metadata": {
    "collapsed": true
   },
=======
   "metadata": {},
>>>>>>> 778d2a8a55bb6aa62754914ca7227749dcdbf1d7
   "source": [
    "#### 5.4 子类拓展父类方法"
   ]
  },
  {
   "cell_type": "code",
<<<<<<< HEAD
   "execution_count": 184,
   "metadata": {
    "collapsed": true
=======
   "execution_count": 102,
   "metadata": {
    "execution": {
     "iopub.execute_input": "2020-06-15T06:08:23.902406Z",
     "iopub.status.busy": "2020-06-15T06:08:23.902406Z",
     "iopub.status.idle": "2020-06-15T06:08:23.910344Z",
     "shell.execute_reply": "2020-06-15T06:08:23.909347Z",
     "shell.execute_reply.started": "2020-06-15T06:08:23.902406Z"
    }
>>>>>>> 778d2a8a55bb6aa62754914ca7227749dcdbf1d7
   },
   "outputs": [],
   "source": [
    "class Father():                # 定义父类\n",
    "    def __init__(self):\n",
    "        self.name = 'father'\n",
    "    def welcome(self):\n",
    "        print('Hello from class father')\n",
    "        "
   ]
  },
  {
   "cell_type": "code",
<<<<<<< HEAD
   "execution_count": 185,
   "metadata": {
    "collapsed": true
=======
   "execution_count": 103,
   "metadata": {
    "execution": {
     "iopub.execute_input": "2020-06-15T06:08:25.041359Z",
     "iopub.status.busy": "2020-06-15T06:08:25.040377Z",
     "iopub.status.idle": "2020-06-15T06:08:25.048302Z",
     "shell.execute_reply": "2020-06-15T06:08:25.047366Z",
     "shell.execute_reply.started": "2020-06-15T06:08:25.041359Z"
    }
>>>>>>> 778d2a8a55bb6aa62754914ca7227749dcdbf1d7
   },
   "outputs": [],
   "source": [
    "class Son(Father):\n",
    "    def __init__(self):\n",
    "        self.name = 'son'\n",
    "    def welcome(self):\n",
    "        Father.welcome(self)   #调用了它的父类的方法；\n",
    "        super().welcome()      # 执行时先执行父类的welcome方法,通过super()可以调用父类方法；        \n",
    "        print('Hello from class son')"
   ]
  },
  {
   "cell_type": "code",
<<<<<<< HEAD
   "execution_count": 186,
   "metadata": {
=======
   "execution_count": 104,
   "metadata": {
    "execution": {
     "iopub.execute_input": "2020-06-15T06:25:48.810747Z",
     "iopub.status.busy": "2020-06-15T06:25:48.810747Z",
     "iopub.status.idle": "2020-06-15T06:25:48.814698Z",
     "shell.execute_reply": "2020-06-15T06:25:48.814698Z",
     "shell.execute_reply.started": "2020-06-15T06:25:48.810747Z"
    },
>>>>>>> 778d2a8a55bb6aa62754914ca7227749dcdbf1d7
    "scrolled": true
   },
   "outputs": [
    {
     "name": "stdout",
     "output_type": "stream",
     "text": [
      "Hello from class father\n"
     ]
    }
   ],
   "source": [
    "father = Father()\n",
    "father.welcome()"
   ]
  },
  {
   "cell_type": "code",
<<<<<<< HEAD
   "execution_count": 187,
   "metadata": {
=======
   "execution_count": 105,
   "metadata": {
    "execution": {
     "iopub.execute_input": "2020-06-15T06:25:49.618602Z",
     "iopub.status.busy": "2020-06-15T06:25:49.618602Z",
     "iopub.status.idle": "2020-06-15T06:25:49.622568Z",
     "shell.execute_reply": "2020-06-15T06:25:49.622568Z",
     "shell.execute_reply.started": "2020-06-15T06:25:49.618602Z"
    },
>>>>>>> 778d2a8a55bb6aa62754914ca7227749dcdbf1d7
    "scrolled": true
   },
   "outputs": [],
   "source": [
    "son = Son()"
   ]
  },
  {
   "cell_type": "code",
<<<<<<< HEAD
   "execution_count": 188,
   "metadata": {},
=======
   "execution_count": 106,
   "metadata": {
    "execution": {
     "iopub.execute_input": "2020-06-15T06:25:50.657769Z",
     "iopub.status.busy": "2020-06-15T06:25:50.656772Z",
     "iopub.status.idle": "2020-06-15T06:25:50.661760Z",
     "shell.execute_reply": "2020-06-15T06:25:50.661760Z",
     "shell.execute_reply.started": "2020-06-15T06:25:50.657769Z"
    }
   },
>>>>>>> 778d2a8a55bb6aa62754914ca7227749dcdbf1d7
   "outputs": [
    {
     "name": "stdout",
     "output_type": "stream",
     "text": [
      "Hello from class father\n",
      "Hello from class father\n",
      "Hello from class son\n"
     ]
    }
   ],
   "source": [
    "son.welcome()"
   ]
  },
  {
   "cell_type": "markdown",
   "metadata": {},
   "source": [
    "#### 5.5 面向对象继承实例"
   ]
  },
  {
   "cell_type": "markdown",
   "metadata": {},
   "source": [
    "** 实例1 **"
   ]
  },
  {
   "cell_type": "code",
   "execution_count": 197,
   "metadata": {
<<<<<<< HEAD
    "collapsed": true
=======
    "collapsed": true,
    "jupyter": {
     "outputs_hidden": true
    }
>>>>>>> 778d2a8a55bb6aa62754914ca7227749dcdbf1d7
   },
   "outputs": [],
   "source": [
    "class People():\n",
    "    #定义类的属性\n",
    "    name = ''\n",
    "    age = 0\n",
    "    #定义构造方法\n",
    "    def __init__(self,n,a):\n",
    "        self.name = n\n",
    "        self.age = a\n",
    "    def speak(self):\n",
    "        print(\"%s: I'm %d years old.\" %(self.name,self.age))"
   ]
  },
  {
   "cell_type": "code",
   "execution_count": 198,
   "metadata": {
<<<<<<< HEAD
    "collapsed": true
=======
    "collapsed": true,
    "jupyter": {
     "outputs_hidden": true
    }
>>>>>>> 778d2a8a55bb6aa62754914ca7227749dcdbf1d7
   },
   "outputs": [],
   "source": [
    "#单继承实例；\n",
    "class Student(People):\n",
    "    grade = ''\n",
    "    def __init__(self,n,a,g):    #进行了拓展；\n",
    "        #调用父类的构函\n",
    "        People.__init__(self,n,a)\n",
    "        self.grade = g\n",
    "    #重写父类的方法\n",
    "    def speak(self):\n",
    "        print(\"%s: I'm %d years old, I'm in %d grade\"%(self.name,self.age,self.grade))"
   ]
  },
  {
   "cell_type": "code",
   "execution_count": 199,
   "metadata": {},
   "outputs": [
    {
     "name": "stdout",
     "output_type": "stream",
     "text": [
      "Alpha: I'm 10 years old, I'm in 7 grade\n"
     ]
    }
   ],
   "source": [
    "s = Student('Alpha',10,7)\n",
    "s.speak()"
   ]
  },
  {
   "cell_type": "markdown",
   "metadata": {},
   "source": [
    "** 实例2 **"
   ]
  },
  {
   "cell_type": "code",
   "execution_count": 200,
   "metadata": {
<<<<<<< HEAD
    "collapsed": true
=======
    "collapsed": true,
    "jupyter": {
     "outputs_hidden": true
    }
>>>>>>> 778d2a8a55bb6aa62754914ca7227749dcdbf1d7
   },
   "outputs": [],
   "source": [
    "class Car():\n",
    "    def __init__(self, brand, model, year):\n",
    "        self.brand = brand\n",
    "        self.model = model\n",
    "        self.year = year\n",
    "        self.miles = 0\n",
    "        \n",
    "    def get_info(self):\n",
    "        car_info = str(self.year) + ' '+ self.brand + ' ' + self.model\n",
    "        return car_info\n",
    "    \n",
    "    def get_miles(self):\n",
    "        print ('This car has runned ' + str(self.miles) + ' miles')    "
   ]
  },
  {
   "cell_type": "code",
   "execution_count": 201,
   "metadata": {
<<<<<<< HEAD
    "collapsed": true
=======
    "collapsed": true,
    "jupyter": {
     "outputs_hidden": true
    }
>>>>>>> 778d2a8a55bb6aa62754914ca7227749dcdbf1d7
   },
   "outputs": [],
   "source": [
    "class ElecCar(Car):\n",
    "    def __init__(self, brand, model, year):\n",
    "        super().__init__(brand, model, year)\n",
    "        self.battery = '0%'\n",
    "    \n",
    "    def get_battery(self):\n",
    "        print('This car has '+ self.battery + ' battery')        "
   ]
  },
  {
   "cell_type": "code",
   "execution_count": 202,
   "metadata": {},
   "outputs": [],
   "source": [
    "my_eleccar = ElecCar('Tesla', 'Model S', '2017')"
   ]
  },
  {
   "cell_type": "code",
   "execution_count": 203,
   "metadata": {},
   "outputs": [
    {
     "name": "stdout",
     "output_type": "stream",
     "text": [
      "This car has 0% battery\n"
     ]
    }
   ],
   "source": [
    "my_eleccar.get_battery()"
   ]
  },
  {
   "cell_type": "code",
   "execution_count": 205,
   "metadata": {
    "scrolled": true
   },
   "outputs": [
    {
     "data": {
      "text/plain": [
       "['__class__',\n",
       " '__delattr__',\n",
       " '__dict__',\n",
       " '__dir__',\n",
       " '__doc__',\n",
       " '__eq__',\n",
       " '__format__',\n",
       " '__ge__',\n",
       " '__getattribute__',\n",
       " '__gt__',\n",
       " '__hash__',\n",
       " '__init__',\n",
       " '__init_subclass__',\n",
       " '__le__',\n",
       " '__lt__',\n",
       " '__module__',\n",
       " '__ne__',\n",
       " '__new__',\n",
       " '__reduce__',\n",
       " '__reduce_ex__',\n",
       " '__repr__',\n",
       " '__setattr__',\n",
       " '__sizeof__',\n",
       " '__str__',\n",
       " '__subclasshook__',\n",
       " '__weakref__',\n",
       " 'battery',\n",
       " 'brand',\n",
       " 'get_battery',\n",
       " 'get_info',\n",
       " 'get_miles',\n",
       " 'miles',\n",
       " 'model',\n",
       " 'year']"
      ]
     },
     "execution_count": 205,
     "metadata": {},
     "output_type": "execute_result"
    }
   ],
   "source": [
    "dir(my_eleccar)"
   ]
  },
  {
   "cell_type": "markdown",
   "metadata": {},
   "source": [
    "**实例3 将实例用作属性**"
   ]
  },
  {
   "cell_type": "code",
   "execution_count": 206,
   "metadata": {
<<<<<<< HEAD
    "collapsed": true
=======
    "collapsed": true,
    "jupyter": {
     "outputs_hidden": true
    }
>>>>>>> 778d2a8a55bb6aa62754914ca7227749dcdbf1d7
   },
   "outputs": [],
   "source": [
    "class Battery():\n",
    "    def __init__(self, battery_size = '0%'):\n",
    "        self.battery_size = battery_size\n",
    "        \n",
    "    def get_battery(self):\n",
    "        print('This car has '+ self.battery_size + ' battery')        \n",
    "\n",
    "class ElecCar(Car):\n",
    "    def __init__(self, brand, model, year):\n",
    "        super().__init__(brand, model, year)\n",
    "        self.battery = Battery()          # ElecCar中的battery属性其实是Battery()类的一个实例；相当于把所有跟\n",
    "                                          # Battery有关的信息都封装到了self.battery这个属性中了；"
   ]
  },
  {
   "cell_type": "code",
   "execution_count": 207,
   "metadata": {
<<<<<<< HEAD
    "collapsed": true
=======
    "collapsed": true,
    "jupyter": {
     "outputs_hidden": true
    }
>>>>>>> 778d2a8a55bb6aa62754914ca7227749dcdbf1d7
   },
   "outputs": [],
   "source": [
    "my_eleccar = ElecCar('Tesla', 'Model S', '2017')"
   ]
  },
  {
   "cell_type": "code",
   "execution_count": 208,
   "metadata": {
    "scrolled": true
   },
   "outputs": [
    {
     "name": "stdout",
     "output_type": "stream",
     "text": [
      "This car has 0% battery\n"
     ]
    }
   ],
   "source": [
    "my_eleccar.battery.get_battery()          # 实盘平台会有很多这样的表示；"
   ]
  },
  {
   "cell_type": "markdown",
<<<<<<< HEAD
   "metadata": {
    "collapsed": true
   },
=======
   "metadata": {},
>>>>>>> 778d2a8a55bb6aa62754914ca7227749dcdbf1d7
   "source": [
    "### 6. 多继承：子类从多个父类继承属性和方法"
   ]
  },
  {
   "cell_type": "code",
<<<<<<< HEAD
   "execution_count": 209,
   "metadata": {
    "collapsed": true
=======
   "execution_count": 107,
   "metadata": {
    "execution": {
     "iopub.execute_input": "2020-06-15T06:42:25.853278Z",
     "iopub.status.busy": "2020-06-15T06:42:25.852281Z",
     "iopub.status.idle": "2020-06-15T06:42:25.857268Z",
     "shell.execute_reply": "2020-06-15T06:42:25.856983Z",
     "shell.execute_reply.started": "2020-06-15T06:42:25.853278Z"
    }
>>>>>>> 778d2a8a55bb6aa62754914ca7227749dcdbf1d7
   },
   "outputs": [],
   "source": [
    "class Father1:\n",
    "    name1 = 'Father1 \\'s name'\n",
    "    def welcome1():\n",
    "        print('hello from class Father1')"
   ]
  },
  {
   "cell_type": "code",
<<<<<<< HEAD
   "execution_count": 210,
   "metadata": {
    "collapsed": true
=======
   "execution_count": 108,
   "metadata": {
    "execution": {
     "iopub.execute_input": "2020-06-15T06:42:26.451710Z",
     "iopub.status.busy": "2020-06-15T06:42:26.451710Z",
     "iopub.status.idle": "2020-06-15T06:42:26.457662Z",
     "shell.execute_reply": "2020-06-15T06:42:26.456696Z",
     "shell.execute_reply.started": "2020-06-15T06:42:26.451710Z"
    }
>>>>>>> 778d2a8a55bb6aa62754914ca7227749dcdbf1d7
   },
   "outputs": [],
   "source": [
    "class Father2:\n",
    "    name2 = 'Father2 \\'s name'\n",
    "    def welcome2():\n",
    "        print('hello from class Father2')"
   ]
  },
  {
   "cell_type": "code",
<<<<<<< HEAD
   "execution_count": 211,
   "metadata": {
    "collapsed": true
=======
   "execution_count": 109,
   "metadata": {
    "execution": {
     "iopub.execute_input": "2020-06-15T06:42:27.857956Z",
     "iopub.status.busy": "2020-06-15T06:42:27.856923Z",
     "iopub.status.idle": "2020-06-15T06:42:27.861907Z",
     "shell.execute_reply": "2020-06-15T06:42:27.861907Z",
     "shell.execute_reply.started": "2020-06-15T06:42:27.857956Z"
    }
>>>>>>> 778d2a8a55bb6aa62754914ca7227749dcdbf1d7
   },
   "outputs": [],
   "source": [
    "class Son(Father1, Father2):\n",
    "    pass"
   ]
  },
  {
   "cell_type": "code",
<<<<<<< HEAD
   "execution_count": 212,
   "metadata": {},
=======
   "execution_count": 110,
   "metadata": {
    "execution": {
     "iopub.execute_input": "2020-06-15T06:42:32.855064Z",
     "iopub.status.busy": "2020-06-15T06:42:32.854110Z",
     "iopub.status.idle": "2020-06-15T06:42:32.863042Z",
     "shell.execute_reply": "2020-06-15T06:42:32.862044Z",
     "shell.execute_reply.started": "2020-06-15T06:42:32.855064Z"
    }
   },
>>>>>>> 778d2a8a55bb6aa62754914ca7227749dcdbf1d7
   "outputs": [
    {
     "data": {
      "text/plain": [
       "\"Father1 's name\""
      ]
     },
<<<<<<< HEAD
     "execution_count": 212,
=======
     "execution_count": 110,
>>>>>>> 778d2a8a55bb6aa62754914ca7227749dcdbf1d7
     "metadata": {},
     "output_type": "execute_result"
    }
   ],
   "source": [
    "Son.name1"
   ]
  },
  {
   "cell_type": "code",
<<<<<<< HEAD
   "execution_count": 213,
   "metadata": {},
=======
   "execution_count": 111,
   "metadata": {
    "execution": {
     "iopub.execute_input": "2020-06-15T06:42:33.377176Z",
     "iopub.status.busy": "2020-06-15T06:42:33.377176Z",
     "iopub.status.idle": "2020-06-15T06:42:33.381165Z",
     "shell.execute_reply": "2020-06-15T06:42:33.380972Z",
     "shell.execute_reply.started": "2020-06-15T06:42:33.377176Z"
    }
   },
>>>>>>> 778d2a8a55bb6aa62754914ca7227749dcdbf1d7
   "outputs": [
    {
     "name": "stdout",
     "output_type": "stream",
     "text": [
      "hello from class Father1\n"
     ]
    }
   ],
   "source": [
    "Son.welcome1()"
   ]
  },
  {
   "cell_type": "code",
<<<<<<< HEAD
   "execution_count": 214,
   "metadata": {},
=======
   "execution_count": 112,
   "metadata": {
    "execution": {
     "iopub.execute_input": "2020-06-15T06:42:33.850909Z",
     "iopub.status.busy": "2020-06-15T06:42:33.850909Z",
     "iopub.status.idle": "2020-06-15T06:42:33.855932Z",
     "shell.execute_reply": "2020-06-15T06:42:33.855932Z",
     "shell.execute_reply.started": "2020-06-15T06:42:33.850909Z"
    }
   },
>>>>>>> 778d2a8a55bb6aa62754914ca7227749dcdbf1d7
   "outputs": [
    {
     "data": {
      "text/plain": [
       "\"Father2 's name\""
      ]
     },
<<<<<<< HEAD
     "execution_count": 214,
=======
     "execution_count": 112,
>>>>>>> 778d2a8a55bb6aa62754914ca7227749dcdbf1d7
     "metadata": {},
     "output_type": "execute_result"
    }
   ],
   "source": [
    "Son.name2"
   ]
  },
  {
   "cell_type": "code",
   "execution_count": 215,
   "metadata": {},
   "outputs": [
    {
     "name": "stdout",
     "output_type": "stream",
     "text": [
      "hello from class Father2\n"
     ]
    }
   ],
   "source": [
    "Son.welcome2()"
   ]
  },
  {
   "cell_type": "markdown",
   "metadata": {},
   "source": [
    "### 7. 模拟事件驱动型的面向对象交易平台设计"
   ]
  },
  {
   "cell_type": "code",
   "execution_count": null,
   "metadata": {
<<<<<<< HEAD
    "collapsed": true
=======
    "collapsed": true,
    "jupyter": {
     "outputs_hidden": true
    }
>>>>>>> 778d2a8a55bb6aa62754914ca7227749dcdbf1d7
   },
   "outputs": [],
   "source": [
    "class Event():\n",
    "    \"\"\"\n",
    "    交易事件的基类，在后续子类中进行进一步的代码实现，以相应不同类型的交易事件。\n",
    "    \"\"\"\n",
    "    pass\n",
    "\n",
    "class MarketEvent(Event):\n",
    "    \"\"\"\n",
    "    处理接收到新的市场数据的更新，此类编写成可接收任何频率k线数据的子类\n",
    "    \"\"\"\n",
    "    def __init__(self, close_price, high_price, low_price, open_price, volume, time):\n",
    "        self.type='BAR'\n",
    "        self.close_price = close_price\n",
    "        self.high_price = high_price\n",
    "        self.low_price = low_price\n",
    "        self.open_price = open_price\n",
    "        self.volume = volume\n",
    "        self.time = time\n",
    "    \n",
    "    def resample_data(self):\n",
    "        pass\n",
    "\n",
    "class SignalEvent(Event):\n",
    "    \n",
    "     def __init__(self, position, symbol, percent):\n",
    "        pass\n",
    "    \n",
    " \n",
    "        \n",
    "        \n",
    "class OrderEvent(Event):\n",
    "    \"\"\"\n",
    "    处理向执行系统提交的订单（Order）信息。\n",
    "    \"\"\"\n",
    "    def __init__(self,symbol,order_type,quantity):\n",
    "        self.type='ORDER'\n",
    "        self.symbol=symbol                  # 进行下单股票的代码\n",
    "        self.order_type=order_type          # 下单的类型\n",
    "        self.quantity=quantity              # 数量，用正表示买入，负表示卖出\n",
    "\n",
    "    def print_order(self):\n",
    "        \"\"\"\n",
    "        显示订单中的相关信息\n",
    "        \"\"\"\n",
    "        print(\n",
    "            \"Order:Symbol:%s,Type=%s,Quantity=%s\" %(self.symbol,self.order_type,self.quantity,self.direction)\n",
    "            )\n"
   ]
  },
  {
   "cell_type": "markdown",
<<<<<<< HEAD
   "metadata": {
    "collapsed": true
   },
=======
   "metadata": {},
>>>>>>> 778d2a8a55bb6aa62754914ca7227749dcdbf1d7
   "source": [
    "声明：本资料仅供内部学习交流使用，切勿外传。"
   ]
  }
 ],
 "metadata": {
  "kernelspec": {
   "display_name": "Python 3",
   "language": "python",
   "name": "python3"
  },
  "language_info": {
   "codemirror_mode": {
    "name": "ipython",
    "version": 3
   },
   "file_extension": ".py",
   "mimetype": "text/x-python",
   "name": "python",
   "nbconvert_exporter": "python",
   "pygments_lexer": "ipython3",
<<<<<<< HEAD
   "version": "3.6.0"
  }
 },
 "nbformat": 4,
 "nbformat_minor": 2
=======
   "version": "3.7.7"
  }
 },
 "nbformat": 4,
 "nbformat_minor": 4
>>>>>>> 778d2a8a55bb6aa62754914ca7227749dcdbf1d7
}
