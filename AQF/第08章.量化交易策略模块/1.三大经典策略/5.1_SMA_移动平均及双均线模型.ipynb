{
 "cells": [
  {
   "cell_type": "markdown",
   "metadata": {},
   "source": [
    "# SMA_移动平均及双均线模型"
   ]
  },
  {
   "cell_type": "code",
   "execution_count": 1,
   "metadata": {
    "execution": {
     "iopub.execute_input": "2020-06-30T11:24:25.135748Z",
     "iopub.status.busy": "2020-06-30T11:24:25.135748Z",
     "iopub.status.idle": "2020-06-30T11:24:27.025674Z",
     "shell.execute_reply": "2020-06-30T11:24:27.024740Z",
     "shell.execute_reply.started": "2020-06-30T11:24:25.135748Z"
    }
   },
   "outputs": [],
   "source": [
    "%matplotlib inline\n",
    "import matplotlib.pyplot as plt\n",
    "import seaborn\n",
    "# plt.style.use('seaborn')             ggplot;\n",
    "import matplotlib as mpl\n",
    "mpl.rcParams['font.family'] = 'serif'               #解决一些字体显示乱码问题\n",
    "import warnings; warnings.simplefilter('ignore')       #忽略警告信息；"
   ]
  },
  {
   "cell_type": "code",
   "execution_count": 3,
   "metadata": {
    "execution": {
     "iopub.execute_input": "2020-06-30T11:24:42.066393Z",
     "iopub.status.busy": "2020-06-30T11:24:42.065397Z",
     "iopub.status.idle": "2020-06-30T11:24:42.501230Z",
     "shell.execute_reply": "2020-06-30T11:24:42.501230Z",
     "shell.execute_reply.started": "2020-06-30T11:24:42.066393Z"
    }
   },
   "outputs": [],
   "source": [
    "import numpy as np\n",
    "import pandas as pd\n",
    "import tushare as ts"
   ]
  },
  {
   "cell_type": "markdown",
   "metadata": {},
   "source": [
    "### 数据准备"
   ]
  },
  {
   "cell_type": "code",
   "execution_count": 25,
   "metadata": {
    "execution": {
     "iopub.execute_input": "2020-06-30T11:56:22.489333Z",
     "iopub.status.busy": "2020-06-30T11:56:22.488336Z",
     "iopub.status.idle": "2020-06-30T11:56:22.520760Z",
     "shell.execute_reply": "2020-06-30T11:56:22.519762Z",
     "shell.execute_reply.started": "2020-06-30T11:56:22.489333Z"
    }
   },
   "outputs": [],
   "source": [
    "data=pd.read_csv(r'D:\\Nutstore\\Backtrader\\EURUSD_H4.csv')"
   ]
  },
  {
   "cell_type": "code",
   "execution_count": 26,
   "metadata": {
    "execution": {
     "iopub.execute_input": "2020-06-30T11:56:26.743859Z",
     "iopub.status.busy": "2020-06-30T11:56:26.742859Z",
     "iopub.status.idle": "2020-06-30T11:56:26.754863Z",
     "shell.execute_reply": "2020-06-30T11:56:26.754863Z",
     "shell.execute_reply.started": "2020-06-30T11:56:26.742859Z"
    }
   },
   "outputs": [
    {
     "data": {
      "text/html": [
       "<div>\n",
       "<style scoped>\n",
       "    .dataframe tbody tr th:only-of-type {\n",
       "        vertical-align: middle;\n",
       "    }\n",
       "\n",
       "    .dataframe tbody tr th {\n",
       "        vertical-align: top;\n",
       "    }\n",
       "\n",
       "    .dataframe thead th {\n",
       "        text-align: right;\n",
       "    }\n",
       "</style>\n",
       "<table border=\"1\" class=\"dataframe\">\n",
       "  <thead>\n",
       "    <tr style=\"text-align: right;\">\n",
       "      <th></th>\n",
       "      <th>Time (UTC)</th>\n",
       "      <th>Open</th>\n",
       "      <th>High</th>\n",
       "      <th>Low</th>\n",
       "      <th>Close</th>\n",
       "      <th>Volume</th>\n",
       "    </tr>\n",
       "  </thead>\n",
       "  <tbody>\n",
       "    <tr>\n",
       "      <th>0</th>\n",
       "      <td>2010.01.01 00:00:00</td>\n",
       "      <td>1.43283</td>\n",
       "      <td>1.43306</td>\n",
       "      <td>1.43181</td>\n",
       "      <td>1.43209</td>\n",
       "      <td>9999.4</td>\n",
       "    </tr>\n",
       "    <tr>\n",
       "      <th>1</th>\n",
       "      <td>2010.01.01 04:00:00</td>\n",
       "      <td>1.43218</td>\n",
       "      <td>1.43346</td>\n",
       "      <td>1.43182</td>\n",
       "      <td>1.43324</td>\n",
       "      <td>12324.1</td>\n",
       "    </tr>\n",
       "    <tr>\n",
       "      <th>2</th>\n",
       "      <td>2010.01.01 08:00:00</td>\n",
       "      <td>1.43297</td>\n",
       "      <td>1.43346</td>\n",
       "      <td>1.43218</td>\n",
       "      <td>1.43306</td>\n",
       "      <td>18182.8</td>\n",
       "    </tr>\n",
       "    <tr>\n",
       "      <th>3</th>\n",
       "      <td>2010.01.01 12:00:00</td>\n",
       "      <td>1.43321</td>\n",
       "      <td>1.43354</td>\n",
       "      <td>1.43207</td>\n",
       "      <td>1.43337</td>\n",
       "      <td>15405.0</td>\n",
       "    </tr>\n",
       "    <tr>\n",
       "      <th>4</th>\n",
       "      <td>2010.01.01 16:00:00</td>\n",
       "      <td>1.43337</td>\n",
       "      <td>1.43356</td>\n",
       "      <td>1.43225</td>\n",
       "      <td>1.43342</td>\n",
       "      <td>13920.0</td>\n",
       "    </tr>\n",
       "  </tbody>\n",
       "</table>\n",
       "</div>"
      ],
      "text/plain": [
       "            Time (UTC)     Open     High      Low    Close  Volume \n",
       "0  2010.01.01 00:00:00  1.43283  1.43306  1.43181  1.43209   9999.4\n",
       "1  2010.01.01 04:00:00  1.43218  1.43346  1.43182  1.43324  12324.1\n",
       "2  2010.01.01 08:00:00  1.43297  1.43346  1.43218  1.43306  18182.8\n",
       "3  2010.01.01 12:00:00  1.43321  1.43354  1.43207  1.43337  15405.0\n",
       "4  2010.01.01 16:00:00  1.43337  1.43356  1.43225  1.43342  13920.0"
      ]
     },
     "execution_count": 26,
     "metadata": {},
     "output_type": "execute_result"
    }
   ],
   "source": [
    "data.head()    #DataFrame数据结构"
   ]
  },
  {
   "cell_type": "code",
   "execution_count": 27,
   "metadata": {
    "execution": {
     "iopub.execute_input": "2020-06-30T11:56:42.937070Z",
     "iopub.status.busy": "2020-06-30T11:56:42.937070Z",
     "iopub.status.idle": "2020-06-30T11:56:42.941185Z",
     "shell.execute_reply": "2020-06-30T11:56:42.941185Z",
     "shell.execute_reply.started": "2020-06-30T11:56:42.937070Z"
    }
   },
   "outputs": [],
   "source": [
    "data.rename(columns={'Time (UTC)':'date'},inplace=True)"
   ]
  },
  {
   "cell_type": "code",
   "execution_count": 28,
   "metadata": {
    "execution": {
     "iopub.execute_input": "2020-06-30T11:56:50.575386Z",
     "iopub.status.busy": "2020-06-30T11:56:50.575386Z",
     "iopub.status.idle": "2020-06-30T11:56:50.580373Z",
     "shell.execute_reply": "2020-06-30T11:56:50.580373Z",
     "shell.execute_reply.started": "2020-06-30T11:56:50.575386Z"
    }
   },
   "outputs": [],
   "source": [
    "data.set_index('date', inplace = True)   #设置索引；替换，真实覆盖；"
   ]
  },
  {
   "cell_type": "code",
   "execution_count": 29,
   "metadata": {
    "execution": {
     "iopub.execute_input": "2020-06-30T11:56:51.217708Z",
     "iopub.status.busy": "2020-06-30T11:56:51.216707Z",
     "iopub.status.idle": "2020-06-30T11:56:51.227712Z",
     "shell.execute_reply": "2020-06-30T11:56:51.227712Z",
     "shell.execute_reply.started": "2020-06-30T11:56:51.217708Z"
    }
   },
   "outputs": [
    {
     "data": {
      "text/html": [
       "<div>\n",
       "<style scoped>\n",
       "    .dataframe tbody tr th:only-of-type {\n",
       "        vertical-align: middle;\n",
       "    }\n",
       "\n",
       "    .dataframe tbody tr th {\n",
       "        vertical-align: top;\n",
       "    }\n",
       "\n",
       "    .dataframe thead th {\n",
       "        text-align: right;\n",
       "    }\n",
       "</style>\n",
       "<table border=\"1\" class=\"dataframe\">\n",
       "  <thead>\n",
       "    <tr style=\"text-align: right;\">\n",
       "      <th></th>\n",
       "      <th>Open</th>\n",
       "      <th>High</th>\n",
       "      <th>Low</th>\n",
       "      <th>Close</th>\n",
       "      <th>Volume</th>\n",
       "    </tr>\n",
       "    <tr>\n",
       "      <th>date</th>\n",
       "      <th></th>\n",
       "      <th></th>\n",
       "      <th></th>\n",
       "      <th></th>\n",
       "      <th></th>\n",
       "    </tr>\n",
       "  </thead>\n",
       "  <tbody>\n",
       "    <tr>\n",
       "      <th>2010.01.01 00:00:00</th>\n",
       "      <td>1.43283</td>\n",
       "      <td>1.43306</td>\n",
       "      <td>1.43181</td>\n",
       "      <td>1.43209</td>\n",
       "      <td>9999.4</td>\n",
       "    </tr>\n",
       "    <tr>\n",
       "      <th>2010.01.01 04:00:00</th>\n",
       "      <td>1.43218</td>\n",
       "      <td>1.43346</td>\n",
       "      <td>1.43182</td>\n",
       "      <td>1.43324</td>\n",
       "      <td>12324.1</td>\n",
       "    </tr>\n",
       "    <tr>\n",
       "      <th>2010.01.01 08:00:00</th>\n",
       "      <td>1.43297</td>\n",
       "      <td>1.43346</td>\n",
       "      <td>1.43218</td>\n",
       "      <td>1.43306</td>\n",
       "      <td>18182.8</td>\n",
       "    </tr>\n",
       "    <tr>\n",
       "      <th>2010.01.01 12:00:00</th>\n",
       "      <td>1.43321</td>\n",
       "      <td>1.43354</td>\n",
       "      <td>1.43207</td>\n",
       "      <td>1.43337</td>\n",
       "      <td>15405.0</td>\n",
       "    </tr>\n",
       "    <tr>\n",
       "      <th>2010.01.01 16:00:00</th>\n",
       "      <td>1.43337</td>\n",
       "      <td>1.43356</td>\n",
       "      <td>1.43225</td>\n",
       "      <td>1.43342</td>\n",
       "      <td>13920.0</td>\n",
       "    </tr>\n",
       "  </tbody>\n",
       "</table>\n",
       "</div>"
      ],
      "text/plain": [
       "                        Open     High      Low    Close  Volume \n",
       "date                                                            \n",
       "2010.01.01 00:00:00  1.43283  1.43306  1.43181  1.43209   9999.4\n",
       "2010.01.01 04:00:00  1.43218  1.43346  1.43182  1.43324  12324.1\n",
       "2010.01.01 08:00:00  1.43297  1.43346  1.43218  1.43306  18182.8\n",
       "2010.01.01 12:00:00  1.43321  1.43354  1.43207  1.43337  15405.0\n",
       "2010.01.01 16:00:00  1.43337  1.43356  1.43225  1.43342  13920.0"
      ]
     },
     "execution_count": 29,
     "metadata": {},
     "output_type": "execute_result"
    }
   ],
   "source": [
    "data.head()"
   ]
  },
  {
   "cell_type": "code",
   "execution_count": 30,
   "metadata": {
    "execution": {
     "iopub.execute_input": "2020-06-30T11:57:06.804616Z",
     "iopub.status.busy": "2020-06-30T11:57:06.804616Z",
     "iopub.status.idle": "2020-06-30T11:57:06.810599Z",
     "shell.execute_reply": "2020-06-30T11:57:06.809603Z",
     "shell.execute_reply.started": "2020-06-30T11:57:06.804616Z"
    }
   },
   "outputs": [
    {
     "data": {
      "text/plain": [
       "Index(['Open', 'High', 'Low', 'Close', 'Volume '], dtype='object')"
      ]
     },
     "execution_count": 30,
     "metadata": {},
     "output_type": "execute_result"
    }
   ],
   "source": [
    "data.columns"
   ]
  },
  {
   "cell_type": "code",
   "execution_count": 31,
   "metadata": {
    "execution": {
     "iopub.execute_input": "2020-06-30T11:57:08.444859Z",
     "iopub.status.busy": "2020-06-30T11:57:08.444859Z",
     "iopub.status.idle": "2020-06-30T11:57:08.455826Z",
     "shell.execute_reply": "2020-06-30T11:57:08.455826Z",
     "shell.execute_reply.started": "2020-06-30T11:57:08.444859Z"
    }
   },
   "outputs": [
    {
     "data": {
      "text/html": [
       "<div>\n",
       "<style scoped>\n",
       "    .dataframe tbody tr th:only-of-type {\n",
       "        vertical-align: middle;\n",
       "    }\n",
       "\n",
       "    .dataframe tbody tr th {\n",
       "        vertical-align: top;\n",
       "    }\n",
       "\n",
       "    .dataframe thead th {\n",
       "        text-align: right;\n",
       "    }\n",
       "</style>\n",
       "<table border=\"1\" class=\"dataframe\">\n",
       "  <thead>\n",
       "    <tr style=\"text-align: right;\">\n",
       "      <th></th>\n",
       "      <th>Open</th>\n",
       "      <th>High</th>\n",
       "      <th>Low</th>\n",
       "      <th>Close</th>\n",
       "    </tr>\n",
       "    <tr>\n",
       "      <th>date</th>\n",
       "      <th></th>\n",
       "      <th></th>\n",
       "      <th></th>\n",
       "      <th></th>\n",
       "    </tr>\n",
       "  </thead>\n",
       "  <tbody>\n",
       "    <tr>\n",
       "      <th>2010.01.01 00:00:00</th>\n",
       "      <td>1.43283</td>\n",
       "      <td>1.43306</td>\n",
       "      <td>1.43181</td>\n",
       "      <td>1.43209</td>\n",
       "    </tr>\n",
       "    <tr>\n",
       "      <th>2010.01.01 04:00:00</th>\n",
       "      <td>1.43218</td>\n",
       "      <td>1.43346</td>\n",
       "      <td>1.43182</td>\n",
       "      <td>1.43324</td>\n",
       "    </tr>\n",
       "    <tr>\n",
       "      <th>2010.01.01 08:00:00</th>\n",
       "      <td>1.43297</td>\n",
       "      <td>1.43346</td>\n",
       "      <td>1.43218</td>\n",
       "      <td>1.43306</td>\n",
       "    </tr>\n",
       "    <tr>\n",
       "      <th>2010.01.01 12:00:00</th>\n",
       "      <td>1.43321</td>\n",
       "      <td>1.43354</td>\n",
       "      <td>1.43207</td>\n",
       "      <td>1.43337</td>\n",
       "    </tr>\n",
       "    <tr>\n",
       "      <th>2010.01.01 16:00:00</th>\n",
       "      <td>1.43337</td>\n",
       "      <td>1.43356</td>\n",
       "      <td>1.43225</td>\n",
       "      <td>1.43342</td>\n",
       "    </tr>\n",
       "  </tbody>\n",
       "</table>\n",
       "</div>"
      ],
      "text/plain": [
       "                        Open     High      Low    Close\n",
       "date                                                   \n",
       "2010.01.01 00:00:00  1.43283  1.43306  1.43181  1.43209\n",
       "2010.01.01 04:00:00  1.43218  1.43346  1.43182  1.43324\n",
       "2010.01.01 08:00:00  1.43297  1.43346  1.43218  1.43306\n",
       "2010.01.01 12:00:00  1.43321  1.43354  1.43207  1.43337\n",
       "2010.01.01 16:00:00  1.43337  1.43356  1.43225  1.43342"
      ]
     },
     "execution_count": 31,
     "metadata": {},
     "output_type": "execute_result"
    }
   ],
   "source": [
    "data.drop('Volume ',axis=1).head()"
   ]
  },
  {
   "cell_type": "code",
   "execution_count": 36,
   "metadata": {
    "execution": {
     "iopub.execute_input": "2020-06-30T12:02:33.589241Z",
     "iopub.status.busy": "2020-06-30T12:02:33.589241Z",
     "iopub.status.idle": "2020-06-30T12:02:33.603204Z",
     "shell.execute_reply": "2020-06-30T12:02:33.602207Z",
     "shell.execute_reply.started": "2020-06-30T12:02:33.589241Z"
    }
   },
   "outputs": [],
   "source": [
    "data.index=pd.to_datetime(data.index)    #将index转换为时间格式"
   ]
  },
  {
   "cell_type": "code",
   "execution_count": 37,
   "metadata": {
    "execution": {
     "iopub.execute_input": "2020-06-30T12:02:34.212768Z",
     "iopub.status.busy": "2020-06-30T12:02:34.212768Z",
     "iopub.status.idle": "2020-06-30T12:02:34.225731Z",
     "shell.execute_reply": "2020-06-30T12:02:34.224733Z",
     "shell.execute_reply.started": "2020-06-30T12:02:34.212768Z"
    }
   },
   "outputs": [
    {
     "data": {
      "text/html": [
       "<div>\n",
       "<style scoped>\n",
       "    .dataframe tbody tr th:only-of-type {\n",
       "        vertical-align: middle;\n",
       "    }\n",
       "\n",
       "    .dataframe tbody tr th {\n",
       "        vertical-align: top;\n",
       "    }\n",
       "\n",
       "    .dataframe thead th {\n",
       "        text-align: right;\n",
       "    }\n",
       "</style>\n",
       "<table border=\"1\" class=\"dataframe\">\n",
       "  <thead>\n",
       "    <tr style=\"text-align: right;\">\n",
       "      <th></th>\n",
       "      <th>Open</th>\n",
       "      <th>High</th>\n",
       "      <th>Low</th>\n",
       "      <th>Close</th>\n",
       "      <th>Volume</th>\n",
       "    </tr>\n",
       "    <tr>\n",
       "      <th>date</th>\n",
       "      <th></th>\n",
       "      <th></th>\n",
       "      <th></th>\n",
       "      <th></th>\n",
       "      <th></th>\n",
       "    </tr>\n",
       "  </thead>\n",
       "  <tbody>\n",
       "    <tr>\n",
       "      <th>2010-01-01 00:00:00</th>\n",
       "      <td>1.43283</td>\n",
       "      <td>1.43306</td>\n",
       "      <td>1.43181</td>\n",
       "      <td>1.43209</td>\n",
       "      <td>9999.4</td>\n",
       "    </tr>\n",
       "    <tr>\n",
       "      <th>2010-01-01 04:00:00</th>\n",
       "      <td>1.43218</td>\n",
       "      <td>1.43346</td>\n",
       "      <td>1.43182</td>\n",
       "      <td>1.43324</td>\n",
       "      <td>12324.1</td>\n",
       "    </tr>\n",
       "    <tr>\n",
       "      <th>2010-01-01 08:00:00</th>\n",
       "      <td>1.43297</td>\n",
       "      <td>1.43346</td>\n",
       "      <td>1.43218</td>\n",
       "      <td>1.43306</td>\n",
       "      <td>18182.8</td>\n",
       "    </tr>\n",
       "    <tr>\n",
       "      <th>2010-01-01 12:00:00</th>\n",
       "      <td>1.43321</td>\n",
       "      <td>1.43354</td>\n",
       "      <td>1.43207</td>\n",
       "      <td>1.43337</td>\n",
       "      <td>15405.0</td>\n",
       "    </tr>\n",
       "    <tr>\n",
       "      <th>2010-01-01 16:00:00</th>\n",
       "      <td>1.43337</td>\n",
       "      <td>1.43356</td>\n",
       "      <td>1.43225</td>\n",
       "      <td>1.43342</td>\n",
       "      <td>13920.0</td>\n",
       "    </tr>\n",
       "  </tbody>\n",
       "</table>\n",
       "</div>"
      ],
      "text/plain": [
       "                        Open     High      Low    Close  Volume \n",
       "date                                                            \n",
       "2010-01-01 00:00:00  1.43283  1.43306  1.43181  1.43209   9999.4\n",
       "2010-01-01 04:00:00  1.43218  1.43346  1.43182  1.43324  12324.1\n",
       "2010-01-01 08:00:00  1.43297  1.43346  1.43218  1.43306  18182.8\n",
       "2010-01-01 12:00:00  1.43321  1.43354  1.43207  1.43337  15405.0\n",
       "2010-01-01 16:00:00  1.43337  1.43356  1.43225  1.43342  13920.0"
      ]
     },
     "execution_count": 37,
     "metadata": {},
     "output_type": "execute_result"
    }
   ],
   "source": [
    "data.head()"
   ]
  },
  {
   "cell_type": "code",
   "execution_count": 38,
   "metadata": {
    "execution": {
     "iopub.execute_input": "2020-06-30T12:02:35.308125Z",
     "iopub.status.busy": "2020-06-30T12:02:35.308125Z",
     "iopub.status.idle": "2020-06-30T12:02:35.320431Z",
     "shell.execute_reply": "2020-06-30T12:02:35.320431Z",
     "shell.execute_reply.started": "2020-06-30T12:02:35.308125Z"
    }
   },
   "outputs": [],
   "source": [
    "data['SMA_10'] = data['Close'].rolling(20).mean()      #10日均线"
   ]
  },
  {
   "cell_type": "code",
   "execution_count": 39,
   "metadata": {
    "execution": {
     "iopub.execute_input": "2020-06-30T12:02:48.254793Z",
     "iopub.status.busy": "2020-06-30T12:02:48.254793Z",
     "iopub.status.idle": "2020-06-30T12:02:48.270830Z",
     "shell.execute_reply": "2020-06-30T12:02:48.270476Z",
     "shell.execute_reply.started": "2020-06-30T12:02:48.254793Z"
    }
   },
   "outputs": [],
   "source": [
    "data['SMA_20'] = data['Close'].rolling(60).mean()      #20日均线"
   ]
  },
  {
   "cell_type": "code",
   "execution_count": 40,
   "metadata": {
    "execution": {
     "iopub.execute_input": "2020-06-30T12:03:05.956028Z",
     "iopub.status.busy": "2020-06-30T12:03:05.956028Z",
     "iopub.status.idle": "2020-06-30T12:03:05.969990Z",
     "shell.execute_reply": "2020-06-30T12:03:05.968993Z",
     "shell.execute_reply.started": "2020-06-30T12:03:05.956028Z"
    }
   },
   "outputs": [
    {
     "data": {
      "text/html": [
       "<div>\n",
       "<style scoped>\n",
       "    .dataframe tbody tr th:only-of-type {\n",
       "        vertical-align: middle;\n",
       "    }\n",
       "\n",
       "    .dataframe tbody tr th {\n",
       "        vertical-align: top;\n",
       "    }\n",
       "\n",
       "    .dataframe thead th {\n",
       "        text-align: right;\n",
       "    }\n",
       "</style>\n",
       "<table border=\"1\" class=\"dataframe\">\n",
       "  <thead>\n",
       "    <tr style=\"text-align: right;\">\n",
       "      <th></th>\n",
       "      <th>Open</th>\n",
       "      <th>High</th>\n",
       "      <th>Low</th>\n",
       "      <th>Close</th>\n",
       "      <th>Volume</th>\n",
       "      <th>SMA_10</th>\n",
       "      <th>SMA_20</th>\n",
       "    </tr>\n",
       "    <tr>\n",
       "      <th>date</th>\n",
       "      <th></th>\n",
       "      <th></th>\n",
       "      <th></th>\n",
       "      <th></th>\n",
       "      <th></th>\n",
       "      <th></th>\n",
       "      <th></th>\n",
       "    </tr>\n",
       "  </thead>\n",
       "  <tbody>\n",
       "    <tr>\n",
       "      <th>2020-05-01 04:00:00</th>\n",
       "      <td>1.09450</td>\n",
       "      <td>1.09697</td>\n",
       "      <td>1.09439</td>\n",
       "      <td>1.09646</td>\n",
       "      <td>30562.3500</td>\n",
       "      <td>1.087865</td>\n",
       "      <td>1.084608</td>\n",
       "    </tr>\n",
       "    <tr>\n",
       "      <th>2020-05-01 08:00:00</th>\n",
       "      <td>1.09645</td>\n",
       "      <td>1.09899</td>\n",
       "      <td>1.09586</td>\n",
       "      <td>1.09729</td>\n",
       "      <td>39515.8300</td>\n",
       "      <td>1.088608</td>\n",
       "      <td>1.084782</td>\n",
       "    </tr>\n",
       "    <tr>\n",
       "      <th>2020-05-01 12:00:00</th>\n",
       "      <td>1.09731</td>\n",
       "      <td>1.10187</td>\n",
       "      <td>1.09716</td>\n",
       "      <td>1.09976</td>\n",
       "      <td>56599.8100</td>\n",
       "      <td>1.089400</td>\n",
       "      <td>1.084993</td>\n",
       "    </tr>\n",
       "    <tr>\n",
       "      <th>2020-05-01 16:00:00</th>\n",
       "      <td>1.09977</td>\n",
       "      <td>1.09994</td>\n",
       "      <td>1.09746</td>\n",
       "      <td>1.09793</td>\n",
       "      <td>33328.1400</td>\n",
       "      <td>1.089865</td>\n",
       "      <td>1.085186</td>\n",
       "    </tr>\n",
       "    <tr>\n",
       "      <th>2020-05-01 20:00:00</th>\n",
       "      <td>1.09791</td>\n",
       "      <td>1.09822</td>\n",
       "      <td>1.09732</td>\n",
       "      <td>1.09777</td>\n",
       "      <td>2942.3787</td>\n",
       "      <td>1.090573</td>\n",
       "      <td>1.085380</td>\n",
       "    </tr>\n",
       "  </tbody>\n",
       "</table>\n",
       "</div>"
      ],
      "text/plain": [
       "                        Open     High      Low    Close     Volume     SMA_10  \\\n",
       "date                                                                            \n",
       "2020-05-01 04:00:00  1.09450  1.09697  1.09439  1.09646  30562.3500  1.087865   \n",
       "2020-05-01 08:00:00  1.09645  1.09899  1.09586  1.09729  39515.8300  1.088608   \n",
       "2020-05-01 12:00:00  1.09731  1.10187  1.09716  1.09976  56599.8100  1.089400   \n",
       "2020-05-01 16:00:00  1.09977  1.09994  1.09746  1.09793  33328.1400  1.089865   \n",
       "2020-05-01 20:00:00  1.09791  1.09822  1.09732  1.09777   2942.3787  1.090573   \n",
       "\n",
       "                       SMA_20  \n",
       "date                           \n",
       "2020-05-01 04:00:00  1.084608  \n",
       "2020-05-01 08:00:00  1.084782  \n",
       "2020-05-01 12:00:00  1.084993  \n",
       "2020-05-01 16:00:00  1.085186  \n",
       "2020-05-01 20:00:00  1.085380  "
      ]
     },
     "execution_count": 40,
     "metadata": {},
     "output_type": "execute_result"
    }
   ],
   "source": [
    "data.tail()"
   ]
  },
  {
   "cell_type": "code",
   "execution_count": 43,
   "metadata": {
    "execution": {
     "iopub.execute_input": "2020-06-30T12:03:47.734143Z",
     "iopub.status.busy": "2020-06-30T12:03:47.733143Z",
     "iopub.status.idle": "2020-06-30T12:03:48.098584Z",
     "shell.execute_reply": "2020-06-30T12:03:48.097895Z",
     "shell.execute_reply.started": "2020-06-30T12:03:47.734143Z"
    }
   },
   "outputs": [
    {
     "data": {
      "text/plain": [
       "<matplotlib.axes._subplots.AxesSubplot at 0xfc23bd0>"
      ]
     },
     "execution_count": 43,
     "metadata": {},
     "output_type": "execute_result"
    },
    {
     "data": {
      "image/png": "[encoded data removed]",
      "text/plain": [
       "<Figure size 1440x720 with 1 Axes>"
      ]
     },
     "metadata": {
      "needs_background": "light"
     },
     "output_type": "display_data"
    }
   ],
   "source": [
    "data[['Close','SMA_10','SMA_20']].plot(figsize = (20,10))    #可视化"
   ]
  },
  {
   "cell_type": "markdown",
   "metadata": {},
   "source": [
    "#### 时间太长了，只取近期一年的数据"
   ]
  },
  {
   "cell_type": "code",
   "execution_count": 44,
   "metadata": {
    "execution": {
     "iopub.execute_input": "2020-06-30T12:11:12.262600Z",
     "iopub.status.busy": "2020-06-30T12:11:12.262600Z",
     "iopub.status.idle": "2020-06-30T12:11:12.279558Z",
     "shell.execute_reply": "2020-06-30T12:11:12.278562Z",
     "shell.execute_reply.started": "2020-06-30T12:11:12.262600Z"
    }
   },
   "outputs": [
    {
     "data": {
      "text/html": [
       "<div>\n",
       "<style scoped>\n",
       "    .dataframe tbody tr th:only-of-type {\n",
       "        vertical-align: middle;\n",
       "    }\n",
       "\n",
       "    .dataframe tbody tr th {\n",
       "        vertical-align: top;\n",
       "    }\n",
       "\n",
       "    .dataframe thead th {\n",
       "        text-align: right;\n",
       "    }\n",
       "</style>\n",
       "<table border=\"1\" class=\"dataframe\">\n",
       "  <thead>\n",
       "    <tr style=\"text-align: right;\">\n",
       "      <th></th>\n",
       "      <th>Open</th>\n",
       "      <th>High</th>\n",
       "      <th>Low</th>\n",
       "      <th>Close</th>\n",
       "      <th>Volume</th>\n",
       "      <th>SMA_10</th>\n",
       "      <th>SMA_20</th>\n",
       "    </tr>\n",
       "    <tr>\n",
       "      <th>date</th>\n",
       "      <th></th>\n",
       "      <th></th>\n",
       "      <th></th>\n",
       "      <th></th>\n",
       "      <th></th>\n",
       "      <th></th>\n",
       "      <th></th>\n",
       "    </tr>\n",
       "  </thead>\n",
       "  <tbody>\n",
       "    <tr>\n",
       "      <th>2020-01-01 20:00:00</th>\n",
       "      <td>1.12143</td>\n",
       "      <td>1.12218</td>\n",
       "      <td>1.12142</td>\n",
       "      <td>1.12188</td>\n",
       "      <td>1401.66</td>\n",
       "      <td>1.118962</td>\n",
       "      <td>1.112994</td>\n",
       "    </tr>\n",
       "    <tr>\n",
       "      <th>2020-01-02 00:00:00</th>\n",
       "      <td>1.12188</td>\n",
       "      <td>1.12245</td>\n",
       "      <td>1.12124</td>\n",
       "      <td>1.12132</td>\n",
       "      <td>9592.29</td>\n",
       "      <td>1.119435</td>\n",
       "      <td>1.113127</td>\n",
       "    </tr>\n",
       "    <tr>\n",
       "      <th>2020-01-02 04:00:00</th>\n",
       "      <td>1.12132</td>\n",
       "      <td>1.12143</td>\n",
       "      <td>1.12008</td>\n",
       "      <td>1.12098</td>\n",
       "      <td>16166.31</td>\n",
       "      <td>1.119837</td>\n",
       "      <td>1.113259</td>\n",
       "    </tr>\n",
       "    <tr>\n",
       "      <th>2020-01-02 08:00:00</th>\n",
       "      <td>1.12099</td>\n",
       "      <td>1.12141</td>\n",
       "      <td>1.11842</td>\n",
       "      <td>1.11848</td>\n",
       "      <td>30225.81</td>\n",
       "      <td>1.120024</td>\n",
       "      <td>1.113354</td>\n",
       "    </tr>\n",
       "    <tr>\n",
       "      <th>2020-01-02 12:00:00</th>\n",
       "      <td>1.11847</td>\n",
       "      <td>1.12023</td>\n",
       "      <td>1.11700</td>\n",
       "      <td>1.12005</td>\n",
       "      <td>359343.90</td>\n",
       "      <td>1.120212</td>\n",
       "      <td>1.113479</td>\n",
       "    </tr>\n",
       "  </tbody>\n",
       "</table>\n",
       "</div>"
      ],
      "text/plain": [
       "                        Open     High      Low    Close    Volume     SMA_10  \\\n",
       "date                                                                           \n",
       "2020-01-01 20:00:00  1.12143  1.12218  1.12142  1.12188    1401.66  1.118962   \n",
       "2020-01-02 00:00:00  1.12188  1.12245  1.12124  1.12132    9592.29  1.119435   \n",
       "2020-01-02 04:00:00  1.12132  1.12143  1.12008  1.12098   16166.31  1.119837   \n",
       "2020-01-02 08:00:00  1.12099  1.12141  1.11842  1.11848   30225.81  1.120024   \n",
       "2020-01-02 12:00:00  1.11847  1.12023  1.11700  1.12005  359343.90  1.120212   \n",
       "\n",
       "                       SMA_20  \n",
       "date                           \n",
       "2020-01-01 20:00:00  1.112994  \n",
       "2020-01-02 00:00:00  1.113127  \n",
       "2020-01-02 04:00:00  1.113259  \n",
       "2020-01-02 08:00:00  1.113354  \n",
       "2020-01-02 12:00:00  1.113479  "
      ]
     },
     "execution_count": 44,
     "metadata": {},
     "output_type": "execute_result"
    }
   ],
   "source": [
    "data_1=data['2020-01-01':'2020-04-30']            #时间序列的切片索引\n",
    "data_1.head()"
   ]
  },
  {
   "cell_type": "code",
   "execution_count": 46,
   "metadata": {
    "execution": {
     "iopub.execute_input": "2020-06-30T12:14:07.054466Z",
     "iopub.status.busy": "2020-06-30T12:14:07.054466Z",
     "iopub.status.idle": "2020-06-30T12:14:07.059451Z",
     "shell.execute_reply": "2020-06-30T12:14:07.059154Z",
     "shell.execute_reply.started": "2020-06-30T12:14:07.054466Z"
    }
   },
   "outputs": [],
   "source": [
    "#return\n",
    "data_1['Returns'] = np.log(data_1['Close'] / data_1['Close'].shift(1))     \n",
    "#Numpy向量化操作，避免循环；"
   ]
  },
  {
   "cell_type": "code",
   "execution_count": 48,
   "metadata": {
    "execution": {
     "iopub.execute_input": "2020-06-30T12:14:18.491835Z",
     "iopub.status.busy": "2020-06-30T12:14:18.490834Z",
     "iopub.status.idle": "2020-06-30T12:14:18.497818Z",
     "shell.execute_reply": "2020-06-30T12:14:18.496878Z",
     "shell.execute_reply.started": "2020-06-30T12:14:18.491835Z"
    }
   },
   "outputs": [],
   "source": [
    "data_1['Returns_dis'] = data_1['Close']/data_1['Close'].shift(1)-1"
   ]
  },
  {
   "cell_type": "code",
   "execution_count": 50,
   "metadata": {
    "execution": {
     "iopub.execute_input": "2020-06-30T12:33:07.990690Z",
     "iopub.status.busy": "2020-06-30T12:33:07.990690Z",
     "iopub.status.idle": "2020-06-30T12:33:07.996647Z",
     "shell.execute_reply": "2020-06-30T12:33:07.995650Z",
     "shell.execute_reply.started": "2020-06-30T12:33:07.990690Z"
    }
   },
   "outputs": [],
   "source": [
    "data_1['Return_dis2'] = data_1['Close'].pct_change()      #当前元素与先前元素之间的百分比变化"
   ]
  },
  {
   "cell_type": "code",
   "execution_count": 53,
   "metadata": {
    "execution": {
     "iopub.execute_input": "2020-06-30T12:34:23.318272Z",
     "iopub.status.busy": "2020-06-30T12:34:23.317237Z",
     "iopub.status.idle": "2020-06-30T12:34:23.336184Z",
     "shell.execute_reply": "2020-06-30T12:34:23.335222Z",
     "shell.execute_reply.started": "2020-06-30T12:34:23.318272Z"
    }
   },
   "outputs": [
    {
     "data": {
      "text/html": [
       "<div>\n",
       "<style scoped>\n",
       "    .dataframe tbody tr th:only-of-type {\n",
       "        vertical-align: middle;\n",
       "    }\n",
       "\n",
       "    .dataframe tbody tr th {\n",
       "        vertical-align: top;\n",
       "    }\n",
       "\n",
       "    .dataframe thead th {\n",
       "        text-align: right;\n",
       "    }\n",
       "</style>\n",
       "<table border=\"1\" class=\"dataframe\">\n",
       "  <thead>\n",
       "    <tr style=\"text-align: right;\">\n",
       "      <th></th>\n",
       "      <th>Open</th>\n",
       "      <th>High</th>\n",
       "      <th>Low</th>\n",
       "      <th>Close</th>\n",
       "      <th>Volume</th>\n",
       "      <th>SMA_10</th>\n",
       "      <th>SMA_20</th>\n",
       "      <th>Returns</th>\n",
       "      <th>Returns_dis</th>\n",
       "      <th>Return_dis2</th>\n",
       "    </tr>\n",
       "    <tr>\n",
       "      <th>date</th>\n",
       "      <th></th>\n",
       "      <th></th>\n",
       "      <th></th>\n",
       "      <th></th>\n",
       "      <th></th>\n",
       "      <th></th>\n",
       "      <th></th>\n",
       "      <th></th>\n",
       "      <th></th>\n",
       "      <th></th>\n",
       "    </tr>\n",
       "  </thead>\n",
       "  <tbody>\n",
       "    <tr>\n",
       "      <th>2020-01-01 20:00:00</th>\n",
       "      <td>1.12143</td>\n",
       "      <td>1.12218</td>\n",
       "      <td>1.12142</td>\n",
       "      <td>1.12188</td>\n",
       "      <td>1401.660</td>\n",
       "      <td>1.118962</td>\n",
       "      <td>1.112994</td>\n",
       "      <td>NaN</td>\n",
       "      <td>NaN</td>\n",
       "      <td>NaN</td>\n",
       "    </tr>\n",
       "    <tr>\n",
       "      <th>2020-01-02 00:00:00</th>\n",
       "      <td>1.12188</td>\n",
       "      <td>1.12245</td>\n",
       "      <td>1.12124</td>\n",
       "      <td>1.12132</td>\n",
       "      <td>9592.290</td>\n",
       "      <td>1.119435</td>\n",
       "      <td>1.113127</td>\n",
       "      <td>-0.000499</td>\n",
       "      <td>-0.000499</td>\n",
       "      <td>-0.000499</td>\n",
       "    </tr>\n",
       "    <tr>\n",
       "      <th>2020-01-02 04:00:00</th>\n",
       "      <td>1.12132</td>\n",
       "      <td>1.12143</td>\n",
       "      <td>1.12008</td>\n",
       "      <td>1.12098</td>\n",
       "      <td>16166.310</td>\n",
       "      <td>1.119837</td>\n",
       "      <td>1.113259</td>\n",
       "      <td>-0.000303</td>\n",
       "      <td>-0.000303</td>\n",
       "      <td>-0.000303</td>\n",
       "    </tr>\n",
       "    <tr>\n",
       "      <th>2020-01-02 08:00:00</th>\n",
       "      <td>1.12099</td>\n",
       "      <td>1.12141</td>\n",
       "      <td>1.11842</td>\n",
       "      <td>1.11848</td>\n",
       "      <td>30225.810</td>\n",
       "      <td>1.120024</td>\n",
       "      <td>1.113354</td>\n",
       "      <td>-0.002233</td>\n",
       "      <td>-0.002230</td>\n",
       "      <td>-0.002230</td>\n",
       "    </tr>\n",
       "    <tr>\n",
       "      <th>2020-01-02 12:00:00</th>\n",
       "      <td>1.11847</td>\n",
       "      <td>1.12023</td>\n",
       "      <td>1.11700</td>\n",
       "      <td>1.12005</td>\n",
       "      <td>359343.900</td>\n",
       "      <td>1.120212</td>\n",
       "      <td>1.113479</td>\n",
       "      <td>0.001403</td>\n",
       "      <td>0.001404</td>\n",
       "      <td>0.001404</td>\n",
       "    </tr>\n",
       "    <tr>\n",
       "      <th>2020-01-02 16:00:00</th>\n",
       "      <td>1.12006</td>\n",
       "      <td>1.12030</td>\n",
       "      <td>1.11635</td>\n",
       "      <td>1.11663</td>\n",
       "      <td>64730.470</td>\n",
       "      <td>1.120107</td>\n",
       "      <td>1.113564</td>\n",
       "      <td>-0.003058</td>\n",
       "      <td>-0.003053</td>\n",
       "      <td>-0.003053</td>\n",
       "    </tr>\n",
       "    <tr>\n",
       "      <th>2020-01-02 20:00:00</th>\n",
       "      <td>1.11662</td>\n",
       "      <td>1.11735</td>\n",
       "      <td>1.11659</td>\n",
       "      <td>1.11708</td>\n",
       "      <td>7160.348</td>\n",
       "      <td>1.120104</td>\n",
       "      <td>1.113656</td>\n",
       "      <td>0.000403</td>\n",
       "      <td>0.000403</td>\n",
       "      <td>0.000403</td>\n",
       "    </tr>\n",
       "    <tr>\n",
       "      <th>2020-01-03 00:00:00</th>\n",
       "      <td>1.11707</td>\n",
       "      <td>1.11784</td>\n",
       "      <td>1.11695</td>\n",
       "      <td>1.11720</td>\n",
       "      <td>14820.590</td>\n",
       "      <td>1.120058</td>\n",
       "      <td>1.113726</td>\n",
       "      <td>0.000107</td>\n",
       "      <td>0.000107</td>\n",
       "      <td>0.000107</td>\n",
       "    </tr>\n",
       "    <tr>\n",
       "      <th>2020-01-03 04:00:00</th>\n",
       "      <td>1.11720</td>\n",
       "      <td>1.11749</td>\n",
       "      <td>1.11521</td>\n",
       "      <td>1.11532</td>\n",
       "      <td>19009.970</td>\n",
       "      <td>1.119829</td>\n",
       "      <td>1.113771</td>\n",
       "      <td>-0.001684</td>\n",
       "      <td>-0.001683</td>\n",
       "      <td>-0.001683</td>\n",
       "    </tr>\n",
       "    <tr>\n",
       "      <th>2020-01-03 08:00:00</th>\n",
       "      <td>1.11531</td>\n",
       "      <td>1.11604</td>\n",
       "      <td>1.11249</td>\n",
       "      <td>1.11300</td>\n",
       "      <td>43631.420</td>\n",
       "      <td>1.119499</td>\n",
       "      <td>1.113776</td>\n",
       "      <td>-0.002082</td>\n",
       "      <td>-0.002080</td>\n",
       "      <td>-0.002080</td>\n",
       "    </tr>\n",
       "    <tr>\n",
       "      <th>2020-01-03 12:00:00</th>\n",
       "      <td>1.11300</td>\n",
       "      <td>1.11674</td>\n",
       "      <td>1.11281</td>\n",
       "      <td>1.11633</td>\n",
       "      <td>42930.240</td>\n",
       "      <td>1.119358</td>\n",
       "      <td>1.113856</td>\n",
       "      <td>0.002987</td>\n",
       "      <td>0.002992</td>\n",
       "      <td>0.002992</td>\n",
       "    </tr>\n",
       "    <tr>\n",
       "      <th>2020-01-03 16:00:00</th>\n",
       "      <td>1.11634</td>\n",
       "      <td>1.11798</td>\n",
       "      <td>1.11612</td>\n",
       "      <td>1.11673</td>\n",
       "      <td>52384.370</td>\n",
       "      <td>1.119190</td>\n",
       "      <td>1.113929</td>\n",
       "      <td>0.000358</td>\n",
       "      <td>0.000358</td>\n",
       "      <td>0.000358</td>\n",
       "    </tr>\n",
       "    <tr>\n",
       "      <th>2020-01-03 20:00:00</th>\n",
       "      <td>1.11673</td>\n",
       "      <td>1.11674</td>\n",
       "      <td>1.11523</td>\n",
       "      <td>1.11548</td>\n",
       "      <td>4630.200</td>\n",
       "      <td>1.118953</td>\n",
       "      <td>1.113981</td>\n",
       "      <td>-0.001120</td>\n",
       "      <td>-0.001119</td>\n",
       "      <td>-0.001119</td>\n",
       "    </tr>\n",
       "    <tr>\n",
       "      <th>2020-01-05 20:00:00</th>\n",
       "      <td>1.11656</td>\n",
       "      <td>1.11677</td>\n",
       "      <td>1.11589</td>\n",
       "      <td>1.11604</td>\n",
       "      <td>4398.100</td>\n",
       "      <td>1.118749</td>\n",
       "      <td>1.114056</td>\n",
       "      <td>0.000502</td>\n",
       "      <td>0.000502</td>\n",
       "      <td>0.000502</td>\n",
       "    </tr>\n",
       "    <tr>\n",
       "      <th>2020-01-06 00:00:00</th>\n",
       "      <td>1.11603</td>\n",
       "      <td>1.11709</td>\n",
       "      <td>1.11600</td>\n",
       "      <td>1.11657</td>\n",
       "      <td>14933.780</td>\n",
       "      <td>1.118560</td>\n",
       "      <td>1.114135</td>\n",
       "      <td>0.000475</td>\n",
       "      <td>0.000475</td>\n",
       "      <td>0.000475</td>\n",
       "    </tr>\n",
       "    <tr>\n",
       "      <th>2020-01-06 04:00:00</th>\n",
       "      <td>1.11658</td>\n",
       "      <td>1.11667</td>\n",
       "      <td>1.11571</td>\n",
       "      <td>1.11646</td>\n",
       "      <td>18306.000</td>\n",
       "      <td>1.118356</td>\n",
       "      <td>1.114247</td>\n",
       "      <td>-0.000099</td>\n",
       "      <td>-0.000099</td>\n",
       "      <td>-0.000099</td>\n",
       "    </tr>\n",
       "    <tr>\n",
       "      <th>2020-01-06 08:00:00</th>\n",
       "      <td>1.11647</td>\n",
       "      <td>1.12055</td>\n",
       "      <td>1.11632</td>\n",
       "      <td>1.12032</td>\n",
       "      <td>35991.020</td>\n",
       "      <td>1.118234</td>\n",
       "      <td>1.114442</td>\n",
       "      <td>0.003451</td>\n",
       "      <td>0.003457</td>\n",
       "      <td>0.003457</td>\n",
       "    </tr>\n",
       "    <tr>\n",
       "      <th>2020-01-06 12:00:00</th>\n",
       "      <td>1.12032</td>\n",
       "      <td>1.12043</td>\n",
       "      <td>1.11821</td>\n",
       "      <td>1.11886</td>\n",
       "      <td>39032.270</td>\n",
       "      <td>1.118058</td>\n",
       "      <td>1.114631</td>\n",
       "      <td>-0.001304</td>\n",
       "      <td>-0.001303</td>\n",
       "      <td>-0.001303</td>\n",
       "    </tr>\n",
       "    <tr>\n",
       "      <th>2020-01-06 16:00:00</th>\n",
       "      <td>1.11887</td>\n",
       "      <td>1.11979</td>\n",
       "      <td>1.11809</td>\n",
       "      <td>1.11912</td>\n",
       "      <td>22648.900</td>\n",
       "      <td>1.117929</td>\n",
       "      <td>1.114821</td>\n",
       "      <td>0.000232</td>\n",
       "      <td>0.000232</td>\n",
       "      <td>0.000232</td>\n",
       "    </tr>\n",
       "    <tr>\n",
       "      <th>2020-01-06 20:00:00</th>\n",
       "      <td>1.11914</td>\n",
       "      <td>1.11989</td>\n",
       "      <td>1.11889</td>\n",
       "      <td>1.11954</td>\n",
       "      <td>9053.315</td>\n",
       "      <td>1.117870</td>\n",
       "      <td>1.115013</td>\n",
       "      <td>0.000375</td>\n",
       "      <td>0.000375</td>\n",
       "      <td>0.000375</td>\n",
       "    </tr>\n",
       "  </tbody>\n",
       "</table>\n",
       "</div>"
      ],
      "text/plain": [
       "                        Open     High      Low    Close     Volume     SMA_10  \\\n",
       "date                                                                            \n",
       "2020-01-01 20:00:00  1.12143  1.12218  1.12142  1.12188    1401.660  1.118962   \n",
       "2020-01-02 00:00:00  1.12188  1.12245  1.12124  1.12132    9592.290  1.119435   \n",
       "2020-01-02 04:00:00  1.12132  1.12143  1.12008  1.12098   16166.310  1.119837   \n",
       "2020-01-02 08:00:00  1.12099  1.12141  1.11842  1.11848   30225.810  1.120024   \n",
       "2020-01-02 12:00:00  1.11847  1.12023  1.11700  1.12005  359343.900  1.120212   \n",
       "2020-01-02 16:00:00  1.12006  1.12030  1.11635  1.11663   64730.470  1.120107   \n",
       "2020-01-02 20:00:00  1.11662  1.11735  1.11659  1.11708    7160.348  1.120104   \n",
       "2020-01-03 00:00:00  1.11707  1.11784  1.11695  1.11720   14820.590  1.120058   \n",
       "2020-01-03 04:00:00  1.11720  1.11749  1.11521  1.11532   19009.970  1.119829   \n",
       "2020-01-03 08:00:00  1.11531  1.11604  1.11249  1.11300   43631.420  1.119499   \n",
       "2020-01-03 12:00:00  1.11300  1.11674  1.11281  1.11633   42930.240  1.119358   \n",
       "2020-01-03 16:00:00  1.11634  1.11798  1.11612  1.11673   52384.370  1.119190   \n",
       "2020-01-03 20:00:00  1.11673  1.11674  1.11523  1.11548    4630.200  1.118953   \n",
       "2020-01-05 20:00:00  1.11656  1.11677  1.11589  1.11604    4398.100  1.118749   \n",
       "2020-01-06 00:00:00  1.11603  1.11709  1.11600  1.11657   14933.780  1.118560   \n",
       "2020-01-06 04:00:00  1.11658  1.11667  1.11571  1.11646   18306.000  1.118356   \n",
       "2020-01-06 08:00:00  1.11647  1.12055  1.11632  1.12032   35991.020  1.118234   \n",
       "2020-01-06 12:00:00  1.12032  1.12043  1.11821  1.11886   39032.270  1.118058   \n",
       "2020-01-06 16:00:00  1.11887  1.11979  1.11809  1.11912   22648.900  1.117929   \n",
       "2020-01-06 20:00:00  1.11914  1.11989  1.11889  1.11954    9053.315  1.117870   \n",
       "\n",
       "                       SMA_20   Returns  Returns_dis  Return_dis2  \n",
       "date                                                               \n",
       "2020-01-01 20:00:00  1.112994       NaN          NaN          NaN  \n",
       "2020-01-02 00:00:00  1.113127 -0.000499    -0.000499    -0.000499  \n",
       "2020-01-02 04:00:00  1.113259 -0.000303    -0.000303    -0.000303  \n",
       "2020-01-02 08:00:00  1.113354 -0.002233    -0.002230    -0.002230  \n",
       "2020-01-02 12:00:00  1.113479  0.001403     0.001404     0.001404  \n",
       "2020-01-02 16:00:00  1.113564 -0.003058    -0.003053    -0.003053  \n",
       "2020-01-02 20:00:00  1.113656  0.000403     0.000403     0.000403  \n",
       "2020-01-03 00:00:00  1.113726  0.000107     0.000107     0.000107  \n",
       "2020-01-03 04:00:00  1.113771 -0.001684    -0.001683    -0.001683  \n",
       "2020-01-03 08:00:00  1.113776 -0.002082    -0.002080    -0.002080  \n",
       "2020-01-03 12:00:00  1.113856  0.002987     0.002992     0.002992  \n",
       "2020-01-03 16:00:00  1.113929  0.000358     0.000358     0.000358  \n",
       "2020-01-03 20:00:00  1.113981 -0.001120    -0.001119    -0.001119  \n",
       "2020-01-05 20:00:00  1.114056  0.000502     0.000502     0.000502  \n",
       "2020-01-06 00:00:00  1.114135  0.000475     0.000475     0.000475  \n",
       "2020-01-06 04:00:00  1.114247 -0.000099    -0.000099    -0.000099  \n",
       "2020-01-06 08:00:00  1.114442  0.003451     0.003457     0.003457  \n",
       "2020-01-06 12:00:00  1.114631 -0.001304    -0.001303    -0.001303  \n",
       "2020-01-06 16:00:00  1.114821  0.000232     0.000232     0.000232  \n",
       "2020-01-06 20:00:00  1.115013  0.000375     0.000375     0.000375  "
      ]
     },
     "execution_count": 53,
     "metadata": {},
     "output_type": "execute_result"
    }
   ],
   "source": [
    "data_1.head(20)        #比较一下三种方法计算的结果"
   ]
  },
  {
   "cell_type": "code",
   "execution_count": 55,
   "metadata": {
    "execution": {
     "iopub.execute_input": "2020-06-30T12:38:14.664409Z",
     "iopub.status.busy": "2020-06-30T12:38:14.663409Z",
     "iopub.status.idle": "2020-06-30T12:38:14.670393Z",
     "shell.execute_reply": "2020-06-30T12:38:14.669439Z",
     "shell.execute_reply.started": "2020-06-30T12:38:14.664409Z"
    }
   },
   "outputs": [],
   "source": [
    "data_1['Position'] = np.where(data_1['SMA_10'] > data_1['SMA_20'], 1, -1)       #很重要，要重点掌握该方法"
   ]
  },
  {
   "cell_type": "code",
   "execution_count": 60,
   "metadata": {
    "execution": {
     "iopub.execute_input": "2020-06-30T12:39:03.882746Z",
     "iopub.status.busy": "2020-06-30T12:39:03.882746Z",
     "iopub.status.idle": "2020-06-30T12:39:03.899205Z",
     "shell.execute_reply": "2020-06-30T12:39:03.898700Z",
     "shell.execute_reply.started": "2020-06-30T12:39:03.882746Z"
    }
   },
   "outputs": [
    {
     "data": {
      "text/html": [
       "<div>\n",
       "<style scoped>\n",
       "    .dataframe tbody tr th:only-of-type {\n",
       "        vertical-align: middle;\n",
       "    }\n",
       "\n",
       "    .dataframe tbody tr th {\n",
       "        vertical-align: top;\n",
       "    }\n",
       "\n",
       "    .dataframe thead th {\n",
       "        text-align: right;\n",
       "    }\n",
       "</style>\n",
       "<table border=\"1\" class=\"dataframe\">\n",
       "  <thead>\n",
       "    <tr style=\"text-align: right;\">\n",
       "      <th></th>\n",
       "      <th>Open</th>\n",
       "      <th>High</th>\n",
       "      <th>Low</th>\n",
       "      <th>Close</th>\n",
       "      <th>Volume</th>\n",
       "      <th>SMA_10</th>\n",
       "      <th>SMA_20</th>\n",
       "      <th>Returns</th>\n",
       "      <th>Returns_dis</th>\n",
       "      <th>Return_dis2</th>\n",
       "      <th>Position</th>\n",
       "    </tr>\n",
       "    <tr>\n",
       "      <th>date</th>\n",
       "      <th></th>\n",
       "      <th></th>\n",
       "      <th></th>\n",
       "      <th></th>\n",
       "      <th></th>\n",
       "      <th></th>\n",
       "      <th></th>\n",
       "      <th></th>\n",
       "      <th></th>\n",
       "      <th></th>\n",
       "      <th></th>\n",
       "    </tr>\n",
       "  </thead>\n",
       "  <tbody>\n",
       "    <tr>\n",
       "      <th>2020-01-01 20:00:00</th>\n",
       "      <td>1.12143</td>\n",
       "      <td>1.12218</td>\n",
       "      <td>1.12142</td>\n",
       "      <td>1.12188</td>\n",
       "      <td>1401.66</td>\n",
       "      <td>1.118962</td>\n",
       "      <td>1.112994</td>\n",
       "      <td>NaN</td>\n",
       "      <td>NaN</td>\n",
       "      <td>NaN</td>\n",
       "      <td>1</td>\n",
       "    </tr>\n",
       "    <tr>\n",
       "      <th>2020-01-02 00:00:00</th>\n",
       "      <td>1.12188</td>\n",
       "      <td>1.12245</td>\n",
       "      <td>1.12124</td>\n",
       "      <td>1.12132</td>\n",
       "      <td>9592.29</td>\n",
       "      <td>1.119435</td>\n",
       "      <td>1.113127</td>\n",
       "      <td>-0.000499</td>\n",
       "      <td>-0.000499</td>\n",
       "      <td>-0.000499</td>\n",
       "      <td>1</td>\n",
       "    </tr>\n",
       "    <tr>\n",
       "      <th>2020-01-02 04:00:00</th>\n",
       "      <td>1.12132</td>\n",
       "      <td>1.12143</td>\n",
       "      <td>1.12008</td>\n",
       "      <td>1.12098</td>\n",
       "      <td>16166.31</td>\n",
       "      <td>1.119837</td>\n",
       "      <td>1.113259</td>\n",
       "      <td>-0.000303</td>\n",
       "      <td>-0.000303</td>\n",
       "      <td>-0.000303</td>\n",
       "      <td>1</td>\n",
       "    </tr>\n",
       "    <tr>\n",
       "      <th>2020-01-02 08:00:00</th>\n",
       "      <td>1.12099</td>\n",
       "      <td>1.12141</td>\n",
       "      <td>1.11842</td>\n",
       "      <td>1.11848</td>\n",
       "      <td>30225.81</td>\n",
       "      <td>1.120024</td>\n",
       "      <td>1.113354</td>\n",
       "      <td>-0.002233</td>\n",
       "      <td>-0.002230</td>\n",
       "      <td>-0.002230</td>\n",
       "      <td>1</td>\n",
       "    </tr>\n",
       "    <tr>\n",
       "      <th>2020-01-02 12:00:00</th>\n",
       "      <td>1.11847</td>\n",
       "      <td>1.12023</td>\n",
       "      <td>1.11700</td>\n",
       "      <td>1.12005</td>\n",
       "      <td>359343.90</td>\n",
       "      <td>1.120212</td>\n",
       "      <td>1.113479</td>\n",
       "      <td>0.001403</td>\n",
       "      <td>0.001404</td>\n",
       "      <td>0.001404</td>\n",
       "      <td>1</td>\n",
       "    </tr>\n",
       "  </tbody>\n",
       "</table>\n",
       "</div>"
      ],
      "text/plain": [
       "                        Open     High      Low    Close    Volume     SMA_10  \\\n",
       "date                                                                           \n",
       "2020-01-01 20:00:00  1.12143  1.12218  1.12142  1.12188    1401.66  1.118962   \n",
       "2020-01-02 00:00:00  1.12188  1.12245  1.12124  1.12132    9592.29  1.119435   \n",
       "2020-01-02 04:00:00  1.12132  1.12143  1.12008  1.12098   16166.31  1.119837   \n",
       "2020-01-02 08:00:00  1.12099  1.12141  1.11842  1.11848   30225.81  1.120024   \n",
       "2020-01-02 12:00:00  1.11847  1.12023  1.11700  1.12005  359343.90  1.120212   \n",
       "\n",
       "                       SMA_20   Returns  Returns_dis  Return_dis2  Position  \n",
       "date                                                                         \n",
       "2020-01-01 20:00:00  1.112994       NaN          NaN          NaN         1  \n",
       "2020-01-02 00:00:00  1.113127 -0.000499    -0.000499    -0.000499         1  \n",
       "2020-01-02 04:00:00  1.113259 -0.000303    -0.000303    -0.000303         1  \n",
       "2020-01-02 08:00:00  1.113354 -0.002233    -0.002230    -0.002230         1  \n",
       "2020-01-02 12:00:00  1.113479  0.001403     0.001404     0.001404         1  "
      ]
     },
     "execution_count": 60,
     "metadata": {},
     "output_type": "execute_result"
    }
   ],
   "source": [
    "data_1.head()"
   ]
  },
  {
   "cell_type": "code",
   "execution_count": 61,
   "metadata": {
    "execution": {
     "iopub.execute_input": "2020-06-30T12:40:23.716842Z",
     "iopub.status.busy": "2020-06-30T12:40:23.716842Z",
     "iopub.status.idle": "2020-06-30T12:40:23.968928Z",
     "shell.execute_reply": "2020-06-30T12:40:23.967929Z",
     "shell.execute_reply.started": "2020-06-30T12:40:23.716842Z"
    }
   },
   "outputs": [
    {
     "data": {
      "text/plain": [
       "<matplotlib.axes._subplots.AxesSubplot at 0x12adb2b0>"
      ]
     },
     "execution_count": 61,
     "metadata": {},
     "output_type": "execute_result"
    },
    {
     "data": {
      "image/png": "[encoded data removed]",
      "text/plain": [
       "<Figure size 1080x576 with 1 Axes>"
      ]
     },
     "metadata": {
      "needs_background": "light"
     },
     "output_type": "display_data"
    }
   ],
   "source": [
    "data_1['Returns'].cumsum().apply(np.exp).plot(figsize=(15, 8))  \n",
    "#可视化；计算累计收益，连续下的算法；"
   ]
  },
  {
   "cell_type": "markdown",
   "metadata": {},
   "source": [
    "## SMA策略开发"
   ]
  },
  {
   "cell_type": "code",
   "execution_count": 65,
   "metadata": {
    "execution": {
     "iopub.execute_input": "2020-06-30T13:01:23.767817Z",
     "iopub.status.busy": "2020-06-30T13:01:23.767817Z",
     "iopub.status.idle": "2020-06-30T13:01:24.240091Z",
     "shell.execute_reply": "2020-06-30T13:01:24.239093Z",
     "shell.execute_reply.started": "2020-06-30T13:01:23.767817Z"
    }
   },
   "outputs": [
    {
     "data": {
      "text/plain": [
       "<matplotlib.axes._subplots.AxesSubplot at 0x135a6bb0>"
      ]
     },
     "execution_count": 65,
     "metadata": {},
     "output_type": "execute_result"
    },
    {
     "data": {
      "image/png": "[encoded data removed]",
      "text/plain": [
       "<Figure size 1080x720 with 1 Axes>"
      ]
     },
     "metadata": {},
     "output_type": "display_data"
    }
   ],
   "source": [
    "seaborn.set()\n",
    "data_1[['Close','SMA_10','SMA_20']].plot(title='EURUSD_H4 | 10 & 20 hours SMAs',\n",
    "                                       figsize=(15, 10))\n",
    "#Pandas里面如何选择多列必须要掌握；"
   ]
  },
  {
   "cell_type": "code",
   "execution_count": 66,
   "metadata": {
    "execution": {
     "iopub.execute_input": "2020-06-30T13:02:12.651145Z",
     "iopub.status.busy": "2020-06-30T13:02:12.651145Z",
     "iopub.status.idle": "2020-06-30T13:02:12.666106Z",
     "shell.execute_reply": "2020-06-30T13:02:12.666106Z",
     "shell.execute_reply.started": "2020-06-30T13:02:12.651145Z"
    }
   },
   "outputs": [
    {
     "data": {
      "text/html": [
       "<div>\n",
       "<style scoped>\n",
       "    .dataframe tbody tr th:only-of-type {\n",
       "        vertical-align: middle;\n",
       "    }\n",
       "\n",
       "    .dataframe tbody tr th {\n",
       "        vertical-align: top;\n",
       "    }\n",
       "\n",
       "    .dataframe thead th {\n",
       "        text-align: right;\n",
       "    }\n",
       "</style>\n",
       "<table border=\"1\" class=\"dataframe\">\n",
       "  <thead>\n",
       "    <tr style=\"text-align: right;\">\n",
       "      <th></th>\n",
       "      <th>Open</th>\n",
       "      <th>High</th>\n",
       "      <th>Low</th>\n",
       "      <th>Close</th>\n",
       "      <th>Volume</th>\n",
       "      <th>SMA_10</th>\n",
       "      <th>SMA_20</th>\n",
       "      <th>Returns</th>\n",
       "      <th>Returns_dis</th>\n",
       "      <th>Return_dis2</th>\n",
       "      <th>Position</th>\n",
       "    </tr>\n",
       "    <tr>\n",
       "      <th>date</th>\n",
       "      <th></th>\n",
       "      <th></th>\n",
       "      <th></th>\n",
       "      <th></th>\n",
       "      <th></th>\n",
       "      <th></th>\n",
       "      <th></th>\n",
       "      <th></th>\n",
       "      <th></th>\n",
       "      <th></th>\n",
       "      <th></th>\n",
       "    </tr>\n",
       "  </thead>\n",
       "  <tbody>\n",
       "    <tr>\n",
       "      <th>2020-01-01 20:00:00</th>\n",
       "      <td>1.12143</td>\n",
       "      <td>1.12218</td>\n",
       "      <td>1.12142</td>\n",
       "      <td>1.12188</td>\n",
       "      <td>1401.66</td>\n",
       "      <td>1.118962</td>\n",
       "      <td>1.112994</td>\n",
       "      <td>NaN</td>\n",
       "      <td>NaN</td>\n",
       "      <td>NaN</td>\n",
       "      <td>1</td>\n",
       "    </tr>\n",
       "    <tr>\n",
       "      <th>2020-01-02 00:00:00</th>\n",
       "      <td>1.12188</td>\n",
       "      <td>1.12245</td>\n",
       "      <td>1.12124</td>\n",
       "      <td>1.12132</td>\n",
       "      <td>9592.29</td>\n",
       "      <td>1.119435</td>\n",
       "      <td>1.113127</td>\n",
       "      <td>-0.000499</td>\n",
       "      <td>-0.000499</td>\n",
       "      <td>-0.000499</td>\n",
       "      <td>1</td>\n",
       "    </tr>\n",
       "    <tr>\n",
       "      <th>2020-01-02 04:00:00</th>\n",
       "      <td>1.12132</td>\n",
       "      <td>1.12143</td>\n",
       "      <td>1.12008</td>\n",
       "      <td>1.12098</td>\n",
       "      <td>16166.31</td>\n",
       "      <td>1.119837</td>\n",
       "      <td>1.113259</td>\n",
       "      <td>-0.000303</td>\n",
       "      <td>-0.000303</td>\n",
       "      <td>-0.000303</td>\n",
       "      <td>1</td>\n",
       "    </tr>\n",
       "    <tr>\n",
       "      <th>2020-01-02 08:00:00</th>\n",
       "      <td>1.12099</td>\n",
       "      <td>1.12141</td>\n",
       "      <td>1.11842</td>\n",
       "      <td>1.11848</td>\n",
       "      <td>30225.81</td>\n",
       "      <td>1.120024</td>\n",
       "      <td>1.113354</td>\n",
       "      <td>-0.002233</td>\n",
       "      <td>-0.002230</td>\n",
       "      <td>-0.002230</td>\n",
       "      <td>1</td>\n",
       "    </tr>\n",
       "    <tr>\n",
       "      <th>2020-01-02 12:00:00</th>\n",
       "      <td>1.11847</td>\n",
       "      <td>1.12023</td>\n",
       "      <td>1.11700</td>\n",
       "      <td>1.12005</td>\n",
       "      <td>359343.90</td>\n",
       "      <td>1.120212</td>\n",
       "      <td>1.113479</td>\n",
       "      <td>0.001403</td>\n",
       "      <td>0.001404</td>\n",
       "      <td>0.001404</td>\n",
       "      <td>1</td>\n",
       "    </tr>\n",
       "  </tbody>\n",
       "</table>\n",
       "</div>"
      ],
      "text/plain": [
       "                        Open     High      Low    Close    Volume     SMA_10  \\\n",
       "date                                                                           \n",
       "2020-01-01 20:00:00  1.12143  1.12218  1.12142  1.12188    1401.66  1.118962   \n",
       "2020-01-02 00:00:00  1.12188  1.12245  1.12124  1.12132    9592.29  1.119435   \n",
       "2020-01-02 04:00:00  1.12132  1.12143  1.12008  1.12098   16166.31  1.119837   \n",
       "2020-01-02 08:00:00  1.12099  1.12141  1.11842  1.11848   30225.81  1.120024   \n",
       "2020-01-02 12:00:00  1.11847  1.12023  1.11700  1.12005  359343.90  1.120212   \n",
       "\n",
       "                       SMA_20   Returns  Returns_dis  Return_dis2  Position  \n",
       "date                                                                         \n",
       "2020-01-01 20:00:00  1.112994       NaN          NaN          NaN         1  \n",
       "2020-01-02 00:00:00  1.113127 -0.000499    -0.000499    -0.000499         1  \n",
       "2020-01-02 04:00:00  1.113259 -0.000303    -0.000303    -0.000303         1  \n",
       "2020-01-02 08:00:00  1.113354 -0.002233    -0.002230    -0.002230         1  \n",
       "2020-01-02 12:00:00  1.113479  0.001403     0.001404     0.001404         1  "
      ]
     },
     "execution_count": 66,
     "metadata": {},
     "output_type": "execute_result"
    }
   ],
   "source": [
    "data_1.head()"
   ]
  },
  {
   "cell_type": "code",
   "execution_count": 67,
   "metadata": {
    "execution": {
     "iopub.execute_input": "2020-06-30T13:03:27.750196Z",
     "iopub.status.busy": "2020-06-30T13:03:27.749200Z",
     "iopub.status.idle": "2020-06-30T13:03:27.757236Z",
     "shell.execute_reply": "2020-06-30T13:03:27.757236Z",
     "shell.execute_reply.started": "2020-06-30T13:03:27.750196Z"
    }
   },
   "outputs": [],
   "source": [
    "data_1.dropna(inplace=True)     #去掉空值，NaN"
   ]
  },
  {
   "cell_type": "code",
   "execution_count": 68,
   "metadata": {
    "execution": {
     "iopub.execute_input": "2020-06-30T13:04:02.923977Z",
     "iopub.status.busy": "2020-06-30T13:04:02.923977Z",
     "iopub.status.idle": "2020-06-30T13:04:03.260237Z",
     "shell.execute_reply": "2020-06-30T13:04:03.259235Z",
     "shell.execute_reply.started": "2020-06-30T13:04:02.923977Z"
    }
   },
   "outputs": [
    {
     "data": {
      "text/plain": [
       "<matplotlib.axes._subplots.AxesSubplot at 0x12fbf5d0>"
      ]
     },
     "execution_count": 68,
     "metadata": {},
     "output_type": "execute_result"
    },
    {
     "data": {
      "image/png": "[encoded data removed]",
      "text/plain": [
       "<Figure size 432x288 with 1 Axes>"
      ]
     },
     "metadata": {},
     "output_type": "display_data"
    }
   ],
   "source": [
    "data_1['Position'].plot(ylim=[-1.1, 1.1], title='Market Positioning')"
   ]
  },
  {
   "cell_type": "markdown",
   "metadata": {},
   "source": [
    "### 3. 计算策略年化收益并可视化"
   ]
  },
  {
   "cell_type": "code",
   "execution_count": 69,
   "metadata": {
    "execution": {
     "iopub.execute_input": "2020-06-30T13:04:42.300897Z",
     "iopub.status.busy": "2020-06-30T13:04:42.300897Z",
     "iopub.status.idle": "2020-06-30T13:04:42.315888Z",
     "shell.execute_reply": "2020-06-30T13:04:42.315888Z",
     "shell.execute_reply.started": "2020-06-30T13:04:42.300897Z"
    }
   },
   "outputs": [
    {
     "data": {
      "text/html": [
       "<div>\n",
       "<style scoped>\n",
       "    .dataframe tbody tr th:only-of-type {\n",
       "        vertical-align: middle;\n",
       "    }\n",
       "\n",
       "    .dataframe tbody tr th {\n",
       "        vertical-align: top;\n",
       "    }\n",
       "\n",
       "    .dataframe thead th {\n",
       "        text-align: right;\n",
       "    }\n",
       "</style>\n",
       "<table border=\"1\" class=\"dataframe\">\n",
       "  <thead>\n",
       "    <tr style=\"text-align: right;\">\n",
       "      <th></th>\n",
       "      <th>Open</th>\n",
       "      <th>High</th>\n",
       "      <th>Low</th>\n",
       "      <th>Close</th>\n",
       "      <th>Volume</th>\n",
       "      <th>SMA_10</th>\n",
       "      <th>SMA_20</th>\n",
       "      <th>Returns</th>\n",
       "      <th>Returns_dis</th>\n",
       "      <th>Return_dis2</th>\n",
       "      <th>Position</th>\n",
       "    </tr>\n",
       "    <tr>\n",
       "      <th>date</th>\n",
       "      <th></th>\n",
       "      <th></th>\n",
       "      <th></th>\n",
       "      <th></th>\n",
       "      <th></th>\n",
       "      <th></th>\n",
       "      <th></th>\n",
       "      <th></th>\n",
       "      <th></th>\n",
       "      <th></th>\n",
       "      <th></th>\n",
       "    </tr>\n",
       "  </thead>\n",
       "  <tbody>\n",
       "    <tr>\n",
       "      <th>2020-01-02 00:00:00</th>\n",
       "      <td>1.12188</td>\n",
       "      <td>1.12245</td>\n",
       "      <td>1.12124</td>\n",
       "      <td>1.12132</td>\n",
       "      <td>9592.29</td>\n",
       "      <td>1.119435</td>\n",
       "      <td>1.113127</td>\n",
       "      <td>-0.000499</td>\n",
       "      <td>-0.000499</td>\n",
       "      <td>-0.000499</td>\n",
       "      <td>1</td>\n",
       "    </tr>\n",
       "    <tr>\n",
       "      <th>2020-01-02 04:00:00</th>\n",
       "      <td>1.12132</td>\n",
       "      <td>1.12143</td>\n",
       "      <td>1.12008</td>\n",
       "      <td>1.12098</td>\n",
       "      <td>16166.31</td>\n",
       "      <td>1.119837</td>\n",
       "      <td>1.113259</td>\n",
       "      <td>-0.000303</td>\n",
       "      <td>-0.000303</td>\n",
       "      <td>-0.000303</td>\n",
       "      <td>1</td>\n",
       "    </tr>\n",
       "    <tr>\n",
       "      <th>2020-01-02 08:00:00</th>\n",
       "      <td>1.12099</td>\n",
       "      <td>1.12141</td>\n",
       "      <td>1.11842</td>\n",
       "      <td>1.11848</td>\n",
       "      <td>30225.81</td>\n",
       "      <td>1.120024</td>\n",
       "      <td>1.113354</td>\n",
       "      <td>-0.002233</td>\n",
       "      <td>-0.002230</td>\n",
       "      <td>-0.002230</td>\n",
       "      <td>1</td>\n",
       "    </tr>\n",
       "    <tr>\n",
       "      <th>2020-01-02 12:00:00</th>\n",
       "      <td>1.11847</td>\n",
       "      <td>1.12023</td>\n",
       "      <td>1.11700</td>\n",
       "      <td>1.12005</td>\n",
       "      <td>359343.90</td>\n",
       "      <td>1.120212</td>\n",
       "      <td>1.113479</td>\n",
       "      <td>0.001403</td>\n",
       "      <td>0.001404</td>\n",
       "      <td>0.001404</td>\n",
       "      <td>1</td>\n",
       "    </tr>\n",
       "    <tr>\n",
       "      <th>2020-01-02 16:00:00</th>\n",
       "      <td>1.12006</td>\n",
       "      <td>1.12030</td>\n",
       "      <td>1.11635</td>\n",
       "      <td>1.11663</td>\n",
       "      <td>64730.47</td>\n",
       "      <td>1.120107</td>\n",
       "      <td>1.113564</td>\n",
       "      <td>-0.003058</td>\n",
       "      <td>-0.003053</td>\n",
       "      <td>-0.003053</td>\n",
       "      <td>1</td>\n",
       "    </tr>\n",
       "  </tbody>\n",
       "</table>\n",
       "</div>"
      ],
      "text/plain": [
       "                        Open     High      Low    Close    Volume     SMA_10  \\\n",
       "date                                                                           \n",
       "2020-01-02 00:00:00  1.12188  1.12245  1.12124  1.12132    9592.29  1.119435   \n",
       "2020-01-02 04:00:00  1.12132  1.12143  1.12008  1.12098   16166.31  1.119837   \n",
       "2020-01-02 08:00:00  1.12099  1.12141  1.11842  1.11848   30225.81  1.120024   \n",
       "2020-01-02 12:00:00  1.11847  1.12023  1.11700  1.12005  359343.90  1.120212   \n",
       "2020-01-02 16:00:00  1.12006  1.12030  1.11635  1.11663   64730.47  1.120107   \n",
       "\n",
       "                       SMA_20   Returns  Returns_dis  Return_dis2  Position  \n",
       "date                                                                         \n",
       "2020-01-02 00:00:00  1.113127 -0.000499    -0.000499    -0.000499         1  \n",
       "2020-01-02 04:00:00  1.113259 -0.000303    -0.000303    -0.000303         1  \n",
       "2020-01-02 08:00:00  1.113354 -0.002233    -0.002230    -0.002230         1  \n",
       "2020-01-02 12:00:00  1.113479  0.001403     0.001404     0.001404         1  \n",
       "2020-01-02 16:00:00  1.113564 -0.003058    -0.003053    -0.003053         1  "
      ]
     },
     "execution_count": 69,
     "metadata": {},
     "output_type": "execute_result"
    }
   ],
   "source": [
    "data_1.head()"
   ]
  },
  {
   "cell_type": "code",
   "execution_count": null,
   "metadata": {
    "collapsed": true,
    "jupyter": {
     "outputs_hidden": true
    }
   },
   "outputs": [],
   "source": [
    "# data['returns_dis'] = data['price']/data['price'].shift(1)-1    #离散计算return方法1"
   ]
  },
  {
   "cell_type": "code",
   "execution_count": null,
   "metadata": {},
   "outputs": [],
   "source": [
    "# data['return_dis2'] = data['price'].pct_change()                #离散计算return方法2"
   ]
  },
  {
   "cell_type": "code",
   "execution_count": 70,
   "metadata": {
    "execution": {
     "iopub.execute_input": "2020-06-30T13:05:16.221868Z",
     "iopub.status.busy": "2020-06-30T13:05:16.221868Z",
     "iopub.status.idle": "2020-06-30T13:05:16.503860Z",
     "shell.execute_reply": "2020-06-30T13:05:16.502864Z",
     "shell.execute_reply.started": "2020-06-30T13:05:16.221868Z"
    }
   },
   "outputs": [
    {
     "data": {
      "text/plain": [
       "<matplotlib.axes._subplots.AxesSubplot at 0x13009150>"
      ]
     },
     "execution_count": 70,
     "metadata": {},
     "output_type": "execute_result"
    },
    {
     "data": {
      "image/png": "[encoded data removed]",
      "text/plain": [
       "<Figure size 432x288 with 1 Axes>"
      ]
     },
     "metadata": {},
     "output_type": "display_data"
    }
   ],
   "source": [
    "data_1['Returns'].hist(bins=35)"
   ]
  },
  {
   "cell_type": "code",
   "execution_count": 72,
   "metadata": {
    "execution": {
     "iopub.execute_input": "2020-06-30T13:07:54.565921Z",
     "iopub.status.busy": "2020-06-30T13:07:54.565921Z",
     "iopub.status.idle": "2020-06-30T13:07:54.571125Z",
     "shell.execute_reply": "2020-06-30T13:07:54.570906Z",
     "shell.execute_reply.started": "2020-06-30T13:07:54.565921Z"
    }
   },
   "outputs": [],
   "source": [
    "data_1['strategy'] = data_1['Position'].shift(1) * data_1['Returns']     \n",
    "#注意未来函数；一般会使得回测收益高估；"
   ]
  },
  {
   "cell_type": "code",
   "execution_count": 74,
   "metadata": {
    "execution": {
     "iopub.execute_input": "2020-06-30T13:09:58.224911Z",
     "iopub.status.busy": "2020-06-30T13:09:58.224911Z",
     "iopub.status.idle": "2020-06-30T13:09:58.234885Z",
     "shell.execute_reply": "2020-06-30T13:09:58.233925Z",
     "shell.execute_reply.started": "2020-06-30T13:09:58.224911Z"
    }
   },
   "outputs": [
    {
     "data": {
      "text/plain": [
       "Returns     -2.47%\n",
       "strategy    -1.07%\n",
       "dtype: object"
      ]
     },
     "execution_count": 74,
     "metadata": {},
     "output_type": "execute_result"
    }
   ],
   "source": [
    "data_1[['Returns', 'strategy']].sum().apply(lambda x: format(x, '.2%'))   转换成百分比"
   ]
  },
  {
   "cell_type": "code",
   "execution_count": 75,
   "metadata": {
    "execution": {
     "iopub.execute_input": "2020-06-30T13:10:55.398342Z",
     "iopub.status.busy": "2020-06-30T13:10:55.398342Z",
     "iopub.status.idle": "2020-06-30T13:10:55.787869Z",
     "shell.execute_reply": "2020-06-30T13:10:55.786871Z",
     "shell.execute_reply.started": "2020-06-30T13:10:55.398342Z"
    }
   },
   "outputs": [
    {
     "data": {
      "text/plain": [
       "<matplotlib.axes._subplots.AxesSubplot at 0x135dfef0>"
      ]
     },
     "execution_count": 75,
     "metadata": {},
     "output_type": "execute_result"
    },
    {
     "data": {
      "image/png": "[encoded data removed]",
      "text/plain": [
       "<Figure size 720x432 with 1 Axes>"
      ]
     },
     "metadata": {},
     "output_type": "display_data"
    }
   ],
   "source": [
    "data_1[['Returns', 'strategy']].cumsum().apply(np.exp).plot(figsize=(10, 6))   #可视化；离散的计算方法参考Momoentum策略"
   ]
  },
  {
   "cell_type": "markdown",
   "metadata": {},
   "source": [
    "### 4. 策略收益风险评估"
   ]
  },
  {
   "cell_type": "code",
   "execution_count": 80,
   "metadata": {
    "execution": {
     "iopub.execute_input": "2020-06-30T13:13:44.978608Z",
     "iopub.status.busy": "2020-06-30T13:13:44.978608Z",
     "iopub.status.idle": "2020-06-30T13:13:44.986586Z",
     "shell.execute_reply": "2020-06-30T13:13:44.986586Z",
     "shell.execute_reply.started": "2020-06-30T13:13:44.978608Z"
    }
   },
   "outputs": [
    {
     "data": {
      "text/plain": [
       "Returns    -0.011691\n",
       "strategy   -0.005073\n",
       "dtype: float64"
      ]
     },
     "execution_count": 80,
     "metadata": {},
     "output_type": "execute_result"
    }
   ],
   "source": [
    "data_1[['Returns', 'strategy']].mean()* 252   #年化收益率；"
   ]
  },
  {
   "cell_type": "code",
   "execution_count": 81,
   "metadata": {
    "execution": {
     "iopub.execute_input": "2020-06-30T13:13:58.385862Z",
     "iopub.status.busy": "2020-06-30T13:13:58.385862Z",
     "iopub.status.idle": "2020-06-30T13:13:58.393802Z",
     "shell.execute_reply": "2020-06-30T13:13:58.393802Z",
     "shell.execute_reply.started": "2020-06-30T13:13:58.385862Z"
    }
   },
   "outputs": [
    {
     "data": {
      "text/plain": [
       "Returns     0.038052\n",
       "strategy    0.038093\n",
       "dtype: float64"
      ]
     },
     "execution_count": 81,
     "metadata": {},
     "output_type": "execute_result"
    }
   ],
   "source": [
    "data_1[['Returns', 'strategy']].std() * 252 ** 0.5   #年化风险；"
   ]
  },
  {
   "cell_type": "code",
   "execution_count": 82,
   "metadata": {
    "execution": {
     "iopub.execute_input": "2020-06-30T13:14:18.822668Z",
     "iopub.status.busy": "2020-06-30T13:14:18.822668Z",
     "iopub.status.idle": "2020-06-30T13:14:18.828653Z",
     "shell.execute_reply": "2020-06-30T13:14:18.827656Z",
     "shell.execute_reply.started": "2020-06-30T13:14:18.822668Z"
    }
   },
   "outputs": [],
   "source": [
    "data_1['cumret'] = data_1['strategy'].cumsum().apply(np.exp)"
   ]
  },
  {
   "cell_type": "code",
   "execution_count": 83,
   "metadata": {
    "execution": {
     "iopub.execute_input": "2020-06-30T13:14:38.167073Z",
     "iopub.status.busy": "2020-06-30T13:14:38.167073Z",
     "iopub.status.idle": "2020-06-30T13:14:38.172060Z",
     "shell.execute_reply": "2020-06-30T13:14:38.171675Z",
     "shell.execute_reply.started": "2020-06-30T13:14:38.167073Z"
    }
   },
   "outputs": [],
   "source": [
    "data_1['cummax'] = data_1['cumret'].cummax()"
   ]
  },
  {
   "cell_type": "code",
   "execution_count": 84,
   "metadata": {
    "execution": {
     "iopub.execute_input": "2020-06-30T13:14:44.092384Z",
     "iopub.status.busy": "2020-06-30T13:14:44.091388Z",
     "iopub.status.idle": "2020-06-30T13:14:44.108848Z",
     "shell.execute_reply": "2020-06-30T13:14:44.107867Z",
     "shell.execute_reply.started": "2020-06-30T13:14:44.092384Z"
    }
   },
   "outputs": [
    {
     "data": {
      "text/html": [
       "<div>\n",
       "<style scoped>\n",
       "    .dataframe tbody tr th:only-of-type {\n",
       "        vertical-align: middle;\n",
       "    }\n",
       "\n",
       "    .dataframe tbody tr th {\n",
       "        vertical-align: top;\n",
       "    }\n",
       "\n",
       "    .dataframe thead th {\n",
       "        text-align: right;\n",
       "    }\n",
       "</style>\n",
       "<table border=\"1\" class=\"dataframe\">\n",
       "  <thead>\n",
       "    <tr style=\"text-align: right;\">\n",
       "      <th></th>\n",
       "      <th>Open</th>\n",
       "      <th>High</th>\n",
       "      <th>Low</th>\n",
       "      <th>Close</th>\n",
       "      <th>Volume</th>\n",
       "      <th>SMA_10</th>\n",
       "      <th>SMA_20</th>\n",
       "      <th>Returns</th>\n",
       "      <th>Returns_dis</th>\n",
       "      <th>Return_dis2</th>\n",
       "      <th>Position</th>\n",
       "      <th>strategy</th>\n",
       "      <th>cumret</th>\n",
       "      <th>cummax</th>\n",
       "    </tr>\n",
       "    <tr>\n",
       "      <th>date</th>\n",
       "      <th></th>\n",
       "      <th></th>\n",
       "      <th></th>\n",
       "      <th></th>\n",
       "      <th></th>\n",
       "      <th></th>\n",
       "      <th></th>\n",
       "      <th></th>\n",
       "      <th></th>\n",
       "      <th></th>\n",
       "      <th></th>\n",
       "      <th></th>\n",
       "      <th></th>\n",
       "      <th></th>\n",
       "    </tr>\n",
       "  </thead>\n",
       "  <tbody>\n",
       "    <tr>\n",
       "      <th>2020-04-30 04:00:00</th>\n",
       "      <td>1.08629</td>\n",
       "      <td>1.08912</td>\n",
       "      <td>1.08534</td>\n",
       "      <td>1.08838</td>\n",
       "      <td>42999.190</td>\n",
       "      <td>1.084860</td>\n",
       "      <td>1.083807</td>\n",
       "      <td>0.001913</td>\n",
       "      <td>0.001915</td>\n",
       "      <td>0.001915</td>\n",
       "      <td>1</td>\n",
       "      <td>0.001913</td>\n",
       "      <td>0.983833</td>\n",
       "      <td>1.05448</td>\n",
       "    </tr>\n",
       "    <tr>\n",
       "      <th>2020-04-30 08:00:00</th>\n",
       "      <td>1.08839</td>\n",
       "      <td>1.08888</td>\n",
       "      <td>1.08591</td>\n",
       "      <td>1.08675</td>\n",
       "      <td>53522.490</td>\n",
       "      <td>1.085039</td>\n",
       "      <td>1.083843</td>\n",
       "      <td>-0.001499</td>\n",
       "      <td>-0.001498</td>\n",
       "      <td>-0.001498</td>\n",
       "      <td>1</td>\n",
       "      <td>-0.001499</td>\n",
       "      <td>0.982359</td>\n",
       "      <td>1.05448</td>\n",
       "    </tr>\n",
       "    <tr>\n",
       "      <th>2020-04-30 12:00:00</th>\n",
       "      <td>1.08676</td>\n",
       "      <td>1.09726</td>\n",
       "      <td>1.08330</td>\n",
       "      <td>1.09333</td>\n",
       "      <td>109386.730</td>\n",
       "      <td>1.085497</td>\n",
       "      <td>1.083968</td>\n",
       "      <td>0.006036</td>\n",
       "      <td>0.006055</td>\n",
       "      <td>0.006055</td>\n",
       "      <td>1</td>\n",
       "      <td>0.006036</td>\n",
       "      <td>0.988307</td>\n",
       "      <td>1.05448</td>\n",
       "    </tr>\n",
       "    <tr>\n",
       "      <th>2020-04-30 16:00:00</th>\n",
       "      <td>1.09334</td>\n",
       "      <td>1.09636</td>\n",
       "      <td>1.09207</td>\n",
       "      <td>1.09561</td>\n",
       "      <td>49412.000</td>\n",
       "      <td>1.086003</td>\n",
       "      <td>1.084117</td>\n",
       "      <td>0.002083</td>\n",
       "      <td>0.002085</td>\n",
       "      <td>0.002085</td>\n",
       "      <td>1</td>\n",
       "      <td>0.002083</td>\n",
       "      <td>0.990368</td>\n",
       "      <td>1.05448</td>\n",
       "    </tr>\n",
       "    <tr>\n",
       "      <th>2020-04-30 20:00:00</th>\n",
       "      <td>1.09561</td>\n",
       "      <td>1.09589</td>\n",
       "      <td>1.09409</td>\n",
       "      <td>1.09448</td>\n",
       "      <td>13886.505</td>\n",
       "      <td>1.086585</td>\n",
       "      <td>1.084311</td>\n",
       "      <td>-0.001032</td>\n",
       "      <td>-0.001031</td>\n",
       "      <td>-0.001031</td>\n",
       "      <td>1</td>\n",
       "      <td>-0.001032</td>\n",
       "      <td>0.989347</td>\n",
       "      <td>1.05448</td>\n",
       "    </tr>\n",
       "  </tbody>\n",
       "</table>\n",
       "</div>"
      ],
      "text/plain": [
       "                        Open     High      Low    Close     Volume     SMA_10  \\\n",
       "date                                                                            \n",
       "2020-04-30 04:00:00  1.08629  1.08912  1.08534  1.08838   42999.190  1.084860   \n",
       "2020-04-30 08:00:00  1.08839  1.08888  1.08591  1.08675   53522.490  1.085039   \n",
       "2020-04-30 12:00:00  1.08676  1.09726  1.08330  1.09333  109386.730  1.085497   \n",
       "2020-04-30 16:00:00  1.09334  1.09636  1.09207  1.09561   49412.000  1.086003   \n",
       "2020-04-30 20:00:00  1.09561  1.09589  1.09409  1.09448   13886.505  1.086585   \n",
       "\n",
       "                       SMA_20   Returns  Returns_dis  Return_dis2  Position  \\\n",
       "date                                                                          \n",
       "2020-04-30 04:00:00  1.083807  0.001913     0.001915     0.001915         1   \n",
       "2020-04-30 08:00:00  1.083843 -0.001499    -0.001498    -0.001498         1   \n",
       "2020-04-30 12:00:00  1.083968  0.006036     0.006055     0.006055         1   \n",
       "2020-04-30 16:00:00  1.084117  0.002083     0.002085     0.002085         1   \n",
       "2020-04-30 20:00:00  1.084311 -0.001032    -0.001031    -0.001031         1   \n",
       "\n",
       "                     strategy    cumret   cummax  \n",
       "date                                              \n",
       "2020-04-30 04:00:00  0.001913  0.983833  1.05448  \n",
       "2020-04-30 08:00:00 -0.001499  0.982359  1.05448  \n",
       "2020-04-30 12:00:00  0.006036  0.988307  1.05448  \n",
       "2020-04-30 16:00:00  0.002083  0.990368  1.05448  \n",
       "2020-04-30 20:00:00 -0.001032  0.989347  1.05448  "
      ]
     },
     "execution_count": 84,
     "metadata": {},
     "output_type": "execute_result"
    }
   ],
   "source": [
    "data_1.tail()"
   ]
  },
  {
   "cell_type": "code",
   "execution_count": 85,
   "metadata": {
    "execution": {
     "iopub.execute_input": "2020-06-30T13:14:51.800679Z",
     "iopub.status.busy": "2020-06-30T13:14:51.800679Z",
     "iopub.status.idle": "2020-06-30T13:14:52.194333Z",
     "shell.execute_reply": "2020-06-30T13:14:52.194333Z",
     "shell.execute_reply.started": "2020-06-30T13:14:51.800679Z"
    }
   },
   "outputs": [
    {
     "data": {
      "text/plain": [
       "<matplotlib.axes._subplots.AxesSubplot at 0x130dfa90>"
      ]
     },
     "execution_count": 85,
     "metadata": {},
     "output_type": "execute_result"
    },
    {
     "data": {
      "image/png": "[encoded data removed]",
      "text/plain": [
       "<Figure size 720x432 with 1 Axes>"
      ]
     },
     "metadata": {},
     "output_type": "display_data"
    }
   ],
   "source": [
    "data_1[['cumret', 'cummax']].plot(figsize=(10, 6))"
   ]
  },
  {
   "cell_type": "code",
   "execution_count": 86,
   "metadata": {
    "execution": {
     "iopub.execute_input": "2020-06-30T13:15:08.002014Z",
     "iopub.status.busy": "2020-06-30T13:15:08.001019Z",
     "iopub.status.idle": "2020-06-30T13:15:08.006003Z",
     "shell.execute_reply": "2020-06-30T13:15:08.006003Z",
     "shell.execute_reply.started": "2020-06-30T13:15:08.002014Z"
    }
   },
   "outputs": [],
   "source": [
    "drawdown = (data_1['cummax'] - data_1['cumret'])"
   ]
  },
  {
   "cell_type": "code",
   "execution_count": 91,
   "metadata": {
    "execution": {
     "iopub.execute_input": "2020-06-30T13:19:12.850707Z",
     "iopub.status.busy": "2020-06-30T13:19:12.850707Z",
     "iopub.status.idle": "2020-06-30T13:19:12.857689Z",
     "shell.execute_reply": "2020-06-30T13:19:12.856691Z",
     "shell.execute_reply.started": "2020-06-30T13:19:12.850707Z"
    }
   },
   "outputs": [
    {
     "data": {
      "text/plain": [
       "'最大回撤为：7.49%'"
      ]
     },
     "execution_count": 91,
     "metadata": {},
     "output_type": "execute_result"
    }
   ],
   "source": [
    "'最大回撤为：'+format(drawdown.max(),'.2%')        #计算原理：最大回撤；"
   ]
  },
  {
   "cell_type": "markdown",
   "metadata": {},
   "source": [
    "### 策略的优化思路"
   ]
  },
  {
   "cell_type": "markdown",
   "metadata": {},
   "source": [
    "##### 思路（一）：增加阈值"
   ]
  },
  {
   "cell_type": "code",
   "execution_count": 92,
   "metadata": {
    "execution": {
     "iopub.execute_input": "2020-06-30T13:21:33.300636Z",
     "iopub.status.busy": "2020-06-30T13:21:33.300636Z",
     "iopub.status.idle": "2020-06-30T13:21:33.312605Z",
     "shell.execute_reply": "2020-06-30T13:21:33.311607Z",
     "shell.execute_reply.started": "2020-06-30T13:21:33.300636Z"
    }
   },
   "outputs": [
    {
     "data": {
      "text/html": [
       "<div>\n",
       "<style scoped>\n",
       "    .dataframe tbody tr th:only-of-type {\n",
       "        vertical-align: middle;\n",
       "    }\n",
       "\n",
       "    .dataframe tbody tr th {\n",
       "        vertical-align: top;\n",
       "    }\n",
       "\n",
       "    .dataframe thead th {\n",
       "        text-align: right;\n",
       "    }\n",
       "</style>\n",
       "<table border=\"1\" class=\"dataframe\">\n",
       "  <thead>\n",
       "    <tr style=\"text-align: right;\">\n",
       "      <th></th>\n",
       "      <th>Close</th>\n",
       "      <th>SMA_10</th>\n",
       "      <th>SMA_20</th>\n",
       "    </tr>\n",
       "    <tr>\n",
       "      <th>date</th>\n",
       "      <th></th>\n",
       "      <th></th>\n",
       "      <th></th>\n",
       "    </tr>\n",
       "  </thead>\n",
       "  <tbody>\n",
       "    <tr>\n",
       "      <th>2020-04-30 04:00:00</th>\n",
       "      <td>1.08838</td>\n",
       "      <td>1.084860</td>\n",
       "      <td>1.083807</td>\n",
       "    </tr>\n",
       "    <tr>\n",
       "      <th>2020-04-30 08:00:00</th>\n",
       "      <td>1.08675</td>\n",
       "      <td>1.085039</td>\n",
       "      <td>1.083843</td>\n",
       "    </tr>\n",
       "    <tr>\n",
       "      <th>2020-04-30 12:00:00</th>\n",
       "      <td>1.09333</td>\n",
       "      <td>1.085497</td>\n",
       "      <td>1.083968</td>\n",
       "    </tr>\n",
       "    <tr>\n",
       "      <th>2020-04-30 16:00:00</th>\n",
       "      <td>1.09561</td>\n",
       "      <td>1.086003</td>\n",
       "      <td>1.084117</td>\n",
       "    </tr>\n",
       "    <tr>\n",
       "      <th>2020-04-30 20:00:00</th>\n",
       "      <td>1.09448</td>\n",
       "      <td>1.086585</td>\n",
       "      <td>1.084311</td>\n",
       "    </tr>\n",
       "  </tbody>\n",
       "</table>\n",
       "</div>"
      ],
      "text/plain": [
       "                       Close    SMA_10    SMA_20\n",
       "date                                            \n",
       "2020-04-30 04:00:00  1.08838  1.084860  1.083807\n",
       "2020-04-30 08:00:00  1.08675  1.085039  1.083843\n",
       "2020-04-30 12:00:00  1.09333  1.085497  1.083968\n",
       "2020-04-30 16:00:00  1.09561  1.086003  1.084117\n",
       "2020-04-30 20:00:00  1.09448  1.086585  1.084311"
      ]
     },
     "execution_count": 92,
     "metadata": {},
     "output_type": "execute_result"
    }
   ],
   "source": [
    "data_1[['Close', 'SMA_10', 'SMA_20']].tail()"
   ]
  },
  {
   "cell_type": "code",
   "execution_count": 93,
   "metadata": {
    "execution": {
     "iopub.execute_input": "2020-06-30T13:22:02.291948Z",
     "iopub.status.busy": "2020-06-30T13:22:02.290949Z",
     "iopub.status.idle": "2020-06-30T13:22:02.705365Z",
     "shell.execute_reply": "2020-06-30T13:22:02.704367Z",
     "shell.execute_reply.started": "2020-06-30T13:22:02.291948Z"
    },
    "scrolled": true
   },
   "outputs": [
    {
     "data": {
      "text/plain": [
       "<matplotlib.axes._subplots.AxesSubplot at 0x13276170>"
      ]
     },
     "execution_count": 93,
     "metadata": {},
     "output_type": "execute_result"
    },
    {
     "data": {
      "image/png": "[encoded data removed]",
      "text/plain": [
       "<Figure size 720x576 with 1 Axes>"
      ]
     },
     "metadata": {},
     "output_type": "display_data"
    }
   ],
   "source": [
    "data_1[['Close', 'SMA_10', 'SMA_20']].plot(grid=True, figsize = (10,8))"
   ]
  },
  {
   "cell_type": "code",
   "execution_count": 94,
   "metadata": {
    "execution": {
     "iopub.execute_input": "2020-06-30T13:24:00.789452Z",
     "iopub.status.busy": "2020-06-30T13:24:00.789452Z",
     "iopub.status.idle": "2020-06-30T13:24:00.804408Z",
     "shell.execute_reply": "2020-06-30T13:24:00.804408Z",
     "shell.execute_reply.started": "2020-06-30T13:24:00.789452Z"
    }
   },
   "outputs": [
    {
     "data": {
      "text/plain": [
       "date\n",
       "2020-04-30 04:00:00    0.001052\n",
       "2020-04-30 08:00:00    0.001196\n",
       "2020-04-30 12:00:00    0.001529\n",
       "2020-04-30 16:00:00    0.001886\n",
       "2020-04-30 20:00:00    0.002274\n",
       "Name: 10-20, dtype: float64"
      ]
     },
     "execution_count": 94,
     "metadata": {},
     "output_type": "execute_result"
    }
   ],
   "source": [
    "data_1['10-20'] = data_1['SMA_10'] - data_1['SMA_20']\n",
    "data_1['10-20'].tail()"
   ]
  },
  {
   "cell_type": "code",
   "execution_count": 95,
   "metadata": {
    "execution": {
     "iopub.execute_input": "2020-06-30T13:25:41.755619Z",
     "iopub.status.busy": "2020-06-30T13:25:41.755619Z",
     "iopub.status.idle": "2020-06-30T13:25:41.766591Z",
     "shell.execute_reply": "2020-06-30T13:25:41.766591Z",
     "shell.execute_reply.started": "2020-06-30T13:25:41.755619Z"
    }
   },
   "outputs": [
    {
     "data": {
      "text/plain": [
       "-1    294\n",
       " 1    174\n",
       " 0     65\n",
       "Name: regime, dtype: int64"
      ]
     },
     "execution_count": 95,
     "metadata": {},
     "output_type": "execute_result"
    }
   ],
   "source": [
    "SD = 0.00100                     #阈值\n",
    "data_1['regime'] = np.where(data_1['10-20']> SD, 1,0)\n",
    "data_1['regime'] = np.where(data_1['10-20']< -SD, -1,data_1['regime'])    #核心重要；\n",
    "data_1['regime'].value_counts()"
   ]
  },
  {
   "cell_type": "code",
   "execution_count": 96,
   "metadata": {
    "collapsed": true,
    "execution": {
     "iopub.execute_input": "2020-06-30T13:25:55.408686Z",
     "iopub.status.busy": "2020-06-30T13:25:55.407691Z",
     "iopub.status.idle": "2020-06-30T13:25:55.435156Z",
     "shell.execute_reply": "2020-06-30T13:25:55.434197Z",
     "shell.execute_reply.started": "2020-06-30T13:25:55.408686Z"
    },
    "jupyter": {
     "outputs_hidden": true
    }
   },
   "outputs": [
    {
     "data": {
      "text/html": [
       "<div>\n",
       "<style scoped>\n",
       "    .dataframe tbody tr th:only-of-type {\n",
       "        vertical-align: middle;\n",
       "    }\n",
       "\n",
       "    .dataframe tbody tr th {\n",
       "        vertical-align: top;\n",
       "    }\n",
       "\n",
       "    .dataframe thead th {\n",
       "        text-align: right;\n",
       "    }\n",
       "</style>\n",
       "<table border=\"1\" class=\"dataframe\">\n",
       "  <thead>\n",
       "    <tr style=\"text-align: right;\">\n",
       "      <th></th>\n",
       "      <th>Open</th>\n",
       "      <th>High</th>\n",
       "      <th>Low</th>\n",
       "      <th>Close</th>\n",
       "      <th>Volume</th>\n",
       "      <th>SMA_10</th>\n",
       "      <th>SMA_20</th>\n",
       "      <th>Returns</th>\n",
       "      <th>Returns_dis</th>\n",
       "      <th>Return_dis2</th>\n",
       "      <th>Position</th>\n",
       "      <th>strategy</th>\n",
       "      <th>cumret</th>\n",
       "      <th>cummax</th>\n",
       "      <th>10-20</th>\n",
       "      <th>regime</th>\n",
       "    </tr>\n",
       "    <tr>\n",
       "      <th>date</th>\n",
       "      <th></th>\n",
       "      <th></th>\n",
       "      <th></th>\n",
       "      <th></th>\n",
       "      <th></th>\n",
       "      <th></th>\n",
       "      <th></th>\n",
       "      <th></th>\n",
       "      <th></th>\n",
       "      <th></th>\n",
       "      <th></th>\n",
       "      <th></th>\n",
       "      <th></th>\n",
       "      <th></th>\n",
       "      <th></th>\n",
       "      <th></th>\n",
       "    </tr>\n",
       "  </thead>\n",
       "  <tbody>\n",
       "    <tr>\n",
       "      <th>2020-04-27 16:00:00</th>\n",
       "      <td>1.08285</td>\n",
       "      <td>1.08343</td>\n",
       "      <td>1.08165</td>\n",
       "      <td>1.08291</td>\n",
       "      <td>27591.800</td>\n",
       "      <td>1.080523</td>\n",
       "      <td>1.085579</td>\n",
       "      <td>0.000055</td>\n",
       "      <td>0.000055</td>\n",
       "      <td>0.000055</td>\n",
       "      <td>-1</td>\n",
       "      <td>-0.000055</td>\n",
       "      <td>0.987240</td>\n",
       "      <td>1.05448</td>\n",
       "      <td>-0.005056</td>\n",
       "      <td>-1</td>\n",
       "    </tr>\n",
       "    <tr>\n",
       "      <th>2020-04-27 20:00:00</th>\n",
       "      <td>1.08290</td>\n",
       "      <td>1.08314</td>\n",
       "      <td>1.08209</td>\n",
       "      <td>1.08245</td>\n",
       "      <td>11187.515</td>\n",
       "      <td>1.080556</td>\n",
       "      <td>1.085401</td>\n",
       "      <td>-0.000425</td>\n",
       "      <td>-0.000425</td>\n",
       "      <td>-0.000425</td>\n",
       "      <td>-1</td>\n",
       "      <td>0.000425</td>\n",
       "      <td>0.987660</td>\n",
       "      <td>1.05448</td>\n",
       "      <td>-0.004845</td>\n",
       "      <td>-1</td>\n",
       "    </tr>\n",
       "    <tr>\n",
       "      <th>2020-04-28 00:00:00</th>\n",
       "      <td>1.08244</td>\n",
       "      <td>1.08360</td>\n",
       "      <td>1.08226</td>\n",
       "      <td>1.08242</td>\n",
       "      <td>18458.990</td>\n",
       "      <td>1.080646</td>\n",
       "      <td>1.085168</td>\n",
       "      <td>-0.000028</td>\n",
       "      <td>-0.000028</td>\n",
       "      <td>-0.000028</td>\n",
       "      <td>-1</td>\n",
       "      <td>0.000028</td>\n",
       "      <td>0.987687</td>\n",
       "      <td>1.05448</td>\n",
       "      <td>-0.004523</td>\n",
       "      <td>-1</td>\n",
       "    </tr>\n",
       "    <tr>\n",
       "      <th>2020-04-28 04:00:00</th>\n",
       "      <td>1.08242</td>\n",
       "      <td>1.08408</td>\n",
       "      <td>1.08097</td>\n",
       "      <td>1.08392</td>\n",
       "      <td>35166.930</td>\n",
       "      <td>1.080796</td>\n",
       "      <td>1.084950</td>\n",
       "      <td>0.001385</td>\n",
       "      <td>0.001386</td>\n",
       "      <td>0.001386</td>\n",
       "      <td>-1</td>\n",
       "      <td>-0.001385</td>\n",
       "      <td>0.986321</td>\n",
       "      <td>1.05448</td>\n",
       "      <td>-0.004155</td>\n",
       "      <td>-1</td>\n",
       "    </tr>\n",
       "    <tr>\n",
       "      <th>2020-04-28 08:00:00</th>\n",
       "      <td>1.08393</td>\n",
       "      <td>1.08884</td>\n",
       "      <td>1.08370</td>\n",
       "      <td>1.08863</td>\n",
       "      <td>57747.640</td>\n",
       "      <td>1.081247</td>\n",
       "      <td>1.084784</td>\n",
       "      <td>0.004336</td>\n",
       "      <td>0.004345</td>\n",
       "      <td>0.004345</td>\n",
       "      <td>-1</td>\n",
       "      <td>-0.004336</td>\n",
       "      <td>0.982053</td>\n",
       "      <td>1.05448</td>\n",
       "      <td>-0.003537</td>\n",
       "      <td>-1</td>\n",
       "    </tr>\n",
       "    <tr>\n",
       "      <th>2020-04-28 12:00:00</th>\n",
       "      <td>1.08866</td>\n",
       "      <td>1.08881</td>\n",
       "      <td>1.08248</td>\n",
       "      <td>1.08362</td>\n",
       "      <td>61937.140</td>\n",
       "      <td>1.081599</td>\n",
       "      <td>1.084539</td>\n",
       "      <td>-0.004613</td>\n",
       "      <td>-0.004602</td>\n",
       "      <td>-0.004602</td>\n",
       "      <td>-1</td>\n",
       "      <td>0.004613</td>\n",
       "      <td>0.986594</td>\n",
       "      <td>1.05448</td>\n",
       "      <td>-0.002941</td>\n",
       "      <td>-1</td>\n",
       "    </tr>\n",
       "    <tr>\n",
       "      <th>2020-04-28 16:00:00</th>\n",
       "      <td>1.08361</td>\n",
       "      <td>1.08399</td>\n",
       "      <td>1.08252</td>\n",
       "      <td>1.08326</td>\n",
       "      <td>29219.580</td>\n",
       "      <td>1.081694</td>\n",
       "      <td>1.084298</td>\n",
       "      <td>-0.000332</td>\n",
       "      <td>-0.000332</td>\n",
       "      <td>-0.000332</td>\n",
       "      <td>-1</td>\n",
       "      <td>0.000332</td>\n",
       "      <td>0.986921</td>\n",
       "      <td>1.05448</td>\n",
       "      <td>-0.002605</td>\n",
       "      <td>-1</td>\n",
       "    </tr>\n",
       "    <tr>\n",
       "      <th>2020-04-28 20:00:00</th>\n",
       "      <td>1.08327</td>\n",
       "      <td>1.08342</td>\n",
       "      <td>1.08176</td>\n",
       "      <td>1.08324</td>\n",
       "      <td>9365.935</td>\n",
       "      <td>1.081946</td>\n",
       "      <td>1.084136</td>\n",
       "      <td>-0.000018</td>\n",
       "      <td>-0.000018</td>\n",
       "      <td>-0.000018</td>\n",
       "      <td>-1</td>\n",
       "      <td>0.000018</td>\n",
       "      <td>0.986940</td>\n",
       "      <td>1.05448</td>\n",
       "      <td>-0.002191</td>\n",
       "      <td>-1</td>\n",
       "    </tr>\n",
       "    <tr>\n",
       "      <th>2020-04-29 00:00:00</th>\n",
       "      <td>1.08324</td>\n",
       "      <td>1.08545</td>\n",
       "      <td>1.08308</td>\n",
       "      <td>1.08467</td>\n",
       "      <td>20190.760</td>\n",
       "      <td>1.082308</td>\n",
       "      <td>1.084025</td>\n",
       "      <td>0.001319</td>\n",
       "      <td>0.001320</td>\n",
       "      <td>0.001320</td>\n",
       "      <td>-1</td>\n",
       "      <td>-0.001319</td>\n",
       "      <td>0.985639</td>\n",
       "      <td>1.05448</td>\n",
       "      <td>-0.001717</td>\n",
       "      <td>-1</td>\n",
       "    </tr>\n",
       "    <tr>\n",
       "      <th>2020-04-29 04:00:00</th>\n",
       "      <td>1.08467</td>\n",
       "      <td>1.08716</td>\n",
       "      <td>1.08392</td>\n",
       "      <td>1.08702</td>\n",
       "      <td>35377.600</td>\n",
       "      <td>1.082803</td>\n",
       "      <td>1.083961</td>\n",
       "      <td>0.002164</td>\n",
       "      <td>0.002167</td>\n",
       "      <td>0.002167</td>\n",
       "      <td>-1</td>\n",
       "      <td>-0.002164</td>\n",
       "      <td>0.983508</td>\n",
       "      <td>1.05448</td>\n",
       "      <td>-0.001158</td>\n",
       "      <td>-1</td>\n",
       "    </tr>\n",
       "    <tr>\n",
       "      <th>2020-04-29 08:00:00</th>\n",
       "      <td>1.08701</td>\n",
       "      <td>1.08741</td>\n",
       "      <td>1.08411</td>\n",
       "      <td>1.08423</td>\n",
       "      <td>43336.900</td>\n",
       "      <td>1.083312</td>\n",
       "      <td>1.083843</td>\n",
       "      <td>-0.002570</td>\n",
       "      <td>-0.002567</td>\n",
       "      <td>-0.002567</td>\n",
       "      <td>-1</td>\n",
       "      <td>0.002570</td>\n",
       "      <td>0.986038</td>\n",
       "      <td>1.05448</td>\n",
       "      <td>-0.000531</td>\n",
       "      <td>0</td>\n",
       "    </tr>\n",
       "    <tr>\n",
       "      <th>2020-04-29 12:00:00</th>\n",
       "      <td>1.08424</td>\n",
       "      <td>1.08682</td>\n",
       "      <td>1.08395</td>\n",
       "      <td>1.08523</td>\n",
       "      <td>60398.690</td>\n",
       "      <td>1.083607</td>\n",
       "      <td>1.083757</td>\n",
       "      <td>0.000922</td>\n",
       "      <td>0.000922</td>\n",
       "      <td>0.000922</td>\n",
       "      <td>-1</td>\n",
       "      <td>-0.000922</td>\n",
       "      <td>0.985130</td>\n",
       "      <td>1.05448</td>\n",
       "      <td>-0.000150</td>\n",
       "      <td>0</td>\n",
       "    </tr>\n",
       "    <tr>\n",
       "      <th>2020-04-29 16:00:00</th>\n",
       "      <td>1.08523</td>\n",
       "      <td>1.08856</td>\n",
       "      <td>1.08471</td>\n",
       "      <td>1.08752</td>\n",
       "      <td>46479.310</td>\n",
       "      <td>1.083998</td>\n",
       "      <td>1.083760</td>\n",
       "      <td>0.002108</td>\n",
       "      <td>0.002110</td>\n",
       "      <td>0.002110</td>\n",
       "      <td>1</td>\n",
       "      <td>-0.002108</td>\n",
       "      <td>0.983056</td>\n",
       "      <td>1.05448</td>\n",
       "      <td>0.000238</td>\n",
       "      <td>0</td>\n",
       "    </tr>\n",
       "    <tr>\n",
       "      <th>2020-04-29 20:00:00</th>\n",
       "      <td>1.08753</td>\n",
       "      <td>1.08790</td>\n",
       "      <td>1.08698</td>\n",
       "      <td>1.08772</td>\n",
       "      <td>9611.060</td>\n",
       "      <td>1.084328</td>\n",
       "      <td>1.083767</td>\n",
       "      <td>0.000184</td>\n",
       "      <td>0.000184</td>\n",
       "      <td>0.000184</td>\n",
       "      <td>1</td>\n",
       "      <td>0.000184</td>\n",
       "      <td>0.983236</td>\n",
       "      <td>1.05448</td>\n",
       "      <td>0.000561</td>\n",
       "      <td>0</td>\n",
       "    </tr>\n",
       "    <tr>\n",
       "      <th>2020-04-30 00:00:00</th>\n",
       "      <td>1.08770</td>\n",
       "      <td>1.08771</td>\n",
       "      <td>1.08513</td>\n",
       "      <td>1.08630</td>\n",
       "      <td>22517.600</td>\n",
       "      <td>1.084545</td>\n",
       "      <td>1.083735</td>\n",
       "      <td>-0.001306</td>\n",
       "      <td>-0.001305</td>\n",
       "      <td>-0.001305</td>\n",
       "      <td>1</td>\n",
       "      <td>-0.001306</td>\n",
       "      <td>0.981953</td>\n",
       "      <td>1.05448</td>\n",
       "      <td>0.000810</td>\n",
       "      <td>0</td>\n",
       "    </tr>\n",
       "    <tr>\n",
       "      <th>2020-04-30 04:00:00</th>\n",
       "      <td>1.08629</td>\n",
       "      <td>1.08912</td>\n",
       "      <td>1.08534</td>\n",
       "      <td>1.08838</td>\n",
       "      <td>42999.190</td>\n",
       "      <td>1.084860</td>\n",
       "      <td>1.083807</td>\n",
       "      <td>0.001913</td>\n",
       "      <td>0.001915</td>\n",
       "      <td>0.001915</td>\n",
       "      <td>1</td>\n",
       "      <td>0.001913</td>\n",
       "      <td>0.983833</td>\n",
       "      <td>1.05448</td>\n",
       "      <td>0.001052</td>\n",
       "      <td>1</td>\n",
       "    </tr>\n",
       "    <tr>\n",
       "      <th>2020-04-30 08:00:00</th>\n",
       "      <td>1.08839</td>\n",
       "      <td>1.08888</td>\n",
       "      <td>1.08591</td>\n",
       "      <td>1.08675</td>\n",
       "      <td>53522.490</td>\n",
       "      <td>1.085039</td>\n",
       "      <td>1.083843</td>\n",
       "      <td>-0.001499</td>\n",
       "      <td>-0.001498</td>\n",
       "      <td>-0.001498</td>\n",
       "      <td>1</td>\n",
       "      <td>-0.001499</td>\n",
       "      <td>0.982359</td>\n",
       "      <td>1.05448</td>\n",
       "      <td>0.001196</td>\n",
       "      <td>1</td>\n",
       "    </tr>\n",
       "    <tr>\n",
       "      <th>2020-04-30 12:00:00</th>\n",
       "      <td>1.08676</td>\n",
       "      <td>1.09726</td>\n",
       "      <td>1.08330</td>\n",
       "      <td>1.09333</td>\n",
       "      <td>109386.730</td>\n",
       "      <td>1.085497</td>\n",
       "      <td>1.083968</td>\n",
       "      <td>0.006036</td>\n",
       "      <td>0.006055</td>\n",
       "      <td>0.006055</td>\n",
       "      <td>1</td>\n",
       "      <td>0.006036</td>\n",
       "      <td>0.988307</td>\n",
       "      <td>1.05448</td>\n",
       "      <td>0.001529</td>\n",
       "      <td>1</td>\n",
       "    </tr>\n",
       "    <tr>\n",
       "      <th>2020-04-30 16:00:00</th>\n",
       "      <td>1.09334</td>\n",
       "      <td>1.09636</td>\n",
       "      <td>1.09207</td>\n",
       "      <td>1.09561</td>\n",
       "      <td>49412.000</td>\n",
       "      <td>1.086003</td>\n",
       "      <td>1.084117</td>\n",
       "      <td>0.002083</td>\n",
       "      <td>0.002085</td>\n",
       "      <td>0.002085</td>\n",
       "      <td>1</td>\n",
       "      <td>0.002083</td>\n",
       "      <td>0.990368</td>\n",
       "      <td>1.05448</td>\n",
       "      <td>0.001886</td>\n",
       "      <td>1</td>\n",
       "    </tr>\n",
       "    <tr>\n",
       "      <th>2020-04-30 20:00:00</th>\n",
       "      <td>1.09561</td>\n",
       "      <td>1.09589</td>\n",
       "      <td>1.09409</td>\n",
       "      <td>1.09448</td>\n",
       "      <td>13886.505</td>\n",
       "      <td>1.086585</td>\n",
       "      <td>1.084311</td>\n",
       "      <td>-0.001032</td>\n",
       "      <td>-0.001031</td>\n",
       "      <td>-0.001031</td>\n",
       "      <td>1</td>\n",
       "      <td>-0.001032</td>\n",
       "      <td>0.989347</td>\n",
       "      <td>1.05448</td>\n",
       "      <td>0.002274</td>\n",
       "      <td>1</td>\n",
       "    </tr>\n",
       "  </tbody>\n",
       "</table>\n",
       "</div>"
      ],
      "text/plain": [
       "                        Open     High      Low    Close     Volume     SMA_10  \\\n",
       "date                                                                            \n",
       "2020-04-27 16:00:00  1.08285  1.08343  1.08165  1.08291   27591.800  1.080523   \n",
       "2020-04-27 20:00:00  1.08290  1.08314  1.08209  1.08245   11187.515  1.080556   \n",
       "2020-04-28 00:00:00  1.08244  1.08360  1.08226  1.08242   18458.990  1.080646   \n",
       "2020-04-28 04:00:00  1.08242  1.08408  1.08097  1.08392   35166.930  1.080796   \n",
       "2020-04-28 08:00:00  1.08393  1.08884  1.08370  1.08863   57747.640  1.081247   \n",
       "2020-04-28 12:00:00  1.08866  1.08881  1.08248  1.08362   61937.140  1.081599   \n",
       "2020-04-28 16:00:00  1.08361  1.08399  1.08252  1.08326   29219.580  1.081694   \n",
       "2020-04-28 20:00:00  1.08327  1.08342  1.08176  1.08324    9365.935  1.081946   \n",
       "2020-04-29 00:00:00  1.08324  1.08545  1.08308  1.08467   20190.760  1.082308   \n",
       "2020-04-29 04:00:00  1.08467  1.08716  1.08392  1.08702   35377.600  1.082803   \n",
       "2020-04-29 08:00:00  1.08701  1.08741  1.08411  1.08423   43336.900  1.083312   \n",
       "2020-04-29 12:00:00  1.08424  1.08682  1.08395  1.08523   60398.690  1.083607   \n",
       "2020-04-29 16:00:00  1.08523  1.08856  1.08471  1.08752   46479.310  1.083998   \n",
       "2020-04-29 20:00:00  1.08753  1.08790  1.08698  1.08772    9611.060  1.084328   \n",
       "2020-04-30 00:00:00  1.08770  1.08771  1.08513  1.08630   22517.600  1.084545   \n",
       "2020-04-30 04:00:00  1.08629  1.08912  1.08534  1.08838   42999.190  1.084860   \n",
       "2020-04-30 08:00:00  1.08839  1.08888  1.08591  1.08675   53522.490  1.085039   \n",
       "2020-04-30 12:00:00  1.08676  1.09726  1.08330  1.09333  109386.730  1.085497   \n",
       "2020-04-30 16:00:00  1.09334  1.09636  1.09207  1.09561   49412.000  1.086003   \n",
       "2020-04-30 20:00:00  1.09561  1.09589  1.09409  1.09448   13886.505  1.086585   \n",
       "\n",
       "                       SMA_20   Returns  Returns_dis  Return_dis2  Position  \\\n",
       "date                                                                          \n",
       "2020-04-27 16:00:00  1.085579  0.000055     0.000055     0.000055        -1   \n",
       "2020-04-27 20:00:00  1.085401 -0.000425    -0.000425    -0.000425        -1   \n",
       "2020-04-28 00:00:00  1.085168 -0.000028    -0.000028    -0.000028        -1   \n",
       "2020-04-28 04:00:00  1.084950  0.001385     0.001386     0.001386        -1   \n",
       "2020-04-28 08:00:00  1.084784  0.004336     0.004345     0.004345        -1   \n",
       "2020-04-28 12:00:00  1.084539 -0.004613    -0.004602    -0.004602        -1   \n",
       "2020-04-28 16:00:00  1.084298 -0.000332    -0.000332    -0.000332        -1   \n",
       "2020-04-28 20:00:00  1.084136 -0.000018    -0.000018    -0.000018        -1   \n",
       "2020-04-29 00:00:00  1.084025  0.001319     0.001320     0.001320        -1   \n",
       "2020-04-29 04:00:00  1.083961  0.002164     0.002167     0.002167        -1   \n",
       "2020-04-29 08:00:00  1.083843 -0.002570    -0.002567    -0.002567        -1   \n",
       "2020-04-29 12:00:00  1.083757  0.000922     0.000922     0.000922        -1   \n",
       "2020-04-29 16:00:00  1.083760  0.002108     0.002110     0.002110         1   \n",
       "2020-04-29 20:00:00  1.083767  0.000184     0.000184     0.000184         1   \n",
       "2020-04-30 00:00:00  1.083735 -0.001306    -0.001305    -0.001305         1   \n",
       "2020-04-30 04:00:00  1.083807  0.001913     0.001915     0.001915         1   \n",
       "2020-04-30 08:00:00  1.083843 -0.001499    -0.001498    -0.001498         1   \n",
       "2020-04-30 12:00:00  1.083968  0.006036     0.006055     0.006055         1   \n",
       "2020-04-30 16:00:00  1.084117  0.002083     0.002085     0.002085         1   \n",
       "2020-04-30 20:00:00  1.084311 -0.001032    -0.001031    -0.001031         1   \n",
       "\n",
       "                     strategy    cumret   cummax     10-20  regime  \n",
       "date                                                                \n",
       "2020-04-27 16:00:00 -0.000055  0.987240  1.05448 -0.005056      -1  \n",
       "2020-04-27 20:00:00  0.000425  0.987660  1.05448 -0.004845      -1  \n",
       "2020-04-28 00:00:00  0.000028  0.987687  1.05448 -0.004523      -1  \n",
       "2020-04-28 04:00:00 -0.001385  0.986321  1.05448 -0.004155      -1  \n",
       "2020-04-28 08:00:00 -0.004336  0.982053  1.05448 -0.003537      -1  \n",
       "2020-04-28 12:00:00  0.004613  0.986594  1.05448 -0.002941      -1  \n",
       "2020-04-28 16:00:00  0.000332  0.986921  1.05448 -0.002605      -1  \n",
       "2020-04-28 20:00:00  0.000018  0.986940  1.05448 -0.002191      -1  \n",
       "2020-04-29 00:00:00 -0.001319  0.985639  1.05448 -0.001717      -1  \n",
       "2020-04-29 04:00:00 -0.002164  0.983508  1.05448 -0.001158      -1  \n",
       "2020-04-29 08:00:00  0.002570  0.986038  1.05448 -0.000531       0  \n",
       "2020-04-29 12:00:00 -0.000922  0.985130  1.05448 -0.000150       0  \n",
       "2020-04-29 16:00:00 -0.002108  0.983056  1.05448  0.000238       0  \n",
       "2020-04-29 20:00:00  0.000184  0.983236  1.05448  0.000561       0  \n",
       "2020-04-30 00:00:00 -0.001306  0.981953  1.05448  0.000810       0  \n",
       "2020-04-30 04:00:00  0.001913  0.983833  1.05448  0.001052       1  \n",
       "2020-04-30 08:00:00 -0.001499  0.982359  1.05448  0.001196       1  \n",
       "2020-04-30 12:00:00  0.006036  0.988307  1.05448  0.001529       1  \n",
       "2020-04-30 16:00:00  0.002083  0.990368  1.05448  0.001886       1  \n",
       "2020-04-30 20:00:00 -0.001032  0.989347  1.05448  0.002274       1  "
      ]
     },
     "execution_count": 96,
     "metadata": {},
     "output_type": "execute_result"
    }
   ],
   "source": [
    "data_1.tail(20)"
   ]
  },
  {
   "cell_type": "code",
   "execution_count": 98,
   "metadata": {
    "execution": {
     "iopub.execute_input": "2020-06-30T13:30:15.777834Z",
     "iopub.status.busy": "2020-06-30T13:30:15.776808Z",
     "iopub.status.idle": "2020-06-30T13:30:15.795756Z",
     "shell.execute_reply": "2020-06-30T13:30:15.794793Z",
     "shell.execute_reply.started": "2020-06-30T13:30:15.777834Z"
    }
   },
   "outputs": [
    {
     "data": {
      "text/html": [
       "<div>\n",
       "<style scoped>\n",
       "    .dataframe tbody tr th:only-of-type {\n",
       "        vertical-align: middle;\n",
       "    }\n",
       "\n",
       "    .dataframe tbody tr th {\n",
       "        vertical-align: top;\n",
       "    }\n",
       "\n",
       "    .dataframe thead th {\n",
       "        text-align: right;\n",
       "    }\n",
       "</style>\n",
       "<table border=\"1\" class=\"dataframe\">\n",
       "  <thead>\n",
       "    <tr style=\"text-align: right;\">\n",
       "      <th></th>\n",
       "      <th>Close</th>\n",
       "      <th>Volume</th>\n",
       "      <th>SMA_10</th>\n",
       "      <th>SMA_20</th>\n",
       "      <th>Returns</th>\n",
       "      <th>Returns_dis</th>\n",
       "      <th>Return_dis2</th>\n",
       "      <th>Position</th>\n",
       "      <th>strategy</th>\n",
       "      <th>cumret</th>\n",
       "      <th>cummax</th>\n",
       "      <th>10-20</th>\n",
       "      <th>regime</th>\n",
       "    </tr>\n",
       "    <tr>\n",
       "      <th>date</th>\n",
       "      <th></th>\n",
       "      <th></th>\n",
       "      <th></th>\n",
       "      <th></th>\n",
       "      <th></th>\n",
       "      <th></th>\n",
       "      <th></th>\n",
       "      <th></th>\n",
       "      <th></th>\n",
       "      <th></th>\n",
       "      <th></th>\n",
       "      <th></th>\n",
       "      <th></th>\n",
       "    </tr>\n",
       "  </thead>\n",
       "  <tbody>\n",
       "    <tr>\n",
       "      <th>2020-01-02 00:00:00</th>\n",
       "      <td>1.12132</td>\n",
       "      <td>9592.29</td>\n",
       "      <td>1.119435</td>\n",
       "      <td>1.113127</td>\n",
       "      <td>-0.000499</td>\n",
       "      <td>-0.000499</td>\n",
       "      <td>-0.000499</td>\n",
       "      <td>1</td>\n",
       "      <td>NaN</td>\n",
       "      <td>NaN</td>\n",
       "      <td>NaN</td>\n",
       "      <td>0.006308</td>\n",
       "      <td>1</td>\n",
       "    </tr>\n",
       "    <tr>\n",
       "      <th>2020-01-02 04:00:00</th>\n",
       "      <td>1.12098</td>\n",
       "      <td>16166.31</td>\n",
       "      <td>1.119837</td>\n",
       "      <td>1.113259</td>\n",
       "      <td>-0.000303</td>\n",
       "      <td>-0.000303</td>\n",
       "      <td>-0.000303</td>\n",
       "      <td>1</td>\n",
       "      <td>-0.000303</td>\n",
       "      <td>0.999697</td>\n",
       "      <td>0.999697</td>\n",
       "      <td>0.006578</td>\n",
       "      <td>1</td>\n",
       "    </tr>\n",
       "    <tr>\n",
       "      <th>2020-01-02 08:00:00</th>\n",
       "      <td>1.11848</td>\n",
       "      <td>30225.81</td>\n",
       "      <td>1.120024</td>\n",
       "      <td>1.113354</td>\n",
       "      <td>-0.002233</td>\n",
       "      <td>-0.002230</td>\n",
       "      <td>-0.002230</td>\n",
       "      <td>1</td>\n",
       "      <td>-0.002233</td>\n",
       "      <td>0.997467</td>\n",
       "      <td>0.999697</td>\n",
       "      <td>0.006670</td>\n",
       "      <td>1</td>\n",
       "    </tr>\n",
       "    <tr>\n",
       "      <th>2020-01-02 12:00:00</th>\n",
       "      <td>1.12005</td>\n",
       "      <td>359343.90</td>\n",
       "      <td>1.120212</td>\n",
       "      <td>1.113479</td>\n",
       "      <td>0.001403</td>\n",
       "      <td>0.001404</td>\n",
       "      <td>0.001404</td>\n",
       "      <td>1</td>\n",
       "      <td>0.001403</td>\n",
       "      <td>0.998867</td>\n",
       "      <td>0.999697</td>\n",
       "      <td>0.006733</td>\n",
       "      <td>1</td>\n",
       "    </tr>\n",
       "    <tr>\n",
       "      <th>2020-01-02 16:00:00</th>\n",
       "      <td>1.11663</td>\n",
       "      <td>64730.47</td>\n",
       "      <td>1.120107</td>\n",
       "      <td>1.113564</td>\n",
       "      <td>-0.003058</td>\n",
       "      <td>-0.003053</td>\n",
       "      <td>-0.003053</td>\n",
       "      <td>1</td>\n",
       "      <td>-0.003058</td>\n",
       "      <td>0.995817</td>\n",
       "      <td>0.999697</td>\n",
       "      <td>0.006543</td>\n",
       "      <td>1</td>\n",
       "    </tr>\n",
       "  </tbody>\n",
       "</table>\n",
       "</div>"
      ],
      "text/plain": [
       "                       Close    Volume     SMA_10    SMA_20   Returns  \\\n",
       "date                                                                    \n",
       "2020-01-02 00:00:00  1.12132    9592.29  1.119435  1.113127 -0.000499   \n",
       "2020-01-02 04:00:00  1.12098   16166.31  1.119837  1.113259 -0.000303   \n",
       "2020-01-02 08:00:00  1.11848   30225.81  1.120024  1.113354 -0.002233   \n",
       "2020-01-02 12:00:00  1.12005  359343.90  1.120212  1.113479  0.001403   \n",
       "2020-01-02 16:00:00  1.11663   64730.47  1.120107  1.113564 -0.003058   \n",
       "\n",
       "                     Returns_dis  Return_dis2  Position  strategy    cumret  \\\n",
       "date                                                                          \n",
       "2020-01-02 00:00:00    -0.000499    -0.000499         1       NaN       NaN   \n",
       "2020-01-02 04:00:00    -0.000303    -0.000303         1 -0.000303  0.999697   \n",
       "2020-01-02 08:00:00    -0.002230    -0.002230         1 -0.002233  0.997467   \n",
       "2020-01-02 12:00:00     0.001404     0.001404         1  0.001403  0.998867   \n",
       "2020-01-02 16:00:00    -0.003053    -0.003053         1 -0.003058  0.995817   \n",
       "\n",
       "                       cummax     10-20  regime  \n",
       "date                                             \n",
       "2020-01-02 00:00:00       NaN  0.006308       1  \n",
       "2020-01-02 04:00:00  0.999697  0.006578       1  \n",
       "2020-01-02 08:00:00  0.999697  0.006670       1  \n",
       "2020-01-02 12:00:00  0.999697  0.006733       1  \n",
       "2020-01-02 16:00:00  0.999697  0.006543       1  "
      ]
     },
     "execution_count": 98,
     "metadata": {},
     "output_type": "execute_result"
    }
   ],
   "source": [
    "data_1.drop(['Open', 'High','Low'], axis=1, inplace=True) \n",
    "data_1.head()"
   ]
  },
  {
   "cell_type": "code",
   "execution_count": 99,
   "metadata": {
    "execution": {
     "iopub.execute_input": "2020-06-30T13:31:42.828482Z",
     "iopub.status.busy": "2020-06-30T13:31:42.827486Z",
     "iopub.status.idle": "2020-06-30T13:31:42.833468Z",
     "shell.execute_reply": "2020-06-30T13:31:42.833468Z",
     "shell.execute_reply.started": "2020-06-30T13:31:42.828482Z"
    }
   },
   "outputs": [],
   "source": [
    "data_1['Market'] = np.log(data_1['Close']/data_1['Close'].shift(1))"
   ]
  },
  {
   "cell_type": "code",
   "execution_count": 100,
   "metadata": {
    "execution": {
     "iopub.execute_input": "2020-06-30T13:34:16.308845Z",
     "iopub.status.busy": "2020-06-30T13:34:16.307813Z",
     "iopub.status.idle": "2020-06-30T13:34:16.313796Z",
     "shell.execute_reply": "2020-06-30T13:34:16.313704Z",
     "shell.execute_reply.started": "2020-06-30T13:34:16.308845Z"
    }
   },
   "outputs": [],
   "source": [
    "data_1['strategy_2'] = data_1['regime'].shift(1) * data_1['Market']"
   ]
  },
  {
   "cell_type": "code",
   "execution_count": 102,
   "metadata": {
    "execution": {
     "iopub.execute_input": "2020-06-30T13:43:17.888631Z",
     "iopub.status.busy": "2020-06-30T13:43:17.888631Z",
     "iopub.status.idle": "2020-06-30T13:43:17.898111Z",
     "shell.execute_reply": "2020-06-30T13:43:17.898111Z",
     "shell.execute_reply.started": "2020-06-30T13:43:17.888631Z"
    }
   },
   "outputs": [
    {
     "data": {
      "text/plain": [
       "Market        -2.42%\n",
       "strategy_2    -0.05%\n",
       "dtype: object"
      ]
     },
     "execution_count": 102,
     "metadata": {},
     "output_type": "execute_result"
    }
   ],
   "source": [
    "data_1[['Market','strategy_2']].sum().apply(lambda x: format(x, '.2%'))"
   ]
  },
  {
   "cell_type": "code",
   "execution_count": 101,
   "metadata": {
    "execution": {
     "iopub.execute_input": "2020-06-30T13:34:36.983325Z",
     "iopub.status.busy": "2020-06-30T13:34:36.982331Z",
     "iopub.status.idle": "2020-06-30T13:34:37.468594Z",
     "shell.execute_reply": "2020-06-30T13:34:37.467596Z",
     "shell.execute_reply.started": "2020-06-30T13:34:36.983325Z"
    }
   },
   "outputs": [
    {
     "data": {
      "text/plain": [
       "<matplotlib.axes._subplots.AxesSubplot at 0x131520f0>"
      ]
     },
     "execution_count": 101,
     "metadata": {},
     "output_type": "execute_result"
    },
    {
     "data": {
      "image/png": "[encoded data removed]",
      "text/plain": [
       "<Figure size 720x576 with 1 Axes>"
      ]
     },
     "metadata": {},
     "output_type": "display_data"
    }
   ],
   "source": [
    "data_1[['Market','strategy_2']].cumsum().apply(np.exp).plot(grid=True, figsize = (10,8))"
   ]
  },
  {
   "cell_type": "markdown",
   "metadata": {},
   "source": [
    "##### 思路（二）：单方向"
   ]
  },
  {
   "cell_type": "code",
   "execution_count": null,
   "metadata": {},
   "outputs": [],
   "source": [
    "## 筛选出，position为1的列\n"
   ]
  }
 ],
 "metadata": {
  "anaconda-cloud": {},
  "kernelspec": {
   "display_name": "Python 3",
   "language": "python",
   "name": "python3"
  },
  "language_info": {
   "codemirror_mode": {
    "name": "ipython",
    "version": 3
   },
   "file_extension": ".py",
   "mimetype": "text/x-python",
   "name": "python",
   "nbconvert_exporter": "python",
   "pygments_lexer": "ipython3",
   "version": "3.7.7"
  }
 },
 "nbformat": 4,
 "nbformat_minor": 4
}
