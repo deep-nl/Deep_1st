{
 "cells": [
  {
   "cell_type": "code",
   "execution_count": 2,
   "metadata": {
    "execution": {
     "iopub.execute_input": "2020-06-08T10:59:35.559578Z",
     "iopub.status.busy": "2020-06-08T10:59:35.557963Z",
     "iopub.status.idle": "2020-06-08T10:59:35.566496Z",
     "shell.execute_reply": "2020-06-08T10:59:35.564996Z",
     "shell.execute_reply.started": "2020-06-08T10:59:35.559578Z"
    }
   },
   "outputs": [],
   "source": [
    "from pandas_datareader import data as pdr"
   ]
  },
  {
   "cell_type": "code",
   "execution_count": 3,
   "metadata": {
    "execution": {
     "iopub.execute_input": "2020-06-08T10:59:53.553960Z",
     "iopub.status.busy": "2020-06-08T10:59:53.552962Z",
     "iopub.status.idle": "2020-06-08T10:59:58.333240Z",
     "shell.execute_reply": "2020-06-08T10:59:58.331303Z",
     "shell.execute_reply.started": "2020-06-08T10:59:53.553960Z"
    }
   },
   "outputs": [],
   "source": [
    "data = pdr.get_data_yahoo(\"SPY\", start=\"2017-01-01\", end=\"2017-04-30\")\n",
    "data = pdr.get_data_yahoo([\"SPY\", \"IWM\"], start=\"2017-01-01\", end=\"2017-04-30\")"
   ]
  },
  {
   "cell_type": "code",
   "execution_count": 4,
   "metadata": {
    "execution": {
     "iopub.execute_input": "2020-06-08T11:00:07.714382Z",
     "iopub.status.busy": "2020-06-08T11:00:07.714382Z",
     "iopub.status.idle": "2020-06-08T11:00:07.785878Z",
     "shell.execute_reply": "2020-06-08T11:00:07.784909Z",
     "shell.execute_reply.started": "2020-06-08T11:00:07.714382Z"
    }
   },
   "outputs": [
    {
     "data": {
      "text/html": [
       "<div>\n",
       "<style scoped>\n",
       "    .dataframe tbody tr th:only-of-type {\n",
       "        vertical-align: middle;\n",
       "    }\n",
       "\n",
       "    .dataframe tbody tr th {\n",
       "        vertical-align: top;\n",
       "    }\n",
       "\n",
       "    .dataframe thead tr th {\n",
       "        text-align: left;\n",
       "    }\n",
       "\n",
       "    .dataframe thead tr:last-of-type th {\n",
       "        text-align: right;\n",
       "    }\n",
       "</style>\n",
       "<table border=\"1\" class=\"dataframe\">\n",
       "  <thead>\n",
       "    <tr>\n",
       "      <th>Attributes</th>\n",
       "      <th colspan=\"2\" halign=\"left\">Adj Close</th>\n",
       "      <th colspan=\"2\" halign=\"left\">Close</th>\n",
       "      <th colspan=\"2\" halign=\"left\">High</th>\n",
       "      <th colspan=\"2\" halign=\"left\">Low</th>\n",
       "      <th colspan=\"2\" halign=\"left\">Open</th>\n",
       "      <th colspan=\"2\" halign=\"left\">Volume</th>\n",
       "    </tr>\n",
       "    <tr>\n",
       "      <th>Symbols</th>\n",
       "      <th>SPY</th>\n",
       "      <th>IWM</th>\n",
       "      <th>SPY</th>\n",
       "      <th>IWM</th>\n",
       "      <th>SPY</th>\n",
       "      <th>IWM</th>\n",
       "      <th>SPY</th>\n",
       "      <th>IWM</th>\n",
       "      <th>SPY</th>\n",
       "      <th>IWM</th>\n",
       "      <th>SPY</th>\n",
       "      <th>IWM</th>\n",
       "    </tr>\n",
       "    <tr>\n",
       "      <th>Date</th>\n",
       "      <th></th>\n",
       "      <th></th>\n",
       "      <th></th>\n",
       "      <th></th>\n",
       "      <th></th>\n",
       "      <th></th>\n",
       "      <th></th>\n",
       "      <th></th>\n",
       "      <th></th>\n",
       "      <th></th>\n",
       "      <th></th>\n",
       "      <th></th>\n",
       "    </tr>\n",
       "  </thead>\n",
       "  <tbody>\n",
       "    <tr>\n",
       "      <th>2017-01-03</th>\n",
       "      <td>211.552551</td>\n",
       "      <td>129.879883</td>\n",
       "      <td>225.240005</td>\n",
       "      <td>135.520004</td>\n",
       "      <td>225.830002</td>\n",
       "      <td>136.830002</td>\n",
       "      <td>223.880005</td>\n",
       "      <td>134.500000</td>\n",
       "      <td>225.039993</td>\n",
       "      <td>136.490005</td>\n",
       "      <td>91366500.0</td>\n",
       "      <td>29792400.0</td>\n",
       "    </tr>\n",
       "    <tr>\n",
       "      <th>2017-01-04</th>\n",
       "      <td>212.811111</td>\n",
       "      <td>132.045822</td>\n",
       "      <td>226.580002</td>\n",
       "      <td>137.779999</td>\n",
       "      <td>226.750000</td>\n",
       "      <td>137.960007</td>\n",
       "      <td>225.610001</td>\n",
       "      <td>136.009995</td>\n",
       "      <td>225.619995</td>\n",
       "      <td>136.050003</td>\n",
       "      <td>78744400.0</td>\n",
       "      <td>34499400.0</td>\n",
       "    </tr>\n",
       "    <tr>\n",
       "      <th>2017-01-05</th>\n",
       "      <td>212.642044</td>\n",
       "      <td>130.521973</td>\n",
       "      <td>226.399994</td>\n",
       "      <td>136.190002</td>\n",
       "      <td>226.580002</td>\n",
       "      <td>137.759995</td>\n",
       "      <td>225.479996</td>\n",
       "      <td>135.509995</td>\n",
       "      <td>226.270004</td>\n",
       "      <td>137.490005</td>\n",
       "      <td>78379000.0</td>\n",
       "      <td>30286900.0</td>\n",
       "    </tr>\n",
       "    <tr>\n",
       "      <th>2017-01-06</th>\n",
       "      <td>213.402817</td>\n",
       "      <td>130.042786</td>\n",
       "      <td>227.210007</td>\n",
       "      <td>135.690002</td>\n",
       "      <td>227.750000</td>\n",
       "      <td>136.710007</td>\n",
       "      <td>225.899994</td>\n",
       "      <td>135.679993</td>\n",
       "      <td>226.529999</td>\n",
       "      <td>136.410004</td>\n",
       "      <td>71559900.0</td>\n",
       "      <td>23436000.0</td>\n",
       "    </tr>\n",
       "    <tr>\n",
       "      <th>2017-01-09</th>\n",
       "      <td>212.698441</td>\n",
       "      <td>129.189835</td>\n",
       "      <td>226.460007</td>\n",
       "      <td>134.800003</td>\n",
       "      <td>227.070007</td>\n",
       "      <td>135.720001</td>\n",
       "      <td>226.419998</td>\n",
       "      <td>134.500000</td>\n",
       "      <td>226.910004</td>\n",
       "      <td>135.539993</td>\n",
       "      <td>46939700.0</td>\n",
       "      <td>24077900.0</td>\n",
       "    </tr>\n",
       "  </tbody>\n",
       "</table>\n",
       "</div>"
      ],
      "text/plain": [
       "Attributes   Adj Close                   Close                    High  \\\n",
       "Symbols            SPY         IWM         SPY         IWM         SPY   \n",
       "Date                                                                     \n",
       "2017-01-03  211.552551  129.879883  225.240005  135.520004  225.830002   \n",
       "2017-01-04  212.811111  132.045822  226.580002  137.779999  226.750000   \n",
       "2017-01-05  212.642044  130.521973  226.399994  136.190002  226.580002   \n",
       "2017-01-06  213.402817  130.042786  227.210007  135.690002  227.750000   \n",
       "2017-01-09  212.698441  129.189835  226.460007  134.800003  227.070007   \n",
       "\n",
       "Attributes                     Low                    Open              \\\n",
       "Symbols            IWM         SPY         IWM         SPY         IWM   \n",
       "Date                                                                     \n",
       "2017-01-03  136.830002  223.880005  134.500000  225.039993  136.490005   \n",
       "2017-01-04  137.960007  225.610001  136.009995  225.619995  136.050003   \n",
       "2017-01-05  137.759995  225.479996  135.509995  226.270004  137.490005   \n",
       "2017-01-06  136.710007  225.899994  135.679993  226.529999  136.410004   \n",
       "2017-01-09  135.720001  226.419998  134.500000  226.910004  135.539993   \n",
       "\n",
       "Attributes      Volume              \n",
       "Symbols            SPY         IWM  \n",
       "Date                                \n",
       "2017-01-03  91366500.0  29792400.0  \n",
       "2017-01-04  78744400.0  34499400.0  \n",
       "2017-01-05  78379000.0  30286900.0  \n",
       "2017-01-06  71559900.0  23436000.0  \n",
       "2017-01-09  46939700.0  24077900.0  "
      ]
     },
     "execution_count": 4,
     "metadata": {},
     "output_type": "execute_result"
    }
   ],
   "source": [
    "data.head()"
   ]
  },
  {
   "cell_type": "markdown",
   "metadata": {},
   "source": [
    "如果失败了呢，也就是说不能调用"
   ]
  },
  {
   "cell_type": "code",
   "execution_count": 6,
   "metadata": {
    "execution": {
     "iopub.execute_input": "2020-06-08T11:02:25.142877Z",
     "iopub.status.busy": "2020-06-08T11:02:25.141869Z",
     "iopub.status.idle": "2020-06-08T11:02:25.184902Z",
     "shell.execute_reply": "2020-06-08T11:02:25.183904Z",
     "shell.execute_reply.started": "2020-06-08T11:02:25.142877Z"
    }
   },
   "outputs": [
    {
     "name": "stdout",
     "output_type": "stream",
     "text": [
      "<class 'pandas.core.frame.DataFrame'>\n",
      "DatetimeIndex: 81 entries, 2017-01-03 to 2017-04-28\n",
      "Data columns (total 12 columns):\n",
      " #   Column            Non-Null Count  Dtype  \n",
      "---  ------            --------------  -----  \n",
      " 0   (Adj Close, SPY)  81 non-null     float64\n",
      " 1   (Adj Close, IWM)  81 non-null     float64\n",
      " 2   (Close, SPY)      81 non-null     float64\n",
      " 3   (Close, IWM)      81 non-null     float64\n",
      " 4   (High, SPY)       81 non-null     float64\n",
      " 5   (High, IWM)       81 non-null     float64\n",
      " 6   (Low, SPY)        81 non-null     float64\n",
      " 7   (Low, IWM)        81 non-null     float64\n",
      " 8   (Open, SPY)       81 non-null     float64\n",
      " 9   (Open, IWM)       81 non-null     float64\n",
      " 10  (Volume, SPY)     81 non-null     float64\n",
      " 11  (Volume, IWM)     81 non-null     float64\n",
      "dtypes: float64(12)\n",
      "memory usage: 8.2 KB\n"
     ]
    }
   ],
   "source": [
    "data.info()"
   ]
  },
  {
   "cell_type": "code",
   "execution_count": null,
   "metadata": {},
   "outputs": [],
   "source": []
  },
  {
   "cell_type": "code",
   "execution_count": 5,
   "metadata": {
    "execution": {
     "iopub.execute_input": "2020-06-08T11:01:29.535486Z",
     "iopub.status.busy": "2020-06-08T11:01:29.534490Z",
     "iopub.status.idle": "2020-06-08T11:01:29.566084Z",
     "shell.execute_reply": "2020-06-08T11:01:29.562097Z",
     "shell.execute_reply.started": "2020-06-08T11:01:29.535486Z"
    }
   },
   "outputs": [
    {
     "ename": "ModuleNotFoundError",
     "evalue": "No module named 'fix_yahoo_finance'",
     "output_type": "error",
     "traceback": [
      "\u001b[1;31m---------------------------------------------------------------------------\u001b[0m",
      "\u001b[1;31mModuleNotFoundError\u001b[0m                       Traceback (most recent call last)",
      "\u001b[1;32m<ipython-input-5-aead4d07899b>\u001b[0m in \u001b[0;36m<module>\u001b[1;34m\u001b[0m\n\u001b[1;32m----> 1\u001b[1;33m \u001b[1;32mimport\u001b[0m \u001b[0mfix_yahoo_finance\u001b[0m \u001b[1;32mas\u001b[0m \u001b[0myf\u001b[0m\u001b[1;33m\u001b[0m\u001b[1;33m\u001b[0m\u001b[0m\n\u001b[0m\u001b[0;32m      2\u001b[0m \u001b[0myf\u001b[0m\u001b[1;33m.\u001b[0m\u001b[0mpdr_override\u001b[0m\u001b[1;33m(\u001b[0m\u001b[1;33m)\u001b[0m \u001b[1;31m#需要调用这个函数\u001b[0m\u001b[1;33m\u001b[0m\u001b[1;33m\u001b[0m\u001b[0m\n",
      "\u001b[1;31mModuleNotFoundError\u001b[0m: No module named 'fix_yahoo_finance'"
     ]
    }
   ],
   "source": [
    "import fix_yahoo_finance as yf     #用这个包来修复雅虎\n",
    "yf.pdr_override() #需要调用这个函数"
   ]
  },
  {
   "cell_type": "code",
   "execution_count": null,
   "metadata": {},
   "outputs": [],
   "source": []
  }
 ],
 "metadata": {
  "kernelspec": {
   "display_name": "Python 3",
   "language": "python",
   "name": "python3"
  },
  "language_info": {
   "codemirror_mode": {
    "name": "ipython",
    "version": 3
   },
   "file_extension": ".py",
   "mimetype": "text/x-python",
   "name": "python",
   "nbconvert_exporter": "python",
   "pygments_lexer": "ipython3",
   "version": "3.7.7"
  }
 },
 "nbformat": 4,
 "nbformat_minor": 4
}
