{
 "cells": [
  {
   "cell_type": "markdown",
   "metadata": {},
   "source": [
    "## 金融数据处理"
   ]
  },
  {
   "cell_type": "code",
   "execution_count": 1,
   "metadata": {
    "execution": {
     "iopub.execute_input": "2020-06-09T07:30:26.541295Z",
     "iopub.status.busy": "2020-06-09T07:30:26.539301Z",
     "iopub.status.idle": "2020-06-09T07:30:28.329508Z",
     "shell.execute_reply": "2020-06-09T07:30:28.328575Z",
     "shell.execute_reply.started": "2020-06-09T07:30:26.541295Z"
    }
   },
   "outputs": [],
   "source": [
    "import pandas as pd\n",
    "import numpy as np\n",
    "import datetime\n",
    "import matplotlib.pyplot as plt\n",
    "import seaborn\n",
    "import tushare as ts\n",
    "%matplotlib inline\n",
    "import warnings; warnings.simplefilter('ignore') #忽略可能会出现的警告信息，警告并不是错误，可以忽略；"
   ]
  },
  {
   "cell_type": "markdown",
   "metadata": {},
   "source": [
    "### 1. 获取金融数据"
   ]
  },
  {
   "cell_type": "code",
   "execution_count": 2,
   "metadata": {
    "execution": {
     "iopub.execute_input": "2020-06-09T07:30:31.043129Z",
     "iopub.status.busy": "2020-06-09T07:30:31.042132Z",
     "iopub.status.idle": "2020-06-09T07:30:31.058088Z",
     "shell.execute_reply": "2020-06-09T07:30:31.057090Z",
     "shell.execute_reply.started": "2020-06-09T07:30:31.043129Z"
    }
   },
   "outputs": [],
   "source": [
    "Mytoken=ts.set_token('315c111b7c5684e65563e52d902c29c130f96437e2726f6336780b71')\n",
    "pro = ts.pro_api(Mytoken)"
   ]
  },
  {
   "cell_type": "code",
   "execution_count": 3,
   "metadata": {
    "execution": {
     "iopub.execute_input": "2020-06-09T07:30:36.412954Z",
     "iopub.status.busy": "2020-06-09T07:30:36.412954Z",
     "iopub.status.idle": "2020-06-09T07:30:36.725117Z",
     "shell.execute_reply": "2020-06-09T07:30:36.724120Z",
     "shell.execute_reply.started": "2020-06-09T07:30:36.412954Z"
    }
   },
   "outputs": [],
   "source": [
    "data = ts.pro_bar(ts_code='000001.SZ', adj='qfq', start_date='20180101', end_date='20200101')     #无法像yahoo一样同时调取多只股票；"
   ]
  },
  {
   "cell_type": "code",
   "execution_count": 4,
   "metadata": {
    "collapsed": false,
    "execution": {
     "iopub.execute_input": "2020-06-09T07:30:41.427105Z",
     "iopub.status.busy": "2020-06-09T07:30:41.426107Z",
     "iopub.status.idle": "2020-06-09T07:30:41.448047Z",
     "shell.execute_reply": "2020-06-09T07:30:41.447049Z",
     "shell.execute_reply.started": "2020-06-09T07:30:41.427105Z"
    },
    "jupyter": {
     "outputs_hidden": false
    }
   },
   "outputs": [
    {
     "data": {
      "text/html": [
       "<div>\n",
       "<style scoped>\n",
       "    .dataframe tbody tr th:only-of-type {\n",
       "        vertical-align: middle;\n",
       "    }\n",
       "\n",
       "    .dataframe tbody tr th {\n",
       "        vertical-align: top;\n",
       "    }\n",
       "\n",
       "    .dataframe thead th {\n",
       "        text-align: right;\n",
       "    }\n",
       "</style>\n",
       "<table border=\"1\" class=\"dataframe\">\n",
       "  <thead>\n",
       "    <tr style=\"text-align: right;\">\n",
       "      <th></th>\n",
       "      <th>ts_code</th>\n",
       "      <th>trade_date</th>\n",
       "      <th>open</th>\n",
       "      <th>high</th>\n",
       "      <th>low</th>\n",
       "      <th>close</th>\n",
       "      <th>pre_close</th>\n",
       "      <th>change</th>\n",
       "      <th>pct_chg</th>\n",
       "      <th>vol</th>\n",
       "      <th>amount</th>\n",
       "    </tr>\n",
       "  </thead>\n",
       "  <tbody>\n",
       "    <tr>\n",
       "      <th>0</th>\n",
       "      <td>000001.SZ</td>\n",
       "      <td>20191231</td>\n",
       "      <td>16.57</td>\n",
       "      <td>16.63</td>\n",
       "      <td>16.31</td>\n",
       "      <td>16.45</td>\n",
       "      <td>16.57</td>\n",
       "      <td>-0.12</td>\n",
       "      <td>-0.7242</td>\n",
       "      <td>704442.25</td>\n",
       "      <td>1154704.348</td>\n",
       "    </tr>\n",
       "    <tr>\n",
       "      <th>1</th>\n",
       "      <td>000001.SZ</td>\n",
       "      <td>20191230</td>\n",
       "      <td>16.46</td>\n",
       "      <td>16.63</td>\n",
       "      <td>16.10</td>\n",
       "      <td>16.57</td>\n",
       "      <td>16.63</td>\n",
       "      <td>-0.06</td>\n",
       "      <td>-0.3608</td>\n",
       "      <td>976970.31</td>\n",
       "      <td>1603152.786</td>\n",
       "    </tr>\n",
       "    <tr>\n",
       "      <th>2</th>\n",
       "      <td>000001.SZ</td>\n",
       "      <td>20191227</td>\n",
       "      <td>16.53</td>\n",
       "      <td>16.93</td>\n",
       "      <td>16.43</td>\n",
       "      <td>16.63</td>\n",
       "      <td>16.47</td>\n",
       "      <td>0.16</td>\n",
       "      <td>0.9715</td>\n",
       "      <td>1042574.72</td>\n",
       "      <td>1741473.179</td>\n",
       "    </tr>\n",
       "    <tr>\n",
       "      <th>3</th>\n",
       "      <td>000001.SZ</td>\n",
       "      <td>20191226</td>\n",
       "      <td>16.34</td>\n",
       "      <td>16.48</td>\n",
       "      <td>16.32</td>\n",
       "      <td>16.47</td>\n",
       "      <td>16.30</td>\n",
       "      <td>0.17</td>\n",
       "      <td>1.0429</td>\n",
       "      <td>372033.86</td>\n",
       "      <td>610381.757</td>\n",
       "    </tr>\n",
       "    <tr>\n",
       "      <th>4</th>\n",
       "      <td>000001.SZ</td>\n",
       "      <td>20191225</td>\n",
       "      <td>16.45</td>\n",
       "      <td>16.56</td>\n",
       "      <td>16.24</td>\n",
       "      <td>16.30</td>\n",
       "      <td>16.40</td>\n",
       "      <td>-0.10</td>\n",
       "      <td>-0.6098</td>\n",
       "      <td>414917.98</td>\n",
       "      <td>679664.596</td>\n",
       "    </tr>\n",
       "  </tbody>\n",
       "</table>\n",
       "</div>"
      ],
      "text/plain": [
       "     ts_code trade_date   open   high    low  close  pre_close  change  \\\n",
       "0  000001.SZ   20191231  16.57  16.63  16.31  16.45      16.57   -0.12   \n",
       "1  000001.SZ   20191230  16.46  16.63  16.10  16.57      16.63   -0.06   \n",
       "2  000001.SZ   20191227  16.53  16.93  16.43  16.63      16.47    0.16   \n",
       "3  000001.SZ   20191226  16.34  16.48  16.32  16.47      16.30    0.17   \n",
       "4  000001.SZ   20191225  16.45  16.56  16.24  16.30      16.40   -0.10   \n",
       "\n",
       "   pct_chg         vol       amount  \n",
       "0  -0.7242   704442.25  1154704.348  \n",
       "1  -0.3608   976970.31  1603152.786  \n",
       "2   0.9715  1042574.72  1741473.179  \n",
       "3   1.0429   372033.86   610381.757  \n",
       "4  -0.6098   414917.98   679664.596  "
      ]
     },
     "execution_count": 4,
     "metadata": {},
     "output_type": "execute_result"
    }
   ],
   "source": [
    "data.head()"
   ]
  },
  {
   "cell_type": "code",
   "execution_count": 5,
   "metadata": {
    "execution": {
     "iopub.execute_input": "2020-06-09T07:30:42.472306Z",
     "iopub.status.busy": "2020-06-09T07:30:42.472306Z",
     "iopub.status.idle": "2020-06-09T07:30:42.476709Z",
     "shell.execute_reply": "2020-06-09T07:30:42.475300Z",
     "shell.execute_reply.started": "2020-06-09T07:30:42.472306Z"
    }
   },
   "outputs": [],
   "source": [
    "#不轻易对源数据进行修改，我们进行copy\n",
    "data_1=data.copy()"
   ]
  },
  {
   "cell_type": "code",
   "execution_count": 6,
   "metadata": {
    "execution": {
     "iopub.execute_input": "2020-06-09T07:30:46.053724Z",
     "iopub.status.busy": "2020-06-09T07:30:46.053724Z",
     "iopub.status.idle": "2020-06-09T07:30:46.067684Z",
     "shell.execute_reply": "2020-06-09T07:30:46.067684Z",
     "shell.execute_reply.started": "2020-06-09T07:30:46.053724Z"
    }
   },
   "outputs": [
    {
     "data": {
      "text/html": [
       "<div>\n",
       "<style scoped>\n",
       "    .dataframe tbody tr th:only-of-type {\n",
       "        vertical-align: middle;\n",
       "    }\n",
       "\n",
       "    .dataframe tbody tr th {\n",
       "        vertical-align: top;\n",
       "    }\n",
       "\n",
       "    .dataframe thead th {\n",
       "        text-align: right;\n",
       "    }\n",
       "</style>\n",
       "<table border=\"1\" class=\"dataframe\">\n",
       "  <thead>\n",
       "    <tr style=\"text-align: right;\">\n",
       "      <th></th>\n",
       "      <th>ts_code</th>\n",
       "      <th>trade_date</th>\n",
       "      <th>open</th>\n",
       "      <th>high</th>\n",
       "      <th>low</th>\n",
       "      <th>close</th>\n",
       "      <th>pre_close</th>\n",
       "      <th>change</th>\n",
       "      <th>pct_chg</th>\n",
       "      <th>vol</th>\n",
       "      <th>amount</th>\n",
       "    </tr>\n",
       "  </thead>\n",
       "  <tbody>\n",
       "    <tr>\n",
       "      <th>0</th>\n",
       "      <td>000001.SZ</td>\n",
       "      <td>20191231</td>\n",
       "      <td>16.57</td>\n",
       "      <td>16.63</td>\n",
       "      <td>16.31</td>\n",
       "      <td>16.45</td>\n",
       "      <td>16.57</td>\n",
       "      <td>-0.12</td>\n",
       "      <td>-0.7242</td>\n",
       "      <td>704442.25</td>\n",
       "      <td>1154704.348</td>\n",
       "    </tr>\n",
       "    <tr>\n",
       "      <th>1</th>\n",
       "      <td>000001.SZ</td>\n",
       "      <td>20191230</td>\n",
       "      <td>16.46</td>\n",
       "      <td>16.63</td>\n",
       "      <td>16.10</td>\n",
       "      <td>16.57</td>\n",
       "      <td>16.63</td>\n",
       "      <td>-0.06</td>\n",
       "      <td>-0.3608</td>\n",
       "      <td>976970.31</td>\n",
       "      <td>1603152.786</td>\n",
       "    </tr>\n",
       "    <tr>\n",
       "      <th>2</th>\n",
       "      <td>000001.SZ</td>\n",
       "      <td>20191227</td>\n",
       "      <td>16.53</td>\n",
       "      <td>16.93</td>\n",
       "      <td>16.43</td>\n",
       "      <td>16.63</td>\n",
       "      <td>16.47</td>\n",
       "      <td>0.16</td>\n",
       "      <td>0.9715</td>\n",
       "      <td>1042574.72</td>\n",
       "      <td>1741473.179</td>\n",
       "    </tr>\n",
       "    <tr>\n",
       "      <th>3</th>\n",
       "      <td>000001.SZ</td>\n",
       "      <td>20191226</td>\n",
       "      <td>16.34</td>\n",
       "      <td>16.48</td>\n",
       "      <td>16.32</td>\n",
       "      <td>16.47</td>\n",
       "      <td>16.30</td>\n",
       "      <td>0.17</td>\n",
       "      <td>1.0429</td>\n",
       "      <td>372033.86</td>\n",
       "      <td>610381.757</td>\n",
       "    </tr>\n",
       "    <tr>\n",
       "      <th>4</th>\n",
       "      <td>000001.SZ</td>\n",
       "      <td>20191225</td>\n",
       "      <td>16.45</td>\n",
       "      <td>16.56</td>\n",
       "      <td>16.24</td>\n",
       "      <td>16.30</td>\n",
       "      <td>16.40</td>\n",
       "      <td>-0.10</td>\n",
       "      <td>-0.6098</td>\n",
       "      <td>414917.98</td>\n",
       "      <td>679664.596</td>\n",
       "    </tr>\n",
       "  </tbody>\n",
       "</table>\n",
       "</div>"
      ],
      "text/plain": [
       "     ts_code trade_date   open   high    low  close  pre_close  change  \\\n",
       "0  000001.SZ   20191231  16.57  16.63  16.31  16.45      16.57   -0.12   \n",
       "1  000001.SZ   20191230  16.46  16.63  16.10  16.57      16.63   -0.06   \n",
       "2  000001.SZ   20191227  16.53  16.93  16.43  16.63      16.47    0.16   \n",
       "3  000001.SZ   20191226  16.34  16.48  16.32  16.47      16.30    0.17   \n",
       "4  000001.SZ   20191225  16.45  16.56  16.24  16.30      16.40   -0.10   \n",
       "\n",
       "   pct_chg         vol       amount  \n",
       "0  -0.7242   704442.25  1154704.348  \n",
       "1  -0.3608   976970.31  1603152.786  \n",
       "2   0.9715  1042574.72  1741473.179  \n",
       "3   1.0429   372033.86   610381.757  \n",
       "4  -0.6098   414917.98   679664.596  "
      ]
     },
     "execution_count": 6,
     "metadata": {},
     "output_type": "execute_result"
    }
   ],
   "source": [
    "data_1.head()"
   ]
  },
  {
   "cell_type": "code",
   "execution_count": 7,
   "metadata": {
    "execution": {
     "iopub.execute_input": "2020-06-09T07:30:51.490683Z",
     "iopub.status.busy": "2020-06-09T07:30:51.490683Z",
     "iopub.status.idle": "2020-06-09T07:30:51.495670Z",
     "shell.execute_reply": "2020-06-09T07:30:51.494671Z",
     "shell.execute_reply.started": "2020-06-09T07:30:51.490683Z"
    }
   },
   "outputs": [],
   "source": [
    "data_1=pd.DataFrame(data_1)"
   ]
  },
  {
   "cell_type": "code",
   "execution_count": 9,
   "metadata": {
    "execution": {
     "iopub.execute_input": "2020-06-09T07:31:02.299777Z",
     "iopub.status.busy": "2020-06-09T07:31:02.298779Z",
     "iopub.status.idle": "2020-06-09T07:31:02.306760Z",
     "shell.execute_reply": "2020-06-09T07:31:02.305764Z",
     "shell.execute_reply.started": "2020-06-09T07:31:02.299777Z"
    }
   },
   "outputs": [
    {
     "data": {
      "text/plain": [
       "RangeIndex(start=0, stop=487, step=1)"
      ]
     },
     "execution_count": 9,
     "metadata": {},
     "output_type": "execute_result"
    }
   ],
   "source": [
    "data_1.index   #可以看到index  是数字，没有意义"
   ]
  },
  {
   "cell_type": "code",
   "execution_count": 10,
   "metadata": {
    "execution": {
     "iopub.execute_input": "2020-06-09T07:31:39.898292Z",
     "iopub.status.busy": "2020-06-09T07:31:39.898292Z",
     "iopub.status.idle": "2020-06-09T07:31:39.910245Z",
     "shell.execute_reply": "2020-06-09T07:31:39.909288Z",
     "shell.execute_reply.started": "2020-06-09T07:31:39.898292Z"
    }
   },
   "outputs": [
    {
     "name": "stdout",
     "output_type": "stream",
     "text": [
      "<class 'pandas.core.frame.DataFrame'>\n",
      "RangeIndex: 487 entries, 0 to 486\n",
      "Data columns (total 11 columns):\n",
      " #   Column      Non-Null Count  Dtype  \n",
      "---  ------      --------------  -----  \n",
      " 0   ts_code     487 non-null    object \n",
      " 1   trade_date  487 non-null    object \n",
      " 2   open        487 non-null    float64\n",
      " 3   high        487 non-null    float64\n",
      " 4   low         487 non-null    float64\n",
      " 5   close       487 non-null    float64\n",
      " 6   pre_close   487 non-null    float64\n",
      " 7   change      487 non-null    float64\n",
      " 8   pct_chg     487 non-null    float64\n",
      " 9   vol         487 non-null    float64\n",
      " 10  amount      487 non-null    float64\n",
      "dtypes: float64(9), object(2)\n",
      "memory usage: 38.1+ KB\n"
     ]
    }
   ],
   "source": [
    "data_1.info()   #从info()也可以看出来"
   ]
  },
  {
   "cell_type": "code",
   "execution_count": 11,
   "metadata": {
    "execution": {
     "iopub.execute_input": "2020-06-09T07:37:39.208480Z",
     "iopub.status.busy": "2020-06-09T07:37:39.208480Z",
     "iopub.status.idle": "2020-06-09T07:37:39.214442Z",
     "shell.execute_reply": "2020-06-09T07:37:39.213443Z",
     "shell.execute_reply.started": "2020-06-09T07:37:39.208480Z"
    }
   },
   "outputs": [],
   "source": [
    "data_1.set_index('trade_date',inplace=True)"
   ]
  },
  {
   "cell_type": "code",
   "execution_count": 12,
   "metadata": {
    "execution": {
     "iopub.execute_input": "2020-06-09T07:37:42.599382Z",
     "iopub.status.busy": "2020-06-09T07:37:42.598391Z",
     "iopub.status.idle": "2020-06-09T07:37:42.611350Z",
     "shell.execute_reply": "2020-06-09T07:37:42.611350Z",
     "shell.execute_reply.started": "2020-06-09T07:37:42.598391Z"
    }
   },
   "outputs": [
    {
     "name": "stdout",
     "output_type": "stream",
     "text": [
      "<class 'pandas.core.frame.DataFrame'>\n",
      "DatetimeIndex: 487 entries, 2019-12-31 to 2018-01-02\n",
      "Data columns (total 10 columns):\n",
      " #   Column     Non-Null Count  Dtype  \n",
      "---  ------     --------------  -----  \n",
      " 0   ts_code    487 non-null    object \n",
      " 1   open       487 non-null    float64\n",
      " 2   high       487 non-null    float64\n",
      " 3   low        487 non-null    float64\n",
      " 4   close      487 non-null    float64\n",
      " 5   pre_close  487 non-null    float64\n",
      " 6   change     487 non-null    float64\n",
      " 7   pct_chg    487 non-null    float64\n",
      " 8   vol        487 non-null    float64\n",
      " 9   amount     487 non-null    float64\n",
      "dtypes: float64(9), object(1)\n",
      "memory usage: 39.9+ KB\n"
     ]
    }
   ],
   "source": [
    "data_1.index=pd.to_datetime(data_1.index)\n",
    "data_1.info()"
   ]
  },
  {
   "cell_type": "code",
   "execution_count": 13,
   "metadata": {
    "execution": {
     "iopub.execute_input": "2020-06-09T07:37:46.107004Z",
     "iopub.status.busy": "2020-06-09T07:37:46.107004Z",
     "iopub.status.idle": "2020-06-09T07:37:46.126943Z",
     "shell.execute_reply": "2020-06-09T07:37:46.125945Z",
     "shell.execute_reply.started": "2020-06-09T07:37:46.107004Z"
    }
   },
   "outputs": [
    {
     "data": {
      "text/html": [
       "<div>\n",
       "<style scoped>\n",
       "    .dataframe tbody tr th:only-of-type {\n",
       "        vertical-align: middle;\n",
       "    }\n",
       "\n",
       "    .dataframe tbody tr th {\n",
       "        vertical-align: top;\n",
       "    }\n",
       "\n",
       "    .dataframe thead th {\n",
       "        text-align: right;\n",
       "    }\n",
       "</style>\n",
       "<table border=\"1\" class=\"dataframe\">\n",
       "  <thead>\n",
       "    <tr style=\"text-align: right;\">\n",
       "      <th></th>\n",
       "      <th>ts_code</th>\n",
       "      <th>open</th>\n",
       "      <th>high</th>\n",
       "      <th>low</th>\n",
       "      <th>close</th>\n",
       "      <th>pre_close</th>\n",
       "      <th>change</th>\n",
       "      <th>pct_chg</th>\n",
       "      <th>vol</th>\n",
       "      <th>amount</th>\n",
       "    </tr>\n",
       "    <tr>\n",
       "      <th>trade_date</th>\n",
       "      <th></th>\n",
       "      <th></th>\n",
       "      <th></th>\n",
       "      <th></th>\n",
       "      <th></th>\n",
       "      <th></th>\n",
       "      <th></th>\n",
       "      <th></th>\n",
       "      <th></th>\n",
       "      <th></th>\n",
       "    </tr>\n",
       "  </thead>\n",
       "  <tbody>\n",
       "    <tr>\n",
       "      <th>2019-12-31</th>\n",
       "      <td>000001.SZ</td>\n",
       "      <td>16.57</td>\n",
       "      <td>16.63</td>\n",
       "      <td>16.31</td>\n",
       "      <td>16.45</td>\n",
       "      <td>16.57</td>\n",
       "      <td>-0.12</td>\n",
       "      <td>-0.7242</td>\n",
       "      <td>704442.25</td>\n",
       "      <td>1154704.348</td>\n",
       "    </tr>\n",
       "    <tr>\n",
       "      <th>2019-12-30</th>\n",
       "      <td>000001.SZ</td>\n",
       "      <td>16.46</td>\n",
       "      <td>16.63</td>\n",
       "      <td>16.10</td>\n",
       "      <td>16.57</td>\n",
       "      <td>16.63</td>\n",
       "      <td>-0.06</td>\n",
       "      <td>-0.3608</td>\n",
       "      <td>976970.31</td>\n",
       "      <td>1603152.786</td>\n",
       "    </tr>\n",
       "    <tr>\n",
       "      <th>2019-12-27</th>\n",
       "      <td>000001.SZ</td>\n",
       "      <td>16.53</td>\n",
       "      <td>16.93</td>\n",
       "      <td>16.43</td>\n",
       "      <td>16.63</td>\n",
       "      <td>16.47</td>\n",
       "      <td>0.16</td>\n",
       "      <td>0.9715</td>\n",
       "      <td>1042574.72</td>\n",
       "      <td>1741473.179</td>\n",
       "    </tr>\n",
       "    <tr>\n",
       "      <th>2019-12-26</th>\n",
       "      <td>000001.SZ</td>\n",
       "      <td>16.34</td>\n",
       "      <td>16.48</td>\n",
       "      <td>16.32</td>\n",
       "      <td>16.47</td>\n",
       "      <td>16.30</td>\n",
       "      <td>0.17</td>\n",
       "      <td>1.0429</td>\n",
       "      <td>372033.86</td>\n",
       "      <td>610381.757</td>\n",
       "    </tr>\n",
       "    <tr>\n",
       "      <th>2019-12-25</th>\n",
       "      <td>000001.SZ</td>\n",
       "      <td>16.45</td>\n",
       "      <td>16.56</td>\n",
       "      <td>16.24</td>\n",
       "      <td>16.30</td>\n",
       "      <td>16.40</td>\n",
       "      <td>-0.10</td>\n",
       "      <td>-0.6098</td>\n",
       "      <td>414917.98</td>\n",
       "      <td>679664.596</td>\n",
       "    </tr>\n",
       "  </tbody>\n",
       "</table>\n",
       "</div>"
      ],
      "text/plain": [
       "              ts_code   open   high    low  close  pre_close  change  pct_chg  \\\n",
       "trade_date                                                                      \n",
       "2019-12-31  000001.SZ  16.57  16.63  16.31  16.45      16.57   -0.12  -0.7242   \n",
       "2019-12-30  000001.SZ  16.46  16.63  16.10  16.57      16.63   -0.06  -0.3608   \n",
       "2019-12-27  000001.SZ  16.53  16.93  16.43  16.63      16.47    0.16   0.9715   \n",
       "2019-12-26  000001.SZ  16.34  16.48  16.32  16.47      16.30    0.17   1.0429   \n",
       "2019-12-25  000001.SZ  16.45  16.56  16.24  16.30      16.40   -0.10  -0.6098   \n",
       "\n",
       "                   vol       amount  \n",
       "trade_date                           \n",
       "2019-12-31   704442.25  1154704.348  \n",
       "2019-12-30   976970.31  1603152.786  \n",
       "2019-12-27  1042574.72  1741473.179  \n",
       "2019-12-26   372033.86   610381.757  \n",
       "2019-12-25   414917.98   679664.596  "
      ]
     },
     "execution_count": 13,
     "metadata": {},
     "output_type": "execute_result"
    }
   ],
   "source": [
    "data_1.head()   #完成"
   ]
  },
  {
   "cell_type": "code",
   "execution_count": 14,
   "metadata": {
    "execution": {
     "iopub.execute_input": "2020-06-09T07:42:11.571520Z",
     "iopub.status.busy": "2020-06-09T07:42:11.571520Z",
     "iopub.status.idle": "2020-06-09T07:42:11.590979Z",
     "shell.execute_reply": "2020-06-09T07:42:11.590979Z",
     "shell.execute_reply.started": "2020-06-09T07:42:11.571520Z"
    }
   },
   "outputs": [
    {
     "data": {
      "text/html": [
       "<div>\n",
       "<style scoped>\n",
       "    .dataframe tbody tr th:only-of-type {\n",
       "        vertical-align: middle;\n",
       "    }\n",
       "\n",
       "    .dataframe tbody tr th {\n",
       "        vertical-align: top;\n",
       "    }\n",
       "\n",
       "    .dataframe thead th {\n",
       "        text-align: right;\n",
       "    }\n",
       "</style>\n",
       "<table border=\"1\" class=\"dataframe\">\n",
       "  <thead>\n",
       "    <tr style=\"text-align: right;\">\n",
       "      <th></th>\n",
       "      <th>code</th>\n",
       "      <th>open</th>\n",
       "      <th>high</th>\n",
       "      <th>low</th>\n",
       "      <th>close</th>\n",
       "      <th>pre_close</th>\n",
       "      <th>change</th>\n",
       "      <th>pct_chg</th>\n",
       "      <th>vol</th>\n",
       "      <th>amount</th>\n",
       "    </tr>\n",
       "    <tr>\n",
       "      <th>trade_date</th>\n",
       "      <th></th>\n",
       "      <th></th>\n",
       "      <th></th>\n",
       "      <th></th>\n",
       "      <th></th>\n",
       "      <th></th>\n",
       "      <th></th>\n",
       "      <th></th>\n",
       "      <th></th>\n",
       "      <th></th>\n",
       "    </tr>\n",
       "  </thead>\n",
       "  <tbody>\n",
       "    <tr>\n",
       "      <th>2019-12-31</th>\n",
       "      <td>000001.SZ</td>\n",
       "      <td>16.5700</td>\n",
       "      <td>16.6300</td>\n",
       "      <td>16.3100</td>\n",
       "      <td>16.4500</td>\n",
       "      <td>16.5700</td>\n",
       "      <td>-0.1200</td>\n",
       "      <td>-0.7242</td>\n",
       "      <td>704442.25</td>\n",
       "      <td>1154704.348</td>\n",
       "    </tr>\n",
       "    <tr>\n",
       "      <th>2019-12-30</th>\n",
       "      <td>000001.SZ</td>\n",
       "      <td>16.4600</td>\n",
       "      <td>16.6300</td>\n",
       "      <td>16.1000</td>\n",
       "      <td>16.5700</td>\n",
       "      <td>16.6300</td>\n",
       "      <td>-0.0600</td>\n",
       "      <td>-0.3608</td>\n",
       "      <td>976970.31</td>\n",
       "      <td>1603152.786</td>\n",
       "    </tr>\n",
       "    <tr>\n",
       "      <th>2019-12-27</th>\n",
       "      <td>000001.SZ</td>\n",
       "      <td>16.5300</td>\n",
       "      <td>16.9300</td>\n",
       "      <td>16.4300</td>\n",
       "      <td>16.6300</td>\n",
       "      <td>16.4700</td>\n",
       "      <td>0.1600</td>\n",
       "      <td>0.9715</td>\n",
       "      <td>1042574.72</td>\n",
       "      <td>1741473.179</td>\n",
       "    </tr>\n",
       "    <tr>\n",
       "      <th>2019-12-26</th>\n",
       "      <td>000001.SZ</td>\n",
       "      <td>16.3400</td>\n",
       "      <td>16.4800</td>\n",
       "      <td>16.3200</td>\n",
       "      <td>16.4700</td>\n",
       "      <td>16.3000</td>\n",
       "      <td>0.1700</td>\n",
       "      <td>1.0429</td>\n",
       "      <td>372033.86</td>\n",
       "      <td>610381.757</td>\n",
       "    </tr>\n",
       "    <tr>\n",
       "      <th>2019-12-25</th>\n",
       "      <td>000001.SZ</td>\n",
       "      <td>16.4500</td>\n",
       "      <td>16.5600</td>\n",
       "      <td>16.2400</td>\n",
       "      <td>16.3000</td>\n",
       "      <td>16.4000</td>\n",
       "      <td>-0.1000</td>\n",
       "      <td>-0.6098</td>\n",
       "      <td>414917.98</td>\n",
       "      <td>679664.596</td>\n",
       "    </tr>\n",
       "    <tr>\n",
       "      <th>...</th>\n",
       "      <td>...</td>\n",
       "      <td>...</td>\n",
       "      <td>...</td>\n",
       "      <td>...</td>\n",
       "      <td>...</td>\n",
       "      <td>...</td>\n",
       "      <td>...</td>\n",
       "      <td>...</td>\n",
       "      <td>...</td>\n",
       "      <td>...</td>\n",
       "    </tr>\n",
       "    <tr>\n",
       "      <th>2018-01-08</th>\n",
       "      <td>000001.SZ</td>\n",
       "      <td>12.9029</td>\n",
       "      <td>12.9418</td>\n",
       "      <td>12.5231</td>\n",
       "      <td>12.6205</td>\n",
       "      <td>12.9516</td>\n",
       "      <td>-0.3311</td>\n",
       "      <td>-2.5564</td>\n",
       "      <td>2158620.81</td>\n",
       "      <td>2806099.169</td>\n",
       "    </tr>\n",
       "    <tr>\n",
       "      <th>2018-01-05</th>\n",
       "      <td>000001.SZ</td>\n",
       "      <td>12.8639</td>\n",
       "      <td>13.0003</td>\n",
       "      <td>12.8055</td>\n",
       "      <td>12.9516</td>\n",
       "      <td>12.9029</td>\n",
       "      <td>0.0487</td>\n",
       "      <td>0.3774</td>\n",
       "      <td>1210312.72</td>\n",
       "      <td>1603289.517</td>\n",
       "    </tr>\n",
       "    <tr>\n",
       "      <th>2018-01-04</th>\n",
       "      <td>000001.SZ</td>\n",
       "      <td>12.9710</td>\n",
       "      <td>13.0197</td>\n",
       "      <td>12.7860</td>\n",
       "      <td>12.9029</td>\n",
       "      <td>12.9808</td>\n",
       "      <td>-0.0779</td>\n",
       "      <td>-0.6001</td>\n",
       "      <td>1854509.48</td>\n",
       "      <td>2454543.516</td>\n",
       "    </tr>\n",
       "    <tr>\n",
       "      <th>2018-01-03</th>\n",
       "      <td>000001.SZ</td>\n",
       "      <td>13.3703</td>\n",
       "      <td>13.4969</td>\n",
       "      <td>12.8542</td>\n",
       "      <td>12.9808</td>\n",
       "      <td>13.3411</td>\n",
       "      <td>-0.3603</td>\n",
       "      <td>-2.7007</td>\n",
       "      <td>2962498.38</td>\n",
       "      <td>4006220.766</td>\n",
       "    </tr>\n",
       "    <tr>\n",
       "      <th>2018-01-02</th>\n",
       "      <td>000001.SZ</td>\n",
       "      <td>13.0003</td>\n",
       "      <td>13.5651</td>\n",
       "      <td>12.9710</td>\n",
       "      <td>13.3411</td>\n",
       "      <td>12.9516</td>\n",
       "      <td>0.3895</td>\n",
       "      <td>3.0074</td>\n",
       "      <td>2081592.55</td>\n",
       "      <td>2856543.822</td>\n",
       "    </tr>\n",
       "  </tbody>\n",
       "</table>\n",
       "<p>487 rows × 10 columns</p>\n",
       "</div>"
      ],
      "text/plain": [
       "                 code     open     high      low    close  pre_close  change  \\\n",
       "trade_date                                                                     \n",
       "2019-12-31  000001.SZ  16.5700  16.6300  16.3100  16.4500    16.5700 -0.1200   \n",
       "2019-12-30  000001.SZ  16.4600  16.6300  16.1000  16.5700    16.6300 -0.0600   \n",
       "2019-12-27  000001.SZ  16.5300  16.9300  16.4300  16.6300    16.4700  0.1600   \n",
       "2019-12-26  000001.SZ  16.3400  16.4800  16.3200  16.4700    16.3000  0.1700   \n",
       "2019-12-25  000001.SZ  16.4500  16.5600  16.2400  16.3000    16.4000 -0.1000   \n",
       "...               ...      ...      ...      ...      ...        ...     ...   \n",
       "2018-01-08  000001.SZ  12.9029  12.9418  12.5231  12.6205    12.9516 -0.3311   \n",
       "2018-01-05  000001.SZ  12.8639  13.0003  12.8055  12.9516    12.9029  0.0487   \n",
       "2018-01-04  000001.SZ  12.9710  13.0197  12.7860  12.9029    12.9808 -0.0779   \n",
       "2018-01-03  000001.SZ  13.3703  13.4969  12.8542  12.9808    13.3411 -0.3603   \n",
       "2018-01-02  000001.SZ  13.0003  13.5651  12.9710  13.3411    12.9516  0.3895   \n",
       "\n",
       "            pct_chg         vol       amount  \n",
       "trade_date                                    \n",
       "2019-12-31  -0.7242   704442.25  1154704.348  \n",
       "2019-12-30  -0.3608   976970.31  1603152.786  \n",
       "2019-12-27   0.9715  1042574.72  1741473.179  \n",
       "2019-12-26   1.0429   372033.86   610381.757  \n",
       "2019-12-25  -0.6098   414917.98   679664.596  \n",
       "...             ...         ...          ...  \n",
       "2018-01-08  -2.5564  2158620.81  2806099.169  \n",
       "2018-01-05   0.3774  1210312.72  1603289.517  \n",
       "2018-01-04  -0.6001  1854509.48  2454543.516  \n",
       "2018-01-03  -2.7007  2962498.38  4006220.766  \n",
       "2018-01-02   3.0074  2081592.55  2856543.822  \n",
       "\n",
       "[487 rows x 10 columns]"
      ]
     },
     "execution_count": 14,
     "metadata": {},
     "output_type": "execute_result"
    }
   ],
   "source": [
    "#改一下列名\n",
    "data_1.rename(columns={'trade_date':'date','ts_code':'code'})     #需要加上inpalce"
   ]
  },
  {
   "cell_type": "code",
   "execution_count": 15,
   "metadata": {
    "execution": {
     "iopub.execute_input": "2020-06-09T07:43:32.141236Z",
     "iopub.status.busy": "2020-06-09T07:43:32.140243Z",
     "iopub.status.idle": "2020-06-09T07:43:32.145223Z",
     "shell.execute_reply": "2020-06-09T07:43:32.144973Z",
     "shell.execute_reply.started": "2020-06-09T07:43:32.141236Z"
    }
   },
   "outputs": [],
   "source": [
    "del data_1['pct_chg']   #删除没有用的列"
   ]
  },
  {
   "cell_type": "code",
   "execution_count": 16,
   "metadata": {
    "execution": {
     "iopub.execute_input": "2020-06-09T07:43:52.351660Z",
     "iopub.status.busy": "2020-06-09T07:43:52.351660Z",
     "iopub.status.idle": "2020-06-09T07:43:52.369610Z",
     "shell.execute_reply": "2020-06-09T07:43:52.368612Z",
     "shell.execute_reply.started": "2020-06-09T07:43:52.351660Z"
    }
   },
   "outputs": [
    {
     "data": {
      "text/html": [
       "<div>\n",
       "<style scoped>\n",
       "    .dataframe tbody tr th:only-of-type {\n",
       "        vertical-align: middle;\n",
       "    }\n",
       "\n",
       "    .dataframe tbody tr th {\n",
       "        vertical-align: top;\n",
       "    }\n",
       "\n",
       "    .dataframe thead th {\n",
       "        text-align: right;\n",
       "    }\n",
       "</style>\n",
       "<table border=\"1\" class=\"dataframe\">\n",
       "  <thead>\n",
       "    <tr style=\"text-align: right;\">\n",
       "      <th></th>\n",
       "      <th>ts_code</th>\n",
       "      <th>open</th>\n",
       "      <th>high</th>\n",
       "      <th>low</th>\n",
       "      <th>close</th>\n",
       "      <th>pre_close</th>\n",
       "      <th>change</th>\n",
       "      <th>vol</th>\n",
       "      <th>amount</th>\n",
       "    </tr>\n",
       "    <tr>\n",
       "      <th>trade_date</th>\n",
       "      <th></th>\n",
       "      <th></th>\n",
       "      <th></th>\n",
       "      <th></th>\n",
       "      <th></th>\n",
       "      <th></th>\n",
       "      <th></th>\n",
       "      <th></th>\n",
       "      <th></th>\n",
       "    </tr>\n",
       "  </thead>\n",
       "  <tbody>\n",
       "    <tr>\n",
       "      <th>2019-12-31</th>\n",
       "      <td>000001.SZ</td>\n",
       "      <td>16.57</td>\n",
       "      <td>16.63</td>\n",
       "      <td>16.31</td>\n",
       "      <td>16.45</td>\n",
       "      <td>16.57</td>\n",
       "      <td>-0.12</td>\n",
       "      <td>704442.25</td>\n",
       "      <td>1154704.348</td>\n",
       "    </tr>\n",
       "    <tr>\n",
       "      <th>2019-12-30</th>\n",
       "      <td>000001.SZ</td>\n",
       "      <td>16.46</td>\n",
       "      <td>16.63</td>\n",
       "      <td>16.10</td>\n",
       "      <td>16.57</td>\n",
       "      <td>16.63</td>\n",
       "      <td>-0.06</td>\n",
       "      <td>976970.31</td>\n",
       "      <td>1603152.786</td>\n",
       "    </tr>\n",
       "    <tr>\n",
       "      <th>2019-12-27</th>\n",
       "      <td>000001.SZ</td>\n",
       "      <td>16.53</td>\n",
       "      <td>16.93</td>\n",
       "      <td>16.43</td>\n",
       "      <td>16.63</td>\n",
       "      <td>16.47</td>\n",
       "      <td>0.16</td>\n",
       "      <td>1042574.72</td>\n",
       "      <td>1741473.179</td>\n",
       "    </tr>\n",
       "    <tr>\n",
       "      <th>2019-12-26</th>\n",
       "      <td>000001.SZ</td>\n",
       "      <td>16.34</td>\n",
       "      <td>16.48</td>\n",
       "      <td>16.32</td>\n",
       "      <td>16.47</td>\n",
       "      <td>16.30</td>\n",
       "      <td>0.17</td>\n",
       "      <td>372033.86</td>\n",
       "      <td>610381.757</td>\n",
       "    </tr>\n",
       "    <tr>\n",
       "      <th>2019-12-25</th>\n",
       "      <td>000001.SZ</td>\n",
       "      <td>16.45</td>\n",
       "      <td>16.56</td>\n",
       "      <td>16.24</td>\n",
       "      <td>16.30</td>\n",
       "      <td>16.40</td>\n",
       "      <td>-0.10</td>\n",
       "      <td>414917.98</td>\n",
       "      <td>679664.596</td>\n",
       "    </tr>\n",
       "  </tbody>\n",
       "</table>\n",
       "</div>"
      ],
      "text/plain": [
       "              ts_code   open   high    low  close  pre_close  change  \\\n",
       "trade_date                                                             \n",
       "2019-12-31  000001.SZ  16.57  16.63  16.31  16.45      16.57   -0.12   \n",
       "2019-12-30  000001.SZ  16.46  16.63  16.10  16.57      16.63   -0.06   \n",
       "2019-12-27  000001.SZ  16.53  16.93  16.43  16.63      16.47    0.16   \n",
       "2019-12-26  000001.SZ  16.34  16.48  16.32  16.47      16.30    0.17   \n",
       "2019-12-25  000001.SZ  16.45  16.56  16.24  16.30      16.40   -0.10   \n",
       "\n",
       "                   vol       amount  \n",
       "trade_date                           \n",
       "2019-12-31   704442.25  1154704.348  \n",
       "2019-12-30   976970.31  1603152.786  \n",
       "2019-12-27  1042574.72  1741473.179  \n",
       "2019-12-26   372033.86   610381.757  \n",
       "2019-12-25   414917.98   679664.596  "
      ]
     },
     "execution_count": 16,
     "metadata": {},
     "output_type": "execute_result"
    }
   ],
   "source": [
    "data_1.head()"
   ]
  },
  {
   "cell_type": "code",
   "execution_count": 20,
   "metadata": {
    "execution": {
     "iopub.execute_input": "2020-06-09T07:47:54.570589Z",
     "iopub.status.busy": "2020-06-09T07:47:54.569591Z",
     "iopub.status.idle": "2020-06-09T07:47:54.585549Z",
     "shell.execute_reply": "2020-06-09T07:47:54.584552Z",
     "shell.execute_reply.started": "2020-06-09T07:47:54.570589Z"
    }
   },
   "outputs": [
    {
     "data": {
      "text/html": [
       "<div>\n",
       "<style scoped>\n",
       "    .dataframe tbody tr th:only-of-type {\n",
       "        vertical-align: middle;\n",
       "    }\n",
       "\n",
       "    .dataframe tbody tr th {\n",
       "        vertical-align: top;\n",
       "    }\n",
       "\n",
       "    .dataframe thead th {\n",
       "        text-align: right;\n",
       "    }\n",
       "</style>\n",
       "<table border=\"1\" class=\"dataframe\">\n",
       "  <thead>\n",
       "    <tr style=\"text-align: right;\">\n",
       "      <th></th>\n",
       "      <th>ts_code</th>\n",
       "      <th>open</th>\n",
       "      <th>high</th>\n",
       "      <th>low</th>\n",
       "      <th>close</th>\n",
       "      <th>pre_close</th>\n",
       "      <th>change</th>\n",
       "      <th>vol</th>\n",
       "      <th>amount</th>\n",
       "    </tr>\n",
       "    <tr>\n",
       "      <th>date</th>\n",
       "      <th></th>\n",
       "      <th></th>\n",
       "      <th></th>\n",
       "      <th></th>\n",
       "      <th></th>\n",
       "      <th></th>\n",
       "      <th></th>\n",
       "      <th></th>\n",
       "      <th></th>\n",
       "    </tr>\n",
       "  </thead>\n",
       "  <tbody>\n",
       "    <tr>\n",
       "      <th>2019-12-31</th>\n",
       "      <td>000001.SZ</td>\n",
       "      <td>16.57</td>\n",
       "      <td>16.63</td>\n",
       "      <td>16.31</td>\n",
       "      <td>16.45</td>\n",
       "      <td>16.57</td>\n",
       "      <td>-0.12</td>\n",
       "      <td>704442.25</td>\n",
       "      <td>1154704.348</td>\n",
       "    </tr>\n",
       "    <tr>\n",
       "      <th>2019-12-30</th>\n",
       "      <td>000001.SZ</td>\n",
       "      <td>16.46</td>\n",
       "      <td>16.63</td>\n",
       "      <td>16.10</td>\n",
       "      <td>16.57</td>\n",
       "      <td>16.63</td>\n",
       "      <td>-0.06</td>\n",
       "      <td>976970.31</td>\n",
       "      <td>1603152.786</td>\n",
       "    </tr>\n",
       "    <tr>\n",
       "      <th>2019-12-27</th>\n",
       "      <td>000001.SZ</td>\n",
       "      <td>16.53</td>\n",
       "      <td>16.93</td>\n",
       "      <td>16.43</td>\n",
       "      <td>16.63</td>\n",
       "      <td>16.47</td>\n",
       "      <td>0.16</td>\n",
       "      <td>1042574.72</td>\n",
       "      <td>1741473.179</td>\n",
       "    </tr>\n",
       "    <tr>\n",
       "      <th>2019-12-26</th>\n",
       "      <td>000001.SZ</td>\n",
       "      <td>16.34</td>\n",
       "      <td>16.48</td>\n",
       "      <td>16.32</td>\n",
       "      <td>16.47</td>\n",
       "      <td>16.30</td>\n",
       "      <td>0.17</td>\n",
       "      <td>372033.86</td>\n",
       "      <td>610381.757</td>\n",
       "    </tr>\n",
       "    <tr>\n",
       "      <th>2019-12-25</th>\n",
       "      <td>000001.SZ</td>\n",
       "      <td>16.45</td>\n",
       "      <td>16.56</td>\n",
       "      <td>16.24</td>\n",
       "      <td>16.30</td>\n",
       "      <td>16.40</td>\n",
       "      <td>-0.10</td>\n",
       "      <td>414917.98</td>\n",
       "      <td>679664.596</td>\n",
       "    </tr>\n",
       "  </tbody>\n",
       "</table>\n",
       "</div>"
      ],
      "text/plain": [
       "              ts_code   open   high    low  close  pre_close  change  \\\n",
       "date                                                                   \n",
       "2019-12-31  000001.SZ  16.57  16.63  16.31  16.45      16.57   -0.12   \n",
       "2019-12-30  000001.SZ  16.46  16.63  16.10  16.57      16.63   -0.06   \n",
       "2019-12-27  000001.SZ  16.53  16.93  16.43  16.63      16.47    0.16   \n",
       "2019-12-26  000001.SZ  16.34  16.48  16.32  16.47      16.30    0.17   \n",
       "2019-12-25  000001.SZ  16.45  16.56  16.24  16.30      16.40   -0.10   \n",
       "\n",
       "                   vol       amount  \n",
       "date                                 \n",
       "2019-12-31   704442.25  1154704.348  \n",
       "2019-12-30   976970.31  1603152.786  \n",
       "2019-12-27  1042574.72  1741473.179  \n",
       "2019-12-26   372033.86   610381.757  \n",
       "2019-12-25   414917.98   679664.596  "
      ]
     },
     "execution_count": 20,
     "metadata": {},
     "output_type": "execute_result"
    }
   ],
   "source": [
    "#修改index的名字，记得inplace\n",
    "data_1.index.set_names('date',inplace=True)  \n",
    "data_1.head()"
   ]
  },
  {
   "cell_type": "code",
   "execution_count": 26,
   "metadata": {
    "execution": {
     "iopub.execute_input": "2020-06-09T08:03:13.741985Z",
     "iopub.status.busy": "2020-06-09T08:03:13.740947Z",
     "iopub.status.idle": "2020-06-09T08:03:13.746933Z",
     "shell.execute_reply": "2020-06-09T08:03:13.746933Z",
     "shell.execute_reply.started": "2020-06-09T08:03:13.741985Z"
    }
   },
   "outputs": [
    {
     "data": {
      "text/plain": [
       "pandas.core.frame.DataFrame"
      ]
     },
     "execution_count": 26,
     "metadata": {},
     "output_type": "execute_result"
    }
   ],
   "source": [
    "type(data_1)"
   ]
  },
  {
   "cell_type": "code",
   "execution_count": 29,
   "metadata": {
    "execution": {
     "iopub.execute_input": "2020-06-09T08:05:04.061570Z",
     "iopub.status.busy": "2020-06-09T08:05:04.061570Z",
     "iopub.status.idle": "2020-06-09T08:05:04.078523Z",
     "shell.execute_reply": "2020-06-09T08:05:04.077587Z",
     "shell.execute_reply.started": "2020-06-09T08:05:04.061570Z"
    }
   },
   "outputs": [
    {
     "data": {
      "text/html": [
       "<div>\n",
       "<style scoped>\n",
       "    .dataframe tbody tr th:only-of-type {\n",
       "        vertical-align: middle;\n",
       "    }\n",
       "\n",
       "    .dataframe tbody tr th {\n",
       "        vertical-align: top;\n",
       "    }\n",
       "\n",
       "    .dataframe thead th {\n",
       "        text-align: right;\n",
       "    }\n",
       "</style>\n",
       "<table border=\"1\" class=\"dataframe\">\n",
       "  <thead>\n",
       "    <tr style=\"text-align: right;\">\n",
       "      <th></th>\n",
       "      <th>code</th>\n",
       "      <th>open</th>\n",
       "      <th>high</th>\n",
       "      <th>low</th>\n",
       "      <th>close</th>\n",
       "      <th>pre_close</th>\n",
       "      <th>change</th>\n",
       "      <th>vol</th>\n",
       "      <th>amount</th>\n",
       "    </tr>\n",
       "    <tr>\n",
       "      <th>date</th>\n",
       "      <th></th>\n",
       "      <th></th>\n",
       "      <th></th>\n",
       "      <th></th>\n",
       "      <th></th>\n",
       "      <th></th>\n",
       "      <th></th>\n",
       "      <th></th>\n",
       "      <th></th>\n",
       "    </tr>\n",
       "  </thead>\n",
       "  <tbody>\n",
       "    <tr>\n",
       "      <th>2019-12-31</th>\n",
       "      <td>000001.SZ</td>\n",
       "      <td>16.57</td>\n",
       "      <td>16.63</td>\n",
       "      <td>16.31</td>\n",
       "      <td>16.45</td>\n",
       "      <td>16.57</td>\n",
       "      <td>-0.12</td>\n",
       "      <td>704442.25</td>\n",
       "      <td>1154704.348</td>\n",
       "    </tr>\n",
       "    <tr>\n",
       "      <th>2019-12-30</th>\n",
       "      <td>000001.SZ</td>\n",
       "      <td>16.46</td>\n",
       "      <td>16.63</td>\n",
       "      <td>16.10</td>\n",
       "      <td>16.57</td>\n",
       "      <td>16.63</td>\n",
       "      <td>-0.06</td>\n",
       "      <td>976970.31</td>\n",
       "      <td>1603152.786</td>\n",
       "    </tr>\n",
       "    <tr>\n",
       "      <th>2019-12-27</th>\n",
       "      <td>000001.SZ</td>\n",
       "      <td>16.53</td>\n",
       "      <td>16.93</td>\n",
       "      <td>16.43</td>\n",
       "      <td>16.63</td>\n",
       "      <td>16.47</td>\n",
       "      <td>0.16</td>\n",
       "      <td>1042574.72</td>\n",
       "      <td>1741473.179</td>\n",
       "    </tr>\n",
       "    <tr>\n",
       "      <th>2019-12-26</th>\n",
       "      <td>000001.SZ</td>\n",
       "      <td>16.34</td>\n",
       "      <td>16.48</td>\n",
       "      <td>16.32</td>\n",
       "      <td>16.47</td>\n",
       "      <td>16.30</td>\n",
       "      <td>0.17</td>\n",
       "      <td>372033.86</td>\n",
       "      <td>610381.757</td>\n",
       "    </tr>\n",
       "    <tr>\n",
       "      <th>2019-12-25</th>\n",
       "      <td>000001.SZ</td>\n",
       "      <td>16.45</td>\n",
       "      <td>16.56</td>\n",
       "      <td>16.24</td>\n",
       "      <td>16.30</td>\n",
       "      <td>16.40</td>\n",
       "      <td>-0.10</td>\n",
       "      <td>414917.98</td>\n",
       "      <td>679664.596</td>\n",
       "    </tr>\n",
       "  </tbody>\n",
       "</table>\n",
       "</div>"
      ],
      "text/plain": [
       "                 code   open   high    low  close  pre_close  change  \\\n",
       "date                                                                   \n",
       "2019-12-31  000001.SZ  16.57  16.63  16.31  16.45      16.57   -0.12   \n",
       "2019-12-30  000001.SZ  16.46  16.63  16.10  16.57      16.63   -0.06   \n",
       "2019-12-27  000001.SZ  16.53  16.93  16.43  16.63      16.47    0.16   \n",
       "2019-12-26  000001.SZ  16.34  16.48  16.32  16.47      16.30    0.17   \n",
       "2019-12-25  000001.SZ  16.45  16.56  16.24  16.30      16.40   -0.10   \n",
       "\n",
       "                   vol       amount  \n",
       "date                                 \n",
       "2019-12-31   704442.25  1154704.348  \n",
       "2019-12-30   976970.31  1603152.786  \n",
       "2019-12-27  1042574.72  1741473.179  \n",
       "2019-12-26   372033.86   610381.757  \n",
       "2019-12-25   414917.98   679664.596  "
      ]
     },
     "execution_count": 29,
     "metadata": {},
     "output_type": "execute_result"
    }
   ],
   "source": [
    "#改一下列名，记得index\n",
    "data_1=data_1.rename(columns={'ts_code':'code'})     #不需要需要加上inpalce\n",
    "data_1.head()"
   ]
  },
  {
   "cell_type": "code",
   "execution_count": 67,
   "metadata": {
    "execution": {
     "iopub.execute_input": "2020-06-09T09:31:01.180380Z",
     "iopub.status.busy": "2020-06-09T09:31:01.180380Z",
     "iopub.status.idle": "2020-06-09T09:31:01.743725Z",
     "shell.execute_reply": "2020-06-09T09:31:01.741212Z",
     "shell.execute_reply.started": "2020-06-09T09:31:01.180380Z"
    }
   },
   "outputs": [
    {
     "data": {
      "text/html": [
       "<div>\n",
       "<style scoped>\n",
       "    .dataframe tbody tr th:only-of-type {\n",
       "        vertical-align: middle;\n",
       "    }\n",
       "\n",
       "    .dataframe tbody tr th {\n",
       "        vertical-align: top;\n",
       "    }\n",
       "\n",
       "    .dataframe thead th {\n",
       "        text-align: right;\n",
       "    }\n",
       "</style>\n",
       "<table border=\"1\" class=\"dataframe\">\n",
       "  <thead>\n",
       "    <tr style=\"text-align: right;\">\n",
       "      <th></th>\n",
       "      <th>code</th>\n",
       "      <th>open</th>\n",
       "      <th>high</th>\n",
       "      <th>low</th>\n",
       "      <th>close</th>\n",
       "      <th>vol</th>\n",
       "    </tr>\n",
       "    <tr>\n",
       "      <th>date</th>\n",
       "      <th></th>\n",
       "      <th></th>\n",
       "      <th></th>\n",
       "      <th></th>\n",
       "      <th></th>\n",
       "      <th></th>\n",
       "    </tr>\n",
       "  </thead>\n",
       "  <tbody>\n",
       "    <tr>\n",
       "      <th>2019-12-31</th>\n",
       "      <td>000008.SZ</td>\n",
       "      <td>3.62</td>\n",
       "      <td>3.64</td>\n",
       "      <td>3.61</td>\n",
       "      <td>3.63</td>\n",
       "      <td>156918.49</td>\n",
       "    </tr>\n",
       "    <tr>\n",
       "      <th>2019-12-30</th>\n",
       "      <td>000008.SZ</td>\n",
       "      <td>3.62</td>\n",
       "      <td>3.64</td>\n",
       "      <td>3.57</td>\n",
       "      <td>3.61</td>\n",
       "      <td>247484.54</td>\n",
       "    </tr>\n",
       "    <tr>\n",
       "      <th>2019-12-27</th>\n",
       "      <td>000008.SZ</td>\n",
       "      <td>3.65</td>\n",
       "      <td>3.68</td>\n",
       "      <td>3.62</td>\n",
       "      <td>3.63</td>\n",
       "      <td>248982.17</td>\n",
       "    </tr>\n",
       "    <tr>\n",
       "      <th>2019-12-26</th>\n",
       "      <td>000008.SZ</td>\n",
       "      <td>3.63</td>\n",
       "      <td>3.64</td>\n",
       "      <td>3.60</td>\n",
       "      <td>3.63</td>\n",
       "      <td>177466.33</td>\n",
       "    </tr>\n",
       "    <tr>\n",
       "      <th>2019-12-25</th>\n",
       "      <td>000008.SZ</td>\n",
       "      <td>3.62</td>\n",
       "      <td>3.64</td>\n",
       "      <td>3.60</td>\n",
       "      <td>3.62</td>\n",
       "      <td>189553.42</td>\n",
       "    </tr>\n",
       "  </tbody>\n",
       "</table>\n",
       "</div>"
      ],
      "text/plain": [
       "                 code  open  high   low  close        vol\n",
       "date                                                     \n",
       "2019-12-31  000008.SZ  3.62  3.64  3.61   3.63  156918.49\n",
       "2019-12-30  000008.SZ  3.62  3.64  3.57   3.61  247484.54\n",
       "2019-12-27  000008.SZ  3.65  3.68  3.62   3.63  248982.17\n",
       "2019-12-26  000008.SZ  3.63  3.64  3.60   3.63  177466.33\n",
       "2019-12-25  000008.SZ  3.62  3.64  3.60   3.62  189553.42"
      ]
     },
     "execution_count": 67,
     "metadata": {},
     "output_type": "execute_result"
    }
   ],
   "source": [
    "#整理一下顺序和逻辑\n",
    "data = ts.pro_bar('000008.SZ', adj='qfq', start_date='20180101', end_date='20200101')    \n",
    "data.set_index('trade_date',inplace=True)\n",
    "data.index=pd.to_datetime(data.index)\n",
    "data=data.rename(index={'trade_date':'date'},columns={'ts_code':'code'})  #index名字修改没成功\n",
    "data=data.drop(columns=['pct_chg', 'pre_close','change','amount'])    #删除列，用del 方法没有成功\n",
    "data.index.set_names('date',inplace=True)   #重新修改index名字\n",
    "data.head()"
   ]
  },
  {
   "cell_type": "markdown",
   "metadata": {},
   "source": [
    "###  2.同时获取多只股价信息"
   ]
  },
  {
   "cell_type": "markdown",
   "metadata": {},
   "source": [
    "*基本思想其实和获取单只股票股价信息是一样的，这里先分布解释，再合成*"
   ]
  },
  {
   "cell_type": "code",
   "execution_count": 73,
   "metadata": {
    "execution": {
     "iopub.execute_input": "2020-06-09T09:44:49.605473Z",
     "iopub.status.busy": "2020-06-09T09:44:49.604474Z",
     "iopub.status.idle": "2020-06-09T09:44:49.618039Z",
     "shell.execute_reply": "2020-06-09T09:44:49.616057Z",
     "shell.execute_reply.started": "2020-06-09T09:44:49.605473Z"
    }
   },
   "outputs": [],
   "source": [
    "#第一步\n",
    "def data(codes):\n",
    "        stock= ts.pro_bar(codes, adj='qfq', start_date='20180101', end_date='20200101')    \n",
    "        stock.set_index('trade_date',inplace=True)\n",
    "        stock.index=pd.to_datetime(stock.index)\n",
    "        stock=stock.rename(index={'trade_date':'date'},columns={'ts_code':'code'})  #index名字修改没成功\n",
    "        stock=stock.drop(columns=['pct_chg', 'pre_close','change','amount'])    #删除列，用del 方法没有成功\n",
    "        stock.index.set_names('date',inplace=True)   #重新修改index名字\n",
    "        return stock"
   ]
  },
  {
   "cell_type": "code",
   "execution_count": 74,
   "metadata": {
    "execution": {
     "iopub.execute_input": "2020-06-09T09:44:52.980180Z",
     "iopub.status.busy": "2020-06-09T09:44:52.980180Z",
     "iopub.status.idle": "2020-06-09T09:44:53.358799Z",
     "shell.execute_reply": "2020-06-09T09:44:53.356956Z",
     "shell.execute_reply.started": "2020-06-09T09:44:52.980180Z"
    }
   },
   "outputs": [
    {
     "data": {
      "text/html": [
       "<div>\n",
       "<style scoped>\n",
       "    .dataframe tbody tr th:only-of-type {\n",
       "        vertical-align: middle;\n",
       "    }\n",
       "\n",
       "    .dataframe tbody tr th {\n",
       "        vertical-align: top;\n",
       "    }\n",
       "\n",
       "    .dataframe thead th {\n",
       "        text-align: right;\n",
       "    }\n",
       "</style>\n",
       "<table border=\"1\" class=\"dataframe\">\n",
       "  <thead>\n",
       "    <tr style=\"text-align: right;\">\n",
       "      <th></th>\n",
       "      <th>code</th>\n",
       "      <th>open</th>\n",
       "      <th>high</th>\n",
       "      <th>low</th>\n",
       "      <th>close</th>\n",
       "      <th>vol</th>\n",
       "    </tr>\n",
       "    <tr>\n",
       "      <th>date</th>\n",
       "      <th></th>\n",
       "      <th></th>\n",
       "      <th></th>\n",
       "      <th></th>\n",
       "      <th></th>\n",
       "      <th></th>\n",
       "    </tr>\n",
       "  </thead>\n",
       "  <tbody>\n",
       "    <tr>\n",
       "      <th>2019-12-31</th>\n",
       "      <td>000005.SZ</td>\n",
       "      <td>3.09</td>\n",
       "      <td>3.10</td>\n",
       "      <td>3.05</td>\n",
       "      <td>3.09</td>\n",
       "      <td>55611.66</td>\n",
       "    </tr>\n",
       "    <tr>\n",
       "      <th>2019-12-30</th>\n",
       "      <td>000005.SZ</td>\n",
       "      <td>3.06</td>\n",
       "      <td>3.09</td>\n",
       "      <td>3.01</td>\n",
       "      <td>3.08</td>\n",
       "      <td>66811.55</td>\n",
       "    </tr>\n",
       "    <tr>\n",
       "      <th>2019-12-27</th>\n",
       "      <td>000005.SZ</td>\n",
       "      <td>3.10</td>\n",
       "      <td>3.14</td>\n",
       "      <td>3.08</td>\n",
       "      <td>3.09</td>\n",
       "      <td>91970.01</td>\n",
       "    </tr>\n",
       "    <tr>\n",
       "      <th>2019-12-26</th>\n",
       "      <td>000005.SZ</td>\n",
       "      <td>3.03</td>\n",
       "      <td>3.14</td>\n",
       "      <td>3.03</td>\n",
       "      <td>3.10</td>\n",
       "      <td>123479.27</td>\n",
       "    </tr>\n",
       "    <tr>\n",
       "      <th>2019-12-25</th>\n",
       "      <td>000005.SZ</td>\n",
       "      <td>3.05</td>\n",
       "      <td>3.05</td>\n",
       "      <td>3.01</td>\n",
       "      <td>3.03</td>\n",
       "      <td>47741.00</td>\n",
       "    </tr>\n",
       "  </tbody>\n",
       "</table>\n",
       "</div>"
      ],
      "text/plain": [
       "                 code  open  high   low  close        vol\n",
       "date                                                     \n",
       "2019-12-31  000005.SZ  3.09  3.10  3.05   3.09   55611.66\n",
       "2019-12-30  000005.SZ  3.06  3.09  3.01   3.08   66811.55\n",
       "2019-12-27  000005.SZ  3.10  3.14  3.08   3.09   91970.01\n",
       "2019-12-26  000005.SZ  3.03  3.14  3.03   3.10  123479.27\n",
       "2019-12-25  000005.SZ  3.05  3.05  3.01   3.03   47741.00"
      ]
     },
     "execution_count": 74,
     "metadata": {},
     "output_type": "execute_result"
    }
   ],
   "source": [
    "#第二步\n",
    "codes=['000001.SZ', '000005.SZ','000008.SZ']\n",
    "a=data(codes[1])\n",
    "a.head()"
   ]
  },
  {
   "cell_type": "code",
   "execution_count": 77,
   "metadata": {
    "execution": {
     "iopub.execute_input": "2020-06-09T09:46:14.324719Z",
     "iopub.status.busy": "2020-06-09T09:46:14.323703Z",
     "iopub.status.idle": "2020-06-09T09:46:15.984216Z",
     "shell.execute_reply": "2020-06-09T09:46:15.982274Z",
     "shell.execute_reply.started": "2020-06-09T09:46:14.324719Z"
    }
   },
   "outputs": [
    {
     "data": {
      "text/html": [
       "<div>\n",
       "<style scoped>\n",
       "    .dataframe tbody tr th:only-of-type {\n",
       "        vertical-align: middle;\n",
       "    }\n",
       "\n",
       "    .dataframe tbody tr th {\n",
       "        vertical-align: top;\n",
       "    }\n",
       "\n",
       "    .dataframe thead th {\n",
       "        text-align: right;\n",
       "    }\n",
       "</style>\n",
       "<table border=\"1\" class=\"dataframe\">\n",
       "  <thead>\n",
       "    <tr style=\"text-align: right;\">\n",
       "      <th></th>\n",
       "      <th></th>\n",
       "      <th>code</th>\n",
       "      <th>open</th>\n",
       "      <th>high</th>\n",
       "      <th>low</th>\n",
       "      <th>close</th>\n",
       "      <th>vol</th>\n",
       "    </tr>\n",
       "    <tr>\n",
       "      <th>codes</th>\n",
       "      <th>data</th>\n",
       "      <th></th>\n",
       "      <th></th>\n",
       "      <th></th>\n",
       "      <th></th>\n",
       "      <th></th>\n",
       "      <th></th>\n",
       "    </tr>\n",
       "  </thead>\n",
       "  <tbody>\n",
       "    <tr>\n",
       "      <th rowspan=\"5\" valign=\"top\">000001.SZ</th>\n",
       "      <th>2019-12-31</th>\n",
       "      <td>000001.SZ</td>\n",
       "      <td>16.57</td>\n",
       "      <td>16.63</td>\n",
       "      <td>16.31</td>\n",
       "      <td>16.45</td>\n",
       "      <td>704442.25</td>\n",
       "    </tr>\n",
       "    <tr>\n",
       "      <th>2019-12-30</th>\n",
       "      <td>000001.SZ</td>\n",
       "      <td>16.46</td>\n",
       "      <td>16.63</td>\n",
       "      <td>16.10</td>\n",
       "      <td>16.57</td>\n",
       "      <td>976970.31</td>\n",
       "    </tr>\n",
       "    <tr>\n",
       "      <th>2019-12-27</th>\n",
       "      <td>000001.SZ</td>\n",
       "      <td>16.53</td>\n",
       "      <td>16.93</td>\n",
       "      <td>16.43</td>\n",
       "      <td>16.63</td>\n",
       "      <td>1042574.72</td>\n",
       "    </tr>\n",
       "    <tr>\n",
       "      <th>2019-12-26</th>\n",
       "      <td>000001.SZ</td>\n",
       "      <td>16.34</td>\n",
       "      <td>16.48</td>\n",
       "      <td>16.32</td>\n",
       "      <td>16.47</td>\n",
       "      <td>372033.86</td>\n",
       "    </tr>\n",
       "    <tr>\n",
       "      <th>2019-12-25</th>\n",
       "      <td>000001.SZ</td>\n",
       "      <td>16.45</td>\n",
       "      <td>16.56</td>\n",
       "      <td>16.24</td>\n",
       "      <td>16.30</td>\n",
       "      <td>414917.98</td>\n",
       "    </tr>\n",
       "  </tbody>\n",
       "</table>\n",
       "</div>"
      ],
      "text/plain": [
       "                           code   open   high    low  close         vol\n",
       "codes     data                                                         \n",
       "000001.SZ 2019-12-31  000001.SZ  16.57  16.63  16.31  16.45   704442.25\n",
       "          2019-12-30  000001.SZ  16.46  16.63  16.10  16.57   976970.31\n",
       "          2019-12-27  000001.SZ  16.53  16.93  16.43  16.63  1042574.72\n",
       "          2019-12-26  000001.SZ  16.34  16.48  16.32  16.47   372033.86\n",
       "          2019-12-25  000001.SZ  16.45  16.56  16.24  16.30   414917.98"
      ]
     },
     "execution_count": 77,
     "metadata": {},
     "output_type": "execute_result"
    }
   ],
   "source": [
    "#第三步,利用python的内置函数map\n",
    "datas=map(data,codes)\n",
    "re=pd.concat(datas,keys=codes,names=['codes','data'])\n",
    "re.head()"
   ]
  },
  {
   "cell_type": "code",
   "execution_count": 82,
   "metadata": {
    "execution": {
     "iopub.execute_input": "2020-06-09T10:00:59.390345Z",
     "iopub.status.busy": "2020-06-09T10:00:59.390345Z",
     "iopub.status.idle": "2020-06-09T10:00:59.402312Z",
     "shell.execute_reply": "2020-06-09T10:00:59.401348Z",
     "shell.execute_reply.started": "2020-06-09T10:00:59.390345Z"
    }
   },
   "outputs": [],
   "source": [
    "def multiple_stocks(codes):\n",
    "    def data(codes):\n",
    "        stock= ts.pro_bar(codes, adj='qfq', start_date='20180101', end_date='20200101')    \n",
    "        stock.set_index('trade_date',inplace=True)\n",
    "        stock.index=pd.to_datetime(stock.index)\n",
    "        stock=stock.rename(index={'trade_date':'date'},columns={'ts_code':'code'})  #index名字修改没成功\n",
    "        stock=stock.drop(columns=['pct_chg', 'pre_close','change','amount'])    #删除列，用del 方法没有成功\n",
    "        stock.index.set_names('date',inplace=True)   #重新修改index名字\n",
    "        return stock\n",
    "    datas=map(data,codes)\n",
    "    return pd.concat(datas,keys=codes,names=['codes','date'])"
   ]
  },
  {
   "cell_type": "code",
   "execution_count": 83,
   "metadata": {
    "execution": {
     "iopub.execute_input": "2020-06-09T10:01:00.307888Z",
     "iopub.status.busy": "2020-06-09T10:01:00.306892Z",
     "iopub.status.idle": "2020-06-09T10:01:01.884668Z",
     "shell.execute_reply": "2020-06-09T10:01:01.883711Z",
     "shell.execute_reply.started": "2020-06-09T10:01:00.307888Z"
    }
   },
   "outputs": [
    {
     "data": {
      "text/html": [
       "<div>\n",
       "<style scoped>\n",
       "    .dataframe tbody tr th:only-of-type {\n",
       "        vertical-align: middle;\n",
       "    }\n",
       "\n",
       "    .dataframe tbody tr th {\n",
       "        vertical-align: top;\n",
       "    }\n",
       "\n",
       "    .dataframe thead th {\n",
       "        text-align: right;\n",
       "    }\n",
       "</style>\n",
       "<table border=\"1\" class=\"dataframe\">\n",
       "  <thead>\n",
       "    <tr style=\"text-align: right;\">\n",
       "      <th></th>\n",
       "      <th></th>\n",
       "      <th>code</th>\n",
       "      <th>open</th>\n",
       "      <th>high</th>\n",
       "      <th>low</th>\n",
       "      <th>close</th>\n",
       "      <th>vol</th>\n",
       "    </tr>\n",
       "    <tr>\n",
       "      <th>codes</th>\n",
       "      <th>date</th>\n",
       "      <th></th>\n",
       "      <th></th>\n",
       "      <th></th>\n",
       "      <th></th>\n",
       "      <th></th>\n",
       "      <th></th>\n",
       "    </tr>\n",
       "  </thead>\n",
       "  <tbody>\n",
       "    <tr>\n",
       "      <th rowspan=\"5\" valign=\"top\">000001.SZ</th>\n",
       "      <th>2019-12-31</th>\n",
       "      <td>000001.SZ</td>\n",
       "      <td>16.57</td>\n",
       "      <td>16.63</td>\n",
       "      <td>16.31</td>\n",
       "      <td>16.45</td>\n",
       "      <td>704442.25</td>\n",
       "    </tr>\n",
       "    <tr>\n",
       "      <th>2019-12-30</th>\n",
       "      <td>000001.SZ</td>\n",
       "      <td>16.46</td>\n",
       "      <td>16.63</td>\n",
       "      <td>16.10</td>\n",
       "      <td>16.57</td>\n",
       "      <td>976970.31</td>\n",
       "    </tr>\n",
       "    <tr>\n",
       "      <th>2019-12-27</th>\n",
       "      <td>000001.SZ</td>\n",
       "      <td>16.53</td>\n",
       "      <td>16.93</td>\n",
       "      <td>16.43</td>\n",
       "      <td>16.63</td>\n",
       "      <td>1042574.72</td>\n",
       "    </tr>\n",
       "    <tr>\n",
       "      <th>2019-12-26</th>\n",
       "      <td>000001.SZ</td>\n",
       "      <td>16.34</td>\n",
       "      <td>16.48</td>\n",
       "      <td>16.32</td>\n",
       "      <td>16.47</td>\n",
       "      <td>372033.86</td>\n",
       "    </tr>\n",
       "    <tr>\n",
       "      <th>2019-12-25</th>\n",
       "      <td>000001.SZ</td>\n",
       "      <td>16.45</td>\n",
       "      <td>16.56</td>\n",
       "      <td>16.24</td>\n",
       "      <td>16.30</td>\n",
       "      <td>414917.98</td>\n",
       "    </tr>\n",
       "  </tbody>\n",
       "</table>\n",
       "</div>"
      ],
      "text/plain": [
       "                           code   open   high    low  close         vol\n",
       "codes     date                                                         \n",
       "000001.SZ 2019-12-31  000001.SZ  16.57  16.63  16.31  16.45   704442.25\n",
       "          2019-12-30  000001.SZ  16.46  16.63  16.10  16.57   976970.31\n",
       "          2019-12-27  000001.SZ  16.53  16.93  16.43  16.63  1042574.72\n",
       "          2019-12-26  000001.SZ  16.34  16.48  16.32  16.47   372033.86\n",
       "          2019-12-25  000001.SZ  16.45  16.56  16.24  16.30   414917.98"
      ]
     },
     "execution_count": 83,
     "metadata": {},
     "output_type": "execute_result"
    }
   ],
   "source": [
    "#三步合成一步\n",
    "codes=['000001.SZ', '000005.SZ','000008.SZ']\n",
    "data_1=multiple_stocks(codes)\n",
    "data_1.head()"
   ]
  },
  {
   "cell_type": "markdown",
   "metadata": {},
   "source": [
    "### 2. 金融数据可视化"
   ]
  },
  {
   "cell_type": "code",
   "execution_count": 84,
   "metadata": {
    "collapsed": false,
    "execution": {
     "iopub.execute_input": "2020-06-09T10:01:07.632804Z",
     "iopub.status.busy": "2020-06-09T10:01:07.631806Z",
     "iopub.status.idle": "2020-06-09T10:01:07.644827Z",
     "shell.execute_reply": "2020-06-09T10:01:07.644827Z",
     "shell.execute_reply.started": "2020-06-09T10:01:07.632804Z"
    },
    "jupyter": {
     "outputs_hidden": false
    }
   },
   "outputs": [
    {
     "data": {
      "text/html": [
       "<div>\n",
       "<style scoped>\n",
       "    .dataframe tbody tr th:only-of-type {\n",
       "        vertical-align: middle;\n",
       "    }\n",
       "\n",
       "    .dataframe tbody tr th {\n",
       "        vertical-align: top;\n",
       "    }\n",
       "\n",
       "    .dataframe thead th {\n",
       "        text-align: right;\n",
       "    }\n",
       "</style>\n",
       "<table border=\"1\" class=\"dataframe\">\n",
       "  <thead>\n",
       "    <tr style=\"text-align: right;\">\n",
       "      <th></th>\n",
       "      <th>codes</th>\n",
       "      <th>date</th>\n",
       "      <th>close</th>\n",
       "    </tr>\n",
       "  </thead>\n",
       "  <tbody>\n",
       "    <tr>\n",
       "      <th>0</th>\n",
       "      <td>000001.SZ</td>\n",
       "      <td>2019-12-31</td>\n",
       "      <td>16.45</td>\n",
       "    </tr>\n",
       "    <tr>\n",
       "      <th>1</th>\n",
       "      <td>000001.SZ</td>\n",
       "      <td>2019-12-30</td>\n",
       "      <td>16.57</td>\n",
       "    </tr>\n",
       "    <tr>\n",
       "      <th>2</th>\n",
       "      <td>000001.SZ</td>\n",
       "      <td>2019-12-27</td>\n",
       "      <td>16.63</td>\n",
       "    </tr>\n",
       "    <tr>\n",
       "      <th>3</th>\n",
       "      <td>000001.SZ</td>\n",
       "      <td>2019-12-26</td>\n",
       "      <td>16.47</td>\n",
       "    </tr>\n",
       "    <tr>\n",
       "      <th>4</th>\n",
       "      <td>000001.SZ</td>\n",
       "      <td>2019-12-25</td>\n",
       "      <td>16.30</td>\n",
       "    </tr>\n",
       "  </tbody>\n",
       "</table>\n",
       "</div>"
      ],
      "text/plain": [
       "       codes       date  close\n",
       "0  000001.SZ 2019-12-31  16.45\n",
       "1  000001.SZ 2019-12-30  16.57\n",
       "2  000001.SZ 2019-12-27  16.63\n",
       "3  000001.SZ 2019-12-26  16.47\n",
       "4  000001.SZ 2019-12-25  16.30"
      ]
     },
     "execution_count": 84,
     "metadata": {},
     "output_type": "execute_result"
    }
   ],
   "source": [
    "close_price = data_1[['close']].reset_index()      #重置索引，让索引重新回到默认的0开始；\n",
    "close_price.head()"
   ]
  },
  {
   "cell_type": "code",
   "execution_count": 86,
   "metadata": {
    "collapsed": false,
    "execution": {
     "iopub.execute_input": "2020-06-09T10:01:57.685317Z",
     "iopub.status.busy": "2020-06-09T10:01:57.684317Z",
     "iopub.status.idle": "2020-06-09T10:01:57.700350Z",
     "shell.execute_reply": "2020-06-09T10:01:57.699388Z",
     "shell.execute_reply.started": "2020-06-09T10:01:57.684317Z"
    },
    "jupyter": {
     "outputs_hidden": false
    }
   },
   "outputs": [
    {
     "data": {
      "text/html": [
       "<div>\n",
       "<style scoped>\n",
       "    .dataframe tbody tr th:only-of-type {\n",
       "        vertical-align: middle;\n",
       "    }\n",
       "\n",
       "    .dataframe tbody tr th {\n",
       "        vertical-align: top;\n",
       "    }\n",
       "\n",
       "    .dataframe thead th {\n",
       "        text-align: right;\n",
       "    }\n",
       "</style>\n",
       "<table border=\"1\" class=\"dataframe\">\n",
       "  <thead>\n",
       "    <tr style=\"text-align: right;\">\n",
       "      <th>codes</th>\n",
       "      <th>000001.SZ</th>\n",
       "      <th>000005.SZ</th>\n",
       "      <th>000008.SZ</th>\n",
       "    </tr>\n",
       "    <tr>\n",
       "      <th>date</th>\n",
       "      <th></th>\n",
       "      <th></th>\n",
       "      <th></th>\n",
       "    </tr>\n",
       "  </thead>\n",
       "  <tbody>\n",
       "    <tr>\n",
       "      <th>2018-01-02</th>\n",
       "      <td>13.3411</td>\n",
       "      <td>4.32</td>\n",
       "      <td>8.6597</td>\n",
       "    </tr>\n",
       "    <tr>\n",
       "      <th>2018-01-03</th>\n",
       "      <td>12.9808</td>\n",
       "      <td>4.27</td>\n",
       "      <td>8.6399</td>\n",
       "    </tr>\n",
       "    <tr>\n",
       "      <th>2018-01-04</th>\n",
       "      <td>12.9029</td>\n",
       "      <td>4.29</td>\n",
       "      <td>8.5708</td>\n",
       "    </tr>\n",
       "    <tr>\n",
       "      <th>2018-01-05</th>\n",
       "      <td>12.9516</td>\n",
       "      <td>4.34</td>\n",
       "      <td>8.4424</td>\n",
       "    </tr>\n",
       "    <tr>\n",
       "      <th>2018-01-08</th>\n",
       "      <td>12.6205</td>\n",
       "      <td>4.37</td>\n",
       "      <td>8.3634</td>\n",
       "    </tr>\n",
       "  </tbody>\n",
       "</table>\n",
       "</div>"
      ],
      "text/plain": [
       "codes       000001.SZ  000005.SZ  000008.SZ\n",
       "date                                       \n",
       "2018-01-02    13.3411       4.32     8.6597\n",
       "2018-01-03    12.9808       4.27     8.6399\n",
       "2018-01-04    12.9029       4.29     8.5708\n",
       "2018-01-05    12.9516       4.34     8.4424\n",
       "2018-01-08    12.6205       4.37     8.3634"
      ]
     },
     "execution_count": 86,
     "metadata": {},
     "output_type": "execute_result"
    }
   ],
   "source": [
    "# 把所有的股价信息显示在一张表格里；数据透视表；\n",
    "daily_close = close_price.pivot(index = 'date', \n",
    "                                columns = 'codes', \n",
    "                                values= 'close')\n",
    "daily_close.head()"
   ]
  },
  {
   "cell_type": "code",
   "execution_count": 88,
   "metadata": {
    "collapsed": false,
    "execution": {
     "iopub.execute_input": "2020-06-09T10:17:52.509065Z",
     "iopub.status.busy": "2020-06-09T10:17:52.509065Z",
     "iopub.status.idle": "2020-06-09T10:17:52.753959Z",
     "shell.execute_reply": "2020-06-09T10:17:52.753959Z",
     "shell.execute_reply.started": "2020-06-09T10:17:52.509065Z"
    },
    "jupyter": {
     "outputs_hidden": false
    }
   },
   "outputs": [
    {
     "data": {
      "text/plain": [
       "<matplotlib.axes._subplots.AxesSubplot at 0x1132c1d0>"
      ]
     },
     "execution_count": 88,
     "metadata": {},
     "output_type": "execute_result"
    },
    {
     "data": {
      "image/png": "[encoded data removed]",
      "text/plain": [
       "<Figure size 576x432 with 1 Axes>"
      ]
     },
     "metadata": {
      "needs_background": "light"
     },
     "output_type": "display_data"
    }
   ],
   "source": [
    "# plot 中信证券\n",
    "daily_close['000001.SZ'].plot(figsize=(8,6))"
   ]
  },
  {
   "cell_type": "code",
   "execution_count": 89,
   "metadata": {
    "collapsed": false,
    "execution": {
     "iopub.execute_input": "2020-06-09T10:18:06.833580Z",
     "iopub.status.busy": "2020-06-09T10:18:06.832583Z",
     "iopub.status.idle": "2020-06-09T10:18:07.810989Z",
     "shell.execute_reply": "2020-06-09T10:18:07.809992Z",
     "shell.execute_reply.started": "2020-06-09T10:18:06.833580Z"
    },
    "jupyter": {
     "outputs_hidden": false
    }
   },
   "outputs": [
    {
     "data": {
      "text/plain": [
       "array([<matplotlib.axes._subplots.AxesSubplot object at 0x113E7990>,\n",
       "       <matplotlib.axes._subplots.AxesSubplot object at 0x11520CD0>,\n",
       "       <matplotlib.axes._subplots.AxesSubplot object at 0x11590F90>],\n",
       "      dtype=object)"
      ]
     },
     "execution_count": 89,
     "metadata": {},
     "output_type": "execute_result"
    },
    {
     "data": {
      "image/png": "[encoded data removed]",
      "text/plain": [
       "<Figure size 720x576 with 3 Axes>"
      ]
     },
     "metadata": {
      "needs_background": "light"
     },
     "output_type": "display_data"
    }
   ],
   "source": [
    "# plot 三只股票的股价信息\n",
    "daily_close.plot(subplots= True, figsize=(10, 8))"
   ]
  },
  {
   "cell_type": "markdown",
   "metadata": {},
   "source": [
    "### 3. 金融计算"
   ]
  },
  {
   "cell_type": "markdown",
   "metadata": {},
   "source": [
    "#### 3.1 计算每日收益"
   ]
  },
  {
   "cell_type": "code",
   "execution_count": 92,
   "metadata": {
    "collapsed": false,
    "execution": {
     "iopub.execute_input": "2020-06-09T10:22:25.288750Z",
     "iopub.status.busy": "2020-06-09T10:22:25.288750Z",
     "iopub.status.idle": "2020-06-09T10:22:25.301712Z",
     "shell.execute_reply": "2020-06-09T10:22:25.301565Z",
     "shell.execute_reply.started": "2020-06-09T10:22:25.288750Z"
    },
    "jupyter": {
     "outputs_hidden": false
    }
   },
   "outputs": [
    {
     "data": {
      "text/html": [
       "<div>\n",
       "<style scoped>\n",
       "    .dataframe tbody tr th:only-of-type {\n",
       "        vertical-align: middle;\n",
       "    }\n",
       "\n",
       "    .dataframe tbody tr th {\n",
       "        vertical-align: top;\n",
       "    }\n",
       "\n",
       "    .dataframe thead th {\n",
       "        text-align: right;\n",
       "    }\n",
       "</style>\n",
       "<table border=\"1\" class=\"dataframe\">\n",
       "  <thead>\n",
       "    <tr style=\"text-align: right;\">\n",
       "      <th>codes</th>\n",
       "      <th>000001.SZ</th>\n",
       "      <th>000005.SZ</th>\n",
       "      <th>000008.SZ</th>\n",
       "      <th>yes_day</th>\n",
       "    </tr>\n",
       "    <tr>\n",
       "      <th>date</th>\n",
       "      <th></th>\n",
       "      <th></th>\n",
       "      <th></th>\n",
       "      <th></th>\n",
       "    </tr>\n",
       "  </thead>\n",
       "  <tbody>\n",
       "    <tr>\n",
       "      <th>2018-01-02</th>\n",
       "      <td>NaN</td>\n",
       "      <td>NaN</td>\n",
       "      <td>NaN</td>\n",
       "      <td>NaN</td>\n",
       "    </tr>\n",
       "    <tr>\n",
       "      <th>2018-01-03</th>\n",
       "      <td>-0.027007</td>\n",
       "      <td>-0.011574</td>\n",
       "      <td>-0.002286</td>\n",
       "      <td>NaN</td>\n",
       "    </tr>\n",
       "    <tr>\n",
       "      <th>2018-01-04</th>\n",
       "      <td>-0.006001</td>\n",
       "      <td>0.004684</td>\n",
       "      <td>-0.007998</td>\n",
       "      <td>-0.027007</td>\n",
       "    </tr>\n",
       "    <tr>\n",
       "      <th>2018-01-05</th>\n",
       "      <td>0.003774</td>\n",
       "      <td>0.011655</td>\n",
       "      <td>-0.014981</td>\n",
       "      <td>-0.006001</td>\n",
       "    </tr>\n",
       "    <tr>\n",
       "      <th>2018-01-08</th>\n",
       "      <td>-0.025564</td>\n",
       "      <td>0.006912</td>\n",
       "      <td>-0.009358</td>\n",
       "      <td>0.003774</td>\n",
       "    </tr>\n",
       "  </tbody>\n",
       "</table>\n",
       "</div>"
      ],
      "text/plain": [
       "codes       000001.SZ  000005.SZ  000008.SZ   yes_day\n",
       "date                                                 \n",
       "2018-01-02        NaN        NaN        NaN       NaN\n",
       "2018-01-03  -0.027007  -0.011574  -0.002286       NaN\n",
       "2018-01-04  -0.006001   0.004684  -0.007998 -0.027007\n",
       "2018-01-05   0.003774   0.011655  -0.014981 -0.006001\n",
       "2018-01-08  -0.025564   0.006912  -0.009358  0.003774"
      ]
     },
     "execution_count": 92,
     "metadata": {},
     "output_type": "execute_result"
    }
   ],
   "source": [
    "# 用shift方法；\n",
    "price_change = daily_close / daily_close.shift(1) - 1\n",
    "daily_close['yes_day'] = daily_close['000001.SZ'].shift(1)\n",
    "price_change.iloc[:,0:4].head()"
   ]
  },
  {
   "cell_type": "code",
   "execution_count": 93,
   "metadata": {
    "execution": {
     "iopub.execute_input": "2020-06-09T11:38:03.435832Z",
     "iopub.status.busy": "2020-06-09T11:38:03.432837Z",
     "iopub.status.idle": "2020-06-09T11:38:03.455780Z",
     "shell.execute_reply": "2020-06-09T11:38:03.454780Z",
     "shell.execute_reply.started": "2020-06-09T11:38:03.435832Z"
    }
   },
   "outputs": [],
   "source": [
    "del daily_close['yes_day'] "
   ]
  },
  {
   "cell_type": "code",
   "execution_count": 95,
   "metadata": {
    "collapsed": false,
    "execution": {
     "iopub.execute_input": "2020-06-09T11:48:06.298223Z",
     "iopub.status.busy": "2020-06-09T11:48:06.298223Z",
     "iopub.status.idle": "2020-06-09T11:48:06.313155Z",
     "shell.execute_reply": "2020-06-09T11:48:06.312180Z",
     "shell.execute_reply.started": "2020-06-09T11:48:06.298223Z"
    },
    "jupyter": {
     "outputs_hidden": false
    }
   },
   "outputs": [
    {
     "data": {
      "text/html": [
       "<div>\n",
       "<style scoped>\n",
       "    .dataframe tbody tr th:only-of-type {\n",
       "        vertical-align: middle;\n",
       "    }\n",
       "\n",
       "    .dataframe tbody tr th {\n",
       "        vertical-align: top;\n",
       "    }\n",
       "\n",
       "    .dataframe thead th {\n",
       "        text-align: right;\n",
       "    }\n",
       "</style>\n",
       "<table border=\"1\" class=\"dataframe\">\n",
       "  <thead>\n",
       "    <tr style=\"text-align: right;\">\n",
       "      <th>codes</th>\n",
       "      <th>000001.SZ</th>\n",
       "      <th>000005.SZ</th>\n",
       "    </tr>\n",
       "    <tr>\n",
       "      <th>date</th>\n",
       "      <th></th>\n",
       "      <th></th>\n",
       "    </tr>\n",
       "  </thead>\n",
       "  <tbody>\n",
       "    <tr>\n",
       "      <th>2018-01-02</th>\n",
       "      <td>NaN</td>\n",
       "      <td>NaN</td>\n",
       "    </tr>\n",
       "    <tr>\n",
       "      <th>2018-01-03</th>\n",
       "      <td>-0.027007</td>\n",
       "      <td>-0.011574</td>\n",
       "    </tr>\n",
       "    <tr>\n",
       "      <th>2018-01-04</th>\n",
       "      <td>-0.006001</td>\n",
       "      <td>0.004684</td>\n",
       "    </tr>\n",
       "    <tr>\n",
       "      <th>2018-01-05</th>\n",
       "      <td>0.003774</td>\n",
       "      <td>0.011655</td>\n",
       "    </tr>\n",
       "    <tr>\n",
       "      <th>2018-01-08</th>\n",
       "      <td>-0.025564</td>\n",
       "      <td>0.006912</td>\n",
       "    </tr>\n",
       "  </tbody>\n",
       "</table>\n",
       "</div>"
      ],
      "text/plain": [
       "codes       000001.SZ  000005.SZ\n",
       "date                            \n",
       "2018-01-02        NaN        NaN\n",
       "2018-01-03  -0.027007  -0.011574\n",
       "2018-01-04  -0.006001   0.004684\n",
       "2018-01-05   0.003774   0.011655\n",
       "2018-01-08  -0.025564   0.006912"
      ]
     },
     "execution_count": 95,
     "metadata": {},
     "output_type": "execute_result"
    }
   ],
   "source": [
    "#  用.pct_change() 方法\n",
    "price_change2 = daily_close.pct_change()\n",
    "price_change2.iloc[:,0:2].head()"
   ]
  },
  {
   "cell_type": "code",
   "execution_count": 97,
   "metadata": {
    "collapsed": false,
    "execution": {
     "iopub.execute_input": "2020-06-09T11:48:15.604940Z",
     "iopub.status.busy": "2020-06-09T11:48:15.604940Z",
     "iopub.status.idle": "2020-06-09T11:48:15.614884Z",
     "shell.execute_reply": "2020-06-09T11:48:15.614327Z",
     "shell.execute_reply.started": "2020-06-09T11:48:15.604940Z"
    },
    "jupyter": {
     "outputs_hidden": false
    }
   },
   "outputs": [
    {
     "data": {
      "text/html": [
       "<div>\n",
       "<style scoped>\n",
       "    .dataframe tbody tr th:only-of-type {\n",
       "        vertical-align: middle;\n",
       "    }\n",
       "\n",
       "    .dataframe tbody tr th {\n",
       "        vertical-align: top;\n",
       "    }\n",
       "\n",
       "    .dataframe thead th {\n",
       "        text-align: right;\n",
       "    }\n",
       "</style>\n",
       "<table border=\"1\" class=\"dataframe\">\n",
       "  <thead>\n",
       "    <tr style=\"text-align: right;\">\n",
       "      <th>codes</th>\n",
       "      <th>000001.SZ</th>\n",
       "      <th>000005.SZ</th>\n",
       "      <th>000008.SZ</th>\n",
       "    </tr>\n",
       "    <tr>\n",
       "      <th>date</th>\n",
       "      <th></th>\n",
       "      <th></th>\n",
       "      <th></th>\n",
       "    </tr>\n",
       "  </thead>\n",
       "  <tbody>\n",
       "    <tr>\n",
       "      <th>2018-01-02</th>\n",
       "      <td>0.000000</td>\n",
       "      <td>0.000000</td>\n",
       "      <td>0.000000</td>\n",
       "    </tr>\n",
       "    <tr>\n",
       "      <th>2018-01-03</th>\n",
       "      <td>-0.027007</td>\n",
       "      <td>-0.011574</td>\n",
       "      <td>-0.002286</td>\n",
       "    </tr>\n",
       "    <tr>\n",
       "      <th>2018-01-04</th>\n",
       "      <td>-0.006001</td>\n",
       "      <td>0.004684</td>\n",
       "      <td>-0.007998</td>\n",
       "    </tr>\n",
       "    <tr>\n",
       "      <th>2018-01-05</th>\n",
       "      <td>0.003774</td>\n",
       "      <td>0.011655</td>\n",
       "      <td>-0.014981</td>\n",
       "    </tr>\n",
       "    <tr>\n",
       "      <th>2018-01-08</th>\n",
       "      <td>-0.025564</td>\n",
       "      <td>0.006912</td>\n",
       "      <td>-0.009358</td>\n",
       "    </tr>\n",
       "  </tbody>\n",
       "</table>\n",
       "</div>"
      ],
      "text/plain": [
       "codes       000001.SZ  000005.SZ  000008.SZ\n",
       "date                                       \n",
       "2018-01-02   0.000000   0.000000   0.000000\n",
       "2018-01-03  -0.027007  -0.011574  -0.002286\n",
       "2018-01-04  -0.006001   0.004684  -0.007998\n",
       "2018-01-05   0.003774   0.011655  -0.014981\n",
       "2018-01-08  -0.025564   0.006912  -0.009358"
      ]
     },
     "execution_count": 97,
     "metadata": {},
     "output_type": "execute_result"
    }
   ],
   "source": [
    "# 将NaN值替换为0\n",
    "price_change2.fillna(0, inplace=True)\n",
    "price_change2.iloc[:5,:]"
   ]
  },
  {
   "cell_type": "markdown",
   "metadata": {},
   "source": [
    "#### 3.2 计算累积收益"
   ]
  },
  {
   "cell_type": "code",
   "execution_count": 98,
   "metadata": {
    "collapsed": false,
    "execution": {
     "iopub.execute_input": "2020-06-09T11:48:20.672505Z",
     "iopub.status.busy": "2020-06-09T11:48:20.671506Z",
     "iopub.status.idle": "2020-06-09T11:48:20.685975Z",
     "shell.execute_reply": "2020-06-09T11:48:20.685026Z",
     "shell.execute_reply.started": "2020-06-09T11:48:20.672505Z"
    },
    "jupyter": {
     "outputs_hidden": false
    }
   },
   "outputs": [
    {
     "data": {
      "text/html": [
       "<div>\n",
       "<style scoped>\n",
       "    .dataframe tbody tr th:only-of-type {\n",
       "        vertical-align: middle;\n",
       "    }\n",
       "\n",
       "    .dataframe tbody tr th {\n",
       "        vertical-align: top;\n",
       "    }\n",
       "\n",
       "    .dataframe thead th {\n",
       "        text-align: right;\n",
       "    }\n",
       "</style>\n",
       "<table border=\"1\" class=\"dataframe\">\n",
       "  <thead>\n",
       "    <tr style=\"text-align: right;\">\n",
       "      <th>codes</th>\n",
       "      <th>000001.SZ</th>\n",
       "      <th>000005.SZ</th>\n",
       "      <th>000008.SZ</th>\n",
       "    </tr>\n",
       "    <tr>\n",
       "      <th>date</th>\n",
       "      <th></th>\n",
       "      <th></th>\n",
       "      <th></th>\n",
       "    </tr>\n",
       "  </thead>\n",
       "  <tbody>\n",
       "    <tr>\n",
       "      <th>2018-01-02</th>\n",
       "      <td>1.000000</td>\n",
       "      <td>1.000000</td>\n",
       "      <td>1.000000</td>\n",
       "    </tr>\n",
       "    <tr>\n",
       "      <th>2018-01-03</th>\n",
       "      <td>0.972993</td>\n",
       "      <td>0.988426</td>\n",
       "      <td>0.997714</td>\n",
       "    </tr>\n",
       "    <tr>\n",
       "      <th>2018-01-04</th>\n",
       "      <td>0.967154</td>\n",
       "      <td>0.993056</td>\n",
       "      <td>0.989734</td>\n",
       "    </tr>\n",
       "    <tr>\n",
       "      <th>2018-01-05</th>\n",
       "      <td>0.970805</td>\n",
       "      <td>1.004630</td>\n",
       "      <td>0.974907</td>\n",
       "    </tr>\n",
       "    <tr>\n",
       "      <th>2018-01-08</th>\n",
       "      <td>0.945986</td>\n",
       "      <td>1.011574</td>\n",
       "      <td>0.965784</td>\n",
       "    </tr>\n",
       "  </tbody>\n",
       "</table>\n",
       "</div>"
      ],
      "text/plain": [
       "codes       000001.SZ  000005.SZ  000008.SZ\n",
       "date                                       \n",
       "2018-01-02   1.000000   1.000000   1.000000\n",
       "2018-01-03   0.972993   0.988426   0.997714\n",
       "2018-01-04   0.967154   0.993056   0.989734\n",
       "2018-01-05   0.970805   1.004630   0.974907\n",
       "2018-01-08   0.945986   1.011574   0.965784"
      ]
     },
     "execution_count": 98,
     "metadata": {},
     "output_type": "execute_result"
    }
   ],
   "source": [
    "cum_daily_return = (1 + price_change2).cumprod()\n",
    "cum_daily_return.head()"
   ]
  },
  {
   "cell_type": "code",
   "execution_count": 100,
   "metadata": {
    "collapsed": false,
    "execution": {
     "iopub.execute_input": "2020-06-09T11:48:57.982822Z",
     "iopub.status.busy": "2020-06-09T11:48:57.981795Z",
     "iopub.status.idle": "2020-06-09T11:48:58.220156Z",
     "shell.execute_reply": "2020-06-09T11:48:58.219199Z",
     "shell.execute_reply.started": "2020-06-09T11:48:57.982822Z"
    },
    "jupyter": {
     "outputs_hidden": false
    }
   },
   "outputs": [
    {
     "data": {
      "text/plain": [
       "<matplotlib.axes._subplots.AxesSubplot at 0x11189690>"
      ]
     },
     "execution_count": 100,
     "metadata": {},
     "output_type": "execute_result"
    },
    {
     "data": {
      "image/png": "[encoded data removed]",
      "text/plain": [
       "<Figure size 576x432 with 1 Axes>"
      ]
     },
     "metadata": {
      "needs_background": "light"
     },
     "output_type": "display_data"
    }
   ],
   "source": [
    "import seaborn as sns\n",
    "cum_daily_return.plot(figsize=(8,6))"
   ]
  },
  {
   "cell_type": "markdown",
   "metadata": {},
   "source": [
    "### 4. 分析return分布"
   ]
  },
  {
   "cell_type": "markdown",
   "metadata": {},
   "source": [
    "#### 4.1 直方图"
   ]
  },
  {
   "cell_type": "code",
   "execution_count": 25,
   "metadata": {
    "collapsed": false,
    "jupyter": {
     "outputs_hidden": false
    }
   },
   "outputs": [
    {
     "data": {
      "image/png": "[encoded data removed]",
      "text/plain": [
       "<matplotlib.figure.Figure at 0x1f55a5d1c50>"
      ]
     },
     "metadata": {},
     "output_type": "display_data"
    }
   ],
   "source": [
    "# 绘制频数分布直方图，分析中信证券的return分布；\n",
    "zxzq = price_change['600030']\n",
    "zxzq.hist(bins=30, figsize=(8,6));"
   ]
  },
  {
   "cell_type": "code",
   "execution_count": 27,
   "metadata": {
    "collapsed": false,
    "jupyter": {
     "outputs_hidden": false
    }
   },
   "outputs": [
    {
     "data": {
      "text/plain": [
       "count    362.000000\n",
       "mean       0.000169\n",
       "std        0.018050\n",
       "min       -0.092490\n",
       "2.5%      -0.035270\n",
       "50%        0.000000\n",
       "97.5%      0.032897\n",
       "max        0.100316\n",
       "Name: 600030, dtype: float64"
      ]
     },
     "execution_count": 27,
     "metadata": {},
     "output_type": "execute_result"
    }
   ],
   "source": [
    "zxzq.describe(percentiles=[0.025, 0.5, 0.975])"
   ]
  },
  {
   "cell_type": "code",
   "execution_count": 30,
   "metadata": {
    "collapsed": false,
    "jupyter": {
     "outputs_hidden": false
    }
   },
   "outputs": [
    {
     "data": {
      "image/png": "[encoded data removed]",
      "text/plain": [
       "<matplotlib.figure.Figure at 0x1f55a1f42e8>"
      ]
     },
     "metadata": {},
     "output_type": "display_data"
    }
   ],
   "source": [
    "# 画出所有股票的股价分布：\n",
    "_ = price_change.hist(bins=20, sharex=True, figsize=(12,8));"
   ]
  },
  {
   "cell_type": "markdown",
   "metadata": {},
   "source": [
    "#### 4.2 QQ-Plots"
   ]
  },
  {
   "cell_type": "code",
   "execution_count": 31,
   "metadata": {
    "collapsed": false,
    "jupyter": {
     "outputs_hidden": false
    }
   },
   "outputs": [
    {
     "data": {
      "image/png": "[encoded data removed]",
      "text/plain": [
       "<matplotlib.figure.Figure at 0x1f55a66dfd0>"
      ]
     },
     "metadata": {},
     "output_type": "display_data"
    }
   ],
   "source": [
    "# 使用QQ图来验证股价retun分布；\n",
    "import scipy.stats as stats\n",
    "fig = plt.figure(figsize=(7,5))\n",
    "ax = fig.add_subplot(111)\n",
    "stats.probplot(zxzq, dist='norm', plot=ax)   #stats.probplot()用来绘制QQ图；\n",
    "plt.show()"
   ]
  },
  {
   "cell_type": "code",
   "execution_count": 32,
   "metadata": {
    "collapsed": false,
    "jupyter": {
     "outputs_hidden": false
    }
   },
   "outputs": [
    {
     "data": {
      "image/png": "[encoded data removed]",
      "text/plain": [
       "<matplotlib.figure.Figure at 0x1f55a53a630>"
      ]
     },
     "metadata": {},
     "output_type": "display_data"
    }
   ],
   "source": [
    ">>> fig = plt.figure()\n",
    ">>> ax = fig.add_subplot(111)\n",
    ">>> x = stats.loggamma.rvs(c=2.5, size=500)\n",
    ">>> stats.probplot(x, dist=stats.loggamma, sparams=(2.5,), plot=ax)\n",
    ">>> ax.set_title(\"Probplot for loggamma dist with shape parameter 2.5\")\n",
    ">>> plt.show()"
   ]
  },
  {
   "cell_type": "markdown",
   "metadata": {},
   "source": [
    "### 5. 股价相关性"
   ]
  },
  {
   "cell_type": "code",
   "execution_count": 33,
   "metadata": {
    "collapsed": false,
    "jupyter": {
     "outputs_hidden": false
    }
   },
   "outputs": [
    {
     "data": {
      "text/plain": [
       "date\n",
       "2016-01-04    0.000000\n",
       "2016-01-05    0.002412\n",
       "2016-01-06    0.017544\n",
       "2016-01-07   -0.069334\n",
       "2016-01-08    0.020392\n",
       "Name: close, dtype: float64"
      ]
     },
     "execution_count": 33,
     "metadata": {},
     "output_type": "execute_result"
    }
   ],
   "source": [
    "# 计算沪深300指数收益\n",
    "hs300_return = hs300['close'].pct_change().fillna(0)\n",
    "hs300_return.head()"
   ]
  },
  {
   "cell_type": "code",
   "execution_count": 34,
   "metadata": {
    "collapsed": false,
    "jupyter": {
     "outputs_hidden": false
    }
   },
   "outputs": [
    {
     "data": {
      "text/html": [
       "<div>\n",
       "<style>\n",
       "    .dataframe thead tr:only-child th {\n",
       "        text-align: right;\n",
       "    }\n",
       "\n",
       "    .dataframe thead th {\n",
       "        text-align: left;\n",
       "    }\n",
       "\n",
       "    .dataframe tbody tr th {\n",
       "        vertical-align: top;\n",
       "    }\n",
       "</style>\n",
       "<table border=\"1\" class=\"dataframe\">\n",
       "  <thead>\n",
       "    <tr style=\"text-align: right;\">\n",
       "      <th>Ticker</th>\n",
       "      <th>000001</th>\n",
       "      <th>600030</th>\n",
       "      <th>600426</th>\n",
       "    </tr>\n",
       "    <tr>\n",
       "      <th>Date</th>\n",
       "      <th></th>\n",
       "      <th></th>\n",
       "      <th></th>\n",
       "    </tr>\n",
       "  </thead>\n",
       "  <tbody>\n",
       "    <tr>\n",
       "      <th>2016-01-04</th>\n",
       "      <td>0.000000</td>\n",
       "      <td>0.000000</td>\n",
       "      <td>0.000000</td>\n",
       "    </tr>\n",
       "    <tr>\n",
       "      <th>2016-01-05</th>\n",
       "      <td>0.008861</td>\n",
       "      <td>0.009679</td>\n",
       "      <td>0.004622</td>\n",
       "    </tr>\n",
       "    <tr>\n",
       "      <th>2016-01-06</th>\n",
       "      <td>0.011386</td>\n",
       "      <td>0.015898</td>\n",
       "      <td>0.032996</td>\n",
       "    </tr>\n",
       "    <tr>\n",
       "      <th>2016-01-07</th>\n",
       "      <td>-0.051142</td>\n",
       "      <td>-0.088677</td>\n",
       "      <td>-0.096462</td>\n",
       "    </tr>\n",
       "    <tr>\n",
       "      <th>2016-01-08</th>\n",
       "      <td>0.016384</td>\n",
       "      <td>0.029970</td>\n",
       "      <td>0.028732</td>\n",
       "    </tr>\n",
       "  </tbody>\n",
       "</table>\n",
       "</div>"
      ],
      "text/plain": [
       "Ticker        000001    600030    600426\n",
       "Date                                    \n",
       "2016-01-04  0.000000  0.000000  0.000000\n",
       "2016-01-05  0.008861  0.009679  0.004622\n",
       "2016-01-06  0.011386  0.015898  0.032996\n",
       "2016-01-07 -0.051142 -0.088677 -0.096462\n",
       "2016-01-08  0.016384  0.029970  0.028732"
      ]
     },
     "execution_count": 34,
     "metadata": {},
     "output_type": "execute_result"
    }
   ],
   "source": [
    "price_change2.head()"
   ]
  },
  {
   "cell_type": "code",
   "execution_count": 36,
   "metadata": {
    "collapsed": false,
    "jupyter": {
     "outputs_hidden": false
    }
   },
   "outputs": [
    {
     "data": {
      "text/html": [
       "<div>\n",
       "<style>\n",
       "    .dataframe thead tr:only-child th {\n",
       "        text-align: right;\n",
       "    }\n",
       "\n",
       "    .dataframe thead th {\n",
       "        text-align: left;\n",
       "    }\n",
       "\n",
       "    .dataframe tbody tr th {\n",
       "        vertical-align: top;\n",
       "    }\n",
       "</style>\n",
       "<table border=\"1\" class=\"dataframe\">\n",
       "  <thead>\n",
       "    <tr style=\"text-align: right;\">\n",
       "      <th></th>\n",
       "      <th>hs300</th>\n",
       "      <th>000001</th>\n",
       "      <th>600030</th>\n",
       "      <th>600426</th>\n",
       "    </tr>\n",
       "  </thead>\n",
       "  <tbody>\n",
       "    <tr>\n",
       "      <th>2016-01-04</th>\n",
       "      <td>0.000000</td>\n",
       "      <td>0.000000</td>\n",
       "      <td>0.000000</td>\n",
       "      <td>0.000000</td>\n",
       "    </tr>\n",
       "    <tr>\n",
       "      <th>2016-01-05</th>\n",
       "      <td>0.002412</td>\n",
       "      <td>0.008861</td>\n",
       "      <td>0.009679</td>\n",
       "      <td>0.004622</td>\n",
       "    </tr>\n",
       "    <tr>\n",
       "      <th>2016-01-06</th>\n",
       "      <td>0.017544</td>\n",
       "      <td>0.011386</td>\n",
       "      <td>0.015898</td>\n",
       "      <td>0.032996</td>\n",
       "    </tr>\n",
       "    <tr>\n",
       "      <th>2016-01-07</th>\n",
       "      <td>-0.069334</td>\n",
       "      <td>-0.051142</td>\n",
       "      <td>-0.088677</td>\n",
       "      <td>-0.096462</td>\n",
       "    </tr>\n",
       "    <tr>\n",
       "      <th>2016-01-08</th>\n",
       "      <td>0.020392</td>\n",
       "      <td>0.016384</td>\n",
       "      <td>0.029970</td>\n",
       "      <td>0.028732</td>\n",
       "    </tr>\n",
       "  </tbody>\n",
       "</table>\n",
       "</div>"
      ],
      "text/plain": [
       "               hs300    000001    600030    600426\n",
       "2016-01-04  0.000000  0.000000  0.000000  0.000000\n",
       "2016-01-05  0.002412  0.008861  0.009679  0.004622\n",
       "2016-01-06  0.017544  0.011386  0.015898  0.032996\n",
       "2016-01-07 -0.069334 -0.051142 -0.088677 -0.096462\n",
       "2016-01-08  0.020392  0.016384  0.029970  0.028732"
      ]
     },
     "execution_count": 36,
     "metadata": {},
     "output_type": "execute_result"
    }
   ],
   "source": [
    "# 把沪深300的收益拼接到前面得到的大表中\n",
    "return_all = pd.concat([hs300_return, price_change2], axis=1)\n",
    "return_all.rename(columns={'close': 'hs300'}, inplace=True)\n",
    "return_all.head()"
   ]
  },
  {
   "cell_type": "code",
   "execution_count": 37,
   "metadata": {
    "collapsed": false,
    "jupyter": {
     "outputs_hidden": false
    }
   },
   "outputs": [
    {
     "data": {
      "text/html": [
       "<div>\n",
       "<style>\n",
       "    .dataframe thead tr:only-child th {\n",
       "        text-align: right;\n",
       "    }\n",
       "\n",
       "    .dataframe thead th {\n",
       "        text-align: left;\n",
       "    }\n",
       "\n",
       "    .dataframe tbody tr th {\n",
       "        vertical-align: top;\n",
       "    }\n",
       "</style>\n",
       "<table border=\"1\" class=\"dataframe\">\n",
       "  <thead>\n",
       "    <tr style=\"text-align: right;\">\n",
       "      <th></th>\n",
       "      <th>hs300</th>\n",
       "      <th>000001</th>\n",
       "      <th>600030</th>\n",
       "      <th>600426</th>\n",
       "    </tr>\n",
       "  </thead>\n",
       "  <tbody>\n",
       "    <tr>\n",
       "      <th>2016-01-04</th>\n",
       "      <td>1.000000</td>\n",
       "      <td>1.000000</td>\n",
       "      <td>1.000000</td>\n",
       "      <td>1.000000</td>\n",
       "    </tr>\n",
       "    <tr>\n",
       "      <th>2016-01-05</th>\n",
       "      <td>1.002412</td>\n",
       "      <td>1.008861</td>\n",
       "      <td>1.009679</td>\n",
       "      <td>1.004622</td>\n",
       "    </tr>\n",
       "    <tr>\n",
       "      <th>2016-01-06</th>\n",
       "      <td>1.019998</td>\n",
       "      <td>1.020348</td>\n",
       "      <td>1.025730</td>\n",
       "      <td>1.037771</td>\n",
       "    </tr>\n",
       "    <tr>\n",
       "      <th>2016-01-07</th>\n",
       "      <td>0.949277</td>\n",
       "      <td>0.968165</td>\n",
       "      <td>0.934772</td>\n",
       "      <td>0.937665</td>\n",
       "    </tr>\n",
       "    <tr>\n",
       "      <th>2016-01-08</th>\n",
       "      <td>0.968635</td>\n",
       "      <td>0.984028</td>\n",
       "      <td>0.962787</td>\n",
       "      <td>0.964606</td>\n",
       "    </tr>\n",
       "  </tbody>\n",
       "</table>\n",
       "</div>"
      ],
      "text/plain": [
       "               hs300    000001    600030    600426\n",
       "2016-01-04  1.000000  1.000000  1.000000  1.000000\n",
       "2016-01-05  1.002412  1.008861  1.009679  1.004622\n",
       "2016-01-06  1.019998  1.020348  1.025730  1.037771\n",
       "2016-01-07  0.949277  0.968165  0.934772  0.937665\n",
       "2016-01-08  0.968635  0.984028  0.962787  0.964606"
      ]
     },
     "execution_count": 37,
     "metadata": {},
     "output_type": "execute_result"
    }
   ],
   "source": [
    "# 计算累积收益\n",
    "cumreturn_all = (1 + return_all).cumprod()\n",
    "cumreturn_all.head()"
   ]
  },
  {
   "cell_type": "code",
   "execution_count": 38,
   "metadata": {
    "collapsed": false,
    "jupyter": {
     "outputs_hidden": false
    }
   },
   "outputs": [
    {
     "data": {
      "image/png": "[encoded data removed]",
      "text/plain": [
       "<matplotlib.figure.Figure at 0x1f55a4b34a8>"
      ]
     },
     "metadata": {},
     "output_type": "display_data"
    }
   ],
   "source": [
    "# 累积收益作图\n",
    "cumreturn_all[['hs300', '600030', '600426']].plot(figsize=(8,6));"
   ]
  },
  {
   "cell_type": "code",
   "execution_count": 39,
   "metadata": {
    "collapsed": false,
    "jupyter": {
     "outputs_hidden": false
    }
   },
   "outputs": [
    {
     "data": {
      "text/html": [
       "<div>\n",
       "<style>\n",
       "    .dataframe thead tr:only-child th {\n",
       "        text-align: right;\n",
       "    }\n",
       "\n",
       "    .dataframe thead th {\n",
       "        text-align: left;\n",
       "    }\n",
       "\n",
       "    .dataframe tbody tr th {\n",
       "        vertical-align: top;\n",
       "    }\n",
       "</style>\n",
       "<table border=\"1\" class=\"dataframe\">\n",
       "  <thead>\n",
       "    <tr style=\"text-align: right;\">\n",
       "      <th></th>\n",
       "      <th>hs300</th>\n",
       "      <th>000001</th>\n",
       "      <th>600030</th>\n",
       "      <th>600426</th>\n",
       "    </tr>\n",
       "  </thead>\n",
       "  <tbody>\n",
       "    <tr>\n",
       "      <th>hs300</th>\n",
       "      <td>1.000000</td>\n",
       "      <td>0.863691</td>\n",
       "      <td>0.879145</td>\n",
       "      <td>0.729017</td>\n",
       "    </tr>\n",
       "    <tr>\n",
       "      <th>000001</th>\n",
       "      <td>0.863691</td>\n",
       "      <td>1.000000</td>\n",
       "      <td>0.780365</td>\n",
       "      <td>0.611967</td>\n",
       "    </tr>\n",
       "    <tr>\n",
       "      <th>600030</th>\n",
       "      <td>0.879145</td>\n",
       "      <td>0.780365</td>\n",
       "      <td>1.000000</td>\n",
       "      <td>0.619960</td>\n",
       "    </tr>\n",
       "    <tr>\n",
       "      <th>600426</th>\n",
       "      <td>0.729017</td>\n",
       "      <td>0.611967</td>\n",
       "      <td>0.619960</td>\n",
       "      <td>1.000000</td>\n",
       "    </tr>\n",
       "  </tbody>\n",
       "</table>\n",
       "</div>"
      ],
      "text/plain": [
       "           hs300    000001    600030    600426\n",
       "hs300   1.000000  0.863691  0.879145  0.729017\n",
       "000001  0.863691  1.000000  0.780365  0.611967\n",
       "600030  0.879145  0.780365  1.000000  0.619960\n",
       "600426  0.729017  0.611967  0.619960  1.000000"
      ]
     },
     "execution_count": 39,
     "metadata": {},
     "output_type": "execute_result"
    }
   ],
   "source": [
    "# 计算相关性\n",
    "corrs = return_all.corr()\n",
    "corrs"
   ]
  },
  {
   "cell_type": "code",
   "execution_count": 42,
   "metadata": {
    "collapsed": false,
    "jupyter": {
     "outputs_hidden": false
    }
   },
   "outputs": [
    {
     "data": {
      "text/plain": [
       "hs300     1.000000\n",
       "000001    0.863691\n",
       "600030    0.879145\n",
       "600426    0.729017\n",
       "Name: hs300, dtype: float64"
      ]
     },
     "execution_count": 42,
     "metadata": {},
     "output_type": "execute_result"
    }
   ],
   "source": [
    "corrs.ix['hs300']"
   ]
  },
  {
   "cell_type": "code",
   "execution_count": 45,
   "metadata": {
    "collapsed": false,
    "jupyter": {
     "outputs_hidden": false
    }
   },
   "outputs": [
    {
     "data": {
      "text/plain": [
       "<matplotlib.axes._subplots.AxesSubplot at 0x1f55a43d6a0>"
      ]
     },
     "execution_count": 45,
     "metadata": {},
     "output_type": "execute_result"
    },
    {
     "data": {
      "image/png": "[encoded data removed]",
      "text/plain": [
       "<matplotlib.figure.Figure at 0x1f559eddef0>"
      ]
     },
     "metadata": {},
     "output_type": "display_data"
    }
   ],
   "source": [
    "import seaborn\n",
    "fig = plt.figure(figsize=(8,6))\n",
    "seaborn.heatmap(corrs)"
   ]
  },
  {
   "cell_type": "code",
   "execution_count": 49,
   "metadata": {
    "collapsed": false,
    "jupyter": {
     "outputs_hidden": false
    }
   },
   "outputs": [
    {
     "data": {
      "text/plain": [
       "<matplotlib.text.Text at 0x1f55a2c1400>"
      ]
     },
     "execution_count": 49,
     "metadata": {},
     "output_type": "execute_result"
    },
    {
     "data": {
      "image/png": "[encoded data removed]",
      "text/plain": [
       "<matplotlib.figure.Figure at 0x1f55a499358>"
      ]
     },
     "metadata": {},
     "output_type": "display_data"
    }
   ],
   "source": [
    "plt.figure(figsize =(8,6))\n",
    "plt.title('Stock Correlation')\n",
    "plt.plot(daily_close['600030'], daily_close['000001'], '.')\n",
    "plt.xlabel('600030')\n",
    "plt.ylabel('000001')"
   ]
  },
  {
   "cell_type": "markdown",
   "metadata": {},
   "source": [
    "声明：本资料仅供内部学习交流使用，切勿外传。"
   ]
  }
 ],
 "metadata": {
  "kernelspec": {
   "display_name": "Python 3",
   "language": "python",
   "name": "python3"
  },
  "language_info": {
   "codemirror_mode": {
    "name": "ipython",
    "version": 3
   },
   "file_extension": ".py",
   "mimetype": "text/x-python",
   "name": "python",
   "nbconvert_exporter": "python",
   "pygments_lexer": "ipython3",
   "version": "3.7.7"
  }
 },
 "nbformat": 4,
 "nbformat_minor": 4
}
