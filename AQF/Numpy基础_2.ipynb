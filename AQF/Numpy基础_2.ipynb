{
 "cells": [
  {
   "cell_type": "code",
   "execution_count": 1,
   "metadata": {
    "execution": {
     "iopub.execute_input": "2020-05-10T11:07:07.360425Z",
     "iopub.status.busy": "2020-05-10T11:07:07.359429Z",
     "iopub.status.idle": "2020-05-10T11:07:08.140522Z",
     "shell.execute_reply": "2020-05-10T11:07:08.140522Z",
     "shell.execute_reply.started": "2020-05-10T11:07:07.360425Z"
    }
   },
   "outputs": [],
   "source": [
    "import numpy as np\n",
    "import pandas as pd"
   ]
  },
  {
   "cell_type": "markdown",
   "metadata": {},
   "source": [
    "## array构造"
   ]
  },
  {
   "cell_type": "code",
   "execution_count": 6,
   "metadata": {
    "execution": {
     "iopub.execute_input": "2020-05-10T15:24:09.081896Z",
     "iopub.status.busy": "2020-05-10T15:24:09.080899Z",
     "iopub.status.idle": "2020-05-10T15:24:09.086881Z",
     "shell.execute_reply": "2020-05-10T15:24:09.086881Z",
     "shell.execute_reply.started": "2020-05-10T15:24:09.081896Z"
    }
   },
   "outputs": [
    {
     "data": {
      "text/plain": [
       "array([[[0, 0, 0],\n",
       "        [0, 0, 0],\n",
       "        [0, 0, 0],\n",
       "        [0, 0, 0]],\n",
       "\n",
       "       [[0, 0, 0],\n",
       "        [0, 0, 0],\n",
       "        [0, 0, 0],\n",
       "        [0, 0, 0]]], dtype=int32)"
      ]
     },
     "execution_count": 6,
     "metadata": {},
     "output_type": "execute_result"
    }
   ],
   "source": [
    "a_1=np.zeros((2,4,3),dtype='i')\n",
    "a_1"
   ]
  },
  {
   "cell_type": "code",
   "execution_count": 2,
   "metadata": {
    "execution": {
     "iopub.execute_input": "2020-05-10T11:08:28.617036Z",
     "iopub.status.busy": "2020-05-10T11:08:28.617036Z",
     "iopub.status.idle": "2020-05-10T11:08:28.636983Z",
     "shell.execute_reply": "2020-05-10T11:08:28.635985Z",
     "shell.execute_reply.started": "2020-05-10T11:08:28.617036Z"
    }
   },
   "outputs": [
    {
     "data": {
      "text/plain": [
       "array([[0, 0, 0],\n",
       "       [0, 0, 0],\n",
       "       [0, 0, 0],\n",
       "       [0, 0, 0]], dtype=int32)"
      ]
     },
     "execution_count": 2,
     "metadata": {},
     "output_type": "execute_result"
    }
   ],
   "source": [
    "a=np.zeros((4,3),dtype='i')\n",
    "a"
   ]
  },
  {
   "cell_type": "code",
   "execution_count": 4,
   "metadata": {
    "execution": {
     "iopub.execute_input": "2020-05-10T11:09:05.092153Z",
     "iopub.status.busy": "2020-05-10T11:09:05.092153Z",
     "iopub.status.idle": "2020-05-10T11:09:05.098136Z",
     "shell.execute_reply": "2020-05-10T11:09:05.098136Z",
     "shell.execute_reply.started": "2020-05-10T11:09:05.092153Z"
    }
   },
   "outputs": [
    {
     "data": {
      "text/plain": [
       "array([[1., 1., 1.],\n",
       "       [1., 1., 1.]])"
      ]
     },
     "execution_count": 4,
     "metadata": {},
     "output_type": "execute_result"
    }
   ],
   "source": [
    "b=np.ones((2,3))\n",
    "b"
   ]
  },
  {
   "cell_type": "code",
   "execution_count": 7,
   "metadata": {
    "execution": {
     "iopub.execute_input": "2020-05-10T15:25:16.355195Z",
     "iopub.status.busy": "2020-05-10T15:25:16.355195Z",
     "iopub.status.idle": "2020-05-10T15:25:16.361141Z",
     "shell.execute_reply": "2020-05-10T15:25:16.360146Z",
     "shell.execute_reply.started": "2020-05-10T15:25:16.355195Z"
    }
   },
   "outputs": [
    {
     "data": {
      "text/plain": [
       "array([[1., 1., 1.],\n",
       "       [1., 1., 1.],\n",
       "       [1., 1., 1.],\n",
       "       [1., 1., 1.]], dtype=float32)"
      ]
     },
     "execution_count": 7,
     "metadata": {},
     "output_type": "execute_result"
    }
   ],
   "source": [
    "c=np.ones_like(a,dtype='f',order='a')  #also:np.zeros_like()跟a的结构一样的全是1的组合\n",
    "c"
   ]
  },
  {
   "cell_type": "code",
   "execution_count": 8,
   "metadata": {
    "execution": {
     "iopub.execute_input": "2020-05-10T15:25:56.339419Z",
     "iopub.status.busy": "2020-05-10T15:25:56.338422Z",
     "iopub.status.idle": "2020-05-10T15:25:56.345403Z",
     "shell.execute_reply": "2020-05-10T15:25:56.345403Z",
     "shell.execute_reply.started": "2020-05-10T15:25:56.339419Z"
    }
   },
   "outputs": [
    {
     "data": {
      "text/plain": [
       "array([[ 6.23042070e-307,  1.89146896e-307,  1.37961302e-306,\n",
       "         6.23053614e-307],\n",
       "       [-1.21609061e-310,  9.34609790e-307,  8.45593934e-307,\n",
       "         9.34600963e-307],\n",
       "       [ 1.86921143e-306,  6.23061763e-307,  9.34608432e-307,\n",
       "         1.29062229e-306]])"
      ]
     },
     "execution_count": 8,
     "metadata": {},
     "output_type": "execute_result"
    }
   ],
   "source": [
    "e=np.empty((3,4))\n",
    "e"
   ]
  },
  {
   "cell_type": "code",
   "execution_count": 9,
   "metadata": {
    "execution": {
     "iopub.execute_input": "2020-05-10T15:30:25.649553Z",
     "iopub.status.busy": "2020-05-10T15:30:25.649553Z",
     "iopub.status.idle": "2020-05-10T15:30:25.657568Z",
     "shell.execute_reply": "2020-05-10T15:30:25.657568Z",
     "shell.execute_reply.started": "2020-05-10T15:30:25.649553Z"
    }
   },
   "outputs": [
    {
     "data": {
      "text/plain": [
       "array([ 5.        ,  5.71428571,  6.42857143,  7.14285714,  7.85714286,\n",
       "        8.57142857,  9.28571429, 10.        , 10.71428571, 11.42857143,\n",
       "       12.14285714, 12.85714286, 13.57142857, 14.28571429, 15.        ])"
      ]
     },
     "execution_count": 9,
     "metadata": {},
     "output_type": "execute_result"
    }
   ],
   "source": [
    "g=np.linspace(5,15,15)  #5-15等距离分15份，非常重要\n",
    "g"
   ]
  },
  {
   "cell_type": "code",
   "execution_count": 10,
   "metadata": {
    "execution": {
     "iopub.execute_input": "2020-05-10T15:31:53.008166Z",
     "iopub.status.busy": "2020-05-10T15:31:53.007171Z",
     "iopub.status.idle": "2020-05-10T15:31:53.012221Z",
     "shell.execute_reply": "2020-05-10T15:31:53.012221Z",
     "shell.execute_reply.started": "2020-05-10T15:31:53.008166Z"
    }
   },
   "outputs": [
    {
     "data": {
      "text/plain": [
       "array([0, 1, 2, 3, 4, 5, 6, 7, 8, 9])"
      ]
     },
     "execution_count": 10,
     "metadata": {},
     "output_type": "execute_result"
    }
   ],
   "source": [
    "#类似于python里面的range\n",
    "np.arange(0,10,1)"
   ]
  },
  {
   "cell_type": "code",
   "execution_count": 11,
   "metadata": {
    "execution": {
     "iopub.execute_input": "2020-05-10T15:32:13.431015Z",
     "iopub.status.busy": "2020-05-10T15:32:13.431015Z",
     "iopub.status.idle": "2020-05-10T15:32:13.445147Z",
     "shell.execute_reply": "2020-05-10T15:32:13.444149Z",
     "shell.execute_reply.started": "2020-05-10T15:32:13.431015Z"
    }
   },
   "outputs": [
    {
     "data": {
      "text/plain": [
       "numpy.ndarray"
      ]
     },
     "execution_count": 11,
     "metadata": {},
     "output_type": "execute_result"
    }
   ],
   "source": [
    "type(np.arange(0,10,1))"
   ]
  },
  {
   "cell_type": "markdown",
   "metadata": {},
   "source": [
    "## Reshaping,Resizing,Stacking,Flattening"
   ]
  },
  {
   "cell_type": "code",
   "execution_count": 13,
   "metadata": {
    "execution": {
     "iopub.execute_input": "2020-05-10T15:37:07.515673Z",
     "iopub.status.busy": "2020-05-10T15:37:07.515673Z",
     "iopub.status.idle": "2020-05-10T15:37:07.522653Z",
     "shell.execute_reply": "2020-05-10T15:37:07.521658Z",
     "shell.execute_reply.started": "2020-05-10T15:37:07.515673Z"
    }
   },
   "outputs": [
    {
     "data": {
      "text/plain": [
       "array([ 1.,  2.,  3.,  4.,  5.,  6.,  7.,  8.,  9., 10., 11., 12., 13.,\n",
       "       14., 15.])"
      ]
     },
     "execution_count": 13,
     "metadata": {},
     "output_type": "execute_result"
    }
   ],
   "source": [
    "g=np.linspace(1,15,15)\n",
    "g"
   ]
  },
  {
   "cell_type": "code",
   "execution_count": 15,
   "metadata": {
    "execution": {
     "iopub.execute_input": "2020-05-10T15:37:22.677791Z",
     "iopub.status.busy": "2020-05-10T15:37:22.677791Z",
     "iopub.status.idle": "2020-05-10T15:37:22.684737Z",
     "shell.execute_reply": "2020-05-10T15:37:22.683773Z",
     "shell.execute_reply.started": "2020-05-10T15:37:22.677791Z"
    }
   },
   "outputs": [
    {
     "data": {
      "text/plain": [
       "(15,)"
      ]
     },
     "execution_count": 15,
     "metadata": {},
     "output_type": "execute_result"
    }
   ],
   "source": [
    "g.shape      #=np.shape(g)"
   ]
  },
  {
   "cell_type": "code",
   "execution_count": 18,
   "metadata": {
    "execution": {
     "iopub.execute_input": "2020-05-10T15:39:15.978885Z",
     "iopub.status.busy": "2020-05-10T15:39:15.977886Z",
     "iopub.status.idle": "2020-05-10T15:39:15.982942Z",
     "shell.execute_reply": "2020-05-10T15:39:15.982942Z",
     "shell.execute_reply.started": "2020-05-10T15:39:15.978885Z"
    }
   },
   "outputs": [
    {
     "data": {
      "text/plain": [
       "array([[ 1.,  2.,  3.,  4.,  5.],\n",
       "       [ 6.,  7.,  8.,  9., 10.],\n",
       "       [11., 12., 13., 14., 15.]])"
      ]
     },
     "execution_count": 18,
     "metadata": {},
     "output_type": "execute_result"
    }
   ],
   "source": [
    "g.reshape((3,5))"
   ]
  },
  {
   "cell_type": "code",
   "execution_count": 21,
   "metadata": {
    "execution": {
     "iopub.execute_input": "2020-05-10T15:41:09.191263Z",
     "iopub.status.busy": "2020-05-10T15:41:09.191263Z",
     "iopub.status.idle": "2020-05-10T15:41:09.207888Z",
     "shell.execute_reply": "2020-05-10T15:41:09.206891Z",
     "shell.execute_reply.started": "2020-05-10T15:41:09.191263Z"
    }
   },
   "outputs": [
    {
     "data": {
      "text/plain": [
       "array([[0, 1],\n",
       "       [2, 3],\n",
       "       [4, 5],\n",
       "       [6, 7],\n",
       "       [8, 9]])"
      ]
     },
     "execution_count": 21,
     "metadata": {},
     "output_type": "execute_result"
    }
   ],
   "source": [
    "np.arange(0,10,1).reshape((5,2))"
   ]
  },
  {
   "cell_type": "code",
   "execution_count": 22,
   "metadata": {
    "execution": {
     "iopub.execute_input": "2020-05-10T15:56:30.990475Z",
     "iopub.status.busy": "2020-05-10T15:56:30.990475Z",
     "iopub.status.idle": "2020-05-10T15:56:30.998454Z",
     "shell.execute_reply": "2020-05-10T15:56:30.997457Z",
     "shell.execute_reply.started": "2020-05-10T15:56:30.990475Z"
    }
   },
   "outputs": [
    {
     "data": {
      "text/plain": [
       "array([[1.],\n",
       "       [2.],\n",
       "       [3.]])"
      ]
     },
     "execution_count": 22,
     "metadata": {},
     "output_type": "execute_result"
    }
   ],
   "source": [
    "np.resize(g,(3,1))   #downsizing"
   ]
  },
  {
   "cell_type": "code",
   "execution_count": 23,
   "metadata": {
    "execution": {
     "iopub.execute_input": "2020-05-10T15:57:52.850207Z",
     "iopub.status.busy": "2020-05-10T15:57:52.850207Z",
     "iopub.status.idle": "2020-05-10T15:57:52.856191Z",
     "shell.execute_reply": "2020-05-10T15:57:52.856191Z",
     "shell.execute_reply.started": "2020-05-10T15:57:52.850207Z"
    }
   },
   "outputs": [
    {
     "data": {
      "text/plain": [
       "array([[ 1.,  2.,  3.,  4.],\n",
       "       [ 5.,  6.,  7.,  8.],\n",
       "       [ 9., 10., 11., 12.],\n",
       "       [13., 14., 15.,  1.],\n",
       "       [ 2.,  3.,  4.,  5.]])"
      ]
     },
     "execution_count": 23,
     "metadata": {},
     "output_type": "execute_result"
    }
   ],
   "source": [
    "np.resize(g,(5,4))  #enlarging"
   ]
  },
  {
   "cell_type": "code",
   "execution_count": 28,
   "metadata": {
    "execution": {
     "iopub.execute_input": "2020-05-10T15:59:40.992466Z",
     "iopub.status.busy": "2020-05-10T15:59:40.992466Z",
     "iopub.status.idle": "2020-05-10T15:59:40.999447Z",
     "shell.execute_reply": "2020-05-10T15:59:40.998449Z",
     "shell.execute_reply.started": "2020-05-10T15:59:40.992466Z"
    }
   },
   "outputs": [
    {
     "data": {
      "text/plain": [
       "array([[ 0,  1,  2,  3,  4],\n",
       "       [ 5,  6,  7,  8,  9],\n",
       "       [10, 11, 12, 13, 14],\n",
       "       [15, 16, 17, 18, 19]])"
      ]
     },
     "execution_count": 28,
     "metadata": {},
     "output_type": "execute_result"
    }
   ],
   "source": [
    "h=np.arange(0,20,1).reshape(4,5)\n",
    "h"
   ]
  },
  {
   "cell_type": "code",
   "execution_count": 29,
   "metadata": {
    "execution": {
     "iopub.execute_input": "2020-05-10T15:59:48.407447Z",
     "iopub.status.busy": "2020-05-10T15:59:48.406450Z",
     "iopub.status.idle": "2020-05-10T15:59:48.412470Z",
     "shell.execute_reply": "2020-05-10T15:59:48.412470Z",
     "shell.execute_reply.started": "2020-05-10T15:59:48.407447Z"
    }
   },
   "outputs": [
    {
     "data": {
      "text/plain": [
       "array([[ 0,  5, 10, 15],\n",
       "       [ 1,  6, 11, 16],\n",
       "       [ 2,  7, 12, 17],\n",
       "       [ 3,  8, 13, 18],\n",
       "       [ 4,  9, 14, 19]])"
      ]
     },
     "execution_count": 29,
     "metadata": {},
     "output_type": "execute_result"
    }
   ],
   "source": [
    "h.T  #转置"
   ]
  },
  {
   "cell_type": "code",
   "execution_count": 30,
   "metadata": {
    "execution": {
     "iopub.execute_input": "2020-05-10T16:00:27.722423Z",
     "iopub.status.busy": "2020-05-10T16:00:27.721554Z",
     "iopub.status.idle": "2020-05-10T16:00:27.728408Z",
     "shell.execute_reply": "2020-05-10T16:00:27.727412Z",
     "shell.execute_reply.started": "2020-05-10T16:00:27.722423Z"
    }
   },
   "outputs": [
    {
     "data": {
      "text/plain": [
       "array([[ 0,  5, 10, 15],\n",
       "       [ 1,  6, 11, 16],\n",
       "       [ 2,  7, 12, 17],\n",
       "       [ 3,  8, 13, 18],\n",
       "       [ 4,  9, 14, 19]])"
      ]
     },
     "execution_count": 30,
     "metadata": {},
     "output_type": "execute_result"
    }
   ],
   "source": [
    "h.transpose()  #也是转置"
   ]
  },
  {
   "cell_type": "code",
   "execution_count": 33,
   "metadata": {
    "execution": {
     "iopub.execute_input": "2020-05-10T16:03:42.624545Z",
     "iopub.status.busy": "2020-05-10T16:03:42.623512Z",
     "iopub.status.idle": "2020-05-10T16:03:42.629532Z",
     "shell.execute_reply": "2020-05-10T16:03:42.629532Z",
     "shell.execute_reply.started": "2020-05-10T16:03:42.624545Z"
    }
   },
   "outputs": [
    {
     "data": {
      "text/plain": [
       "array([[ 0,  1,  2,  3,  4,  0,  2,  4,  6,  8],\n",
       "       [ 5,  6,  7,  8,  9, 10, 12, 14, 16, 18],\n",
       "       [10, 11, 12, 13, 14, 20, 22, 24, 26, 28],\n",
       "       [15, 16, 17, 18, 19, 30, 32, 34, 36, 38]])"
      ]
     },
     "execution_count": 33,
     "metadata": {},
     "output_type": "execute_result"
    }
   ],
   "source": [
    "np.hstack((h,h*2))    #horizontal stacking"
   ]
  },
  {
   "cell_type": "code",
   "execution_count": 34,
   "metadata": {
    "execution": {
     "iopub.execute_input": "2020-05-10T16:04:23.238929Z",
     "iopub.status.busy": "2020-05-10T16:04:23.237931Z",
     "iopub.status.idle": "2020-05-10T16:04:23.245912Z",
     "shell.execute_reply": "2020-05-10T16:04:23.244950Z",
     "shell.execute_reply.started": "2020-05-10T16:04:23.237931Z"
    }
   },
   "outputs": [
    {
     "data": {
      "text/plain": [
       "array([[ 0,  1,  2,  3,  4],\n",
       "       [ 5,  6,  7,  8,  9],\n",
       "       [10, 11, 12, 13, 14],\n",
       "       [15, 16, 17, 18, 19],\n",
       "       [ 0,  2,  4,  6,  8],\n",
       "       [10, 12, 14, 16, 18],\n",
       "       [20, 22, 24, 26, 28],\n",
       "       [30, 32, 34, 36, 38]])"
      ]
     },
     "execution_count": 34,
     "metadata": {},
     "output_type": "execute_result"
    }
   ],
   "source": [
    "np.vstack((h,h*2))    #vertical stacking"
   ]
  },
  {
   "cell_type": "code",
   "execution_count": 35,
   "metadata": {
    "execution": {
     "iopub.execute_input": "2020-05-10T16:05:01.847306Z",
     "iopub.status.busy": "2020-05-10T16:05:01.847306Z",
     "iopub.status.idle": "2020-05-10T16:05:01.853317Z",
     "shell.execute_reply": "2020-05-10T16:05:01.853317Z",
     "shell.execute_reply.started": "2020-05-10T16:05:01.847306Z"
    }
   },
   "outputs": [
    {
     "data": {
      "text/plain": [
       "array([[ 0,  1,  2,  3,  4],\n",
       "       [ 5,  6,  7,  8,  9],\n",
       "       [10, 11, 12, 13, 14],\n",
       "       [15, 16, 17, 18, 19]])"
      ]
     },
     "execution_count": 35,
     "metadata": {},
     "output_type": "execute_result"
    }
   ],
   "source": [
    "h"
   ]
  },
  {
   "cell_type": "code",
   "execution_count": 36,
   "metadata": {
    "execution": {
     "iopub.execute_input": "2020-05-10T16:05:42.623223Z",
     "iopub.status.busy": "2020-05-10T16:05:42.623223Z",
     "iopub.status.idle": "2020-05-10T16:05:42.628237Z",
     "shell.execute_reply": "2020-05-10T16:05:42.628237Z",
     "shell.execute_reply.started": "2020-05-10T16:05:42.623223Z"
    }
   },
   "outputs": [
    {
     "data": {
      "text/plain": [
       "array([ 0,  1,  2,  3,  4,  5,  6,  7,  8,  9, 10, 11, 12, 13, 14, 15, 16,\n",
       "       17, 18, 19])"
      ]
     },
     "execution_count": 36,
     "metadata": {},
     "output_type": "execute_result"
    }
   ],
   "source": [
    "h.flatten()  #flattening 把所有元素用一维数组返回"
   ]
  },
  {
   "cell_type": "code",
   "execution_count": 37,
   "metadata": {
    "execution": {
     "iopub.execute_input": "2020-05-10T16:07:36.802428Z",
     "iopub.status.busy": "2020-05-10T16:07:36.801431Z",
     "iopub.status.idle": "2020-05-10T16:07:36.809411Z",
     "shell.execute_reply": "2020-05-10T16:07:36.809411Z",
     "shell.execute_reply.started": "2020-05-10T16:07:36.802428Z"
    }
   },
   "outputs": [
    {
     "data": {
      "text/plain": [
       "array([ 0,  1,  2,  3,  4,  5,  6,  7,  8,  9, 10, 11, 12, 13, 14, 15, 16,\n",
       "       17, 18, 19])"
      ]
     },
     "execution_count": 37,
     "metadata": {},
     "output_type": "execute_result"
    }
   ],
   "source": [
    "h.flatten(order='c')  #按行返回"
   ]
  },
  {
   "cell_type": "code",
   "execution_count": 38,
   "metadata": {
    "execution": {
     "iopub.execute_input": "2020-05-10T16:07:46.388043Z",
     "iopub.status.busy": "2020-05-10T16:07:46.388043Z",
     "iopub.status.idle": "2020-05-10T16:07:46.393025Z",
     "shell.execute_reply": "2020-05-10T16:07:46.393025Z",
     "shell.execute_reply.started": "2020-05-10T16:07:46.388043Z"
    }
   },
   "outputs": [
    {
     "data": {
      "text/plain": [
       "array([ 0,  5, 10, 15,  1,  6, 11, 16,  2,  7, 12, 17,  3,  8, 13, 18,  4,\n",
       "        9, 14, 19])"
      ]
     },
     "execution_count": 38,
     "metadata": {},
     "output_type": "execute_result"
    }
   ],
   "source": [
    "h.flatten(order='F')  #按行返回"
   ]
  },
  {
   "cell_type": "code",
   "execution_count": 40,
   "metadata": {
    "execution": {
     "iopub.execute_input": "2020-05-10T16:09:20.715093Z",
     "iopub.status.busy": "2020-05-10T16:09:20.715093Z",
     "iopub.status.idle": "2020-05-10T16:09:20.720080Z",
     "shell.execute_reply": "2020-05-10T16:09:20.720080Z",
     "shell.execute_reply.started": "2020-05-10T16:09:20.715093Z"
    }
   },
   "outputs": [
    {
     "name": "stdout",
     "output_type": "stream",
     "text": [
      "0 1 2 3 4 5 6 7 8 9 10 11 12 13 14 15 16 17 18 19 "
     ]
    }
   ],
   "source": [
    "for i in h.flatten(order='C'):\n",
    "    print(i,end=' ')"
   ]
  },
  {
   "cell_type": "markdown",
   "metadata": {},
   "source": [
    "## Numpy的Vectorization操作"
   ]
  },
  {
   "cell_type": "markdown",
   "metadata": {},
   "source": [
    "### Two data sets"
   ]
  },
  {
   "cell_type": "code",
   "execution_count": 41,
   "metadata": {
    "execution": {
     "iopub.execute_input": "2020-05-10T16:16:28.641063Z",
     "iopub.status.busy": "2020-05-10T16:16:28.641063Z",
     "iopub.status.idle": "2020-05-10T16:16:28.651573Z",
     "shell.execute_reply": "2020-05-10T16:16:28.650577Z",
     "shell.execute_reply.started": "2020-05-10T16:16:28.641063Z"
    }
   },
   "outputs": [],
   "source": [
    "r=np.random.standard_normal((4,3))    #产生随机数\n",
    "s=np.random.standard_normal((4,3))"
   ]
  },
  {
   "cell_type": "code",
   "execution_count": 74,
   "metadata": {
    "execution": {
     "iopub.execute_input": "2020-05-10T16:19:23.187331Z",
     "iopub.status.busy": "2020-05-10T16:19:23.187331Z",
     "iopub.status.idle": "2020-05-10T16:19:23.195282Z",
     "shell.execute_reply": "2020-05-10T16:19:23.194310Z",
     "shell.execute_reply.started": "2020-05-10T16:19:23.187331Z"
    }
   },
   "outputs": [
    {
     "data": {
      "text/plain": [
       "array([[ 1.48627615, -1.01464673, -0.02807036],\n",
       "       [ 0.93162534, -1.18313237,  0.5924491 ],\n",
       "       [-0.40021166,  0.67072963, -0.89708178],\n",
       "       [ 0.67219881, -0.45781411,  0.19088017]])"
      ]
     },
     "execution_count": 74,
     "metadata": {},
     "output_type": "execute_result"
    }
   ],
   "source": [
    "r"
   ]
  },
  {
   "cell_type": "code",
   "execution_count": 81,
   "metadata": {
    "execution": {
     "iopub.execute_input": "2020-05-10T16:19:55.826539Z",
     "iopub.status.busy": "2020-05-10T16:19:55.826539Z",
     "iopub.status.idle": "2020-05-10T16:19:55.833519Z",
     "shell.execute_reply": "2020-05-10T16:19:55.832520Z",
     "shell.execute_reply.started": "2020-05-10T16:19:55.826539Z"
    }
   },
   "outputs": [
    {
     "data": {
      "text/plain": [
       "array([[ 1.73629577,  0.83046485, -1.64339767],\n",
       "       [ 0.0286694 , -1.0549723 ,  1.44932324],\n",
       "       [-0.14961769,  0.1532399 , -0.06387941],\n",
       "       [ 0.65925958, -0.47381887, -0.36770132]])"
      ]
     },
     "execution_count": 81,
     "metadata": {},
     "output_type": "execute_result"
    }
   ],
   "source": [
    "s"
   ]
  },
  {
   "cell_type": "code",
   "execution_count": 44,
   "metadata": {
    "execution": {
     "iopub.execute_input": "2020-05-10T16:17:43.346631Z",
     "iopub.status.busy": "2020-05-10T16:17:43.346631Z",
     "iopub.status.idle": "2020-05-10T16:17:43.353611Z",
     "shell.execute_reply": "2020-05-10T16:17:43.352615Z",
     "shell.execute_reply.started": "2020-05-10T16:17:43.346631Z"
    }
   },
   "outputs": [
    {
     "data": {
      "text/plain": [
       "<function Random.random>"
      ]
     },
     "execution_count": 44,
     "metadata": {},
     "output_type": "execute_result"
    }
   ],
   "source": [
    "import random\n",
    "#random.seed(10)   #产生锁定随机数\n",
    "l=random.random\n",
    "l"
   ]
  },
  {
   "cell_type": "code",
   "execution_count": 83,
   "metadata": {
    "execution": {
     "iopub.execute_input": "2020-05-10T16:21:02.492434Z",
     "iopub.status.busy": "2020-05-10T16:21:02.491437Z",
     "iopub.status.idle": "2020-05-10T16:21:02.498442Z",
     "shell.execute_reply": "2020-05-10T16:21:02.498442Z",
     "shell.execute_reply.started": "2020-05-10T16:21:02.492434Z"
    }
   },
   "outputs": [
    {
     "data": {
      "text/plain": [
       "array([[ 1.3315865 ,  0.71527897, -1.54540029],\n",
       "       [-0.00838385,  0.62133597, -0.72008556],\n",
       "       [ 0.26551159,  0.10854853,  0.00429143],\n",
       "       [-0.17460021,  0.43302619,  1.20303737]])"
      ]
     },
     "execution_count": 83,
     "metadata": {},
     "output_type": "execute_result"
    }
   ],
   "source": [
    "np.random.seed(10)  #锁定numpy的随机数\n",
    "r=np.random.standard_normal((4,3))\n",
    "r"
   ]
  },
  {
   "cell_type": "code",
   "execution_count": 84,
   "metadata": {
    "execution": {
     "iopub.execute_input": "2020-05-10T16:21:21.223519Z",
     "iopub.status.busy": "2020-05-10T16:21:21.223519Z",
     "iopub.status.idle": "2020-05-10T16:21:21.240048Z",
     "shell.execute_reply": "2020-05-10T16:21:21.239050Z",
     "shell.execute_reply.started": "2020-05-10T16:21:21.223519Z"
    }
   },
   "outputs": [
    {
     "data": {
      "text/plain": [
       "array([[ 1.3315865 ,  0.71527897, -1.54540029],\n",
       "       [-0.00838385,  0.62133597, -0.72008556],\n",
       "       [ 0.26551159,  0.10854853,  0.00429143],\n",
       "       [-0.17460021,  0.43302619,  1.20303737]])"
      ]
     },
     "execution_count": 84,
     "metadata": {},
     "output_type": "execute_result"
    }
   ],
   "source": [
    "np.random.seed(10)  #产生的种子和上面的一样的 \n",
    "s=np.random.standard_normal((4,3))\n",
    "s"
   ]
  },
  {
   "cell_type": "markdown",
   "metadata": {},
   "source": [
    "### Element-wise addition"
   ]
  },
  {
   "cell_type": "code",
   "execution_count": 85,
   "metadata": {
    "execution": {
     "iopub.execute_input": "2020-05-10T16:24:36.838396Z",
     "iopub.status.busy": "2020-05-10T16:24:36.837393Z",
     "iopub.status.idle": "2020-05-10T16:24:36.843376Z",
     "shell.execute_reply": "2020-05-10T16:24:36.842947Z",
     "shell.execute_reply.started": "2020-05-10T16:24:36.838396Z"
    }
   },
   "outputs": [
    {
     "data": {
      "text/plain": [
       "array([[ 2.66317301,  1.43055795, -3.09080058],\n",
       "       [-0.0167677 ,  1.24267195, -1.44017112],\n",
       "       [ 0.53102317,  0.21709705,  0.00858286],\n",
       "       [-0.34920042,  0.86605238,  2.40607475]])"
      ]
     },
     "execution_count": 85,
     "metadata": {},
     "output_type": "execute_result"
    }
   ],
   "source": [
    "r+s"
   ]
  },
  {
   "cell_type": "markdown",
   "metadata": {},
   "source": [
    "### Broadcasting  广播"
   ]
  },
  {
   "cell_type": "code",
   "execution_count": 86,
   "metadata": {
    "execution": {
     "iopub.execute_input": "2020-05-10T16:30:05.625008Z",
     "iopub.status.busy": "2020-05-10T16:30:05.625008Z",
     "iopub.status.idle": "2020-05-10T16:30:05.630021Z",
     "shell.execute_reply": "2020-05-10T16:30:05.630021Z",
     "shell.execute_reply.started": "2020-05-10T16:30:05.625008Z"
    }
   },
   "outputs": [
    {
     "data": {
      "text/plain": [
       "array([[ 1.3315865 ,  0.71527897, -1.54540029],\n",
       "       [-0.00838385,  0.62133597, -0.72008556],\n",
       "       [ 0.26551159,  0.10854853,  0.00429143],\n",
       "       [-0.17460021,  0.43302619,  1.20303737]])"
      ]
     },
     "execution_count": 86,
     "metadata": {},
     "output_type": "execute_result"
    }
   ],
   "source": [
    "r"
   ]
  },
  {
   "cell_type": "code",
   "execution_count": 87,
   "metadata": {
    "execution": {
     "iopub.execute_input": "2020-05-10T16:30:12.031373Z",
     "iopub.status.busy": "2020-05-10T16:30:12.031373Z",
     "iopub.status.idle": "2020-05-10T16:30:12.037358Z",
     "shell.execute_reply": "2020-05-10T16:30:12.037358Z",
     "shell.execute_reply.started": "2020-05-10T16:30:12.031373Z"
    }
   },
   "outputs": [
    {
     "data": {
      "text/plain": [
       "array([[ 5.66317301,  4.43055795, -0.09080058],\n",
       "       [ 2.9832323 ,  4.24267195,  1.55982888],\n",
       "       [ 3.53102317,  3.21709705,  3.00858286],\n",
       "       [ 2.65079958,  3.86605238,  5.40607475]])"
      ]
     },
     "execution_count": 87,
     "metadata": {},
     "output_type": "execute_result"
    }
   ],
   "source": [
    "r*2+3"
   ]
  },
  {
   "cell_type": "code",
   "execution_count": 88,
   "metadata": {
    "execution": {
     "iopub.execute_input": "2020-05-10T16:31:30.127369Z",
     "iopub.status.busy": "2020-05-10T16:31:30.126371Z",
     "iopub.status.idle": "2020-05-10T16:31:30.133387Z",
     "shell.execute_reply": "2020-05-10T16:31:30.133387Z",
     "shell.execute_reply.started": "2020-05-10T16:31:30.127369Z"
    }
   },
   "outputs": [
    {
     "data": {
      "text/plain": [
       "array([-0.96506567,  1.02827408,  0.22863013])"
      ]
     },
     "execution_count": 88,
     "metadata": {},
     "output_type": "execute_result"
    }
   ],
   "source": [
    "s=np.random.standard_normal(3)\n",
    "s"
   ]
  },
  {
   "cell_type": "code",
   "execution_count": 89,
   "metadata": {
    "execution": {
     "iopub.execute_input": "2020-05-10T16:31:41.460597Z",
     "iopub.status.busy": "2020-05-10T16:31:41.460597Z",
     "iopub.status.idle": "2020-05-10T16:31:41.470571Z",
     "shell.execute_reply": "2020-05-10T16:31:41.469572Z",
     "shell.execute_reply.started": "2020-05-10T16:31:41.460597Z"
    }
   },
   "outputs": [
    {
     "data": {
      "text/plain": [
       "array([[ 0.36652083,  1.74355305, -1.31677016],\n",
       "       [-0.97344952,  1.64961005, -0.49145543],\n",
       "       [-0.69955408,  1.1368226 ,  0.23292156],\n",
       "       [-1.13966588,  1.46130027,  1.4316675 ]])"
      ]
     },
     "execution_count": 89,
     "metadata": {},
     "output_type": "execute_result"
    }
   ],
   "source": [
    "r+s  #r的每行数字都加上s"
   ]
  },
  {
   "cell_type": "markdown",
   "metadata": {},
   "source": [
    "### python function与numpy结合"
   ]
  },
  {
   "cell_type": "code",
   "execution_count": 90,
   "metadata": {
    "execution": {
     "iopub.execute_input": "2020-05-10T16:35:18.790653Z",
     "iopub.status.busy": "2020-05-10T16:35:18.790653Z",
     "iopub.status.idle": "2020-05-10T16:35:18.797668Z",
     "shell.execute_reply": "2020-05-10T16:35:18.797369Z",
     "shell.execute_reply.started": "2020-05-10T16:35:18.790653Z"
    }
   },
   "outputs": [
    {
     "data": {
      "text/plain": [
       "11"
      ]
     },
     "execution_count": 90,
     "metadata": {},
     "output_type": "execute_result"
    }
   ],
   "source": [
    "def f(x):\n",
    "    return 2*x+5\n",
    "f(3)"
   ]
  },
  {
   "cell_type": "code",
   "execution_count": 91,
   "metadata": {
    "execution": {
     "iopub.execute_input": "2020-05-10T16:35:25.489058Z",
     "iopub.status.busy": "2020-05-10T16:35:25.488060Z",
     "iopub.status.idle": "2020-05-10T16:35:25.494045Z",
     "shell.execute_reply": "2020-05-10T16:35:25.494045Z",
     "shell.execute_reply.started": "2020-05-10T16:35:25.488060Z"
    }
   },
   "outputs": [
    {
     "data": {
      "text/plain": [
       "array([[7.66317301, 6.43055795, 1.90919942],\n",
       "       [4.9832323 , 6.24267195, 3.55982888],\n",
       "       [5.53102317, 5.21709705, 5.00858286],\n",
       "       [4.65079958, 5.86605238, 7.40607475]])"
      ]
     },
     "execution_count": 91,
     "metadata": {},
     "output_type": "execute_result"
    }
   ],
   "source": [
    "f(r)  #函数可以直接应用于numpy"
   ]
  },
  {
   "cell_type": "code",
   "execution_count": 92,
   "metadata": {
    "execution": {
     "iopub.execute_input": "2020-05-10T16:36:20.734113Z",
     "iopub.status.busy": "2020-05-10T16:36:20.734113Z",
     "iopub.status.idle": "2020-05-10T16:36:20.749071Z",
     "shell.execute_reply": "2020-05-10T16:36:20.746081Z",
     "shell.execute_reply.started": "2020-05-10T16:36:20.734113Z"
    }
   },
   "outputs": [
    {
     "ename": "TypeError",
     "evalue": "only size-1 arrays can be converted to Python scalars",
     "output_type": "error",
     "traceback": [
      "\u001b[1;31m---------------------------------------------------------------------------\u001b[0m",
      "\u001b[1;31mTypeError\u001b[0m                                 Traceback (most recent call last)",
      "\u001b[1;32m<ipython-input-92-662edef1e18b>\u001b[0m in \u001b[0;36m<module>\u001b[1;34m\u001b[0m\n\u001b[0;32m      1\u001b[0m \u001b[1;32mimport\u001b[0m \u001b[0mmath\u001b[0m\u001b[1;33m\u001b[0m\u001b[1;33m\u001b[0m\u001b[0m\n\u001b[1;32m----> 2\u001b[1;33m \u001b[0mmath\u001b[0m\u001b[1;33m.\u001b[0m\u001b[0msin\u001b[0m\u001b[1;33m(\u001b[0m\u001b[0mr\u001b[0m\u001b[1;33m)\u001b[0m\u001b[1;33m\u001b[0m\u001b[1;33m\u001b[0m\u001b[0m\n\u001b[0m",
      "\u001b[1;31mTypeError\u001b[0m: only size-1 arrays can be converted to Python scalars"
     ]
    }
   ],
   "source": [
    "import math   #普通的python math函数不可以直接用于\n",
    "math.sin(r)"
   ]
  },
  {
   "cell_type": "code",
   "execution_count": 93,
   "metadata": {
    "execution": {
     "iopub.execute_input": "2020-05-10T16:36:55.094198Z",
     "iopub.status.busy": "2020-05-10T16:36:55.093198Z",
     "iopub.status.idle": "2020-05-10T16:36:55.099222Z",
     "shell.execute_reply": "2020-05-10T16:36:55.099222Z",
     "shell.execute_reply.started": "2020-05-10T16:36:55.093198Z"
    }
   },
   "outputs": [
    {
     "data": {
      "text/plain": [
       "array([[ 0.9715255 ,  0.65582804, -0.99967754],\n",
       "       [-0.00838375,  0.58212196, -0.65944899],\n",
       "       [ 0.26240296,  0.10833548,  0.00429142],\n",
       "       [-0.17371444,  0.41961959,  0.9331354 ]])"
      ]
     },
     "execution_count": 93,
     "metadata": {},
     "output_type": "execute_result"
    }
   ],
   "source": [
    "np.sin(r)   #numpy里的内置函数可以实现"
   ]
  },
  {
   "cell_type": "markdown",
   "metadata": {},
   "source": [
    "### Numpy和Python循环的性能比较"
   ]
  },
  {
   "cell_type": "code",
   "execution_count": 95,
   "metadata": {
    "execution": {
     "iopub.execute_input": "2020-05-10T16:41:51.852489Z",
     "iopub.status.busy": "2020-05-10T16:41:51.851463Z",
     "iopub.status.idle": "2020-05-10T16:41:52.203517Z",
     "shell.execute_reply": "2020-05-10T16:41:52.202519Z",
     "shell.execute_reply.started": "2020-05-10T16:41:51.852489Z"
    }
   },
   "outputs": [
    {
     "name": "stdout",
     "output_type": "stream",
     "text": [
      "Wall time: 330 ms\n"
     ]
    }
   ],
   "source": [
    "import math\n",
    "%time list_1=[math.sin(x) for x in range(1000000)]"
   ]
  },
  {
   "cell_type": "code",
   "execution_count": 97,
   "metadata": {
    "execution": {
     "iopub.execute_input": "2020-05-10T16:42:31.384742Z",
     "iopub.status.busy": "2020-05-10T16:42:31.384742Z",
     "iopub.status.idle": "2020-05-10T16:42:31.441591Z",
     "shell.execute_reply": "2020-05-10T16:42:31.440596Z",
     "shell.execute_reply.started": "2020-05-10T16:42:31.384742Z"
    }
   },
   "outputs": [
    {
     "name": "stdout",
     "output_type": "stream",
     "text": [
      "Wall time: 51.9 ms\n"
     ]
    }
   ],
   "source": [
    "%time list_2=np.sin(np.arange(1000000))   #尽可能在python层面避免循环可以大幅度提升运算速度；"
   ]
  },
  {
   "cell_type": "code",
   "execution_count": 98,
   "metadata": {
    "execution": {
     "iopub.execute_input": "2020-05-10T16:43:44.001437Z",
     "iopub.status.busy": "2020-05-10T16:43:44.001437Z",
     "iopub.status.idle": "2020-05-10T16:43:45.195908Z",
     "shell.execute_reply": "2020-05-10T16:43:45.194912Z",
     "shell.execute_reply.started": "2020-05-10T16:43:44.001437Z"
    }
   },
   "outputs": [
    {
     "name": "stdout",
     "output_type": "stream",
     "text": [
      "Wall time: 1.18 s\n"
     ]
    }
   ],
   "source": [
    "%time list_1=[np.sin(x) for x in range(1000000)]   #不要将numpy的函数方法用于普通的python数据类型"
   ]
  },
  {
   "cell_type": "markdown",
   "metadata": {},
   "source": [
    "## 求解线性方程"
   ]
  },
  {
   "cell_type": "markdown",
   "metadata": {},
   "source": [
    "### 用numpy求解方程\n",
    "\n",
    "$$\n",
    "a \\cdot x = b\n",
    "$$\n",
    "\n",
    "\n",
    "\\begin{eqnarray}\n",
    "a_1^1 \\cdot x_1 + a_1^2 \\cdot x_1 = b_1 \\\\\n",
    "a_2^1 \\cdot x_2 + a_2^2 \\cdot x_2 = b_2\n",
    "\\end{eqnarray}"
   ]
  },
  {
   "cell_type": "markdown",
   "metadata": {},
   "source": [
    "首先，矩阵 $a$ 的数据."
   ]
  },
  {
   "cell_type": "code",
   "execution_count": 99,
   "metadata": {
    "execution": {
     "iopub.execute_input": "2020-05-10T17:07:13.064213Z",
     "iopub.status.busy": "2020-05-10T17:07:13.063215Z",
     "iopub.status.idle": "2020-05-10T17:07:13.069381Z",
     "shell.execute_reply": "2020-05-10T17:07:13.069199Z",
     "shell.execute_reply.started": "2020-05-10T17:07:13.064213Z"
    }
   },
   "outputs": [
    {
     "data": {
      "text/plain": [
       "array([[3, 1],\n",
       "       [1, 2]])"
      ]
     },
     "execution_count": 99,
     "metadata": {},
     "output_type": "execute_result"
    }
   ],
   "source": [
    "a = np.array([[3, 1], [1, 2]])\n",
    "a"
   ]
  },
  {
   "cell_type": "markdown",
   "metadata": {},
   "source": [
    "然后, 矩阵 $b$的数据."
   ]
  },
  {
   "cell_type": "code",
   "execution_count": 100,
   "metadata": {
    "execution": {
     "iopub.execute_input": "2020-05-10T17:12:57.001531Z",
     "iopub.status.busy": "2020-05-10T17:12:57.001531Z",
     "iopub.status.idle": "2020-05-10T17:12:57.005592Z",
     "shell.execute_reply": "2020-05-10T17:12:57.005592Z",
     "shell.execute_reply.started": "2020-05-10T17:12:57.001531Z"
    }
   },
   "outputs": [
    {
     "data": {
      "text/plain": [
       "array([9, 8])"
      ]
     },
     "execution_count": 100,
     "metadata": {},
     "output_type": "execute_result"
    }
   ],
   "source": [
    "b = np.array([9, 8])\n",
    "b"
   ]
  },
  {
   "cell_type": "markdown",
   "metadata": {},
   "source": [
    "最后, 求解过程."
   ]
  },
  {
   "cell_type": "code",
   "execution_count": 101,
   "metadata": {
    "execution": {
     "iopub.execute_input": "2020-05-10T17:13:00.764856Z",
     "iopub.status.busy": "2020-05-10T17:13:00.763818Z",
     "iopub.status.idle": "2020-05-10T17:13:00.788749Z",
     "shell.execute_reply": "2020-05-10T17:13:00.787751Z",
     "shell.execute_reply.started": "2020-05-10T17:13:00.764856Z"
    }
   },
   "outputs": [
    {
     "data": {
      "text/plain": [
       "array([2., 3.])"
      ]
     },
     "execution_count": 101,
     "metadata": {},
     "output_type": "execute_result"
    }
   ],
   "source": [
    "x = np.linalg.solve(a, b)\n",
    "x"
   ]
  },
  {
   "cell_type": "code",
   "execution_count": 102,
   "metadata": {
    "execution": {
     "iopub.execute_input": "2020-05-10T17:13:03.737024Z",
     "iopub.status.busy": "2020-05-10T17:13:03.736025Z",
     "iopub.status.idle": "2020-05-10T17:13:03.746025Z",
     "shell.execute_reply": "2020-05-10T17:13:03.746025Z",
     "shell.execute_reply.started": "2020-05-10T17:13:03.737024Z"
    }
   },
   "outputs": [
    {
     "data": {
      "text/plain": [
       "array([9., 8.])"
      ]
     },
     "execution_count": 102,
     "metadata": {},
     "output_type": "execute_result"
    }
   ],
   "source": [
    "np.dot(a, x)  # checking，矩阵的计算；np.dot Ndarry矩阵乘法运算；"
   ]
  },
  {
   "cell_type": "code",
   "execution_count": 103,
   "metadata": {
    "execution": {
     "iopub.execute_input": "2020-05-10T17:13:34.443919Z",
     "iopub.status.busy": "2020-05-10T17:13:34.443919Z",
     "iopub.status.idle": "2020-05-10T17:13:34.450867Z",
     "shell.execute_reply": "2020-05-10T17:13:34.449871Z",
     "shell.execute_reply.started": "2020-05-10T17:13:34.443919Z"
    }
   },
   "outputs": [
    {
     "data": {
      "text/plain": [
       "array([[6., 3.],\n",
       "       [2., 6.]])"
      ]
     },
     "execution_count": 103,
     "metadata": {},
     "output_type": "execute_result"
    }
   ],
   "source": [
    "a * x   #矩阵相乘是一个向量化操作，不能拿来直接解方程"
   ]
  },
  {
   "cell_type": "markdown",
   "metadata": {},
   "source": [
    "### Numpy 矩阵运算"
   ]
  },
  {
   "cell_type": "markdown",
   "metadata": {},
   "source": [
    "矩阵乘法1"
   ]
  },
  {
   "cell_type": "code",
   "execution_count": 104,
   "metadata": {
    "execution": {
     "iopub.execute_input": "2020-05-10T18:02:15.766048Z",
     "iopub.status.busy": "2020-05-10T18:02:15.765052Z",
     "iopub.status.idle": "2020-05-10T18:02:15.820901Z",
     "shell.execute_reply": "2020-05-10T18:02:15.819902Z",
     "shell.execute_reply.started": "2020-05-10T18:02:15.766048Z"
    }
   },
   "outputs": [
    {
     "data": {
      "text/plain": [
       "numpy.matrix"
      ]
     },
     "execution_count": 104,
     "metadata": {},
     "output_type": "execute_result"
    }
   ],
   "source": [
    "a = np.matrix([[3, 1], [1, 2]])      \n",
    "type(a)"
   ]
  },
  {
   "cell_type": "code",
   "execution_count": 105,
   "metadata": {
    "execution": {
     "iopub.execute_input": "2020-05-10T18:02:18.304613Z",
     "iopub.status.busy": "2020-05-10T18:02:18.304613Z",
     "iopub.status.idle": "2020-05-10T18:02:18.311570Z",
     "shell.execute_reply": "2020-05-10T18:02:18.311570Z",
     "shell.execute_reply.started": "2020-05-10T18:02:18.304613Z"
    }
   },
   "outputs": [
    {
     "data": {
      "text/plain": [
       "matrix([[2],\n",
       "        [4]])"
      ]
     },
     "execution_count": 105,
     "metadata": {},
     "output_type": "execute_result"
    }
   ],
   "source": [
    "x = np.matrix([[2],[4]])\n",
    "x"
   ]
  },
  {
   "cell_type": "code",
   "execution_count": 107,
   "metadata": {
    "execution": {
     "iopub.execute_input": "2020-05-10T18:02:48.873280Z",
     "iopub.status.busy": "2020-05-10T18:02:48.872279Z",
     "iopub.status.idle": "2020-05-10T18:02:48.881217Z",
     "shell.execute_reply": "2020-05-10T18:02:48.880249Z",
     "shell.execute_reply.started": "2020-05-10T18:02:48.873280Z"
    }
   },
   "outputs": [
    {
     "data": {
      "text/plain": [
       "matrix([[10],\n",
       "        [10]])"
      ]
     },
     "execution_count": 107,
     "metadata": {},
     "output_type": "execute_result"
    }
   ],
   "source": [
    "a * x        #因为是矩阵matrix的数据类型，乘法就是矩阵相乘，而不是向量化运算；"
   ]
  },
  {
   "cell_type": "markdown",
   "metadata": {},
   "source": [
    "矩阵乘法2"
   ]
  },
  {
   "cell_type": "code",
   "execution_count": 108,
   "metadata": {
    "execution": {
     "iopub.execute_input": "2020-05-10T18:02:50.001033Z",
     "iopub.status.busy": "2020-05-10T18:02:50.001033Z",
     "iopub.status.idle": "2020-05-10T18:02:50.006019Z",
     "shell.execute_reply": "2020-05-10T18:02:50.006019Z",
     "shell.execute_reply.started": "2020-05-10T18:02:50.001033Z"
    }
   },
   "outputs": [
    {
     "data": {
      "text/plain": [
       "numpy.ndarray"
      ]
     },
     "execution_count": 108,
     "metadata": {},
     "output_type": "execute_result"
    }
   ],
   "source": [
    "a = np.array([[3,1],[1,2]])\n",
    "type(a)"
   ]
  },
  {
   "cell_type": "code",
   "execution_count": 109,
   "metadata": {
    "execution": {
     "iopub.execute_input": "2020-05-10T18:02:50.804309Z",
     "iopub.status.busy": "2020-05-10T18:02:50.803310Z",
     "iopub.status.idle": "2020-05-10T18:02:50.809291Z",
     "shell.execute_reply": "2020-05-10T18:02:50.808298Z",
     "shell.execute_reply.started": "2020-05-10T18:02:50.804309Z"
    }
   },
   "outputs": [],
   "source": [
    "x = np.array([2,4])"
   ]
  },
  {
   "cell_type": "code",
   "execution_count": 110,
   "metadata": {
    "execution": {
     "iopub.execute_input": "2020-05-10T18:02:51.743131Z",
     "iopub.status.busy": "2020-05-10T18:02:51.742116Z",
     "iopub.status.idle": "2020-05-10T18:02:51.750092Z",
     "shell.execute_reply": "2020-05-10T18:02:51.749094Z",
     "shell.execute_reply.started": "2020-05-10T18:02:51.743131Z"
    }
   },
   "outputs": [
    {
     "data": {
      "text/plain": [
       "array([10, 10])"
      ]
     },
     "execution_count": 110,
     "metadata": {},
     "output_type": "execute_result"
    }
   ],
   "source": [
    "a.dot(x)"
   ]
  },
  {
   "cell_type": "markdown",
   "metadata": {},
   "source": [
    "矩阵转置"
   ]
  },
  {
   "cell_type": "code",
   "execution_count": 111,
   "metadata": {
    "execution": {
     "iopub.execute_input": "2020-05-10T18:03:17.468110Z",
     "iopub.status.busy": "2020-05-10T18:03:17.468110Z",
     "iopub.status.idle": "2020-05-10T18:03:17.474566Z",
     "shell.execute_reply": "2020-05-10T18:03:17.474566Z",
     "shell.execute_reply.started": "2020-05-10T18:03:17.468110Z"
    }
   },
   "outputs": [
    {
     "data": {
      "text/plain": [
       "matrix([[3, 4],\n",
       "        [1, 2]])"
      ]
     },
     "execution_count": 111,
     "metadata": {},
     "output_type": "execute_result"
    }
   ],
   "source": [
    "a = np.matrix([[3, 4], [1, 2]])      \n",
    "a"
   ]
  },
  {
   "cell_type": "code",
   "execution_count": 112,
   "metadata": {
    "execution": {
     "iopub.execute_input": "2020-05-10T18:03:18.216222Z",
     "iopub.status.busy": "2020-05-10T18:03:18.216222Z",
     "iopub.status.idle": "2020-05-10T18:03:18.221208Z",
     "shell.execute_reply": "2020-05-10T18:03:18.220500Z",
     "shell.execute_reply.started": "2020-05-10T18:03:18.216222Z"
    }
   },
   "outputs": [
    {
     "data": {
      "text/plain": [
       "matrix([[3, 1],\n",
       "        [4, 2]])"
      ]
     },
     "execution_count": 112,
     "metadata": {},
     "output_type": "execute_result"
    }
   ],
   "source": [
    "a.T"
   ]
  },
  {
   "cell_type": "code",
   "execution_count": 113,
   "metadata": {
    "execution": {
     "iopub.execute_input": "2020-05-10T18:03:19.006873Z",
     "iopub.status.busy": "2020-05-10T18:03:19.005875Z",
     "iopub.status.idle": "2020-05-10T18:03:19.013826Z",
     "shell.execute_reply": "2020-05-10T18:03:19.012855Z",
     "shell.execute_reply.started": "2020-05-10T18:03:19.006873Z"
    }
   },
   "outputs": [
    {
     "data": {
      "text/plain": [
       "array([[3, 4],\n",
       "       [1, 2]])"
      ]
     },
     "execution_count": 113,
     "metadata": {},
     "output_type": "execute_result"
    }
   ],
   "source": [
    "a = np.array([[3, 4], [1, 2]])\n",
    "a"
   ]
  },
  {
   "cell_type": "code",
   "execution_count": 114,
   "metadata": {
    "execution": {
     "iopub.execute_input": "2020-05-10T18:03:21.543132Z",
     "iopub.status.busy": "2020-05-10T18:03:21.542132Z",
     "iopub.status.idle": "2020-05-10T18:03:21.549102Z",
     "shell.execute_reply": "2020-05-10T18:03:21.549102Z",
     "shell.execute_reply.started": "2020-05-10T18:03:21.542132Z"
    }
   },
   "outputs": [
    {
     "data": {
      "text/plain": [
       "array([[3, 1],\n",
       "       [4, 2]])"
      ]
     },
     "execution_count": 114,
     "metadata": {},
     "output_type": "execute_result"
    }
   ],
   "source": [
    "a.T"
   ]
  },
  {
   "cell_type": "markdown",
   "metadata": {},
   "source": [
    "## Numpy随机数"
   ]
  },
  {
   "cell_type": "markdown",
   "metadata": {},
   "source": [
    "### np.random.standard_normal() "
   ]
  },
  {
   "cell_type": "code",
   "execution_count": 115,
   "metadata": {
    "execution": {
     "iopub.execute_input": "2020-05-10T18:04:37.155617Z",
     "iopub.status.busy": "2020-05-10T18:04:37.154620Z",
     "iopub.status.idle": "2020-05-10T18:04:37.159866Z",
     "shell.execute_reply": "2020-05-10T18:04:37.159633Z",
     "shell.execute_reply.started": "2020-05-10T18:04:37.154620Z"
    }
   },
   "outputs": [
    {
     "data": {
      "text/plain": [
       "0.44513761283034786"
      ]
     },
     "execution_count": 115,
     "metadata": {},
     "output_type": "execute_result"
    }
   ],
   "source": [
    "np.random.standard_normal()  # 产生单个随机数"
   ]
  },
  {
   "cell_type": "code",
   "execution_count": 116,
   "metadata": {
    "execution": {
     "iopub.execute_input": "2020-05-10T18:04:38.713384Z",
     "iopub.status.busy": "2020-05-10T18:04:38.713384Z",
     "iopub.status.idle": "2020-05-10T18:04:38.720336Z",
     "shell.execute_reply": "2020-05-10T18:04:38.719392Z",
     "shell.execute_reply.started": "2020-05-10T18:04:38.713384Z"
    }
   },
   "outputs": [
    {
     "data": {
      "text/plain": [
       "array([-1.13660221,  0.13513688,  1.484537  , -1.07980489, -1.97772828])"
      ]
     },
     "execution_count": 116,
     "metadata": {},
     "output_type": "execute_result"
    }
   ],
   "source": [
    "np.random.standard_normal(5)  # 产生1d array"
   ]
  },
  {
   "cell_type": "code",
   "execution_count": 117,
   "metadata": {
    "execution": {
     "iopub.execute_input": "2020-05-10T18:10:25.898210Z",
     "iopub.status.busy": "2020-05-10T18:10:25.898210Z",
     "iopub.status.idle": "2020-05-10T18:10:25.905731Z",
     "shell.execute_reply": "2020-05-10T18:10:25.905226Z",
     "shell.execute_reply.started": "2020-05-10T18:10:25.898210Z"
    }
   },
   "outputs": [
    {
     "data": {
      "text/plain": [
       "array([[-1.7433723 ,  0.26607016,  2.38496733,  1.12369125,  1.67262221,\n",
       "         0.09914922],\n",
       "       [ 1.39799638, -0.27124799,  0.61320418, -0.26731719, -0.54930901,\n",
       "         0.1327083 ]])"
      ]
     },
     "execution_count": 117,
     "metadata": {},
     "output_type": "execute_result"
    }
   ],
   "source": [
    "a = np.random.standard_normal((2, 6))  # 2d array，两维数组，2行6列；\n",
    "a"
   ]
  },
  {
   "cell_type": "code",
   "execution_count": 118,
   "metadata": {
    "execution": {
     "iopub.execute_input": "2020-05-10T18:10:27.736713Z",
     "iopub.status.busy": "2020-05-10T18:10:27.736713Z",
     "iopub.status.idle": "2020-05-10T18:10:27.749673Z",
     "shell.execute_reply": "2020-05-10T18:10:27.748677Z",
     "shell.execute_reply.started": "2020-05-10T18:10:27.736713Z"
    }
   },
   "outputs": [
    {
     "data": {
      "text/plain": [
       "array([[-1.743,  0.266,  2.385,  1.124,  1.673,  0.099],\n",
       "       [ 1.398, -0.271,  0.613, -0.267, -0.549,  0.133]])"
      ]
     },
     "execution_count": 118,
     "metadata": {},
     "output_type": "execute_result"
    }
   ],
   "source": [
    "np.round(a, 3)          #四舍五入，保留3位小数；"
   ]
  },
  {
   "cell_type": "code",
   "execution_count": 119,
   "metadata": {
    "execution": {
     "iopub.execute_input": "2020-05-10T18:10:30.073409Z",
     "iopub.status.busy": "2020-05-10T18:10:30.073409Z",
     "iopub.status.idle": "2020-05-10T18:10:31.290491Z",
     "shell.execute_reply": "2020-05-10T18:10:31.290491Z",
     "shell.execute_reply.started": "2020-05-10T18:10:30.073409Z"
    }
   },
   "outputs": [],
   "source": [
    "import matplotlib.pyplot as plt\n",
    "import seaborn as sns; sns.set()\n",
    "%matplotlib inline"
   ]
  },
  {
   "cell_type": "code",
   "execution_count": 120,
   "metadata": {
    "execution": {
     "iopub.execute_input": "2020-05-10T18:10:31.292483Z",
     "iopub.status.busy": "2020-05-10T18:10:31.291485Z",
     "iopub.status.idle": "2020-05-10T18:10:31.591682Z",
     "shell.execute_reply": "2020-05-10T18:10:31.590686Z",
     "shell.execute_reply.started": "2020-05-10T18:10:31.292483Z"
    }
   },
   "outputs": [
    {
     "data": {
      "image/png": "[encoded data removed]",
      "text/plain": [
       "<Figure size 720x432 with 1 Axes>"
      ]
     },
     "metadata": {
      "needs_background": "light"
     },
     "output_type": "display_data"
    }
   ],
   "source": [
    "plt.figure(figsize=(10, 6))\n",
    "plt.plot(a[0], a[1], 'ro');"
   ]
  },
  {
   "cell_type": "markdown",
   "metadata": {},
   "source": [
    "### numpy.random.rand()\n",
    "\n",
    "numpy.random.rand(d0,d1,...,dn)\n",
    "\n",
    "rand函数根据给定维度生成[0,1)之间的数据，包含0，不包含1\n",
    "\n",
    "dn表格每个维度\n",
    "\n",
    "返回值为指定维度的array"
   ]
  },
  {
   "cell_type": "code",
   "execution_count": 121,
   "metadata": {
    "execution": {
     "iopub.execute_input": "2020-05-10T18:10:47.378814Z",
     "iopub.status.busy": "2020-05-10T18:10:47.377817Z",
     "iopub.status.idle": "2020-05-10T18:10:47.387791Z",
     "shell.execute_reply": "2020-05-10T18:10:47.387791Z",
     "shell.execute_reply.started": "2020-05-10T18:10:47.378814Z"
    }
   },
   "outputs": [
    {
     "data": {
      "text/plain": [
       "array([[0.54758616, 0.819287  ],\n",
       "       [0.19894754, 0.8568503 ],\n",
       "       [0.35165264, 0.75464769],\n",
       "       [0.29596171, 0.88393648]])"
      ]
     },
     "execution_count": 121,
     "metadata": {},
     "output_type": "execute_result"
    }
   ],
   "source": [
    "np.random.rand(4,2)"
   ]
  },
  {
   "cell_type": "code",
   "execution_count": 122,
   "metadata": {
    "execution": {
     "iopub.execute_input": "2020-05-10T18:10:48.151974Z",
     "iopub.status.busy": "2020-05-10T18:10:48.150975Z",
     "iopub.status.idle": "2020-05-10T18:10:48.157993Z",
     "shell.execute_reply": "2020-05-10T18:10:48.157993Z",
     "shell.execute_reply.started": "2020-05-10T18:10:48.151974Z"
    }
   },
   "outputs": [
    {
     "data": {
      "text/plain": [
       "array([[0.32551164, 0.1650159 , 0.39252924, 0.09346037, 0.82110566],\n",
       "       [0.15115202, 0.38411445, 0.94426071, 0.98762547, 0.45630455],\n",
       "       [0.82612284, 0.25137413, 0.59737165, 0.90283176, 0.53455795],\n",
       "       [0.59020136, 0.03928177, 0.35718176, 0.07961309, 0.30545992],\n",
       "       [0.33071931, 0.7738303 , 0.03995921, 0.42949218, 0.31492687],\n",
       "       [0.63649114, 0.34634715, 0.04309736, 0.87991517, 0.76324059]])"
      ]
     },
     "execution_count": 122,
     "metadata": {},
     "output_type": "execute_result"
    }
   ],
   "source": [
    "np.random.rand(6,5)"
   ]
  },
  {
   "cell_type": "markdown",
   "metadata": {},
   "source": [
    "### numpy.random.random"
   ]
  },
  {
   "cell_type": "markdown",
   "metadata": {},
   "source": [
    "random函数根据给定维度生成[0,1)之间的数据，包含0，不包含, 和random.rand的区别是参数传递需要通过list或者tuple"
   ]
  },
  {
   "cell_type": "code",
   "execution_count": 123,
   "metadata": {
    "execution": {
     "iopub.execute_input": "2020-05-10T18:11:11.442446Z",
     "iopub.status.busy": "2020-05-10T18:11:11.441449Z",
     "iopub.status.idle": "2020-05-10T18:11:11.452929Z",
     "shell.execute_reply": "2020-05-10T18:11:11.451422Z",
     "shell.execute_reply.started": "2020-05-10T18:11:11.442446Z"
    }
   },
   "outputs": [
    {
     "data": {
      "text/plain": [
       "array([[0.87809664, 0.41750914],\n",
       "       [0.60557756, 0.51346663],\n",
       "       [0.59783665, 0.26221566],\n",
       "       [0.30087131, 0.02539978]])"
      ]
     },
     "execution_count": 123,
     "metadata": {},
     "output_type": "execute_result"
    }
   ],
   "source": [
    "z = np.random.random((4,2))\n",
    "z"
   ]
  },
  {
   "cell_type": "markdown",
   "metadata": {},
   "source": [
    "### numpy.random.randn()\n",
    "\n",
    "numpy.random.randn(d0,d1,...,dn)\n",
    "\n",
    "randn函数返回一个或一组样本，具有标准正态分布。\n",
    "\n",
    "dn表格每个维度\n",
    "\n",
    "返回值为指定维度的array"
   ]
  },
  {
   "cell_type": "code",
   "execution_count": 124,
   "metadata": {
    "execution": {
     "iopub.execute_input": "2020-05-10T18:16:42.768046Z",
     "iopub.status.busy": "2020-05-10T18:16:42.768046Z",
     "iopub.status.idle": "2020-05-10T18:16:42.776022Z",
     "shell.execute_reply": "2020-05-10T18:16:42.776022Z",
     "shell.execute_reply.started": "2020-05-10T18:16:42.768046Z"
    }
   },
   "outputs": [
    {
     "data": {
      "text/plain": [
       "array([[ 1.3315865 ,  0.71527897, -1.54540029, -0.00838385],\n",
       "       [ 0.62133597, -0.72008556,  0.26551159,  0.10854853]])"
      ]
     },
     "execution_count": 124,
     "metadata": {},
     "output_type": "execute_result"
    }
   ],
   "source": [
    "np.random.seed(10)\n",
    "np.random.randn(2,4)"
   ]
  },
  {
   "cell_type": "code",
   "execution_count": 125,
   "metadata": {
    "execution": {
     "iopub.execute_input": "2020-05-10T18:16:43.421884Z",
     "iopub.status.busy": "2020-05-10T18:16:43.421884Z",
     "iopub.status.idle": "2020-05-10T18:16:43.427897Z",
     "shell.execute_reply": "2020-05-10T18:16:43.427897Z",
     "shell.execute_reply.started": "2020-05-10T18:16:43.421884Z"
    }
   },
   "outputs": [
    {
     "data": {
      "text/plain": [
       "array([[ 1.3315865 ,  0.71527897, -1.54540029, -0.00838385],\n",
       "       [ 0.62133597, -0.72008556,  0.26551159,  0.10854853]])"
      ]
     },
     "execution_count": 125,
     "metadata": {},
     "output_type": "execute_result"
    }
   ],
   "source": [
    "np.random.seed(10)\n",
    "np.random.standard_normal((2,4))"
   ]
  },
  {
   "cell_type": "markdown",
   "metadata": {},
   "source": [
    "### 5.4 numpy.random.randint() \n",
    "\n",
    "numpy.random.randint(low, high=None, size=None, dtype='l')\n",
    "\n",
    "返回随机整数，范围区间为[low,high），包含low，不包含high\n",
    "\n",
    "参数：low为最小值，high为最大值，size为数组维度大小，dtype为数据类型，默认的数据类型是np.int\n",
    "\n",
    "high没有填写时，默认生成随机数的范围是[0，low)"
   ]
  },
  {
   "cell_type": "code",
   "execution_count": null,
   "metadata": {
    "collapsed": true,
    "jupyter": {
     "outputs_hidden": true
    }
   },
   "outputs": [],
   "source": [
    "np.random.randint(-5,6,size=(5,6))"
   ]
  },
  {
   "cell_type": "markdown",
   "metadata": {},
   "source": [
    "### 5.5  numpy.random.seed()\n",
    "\n",
    "np.random.seed()的作用：使得随机数据可预测。\n",
    "当我们设置相同的seed，每次生成的随机数相同。如果不设置seed，则每次会生成不同的随机数"
   ]
  },
  {
   "cell_type": "code",
   "execution_count": 126,
   "metadata": {
    "execution": {
     "iopub.execute_input": "2020-05-10T18:18:44.507146Z",
     "iopub.status.busy": "2020-05-10T18:18:44.506151Z",
     "iopub.status.idle": "2020-05-10T18:18:44.512105Z",
     "shell.execute_reply": "2020-05-10T18:18:44.512105Z",
     "shell.execute_reply.started": "2020-05-10T18:18:44.507146Z"
    }
   },
   "outputs": [
    {
     "data": {
      "text/plain": [
       "array([0.77132064, 0.02075195, 0.63364823, 0.74880388, 0.49850701])"
      ]
     },
     "execution_count": 126,
     "metadata": {},
     "output_type": "execute_result"
    }
   ],
   "source": [
    "np.random.seed(10)\n",
    "np.random.rand(5)"
   ]
  },
  {
   "cell_type": "code",
   "execution_count": 127,
   "metadata": {
    "execution": {
     "iopub.execute_input": "2020-05-10T18:18:45.289463Z",
     "iopub.status.busy": "2020-05-10T18:18:45.289463Z",
     "iopub.status.idle": "2020-05-10T18:18:45.298951Z",
     "shell.execute_reply": "2020-05-10T18:18:45.297442Z",
     "shell.execute_reply.started": "2020-05-10T18:18:45.289463Z"
    }
   },
   "outputs": [
    {
     "data": {
      "text/plain": [
       "array([0.77132064, 0.02075195, 0.63364823, 0.74880388, 0.49850701])"
      ]
     },
     "execution_count": 127,
     "metadata": {},
     "output_type": "execute_result"
    }
   ],
   "source": [
    "np.random.seed(10)\n",
    "np.random.rand(5)"
   ]
  },
  {
   "cell_type": "markdown",
   "metadata": {},
   "source": [
    "### numpy.random.choice()\n",
    "\n",
    "numpy.random.choice(a, size=None, replace=True, p=None)\n",
    "\n",
    "从给定的一维数组中生成随机数\n",
    "\n",
    "参数： a为一维数组类似数据或整数；size为数组维度；p为数组中的数据出现的概率\n",
    "\n",
    "a为整数时，对应的一维数组为np.arange(a)"
   ]
  },
  {
   "cell_type": "code",
   "execution_count": 128,
   "metadata": {
    "execution": {
     "iopub.execute_input": "2020-05-10T18:19:35.273393Z",
     "iopub.status.busy": "2020-05-10T18:19:35.272358Z",
     "iopub.status.idle": "2020-05-10T18:19:35.284327Z",
     "shell.execute_reply": "2020-05-10T18:19:35.283328Z",
     "shell.execute_reply.started": "2020-05-10T18:19:35.273393Z"
    }
   },
   "outputs": [
    {
     "data": {
      "text/plain": [
       "array([0, 1, 2, 0, 1, 0, 2, 0, 4, 3, 0, 4, 3, 0, 3, 2, 1, 0, 4, 1])"
      ]
     },
     "execution_count": 128,
     "metadata": {},
     "output_type": "execute_result"
    }
   ],
   "source": [
    "import numpy as np\n",
    "np.random.choice(5,20)           #np.arange(10)"
   ]
  },
  {
   "cell_type": "code",
   "execution_count": 129,
   "metadata": {
    "execution": {
     "iopub.execute_input": "2020-05-10T18:19:36.283628Z",
     "iopub.status.busy": "2020-05-10T18:19:36.282630Z",
     "iopub.status.idle": "2020-05-10T18:19:36.294618Z",
     "shell.execute_reply": "2020-05-10T18:19:36.294618Z",
     "shell.execute_reply.started": "2020-05-10T18:19:36.282630Z"
    }
   },
   "outputs": [
    {
     "data": {
      "text/plain": [
       "array([['000005', '000005', '000005'],\n",
       "       ['000002', '000004', '000005'],\n",
       "       ['000005', '000005', '000005'],\n",
       "       ['000005', '000005', '000005'],\n",
       "       ['000005', '000005', '000005']], dtype='<U6')"
      ]
     },
     "execution_count": 129,
     "metadata": {},
     "output_type": "execute_result"
    }
   ],
   "source": [
    "demo_list = ['000001', '000002','000003','000004', '000005']\n",
    "np.random.choice(demo_list,size=(5,3), p=[0.1,0.1,0.1,0.1,0.6])"
   ]
  },
  {
   "cell_type": "markdown",
   "metadata": {},
   "source": [
    "## 用Numpy进行回归运算"
   ]
  },
  {
   "cell_type": "markdown",
   "metadata": {},
   "source": [
    "求回归系数除了可以用Numpy的函数以外，用statsmodels或者sk-learn也是可以很快求出来的；但是追根溯源，sk-learn也是用的numpy来求的；"
   ]
  },
  {
   "cell_type": "markdown",
   "metadata": {},
   "source": [
    "### 使用 np.polyfit返回回归结系数"
   ]
  },
  {
   "cell_type": "code",
   "execution_count": 130,
   "metadata": {
    "execution": {
     "iopub.execute_input": "2020-05-10T18:24:14.642656Z",
     "iopub.status.busy": "2020-05-10T18:24:14.642656Z",
     "iopub.status.idle": "2020-05-10T18:24:14.647615Z",
     "shell.execute_reply": "2020-05-10T18:24:14.647045Z",
     "shell.execute_reply.started": "2020-05-10T18:24:14.642656Z"
    }
   },
   "outputs": [],
   "source": [
    "m = np.array([1,2,3,4,5])\n",
    "n = m * 5 + 2"
   ]
  },
  {
   "cell_type": "code",
   "execution_count": 56,
   "metadata": {},
   "outputs": [
    {
     "data": {
      "text/plain": [
       "array([1, 2, 3, 4, 5])"
      ]
     },
     "execution_count": 56,
     "metadata": {},
     "output_type": "execute_result"
    }
   ],
   "source": [
    "m"
   ]
  },
  {
   "cell_type": "code",
   "execution_count": 57,
   "metadata": {},
   "outputs": [
    {
     "data": {
      "text/plain": [
       "array([ 7, 12, 17, 22, 27])"
      ]
     },
     "execution_count": 57,
     "metadata": {},
     "output_type": "execute_result"
    }
   ],
   "source": [
    "n"
   ]
  },
  {
   "cell_type": "code",
   "execution_count": 131,
   "metadata": {
    "execution": {
     "iopub.execute_input": "2020-05-10T18:36:29.561779Z",
     "iopub.status.busy": "2020-05-10T18:36:29.561779Z",
     "iopub.status.idle": "2020-05-10T18:36:29.584750Z",
     "shell.execute_reply": "2020-05-10T18:36:29.584750Z",
     "shell.execute_reply.started": "2020-05-10T18:36:29.561779Z"
    }
   },
   "outputs": [
    {
     "data": {
      "text/plain": [
       "array([5., 2.])"
      ]
     },
     "execution_count": 131,
     "metadata": {},
     "output_type": "execute_result"
    }
   ],
   "source": [
    "reg = np.polyfit(m, n ,1)\n",
    "reg"
   ]
  },
  {
   "cell_type": "code",
   "execution_count": 132,
   "metadata": {
    "execution": {
     "iopub.execute_input": "2020-05-10T18:36:30.520269Z",
     "iopub.status.busy": "2020-05-10T18:36:30.519272Z",
     "iopub.status.idle": "2020-05-10T18:36:30.525256Z",
     "shell.execute_reply": "2020-05-10T18:36:30.524142Z",
     "shell.execute_reply.started": "2020-05-10T18:36:30.520269Z"
    }
   },
   "outputs": [],
   "source": [
    "#unpacked\n",
    "slope, intercept =  np.polyfit(m, n ,1)"
   ]
  },
  {
   "cell_type": "code",
   "execution_count": 133,
   "metadata": {
    "execution": {
     "iopub.execute_input": "2020-05-10T18:36:33.214954Z",
     "iopub.status.busy": "2020-05-10T18:36:33.213954Z",
     "iopub.status.idle": "2020-05-10T18:36:33.219907Z",
     "shell.execute_reply": "2020-05-10T18:36:33.218958Z",
     "shell.execute_reply.started": "2020-05-10T18:36:33.214954Z"
    }
   },
   "outputs": [
    {
     "name": "stdout",
     "output_type": "stream",
     "text": [
      "4.999999999999999 2.000000000000003\n"
     ]
    }
   ],
   "source": [
    "print(slope, intercept)"
   ]
  },
  {
   "cell_type": "code",
   "execution_count": 134,
   "metadata": {
    "execution": {
     "iopub.execute_input": "2020-05-10T18:36:38.638304Z",
     "iopub.status.busy": "2020-05-10T18:36:38.638304Z",
     "iopub.status.idle": "2020-05-10T18:36:38.643256Z",
     "shell.execute_reply": "2020-05-10T18:36:38.642289Z",
     "shell.execute_reply.started": "2020-05-10T18:36:38.638304Z"
    }
   },
   "outputs": [],
   "source": [
    "m = np.array([1,2,3,4,5])\n",
    "n = 2 * m ** 2 + 6 * m + 9"
   ]
  },
  {
   "cell_type": "code",
   "execution_count": 135,
   "metadata": {
    "execution": {
     "iopub.execute_input": "2020-05-10T18:36:39.371368Z",
     "iopub.status.busy": "2020-05-10T18:36:39.371368Z",
     "iopub.status.idle": "2020-05-10T18:36:39.378352Z",
     "shell.execute_reply": "2020-05-10T18:36:39.377355Z",
     "shell.execute_reply.started": "2020-05-10T18:36:39.371368Z"
    }
   },
   "outputs": [
    {
     "data": {
      "text/plain": [
       "array([17, 29, 45, 65, 89])"
      ]
     },
     "execution_count": 135,
     "metadata": {},
     "output_type": "execute_result"
    }
   ],
   "source": [
    "n"
   ]
  },
  {
   "cell_type": "code",
   "execution_count": 136,
   "metadata": {
    "execution": {
     "iopub.execute_input": "2020-05-10T18:36:40.529202Z",
     "iopub.status.busy": "2020-05-10T18:36:40.529202Z",
     "iopub.status.idle": "2020-05-10T18:36:40.542168Z",
     "shell.execute_reply": "2020-05-10T18:36:40.542168Z",
     "shell.execute_reply.started": "2020-05-10T18:36:40.529202Z"
    }
   },
   "outputs": [
    {
     "data": {
      "text/plain": [
       "array([2., 6., 9.])"
      ]
     },
     "execution_count": 136,
     "metadata": {},
     "output_type": "execute_result"
    }
   ],
   "source": [
    "reg = np.polyfit(m, n ,2)\n",
    "reg"
   ]
  },
  {
   "cell_type": "markdown",
   "metadata": {},
   "source": [
    "### 使用np.polyval返回计算结果"
   ]
  },
  {
   "cell_type": "code",
   "execution_count": 64,
   "metadata": {},
   "outputs": [
    {
     "data": {
      "text/plain": [
       "17.0"
      ]
     },
     "execution_count": 64,
     "metadata": {},
     "output_type": "execute_result"
    }
   ],
   "source": [
    "np.polyval([ 2.,  6.,  9.], 1)      #2 * 1 ** 2 + 6 * 1 +9"
   ]
  },
  {
   "cell_type": "code",
   "execution_count": 65,
   "metadata": {},
   "outputs": [
    {
     "data": {
      "text/plain": [
       "45.0"
      ]
     },
     "execution_count": 65,
     "metadata": {},
     "output_type": "execute_result"
    }
   ],
   "source": [
    "np.polyval([ 2.,  6.,  9.], 3)"
   ]
  },
  {
   "cell_type": "code",
   "execution_count": 66,
   "metadata": {},
   "outputs": [
    {
     "data": {
      "text/plain": [
       "7.0"
      ]
     },
     "execution_count": 66,
     "metadata": {},
     "output_type": "execute_result"
    }
   ],
   "source": [
    "np.polyval([ 5.,  2.], 1) "
   ]
  },
  {
   "cell_type": "code",
   "execution_count": 67,
   "metadata": {},
   "outputs": [
    {
     "data": {
      "text/plain": [
       "76"
      ]
     },
     "execution_count": 67,
     "metadata": {},
     "output_type": "execute_result"
    }
   ],
   "source": [
    "np.polyval([3,0,1], 5)               # 3 * 5**2 + 0 * 5**1 + 1"
   ]
  },
  {
   "cell_type": "code",
   "execution_count": 68,
   "metadata": {},
   "outputs": [
    {
     "data": {
      "text/plain": [
       "7"
      ]
     },
     "execution_count": 68,
     "metadata": {},
     "output_type": "execute_result"
    }
   ],
   "source": [
    "np.polyval([3,1], 2) "
   ]
  },
  {
   "cell_type": "code",
   "execution_count": 137,
   "metadata": {
    "execution": {
     "iopub.execute_input": "2020-05-10T18:39:15.069238Z",
     "iopub.status.busy": "2020-05-10T18:39:15.069238Z",
     "iopub.status.idle": "2020-05-10T18:39:15.074235Z",
     "shell.execute_reply": "2020-05-10T18:39:15.073937Z",
     "shell.execute_reply.started": "2020-05-10T18:39:15.069238Z"
    }
   },
   "outputs": [],
   "source": [
    "np.random.seed(10)\n",
    "a = np.random.standard_normal((2, 8))"
   ]
  },
  {
   "cell_type": "code",
   "execution_count": 138,
   "metadata": {
    "execution": {
     "iopub.execute_input": "2020-05-10T18:39:19.596484Z",
     "iopub.status.busy": "2020-05-10T18:39:19.596484Z",
     "iopub.status.idle": "2020-05-10T18:39:19.601470Z",
     "shell.execute_reply": "2020-05-10T18:39:19.601329Z",
     "shell.execute_reply.started": "2020-05-10T18:39:19.596484Z"
    }
   },
   "outputs": [
    {
     "data": {
      "text/plain": [
       "array([[ 1.3315865 ,  0.71527897, -1.54540029, -0.00838385,  0.62133597,\n",
       "        -0.72008556,  0.26551159,  0.10854853],\n",
       "       [ 0.00429143, -0.17460021,  0.43302619,  1.20303737, -0.96506567,\n",
       "         1.02827408,  0.22863013,  0.44513761]])"
      ]
     },
     "execution_count": 138,
     "metadata": {},
     "output_type": "execute_result"
    }
   ],
   "source": [
    "a"
   ]
  },
  {
   "cell_type": "code",
   "execution_count": 71,
   "metadata": {},
   "outputs": [
    {
     "data": {
      "text/plain": [
       "array([ 1.3315865 ,  0.71527897, -1.54540029, -0.00838385,  0.62133597,\n",
       "       -0.72008556,  0.26551159,  0.10854853])"
      ]
     },
     "execution_count": 71,
     "metadata": {},
     "output_type": "execute_result"
    }
   ],
   "source": [
    "a[0]"
   ]
  },
  {
   "cell_type": "code",
   "execution_count": 72,
   "metadata": {},
   "outputs": [
    {
     "data": {
      "text/plain": [
       "array([ 0.00429143, -0.17460021,  0.43302619,  1.20303737, -0.96506567,\n",
       "        1.02827408,  0.22863013,  0.44513761])"
      ]
     },
     "execution_count": 72,
     "metadata": {},
     "output_type": "execute_result"
    }
   ],
   "source": [
    "a[1]"
   ]
  },
  {
   "cell_type": "code",
   "execution_count": 139,
   "metadata": {
    "execution": {
     "iopub.execute_input": "2020-05-10T18:42:48.972070Z",
     "iopub.status.busy": "2020-05-10T18:42:48.971070Z",
     "iopub.status.idle": "2020-05-10T18:42:48.977090Z",
     "shell.execute_reply": "2020-05-10T18:42:48.977090Z",
     "shell.execute_reply.started": "2020-05-10T18:42:48.971070Z"
    }
   },
   "outputs": [
    {
     "data": {
      "text/plain": [
       "array([-0.40118618,  0.31387489])"
      ]
     },
     "execution_count": 139,
     "metadata": {},
     "output_type": "execute_result"
    }
   ],
   "source": [
    "reg1 = np.polyfit(a[0], a[1], 1)  # 线性回归重点掌握\n",
    "reg1"
   ]
  },
  {
   "cell_type": "code",
   "execution_count": 140,
   "metadata": {
    "execution": {
     "iopub.execute_input": "2020-05-10T18:42:50.491577Z",
     "iopub.status.busy": "2020-05-10T18:42:50.490576Z",
     "iopub.status.idle": "2020-05-10T18:42:50.499128Z",
     "shell.execute_reply": "2020-05-10T18:42:50.499128Z",
     "shell.execute_reply.started": "2020-05-10T18:42:50.491577Z"
    }
   },
   "outputs": [],
   "source": [
    "reg2 = np.polyfit(a[0], a[1], 2) "
   ]
  },
  {
   "cell_type": "code",
   "execution_count": 141,
   "metadata": {
    "execution": {
     "iopub.execute_input": "2020-05-10T18:42:51.720884Z",
     "iopub.status.busy": "2020-05-10T18:42:51.720884Z",
     "iopub.status.idle": "2020-05-10T18:42:51.727827Z",
     "shell.execute_reply": "2020-05-10T18:42:51.726860Z",
     "shell.execute_reply.started": "2020-05-10T18:42:51.720884Z"
    }
   },
   "outputs": [
    {
     "data": {
      "text/plain": [
       "array([ 0.65803616, -0.0845805 , -1.56083258,  0.57371176])"
      ]
     },
     "execution_count": 141,
     "metadata": {},
     "output_type": "execute_result"
    }
   ],
   "source": [
    "reg3 = np.polyfit(a[0], a[1], 3)  \n",
    "reg3"
   ]
  },
  {
   "cell_type": "markdown",
   "metadata": {},
   "source": [
    "**Example　**"
   ]
  },
  {
   "cell_type": "code",
   "execution_count": 142,
   "metadata": {
    "execution": {
     "iopub.execute_input": "2020-05-10T18:43:10.096591Z",
     "iopub.status.busy": "2020-05-10T18:43:10.096591Z",
     "iopub.status.idle": "2020-05-10T18:43:10.110872Z",
     "shell.execute_reply": "2020-05-10T18:43:10.109873Z",
     "shell.execute_reply.started": "2020-05-10T18:43:10.096591Z"
    }
   },
   "outputs": [],
   "source": [
    "np.random.seed(100)\n",
    "data = np.random.standard_normal((5, 100))"
   ]
  },
  {
   "cell_type": "code",
   "execution_count": 143,
   "metadata": {
    "execution": {
     "iopub.execute_input": "2020-05-10T18:43:10.894496Z",
     "iopub.status.busy": "2020-05-10T18:43:10.893498Z",
     "iopub.status.idle": "2020-05-10T18:43:10.898484Z",
     "shell.execute_reply": "2020-05-10T18:43:10.897867Z",
     "shell.execute_reply.started": "2020-05-10T18:43:10.894496Z"
    }
   },
   "outputs": [],
   "source": [
    "x = np.arange(len(data.cumsum()))"
   ]
  },
  {
   "cell_type": "code",
   "execution_count": 144,
   "metadata": {
    "execution": {
     "iopub.execute_input": "2020-05-10T18:45:21.748476Z",
     "iopub.status.busy": "2020-05-10T18:45:21.747479Z",
     "iopub.status.idle": "2020-05-10T18:45:21.754422Z",
     "shell.execute_reply": "2020-05-10T18:45:21.753499Z",
     "shell.execute_reply.started": "2020-05-10T18:45:21.748476Z"
    }
   },
   "outputs": [],
   "source": [
    "y = data.cumsum()"
   ]
  },
  {
   "cell_type": "code",
   "execution_count": 145,
   "metadata": {
    "execution": {
     "iopub.execute_input": "2020-05-10T18:45:22.282271Z",
     "iopub.status.busy": "2020-05-10T18:45:22.282271Z",
     "iopub.status.idle": "2020-05-10T18:45:22.296745Z",
     "shell.execute_reply": "2020-05-10T18:45:22.296745Z",
     "shell.execute_reply.started": "2020-05-10T18:45:22.282271Z"
    }
   },
   "outputs": [
    {
     "data": {
      "text/plain": [
       "array([  0.02951261, -13.82129082])"
      ]
     },
     "execution_count": 145,
     "metadata": {},
     "output_type": "execute_result"
    }
   ],
   "source": [
    "rg1 = np.polyfit(x, y, 1)\n",
    "rg1"
   ]
  },
  {
   "cell_type": "code",
   "execution_count": 146,
   "metadata": {
    "execution": {
     "iopub.execute_input": "2020-05-10T18:45:23.260618Z",
     "iopub.status.busy": "2020-05-10T18:45:23.260618Z",
     "iopub.status.idle": "2020-05-10T18:45:23.268566Z",
     "shell.execute_reply": "2020-05-10T18:45:23.267569Z",
     "shell.execute_reply.started": "2020-05-10T18:45:23.260618Z"
    }
   },
   "outputs": [
    {
     "data": {
      "text/plain": [
       "array([ 1.85481129e-04, -6.30424750e-02, -6.13921892e+00])"
      ]
     },
     "execution_count": 146,
     "metadata": {},
     "output_type": "execute_result"
    }
   ],
   "source": [
    "rg2 = np.polyfit(x, y, 2)\n",
    "rg2"
   ]
  },
  {
   "cell_type": "code",
   "execution_count": 147,
   "metadata": {
    "execution": {
     "iopub.execute_input": "2020-05-10T18:45:24.269424Z",
     "iopub.status.busy": "2020-05-10T18:45:24.269424Z",
     "iopub.status.idle": "2020-05-10T18:45:24.275407Z",
     "shell.execute_reply": "2020-05-10T18:45:24.274935Z",
     "shell.execute_reply.started": "2020-05-10T18:45:24.269424Z"
    }
   },
   "outputs": [],
   "source": [
    "rg3 = np.polyfit(x, y, 3)"
   ]
  },
  {
   "cell_type": "code",
   "execution_count": 148,
   "metadata": {
    "execution": {
     "iopub.execute_input": "2020-05-10T18:45:26.166879Z",
     "iopub.status.busy": "2020-05-10T18:45:26.165935Z",
     "iopub.status.idle": "2020-05-10T18:45:26.476750Z",
     "shell.execute_reply": "2020-05-10T18:45:26.475752Z",
     "shell.execute_reply.started": "2020-05-10T18:45:26.166879Z"
    }
   },
   "outputs": [
    {
     "data": {
      "text/plain": [
       "<matplotlib.legend.Legend at 0x540f650>"
      ]
     },
     "execution_count": 148,
     "metadata": {},
     "output_type": "execute_result"
    },
    {
     "data": {
      "image/png": "[encoded data removed]",
      "text/plain": [
       "<Figure size 720x432 with 1 Axes>"
      ]
     },
     "metadata": {
      "needs_background": "light"
     },
     "output_type": "display_data"
    }
   ],
   "source": [
    "%matplotlib inline\n",
    "from matplotlib import pyplot as plt\n",
    "plt.figure(figsize=(10, 6)) \n",
    "plt.plot(x, y, 'r', label='data') \n",
    "plt.plot(x, np.polyval(rg1, x), 'b--', label='linear') \n",
    "plt.plot(x, np.polyval(rg2, x), 'g-.', label='quadratic') \n",
    "plt.plot(x, np.polyval(rg3, x), 'm:', label='cubic') \n",
    "plt.legend(loc=0)"
   ]
  },
  {
   "cell_type": "markdown",
   "metadata": {},
   "source": [
    "声明：本资料仅限内部研究和交流使用，切勿外传。"
   ]
  },
  {
   "cell_type": "code",
   "execution_count": null,
   "metadata": {},
   "outputs": [],
   "source": []
  }
 ],
 "metadata": {
  "kernelspec": {
   "display_name": "Python 3",
   "language": "python",
   "name": "python3"
  },
  "language_info": {
   "codemirror_mode": {
    "name": "ipython",
    "version": 3
   },
   "file_extension": ".py",
   "mimetype": "text/x-python",
   "name": "python",
   "nbconvert_exporter": "python",
   "pygments_lexer": "ipython3",
   "version": "3.7.7"
  }
 },
 "nbformat": 4,
 "nbformat_minor": 4
}
