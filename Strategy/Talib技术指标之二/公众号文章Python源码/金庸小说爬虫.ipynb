{
 "cells": [
  {
   "cell_type": "code",
   "execution_count": null,
   "metadata": {},
   "outputs": [],
   "source": [
    "# -*- coding: utf-8 -*-\n",
    "#引入爬虫常用的包\n",
    "#下面两个开源包一般需要自己安装\n",
    "#打开Anaconda Prompt （或者cmd） 输入命令\n",
    "#pip install urllib\n",
    "#pip install bs4\n",
    "#爬虫程序主要参考：https://blog.csdn.net/jclian91/article/details/78835371，作者：剑与星辰\n",
    "\n",
    "import urllib.request         \n",
    "from bs4 import BeautifulSoup\n",
    "\n",
    "#编写获取每本书章节内容的函数\n",
    "def get_chapter(url):\n",
    "    # 获取网页的源代码\n",
    "    html = urllib.request.urlopen(url)  \n",
    "    content = html.read().decode('utf8')\n",
    "    html.close()\n",
    "    # 将网页源代码解析成HTML格式\n",
    "    soup = BeautifulSoup(content, \"lxml\")\n",
    "    title = soup.find('h1').text    #获取章节的标题\n",
    "    text = soup.find('div', id='htmlContent')    #获取章节的内容\n",
    "    #处理章节的内容，使得格式更加整洁、清晰\n",
    "    content = text.get_text('\\n','br/').replace('\\n', '\\n    ')\n",
    "    content = content.replace('　　', '\\n　　')\n",
    "    return title, '    '+content\n",
    "\n",
    "#编写爬虫运行的主程序（函数）\n",
    "#小说所在的网站：http://jinyong.zuopinj.com\n",
    "#打开网页看看小说分布的特点和对应页码\n",
    "\n",
    "def main():\n",
    "    books = ['射雕英雄传','天龙八部','鹿鼎记','神雕侠侣','笑傲江湖','碧血剑','倚天屠龙记',\\\n",
    "             '飞狐外传','书剑恩仇录','连城诀','侠客行','越女剑','鸳鸯刀','白马啸西风',\\\n",
    "             '雪山飞狐']\n",
    "    order = [1,2,3,4,5,6,7,8,10,11,12,14,15,13,9]  #对应的书籍列表\n",
    "    #网页上存储相应书籍的页码\n",
    "    page_range = [1,43,94,145,185,225,248,289,309,329,341,362,363,364,375,385]\n",
    "\n",
    "    for i,book in enumerate(books):\n",
    "        for num in range(page_range[i],page_range[i+1]):\n",
    "            url = \"http://jinyong.zuopinj.com/%s/%s.html\"%(order[i],num)\n",
    "            try:\n",
    "                title, chapter = get_chapter(url)\n",
    "                #下面写入的是本人电脑对应文件夹地址，请手动修改\n",
    "                with open('D:\\CuteHand/jr_novels/%s.txt'%book, 'a', encoding='gb18030') as f:\n",
    "                    print(book+':'+title+'-->写入成功！')\n",
    "                    f.write(title+'\\n\\n\\n')\n",
    "                    f.write(chapter+'\\n\\n\\n')\n",
    "            except Exception as e:\n",
    "                print(e) \n",
    "    print('全部写入完毕!')\n",
    "main() #运行主程序函数"
   ]
  }
 ],
 "metadata": {
  "kernelspec": {
   "display_name": "Python 3",
   "language": "python",
   "name": "python3"
  },
  "language_info": {
   "codemirror_mode": {
    "name": "ipython",
    "version": 3
   },
   "file_extension": ".py",
   "mimetype": "text/x-python",
   "name": "python",
   "nbconvert_exporter": "python",
   "pygments_lexer": "ipython3",
   "version": "3.6.6"
  }
 },
 "nbformat": 4,
 "nbformat_minor": 2
}
