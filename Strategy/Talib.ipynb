{
 "cells": [
  {
   "cell_type": "code",
   "execution_count": 1,
   "metadata": {
    "ExecuteTime": {
     "end_time": "2020-07-23T05:31:04.715618Z",
     "start_time": "2020-07-23T05:31:04.154899Z"
    }
   },
   "outputs": [],
   "source": [
    "#先引入后面可能用到的包（package）\n",
    "import pandas as pd  \n",
    "import numpy as np\n",
    "import matplotlib.pyplot as plt\n",
    "%matplotlib inline   \n",
    "\n",
    "#正常显示画图时出现的中文和负号\n",
    "from pylab import mpl\n",
    "mpl.rcParams['font.sans-serif']=['SimHei']\n",
    "mpl.rcParams['axes.unicode_minus']=False"
   ]
  },
  {
   "cell_type": "code",
   "execution_count": 2,
   "metadata": {
    "ExecuteTime": {
     "end_time": "2020-07-23T05:31:17.828142Z",
     "start_time": "2020-07-23T05:31:17.790512Z"
    }
   },
   "outputs": [],
   "source": [
    "#引入TA-Lib库\n",
    "import talib as ta"
   ]
  },
  {
   "cell_type": "code",
   "execution_count": 3,
   "metadata": {
    "ExecuteTime": {
     "end_time": "2020-07-23T05:32:26.845390Z",
     "start_time": "2020-07-23T05:32:26.827961Z"
    }
   },
   "outputs": [
    {
     "data": {
      "text/html": [
       "<div>\n",
       "<style scoped>\n",
       "    .dataframe tbody tr th:only-of-type {\n",
       "        vertical-align: middle;\n",
       "    }\n",
       "\n",
       "    .dataframe tbody tr th {\n",
       "        vertical-align: top;\n",
       "    }\n",
       "\n",
       "    .dataframe thead th {\n",
       "        text-align: right;\n",
       "    }\n",
       "</style>\n",
       "<table border=\"1\" class=\"dataframe\">\n",
       "  <thead>\n",
       "    <tr style=\"text-align: right;\">\n",
       "      <th></th>\n",
       "      <th>Open</th>\n",
       "      <th>High</th>\n",
       "      <th>Low</th>\n",
       "      <th>Close</th>\n",
       "      <th>Volume</th>\n",
       "    </tr>\n",
       "    <tr>\n",
       "      <th>Date</th>\n",
       "      <th></th>\n",
       "      <th></th>\n",
       "      <th></th>\n",
       "      <th></th>\n",
       "      <th></th>\n",
       "    </tr>\n",
       "  </thead>\n",
       "  <tbody>\n",
       "    <tr>\n",
       "      <th>2010-01-01</th>\n",
       "      <td>1.43283</td>\n",
       "      <td>1.43356</td>\n",
       "      <td>1.43181</td>\n",
       "      <td>1.43335</td>\n",
       "      <td>76787.4</td>\n",
       "    </tr>\n",
       "    <tr>\n",
       "      <th>2010-01-03</th>\n",
       "      <td>1.43295</td>\n",
       "      <td>1.43359</td>\n",
       "      <td>1.42910</td>\n",
       "      <td>1.43141</td>\n",
       "      <td>6331.3</td>\n",
       "    </tr>\n",
       "    <tr>\n",
       "      <th>2010-01-04</th>\n",
       "      <td>1.43143</td>\n",
       "      <td>1.44556</td>\n",
       "      <td>1.42559</td>\n",
       "      <td>1.44244</td>\n",
       "      <td>80019.4</td>\n",
       "    </tr>\n",
       "    <tr>\n",
       "      <th>2010-01-05</th>\n",
       "      <td>1.44238</td>\n",
       "      <td>1.44834</td>\n",
       "      <td>1.43445</td>\n",
       "      <td>1.43634</td>\n",
       "      <td>79887.1</td>\n",
       "    </tr>\n",
       "    <tr>\n",
       "      <th>2010-01-06</th>\n",
       "      <td>1.43638</td>\n",
       "      <td>1.44342</td>\n",
       "      <td>1.42807</td>\n",
       "      <td>1.44005</td>\n",
       "      <td>80971.8</td>\n",
       "    </tr>\n",
       "  </tbody>\n",
       "</table>\n",
       "</div>"
      ],
      "text/plain": [
       "               Open     High      Low    Close  Volume \n",
       "Date                                                   \n",
       "2010-01-01  1.43283  1.43356  1.43181  1.43335  76787.4\n",
       "2010-01-03  1.43295  1.43359  1.42910  1.43141   6331.3\n",
       "2010-01-04  1.43143  1.44556  1.42559  1.44244  80019.4\n",
       "2010-01-05  1.44238  1.44834  1.43445  1.43634  79887.1\n",
       "2010-01-06  1.43638  1.44342  1.42807  1.44005  80971.8"
      ]
     },
     "execution_count": 3,
     "metadata": {},
     "output_type": "execute_result"
    }
   ],
   "source": [
    "datapath=r'/Users/nilei/Nutstore/Data/EURUSD_D1.csv'         #macos\n",
    "dt=pd.read_csv(datapath)\n",
    "dt.rename(columns={'Time (UTC)':'Date'},inplace=True)\n",
    "dt.index=pd.to_datetime(dt.Date)\n",
    "dt.drop(columns='Date',inplace=True)\n",
    "dt.head()"
   ]
  },
  {
   "cell_type": "code",
   "execution_count": 7,
   "metadata": {
    "ExecuteTime": {
     "end_time": "2020-07-23T05:34:08.395421Z",
     "start_time": "2020-07-23T05:34:08.377642Z"
    }
   },
   "outputs": [
    {
     "data": {
      "text/html": [
       "<div>\n",
       "<style scoped>\n",
       "    .dataframe tbody tr th:only-of-type {\n",
       "        vertical-align: middle;\n",
       "    }\n",
       "\n",
       "    .dataframe tbody tr th {\n",
       "        vertical-align: top;\n",
       "    }\n",
       "\n",
       "    .dataframe thead th {\n",
       "        text-align: right;\n",
       "    }\n",
       "</style>\n",
       "<table border=\"1\" class=\"dataframe\">\n",
       "  <thead>\n",
       "    <tr style=\"text-align: right;\">\n",
       "      <th></th>\n",
       "      <th>Close</th>\n",
       "      <th>SMA</th>\n",
       "      <th>EMA</th>\n",
       "      <th>WMA</th>\n",
       "      <th>DEMA</th>\n",
       "      <th>TEMA</th>\n",
       "      <th>TRIMA</th>\n",
       "      <th>KAMA</th>\n",
       "      <th>MAMA</th>\n",
       "      <th>T3</th>\n",
       "    </tr>\n",
       "    <tr>\n",
       "      <th>Date</th>\n",
       "      <th></th>\n",
       "      <th></th>\n",
       "      <th></th>\n",
       "      <th></th>\n",
       "      <th></th>\n",
       "      <th></th>\n",
       "      <th></th>\n",
       "      <th></th>\n",
       "      <th></th>\n",
       "      <th></th>\n",
       "    </tr>\n",
       "  </thead>\n",
       "  <tbody>\n",
       "    <tr>\n",
       "      <th>2020-06-26</th>\n",
       "      <td>1.12170</td>\n",
       "      <td>1.125496</td>\n",
       "      <td>1.123447</td>\n",
       "      <td>1.124058</td>\n",
       "      <td>1.122629</td>\n",
       "      <td>1.122213</td>\n",
       "      <td>1.125610</td>\n",
       "      <td>1.123530</td>\n",
       "      <td>1.125545</td>\n",
       "      <td>1.123781</td>\n",
       "    </tr>\n",
       "    <tr>\n",
       "      <th>2020-06-28</th>\n",
       "      <td>1.12219</td>\n",
       "      <td>1.124382</td>\n",
       "      <td>1.123028</td>\n",
       "      <td>1.122956</td>\n",
       "      <td>1.122203</td>\n",
       "      <td>1.121922</td>\n",
       "      <td>1.123576</td>\n",
       "      <td>1.123399</td>\n",
       "      <td>1.123868</td>\n",
       "      <td>1.123385</td>\n",
       "    </tr>\n",
       "    <tr>\n",
       "      <th>2020-06-29</th>\n",
       "      <td>1.12467</td>\n",
       "      <td>1.123068</td>\n",
       "      <td>1.123575</td>\n",
       "      <td>1.123052</td>\n",
       "      <td>1.123390</td>\n",
       "      <td>1.123629</td>\n",
       "      <td>1.122524</td>\n",
       "      <td>1.123583</td>\n",
       "      <td>1.123908</td>\n",
       "      <td>1.123234</td>\n",
       "    </tr>\n",
       "    <tr>\n",
       "      <th>2020-06-30</th>\n",
       "      <td>1.12335</td>\n",
       "      <td>1.122740</td>\n",
       "      <td>1.123500</td>\n",
       "      <td>1.123146</td>\n",
       "      <td>1.123327</td>\n",
       "      <td>1.123494</td>\n",
       "      <td>1.122717</td>\n",
       "      <td>1.123575</td>\n",
       "      <td>1.123880</td>\n",
       "      <td>1.123187</td>\n",
       "    </tr>\n",
       "    <tr>\n",
       "      <th>2020-07-01</th>\n",
       "      <td>1.12511</td>\n",
       "      <td>1.123404</td>\n",
       "      <td>1.124037</td>\n",
       "      <td>1.123936</td>\n",
       "      <td>1.124279</td>\n",
       "      <td>1.124667</td>\n",
       "      <td>1.123544</td>\n",
       "      <td>1.123808</td>\n",
       "      <td>1.124495</td>\n",
       "      <td>1.123388</td>\n",
       "    </tr>\n",
       "  </tbody>\n",
       "</table>\n",
       "</div>"
      ],
      "text/plain": [
       "              Close       SMA       EMA       WMA      DEMA      TEMA  \\\n",
       "Date                                                                    \n",
       "2020-06-26  1.12170  1.125496  1.123447  1.124058  1.122629  1.122213   \n",
       "2020-06-28  1.12219  1.124382  1.123028  1.122956  1.122203  1.121922   \n",
       "2020-06-29  1.12467  1.123068  1.123575  1.123052  1.123390  1.123629   \n",
       "2020-06-30  1.12335  1.122740  1.123500  1.123146  1.123327  1.123494   \n",
       "2020-07-01  1.12511  1.123404  1.124037  1.123936  1.124279  1.124667   \n",
       "\n",
       "               TRIMA      KAMA      MAMA        T3  \n",
       "Date                                                \n",
       "2020-06-26  1.125610  1.123530  1.125545  1.123781  \n",
       "2020-06-28  1.123576  1.123399  1.123868  1.123385  \n",
       "2020-06-29  1.122524  1.123583  1.123908  1.123234  \n",
       "2020-06-30  1.122717  1.123575  1.123880  1.123187  \n",
       "2020-07-01  1.123544  1.123808  1.124495  1.123388  "
      ]
     },
     "execution_count": 7,
     "metadata": {},
     "output_type": "execute_result"
    }
   ],
   "source": [
    "types=['SMA','EMA','WMA','DEMA','TEMA','TRIMA','KAMA','MAMA','T3']\n",
    "dt_ma=pd.DataFrame(dt.Close)\n",
    "for i in range(len(types)):\n",
    "    dt_ma[types[i]]=ta.MA(dt.Close,timeperiod=5,matype=i)\n",
    "dt_ma.tail()"
   ]
  },
  {
   "cell_type": "code",
   "execution_count": 29,
   "metadata": {
    "ExecuteTime": {
     "end_time": "2020-07-23T06:33:29.424044Z",
     "start_time": "2020-07-23T06:33:29.240358Z"
    }
   },
   "outputs": [
    {
     "data": {
      "image/png": "[encoded data removed]",
      "text/plain": [
       "<Figure size 1152x432 with 1 Axes>"
      ]
     },
     "metadata": {
      "needs_background": "light"
     },
     "output_type": "display_data"
    }
   ],
   "source": [
    "dt_ma.loc['2018-08-01':].plot(figsize=(16,6))\n",
    "ax = plt.gca()  \n",
    "ax.spines['right'].set_color('none') \n",
    "ax.spines['top'].set_color('none')   \n",
    "plt.title('EURUSD',fontsize=15)\n",
    "plt.xlabel('')\n",
    "plt.show()"
   ]
  },
  {
   "cell_type": "code",
   "execution_count": null,
   "metadata": {},
   "outputs": [],
   "source": []
  },
  {
   "cell_type": "code",
   "execution_count": null,
   "metadata": {},
   "outputs": [],
   "source": []
  },
  {
   "cell_type": "code",
   "execution_count": 8,
   "metadata": {
    "ExecuteTime": {
     "end_time": "2020-07-23T05:34:42.202981Z",
     "start_time": "2020-07-23T05:34:42.200295Z"
    }
   },
   "outputs": [
    {
     "name": "stdout",
     "output_type": "stream",
     "text": [
      "Help on function MA in module talib._ta_lib:\n",
      "\n",
      "MA(...)\n",
      "    MA(real[, timeperiod=?, matype=?])\n",
      "    \n",
      "    Moving average (Overlap Studies)\n",
      "    \n",
      "    Inputs:\n",
      "        real: (any ndarray)\n",
      "    Parameters:\n",
      "        timeperiod: 30\n",
      "        matype: 0 (Simple Moving Average)\n",
      "    Outputs:\n",
      "        real\n",
      "\n"
     ]
    }
   ],
   "source": [
    "help(ta.MA)"
   ]
  },
  {
   "cell_type": "code",
   "execution_count": 9,
   "metadata": {
    "ExecuteTime": {
     "end_time": "2020-07-23T05:34:58.196551Z",
     "start_time": "2020-07-23T05:34:58.191905Z"
    }
   },
   "outputs": [
    {
     "name": "stdout",
     "output_type": "stream",
     "text": [
      "Help on package talib:\n",
      "\n",
      "NAME\n",
      "    talib\n",
      "\n",
      "PACKAGE CONTENTS\n",
      "    _ta_lib\n",
      "    abstract\n",
      "    deprecated\n",
      "    stream\n",
      "    test_abstract\n",
      "    test_data\n",
      "    test_func\n",
      "    test_pandas\n",
      "    test_stream\n",
      "\n",
      "SUBMODULES\n",
      "    func\n",
      "\n",
      "FUNCTIONS\n",
      "    get_function_groups()\n",
      "        Returns a dict with keys of function-group names and values of lists\n",
      "        of function names ie {'group_names': ['function_names']}\n",
      "    \n",
      "    get_functions()\n",
      "        Returns a list of all the functions supported by TALIB\n",
      "\n",
      "DATA\n",
      "    __TA_FUNCTION_NAMES__ = ['ACOS', 'AD', 'ADD', 'ADOSC', 'ADX', 'ADXR', ...\n",
      "    __all__ = ['get_functions', 'get_function_groups']\n",
      "    __function_groups__ = {'Cycle Indicators': ['HT_DCPERIOD', 'HT_DCPHASE...\n",
      "    __ta_version__ = b'0.4.0 (Oct 16 2019 18:50:42)'\n",
      "\n",
      "VERSION\n",
      "    0.4.18\n",
      "\n",
      "FILE\n",
      "    /opt/anaconda3/lib/python3.7/site-packages/talib/__init__.py\n",
      "\n",
      "\n"
     ]
    }
   ],
   "source": [
    "help(ta)"
   ]
  },
  {
   "cell_type": "code",
   "execution_count": 16,
   "metadata": {
    "ExecuteTime": {
     "end_time": "2020-07-23T05:44:58.621270Z",
     "start_time": "2020-07-23T05:44:58.619072Z"
    }
   },
   "outputs": [
    {
     "name": "stdout",
     "output_type": "stream",
     "text": [
      "Help on function MA in module talib._ta_lib:\n",
      "\n",
      "MA(...)\n",
      "    MA(real[, timeperiod=?, matype=?])\n",
      "    \n",
      "    Moving average (Overlap Studies)\n",
      "    \n",
      "    Inputs:\n",
      "        real: (any ndarray)\n",
      "    Parameters:\n",
      "        timeperiod: 30\n",
      "        matype: 0 (Simple Moving Average)\n",
      "    Outputs:\n",
      "        real\n",
      "\n"
     ]
    }
   ],
   "source": [
    "help(ta.MA)"
   ]
  },
  {
   "cell_type": "code",
   "execution_count": 27,
   "metadata": {
    "ExecuteTime": {
     "end_time": "2020-07-23T06:07:01.068083Z",
     "start_time": "2020-07-23T06:07:01.061579Z"
    }
   },
   "outputs": [
    {
     "name": "stdout",
     "output_type": "stream",
     "text": [
      "Help on dict object:\n",
      "\n",
      "class dict(object)\n",
      " |  dict() -> new empty dictionary\n",
      " |  dict(mapping) -> new dictionary initialized from a mapping object's\n",
      " |      (key, value) pairs\n",
      " |  dict(iterable) -> new dictionary initialized as if via:\n",
      " |      d = {}\n",
      " |      for k, v in iterable:\n",
      " |          d[k] = v\n",
      " |  dict(**kwargs) -> new dictionary initialized with the name=value pairs\n",
      " |      in the keyword argument list.  For example:  dict(one=1, two=2)\n",
      " |  \n",
      " |  Methods defined here:\n",
      " |  \n",
      " |  __contains__(self, key, /)\n",
      " |      True if the dictionary has the specified key, else False.\n",
      " |  \n",
      " |  __delitem__(self, key, /)\n",
      " |      Delete self[key].\n",
      " |  \n",
      " |  __eq__(self, value, /)\n",
      " |      Return self==value.\n",
      " |  \n",
      " |  __ge__(self, value, /)\n",
      " |      Return self>=value.\n",
      " |  \n",
      " |  __getattribute__(self, name, /)\n",
      " |      Return getattr(self, name).\n",
      " |  \n",
      " |  __getitem__(...)\n",
      " |      x.__getitem__(y) <==> x[y]\n",
      " |  \n",
      " |  __gt__(self, value, /)\n",
      " |      Return self>value.\n",
      " |  \n",
      " |  __init__(self, /, *args, **kwargs)\n",
      " |      Initialize self.  See help(type(self)) for accurate signature.\n",
      " |  \n",
      " |  __iter__(self, /)\n",
      " |      Implement iter(self).\n",
      " |  \n",
      " |  __le__(self, value, /)\n",
      " |      Return self<=value.\n",
      " |  \n",
      " |  __len__(self, /)\n",
      " |      Return len(self).\n",
      " |  \n",
      " |  __lt__(self, value, /)\n",
      " |      Return self<value.\n",
      " |  \n",
      " |  __ne__(self, value, /)\n",
      " |      Return self!=value.\n",
      " |  \n",
      " |  __repr__(self, /)\n",
      " |      Return repr(self).\n",
      " |  \n",
      " |  __setitem__(self, key, value, /)\n",
      " |      Set self[key] to value.\n",
      " |  \n",
      " |  __sizeof__(...)\n",
      " |      D.__sizeof__() -> size of D in memory, in bytes\n",
      " |  \n",
      " |  clear(...)\n",
      " |      D.clear() -> None.  Remove all items from D.\n",
      " |  \n",
      " |  copy(...)\n",
      " |      D.copy() -> a shallow copy of D\n",
      " |  \n",
      " |  get(self, key, default=None, /)\n",
      " |      Return the value for key if key is in the dictionary, else default.\n",
      " |  \n",
      " |  items(...)\n",
      " |      D.items() -> a set-like object providing a view on D's items\n",
      " |  \n",
      " |  keys(...)\n",
      " |      D.keys() -> a set-like object providing a view on D's keys\n",
      " |  \n",
      " |  pop(...)\n",
      " |      D.pop(k[,d]) -> v, remove specified key and return the corresponding value.\n",
      " |      If key is not found, d is returned if given, otherwise KeyError is raised\n",
      " |  \n",
      " |  popitem(...)\n",
      " |      D.popitem() -> (k, v), remove and return some (key, value) pair as a\n",
      " |      2-tuple; but raise KeyError if D is empty.\n",
      " |  \n",
      " |  setdefault(self, key, default=None, /)\n",
      " |      Insert key with a value of default if key is not in the dictionary.\n",
      " |      \n",
      " |      Return the value for key if key is in the dictionary, else default.\n",
      " |  \n",
      " |  update(...)\n",
      " |      D.update([E, ]**F) -> None.  Update D from dict/iterable E and F.\n",
      " |      If E is present and has a .keys() method, then does:  for k in E: D[k] = E[k]\n",
      " |      If E is present and lacks a .keys() method, then does:  for k, v in E: D[k] = v\n",
      " |      In either case, this is followed by: for k in F:  D[k] = F[k]\n",
      " |  \n",
      " |  values(...)\n",
      " |      D.values() -> an object providing a view on D's values\n",
      " |  \n",
      " |  ----------------------------------------------------------------------\n",
      " |  Class methods defined here:\n",
      " |  \n",
      " |  fromkeys(iterable, value=None, /) from builtins.type\n",
      " |      Create a new dictionary with keys from iterable and values set to value.\n",
      " |  \n",
      " |  ----------------------------------------------------------------------\n",
      " |  Static methods defined here:\n",
      " |  \n",
      " |  __new__(*args, **kwargs) from builtins.type\n",
      " |      Create and return a new object.  See help(type) for accurate signature.\n",
      " |  \n",
      " |  ----------------------------------------------------------------------\n",
      " |  Data and other attributes defined here:\n",
      " |  \n",
      " |  __hash__ = None\n",
      "\n"
     ]
    }
   ],
   "source": [
    "help(ta.MA.__dict__)"
   ]
  },
  {
   "cell_type": "code",
   "execution_count": 24,
   "metadata": {
    "ExecuteTime": {
     "end_time": "2020-07-23T06:05:31.141164Z",
     "start_time": "2020-07-23T06:05:31.137088Z"
    }
   },
   "outputs": [
    {
     "name": "stdout",
     "output_type": "stream",
     "text": [
      "Help on MA_Type in module talib._ta_lib object:\n",
      "\n",
      "class MA_Type(builtins.object)\n",
      " |  Methods defined here:\n",
      " |  \n",
      " |  __getitem__(self, type_)\n",
      " |  \n",
      " |  __init__(self)\n",
      " |  \n",
      " |  ----------------------------------------------------------------------\n",
      " |  Data descriptors defined here:\n",
      " |  \n",
      " |  __dict__\n",
      " |      dictionary for instance variables (if defined)\n",
      " |  \n",
      " |  __weakref__\n",
      " |      list of weak references to the object (if defined)\n",
      " |  \n",
      " |  ----------------------------------------------------------------------\n",
      " |  Data and other attributes defined here:\n",
      " |  \n",
      " |  DEMA = 3\n",
      " |  \n",
      " |  EMA = 1\n",
      " |  \n",
      " |  KAMA = 6\n",
      " |  \n",
      " |  MAMA = 7\n",
      " |  \n",
      " |  SMA = 0\n",
      " |  \n",
      " |  T3 = 8\n",
      " |  \n",
      " |  TEMA = 4\n",
      " |  \n",
      " |  TRIMA = 5\n",
      " |  \n",
      " |  WMA = 2\n",
      "\n"
     ]
    }
   ],
   "source": [
    "help(ta.MA_Type)"
   ]
  },
  {
   "cell_type": "code",
   "execution_count": null,
   "metadata": {},
   "outputs": [],
   "source": []
  }
 ],
 "metadata": {
  "kernelspec": {
   "display_name": "Python 3",
   "language": "python",
   "name": "python3"
  },
  "language_info": {
   "codemirror_mode": {
    "name": "ipython",
    "version": 3
   },
   "file_extension": ".py",
   "mimetype": "text/x-python",
   "name": "python",
   "nbconvert_exporter": "python",
   "pygments_lexer": "ipython3",
   "version": "3.7.7"
  },
  "toc": {
   "base_numbering": 1,
   "nav_menu": {},
   "number_sections": true,
   "sideBar": true,
   "skip_h1_title": false,
   "title_cell": "Table of Contents",
   "title_sidebar": "Contents",
   "toc_cell": false,
   "toc_position": {},
   "toc_section_display": true,
   "toc_window_display": false
  }
 },
 "nbformat": 4,
 "nbformat_minor": 4
}
