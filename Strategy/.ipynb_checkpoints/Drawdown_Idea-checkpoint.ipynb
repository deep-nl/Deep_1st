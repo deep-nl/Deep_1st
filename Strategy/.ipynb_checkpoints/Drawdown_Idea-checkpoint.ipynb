{
 "cells": [
  {
   "cell_type": "markdown",
   "metadata": {},
   "source": [
    "## 回撤的思考"
   ]
  },
  {
   "cell_type": "markdown",
   "metadata": {},
   "source": [
    "### **怎么定义回撤，是一件比较难的事情：**  \n",
    "\n",
    "1.突破前高，叫一次完整的回撤的完结；  \n",
    "2.在此期间，也就是TimeDrawdown，又会出现新的小回撤，这时候又该如何定义，又该如何操作呢;  \n",
    "3.突破了前高之后也许又会下跌了，这个过程中又如何加减仓位；"
   ]
  },
  {
   "cell_type": "markdown",
   "metadata": {},
   "source": [
    "### **回撤与均线的关系：**  \n",
    "\n",
    "H4 H8到底那个级别更能够指明了方向；  \n",
    "均线可否作为一个参考坐标；"
   ]
  },
  {
   "cell_type": "markdown",
   "metadata": {},
   "source": [
    "### **回撤与ATR的关系：**  \n",
    "\n",
    "一波大回撤能够承受几个日ATR，当然在这之前也要分析下日kATR的意义所在；  "
   ]
  },
  {
   "cell_type": "markdown",
   "metadata": {},
   "source": [
    "对于一波行情，比如2000点的行情，在不考虑回撤的情况下，我们到底应该如何去操作；  \n",
    "比如，我是一手拿到底，赚2000元还是每500点有一次加仓，这非常重要，当然与你给的止损有很大的关系；"
   ]
  },
  {
   "cell_type": "markdown",
   "metadata": {},
   "source": [
    "### **回撤与震旦：**    \n",
    "\n",
    "我们是以回撤为依据来判断方向的，可以选择多空均做，但必须严格止损；要考虑一点，最大的多空回撤区间重叠的时候是否就可以判断行情处于震荡市中，这点值得思考，因为的方向判断准则失灵了；  \n",
    "我目前的想法是多和空都参与，因为我们并不知道它到底是多还是空，但是在某些条件下，比如大级别的金死叉之下，我们选择对可能正确的方向进行加仓，对可能错的方向进行减仓，但是呢，当行情走到一定阶段或者出现反向信号的时候进行反向加减仓；"
   ]
  },
  {
   "cell_type": "code",
   "execution_count": null,
   "metadata": {},
   "outputs": [],
   "source": []
  }
 ],
 "metadata": {
  "kernelspec": {
   "display_name": "Python 3",
   "language": "python",
   "name": "python3"
  },
  "language_info": {
   "codemirror_mode": {
    "name": "ipython",
    "version": 3
   },
   "file_extension": ".py",
   "mimetype": "text/x-python",
   "name": "python",
   "nbconvert_exporter": "python",
   "pygments_lexer": "ipython3",
   "version": "3.7.7"
  },
  "toc": {
   "base_numbering": 1,
   "nav_menu": {},
   "number_sections": true,
   "sideBar": true,
   "skip_h1_title": false,
   "title_cell": "Table of Contents",
   "title_sidebar": "Contents",
   "toc_cell": false,
   "toc_position": {},
   "toc_section_display": true,
   "toc_window_display": false
  }
 },
 "nbformat": 4,
 "nbformat_minor": 4
}
