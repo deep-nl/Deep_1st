{
 "cells": [
  {
   "cell_type": "code",
   "execution_count": 15,
   "metadata": {},
   "outputs": [],
   "source": [
    "import os\n",
    "import sys\n",
    "import psycopg2"
   ]
  },
  {
   "cell_type": "code",
   "execution_count": 16,
   "metadata": {},
   "outputs": [],
   "source": [
    "def connectPostgreSQL():\n",
    "    conn = psycopg2.connect(database=\"currency\", user=\"postgres\", password=\"de\", host=\"127.0.0.1\", port=\"5432\")\n",
    "    print('connect successful!')\n",
    "    cursor=conn.cursor()\n",
    "    cursor.execute('''create table public.member(\n",
    "id integer not null primary key,\n",
    "name varchar(32) not null,\n",
    "password varchar(32) not null,\n",
    "singal varchar(128)\n",
    ")''')\n",
    "    conn.commit()\n",
    "    conn.close()\n",
    "    print('table public.member is created!')"
   ]
  },
  {
   "cell_type": "code",
   "execution_count": 6,
   "metadata": {},
   "outputs": [
    {
     "ename": "SyntaxError",
     "evalue": "Missing parentheses in call to 'print'. Did you mean print('insert records into public.memmber successfully')? (<ipython-input-6-c7efdc7ceea5>, line 14)",
     "output_type": "error",
     "traceback": [
      "\u001b[1;36m  File \u001b[1;32m\"<ipython-input-6-c7efdc7ceea5>\"\u001b[1;36m, line \u001b[1;32m14\u001b[0m\n\u001b[1;33m    print 'insert records into public.memmber successfully'\u001b[0m\n\u001b[1;37m                                                          ^\u001b[0m\n\u001b[1;31mSyntaxError\u001b[0m\u001b[1;31m:\u001b[0m Missing parentheses in call to 'print'. Did you mean print('insert records into public.memmber successfully')?\n"
     ]
    }
   ],
   "source": [
    "def insertOperate():\n",
    "    conn = psycopg2.connect(database=\"currency\", user=\"postgres\", password=\"de\", host=\"127.0.0.1\", port=\"5432\")\n",
    "    cursor=conn.cursor()\n",
    "    cursor.execute(\"insert into public.member(id,name,password,singal)\\\n",
    "values(1,'member0','password0','signal0')\")\n",
    "    cursor.execute(\"insert into public.member(id,name,password,singal)\\\n",
    "values(2,'member1','password1','signal1')\")\n",
    "    cursor.execute(\"insert into public.member(id,name,password,singal)\\\n",
    "values(3,'member2','password2','signal2')\")\n",
    "    cursor.execute(\"insert into public.member(id,name,password,singal)\\\n",
    "values(4,'member3','password3','signal3')\")\n",
    "    conn.commit()\n",
    "    conn.close()\n",
    "    print 'insert records into public.memmber successfully'"
   ]
  },
  {
   "cell_type": "code",
   "execution_count": null,
   "metadata": {},
   "outputs": [],
   "source": [
    "def selectOperate():\n",
    "    conn = psycopg2.connect(database=\"currency\", user=\"postgres\", password=\"de\", host=\"127.0.0.1\", port=\"5432\")\n",
    "    cursor=conn.cursor()\n",
    "    cursor.execute(\"select id,name,password,singal from public.member where id>2\")\n",
    "    rows=cursor.fetchall()\n",
    "    for row in rows:\n",
    "        print 'id=',row[0], ',name=',row[1],',pwd=',row[2],',singal=',row[3],'\\n'\n",
    "    conn.close()"
   ]
  },
  {
   "cell_type": "code",
   "execution_count": null,
   "metadata": {},
   "outputs": [],
   "source": [
    "def updateOperate():\n",
    "    conn = psycopg2.connect(database=\"currency\", user=\"postgres\", password=\"de\", host=\"127.0.0.1\", port=\"5432\")\n",
    "    cursor=conn.cursor()\n",
    "    cursor.execute(\"update public.member set name='update ...' where id=2\")\n",
    "    conn.commit()\n",
    "    print \"Total number of rows updated :\", cursor.rowcount\n",
    "\n",
    "    cursor.execute(\"select id,name,password,singal from public.member\")\n",
    "    rows=cursor.fetchall()\n",
    "    for row in rows:\n",
    "        print 'id=',row[0], ',name=',row[1],',pwd=',row[2],',singal=',row[3],'\\n'\n",
    "    conn.close()"
   ]
  },
  {
   "cell_type": "code",
   "execution_count": null,
   "metadata": {},
   "outputs": [],
   "source": [
    "def deleteOperate():\n",
    "    conn = psycopg2.connect(database=\"currency\", user=\"postgres\", password=\"de\", host=\"127.0.0.1\", port=\"5432\")    \n",
    "    cursor=conn.cursor()\n",
    "\n",
    "    cursor.execute(\"select id,name,password,singal from public.member\")\n",
    "    rows=cursor.fetchall()\n",
    "    for row in rows:\n",
    "        print 'id=',row[0], ',name=',row[1],',pwd=',row[2],',singal=',row[3],'\\n'\n",
    "\n",
    "    print 'begin delete'\n",
    "    cursor.execute(\"delete from public.member where id=2\")\n",
    "    conn.commit()   \n",
    "    print 'end delete'\n",
    "    print \"Total number of rows deleted :\", cursor.rowcount\n",
    "    \n",
    "    cursor.execute(\"select id,name,password,singal from public.member\")\n",
    "    rows=cursor.fetchall()\n",
    "    for row in rows:\n",
    "        print 'id=',row[0], ',name=',row[1],',pwd=',row[2],',singal=',row[3],'\\n'\n",
    "    conn.close()"
   ]
  },
  {
   "cell_type": "code",
   "execution_count": 18,
   "metadata": {},
   "outputs": [
    {
     "name": "stdout",
     "output_type": "stream",
     "text": [
      "connect successful!\n",
      "table public.member is created!\n"
     ]
    }
   ],
   "source": [
    "if __name__=='__main__':\n",
    "    connectPostgreSQL()\n",
    "    #insertOperate()\n",
    "    #selectOperate()\n",
    "    #updateOperate()\n",
    "    #deleteOperate()"
   ]
  },
  {
   "cell_type": "code",
   "execution_count": null,
   "metadata": {},
   "outputs": [],
   "source": []
  }
 ],
 "metadata": {
  "kernelspec": {
   "display_name": "Python 3",
   "language": "python",
   "name": "python3"
  },
  "language_info": {
   "codemirror_mode": {
    "name": "ipython",
    "version": 3
   },
   "file_extension": ".py",
   "mimetype": "text/x-python",
   "name": "python",
   "nbconvert_exporter": "python",
   "pygments_lexer": "ipython3",
   "version": "3.7.7"
  }
 },
 "nbformat": 4,
 "nbformat_minor": 4
}
