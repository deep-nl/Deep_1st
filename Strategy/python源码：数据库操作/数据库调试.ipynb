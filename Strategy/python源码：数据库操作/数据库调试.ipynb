{
 "cells": [
  {
   "cell_type": "code",
   "execution_count": 1,
   "metadata": {
    "execution": {
     "iopub.execute_input": "2020-04-26T04:04:30.817001Z",
     "iopub.status.busy": "2020-04-26T04:04:30.816003Z",
     "iopub.status.idle": "2020-04-26T04:04:30.855870Z",
     "shell.execute_reply": "2020-04-26T04:04:30.855173Z",
     "shell.execute_reply.started": "2020-04-26T04:04:30.817001Z"
    }
   },
   "outputs": [],
   "source": [
    "import os\n",
    "import sys\n",
    "import psycopg2"
   ]
  },
  {
   "cell_type": "code",
   "execution_count": 2,
   "metadata": {
    "execution": {
     "iopub.execute_input": "2020-04-26T04:04:32.286826Z",
     "iopub.status.busy": "2020-04-26T04:04:32.286826Z",
     "iopub.status.idle": "2020-04-26T04:04:32.626349Z",
     "shell.execute_reply": "2020-04-26T04:04:32.625350Z",
     "shell.execute_reply.started": "2020-04-26T04:04:32.286826Z"
    }
   },
   "outputs": [
    {
     "name": "stdout",
     "output_type": "stream",
     "text": [
      "Connect successful!\n"
     ]
    }
   ],
   "source": [
    "def connectPostgresql():\n",
    "    conn=psycopg2.connect(database='currency',user='postgres',password='de',host='127.0.0.1',port='5432')\n",
    "    print('Connect successful!')\n",
    "if __name__=='__main__':\n",
    "    connectPostgresql()"
   ]
  },
  {
   "cell_type": "code",
   "execution_count": 15,
   "metadata": {},
   "outputs": [
    {
     "data": {
      "text/plain": [
       "'D:\\\\jupyter\\\\回测策略\\\\python源码：数据库操作'"
      ]
     },
     "execution_count": 15,
     "metadata": {},
     "output_type": "execute_result"
    }
   ],
   "source": [
    "%pwd"
   ]
  },
  {
   "cell_type": "code",
   "execution_count": 13,
   "metadata": {
    "execution": {
     "iopub.execute_input": "2020-04-26T04:41:30.806841Z",
     "iopub.status.busy": "2020-04-26T04:41:30.806841Z",
     "iopub.status.idle": "2020-04-26T04:41:30.816694Z",
     "shell.execute_reply": "2020-04-26T04:41:30.814654Z",
     "shell.execute_reply.started": "2020-04-26T04:41:30.806841Z"
    }
   },
   "outputs": [
    {
     "name": "stdout",
     "output_type": "stream",
     "text": [
      "win32\n"
     ]
    }
   ],
   "source": [
    "import sys\n",
    "#print(sys.argv[0])\n",
    "#print(sys.argv[1])\n",
    "#print(sys.path)\n",
    "print(sys.platform)"
   ]
  },
  {
   "cell_type": "code",
   "execution_count": 11,
   "metadata": {
    "execution": {
     "iopub.execute_input": "2020-04-26T04:18:33.999045Z",
     "iopub.status.busy": "2020-04-26T04:18:33.999045Z",
     "iopub.status.idle": "2020-04-26T04:18:34.021784Z",
     "shell.execute_reply": "2020-04-26T04:18:34.019402Z",
     "shell.execute_reply.started": "2020-04-26T04:18:33.999045Z"
    }
   },
   "outputs": [
    {
     "ename": "NameError",
     "evalue": "name 'conn' is not defined",
     "output_type": "error",
     "traceback": [
      "\u001b[1;31m---------------------------------------------------------------------------\u001b[0m",
      "\u001b[1;31mNameError\u001b[0m                                 Traceback (most recent call last)",
      "\u001b[1;32m<ipython-input-11-a9b6e7e19d5c>\u001b[0m in \u001b[0;36m<module>\u001b[1;34m\u001b[0m\n\u001b[1;32m----> 1\u001b[1;33m \u001b[0mprint\u001b[0m\u001b[1;33m(\u001b[0m\u001b[0mconn\u001b[0m\u001b[1;33m.\u001b[0m\u001b[0mencoding\u001b[0m\u001b[1;33m)\u001b[0m   \u001b[1;31m#思考下怎么调用cnn\u001b[0m\u001b[1;33m\u001b[0m\u001b[1;33m\u001b[0m\u001b[0m\n\u001b[0m",
      "\u001b[1;31mNameError\u001b[0m: name 'conn' is not defined"
     ]
    }
   ],
   "source": [
    "print(conn.encoding)   #思考下怎么调用cnn"
   ]
  },
  {
   "cell_type": "code",
   "execution_count": null,
   "metadata": {},
   "outputs": [],
   "source": []
  }
 ],
 "metadata": {
  "kernelspec": {
   "display_name": "Python 3",
   "language": "python",
   "name": "python3"
  },
  "language_info": {
   "codemirror_mode": {
    "name": "ipython",
    "version": 3
   },
   "file_extension": ".py",
   "mimetype": "text/x-python",
   "name": "python",
   "nbconvert_exporter": "python",
   "pygments_lexer": "ipython3",
   "version": "3.7.7"
  }
 },
 "nbformat": 4,
 "nbformat_minor": 4
}
