{
 "cells": [
  {
   "cell_type": "code",
   "execution_count": 1,
   "metadata": {
    "execution": {
     "iopub.execute_input": "2020-06-19T11:23:32.017340Z",
     "iopub.status.busy": "2020-06-19T11:23:32.017340Z",
     "iopub.status.idle": "2020-06-19T11:23:32.331460Z",
     "shell.execute_reply": "2020-06-19T11:23:32.330536Z",
     "shell.execute_reply.started": "2020-06-19T11:23:32.017340Z"
    }
   },
   "outputs": [],
   "source": [
    "import pandas as pd"
   ]
  },
  {
   "cell_type": "code",
   "execution_count": 2,
   "metadata": {
    "execution": {
     "iopub.execute_input": "2020-06-19T11:23:52.549046Z",
     "iopub.status.busy": "2020-06-19T11:23:52.549046Z",
     "iopub.status.idle": "2020-06-19T11:23:52.556022Z",
     "shell.execute_reply": "2020-06-19T11:23:52.554666Z",
     "shell.execute_reply.started": "2020-06-19T11:23:52.549046Z"
    }
   },
   "outputs": [],
   "source": [
    "datapath =r'D:\\Nutstore\\Backtrader\\AUDUSD_D1.csv'"
   ]
  },
  {
   "cell_type": "code",
   "execution_count": 3,
   "metadata": {
    "execution": {
     "iopub.execute_input": "2020-06-19T11:24:17.838188Z",
     "iopub.status.busy": "2020-06-19T11:24:17.837190Z",
     "iopub.status.idle": "2020-06-19T11:24:17.861345Z",
     "shell.execute_reply": "2020-06-19T11:24:17.861345Z",
     "shell.execute_reply.started": "2020-06-19T11:24:17.838188Z"
    }
   },
   "outputs": [
    {
     "name": "stdout",
     "output_type": "stream",
     "text": [
      "<class 'pandas.core.frame.DataFrame'>\n",
      "RangeIndex: 3233 entries, 0 to 3232\n",
      "Data columns (total 6 columns):\n",
      " #   Column   Non-Null Count  Dtype  \n",
      "---  ------   --------------  -----  \n",
      " 0   Date     3233 non-null   object \n",
      " 1   Open     3233 non-null   float64\n",
      " 2   High     3233 non-null   float64\n",
      " 3   Low      3233 non-null   float64\n",
      " 4   close    3233 non-null   float64\n",
      " 5   Volume   3233 non-null   float64\n",
      "dtypes: float64(5), object(1)\n",
      "memory usage: 139.0+ KB\n"
     ]
    }
   ],
   "source": [
    "data=pd.read_csv(datapath)\n",
    "data.info()"
   ]
  },
  {
   "cell_type": "code",
   "execution_count": 4,
   "metadata": {
    "execution": {
     "iopub.execute_input": "2020-06-19T11:24:50.731410Z",
     "iopub.status.busy": "2020-06-19T11:24:50.730423Z",
     "iopub.status.idle": "2020-06-19T11:24:50.744374Z",
     "shell.execute_reply": "2020-06-19T11:24:50.742382Z",
     "shell.execute_reply.started": "2020-06-19T11:24:50.731410Z"
    }
   },
   "outputs": [],
   "source": [
    "data.Date=pd.to_datetime(data.Date)"
   ]
  },
  {
   "cell_type": "code",
   "execution_count": 5,
   "metadata": {
    "execution": {
     "iopub.execute_input": "2020-06-19T11:24:56.912859Z",
     "iopub.status.busy": "2020-06-19T11:24:56.911861Z",
     "iopub.status.idle": "2020-06-19T11:24:56.922831Z",
     "shell.execute_reply": "2020-06-19T11:24:56.921834Z",
     "shell.execute_reply.started": "2020-06-19T11:24:56.912859Z"
    }
   },
   "outputs": [
    {
     "name": "stdout",
     "output_type": "stream",
     "text": [
      "<class 'pandas.core.frame.DataFrame'>\n",
      "RangeIndex: 3233 entries, 0 to 3232\n",
      "Data columns (total 6 columns):\n",
      " #   Column   Non-Null Count  Dtype         \n",
      "---  ------   --------------  -----         \n",
      " 0   Date     3233 non-null   datetime64[ns]\n",
      " 1   Open     3233 non-null   float64       \n",
      " 2   High     3233 non-null   float64       \n",
      " 3   Low      3233 non-null   float64       \n",
      " 4   close    3233 non-null   float64       \n",
      " 5   Volume   3233 non-null   float64       \n",
      "dtypes: datetime64[ns](1), float64(5)\n",
      "memory usage: 151.6 KB\n"
     ]
    }
   ],
   "source": [
    "data.info()"
   ]
  },
  {
   "cell_type": "code",
   "execution_count": 6,
   "metadata": {
    "execution": {
     "iopub.execute_input": "2020-06-19T11:25:22.577565Z",
     "iopub.status.busy": "2020-06-19T11:25:22.576565Z",
     "iopub.status.idle": "2020-06-19T11:25:22.653361Z",
     "shell.execute_reply": "2020-06-19T11:25:22.652400Z",
     "shell.execute_reply.started": "2020-06-19T11:25:22.577565Z"
    }
   },
   "outputs": [],
   "source": [
    "data.to_csv(datapath)"
   ]
  },
  {
   "cell_type": "code",
   "execution_count": 7,
   "metadata": {
    "execution": {
     "iopub.execute_input": "2020-06-19T11:25:45.709855Z",
     "iopub.status.busy": "2020-06-19T11:25:45.709855Z",
     "iopub.status.idle": "2020-06-19T11:25:45.736122Z",
     "shell.execute_reply": "2020-06-19T11:25:45.736122Z",
     "shell.execute_reply.started": "2020-06-19T11:25:45.709855Z"
    }
   },
   "outputs": [
    {
     "name": "stdout",
     "output_type": "stream",
     "text": [
      "<class 'pandas.core.frame.DataFrame'>\n",
      "RangeIndex: 3233 entries, 0 to 3232\n",
      "Data columns (total 7 columns):\n",
      " #   Column      Non-Null Count  Dtype  \n",
      "---  ------      --------------  -----  \n",
      " 0   Unnamed: 0  3233 non-null   int64  \n",
      " 1   Date        3233 non-null   object \n",
      " 2   Open        3233 non-null   float64\n",
      " 3   High        3233 non-null   float64\n",
      " 4   Low         3233 non-null   float64\n",
      " 5   close       3233 non-null   float64\n",
      " 6   Volume      3233 non-null   float64\n",
      "dtypes: float64(5), int64(1), object(1)\n",
      "memory usage: 164.2+ KB\n"
     ]
    }
   ],
   "source": [
    "data=pd.read_csv(datapath)\n",
    "data.info()"
   ]
  },
  {
   "cell_type": "code",
   "execution_count": 8,
   "metadata": {
    "execution": {
     "iopub.execute_input": "2020-06-19T11:26:48.635592Z",
     "iopub.status.busy": "2020-06-19T11:26:48.634564Z",
     "iopub.status.idle": "2020-06-19T11:26:48.665481Z",
     "shell.execute_reply": "2020-06-19T11:26:48.665481Z",
     "shell.execute_reply.started": "2020-06-19T11:26:48.635592Z"
    }
   },
   "outputs": [
    {
     "data": {
      "text/html": [
       "<div>\n",
       "<style scoped>\n",
       "    .dataframe tbody tr th:only-of-type {\n",
       "        vertical-align: middle;\n",
       "    }\n",
       "\n",
       "    .dataframe tbody tr th {\n",
       "        vertical-align: top;\n",
       "    }\n",
       "\n",
       "    .dataframe thead th {\n",
       "        text-align: right;\n",
       "    }\n",
       "</style>\n",
       "<table border=\"1\" class=\"dataframe\">\n",
       "  <thead>\n",
       "    <tr style=\"text-align: right;\">\n",
       "      <th></th>\n",
       "      <th>Unnamed: 0</th>\n",
       "      <th>Open</th>\n",
       "      <th>High</th>\n",
       "      <th>Low</th>\n",
       "      <th>close</th>\n",
       "      <th>Volume</th>\n",
       "    </tr>\n",
       "    <tr>\n",
       "      <th>Date</th>\n",
       "      <th></th>\n",
       "      <th></th>\n",
       "      <th></th>\n",
       "      <th></th>\n",
       "      <th></th>\n",
       "      <th></th>\n",
       "    </tr>\n",
       "  </thead>\n",
       "  <tbody>\n",
       "    <tr>\n",
       "      <th>2010-01-01</th>\n",
       "      <td>0</td>\n",
       "      <td>0.89725</td>\n",
       "      <td>0.89745</td>\n",
       "      <td>0.89713</td>\n",
       "      <td>0.89722</td>\n",
       "      <td>72622.26</td>\n",
       "    </tr>\n",
       "    <tr>\n",
       "      <th>2010-01-03</th>\n",
       "      <td>1</td>\n",
       "      <td>0.89823</td>\n",
       "      <td>0.89970</td>\n",
       "      <td>0.89713</td>\n",
       "      <td>0.89713</td>\n",
       "      <td>1303.15</td>\n",
       "    </tr>\n",
       "    <tr>\n",
       "      <th>2010-01-04</th>\n",
       "      <td>2</td>\n",
       "      <td>0.89716</td>\n",
       "      <td>0.91366</td>\n",
       "      <td>0.89379</td>\n",
       "      <td>0.91239</td>\n",
       "      <td>45216.78</td>\n",
       "    </tr>\n",
       "    <tr>\n",
       "      <th>2010-01-05</th>\n",
       "      <td>3</td>\n",
       "      <td>0.91246</td>\n",
       "      <td>0.91737</td>\n",
       "      <td>0.90916</td>\n",
       "      <td>0.91150</td>\n",
       "      <td>52283.22</td>\n",
       "    </tr>\n",
       "    <tr>\n",
       "      <th>2010-01-06</th>\n",
       "      <td>4</td>\n",
       "      <td>0.91156</td>\n",
       "      <td>0.92166</td>\n",
       "      <td>0.90974</td>\n",
       "      <td>0.91992</td>\n",
       "      <td>51910.04</td>\n",
       "    </tr>\n",
       "    <tr>\n",
       "      <th>...</th>\n",
       "      <td>...</td>\n",
       "      <td>...</td>\n",
       "      <td>...</td>\n",
       "      <td>...</td>\n",
       "      <td>...</td>\n",
       "      <td>...</td>\n",
       "    </tr>\n",
       "    <tr>\n",
       "      <th>2020-04-27</th>\n",
       "      <td>3228</td>\n",
       "      <td>0.63971</td>\n",
       "      <td>0.64712</td>\n",
       "      <td>0.63921</td>\n",
       "      <td>0.64491</td>\n",
       "      <td>100837.88</td>\n",
       "    </tr>\n",
       "    <tr>\n",
       "      <th>2020-04-28</th>\n",
       "      <td>3229</td>\n",
       "      <td>0.64492</td>\n",
       "      <td>0.65136</td>\n",
       "      <td>0.64338</td>\n",
       "      <td>0.65019</td>\n",
       "      <td>106634.26</td>\n",
       "    </tr>\n",
       "    <tr>\n",
       "      <th>2020-04-29</th>\n",
       "      <td>3230</td>\n",
       "      <td>0.65019</td>\n",
       "      <td>0.65582</td>\n",
       "      <td>0.65008</td>\n",
       "      <td>0.65540</td>\n",
       "      <td>98251.94</td>\n",
       "    </tr>\n",
       "    <tr>\n",
       "      <th>2020-04-30</th>\n",
       "      <td>3231</td>\n",
       "      <td>0.65538</td>\n",
       "      <td>0.65695</td>\n",
       "      <td>0.64825</td>\n",
       "      <td>0.64941</td>\n",
       "      <td>136794.00</td>\n",
       "    </tr>\n",
       "    <tr>\n",
       "      <th>2020-05-01</th>\n",
       "      <td>3232</td>\n",
       "      <td>0.64943</td>\n",
       "      <td>0.64968</td>\n",
       "      <td>0.64097</td>\n",
       "      <td>0.64149</td>\n",
       "      <td>86768.31</td>\n",
       "    </tr>\n",
       "  </tbody>\n",
       "</table>\n",
       "<p>3233 rows × 6 columns</p>\n",
       "</div>"
      ],
      "text/plain": [
       "            Unnamed: 0     Open     High      Low    close    Volume \n",
       "Date                                                                 \n",
       "2010-01-01           0  0.89725  0.89745  0.89713  0.89722   72622.26\n",
       "2010-01-03           1  0.89823  0.89970  0.89713  0.89713    1303.15\n",
       "2010-01-04           2  0.89716  0.91366  0.89379  0.91239   45216.78\n",
       "2010-01-05           3  0.91246  0.91737  0.90916  0.91150   52283.22\n",
       "2010-01-06           4  0.91156  0.92166  0.90974  0.91992   51910.04\n",
       "...                ...      ...      ...      ...      ...        ...\n",
       "2020-04-27        3228  0.63971  0.64712  0.63921  0.64491  100837.88\n",
       "2020-04-28        3229  0.64492  0.65136  0.64338  0.65019  106634.26\n",
       "2020-04-29        3230  0.65019  0.65582  0.65008  0.65540   98251.94\n",
       "2020-04-30        3231  0.65538  0.65695  0.64825  0.64941  136794.00\n",
       "2020-05-01        3232  0.64943  0.64968  0.64097  0.64149   86768.31\n",
       "\n",
       "[3233 rows x 6 columns]"
      ]
     },
     "execution_count": 8,
     "metadata": {},
     "output_type": "execute_result"
    }
   ],
   "source": [
    "data.set_index('Date')"
   ]
  },
  {
   "cell_type": "code",
   "execution_count": 9,
   "metadata": {
    "execution": {
     "iopub.execute_input": "2020-06-19T11:27:11.900255Z",
     "iopub.status.busy": "2020-06-19T11:27:11.900255Z",
     "iopub.status.idle": "2020-06-19T11:27:11.925133Z",
     "shell.execute_reply": "2020-06-19T11:27:11.925133Z",
     "shell.execute_reply.started": "2020-06-19T11:27:11.900255Z"
    }
   },
   "outputs": [],
   "source": [
    "del data['Unnamed: 0']"
   ]
  },
  {
   "cell_type": "code",
   "execution_count": 10,
   "metadata": {
    "execution": {
     "iopub.execute_input": "2020-06-19T11:27:22.558417Z",
     "iopub.status.busy": "2020-06-19T11:27:22.557420Z",
     "iopub.status.idle": "2020-06-19T11:27:22.579357Z",
     "shell.execute_reply": "2020-06-19T11:27:22.577363Z",
     "shell.execute_reply.started": "2020-06-19T11:27:22.558417Z"
    }
   },
   "outputs": [
    {
     "data": {
      "text/html": [
       "<div>\n",
       "<style scoped>\n",
       "    .dataframe tbody tr th:only-of-type {\n",
       "        vertical-align: middle;\n",
       "    }\n",
       "\n",
       "    .dataframe tbody tr th {\n",
       "        vertical-align: top;\n",
       "    }\n",
       "\n",
       "    .dataframe thead th {\n",
       "        text-align: right;\n",
       "    }\n",
       "</style>\n",
       "<table border=\"1\" class=\"dataframe\">\n",
       "  <thead>\n",
       "    <tr style=\"text-align: right;\">\n",
       "      <th></th>\n",
       "      <th>Date</th>\n",
       "      <th>Open</th>\n",
       "      <th>High</th>\n",
       "      <th>Low</th>\n",
       "      <th>close</th>\n",
       "      <th>Volume</th>\n",
       "    </tr>\n",
       "  </thead>\n",
       "  <tbody>\n",
       "    <tr>\n",
       "      <th>0</th>\n",
       "      <td>2010-01-01</td>\n",
       "      <td>0.89725</td>\n",
       "      <td>0.89745</td>\n",
       "      <td>0.89713</td>\n",
       "      <td>0.89722</td>\n",
       "      <td>72622.26</td>\n",
       "    </tr>\n",
       "    <tr>\n",
       "      <th>1</th>\n",
       "      <td>2010-01-03</td>\n",
       "      <td>0.89823</td>\n",
       "      <td>0.89970</td>\n",
       "      <td>0.89713</td>\n",
       "      <td>0.89713</td>\n",
       "      <td>1303.15</td>\n",
       "    </tr>\n",
       "    <tr>\n",
       "      <th>2</th>\n",
       "      <td>2010-01-04</td>\n",
       "      <td>0.89716</td>\n",
       "      <td>0.91366</td>\n",
       "      <td>0.89379</td>\n",
       "      <td>0.91239</td>\n",
       "      <td>45216.78</td>\n",
       "    </tr>\n",
       "    <tr>\n",
       "      <th>3</th>\n",
       "      <td>2010-01-05</td>\n",
       "      <td>0.91246</td>\n",
       "      <td>0.91737</td>\n",
       "      <td>0.90916</td>\n",
       "      <td>0.91150</td>\n",
       "      <td>52283.22</td>\n",
       "    </tr>\n",
       "    <tr>\n",
       "      <th>4</th>\n",
       "      <td>2010-01-06</td>\n",
       "      <td>0.91156</td>\n",
       "      <td>0.92166</td>\n",
       "      <td>0.90974</td>\n",
       "      <td>0.91992</td>\n",
       "      <td>51910.04</td>\n",
       "    </tr>\n",
       "  </tbody>\n",
       "</table>\n",
       "</div>"
      ],
      "text/plain": [
       "         Date     Open     High      Low    close   Volume \n",
       "0  2010-01-01  0.89725  0.89745  0.89713  0.89722  72622.26\n",
       "1  2010-01-03  0.89823  0.89970  0.89713  0.89713   1303.15\n",
       "2  2010-01-04  0.89716  0.91366  0.89379  0.91239  45216.78\n",
       "3  2010-01-05  0.91246  0.91737  0.90916  0.91150  52283.22\n",
       "4  2010-01-06  0.91156  0.92166  0.90974  0.91992  51910.04"
      ]
     },
     "execution_count": 10,
     "metadata": {},
     "output_type": "execute_result"
    }
   ],
   "source": [
    "data.head()"
   ]
  },
  {
   "cell_type": "code",
   "execution_count": 11,
   "metadata": {
    "execution": {
     "iopub.execute_input": "2020-06-19T11:27:43.329459Z",
     "iopub.status.busy": "2020-06-19T11:27:43.328462Z",
     "iopub.status.idle": "2020-06-19T11:27:43.334481Z",
     "shell.execute_reply": "2020-06-19T11:27:43.333597Z",
     "shell.execute_reply.started": "2020-06-19T11:27:43.329459Z"
    }
   },
   "outputs": [],
   "source": [
    "data.set_index('Date',inplace=True)"
   ]
  },
  {
   "cell_type": "code",
   "execution_count": 12,
   "metadata": {
    "execution": {
     "iopub.execute_input": "2020-06-19T11:27:49.094393Z",
     "iopub.status.busy": "2020-06-19T11:27:49.094393Z",
     "iopub.status.idle": "2020-06-19T11:27:49.109353Z",
     "shell.execute_reply": "2020-06-19T11:27:49.108355Z",
     "shell.execute_reply.started": "2020-06-19T11:27:49.094393Z"
    }
   },
   "outputs": [
    {
     "data": {
      "text/html": [
       "<div>\n",
       "<style scoped>\n",
       "    .dataframe tbody tr th:only-of-type {\n",
       "        vertical-align: middle;\n",
       "    }\n",
       "\n",
       "    .dataframe tbody tr th {\n",
       "        vertical-align: top;\n",
       "    }\n",
       "\n",
       "    .dataframe thead th {\n",
       "        text-align: right;\n",
       "    }\n",
       "</style>\n",
       "<table border=\"1\" class=\"dataframe\">\n",
       "  <thead>\n",
       "    <tr style=\"text-align: right;\">\n",
       "      <th></th>\n",
       "      <th>Open</th>\n",
       "      <th>High</th>\n",
       "      <th>Low</th>\n",
       "      <th>close</th>\n",
       "      <th>Volume</th>\n",
       "    </tr>\n",
       "    <tr>\n",
       "      <th>Date</th>\n",
       "      <th></th>\n",
       "      <th></th>\n",
       "      <th></th>\n",
       "      <th></th>\n",
       "      <th></th>\n",
       "    </tr>\n",
       "  </thead>\n",
       "  <tbody>\n",
       "    <tr>\n",
       "      <th>2010-01-01</th>\n",
       "      <td>0.89725</td>\n",
       "      <td>0.89745</td>\n",
       "      <td>0.89713</td>\n",
       "      <td>0.89722</td>\n",
       "      <td>72622.26</td>\n",
       "    </tr>\n",
       "    <tr>\n",
       "      <th>2010-01-03</th>\n",
       "      <td>0.89823</td>\n",
       "      <td>0.89970</td>\n",
       "      <td>0.89713</td>\n",
       "      <td>0.89713</td>\n",
       "      <td>1303.15</td>\n",
       "    </tr>\n",
       "    <tr>\n",
       "      <th>2010-01-04</th>\n",
       "      <td>0.89716</td>\n",
       "      <td>0.91366</td>\n",
       "      <td>0.89379</td>\n",
       "      <td>0.91239</td>\n",
       "      <td>45216.78</td>\n",
       "    </tr>\n",
       "    <tr>\n",
       "      <th>2010-01-05</th>\n",
       "      <td>0.91246</td>\n",
       "      <td>0.91737</td>\n",
       "      <td>0.90916</td>\n",
       "      <td>0.91150</td>\n",
       "      <td>52283.22</td>\n",
       "    </tr>\n",
       "    <tr>\n",
       "      <th>2010-01-06</th>\n",
       "      <td>0.91156</td>\n",
       "      <td>0.92166</td>\n",
       "      <td>0.90974</td>\n",
       "      <td>0.91992</td>\n",
       "      <td>51910.04</td>\n",
       "    </tr>\n",
       "  </tbody>\n",
       "</table>\n",
       "</div>"
      ],
      "text/plain": [
       "               Open     High      Low    close   Volume \n",
       "Date                                                    \n",
       "2010-01-01  0.89725  0.89745  0.89713  0.89722  72622.26\n",
       "2010-01-03  0.89823  0.89970  0.89713  0.89713   1303.15\n",
       "2010-01-04  0.89716  0.91366  0.89379  0.91239  45216.78\n",
       "2010-01-05  0.91246  0.91737  0.90916  0.91150  52283.22\n",
       "2010-01-06  0.91156  0.92166  0.90974  0.91992  51910.04"
      ]
     },
     "execution_count": 12,
     "metadata": {},
     "output_type": "execute_result"
    }
   ],
   "source": [
    "data.head()"
   ]
  },
  {
   "cell_type": "code",
   "execution_count": 14,
   "metadata": {
    "execution": {
     "iopub.execute_input": "2020-06-19T11:28:42.204931Z",
     "iopub.status.busy": "2020-06-19T11:28:42.204931Z",
     "iopub.status.idle": "2020-06-19T11:28:42.236474Z",
     "shell.execute_reply": "2020-06-19T11:28:42.236474Z",
     "shell.execute_reply.started": "2020-06-19T11:28:42.204931Z"
    }
   },
   "outputs": [],
   "source": [
    "data.to_csv(r'D:\\Nutstore\\Backtrader\\AUDUSD_D.csv')"
   ]
  },
  {
   "cell_type": "code",
   "execution_count": 15,
   "metadata": {
    "execution": {
     "iopub.execute_input": "2020-06-19T11:31:46.033267Z",
     "iopub.status.busy": "2020-06-19T11:31:46.032270Z",
     "iopub.status.idle": "2020-06-19T11:31:46.047736Z",
     "shell.execute_reply": "2020-06-19T11:31:46.046739Z",
     "shell.execute_reply.started": "2020-06-19T11:31:46.033267Z"
    }
   },
   "outputs": [],
   "source": [
    "data1=pd.read_csv(r'D:\\Nutstore\\Backtrader\\AUDUSD_D.csv')"
   ]
  },
  {
   "cell_type": "code",
   "execution_count": 16,
   "metadata": {
    "execution": {
     "iopub.execute_input": "2020-06-19T11:31:55.999522Z",
     "iopub.status.busy": "2020-06-19T11:31:55.998525Z",
     "iopub.status.idle": "2020-06-19T11:31:56.016477Z",
     "shell.execute_reply": "2020-06-19T11:31:56.015481Z",
     "shell.execute_reply.started": "2020-06-19T11:31:55.998525Z"
    }
   },
   "outputs": [
    {
     "data": {
      "text/html": [
       "<div>\n",
       "<style scoped>\n",
       "    .dataframe tbody tr th:only-of-type {\n",
       "        vertical-align: middle;\n",
       "    }\n",
       "\n",
       "    .dataframe tbody tr th {\n",
       "        vertical-align: top;\n",
       "    }\n",
       "\n",
       "    .dataframe thead th {\n",
       "        text-align: right;\n",
       "    }\n",
       "</style>\n",
       "<table border=\"1\" class=\"dataframe\">\n",
       "  <thead>\n",
       "    <tr style=\"text-align: right;\">\n",
       "      <th></th>\n",
       "      <th>Date</th>\n",
       "      <th>Open</th>\n",
       "      <th>High</th>\n",
       "      <th>Low</th>\n",
       "      <th>close</th>\n",
       "      <th>Volume</th>\n",
       "    </tr>\n",
       "  </thead>\n",
       "  <tbody>\n",
       "    <tr>\n",
       "      <th>0</th>\n",
       "      <td>2010-01-01</td>\n",
       "      <td>0.89725</td>\n",
       "      <td>0.89745</td>\n",
       "      <td>0.89713</td>\n",
       "      <td>0.89722</td>\n",
       "      <td>72622.26</td>\n",
       "    </tr>\n",
       "    <tr>\n",
       "      <th>1</th>\n",
       "      <td>2010-01-03</td>\n",
       "      <td>0.89823</td>\n",
       "      <td>0.89970</td>\n",
       "      <td>0.89713</td>\n",
       "      <td>0.89713</td>\n",
       "      <td>1303.15</td>\n",
       "    </tr>\n",
       "    <tr>\n",
       "      <th>2</th>\n",
       "      <td>2010-01-04</td>\n",
       "      <td>0.89716</td>\n",
       "      <td>0.91366</td>\n",
       "      <td>0.89379</td>\n",
       "      <td>0.91239</td>\n",
       "      <td>45216.78</td>\n",
       "    </tr>\n",
       "    <tr>\n",
       "      <th>3</th>\n",
       "      <td>2010-01-05</td>\n",
       "      <td>0.91246</td>\n",
       "      <td>0.91737</td>\n",
       "      <td>0.90916</td>\n",
       "      <td>0.91150</td>\n",
       "      <td>52283.22</td>\n",
       "    </tr>\n",
       "    <tr>\n",
       "      <th>4</th>\n",
       "      <td>2010-01-06</td>\n",
       "      <td>0.91156</td>\n",
       "      <td>0.92166</td>\n",
       "      <td>0.90974</td>\n",
       "      <td>0.91992</td>\n",
       "      <td>51910.04</td>\n",
       "    </tr>\n",
       "  </tbody>\n",
       "</table>\n",
       "</div>"
      ],
      "text/plain": [
       "         Date     Open     High      Low    close   Volume \n",
       "0  2010-01-01  0.89725  0.89745  0.89713  0.89722  72622.26\n",
       "1  2010-01-03  0.89823  0.89970  0.89713  0.89713   1303.15\n",
       "2  2010-01-04  0.89716  0.91366  0.89379  0.91239  45216.78\n",
       "3  2010-01-05  0.91246  0.91737  0.90916  0.91150  52283.22\n",
       "4  2010-01-06  0.91156  0.92166  0.90974  0.91992  51910.04"
      ]
     },
     "execution_count": 16,
     "metadata": {},
     "output_type": "execute_result"
    }
   ],
   "source": [
    "data1.head()"
   ]
  },
  {
   "cell_type": "code",
   "execution_count": null,
   "metadata": {},
   "outputs": [],
   "source": []
  }
 ],
 "metadata": {
  "kernelspec": {
   "display_name": "Python 3",
   "language": "python",
   "name": "python3"
  },
  "language_info": {
   "codemirror_mode": {
    "name": "ipython",
    "version": 3
   },
   "file_extension": ".py",
   "mimetype": "text/x-python",
   "name": "python",
   "nbconvert_exporter": "python",
   "pygments_lexer": "ipython3",
   "version": "3.7.7"
  }
 },
 "nbformat": 4,
 "nbformat_minor": 4
}
